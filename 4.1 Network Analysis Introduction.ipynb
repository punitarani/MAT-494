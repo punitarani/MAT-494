{
 "cells": [
  {
   "cell_type": "markdown",
   "source": [
    "<a href=\"https://colab.research.google.com/github/punitarani/MAT-494/blob/master/4.1%20Network%20Analysis%20Introduction.ipynb\" target=\"_parent\"><img src=\"https://colab.research.google.com/assets/colab-badge.svg\" alt=\"Open In Colab\"/></a>"
   ],
   "metadata": {
    "collapsed": false
   }
  },
  {
   "cell_type": "markdown",
   "source": [
    "# 4.1 Network Analysis Introduction\n",
    "\n",
    "Key Concepts:\n",
    "\n",
    "- Graph Models\n",
    "- Laplacian Matrix\n",
    "\n",
    "A **Network** structure is a collection of objects (nodes) and the relationships between them (edges).\n",
    "\n",
    "A **Cluster** (Community) is a group of nodes that are more densely connected to each other than to the rest of the network.\n",
    "Clusters are essential to gain a spatio-temporal understanding of large datasets from networks.\n",
    "\n",
    "This section will introduce the foundations of network analysis and spectral clustering analysis."
   ],
   "metadata": {
    "collapsed": false
   }
  },
  {
   "cell_type": "markdown",
   "source": [
    "## Graph Models\n",
    "\n",
    "A **Graph** is a mathematical structure that consists of a set of nodes and a set of edges that connect the nodes.\n",
    "It is represented as a pair of sets $G = (V, E)$, where $V$ is the set of nodes and $E$ is the set of edges.\n",
    "\n",
    "A **Directed Graph** is a graph where the edges have a direction.\n",
    "Conversely, An **Undirected Graph** is a graph where the edges do not have a direction.\n",
    "A **Weighted Graph** is a graph where the edges have a weight.\n",
    "**Mixed Graphs** are graphs that contain both directed and undirected edges along with weighted and unweighted edges.\n",
    "\n",
    "### Graph Features\n",
    "\n",
    "- A **Path** is a sequence of nodes that are connected by edges.\n",
    "- A **Cycle** is a path that starts and ends at the same node.\n",
    "\n",
    "- A **Tree** is a graph that has no cycles.\n",
    "- A **Forest** is a graph that has no cycles and is connected.\n",
    "- A **Spanning Tree** is a tree that contains all the nodes in the graph.\n",
    "- A **Spanning Forest** is a forest that contains all the nodes in the graph.\n",
    "\n",
    "- An **n-hop neighborhood** of a node is the set of nodes that are at most $n$ hops away from the node.\n",
    "- The **degree** of a node is the number of edges that are connected to the node.\n",
    "\n",
    "### Graph Models for Social Networks\n",
    "\n",
    "Social Networks are best represented as **Graphs** where the nodes are the users and the edges are the relationships between the users.\n",
    "\n",
    "#### Example of Social Networks\n",
    "\n",
    "- Facebook\n",
    "  - Nodes: Users\n",
    "  - Edges: Friendship\n",
    "  - Degree: Number of friends\n",
    "- Twitter\n",
    "  - In-degree: Number of followers\n",
    "  - Out-degree: Number of following"
   ],
   "metadata": {
    "collapsed": false
   }
  },
  {
   "cell_type": "markdown",
   "source": [
    "## Laplacian Matrix\n",
    "\n",
    "A graph with $n$ nodes can be represented as an $n \\times n$ matrix $A$ where $A_{ij} = 1$ if there is an edge between nodes $i$ and $j$, otherwise $A_{ij} = 0$.\n",
    "\n",
    "- $A$ is called the **Adjacency Matrix**.\n",
    "- If A is a **Directed Graph**, then $A_{ij} = 1$ if there is an edge from node $i$ to node $j$, otherwise $A_{ij} = 0$.\n",
    "- If A is an **Undirected Graph**, then $A_{ij} = A_{ji}$ and it is **Symmetric** ($A = A^T$)\n",
    "- If A is a **Weighted Graph**, then $A_{ij}$ is the weight of the edge between nodes $i$ and $j$. Also follows the same rules as above.\n",
    "\n",
    "The **Laplacian Matrix** is a matrix that is used to represent the connectivity of a graph.\n",
    "\n",
    "The Laplacian Matrix $L$ of a Graph $G$ is defined as:\n",
    "\n",
    "$L_{ij} = \\begin{cases} \\Sigma_{k} E_{ik}, \\text{if } i = j, \\\\ -E_{ij}, \\text{if } i \\neq j \\text{and } v_i \\text{is adjacent to  } v_j, \\\\ 0, & \\text{otherwise.} \\end{cases}$\n",
    "\n",
    "### Incidence Matrix\n",
    "\n",
    "An **Incidence Matrix** is a matrix that is used to represent the connectivity of a graph.\n",
    "It represents the edges of a graph as columns and the nodes of a graph as rows."
   ],
   "metadata": {
    "collapsed": false
   }
  }
 ],
 "metadata": {
  "kernelspec": {
   "display_name": "Python 3",
   "language": "python",
   "name": "python3"
  },
  "language_info": {
   "codemirror_mode": {
    "name": "ipython",
    "version": 2
   },
   "file_extension": ".py",
   "mimetype": "text/x-python",
   "name": "python",
   "nbconvert_exporter": "python",
   "pygments_lexer": "ipython2",
   "version": "2.7.6"
  }
 },
 "nbformat": 4,
 "nbformat_minor": 0
}
