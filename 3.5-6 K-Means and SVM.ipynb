{
 "cells": [
  {
   "cell_type": "markdown",
   "source": [
    "<a href=\"https://colab.research.google.com/github/punitarani/MAT-494/blob/master/3.5-6%20K-Means%20and%20SVM.ipynb\" target=\"_parent\"><img src=\"https://colab.research.google.com/assets/colab-badge.svg\" alt=\"Open In Colab\"/></a>\n"
   ],
   "metadata": {
    "collapsed": false
   }
  },
  {
   "cell_type": "markdown",
   "source": [
    "# 3.5-6 K-Means and Support Vector Machine"
   ],
   "metadata": {
    "collapsed": false
   }
  },
  {
   "cell_type": "markdown",
   "source": [
    "## K-Means\n",
    "\n",
    "K-Means is an unsupervised learning algorithm that is used to cluster data.\n",
    "\n",
    "Within-Cluster Sum of Squares (WCSS)\n",
    "$\\text{WCSS}_i = \\sum_{x \\in S_i} {\\left\\| x_i - \\mu_j \\right\\|^2}$\n",
    "\n",
    "The algorithm is defined as:\n",
    "\n",
    "1. Initialize $k$ centroids $\\mu_1, \\dots, \\mu_k \\in \\mathbb{R}^d$\n",
    "2. Repeat until convergence:\n",
    "    1. Assign each sample $x_i$ to the closest centroid $\\mu_j$:\n",
    "        $j = \\arg \\min \\sum_{i=1}^{k}{WCSS}$\n",
    "    2. Update the centroids:\n",
    "        $\\mu(S) = \\frac{1}{|S|} \\sum_{x \\in S} x$\n",
    "\n",
    "where:\n",
    "- $k$ is the number of clusters\n",
    "- $n$ is the number of features\n",
    "- $x_i$ is the $i$-th sample\n",
    "- $\\mu_j$ is the $j$-th centroid\n",
    "- $S$ is the set of samples assigned to the $j$-th cluster\n",
    "\n",
    "K-Means converges by $\\sum_{i=1}^{k}{WCSS}$ monotonically decreasing in each iteration.\n"
   ],
   "metadata": {
    "collapsed": false
   }
  }
 ],
 "metadata": {
  "kernelspec": {
   "display_name": "Python 3",
   "language": "python",
   "name": "python3"
  },
  "language_info": {
   "codemirror_mode": {
    "name": "ipython",
    "version": 2
   },
   "file_extension": ".py",
   "mimetype": "text/x-python",
   "name": "python",
   "nbconvert_exporter": "python",
   "pygments_lexer": "ipython2",
   "version": "2.7.6"
  }
 },
 "nbformat": 4,
 "nbformat_minor": 0
}
