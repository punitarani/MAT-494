{
 "cells": [
  {
   "cell_type": "markdown",
   "metadata": {
    "pycharm": {
     "name": "#%% md\n"
    }
   },
   "source": [
    "# 1.4. Principal Component Analysis\n",
    "_________________________________\n",
    "**Used for dimensionality reduction**\n",
    "\n",
    "### Key Concepts:\n",
    "* Singular Value Decomposition\n",
    "* Low-Rank Matrix Approximations\n",
    "* Principal Component Analysis"
   ]
  },
  {
   "cell_type": "code",
   "execution_count": 1,
   "metadata": {
    "pycharm": {
     "name": "#%%\n"
    }
   },
   "outputs": [],
   "source": [
    "import numpy as np\n",
    "from IPython.display import display, Image"
   ]
  },
  {
   "cell_type": "markdown",
   "metadata": {
    "pycharm": {
     "name": "#%% md\n"
    }
   },
   "source": [
    "#### Global Variables"
   ]
  },
  {
   "cell_type": "code",
   "execution_count": 2,
   "metadata": {
    "pycharm": {
     "name": "#%%\n"
    }
   },
   "outputs": [
    {
     "name": "stdout",
     "output_type": "stream",
     "text": [
      "Random 4x5 Matrix A:\n",
      "[[84 97 94 91 41]\n",
      " [10 99 20 70 27]\n",
      " [22 51  7 35 82]\n",
      " [73 47 70 84  9]]\n"
     ]
    }
   ],
   "source": [
    "# Generate a random mxn matrix\n",
    "m = 4\n",
    "n = 5\n",
    "A = np.random.randint(100, size=(m, n))\n",
    "\n",
    "print(f\"Random {m}x{n} Matrix A:\")\n",
    "print(A)"
   ]
  },
  {
   "cell_type": "markdown",
   "metadata": {
    "pycharm": {
     "name": "#%% md\n"
    }
   },
   "source": [
    "## Singular Value Decomposition\n",
    "\n",
    "Eigendecomposition can only be done for Square matrices.\n",
    "Singular Value Decomposition (**SVD**) can be used to decompose every matrix, regardless of shape,\n",
    "or if the eigenvalues are complex or if the eigenvectors are not orthogonal.\n",
    "\n",
    "SVD Model:\n",
    "$ A = U \\Sigma V ^T $\n",
    "\n",
    "where:\n",
    "* $A$: is the Input Matrix. Also referred to using $M$.\n",
    "* $U$: is an Orthogonal Matrix.\n",
    "* $\\Sigma$: is a Diagonal Matrix. Also referred to using $D$.\n",
    "* $V$: is an Orthogonal Matrix.\n"
   ]
  },
  {
   "cell_type": "code",
   "execution_count": 3,
   "metadata": {
    "pycharm": {
     "name": "#%%\n"
    }
   },
   "outputs": [
    {
     "data": {
      "text/html": [
       "<img src=\"https://upload.wikimedia.org/wikipedia/commons/thumb/c/c8/Singular_value_decomposition_visualisation.svg/1024px-Singular_value_decomposition_visualisation.svg.png\" width=\"300\" class=\"unconfined\"/>"
      ],
      "text/plain": [
       "<IPython.core.display.Image object>"
      ]
     },
     "metadata": {},
     "output_type": "display_data"
    }
   ],
   "source": [
    "# Singular Value Decomposition Visualization\n",
    "display(Image(url=\"https://upload.wikimedia.org/wikipedia/commons/thumb/c/c8/Singular_value_decomposition_visualisation.svg/1024px-Singular_value_decomposition_visualisation.svg.png\", width=300, unconfined=True))"
   ]
  },
  {
   "cell_type": "code",
   "execution_count": 4,
   "metadata": {
    "pycharm": {
     "name": "#%%\n"
    }
   },
   "outputs": [],
   "source": [
    "def svd(A: np.ndarray):\n",
    "    \"\"\"\n",
    "    Singular Value Decomposition\n",
    "    :param A: Matrix A\n",
    "    :return: (U, D, V)\n",
    "    \"\"\"\n",
    "    At = A.transpose()\n",
    "\n",
    "    # Compute the Eigenvalues and Eigenvectors of AAt\n",
    "    L, U = np.linalg.eig(np.dot(A, At))\n",
    "    # U is the matrix of eigenvectors\n",
    "\n",
    "    # D is the squareroot of eigenvalues\n",
    "    D = np.sqrt(L)\n",
    "    # Remove 0 elements\n",
    "    D = D[D != 0]\n",
    "    # Sort\n",
    "    D[::-1].sort()\n",
    "\n",
    "    # Compute the Eigenvalues and Eigenvectors of AtA\n",
    "    _, V = np.linalg.eig(np.dot(At, A))\n",
    "\n",
    "    return U, D, V"
   ]
  },
  {
   "cell_type": "code",
   "execution_count": 5,
   "metadata": {
    "pycharm": {
     "name": "#%%\n"
    }
   },
   "outputs": [
    {
     "name": "stdout",
     "output_type": "stream",
     "text": [
      "Orthogonal Matrix U:\n",
      "[[ 0.69814187  0.21918453 -0.66725473  0.13902224]\n",
      " [ 0.42082704 -0.47109243  0.12619556 -0.7648864 ]\n",
      " [ 0.30060372 -0.68676929  0.21903929  0.62450552]\n",
      " [ 0.49511607  0.50830897  0.70061943  0.0749298 ]]\n",
      "\n",
      "Diagonal Matrix D:  \n",
      "[266.75333316  86.46820069  53.31660005  19.34553381]\n",
      "\n",
      "Orthogonal Matrix V:\n",
      "[[-0.39590487 -0.4128478   0.43584927 -0.69220812  0.06082235]\n",
      " [-0.55475552  0.42225886 -0.50391649 -0.28877342 -0.42026403]\n",
      " [-0.41538086 -0.48521583  0.13854948  0.5705056  -0.49734469]\n",
      " [-0.54394703 -0.06511469 -0.23893548  0.26595559  0.75634593]\n",
      " [-0.25900969  0.64154487  0.69268858  0.20309803  0.01636721]]\n",
      "\n"
     ]
    }
   ],
   "source": [
    "UA, DA, VA = svd(A)\n",
    "\n",
    "print(f\"Orthogonal Matrix U:\\n{UA}\\n\")\n",
    "print(f\"Diagonal Matrix D:  \\n{DA}\\n\")\n",
    "print(f\"Orthogonal Matrix V:\\n{VA}\\n\")"
   ]
  },
  {
   "cell_type": "markdown",
   "metadata": {
    "pycharm": {
     "name": "#%% md\n"
    }
   },
   "source": [
    "### Verify with np.linalg.svg"
   ]
  },
  {
   "cell_type": "code",
   "execution_count": 6,
   "metadata": {
    "pycharm": {
     "name": "#%%\n"
    }
   },
   "outputs": [
    {
     "name": "stdout",
     "output_type": "stream",
     "text": [
      "Orthogonal Matrix U:\n",
      "[[ 0.69814187  0.21918453 -0.13902224 -0.66725473]\n",
      " [ 0.42082704 -0.47109243  0.7648864   0.12619556]\n",
      " [ 0.30060372 -0.68676929 -0.62450552  0.21903929]\n",
      " [ 0.49511607  0.50830897 -0.0749298   0.70061943]]\n",
      "\n",
      "Diagonal Matrix D:  \n",
      "[266.75333316  86.46820069  53.31660005  19.34553381]\n",
      "\n",
      "Orthogonal Matrix V:\n",
      "[[ 0.39590487  0.55475552  0.41538086  0.54394703  0.25900969]\n",
      " [ 0.4128478  -0.42225886  0.48521583  0.06511469 -0.64154487]\n",
      " [-0.43584927  0.50391649 -0.13854948  0.23893548 -0.69268858]\n",
      " [ 0.06082235 -0.42026403 -0.49734469  0.75634593  0.01636721]\n",
      " [-0.69220812 -0.28877342  0.5705056   0.26595559  0.20309803]]\n",
      "\n"
     ]
    }
   ],
   "source": [
    "UA, DA, VA = np.linalg.svd(A)\n",
    "\n",
    "print(f\"Orthogonal Matrix U:\\n{UA}\\n\")\n",
    "print(f\"Diagonal Matrix D:  \\n{DA}\\n\")\n",
    "print(f\"Orthogonal Matrix V:\\n{VA}\\n\")"
   ]
  },
  {
   "cell_type": "markdown",
   "metadata": {
    "pycharm": {
     "name": "#%% md\n"
    }
   },
   "source": [
    "### Performance comparison"
   ]
  },
  {
   "cell_type": "code",
   "execution_count": 7,
   "metadata": {
    "pycharm": {
     "name": "#%%\n"
    }
   },
   "outputs": [
    {
     "name": "stdout",
     "output_type": "stream",
     "text": [
      "78.1 µs ± 13.8 µs per loop (mean ± std. dev. of 7 runs, 100 loops each)\n"
     ]
    }
   ],
   "source": [
    "%%timeit -n 100\n",
    "svd(A)"
   ]
  },
  {
   "cell_type": "code",
   "execution_count": 8,
   "metadata": {
    "pycharm": {
     "name": "#%%\n"
    }
   },
   "outputs": [
    {
     "name": "stdout",
     "output_type": "stream",
     "text": [
      "21.2 µs ± 7.59 µs per loop (mean ± std. dev. of 7 runs, 100 loops each)\n"
     ]
    }
   ],
   "source": [
    "%%timeit -n 100\n",
    "np.linalg.svd(A)"
   ]
  },
  {
   "cell_type": "markdown",
   "metadata": {
    "pycharm": {
     "name": "#%% md\n"
    }
   },
   "source": [
    "**np.linalg.svd is ~4x faster than the custom svd implementation.**"
   ]
  }
 ],
 "metadata": {
  "kernelspec": {
   "display_name": "Python 3 (ipykernel)",
   "language": "python",
   "name": "python3"
  },
  "language_info": {
   "codemirror_mode": {
    "name": "ipython",
    "version": 3
   },
   "file_extension": ".py",
   "mimetype": "text/x-python",
   "name": "python",
   "nbconvert_exporter": "python",
   "pygments_lexer": "ipython3",
   "version": "3.10.5"
  }
 },
 "nbformat": 4,
 "nbformat_minor": 1
}