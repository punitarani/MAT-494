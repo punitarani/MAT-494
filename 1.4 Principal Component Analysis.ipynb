{
 "cells": [
  {
   "cell_type": "markdown",
   "metadata": {
    "pycharm": {
     "name": "#%% md\n"
    }
   },
   "source": [
    "# 1.4. Principal Component Analysis\n",
    "_________________________________\n",
    "**Used for dimensionality reduction**\n",
    "\n",
    "### Key Concepts:\n",
    "* Singular Value Decomposition\n",
    "* Low-Rank Matrix Approximations\n",
    "* Principal Component Analysis"
   ]
  },
  {
   "cell_type": "code",
   "execution_count": 1,
   "metadata": {
    "pycharm": {
     "name": "#%%\n"
    }
   },
   "outputs": [],
   "source": [
    "import numpy as np\n",
    "from IPython.display import Image"
   ]
  },
  {
   "cell_type": "markdown",
   "metadata": {
    "pycharm": {
     "name": "#%% md\n"
    }
   },
   "source": [
    "#### Global Variables"
   ]
  },
  {
   "cell_type": "code",
   "execution_count": 2,
   "metadata": {
    "pycharm": {
     "name": "#%%\n"
    }
   },
   "outputs": [
    {
     "name": "stdout",
     "output_type": "stream",
     "text": [
      "Random 4x5 Matrix A:\n",
      "[[ 1  7 56 29 44]\n",
      " [84 20 91 32 87]\n",
      " [80 33 23  4 97]\n",
      " [78 63 90 11 84]]\n"
     ]
    }
   ],
   "source": [
    "# Generate a random mxn matrix\n",
    "m = 4\n",
    "n = 5\n",
    "A = np.random.randint(100, size=(m, n))\n",
    "\n",
    "print(f\"Random {m}x{n} Matrix A:\")\n",
    "print(A)"
   ]
  },
  {
   "cell_type": "markdown",
   "metadata": {
    "pycharm": {
     "name": "#%% md\n"
    }
   },
   "source": [
    "## Singular Value Decomposition\n",
    "\n",
    "Eigendecomposition can only be done for Square matrices.\n",
    "Singular Value Decomposition (**SVD**) can be used to decompose every matrix, regardless of shape,\n",
    "or if the eigenvalues are complex or if the eigenvectors are not orthogonal.\n",
    "\n",
    "SVD Model:\n",
    "$ A = U \\Sigma V ^T $\n",
    "\n",
    "where:\n",
    "* $A$: is the Input Matrix. Also referred to using $M$.\n",
    "* $U$: is an Orthogonal Matrix.\n",
    "* $\\Sigma$: is a Diagonal Matrix. Also referred to using $D$.\n",
    "* $V$: is an Orthogonal Matrix.\n"
   ]
  },
  {
   "cell_type": "code",
   "execution_count": 3,
   "metadata": {
    "pycharm": {
     "name": "#%%\n"
    }
   },
   "outputs": [
    {
     "data": {
      "text/html": [
       "<img src=\"https://upload.wikimedia.org/wikipedia/commons/thumb/c/c8/Singular_value_decomposition_visualisation.svg/1024px-Singular_value_decomposition_visualisation.svg.png\" height=\"175\"/>"
      ],
      "text/plain": [
       "<IPython.core.display.Image object>"
      ]
     },
     "execution_count": 3,
     "metadata": {},
     "output_type": "execute_result"
    }
   ],
   "source": [
    "# Singular Value Decomposition Visualization\n",
    "Image(url=\"https://upload.wikimedia.org/wikipedia/commons/thumb/c/c8/Singular_value_decomposition_visualisation.svg/1024px-Singular_value_decomposition_visualisation.svg.png\", height=175)"
   ]
  },
  {
   "cell_type": "code",
   "execution_count": 4,
   "metadata": {
    "pycharm": {
     "name": "#%%\n"
    }
   },
   "outputs": [],
   "source": [
    "def svd(A: np.ndarray):\n",
    "    \"\"\"\n",
    "    Singular Value Decomposition\n",
    "    :param A: Matrix A\n",
    "    :return: (U, D, V)\n",
    "    \"\"\"\n",
    "    At = A.transpose()\n",
    "\n",
    "    # Compute the Eigenvalues and Eigenvectors of AAt\n",
    "    L, U = np.linalg.eig(np.dot(A, At))\n",
    "    # U is the matrix of eigenvectors\n",
    "\n",
    "    # D is the squareroot of eigenvalues\n",
    "    D = np.sqrt(L)\n",
    "    # Remove 0 elements\n",
    "    D = D[D != 0]\n",
    "    # Sort\n",
    "    D[::-1].sort()\n",
    "\n",
    "    # Compute the Eigenvalues and Eigenvectors of AtA\n",
    "    _, V = np.linalg.eig(np.dot(At, A))\n",
    "\n",
    "    return U, D, V"
   ]
  },
  {
   "cell_type": "code",
   "execution_count": 5,
   "metadata": {
    "pycharm": {
     "name": "#%%\n"
    }
   },
   "outputs": [
    {
     "name": "stdout",
     "output_type": "stream",
     "text": [
      "Orthogonal Matrix U:\n",
      "[[ 0.23977918  0.63156756  0.64293134 -0.3609261 ]\n",
      " [ 0.59382623  0.25356739 -0.67303466 -0.36069148]\n",
      " [ 0.47311447 -0.72922924  0.33668698 -0.36197968]\n",
      " [ 0.60501162  0.07106836  0.14249742  0.78013122]]\n",
      "\n",
      "Diagonal Matrix D:  \n",
      "[258.60998183  64.63405842  36.5922661   25.89057453]\n",
      "\n",
      "Orthogonal Matrix V:\n",
      "[[-0.52264512 -0.47751572 -0.15090458  0.68913968 -0.03369155]\n",
      " [-0.26017359 -0.15618604 -0.39991233 -0.42980252 -0.75050353]\n",
      " [-0.51350879  0.74366823  0.30359556  0.180507   -0.24189511]\n",
      " [-0.13341953  0.37587692 -0.82198367 -0.00085435  0.40651923]\n",
      " [-0.61454026 -0.23077862  0.22241969 -0.55477273  0.46025884]]\n",
      "\n"
     ]
    }
   ],
   "source": [
    "UA, DA, VA = svd(A)\n",
    "\n",
    "print(f\"Orthogonal Matrix U:\\n{UA}\\n\")\n",
    "print(f\"Diagonal Matrix D:  \\n{DA}\\n\")\n",
    "print(f\"Orthogonal Matrix V:\\n{VA}\\n\")"
   ]
  },
  {
   "cell_type": "markdown",
   "metadata": {
    "pycharm": {
     "name": "#%% md\n"
    }
   },
   "source": [
    "### Verify with np.linalg.svg"
   ]
  },
  {
   "cell_type": "code",
   "execution_count": 6,
   "metadata": {
    "pycharm": {
     "name": "#%%\n"
    }
   },
   "outputs": [
    {
     "name": "stdout",
     "output_type": "stream",
     "text": [
      "Orthogonal Matrix U:\n",
      "[[-0.23977918 -0.63156756  0.3609261  -0.64293134]\n",
      " [-0.59382623 -0.25356739  0.36069148  0.67303466]\n",
      " [-0.47311447  0.72922924  0.36197968 -0.33668698]\n",
      " [-0.60501162 -0.07106836 -0.78013122 -0.14249742]]\n",
      "\n",
      "Diagonal Matrix D:  \n",
      "[258.60998183  64.63405842  36.5922661   25.89057453]\n",
      "\n",
      "Orthogonal Matrix V:\n",
      "[[-0.52264512 -0.26017359 -0.51350879 -0.13341953 -0.61454026]\n",
      " [ 0.47751572  0.15618604 -0.74366823 -0.37587692  0.23077862]\n",
      " [-0.03369155 -0.75050353 -0.24189511  0.40651923  0.46025884]\n",
      " [ 0.68913968 -0.42980252  0.180507   -0.00085435 -0.55477273]\n",
      " [-0.15090458 -0.39991233  0.30359556 -0.82198367  0.22241969]]\n",
      "\n"
     ]
    }
   ],
   "source": [
    "UA, DA, VA = np.linalg.svd(A)\n",
    "\n",
    "print(f\"Orthogonal Matrix U:\\n{UA}\\n\")\n",
    "print(f\"Diagonal Matrix D:  \\n{DA}\\n\")\n",
    "print(f\"Orthogonal Matrix V:\\n{VA}\\n\")"
   ]
  },
  {
   "cell_type": "markdown",
   "metadata": {
    "pycharm": {
     "name": "#%% md\n"
    }
   },
   "source": [
    "### Performance comparison"
   ]
  },
  {
   "cell_type": "code",
   "execution_count": 7,
   "metadata": {
    "pycharm": {
     "name": "#%%\n"
    }
   },
   "outputs": [
    {
     "name": "stdout",
     "output_type": "stream",
     "text": [
      "106 µs ± 20.4 µs per loop (mean ± std. dev. of 7 runs, 100 loops each)\n"
     ]
    }
   ],
   "source": [
    "%%timeit -n 100\n",
    "svd(A)"
   ]
  },
  {
   "cell_type": "code",
   "execution_count": 8,
   "metadata": {
    "pycharm": {
     "name": "#%%\n"
    }
   },
   "outputs": [
    {
     "name": "stdout",
     "output_type": "stream",
     "text": [
      "22.6 µs ± 2.72 µs per loop (mean ± std. dev. of 7 runs, 100 loops each)\n"
     ]
    }
   ],
   "source": [
    "%%timeit -n 100\n",
    "np.linalg.svd(A)"
   ]
  },
  {
   "cell_type": "markdown",
   "metadata": {
    "pycharm": {
     "name": "#%% md\n"
    }
   },
   "source": [
    "**np.linalg.svd is ~5x faster than the custom svd implementation.**"
   ]
  }
 ],
 "metadata": {
  "kernelspec": {
   "display_name": "Python 3 (ipykernel)",
   "language": "python",
   "name": "python3"
  },
  "language_info": {
   "codemirror_mode": {
    "name": "ipython",
    "version": 3
   },
   "file_extension": ".py",
   "mimetype": "text/x-python",
   "name": "python",
   "nbconvert_exporter": "python",
   "pygments_lexer": "ipython3",
   "version": "3.10.5"
  }
 },
 "nbformat": 4,
 "nbformat_minor": 1
}