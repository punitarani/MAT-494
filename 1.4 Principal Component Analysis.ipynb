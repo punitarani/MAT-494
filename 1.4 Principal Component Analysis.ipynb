{
 "cells": [
  {
   "cell_type": "markdown",
   "metadata": {
    "pycharm": {
     "name": "#%% md\n"
    }
   },
   "source": [
    "# 1.4. Principal Component Analysis\n",
    "_________________________________\n",
    "**Used for dimensionality reduction**\n",
    "\n",
    "### Key Concepts:\n",
    "* Singular Value Decomposition\n",
    "* Low-Rank Matrix Approximations\n",
    "* Principal Component Analysis"
   ]
  },
  {
   "cell_type": "code",
   "execution_count": 1,
   "metadata": {
    "pycharm": {
     "name": "#%%\n"
    }
   },
   "outputs": [],
   "source": [
    "import numpy as np\n",
    "from IPython.display import Image"
   ]
  },
  {
   "cell_type": "markdown",
   "metadata": {
    "pycharm": {
     "name": "#%% md\n"
    }
   },
   "source": [
    "#### Global Variables"
   ]
  },
  {
   "cell_type": "code",
   "execution_count": 2,
   "metadata": {
    "pycharm": {
     "name": "#%%\n"
    }
   },
   "outputs": [
    {
     "name": "stdout",
     "output_type": "stream",
     "text": [
      "Random 3x4 Matrix A:\n",
      "[[ 7 79 46 57]\n",
      " [93  6 28 20]\n",
      " [55 90 33 35]]\n"
     ]
    }
   ],
   "source": [
    "# Generate a random mxn matrix\n",
    "m = np.random.randint(3, 6)\n",
    "n = np.random.randint(2, 5)\n",
    "A = np.random.randint(100, size=(m, n))\n",
    "\n",
    "print(f\"Random {m}x{n} Matrix A:\")\n",
    "print(A)"
   ]
  },
  {
   "cell_type": "markdown",
   "metadata": {
    "pycharm": {
     "name": "#%% md\n"
    }
   },
   "source": [
    "## Singular Value Decomposition\n",
    "\n",
    "Eigendecomposition can only be done for Square matrices.\n",
    "Singular Value Decomposition (**SVD**) can be used to decompose every matrix, regardless of shape,\n",
    "or if the eigenvalues are complex or if the eigenvectors are not orthogonal.\n",
    "\n",
    "SVD Model:\n",
    "$ A = U \\Sigma V ^T $\n",
    "\n",
    "where:\n",
    "* $A$: is the Input Matrix. Also referred to using $M$.\n",
    "* $U$: is an Orthogonal Matrix.\n",
    "* $\\Sigma$: is a Diagonal Matrix. Also referred to using $D$.\n",
    "* $V$: is an Orthogonal Matrix.\n"
   ]
  },
  {
   "cell_type": "code",
   "execution_count": 3,
   "metadata": {
    "pycharm": {
     "name": "#%%\n"
    }
   },
   "outputs": [
    {
     "data": {
      "text/html": [
       "<img src=\"https://upload.wikimedia.org/wikipedia/commons/thumb/c/c8/Singular_value_decomposition_visualisation.svg/1024px-Singular_value_decomposition_visualisation.svg.png\" height=\"175\"/>"
      ],
      "text/plain": [
       "<IPython.core.display.Image object>"
      ]
     },
     "execution_count": 3,
     "metadata": {},
     "output_type": "execute_result"
    }
   ],
   "source": [
    "# Singular Value Decomposition Visualization\n",
    "Image(url=\"https://upload.wikimedia.org/wikipedia/commons/thumb/c/c8/Singular_value_decomposition_visualisation.svg/1024px-Singular_value_decomposition_visualisation.svg.png\", height=175)"
   ]
  },
  {
   "cell_type": "code",
   "execution_count": 4,
   "metadata": {
    "pycharm": {
     "name": "#%%\n"
    }
   },
   "outputs": [],
   "source": [
    "def svd(A: np.ndarray):\n",
    "    \"\"\"\n",
    "    Singular Value Decomposition\n",
    "    :param A: Matrix A\n",
    "    :return: (U, D, V)\n",
    "    \"\"\"\n",
    "    At = A.transpose()\n",
    "\n",
    "    # Compute the Eigenvalues and Eigenvectors of AAt\n",
    "    L, U = np.linalg.eig(np.dot(A, At))\n",
    "    # U is the matrix of eigenvectors\n",
    "\n",
    "    # D is the squareroot of eigenvalues\n",
    "    D = np.sqrt(L)\n",
    "    # Remove 0 elements\n",
    "    D = D[D != 0]\n",
    "\n",
    "    # Compute the Eigenvalues and Eigenvectors of AtA\n",
    "    _, V = np.linalg.eig(np.dot(At, A))\n",
    "\n",
    "    return U, D, V"
   ]
  },
  {
   "cell_type": "code",
   "execution_count": 5,
   "metadata": {
    "pycharm": {
     "name": "#%%\n"
    }
   },
   "outputs": [
    {
     "name": "stdout",
     "output_type": "stream",
     "text": [
      "Orthogonal Matrix U:\n",
      "[[-0.58898407 -0.61241028  0.52730581]\n",
      " [-0.41405373 -0.33166424 -0.84767821]\n",
      " [-0.69401533  0.71760189  0.0582258 ]]\n",
      "\n",
      "Diagonal Matrix D:  \n",
      "[164.69292856  26.08445512  84.60993136]\n",
      "\n",
      "Orthogonal Matrix V:\n",
      "[[ 0.49061444  0.85026086 -0.16624682  0.09335917]\n",
      " [ 0.67686843 -0.49416672 -0.54491354 -0.02678842]\n",
      " [ 0.37396431 -0.02886811  0.528154   -0.76182064]\n",
      " [ 0.40161835 -0.17894791  0.62967022  0.64046527]]\n",
      "\n"
     ]
    }
   ],
   "source": [
    "UA, DA, VA = svd(A)\n",
    "\n",
    "print(f\"Orthogonal Matrix U:\\n{UA}\\n\")\n",
    "print(f\"Diagonal Matrix D:  \\n{DA}\\n\")\n",
    "print(f\"Orthogonal Matrix V:\\n{VA}\\n\")"
   ]
  },
  {
   "cell_type": "markdown",
   "metadata": {
    "pycharm": {
     "name": "#%% md\n"
    }
   },
   "source": [
    "### Verify with np.linalg.svg"
   ]
  },
  {
   "cell_type": "code",
   "execution_count": 6,
   "metadata": {
    "pycharm": {
     "name": "#%%\n"
    }
   },
   "outputs": [
    {
     "name": "stdout",
     "output_type": "stream",
     "text": [
      "Orthogonal Matrix U:\n",
      "[[ 0.58898407 -0.52730581  0.61241028]\n",
      " [ 0.41405373  0.84767821  0.33166424]\n",
      " [ 0.69401533 -0.0582258  -0.71760189]]\n",
      "\n",
      "Diagonal Matrix D:  \n",
      "[164.69292856  84.60993136  26.08445512]\n",
      "\n",
      "Orthogonal Matrix V:\n",
      "[[ 0.49061444  0.67686843  0.37396431  0.40161835]\n",
      " [ 0.85026086 -0.49416672 -0.02886811 -0.17894791]\n",
      " [-0.16624682 -0.54491354  0.528154    0.62967022]\n",
      " [ 0.09335917 -0.02678842 -0.76182064  0.64046527]]\n",
      "\n"
     ]
    }
   ],
   "source": [
    "UA, DA, VA = np.linalg.svd(A)\n",
    "\n",
    "print(f\"Orthogonal Matrix U:\\n{UA}\\n\")\n",
    "print(f\"Diagonal Matrix D:  \\n{DA}\\n\")\n",
    "print(f\"Orthogonal Matrix V:\\n{VA}\\n\")"
   ]
  },
  {
   "cell_type": "markdown",
   "metadata": {
    "pycharm": {
     "name": "#%% md\n"
    }
   },
   "source": [
    "### Performance comparison"
   ]
  },
  {
   "cell_type": "code",
   "execution_count": 7,
   "metadata": {
    "pycharm": {
     "name": "#%%\n"
    }
   },
   "outputs": [
    {
     "name": "stdout",
     "output_type": "stream",
     "text": [
      "105 µs ± 49 µs per loop (mean ± std. dev. of 7 runs, 100 loops each)\n"
     ]
    }
   ],
   "source": [
    "%%timeit -n 100\n",
    "svd(A)"
   ]
  },
  {
   "cell_type": "code",
   "execution_count": 8,
   "metadata": {
    "pycharm": {
     "name": "#%%\n"
    }
   },
   "outputs": [
    {
     "name": "stdout",
     "output_type": "stream",
     "text": [
      "22.1 µs ± 8.85 µs per loop (mean ± std. dev. of 7 runs, 100 loops each)\n"
     ]
    }
   ],
   "source": [
    "%%timeit -n 100\n",
    "np.linalg.svd(A)"
   ]
  },
  {
   "cell_type": "markdown",
   "metadata": {
    "pycharm": {
     "name": "#%% md\n"
    }
   },
   "source": [
    "**np.linalg.svd is ~5x faster than the custom svd implementation.**"
   ]
  }
 ],
 "metadata": {
  "kernelspec": {
   "display_name": "Python 3 (ipykernel)",
   "language": "python",
   "name": "python3"
  },
  "language_info": {
   "codemirror_mode": {
    "name": "ipython",
    "version": 3
   },
   "file_extension": ".py",
   "mimetype": "text/x-python",
   "name": "python",
   "nbconvert_exporter": "python",
   "pygments_lexer": "ipython3",
   "version": "3.10.5"
  }
 },
 "nbformat": 4,
 "nbformat_minor": 1
}