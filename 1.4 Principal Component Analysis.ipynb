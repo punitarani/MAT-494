{
 "cells": [
  {
   "cell_type": "markdown",
   "source": [
    "<a href=\"https://colab.research.google.com/github/punitarani/MAT-494/blob/master/1.4%20Principal%20Component%20Analysis.ipynb\" target=\"_parent\"><img src=\"https://colab.research.google.com/assets/colab-badge.svg\" alt=\"Open In Colab\"/></a>"
   ],
   "metadata": {
    "collapsed": false
   }
  },
  {
   "cell_type": "markdown",
   "metadata": {},
   "source": [
    "# 1.4. Principal Component Analysis\n",
    "_________________________________\n",
    "**Used for dimensionality reduction**\n",
    "\n",
    "### Key Concepts:\n",
    "* Singular Value Decomposition\n",
    "* Low-Rank Matrix Approximations\n",
    "* Principal Component Analysis"
   ]
  },
  {
   "cell_type": "code",
   "execution_count": 1,
   "metadata": {},
   "outputs": [],
   "source": [
    "import numpy as np\n",
    "from IPython.display import display, Image"
   ]
  },
  {
   "cell_type": "markdown",
   "metadata": {},
   "source": [
    "#### Global Variables"
   ]
  },
  {
   "cell_type": "code",
   "execution_count": 2,
   "metadata": {},
   "outputs": [
    {
     "name": "stdout",
     "output_type": "stream",
     "text": [
      "Random 4x5 Matrix A:\n",
      "[[23 95 16 66 79]\n",
      " [40 98 68 53 65]\n",
      " [25 53 35 78 61]\n",
      " [54  5 93 52 59]]\n"
     ]
    }
   ],
   "source": [
    "# Generate a random mxn matrix\n",
    "m = 4\n",
    "n = 5\n",
    "A = np.random.randint(100, size=(m, n))\n",
    "\n",
    "print(f\"Random {m}x{n} Matrix A:\")\n",
    "print(A)"
   ]
  },
  {
   "cell_type": "markdown",
   "metadata": {},
   "source": [
    "## Singular Value Decomposition\n",
    "\n",
    "Eigendecomposition can only be done for Square matrices.\n",
    "Singular Value Decomposition (**SVD**) can be used to decompose every matrix, regardless of shape,\n",
    "or if the eigenvalues are complex or if the eigenvectors are not orthogonal.\n",
    "\n",
    "SVD Model:\n",
    "$ A = U \\Sigma V ^T $\n",
    "\n",
    "where:\n",
    "* $A$: is the Input Matrix. Also referred to using $M$.\n",
    "* $U$: is an Orthogonal Matrix.\n",
    "* $\\Sigma$: is a Diagonal Matrix. Also referred to using $D$.\n",
    "* $V$: is an Orthogonal Matrix.\n",
    "\n",
    "**Time Complexity** is $ O(mn \\min\\{m,n\\}) $, which is computationally expensive.\n"
   ]
  },
  {
   "cell_type": "code",
   "execution_count": 3,
   "metadata": {},
   "outputs": [
    {
     "data": {
      "text/html": "<img src=\"https://upload.wikimedia.org/wikipedia/commons/thumb/c/c8/Singular_value_decomposition_visualisation.svg/1024px-Singular_value_decomposition_visualisation.svg.png\" width=\"300\" class=\"unconfined\"/>",
      "text/plain": "<IPython.core.display.Image object>"
     },
     "metadata": {},
     "output_type": "display_data"
    }
   ],
   "source": [
    "# Singular Value Decomposition Visualization\n",
    "svd_url = r\"https://upload.wikimedia.org/wikipedia/commons/thumb/c/c8/Singular_value_decomposition_visualisation.svg/1024px-Singular_value_decomposition_visualisation.svg.png\"\n",
    "display(Image(url=svd_url, width=300, unconfined=True))"
   ]
  },
  {
   "cell_type": "code",
   "execution_count": 4,
   "metadata": {},
   "outputs": [],
   "source": [
    "def svd(A: np.ndarray):\n",
    "    \"\"\"\n",
    "    Singular Value Decomposition\n",
    "    :param A: Matrix A\n",
    "    :return: (U, D, V)\n",
    "    \"\"\"\n",
    "    At = A.transpose()\n",
    "\n",
    "    # Compute the Eigenvalues and Eigenvectors of AAt\n",
    "    L, U = np.linalg.eig(np.dot(A, At))\n",
    "    # U is the matrix of eigenvectors\n",
    "\n",
    "    # D is the squareroot of eigenvalues\n",
    "    D = np.sqrt(L)\n",
    "    # Remove 0 elements\n",
    "    D = D[D != 0]\n",
    "    # Sort\n",
    "    D[::-1].sort()\n",
    "\n",
    "    # Compute the Eigenvalues and Eigenvectors of AtA\n",
    "    _, V = np.linalg.eig(np.dot(At, A))\n",
    "\n",
    "    return U, D, V"
   ]
  },
  {
   "cell_type": "code",
   "execution_count": 5,
   "metadata": {},
   "outputs": [
    {
     "name": "stdout",
     "output_type": "stream",
     "text": [
      "Orthogonal Matrix U:\n",
      "[[ 0.5233335   0.53239106 -0.63397587  0.20188217]\n",
      " [ 0.57683633  0.08908598  0.31229881 -0.74952851]\n",
      " [ 0.45699003  0.06669623  0.63155907  0.62277191]\n",
      " [ 0.42958353 -0.83915139 -0.3188686   0.09800891]]\n",
      "\n",
      "Diagonal Matrix D:  \n",
      "[256.44308986  89.21431162  39.99564959  13.64171092]\n",
      "\n",
      "Orthogonal Matrix V:\n",
      "[[-0.27192148 -0.3120389   0.11191395  0.8657985   0.25798963]\n",
      " [-0.51713241  0.65736897  0.5195073   0.05662712 -0.1653652 ]\n",
      " [-0.40377039 -0.68521078  0.42069521 -0.35076627 -0.25968102]\n",
      " [-0.48001255  0.01598175 -0.68187128  0.10456017 -0.54171141]\n",
      " [-0.51496622  0.02699141 -0.27505369 -0.33647661  0.73838352]]\n",
      "\n"
     ]
    }
   ],
   "source": [
    "UA, DA, VA = svd(A)\n",
    "\n",
    "print(f\"Orthogonal Matrix U:\\n{UA}\\n\")\n",
    "print(f\"Diagonal Matrix D:  \\n{DA}\\n\")\n",
    "print(f\"Orthogonal Matrix V:\\n{VA}\\n\")"
   ]
  },
  {
   "cell_type": "markdown",
   "metadata": {},
   "source": [
    "### Verify with np.linalg.svg"
   ]
  },
  {
   "cell_type": "code",
   "execution_count": 6,
   "metadata": {},
   "outputs": [
    {
     "name": "stdout",
     "output_type": "stream",
     "text": [
      "Orthogonal Matrix U:\n",
      "[[-0.5233335  -0.53239106  0.20188217 -0.63397587]\n",
      " [-0.57683633 -0.08908598 -0.74952851  0.31229881]\n",
      " [-0.45699003 -0.06669623  0.62277191  0.63155907]\n",
      " [-0.42958353  0.83915139  0.09800891 -0.3188686 ]]\n",
      "\n",
      "Diagonal Matrix D:  \n",
      "[256.44308986  89.21431162  39.99564959  13.64171092]\n",
      "\n",
      "Orthogonal Matrix V:\n",
      "[[-0.27192148 -0.51713241 -0.40377039 -0.48001255 -0.51496622]\n",
      " [ 0.3120389  -0.65736897  0.68521078 -0.01598175 -0.02699141]\n",
      " [-0.11191395 -0.5195073  -0.42069521  0.68187128  0.27505369]\n",
      " [-0.25798963  0.1653652   0.25968102  0.54171141 -0.73838352]\n",
      " [-0.8657985  -0.05662712  0.35076627 -0.10456017  0.33647661]]\n",
      "\n"
     ]
    }
   ],
   "source": [
    "UA, DA, VA = np.linalg.svd(A)\n",
    "\n",
    "print(f\"Orthogonal Matrix U:\\n{UA}\\n\")\n",
    "print(f\"Diagonal Matrix D:  \\n{DA}\\n\")\n",
    "print(f\"Orthogonal Matrix V:\\n{VA}\\n\")"
   ]
  },
  {
   "cell_type": "markdown",
   "metadata": {},
   "source": [
    "### Performance comparison"
   ]
  },
  {
   "cell_type": "code",
   "execution_count": 7,
   "metadata": {},
   "outputs": [
    {
     "name": "stdout",
     "output_type": "stream",
     "text": [
      "92.8 µs ± 23.5 µs per loop (mean ± std. dev. of 7 runs, 100 loops each)\n"
     ]
    }
   ],
   "source": [
    "%%timeit -n 100\n",
    "svd(A)"
   ]
  },
  {
   "cell_type": "code",
   "execution_count": 8,
   "metadata": {},
   "outputs": [
    {
     "name": "stdout",
     "output_type": "stream",
     "text": [
      "20.3 µs ± 4.43 µs per loop (mean ± std. dev. of 7 runs, 100 loops each)\n"
     ]
    }
   ],
   "source": [
    "%%timeit -n 100\n",
    "np.linalg.svd(A)"
   ]
  },
  {
   "cell_type": "markdown",
   "metadata": {},
   "source": [
    "**np.linalg.svd is ~4x faster than the custom svd implementation.**"
   ]
  },
  {
   "cell_type": "markdown",
   "source": [
    "## Low-Rank Matrix Approximations\n",
    "**Applications**:\n",
    "* Dimensionally reduces matrices and generate a (lossy) compressed version.\n",
    "* Solve optimization problems\n",
    "* Matrix completion"
   ],
   "metadata": {
    "collapsed": false
   },
   "outputs": []
  },
  {
   "cell_type": "markdown",
   "source": [
    "#### Ranks\n",
    "Rank-0: Zero matrix\n",
    "Rank-1: Rows are multiple of each other\n",
    "Rank-2: Sum of 2 Rank-1 matrices\n",
    "Rank-K: Sum of K Rank-1 matrices and cannot be simplified to less than k-1 Rank-1 matrices"
   ],
   "metadata": {
    "collapsed": false
   }
  },
  {
   "cell_type": "markdown",
   "source": [
    "### Computing a low-rank approximation\n",
    "1. Compute SVD\n",
    "2. Keep k left vectors of U\n",
    "3. Keep k diagonal values of S\n",
    "4. Keep k top vectors of V\n",
    "\n",
    "We essentially retain the k most important values of a vector A\n",
    "    where $k \\le m \\le n$\n",
    "\n",
    "**Choosing the right k value**\n",
    "The sum of the top k singular values should be at least c times the sum of the other singular values"
   ],
   "metadata": {
    "collapsed": false
   }
  },
  {
   "cell_type": "markdown",
   "source": [
    "## Principal Component Analysis\n",
    "PCA is a dimensionality-reduction method.\n",
    "It is used to reduces the size and variables of a large data sets while preserving as much information as possible."
   ],
   "metadata": {
    "collapsed": false
   }
  },
  {
   "cell_type": "markdown",
   "source": [
    "### Computing PCA\n",
    "1. **Standardize Variables**: make variables equally weighted (in terms of range) to prevent one variable from dominating over others.\n",
    "        $ z = \\frac {v - \\bar v} {\\sigma} $\n",
    "\n",
    "2. **Compute Covariance Matrix**: compare the relationships between the variables. Helps identify and reduce closely related variables.\n",
    "\n",
    "3. **Identify the Principal Components**: compute the eigenvectors and eigenvalues of the covariance matrix to determine the Principal Components of the data.\n",
    "\n",
    "4. **Generate Feature Vector**: Generates the weights for each of the selected Principal Components.\n",
    "\n",
    "5. **Project Data on the Principal Component Axes**: Remodel and fit the data to the generated Principal Components and Feature Vectors.\n"
   ],
   "metadata": {
    "collapsed": false
   }
  }
 ],
 "metadata": {
  "kernelspec": {
   "display_name": "Python 3 (ipykernel)",
   "language": "python",
   "name": "python3"
  },
  "language_info": {
   "codemirror_mode": {
    "name": "ipython",
    "version": 3
   },
   "file_extension": ".py",
   "mimetype": "text/x-python",
   "name": "python",
   "nbconvert_exporter": "python",
   "pygments_lexer": "ipython3",
   "version": "3.10.5"
  }
 },
 "nbformat": 4,
 "nbformat_minor": 1
}
