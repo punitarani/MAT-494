{
 "cells": [
  {
   "cell_type": "markdown",
   "source": [
    "# 1.2. Elements of Linear Algebra\n",
    "_________________________________\n",
    "### Key Concepts:\n",
    "* Orthogonality\n",
    "* Gram-Schmidt Process\n",
    "* Eigenvalues and Eigenvectors"
   ],
   "metadata": {
    "collapsed": false,
    "pycharm": {
     "name": "#%% md\n"
    }
   }
  },
  {
   "cell_type": "code",
   "execution_count": 1,
   "metadata": {
    "collapsed": true,
    "pycharm": {
     "name": "#%%\n"
    }
   },
   "outputs": [],
   "source": [
    "import numpy as np\n",
    "from IPython.core.display import Image"
   ]
  },
  {
   "cell_type": "markdown",
   "source": [
    "#### Helper Functions and Global Variables"
   ],
   "metadata": {
    "collapsed": false,
    "pycharm": {
     "name": "#%% md\n"
    }
   }
  },
  {
   "cell_type": "code",
   "execution_count": 2,
   "outputs": [],
   "source": [
    "def generate_random_matrix(size: int = 3):\n",
    "    \"\"\"\n",
    "    Generates Random Square Matrix of given Size with Integers (0-99)\n",
    "    \"\"\"\n",
    "    return np.random.randint(0, 100, [size, size])"
   ],
   "metadata": {
    "collapsed": false,
    "pycharm": {
     "name": "#%%\n"
    }
   }
  },
  {
   "cell_type": "code",
   "execution_count": 3,
   "outputs": [
    {
     "name": "stdout",
     "output_type": "stream",
     "text": [
      "Random 3x3 Matrix A:\n",
      " [[92 76 50]\n",
      " [ 2 77 93]\n",
      " [ 4  0 22]]\n",
      "Random 3x3 Matrix B:\n",
      " [[50 51 49]\n",
      " [ 4 40 31]\n",
      " [84  2 84]]\n"
     ]
    }
   ],
   "source": [
    "matrix_size = 3\n",
    "\n",
    "# Generate a random 3x3 Matrix A\n",
    "A = generate_random_matrix(matrix_size)\n",
    "print(\"Random 3x3 Matrix A:\\n\", A)\n",
    "\n",
    "# Generate another random matrix B\n",
    "B = generate_random_matrix(matrix_size)\n",
    "print(\"Random 3x3 Matrix B:\\n\", B)"
   ],
   "metadata": {
    "collapsed": false,
    "pycharm": {
     "name": "#%%\n"
    }
   }
  },
  {
   "cell_type": "markdown",
   "source": [
    "## Projection\n",
    "\n",
    "${\\displaystyle \\operatorname {proj} _{\\mathbf {u} }(\\mathbf {v} )={\\frac {\\langle \\mathbf {u} ,\\mathbf {v} \\rangle }{\\langle \\mathbf {u} ,\\mathbf {u} \\rangle }}{\\mathbf {u} }}$\n"
   ],
   "metadata": {
    "collapsed": false,
    "pycharm": {
     "name": "#%% md\n"
    }
   }
  },
  {
   "cell_type": "code",
   "execution_count": 4,
   "outputs": [],
   "source": [
    "def project(u, v):\n",
    "    \"\"\"\n",
    "    Project vector u onto v\n",
    "    :param u: Vector u\n",
    "    :param v: Vector v\n",
    "    :return:\n",
    "    \"\"\"\n",
    "    return np.multiply((np.dot(u, v) / np.dot(u, u)), u)"
   ],
   "metadata": {
    "collapsed": false,
    "pycharm": {
     "name": "#%%\n"
    }
   }
  },
  {
   "cell_type": "code",
   "execution_count": 5,
   "outputs": [
    {
     "name": "stdout",
     "output_type": "stream",
     "text": [
      "A1 Projected onto B1\n",
      "[53.61244696  1.16548798  2.33097595]\n"
     ]
    }
   ],
   "source": [
    "# Project the first col of A onto first col of B\n",
    "proj_A_B = project(A[:, 0], B[:, 0])\n",
    "print(\"A1 Projected onto B1\")\n",
    "print(proj_A_B)"
   ],
   "metadata": {
    "collapsed": false,
    "pycharm": {
     "name": "#%%\n"
    }
   }
  },
  {
   "cell_type": "markdown",
   "source": [
    "## Gram-Schmidt Process\n"
   ],
   "metadata": {
    "collapsed": false,
    "pycharm": {
     "name": "#%% md\n"
    }
   }
  },
  {
   "cell_type": "code",
   "execution_count": 6,
   "outputs": [
    {
     "data": {
      "text/html": "<img src=\"https://wikimedia.org/api/rest_v1/media/math/render/svg/c14bc18275503c8b2593498757740976cf0e078a\" height=\"200\"/>",
      "text/plain": "<IPython.core.display.Image object>"
     },
     "execution_count": 6,
     "metadata": {},
     "output_type": "execute_result"
    }
   ],
   "source": [
    "Image(url= \"https://wikimedia.org/api/rest_v1/media/math/render/svg/c14bc18275503c8b2593498757740976cf0e078a\", height=200)"
   ],
   "metadata": {
    "collapsed": false,
    "pycharm": {
     "name": "#%%\n"
    }
   }
  },
  {
   "cell_type": "code",
   "execution_count": 7,
   "outputs": [],
   "source": [
    "def gram_schmidt(u, v, k):\n",
    "    \"\"\"\n",
    "    Gram Schmidt Process for step k\n",
    "    :param u: First set of vectors\n",
    "    :param v: Second set of vectors\n",
    "    :param k: Step\n",
    "    :return e: Orthonormal vector\n",
    "    \"\"\"\n",
    "    # Index starts at 0 (not 1) in python\n",
    "    k = k-1\n",
    "    v_k = v[:, k]\n",
    "\n",
    "    # Calculate projection matrices\n",
    "    proj_sum = np.zeros(v_k.shape)\n",
    "    for j in range(k):\n",
    "        # Project u_j onto v_k\n",
    "        proj = project(u[:, j], v_k)\n",
    "\n",
    "        # Update the projections sum\n",
    "        proj_sum += proj\n",
    "\n",
    "    return v_k - proj_sum"
   ],
   "metadata": {
    "collapsed": false,
    "pycharm": {
     "name": "#%%\n"
    }
   }
  },
  {
   "cell_type": "code",
   "execution_count": 8,
   "outputs": [
    {
     "name": "stdout",
     "output_type": "stream",
     "text": [
      "Gram-Schmidt k=1\n",
      " [50.  4. 84.]\n",
      "\n",
      "Gram-Schmidt k=2\n",
      " [-0.83404055 38.87317303 -0.25365394]\n",
      "\n",
      "Gram-Schmidt k=3\n",
      " [-43.8788052  -10.35704254  81.68694012]\n",
      "\n"
     ]
    }
   ],
   "source": [
    "# Project A onto B\n",
    "for i in range(1, matrix_size+1):\n",
    "    gs_ab_k = gram_schmidt(A, B, i)\n",
    "    print(f\"Gram-Schmidt k={i}\\n\", gs_ab_k)\n",
    "    print()"
   ],
   "metadata": {
    "collapsed": false,
    "pycharm": {
     "name": "#%%\n"
    }
   }
  }
 ],
 "metadata": {
  "kernelspec": {
   "display_name": "Python 3",
   "language": "python",
   "name": "python3"
  },
  "language_info": {
   "codemirror_mode": {
    "name": "ipython",
    "version": 2
   },
   "file_extension": ".py",
   "mimetype": "text/x-python",
   "name": "python",
   "nbconvert_exporter": "python",
   "pygments_lexer": "ipython2",
   "version": "2.7.6"
  }
 },
 "nbformat": 4,
 "nbformat_minor": 0
}