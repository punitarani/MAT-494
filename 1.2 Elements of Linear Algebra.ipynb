{
 "cells": [
  {
   "cell_type": "markdown",
   "metadata": {
    "pycharm": {
     "name": "#%% md\n"
    }
   },
   "source": [
    "# 1.2. Elements of Linear Algebra\n",
    "_________________________________\n",
    "### Key Concepts:\n",
    "* Orthogonality\n",
    "* Gram-Schmidt Process\n",
    "* Eigenvalues and Eigenvectors"
   ]
  },
  {
   "cell_type": "code",
   "execution_count": 1,
   "metadata": {
    "pycharm": {
     "name": "#%%\n"
    }
   },
   "outputs": [],
   "source": [
    "import numpy as np\n",
    "from IPython.core.display import Image"
   ]
  },
  {
   "cell_type": "markdown",
   "metadata": {
    "pycharm": {
     "name": "#%% md\n"
    }
   },
   "source": [
    "#### Helper Functions and Global Variables"
   ]
  },
  {
   "cell_type": "code",
   "execution_count": 2,
   "metadata": {
    "pycharm": {
     "name": "#%%\n"
    }
   },
   "outputs": [],
   "source": [
    "def generate_random_matrix(size: int = 3):\n",
    "    \"\"\"\n",
    "    Generates Random Square Matrix of given Size with Integers (0-99)\n",
    "    \"\"\"\n",
    "    return np.random.randint(0, 100, [size, size])"
   ]
  },
  {
   "cell_type": "code",
   "execution_count": 3,
   "metadata": {
    "pycharm": {
     "name": "#%%\n"
    }
   },
   "outputs": [
    {
     "name": "stdout",
     "output_type": "stream",
     "text": [
      "Random 3x3 Matrix A:\n",
      " [[36 12 30]\n",
      " [81 38 95]\n",
      " [13 94 41]]\n",
      "Random 3x3 Matrix B:\n",
      " [[86 85 69]\n",
      " [99 87 22]\n",
      " [46 84 99]]\n"
     ]
    }
   ],
   "source": [
    "matrix_size = 3\n",
    "\n",
    "# Generate a random 3x3 Matrix A\n",
    "A = generate_random_matrix(matrix_size)\n",
    "print(\"Random 3x3 Matrix A:\\n\", A)\n",
    "\n",
    "# Generate another random matrix B\n",
    "B = generate_random_matrix(matrix_size)\n",
    "print(\"Random 3x3 Matrix B:\\n\", B)"
   ]
  },
  {
   "cell_type": "markdown",
   "metadata": {
    "pycharm": {
     "name": "#%% md\n"
    }
   },
   "source": [
    "## Projection\n",
    "\n",
    "${\\displaystyle \\operatorname {proj} _{\\mathbf {u} }(\\mathbf {v} )={\\frac {\\langle \\mathbf {u} ,\\mathbf {v} \\rangle }{\\langle \\mathbf {u} ,\\mathbf {u} \\rangle }}{\\mathbf {u} }}$\n"
   ]
  },
  {
   "cell_type": "code",
   "execution_count": 4,
   "metadata": {
    "pycharm": {
     "name": "#%%\n"
    }
   },
   "outputs": [],
   "source": [
    "def project(u, v):\n",
    "    \"\"\"\n",
    "    Project vector u onto v\n",
    "    :param u: Vector u\n",
    "    :param v: Vector v\n",
    "    :return:\n",
    "    \"\"\"\n",
    "    return (np.dot(v, u) / np.dot(u, u)) * u"
   ]
  },
  {
   "cell_type": "code",
   "execution_count": 5,
   "metadata": {
    "pycharm": {
     "name": "#%%\n"
    }
   },
   "outputs": [
    {
     "name": "stdout",
     "output_type": "stream",
     "text": [
      "A1 Projected onto B1\n",
      "[95.16923077 31.72307692 79.30769231]\n"
     ]
    }
   ],
   "source": [
    "# Project the first row of A onto first row of B\n",
    "proj_A_B = project(A[0], B[0])\n",
    "print(\"A1 Projected onto B1\")\n",
    "print(proj_A_B)"
   ]
  },
  {
   "cell_type": "markdown",
   "metadata": {
    "pycharm": {
     "name": "#%% md\n"
    }
   },
   "source": [
    "## Gram-Schmidt Process\n"
   ]
  },
  {
   "cell_type": "code",
   "execution_count": 6,
   "metadata": {
    "pycharm": {
     "name": "#%%\n"
    }
   },
   "outputs": [
    {
     "data": {
      "text/html": "<img src=\"https://wikimedia.org/api/rest_v1/media/math/render/svg/c14bc18275503c8b2593498757740976cf0e078a\" height=\"200\"/>",
      "text/plain": "<IPython.core.display.Image object>"
     },
     "execution_count": 6,
     "metadata": {},
     "output_type": "execute_result"
    }
   ],
   "source": [
    "Image(url= \"https://wikimedia.org/api/rest_v1/media/math/render/svg/c14bc18275503c8b2593498757740976cf0e078a\", height=200)"
   ]
  },
  {
   "cell_type": "code",
   "execution_count": 7,
   "metadata": {
    "pycharm": {
     "name": "#%%\n"
    }
   },
   "outputs": [],
   "source": [
    "def gram_schmidt(u, v, k):\n",
    "    \"\"\"\n",
    "    Gram-Schmidt Process for step k\n",
    "    :param u: First set of vectors\n",
    "    :param v: Second set of vectors\n",
    "    :param k: Step\n",
    "    :return e: Orthonormal vector\n",
    "    \"\"\"\n",
    "    # Index starts at 0 (not 1) in python\n",
    "    k = k-1\n",
    "\n",
    "    # Get v_k\n",
    "    v_k = v[:, k]\n",
    "\n",
    "    # Calculate projection matrices\n",
    "    proj_sum = np.zeros(v_k.shape)\n",
    "    # Iterate from first to second-to-last element\n",
    "    for j in range(0, k):\n",
    "        # Project u_j onto v_k\n",
    "        proj = project(u[:, j], v_k)\n",
    "\n",
    "        # Update the projections sum\n",
    "        proj_sum += proj\n",
    "\n",
    "    u_k = (v_k - proj_sum)\n",
    "\n",
    "    # Normalize\n",
    "    e_k = (u_k / np.linalg.norm(u_k))\n",
    "\n",
    "    return e_k"
   ]
  },
  {
   "cell_type": "code",
   "execution_count": 8,
   "outputs": [],
   "source": [
    "def gram_schmidt_matrix(A):\n",
    "    \"\"\"\n",
    "    Find the Gram-Schmidt of a Matrix\n",
    "    \"\"\"\n",
    "    A_gs = np.zeros(A.shape)\n",
    "    # Iterate through each column\n",
    "    for k in range(matrix_size):\n",
    "        proj_sum = np.zeros(A[:, k].shape)\n",
    "        # Iterate through each column to the left of k\n",
    "        for j in range(k):\n",
    "             proj_sum += project(A[:, j], A[:, k])\n",
    "\n",
    "        # Get new column vector\n",
    "        gs_col = (A[:, k] - proj_sum)\n",
    "\n",
    "        # Normalize\n",
    "        A_gs[:, k] = (gs_col / np.linalg.norm(gs_col))\n",
    "\n",
    "    return A_gs"
   ],
   "metadata": {
    "collapsed": false,
    "pycharm": {
     "name": "#%%\n"
    }
   }
  },
  {
   "cell_type": "code",
   "execution_count": 9,
   "metadata": {
    "pycharm": {
     "name": "#%%\n"
    }
   },
   "outputs": [
    {
     "name": "stdout",
     "output_type": "stream",
     "text": [
      "Gram-Schmidt Matrix of A:\n",
      "[[ 0.40183978 -0.1055817  -0.36827617]\n",
      " [ 0.9041395  -0.1116622  -0.48719873]\n",
      " [ 0.14510881  0.98812148 -0.79183967]]\n"
     ]
    }
   ],
   "source": [
    "# Calculate the Gram-Schmidt of A\n",
    "gs_A = gram_schmidt_matrix(A)\n",
    "\n",
    "print(\"Gram-Schmidt Matrix of A:\")\n",
    "print(gs_A)"
   ]
  }
 ],
 "metadata": {
  "kernelspec": {
   "display_name": "Python 3 (ipykernel)",
   "language": "python",
   "name": "python3"
  },
  "language_info": {
   "codemirror_mode": {
    "name": "ipython",
    "version": 3
   },
   "file_extension": ".py",
   "mimetype": "text/x-python",
   "name": "python",
   "nbconvert_exporter": "python",
   "pygments_lexer": "ipython3",
   "version": "3.10.5"
  }
 },
 "nbformat": 4,
 "nbformat_minor": 1
}