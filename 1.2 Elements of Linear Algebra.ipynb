{
 "cells": [
  {
   "cell_type": "markdown",
   "metadata": {
    "pycharm": {
     "name": "#%% md\n"
    }
   },
   "source": [
    "# 1.2. Elements of Linear Algebra\n",
    "_________________________________\n",
    "### Key Concepts:\n",
    "* Orthogonality\n",
    "* Gram-Schmidt Process\n",
    "* Eigenvalues and Eigenvectors"
   ]
  },
  {
   "cell_type": "code",
   "execution_count": 1,
   "metadata": {
    "pycharm": {
     "name": "#%%\n"
    }
   },
   "outputs": [],
   "source": [
    "import numpy as np\n",
    "from IPython.core.display import Image"
   ]
  },
  {
   "cell_type": "markdown",
   "metadata": {
    "pycharm": {
     "name": "#%% md\n"
    }
   },
   "source": [
    "#### Helper Functions"
   ]
  },
  {
   "cell_type": "code",
   "execution_count": 2,
   "metadata": {
    "pycharm": {
     "name": "#%%\n"
    }
   },
   "outputs": [],
   "source": [
    "def generate_random_matrix(size: int = 3):\n",
    "    \"\"\"\n",
    "    Generates Random Square Matrix of given Size with Integers (0-99)\n",
    "    \"\"\"\n",
    "    return np.random.randint(0, 100, [size, size])"
   ]
  },
  {
   "cell_type": "markdown",
   "source": [
    "### Global Variables"
   ],
   "metadata": {
    "collapsed": false,
    "pycharm": {
     "name": "#%% md\n"
    }
   }
  },
  {
   "cell_type": "code",
   "execution_count": 3,
   "metadata": {
    "pycharm": {
     "name": "#%%\n"
    }
   },
   "outputs": [
    {
     "name": "stdout",
     "output_type": "stream",
     "text": [
      "Random 3x3 Matrix A:\n",
      " [[95  0 97]\n",
      " [19 36 22]\n",
      " [65 87  0]]\n",
      "Random 3x3 Matrix B:\n",
      " [[47 22 74]\n",
      " [32 65 15]\n",
      " [44 97 83]]\n"
     ]
    }
   ],
   "source": [
    "matrix_size = 3\n",
    "\n",
    "# Generate a random 3x3 Matrix A\n",
    "A = generate_random_matrix(matrix_size)\n",
    "print(\"Random 3x3 Matrix A:\\n\", A)\n",
    "\n",
    "# Generate another random matrix B\n",
    "B = generate_random_matrix(matrix_size)\n",
    "print(\"Random 3x3 Matrix B:\\n\", B)"
   ]
  },
  {
   "cell_type": "markdown",
   "metadata": {
    "pycharm": {
     "name": "#%% md\n"
    }
   },
   "source": [
    "## Projection\n",
    "\n",
    "${\\displaystyle \\operatorname {proj} _{\\mathbf {u} }(\\mathbf {v} )={\\frac {\\langle \\mathbf {u} ,\\mathbf {v} \\rangle }{\\langle \\mathbf {u} ,\\mathbf {u} \\rangle }}{\\mathbf {u} }}$\n"
   ]
  },
  {
   "cell_type": "code",
   "execution_count": 4,
   "metadata": {
    "pycharm": {
     "name": "#%%\n"
    }
   },
   "outputs": [],
   "source": [
    "def project(u, v):\n",
    "    \"\"\"\n",
    "    Project vector u onto v\n",
    "    :param u: Vector u\n",
    "    :param v: Vector v\n",
    "    :return:\n",
    "    \"\"\"\n",
    "    return np.multiply((np.dot(u, v) / np.dot(u, u)), u)"
   ]
  },
  {
   "cell_type": "code",
   "execution_count": 5,
   "metadata": {
    "pycharm": {
     "name": "#%%\n"
    }
   },
   "outputs": [
    {
     "name": "stdout",
     "output_type": "stream",
     "text": [
      "A1 Projected onto B1\n",
      "[55.36955404 11.07391081 37.88443171]\n"
     ]
    }
   ],
   "source": [
    "# Project the first col of A onto first col of B\n",
    "proj_A_B = project(A[:, 0], B[:, 0])\n",
    "print(\"A1 Projected onto B1\")\n",
    "print(proj_A_B)"
   ]
  },
  {
   "cell_type": "markdown",
   "metadata": {
    "pycharm": {
     "name": "#%% md\n"
    }
   },
   "source": [
    "## Gram-Schmidt Process\n"
   ]
  },
  {
   "cell_type": "code",
   "execution_count": 6,
   "metadata": {
    "pycharm": {
     "name": "#%%\n"
    }
   },
   "outputs": [
    {
     "data": {
      "text/html": "<img src=\"https://wikimedia.org/api/rest_v1/media/math/render/svg/c14bc18275503c8b2593498757740976cf0e078a\" height=\"175\"/>",
      "text/plain": "<IPython.core.display.Image object>"
     },
     "execution_count": 6,
     "metadata": {},
     "output_type": "execute_result"
    }
   ],
   "source": [
    "Image(url= \"https://wikimedia.org/api/rest_v1/media/math/render/svg/c14bc18275503c8b2593498757740976cf0e078a\", height=175)"
   ]
  },
  {
   "cell_type": "code",
   "execution_count": 7,
   "metadata": {
    "pycharm": {
     "name": "#%%\n"
    }
   },
   "outputs": [],
   "source": [
    "def gram_schmidt(u, v, k):\n",
    "    \"\"\"\n",
    "    Gram-Schmidt Process for step k\n",
    "    :param u: First set of vectors\n",
    "    :param v: Second set of vectors\n",
    "    :param k: Step\n",
    "    :return e: Orthonormal vector\n",
    "    \"\"\"\n",
    "    # Index starts at 0 (not 1) in python\n",
    "    k = k-1\n",
    "\n",
    "    # Get v_k\n",
    "    v_k = v[:, k]\n",
    "\n",
    "    # Calculate projection matrices\n",
    "    proj_sum = np.zeros(v_k.shape)\n",
    "\n",
    "    # Iterate from first to second-to-last element\n",
    "    for j in range(0, k):\n",
    "\n",
    "        # Project u_j onto v_k\n",
    "        proj_sum += project(u[:, j], v_k)\n",
    "\n",
    "    # Calculate the new vector\n",
    "    u_k = (v_k - proj_sum)\n",
    "\n",
    "    # Normalize\n",
    "    e_k = (u_k / np.linalg.norm(u_k))\n",
    "\n",
    "    return e_k"
   ]
  },
  {
   "cell_type": "code",
   "execution_count": 8,
   "outputs": [],
   "source": [
    "def gram_schmidt_matrix(A):\n",
    "    \"\"\"\n",
    "    Find the Gram-Schmidt of a Matrix\n",
    "    \"\"\"\n",
    "\n",
    "    # Set A to float type\n",
    "    A = A.astype('float64')\n",
    "\n",
    "    # Copy A. First column remains the same\n",
    "    U = np.copy(A.astype('float64'))\n",
    "\n",
    "    # Copy A. First column is the same but normalized\n",
    "    E = np.zeros(A.shape)\n",
    "    E[:, 0] = A[:, 0] / np.linalg.norm(A[:, 0])\n",
    "\n",
    "    # Iterate through each column\n",
    "    for k in range(1, U.shape[1]):\n",
    "\n",
    "        u_k = A[:, k]\n",
    "\n",
    "        # Iterate through each column to the left of k\n",
    "        for j in range(k):\n",
    "            u_k -= project(U[:, j], A[:, k])\n",
    "\n",
    "        # Update U\n",
    "        U[:, k] = u_k\n",
    "\n",
    "        # Update E\n",
    "        E[:, k] = U[:, k] / np.linalg.norm(U[:, k])\n",
    "\n",
    "    return E"
   ],
   "metadata": {
    "collapsed": false,
    "pycharm": {
     "name": "#%%\n"
    }
   }
  },
  {
   "cell_type": "code",
   "execution_count": 9,
   "metadata": {
    "pycharm": {
     "name": "#%%\n"
    }
   },
   "outputs": [
    {
     "name": "stdout",
     "output_type": "stream",
     "text": [
      "Gram-Schmidt Matrix of A:\n",
      "[[ 0.81428904 -0.57538581  0.07658021]\n",
      " [ 0.16285781  0.35309688  0.92130339]\n",
      " [ 0.55714513  0.73773556 -0.38122899]]\n"
     ]
    }
   ],
   "source": [
    "# Calculate the Gram-Schmidt of A\n",
    "gs_A = gram_schmidt_matrix(A)\n",
    "\n",
    "print(\"Gram-Schmidt Matrix of A:\")\n",
    "print(gs_A)"
   ]
  }
 ],
 "metadata": {
  "kernelspec": {
   "display_name": "Python 3 (ipykernel)",
   "language": "python",
   "name": "python3"
  },
  "language_info": {
   "codemirror_mode": {
    "name": "ipython",
    "version": 3
   },
   "file_extension": ".py",
   "mimetype": "text/x-python",
   "name": "python",
   "nbconvert_exporter": "python",
   "pygments_lexer": "ipython3",
   "version": "3.10.5"
  }
 },
 "nbformat": 4,
 "nbformat_minor": 1
}