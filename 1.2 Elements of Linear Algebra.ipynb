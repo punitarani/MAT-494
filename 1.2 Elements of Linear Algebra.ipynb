{
 "cells": [
  {
   "cell_type": "markdown",
   "metadata": {
    "pycharm": {
     "name": "#%% md\n"
    }
   },
   "source": [
    "# 1.2. Elements of Linear Algebra\n",
    "_________________________________\n",
    "### Key Concepts:\n",
    "* Orthogonality\n",
    "* Gram-Schmidt Process\n",
    "* Eigenvalues and Eigenvectors"
   ]
  },
  {
   "cell_type": "code",
   "execution_count": 1,
   "metadata": {
    "pycharm": {
     "name": "#%%\n"
    }
   },
   "outputs": [],
   "source": [
    "import numpy as np\n",
    "from IPython.core.display import Image"
   ]
  },
  {
   "cell_type": "markdown",
   "metadata": {
    "pycharm": {
     "name": "#%% md\n"
    }
   },
   "source": [
    "#### Helper Functions"
   ]
  },
  {
   "cell_type": "code",
   "execution_count": 2,
   "metadata": {
    "pycharm": {
     "name": "#%%\n"
    }
   },
   "outputs": [],
   "source": [
    "def generate_random_matrix(size: int = 3):\n",
    "    \"\"\"\n",
    "    Generates Random Square Matrix of given Size with Integers (0-99)\n",
    "    \"\"\"\n",
    "    return np.random.randint(0, 100, [size, size])"
   ]
  },
  {
   "cell_type": "markdown",
   "source": [
    "### Global Variables"
   ],
   "metadata": {
    "collapsed": false,
    "pycharm": {
     "name": "#%% md\n"
    }
   }
  },
  {
   "cell_type": "code",
   "execution_count": 3,
   "metadata": {
    "pycharm": {
     "name": "#%%\n"
    }
   },
   "outputs": [
    {
     "name": "stdout",
     "output_type": "stream",
     "text": [
      "Random 3x3 Matrix A:\n",
      " [[94 87 84]\n",
      " [47 39 50]\n",
      " [51 55 36]]\n",
      "Random 3x3 Matrix B:\n",
      " [[80 72 39]\n",
      " [88 87 70]\n",
      " [99 34 46]]\n"
     ]
    }
   ],
   "source": [
    "matrix_size = 3\n",
    "\n",
    "# Generate a random 3x3 Matrix A\n",
    "A = generate_random_matrix(matrix_size)\n",
    "print(\"Random 3x3 Matrix A:\\n\", A)\n",
    "\n",
    "# Generate another random matrix B\n",
    "B = generate_random_matrix(matrix_size)\n",
    "print(\"Random 3x3 Matrix B:\\n\", B)"
   ]
  },
  {
   "cell_type": "markdown",
   "metadata": {
    "pycharm": {
     "name": "#%% md\n"
    }
   },
   "source": [
    "## Projection\n",
    "\n",
    "${\\displaystyle \\operatorname {proj} _{\\mathbf {u} }(\\mathbf {v} )={\\frac {\\langle \\mathbf {u} ,\\mathbf {v} \\rangle }{\\langle \\mathbf {u} ,\\mathbf {u} \\rangle }}{\\mathbf {u} }}$\n"
   ]
  },
  {
   "cell_type": "code",
   "execution_count": 4,
   "metadata": {
    "pycharm": {
     "name": "#%%\n"
    }
   },
   "outputs": [],
   "source": [
    "def project(u, v):\n",
    "    \"\"\"\n",
    "    Project vector u onto v\n",
    "    :param u: Vector u\n",
    "    :param v: Vector v\n",
    "    :return:\n",
    "    \"\"\"\n",
    "    return np.multiply((np.dot(u, v) / np.dot(u, u)), u)"
   ]
  },
  {
   "cell_type": "code",
   "execution_count": 5,
   "metadata": {
    "pycharm": {
     "name": "#%%\n"
    }
   },
   "outputs": [
    {
     "name": "stdout",
     "output_type": "stream",
     "text": [
      "A1 Projected onto B1\n",
      "[115.07181592  57.53590796  62.43258098]\n"
     ]
    }
   ],
   "source": [
    "# Project the first col of A onto first col of B\n",
    "proj_A_B = project(A[:, 0], B[:, 0])\n",
    "print(\"A1 Projected onto B1\")\n",
    "print(proj_A_B)"
   ]
  },
  {
   "cell_type": "markdown",
   "metadata": {
    "pycharm": {
     "name": "#%% md\n"
    }
   },
   "source": [
    "## Gram-Schmidt Process\n"
   ]
  },
  {
   "cell_type": "code",
   "execution_count": 6,
   "metadata": {
    "pycharm": {
     "name": "#%%\n"
    }
   },
   "outputs": [
    {
     "data": {
      "text/html": "<img src=\"https://wikimedia.org/api/rest_v1/media/math/render/svg/c14bc18275503c8b2593498757740976cf0e078a\" height=\"175\"/>",
      "text/plain": "<IPython.core.display.Image object>"
     },
     "execution_count": 6,
     "metadata": {},
     "output_type": "execute_result"
    }
   ],
   "source": [
    "Image(url= \"https://wikimedia.org/api/rest_v1/media/math/render/svg/c14bc18275503c8b2593498757740976cf0e078a\", height=175)"
   ]
  },
  {
   "cell_type": "code",
   "execution_count": 7,
   "metadata": {
    "pycharm": {
     "name": "#%%\n"
    }
   },
   "outputs": [],
   "source": [
    "def gram_schmidt(u, v, k):\n",
    "    \"\"\"\n",
    "    Gram-Schmidt Process for step k\n",
    "    :param u: First set of vectors\n",
    "    :param v: Second set of vectors\n",
    "    :param k: Step\n",
    "    :return e: Orthonormal vector\n",
    "    \"\"\"\n",
    "    # Index starts at 0 (not 1) in python\n",
    "    k = k-1\n",
    "\n",
    "    # Get v_k\n",
    "    v_k = v[:, k]\n",
    "\n",
    "    # Calculate projection matrices\n",
    "    proj_sum = np.zeros(v_k.shape)\n",
    "\n",
    "    # Iterate from first to second-to-last element\n",
    "    for j in range(0, k):\n",
    "\n",
    "        # Project u_j onto v_k\n",
    "        proj_sum += project(u[:, j], v_k)\n",
    "\n",
    "    # Calculate the new vector\n",
    "    u_k = (v_k - proj_sum)\n",
    "\n",
    "    # Normalize\n",
    "    e_k = (u_k / np.linalg.norm(u_k))\n",
    "\n",
    "    return e_k"
   ]
  },
  {
   "cell_type": "code",
   "execution_count": 8,
   "outputs": [],
   "source": [
    "def gram_schmidt_matrix(A):\n",
    "    \"\"\"\n",
    "    Find the Gram-Schmidt of a Matrix\n",
    "    \"\"\"\n",
    "\n",
    "    # Set A to float type\n",
    "    A = A.astype('float64')\n",
    "\n",
    "    # Copy A. First column remains the same\n",
    "    U = np.copy(A.astype('float64'))\n",
    "\n",
    "    # Copy A. First column is the same but normalized\n",
    "    E = np.zeros(A.shape)\n",
    "    E[:, 0] = A[:, 0] / np.linalg.norm(A[:, 0])\n",
    "\n",
    "    # Iterate through each column\n",
    "    for k in range(1, U.shape[1]):\n",
    "\n",
    "        u_k = A[:, k]\n",
    "\n",
    "        # Iterate through each column to the left of k\n",
    "        for j in range(k):\n",
    "            u_k -= project(U[:, j], A[:, k])\n",
    "\n",
    "        # Update U\n",
    "        U[:, k] = u_k\n",
    "\n",
    "        # Update E\n",
    "        E[:, k] = U[:, k] / np.linalg.norm(U[:, k])\n",
    "\n",
    "    return E"
   ],
   "metadata": {
    "collapsed": false,
    "pycharm": {
     "name": "#%%\n"
    }
   }
  },
  {
   "cell_type": "code",
   "execution_count": 9,
   "metadata": {
    "pycharm": {
     "name": "#%%\n"
    }
   },
   "outputs": [
    {
     "name": "stdout",
     "output_type": "stream",
     "text": [
      "Gram-Schmidt Matrix of A:\n",
      "[[ 0.80468364 -0.14474457 -0.57578924]\n",
      " [ 0.40234182 -0.58021881  0.70814348]\n",
      " [ 0.43658368  0.80149556  0.40865579]]\n"
     ]
    }
   ],
   "source": [
    "# Calculate the Gram-Schmidt of A\n",
    "gs_A = gram_schmidt_matrix(A)\n",
    "\n",
    "print(\"Gram-Schmidt Matrix of A:\")\n",
    "print(gs_A)"
   ]
  },
  {
   "cell_type": "markdown",
   "source": [
    "## Eigenvalues and Eigenvectors\n",
    "\n",
    "${\\displaystyle A\\mathbf {x} =\\lambda \\mathbf {x}}$\n",
    "\n",
    "$A$ is a **Square Matrix**\n",
    "$\\lambda$ is an **Eigenvalue**\n",
    "$x$ is the corresponding **non-zero Eigenvector**"
   ],
   "metadata": {
    "collapsed": false,
    "pycharm": {
     "name": "#%% md\n"
    }
   }
  },
  {
   "cell_type": "markdown",
   "source": [
    "#### Power Method\n",
    "Iterative method to find the largest Eigenvalue and the corresponding Eigenvector"
   ],
   "metadata": {
    "collapsed": false,
    "pycharm": {
     "name": "#%% md\n"
    }
   }
  },
  {
   "cell_type": "code",
   "execution_count": 10,
   "outputs": [],
   "source": [
    "def power_method(A, n=100):\n",
    "    \"\"\"\n",
    "    Find the largest Eigenvalue and the corresponding Eigenvector\n",
    "    :param A: Matrix A\n",
    "    :param n: Number of Iterations\n",
    "    :return: (Eigenvalue, Eigenvector)\n",
    "    \"\"\"\n",
    "\n",
    "    # Generate a random starting eigenvector\n",
    "    e_vec = np.random.rand(A.shape[1])\n",
    "\n",
    "    # Initialize eigenvalue to 0\n",
    "    e_val = 0\n",
    "\n",
    "    for _ in range(n):\n",
    "        e_vec_n = np.dot(A, e_vec)\n",
    "\n",
    "        # Calculate the Eigenvalue\n",
    "        e_val = np.linalg.norm(e_vec_n)\n",
    "\n",
    "        # Normalize and update Eigenvector\n",
    "        e_vec = e_vec_n / e_val\n",
    "\n",
    "    return e_val, e_vec"
   ],
   "metadata": {
    "collapsed": false,
    "pycharm": {
     "name": "#%%\n"
    }
   }
  },
  {
   "cell_type": "code",
   "execution_count": 11,
   "outputs": [
    {
     "name": "stdout",
     "output_type": "stream",
     "text": [
      "Largest Eigenvalue:  183.49173700996943\n",
      "Largest Eigenvector:  [0.80359085 0.41051666 0.4309499 ]\n"
     ]
    }
   ],
   "source": [
    "l_eval_a, l_evec_a = power_method(A)\n",
    "\n",
    "print(\"Largest Eigenvalue: \", l_eval_a)\n",
    "print(\"Largest Eigenvector: \", l_evec_a)"
   ],
   "metadata": {
    "collapsed": false,
    "pycharm": {
     "name": "#%%\n"
    }
   }
  },
  {
   "cell_type": "markdown",
   "source": [
    "#### Verify"
   ],
   "metadata": {
    "collapsed": false,
    "pycharm": {
     "name": "#%% md\n"
    }
   }
  },
  {
   "cell_type": "code",
   "execution_count": 12,
   "outputs": [
    {
     "name": "stdout",
     "output_type": "stream",
     "text": [
      "Ax == λx\n"
     ]
    }
   ],
   "source": [
    "# Compute Ax and λx\n",
    "ax_a = np.dot(A, l_evec_a)\n",
    "lx_a = np.dot(l_eval_a, l_evec_a)\n",
    "\n",
    "# Compare Ax and λx\n",
    "ax_is_lx = np.allclose(ax_a, lx_a)\n",
    "print(f\"Ax { '==' if ax_is_lx else '!=' } λx\")"
   ],
   "metadata": {
    "collapsed": false,
    "pycharm": {
     "name": "#%%\n"
    }
   }
  }
 ],
 "metadata": {
  "kernelspec": {
   "display_name": "Python 3 (ipykernel)",
   "language": "python",
   "name": "python3"
  },
  "language_info": {
   "codemirror_mode": {
    "name": "ipython",
    "version": 3
   },
   "file_extension": ".py",
   "mimetype": "text/x-python",
   "name": "python",
   "nbconvert_exporter": "python",
   "pygments_lexer": "ipython3",
   "version": "3.10.5"
  }
 },
 "nbformat": 4,
 "nbformat_minor": 1
}