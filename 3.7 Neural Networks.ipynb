{
 "cells": [
  {
   "cell_type": "markdown",
   "source": [
    "<a href=\"https://colab.research.google.com/github/punitarani/MAT-494/blob/master/3.7%20Neural%20Networks.ipynb\" target=\"_parent\"><img src=\"https://colab.research.google.com/assets/colab-badge.svg\" alt=\"Open In Colab\"/></a>\n"
   ],
   "metadata": {
    "collapsed": false
   }
  },
  {
   "cell_type": "markdown",
   "source": [
    "# 3.7 Neural Networks"
   ],
   "metadata": {
    "collapsed": false
   }
  },
  {
   "cell_type": "markdown",
   "source": [
    "A neural network is a collection of connected layers of nodes to loosely model the neurons in the brain.\n",
    "\n",
    "### How does a Neural Network work?\n",
    "\n",
    "- The input layer receives the input data.\n",
    "- The hidden layers transform the input data into the output data.\n",
    "- The output layer produces the output data.\n",
    "- The weights and biases are updated using the backpropagation algorithm.\n",
    "- The loss function is used to measure the performance of the model.\n",
    "- The loss function is minimized using the gradient descent algorithm.\n",
    "- The model is tuned using the hyperparameters."
   ],
   "metadata": {
    "collapsed": false
   }
  }
 ],
 "metadata": {
  "kernelspec": {
   "display_name": "Python 3",
   "language": "python",
   "name": "python3"
  },
  "language_info": {
   "codemirror_mode": {
    "name": "ipython",
    "version": 2
   },
   "file_extension": ".py",
   "mimetype": "text/x-python",
   "name": "python",
   "nbconvert_exporter": "python",
   "pygments_lexer": "ipython2",
   "version": "2.7.6"
  }
 },
 "nbformat": 4,
 "nbformat_minor": 0
}
