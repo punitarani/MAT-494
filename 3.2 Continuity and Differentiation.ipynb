{
 "cells": [
  {
   "cell_type": "markdown",
   "metadata": {},
   "source": [
    "<a href=\"https://colab.research.google.com/github/punitarani/MAT-494/blob/master/3.2%20Continuity%20and%20Differentiation.ipynb\" target=\"_parent\"><img src=\"https://colab.research.google.com/assets/colab-badge.svg\" alt=\"Open In Colab\"/></a>\n"
   ]
  },
  {
   "cell_type": "markdown",
   "metadata": {},
   "source": [
    "# 3.2 Continuity and Differentiation\n",
    "____________________________________\n",
    "### Key Concepts:\n",
    "* Limits and Continuity"
   ]
  },
  {
   "cell_type": "code",
   "execution_count": 1,
   "metadata": {},
   "outputs": [],
   "source": [
    "import numpy as np\n",
    "from sympy import diff, limit, ln, sin, symbols"
   ]
  },
  {
   "cell_type": "markdown",
   "metadata": {},
   "source": [
    "## Limits and Continuity\n",
    "\n",
    "### Euclidean Norm\n",
    "\n",
    "$ ||x|| = \\sqrt{\\Sigma_{i=1}^d x_i^2} $"
   ]
  },
  {
   "cell_type": "code",
   "execution_count": 2,
   "metadata": {},
   "outputs": [],
   "source": [
    "def norm(X):\n",
    "    \"\"\"Euclidean Norm\"\"\"\n",
    "    return np.sqrt(np.sum(X**2))"
   ]
  },
  {
   "cell_type": "code",
   "execution_count": 3,
   "metadata": {},
   "outputs": [],
   "source": [
    "# Create list of X values\n",
    "_Xs = [\n",
    "    1,\n",
    "    np.array([1]),\n",
    "    np.array([1, 2]),\n",
    "    np.array([1, 2, 3, 4]),\n",
    "    np.array([[1], [2], [3], [4]]),\n",
    "    np.array([[1, 2], [3, 4]])\n",
    "]"
   ]
  },
  {
   "cell_type": "code",
   "execution_count": 4,
   "metadata": {},
   "outputs": [
    {
     "name": "stdout",
     "output_type": "stream",
     "text": [
      "1\n",
      "Norm:  1.0\n",
      "\n",
      "[1]\n",
      "Norm:  1.0\n",
      "\n",
      "[1 2]\n",
      "Norm:  2.23606797749979\n",
      "\n",
      "[1 2 3 4]\n",
      "Norm:  5.477225575051661\n",
      "\n",
      "[[1]\n",
      " [2]\n",
      " [3]\n",
      " [4]]\n",
      "Norm:  5.477225575051661\n",
      "\n",
      "[[1 2]\n",
      " [3 4]]\n",
      "Norm:  5.477225575051661\n",
      "\n"
     ]
    }
   ],
   "source": [
    "# Find the norm for each X\n",
    "for _X in _Xs:\n",
    "    print(_X)\n",
    "    print(\"Norm: \", norm(_X))\n",
    "    print()"
   ]
  },
  {
   "cell_type": "markdown",
   "metadata": {},
   "source": [
    "### Limits\n",
    "\n",
    "$\\underset{x \\to a}{lim} f(x) = L$"
   ]
  },
  {
   "cell_type": "code",
   "execution_count": 5,
   "metadata": {},
   "outputs": [],
   "source": [
    "# Create symbolic value of x\n",
    "x = symbols('x')"
   ]
  },
  {
   "cell_type": "code",
   "execution_count": 6,
   "metadata": {},
   "outputs": [],
   "source": [
    "# Create a list of symbolic functions\n",
    "_fxs = [\n",
    "    x,\n",
    "    x**2,\n",
    "    x**3,\n",
    "    1/x,\n",
    "    sin(x),\n",
    "    ln(x),\n",
    "    x*sin(x)/ln(x)\n",
    "]"
   ]
  },
  {
   "cell_type": "markdown",
   "metadata": {},
   "source": [
    "### Symbolic Limits"
   ]
  },
  {
   "cell_type": "code",
   "execution_count": 7,
   "metadata": {},
   "outputs": [
    {
     "name": "stdout",
     "output_type": "stream",
     "text": [
      "f(x) =  x\n",
      "---------\n",
      "Limits:\n",
      "\t -oo:  -oo\n",
      "\t -2:   -1\n",
      "\t 0:    0\n",
      "\t 3:    1\n",
      "\t oo:   oo\n",
      "\n",
      "f(x) =  x**2\n",
      "------------\n",
      "Limits:\n",
      "\t -oo:  oo\n",
      "\t -2:   1\n",
      "\t 0:    0\n",
      "\t 3:    1\n",
      "\t oo:   oo\n",
      "\n",
      "f(x) =  x**3\n",
      "------------\n",
      "Limits:\n",
      "\t -oo:  -oo\n",
      "\t -2:   -1\n",
      "\t 0:    0\n",
      "\t 3:    1\n",
      "\t oo:   oo\n",
      "\n",
      "f(x) =  1/x\n",
      "-----------\n",
      "Limits:\n",
      "\t -oo:  0\n",
      "\t -2:   -1\n",
      "\t 0:    oo\n",
      "\t 3:    1\n",
      "\t oo:   0\n",
      "\n",
      "f(x) =  sin(x)\n",
      "--------------\n",
      "Limits:\n",
      "\t -oo:  AccumBounds(-1, 1)\n",
      "\t -2:   -sin(1)\n",
      "\t 0:    0\n",
      "\t 3:    sin(1)\n",
      "\t oo:   AccumBounds(-1, 1)\n",
      "\n",
      "f(x) =  log(x)\n",
      "--------------\n",
      "Limits:\n",
      "\t -oo:  oo\n",
      "\t -2:   I*pi\n",
      "\t 0:    -oo\n",
      "\t 3:    0\n",
      "\t oo:   oo\n",
      "\n",
      "f(x) =  x*sin(x)/log(x)\n",
      "-----------------------\n",
      "Limits:\n",
      "\t -oo:  AccumBounds(-oo, oo)\n",
      "\t -2:   -I*sin(1)/pi\n",
      "\t 0:    0\n",
      "\t 3:    oo\n",
      "\t oo:   AccumBounds(-oo, oo)\n",
      "\n"
     ]
    }
   ],
   "source": [
    "# Find the limit for each function\n",
    "for _fx in _fxs:\n",
    "    print(\"f(x) = \", _fx)\n",
    "    print(\"-\"*(len(_fx.__str__())+8))\n",
    "\n",
    "    print(\"Limits:\")\n",
    "    print(\"\\t -oo: \",  limit(_fx, x, \"-oo\"))\n",
    "    print(\"\\t -2:  \",  limit(_fx, x, -1))\n",
    "    print(\"\\t 0:   \",  limit(_fx, x, 0))\n",
    "    print(\"\\t 3:   \",  limit(_fx, x, 1))\n",
    "    print(\"\\t oo:  \",  limit(_fx, x, \"oo\"))\n",
    "    print()"
   ]
  },
  {
   "cell_type": "markdown",
   "metadata": {},
   "source": [
    "## Derivatives\n",
    "\n",
    "Derivative of a function is the rate of change of the function with respect to the independent variable.\n",
    "\n",
    "$f'(x) = \\frac{df(x)}{dx} = \\lim_{h \\to 0} \\frac{f(x+h) - f(x)}{h}$"
   ]
  },
  {
   "cell_type": "markdown",
   "metadata": {},
   "source": [
    "### Symbolic Derivatives"
   ]
  },
  {
   "cell_type": "code",
   "execution_count": 8,
   "metadata": {},
   "outputs": [
    {
     "name": "stdout",
     "output_type": "stream",
     "text": [
      "f(x) =  x\n",
      "f'(x) =  1\n",
      "----------\n",
      "\n",
      "f(x) =  x**2\n",
      "f'(x) =  2*x\n",
      "------------\n",
      "\n",
      "f(x) =  x**3\n",
      "f'(x) =  3*x**2\n",
      "---------------\n",
      "\n",
      "f(x) =  1/x\n",
      "f'(x) =  -1/x**2\n",
      "----------------\n",
      "\n",
      "f(x) =  sin(x)\n",
      "f'(x) =  cos(x)\n",
      "---------------\n",
      "\n",
      "f(x) =  log(x)\n",
      "f'(x) =  1/x\n",
      "------------\n",
      "\n",
      "f(x) =  x*sin(x)/log(x)\n",
      "f'(x) =  x*cos(x)/log(x) + sin(x)/log(x) - sin(x)/log(x)**2\n",
      "-----------------------------------------------------------\n",
      "\n"
     ]
    }
   ],
   "source": [
    "# Find the limit for each function\n",
    "for _fx in _fxs:\n",
    "    print(\"f(x) = \", _fx)\n",
    "\n",
    "    _fprime = _fx.diff(x)\n",
    "    print(\"f'(x) = \", _fprime)\n",
    "    print(\"-\"*(len(_fprime.__str__())+9) + \"\\n\")"
   ]
  }
 ],
 "metadata": {
  "kernelspec": {
   "display_name": "Python 3 (ipykernel)",
   "language": "python",
   "name": "python3"
  },
  "language_info": {
   "codemirror_mode": {
    "name": "ipython",
    "version": 3
   },
   "file_extension": ".py",
   "mimetype": "text/x-python",
   "name": "python",
   "nbconvert_exporter": "python",
   "pygments_lexer": "ipython3",
   "version": "3.10.5"
  }
 },
 "nbformat": 4,
 "nbformat_minor": 1
}
