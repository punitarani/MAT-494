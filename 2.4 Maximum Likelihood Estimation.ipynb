{
 "cells": [
  {
   "cell_type": "markdown",
   "source": [
    "<a href=\"https://colab.research.google.com/github/punitarani/MAT-494/blob/master/2.4%20Maximum%20Likelihood%20Estimation.ipynb\" target=\"_parent\"><img src=\"https://colab.research.google.com/assets/colab-badge.svg\" alt=\"Open In Colab\"/></a>"
   ],
   "metadata": {
    "collapsed": false
   }
  },
  {
   "cell_type": "markdown",
   "source": [
    "# 2.4 Maximum Likelihood Estimation"
   ],
   "metadata": {
    "collapsed": false
   }
  },
  {
   "cell_type": "code",
   "execution_count": 1,
   "outputs": [],
   "source": [
    "import pandas as pd\n",
    "from sklearn import datasets"
   ],
   "metadata": {
    "collapsed": false
   }
  },
  {
   "cell_type": "markdown",
   "source": [
    "## Load Diabetes Dataset\n",
    "\n",
    "Ten baseline variables, age, sex, body mass index, average blood pressure, and six blood serum measurements were obtained for each of n = 442 diabetes patients, as well as the response of interest, a quantitative measure of disease progression one year after baseline.\n",
    "\n",
    "### Columns\n",
    "\n",
    "* **age** in years\n",
    "\n",
    "* **sex**\n",
    "\n",
    "* **bmi**: body mass index\n",
    "\n",
    "* **bp**: average blood pressure\n",
    "\n",
    "* **s1**: tc, total serum cholesterol\n",
    "\n",
    "* **s2**: ldl, low-density lipoproteins\n",
    "\n",
    "* **s3**: hdl, high-density lipoproteins\n",
    "\n",
    "* **s4**: tch, total cholesterol / HDL\n",
    "\n",
    "* **s5**: ltg, possibly log of serum triglycerides level\n",
    "\n",
    "* **s6**: glu, blood sugar level"
   ],
   "metadata": {
    "collapsed": false
   }
  },
  {
   "cell_type": "code",
   "execution_count": 2,
   "outputs": [
    {
     "name": "stdout",
     "output_type": "stream",
     "text": [
      "DataFrame Size:  (442, 10)\n",
      "\n",
      "Columns and Data Types:\n",
      "age      int32\n",
      "sex      int32\n",
      "bmi    float64\n",
      "bp       int32\n",
      "s1     float64\n",
      "s2     float64\n",
      "s3     float64\n",
      "s4     float64\n",
      "s5     float64\n",
      "s6     float64\n",
      "dtype: object\n"
     ]
    }
   ],
   "source": [
    "# Diabetes Dataset Data and Target\n",
    "dbdf, db_target = datasets.load_diabetes(return_X_y=True, as_frame=True, scaled=False)\n",
    "\n",
    "# All the columns are float64 by default\n",
    "# Make the following columns int32\n",
    "dbdf = dbdf.astype({\"age\": int, \"sex\": int, \"bp\": int})\n",
    "\n",
    "# Print DataFrame Shape\n",
    "print(\"DataFrame Size: \", dbdf.shape)\n",
    "\n",
    "# Print Columns and DataTypes\n",
    "print(\"\\nColumns and Data Types:\")\n",
    "print(dbdf.dtypes)"
   ],
   "metadata": {
    "collapsed": false
   }
  },
  {
   "cell_type": "code",
   "execution_count": 3,
   "outputs": [
    {
     "name": "stdout",
     "output_type": "stream",
     "text": [
      "   age  sex   bmi   bp     s1     s2    s3   s4      s5    s6  target\n",
      "0   59    2  32.1  101  157.0   93.2  38.0  4.0  4.8598  87.0   151.0\n",
      "1   48    1  21.6   87  183.0  103.2  70.0  3.0  3.8918  69.0    75.0\n",
      "2   72    2  30.5   93  156.0   93.6  41.0  4.0  4.6728  85.0   141.0\n",
      "3   24    1  25.3   84  198.0  131.4  40.0  5.0  4.8903  89.0   206.0\n",
      "4   50    1  23.0  101  192.0  125.4  52.0  4.0  4.2905  80.0   135.0\n"
     ]
    }
   ],
   "source": [
    "print(pd.concat([dbdf, db_target], axis=1).head(5))"
   ],
   "metadata": {
    "collapsed": false
   }
  },
  {
   "cell_type": "markdown",
   "source": [
    "### Calculate Mean and Variance"
   ],
   "metadata": {
    "collapsed": false
   }
  },
  {
   "cell_type": "code",
   "execution_count": 4,
   "outputs": [
    {
     "name": "stdout",
     "output_type": "stream",
     "text": [
      "           mean          std\n",
      "age   48.518100   171.846610\n",
      "sex    1.468326     0.249561\n",
      "bmi   26.375792    19.519798\n",
      "bp    94.601810   191.355824\n",
      "s1   189.140271  1197.717241\n",
      "s2   115.439140   924.955494\n",
      "s3    49.788462   167.293585\n",
      "s4     4.070249     1.665261\n",
      "s5     4.641411     0.272892\n",
      "s6    91.260181   132.165712\n"
     ]
    }
   ],
   "source": [
    "dbdf_mean = dbdf.mean()\n",
    "dbdf_var = dbdf.var()\n",
    "\n",
    "print(pd.concat([dbdf_mean.rename(\"mean\"), dbdf_var.rename(\"std\")], axis=1))"
   ],
   "metadata": {
    "collapsed": false
   }
  },
  {
   "cell_type": "markdown",
   "source": [
    "## MLE for Random Samples\n",
    "\n",
    "Maximize a likelihood function to solve the probability distribution and parameters to best explain the data\n",
    "\n",
    "$ \\hat \\mu = \\bar X $,\n",
    "\n",
    "$ \\hat \\sigma ^2 = \\frac{\\Sigma (X_i - \\bar X) ^2}{n} $"
   ],
   "metadata": {
    "collapsed": false
   }
  }
 ],
 "metadata": {
  "kernelspec": {
   "display_name": "Python 3",
   "language": "python",
   "name": "python3"
  },
  "language_info": {
   "codemirror_mode": {
    "name": "ipython",
    "version": 2
   },
   "file_extension": ".py",
   "mimetype": "text/x-python",
   "name": "python",
   "nbconvert_exporter": "python",
   "pygments_lexer": "ipython2",
   "version": "2.7.6"
  }
 },
 "nbformat": 4,
 "nbformat_minor": 0
}
