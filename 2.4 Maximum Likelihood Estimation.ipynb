{
 "cells": [
  {
   "cell_type": "markdown",
   "metadata": {},
   "source": [
    "<a href=\"https://colab.research.google.com/github/punitarani/MAT-494/blob/master/2.4%20Maximum%20Likelihood%20Estimation.ipynb\" target=\"_parent\"><img src=\"https://colab.research.google.com/assets/colab-badge.svg\" alt=\"Open In Colab\"/></a>"
   ]
  },
  {
   "cell_type": "markdown",
   "metadata": {},
   "source": [
    "# 2.4 Maximum Likelihood Estimation"
   ]
  },
  {
   "cell_type": "code",
   "execution_count": 1,
   "metadata": {},
   "outputs": [],
   "source": [
    "import matplotlib.pyplot as plt\n",
    "import pandas as pd\n",
    "from sklearn import datasets"
   ]
  },
  {
   "cell_type": "code",
   "execution_count": 2,
   "metadata": {},
   "outputs": [],
   "source": [
    "plt.style.use(\"seaborn-notebook\")"
   ]
  },
  {
   "cell_type": "markdown",
   "metadata": {},
   "source": [
    "## Load Diabetes Dataset"
   ]
  },
  {
   "cell_type": "code",
   "execution_count": 3,
   "metadata": {},
   "outputs": [
    {
     "name": "stdout",
     "output_type": "stream",
     "text": [
      "DataFrame Size:  (442, 10)\n",
      "\n",
      "Columns and Data Types:\n",
      "age      int32\n",
      "sex      int32\n",
      "bmi    float64\n",
      "bp       int32\n",
      "s1     float64\n",
      "s2     float64\n",
      "s3     float64\n",
      "s4     float64\n",
      "s5     float64\n",
      "s6     float64\n",
      "dtype: object\n"
     ]
    }
   ],
   "source": [
    "# Diabetes Dataset Data and Target\n",
    "dbdf, db_target = datasets.load_diabetes(return_X_y=True, as_frame=True, scaled=False)\n",
    "\n",
    "# All the columns are float64 by default\n",
    "# Make the following columns int32\n",
    "dbdf = dbdf.astype({\"age\": int, \"sex\": int, \"bp\": int})\n",
    "\n",
    "# Print DataFrame Shape\n",
    "print(\"DataFrame Size: \", dbdf.shape)\n",
    "\n",
    "# Print Columns and DataTypes\n",
    "print(\"\\nColumns and Data Types:\")\n",
    "print(dbdf.dtypes)"
   ]
  },
  {
   "cell_type": "code",
   "execution_count": 4,
   "metadata": {},
   "outputs": [
    {
     "name": "stdout",
     "output_type": "stream",
     "text": [
      "   age  sex   bmi   bp     s1     s2    s3   s4      s5    s6  target\n",
      "0   59    2  32.1  101  157.0   93.2  38.0  4.0  4.8598  87.0   151.0\n",
      "1   48    1  21.6   87  183.0  103.2  70.0  3.0  3.8918  69.0    75.0\n",
      "2   72    2  30.5   93  156.0   93.6  41.0  4.0  4.6728  85.0   141.0\n",
      "3   24    1  25.3   84  198.0  131.4  40.0  5.0  4.8903  89.0   206.0\n",
      "4   50    1  23.0  101  192.0  125.4  52.0  4.0  4.2905  80.0   135.0\n"
     ]
    }
   ],
   "source": [
    "print(pd.concat([dbdf, db_target], axis=1).head(5))"
   ]
  },
  {
   "cell_type": "markdown",
   "metadata": {},
   "source": [
    "### Calculate Mean and Variance"
   ]
  },
  {
   "cell_type": "code",
   "execution_count": 5,
   "metadata": {},
   "outputs": [
    {
     "name": "stdout",
     "output_type": "stream",
     "text": [
      "           mean          std\n",
      "age   48.518100   171.846610\n",
      "sex    1.468326     0.249561\n",
      "bmi   26.375792    19.519798\n",
      "bp    94.601810   191.355824\n",
      "s1   189.140271  1197.717241\n",
      "s2   115.439140   924.955494\n",
      "s3    49.788462   167.293585\n",
      "s4     4.070249     1.665261\n",
      "s5     4.641411     0.272892\n",
      "s6    91.260181   132.165712\n"
     ]
    }
   ],
   "source": [
    "dbdf_mean = dbdf.mean()\n",
    "dbdf_var = dbdf.var()\n",
    "\n",
    "print(pd.concat([dbdf_mean.rename(\"mean\"), dbdf_var.rename(\"std\")], axis=1))"
   ]
  },
  {
   "cell_type": "markdown",
   "metadata": {},
   "source": [
    "## MLE for Random Samples\n",
    "\n",
    "Maximize a likelihood function to solve the probability distribution and parameters to best explain the data\n",
    "\n",
    "$ \\hat \\mu = \\bar X $,\n",
    "\n",
    "$ \\hat \\sigma ^2 = \\frac{\\Sigma (X_i - \\bar X) ^2}{n} $"
   ]
  },
  {
   "cell_type": "markdown",
   "metadata": {},
   "source": [
    "## Linear Regression\n",
    "\n",
    "$ \\hat \\beta = arg min {\\Sigma _{i=1} ^ n (y_i - \\hat y_i) ^2} $\n",
    "\n",
    "### Gradient Descent\n",
    "\n",
    "Gradient Descent is one of the MLE approaches to solving a simple linear regression problem.\n",
    "\n",
    "Slope: $ \\theta _m = - \\frac{2}{N} \\Sigma _{i=1} ^N x_i(y_i - mx_i + b) $\n",
    "\n",
    "Intercept: $ \\theta _b = - \\frac{2}{N} \\Sigma _{i=1} ^N (y_i - mx_i + b) $\n"
   ]
  },
  {
   "cell_type": "code",
   "execution_count": 6,
   "metadata": {},
   "outputs": [],
   "source": [
    "def gdm(X, Y, m, b):\n",
    "    \"\"\"\n",
    "    Gradient Descent for Slope\n",
    "    :param X: X values\n",
    "    :param Y: Y values\n",
    "    :param m: Slope Estimate\n",
    "    :param b: Intercept Estimate\n",
    "    \"\"\"\n",
    "\n",
    "    N = len(X)\n",
    "\n",
    "    diff = 0\n",
    "    for x, y in zip(X, Y):\n",
    "      diff += x*(y - (m*x+b))\n",
    "\n",
    "    return -2/N * diff"
   ]
  },
  {
   "cell_type": "code",
   "execution_count": 7,
   "metadata": {},
   "outputs": [],
   "source": [
    "def gdb(X, Y, m, b):\n",
    "    \"\"\"\n",
    "    Gradient Descent for Intercept\n",
    "    :param X: X values\n",
    "    :param Y: Y values\n",
    "    :param m: Slope Estimate\n",
    "    :param b: Intercept Estimate\n",
    "    \"\"\"\n",
    "\n",
    "    N = len(X)\n",
    "\n",
    "    diff = 0\n",
    "    for x, y in zip(X, Y):\n",
    "      diff += (y - (m*x+b))\n",
    "\n",
    "    return -2/N * diff"
   ]
  },
  {
   "cell_type": "code",
   "execution_count": 8,
   "metadata": {},
   "outputs": [],
   "source": [
    "def gd_step(X, Y, m, b, rate=0.01):\n",
    "    \"\"\"\n",
    "    Gradient Descent Step\n",
    "    :param X: X values\n",
    "    :param Y: Y values\n",
    "    :param m: Slope Estimate\n",
    "    :param b: Intercept Estimate\n",
    "    :param rate: Learning Rate\n",
    "    :return: [Slope, Intercept]\n",
    "    \"\"\"\n",
    "\n",
    "    return [\n",
    "        m - (rate * gdm(X, Y, m, b)),\n",
    "        b - (rate * gdb(X, Y, m, b))\n",
    "    ]"
   ]
  },
  {
   "cell_type": "code",
   "execution_count": 9,
   "metadata": {},
   "outputs": [],
   "source": [
    "def gd_lr(X, Y, n=1000, rate=0.01):\n",
    "    \"\"\"\n",
    "    Gradient Descent Linear Regression\n",
    "    :param X: X values\n",
    "    :param Y: Y values\n",
    "    :param n: Number of Iterations\n",
    "    :param rate: Learning Rate\n",
    "    :return: [Slope, Intercept]\n",
    "    \"\"\"\n",
    "    # Starting values\n",
    "    m = 0\n",
    "    b = 0\n",
    "\n",
    "    for i in range(n):\n",
    "        [m, b] = gd_step(X, Y, m, b, rate)\n",
    "\n",
    "    return [m, b]"
   ]
  },
  {
   "cell_type": "markdown",
   "metadata": {},
   "source": [
    "## MLE for Linear Regression Demo"
   ]
  },
  {
   "cell_type": "code",
   "execution_count": 10,
   "metadata": {},
   "outputs": [],
   "source": [
    "bmi_m, bmi_b = gd_lr(dbdf[\"bmi\"], db_target, 10000, 0.0001)\n",
    "bmi_t_est = bmi_m * dbdf[\"bmi\"] + bmi_b"
   ]
  },
  {
   "cell_type": "code",
   "execution_count": 11,
   "metadata": {},
   "outputs": [
    {
     "data": {
      "image/png": "[encoded data removed]",
      "text/plain": [
       "<Figure size 800x550 with 1 Axes>"
      ]
     },
     "metadata": {},
     "output_type": "display_data"
    }
   ],
   "source": [
    "bmi_fig = plt.subplots()\n",
    "\n",
    "plt.scatter(dbdf[\"bmi\"], db_target.values)\n",
    "plt.plot(dbdf[\"bmi\"], bmi_t_est, color=\"r\")\n",
    "\n",
    "plt.show()"
   ]
  }
 ],
 "metadata": {
  "kernelspec": {
   "display_name": "Python 3 (ipykernel)",
   "language": "python",
   "name": "python3"
  },
  "language_info": {
   "codemirror_mode": {
    "name": "ipython",
    "version": 3
   },
   "file_extension": ".py",
   "mimetype": "text/x-python",
   "name": "python",
   "nbconvert_exporter": "python",
   "pygments_lexer": "ipython3",
   "version": "3.10.5"
  }
 },
 "nbformat": 4,
 "nbformat_minor": 1
}
