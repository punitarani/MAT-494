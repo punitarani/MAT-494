{
 "cells": [
  {
   "cell_type": "markdown",
   "source": [
    "# 1.3. Linear Regression\n",
    "_________________________________\n",
    "### Key Concepts:\n",
    "* QR Decomposition\n",
    "* Least Squares\n",
    "* Linear Regression"
   ],
   "metadata": {
    "collapsed": false,
    "pycharm": {
     "name": "#%% md\n"
    }
   }
  },
  {
   "cell_type": "code",
   "execution_count": 1,
   "metadata": {
    "collapsed": true,
    "pycharm": {
     "name": "#%%\n"
    }
   },
   "outputs": [],
   "source": [
    "import numpy as np\n",
    "from IPython.core.display import Image"
   ]
  },
  {
   "cell_type": "markdown",
   "source": [
    "### Helper Functions"
   ],
   "metadata": {
    "collapsed": false,
    "pycharm": {
     "name": "#%% md\n"
    }
   }
  },
  {
   "cell_type": "code",
   "execution_count": 2,
   "outputs": [],
   "source": [
    "def generate_random_matrix(size: int = 3):\n",
    "    \"\"\"\n",
    "    Generates Random Square Matrix of given Size with Integers (0-99)\n",
    "    \"\"\"\n",
    "    return np.random.randint(0, 100, [size, size])"
   ],
   "metadata": {
    "collapsed": false,
    "pycharm": {
     "name": "#%%\n"
    }
   }
  },
  {
   "cell_type": "code",
   "execution_count": 3,
   "outputs": [],
   "source": [
    "def project(u, a):\n",
    "    \"\"\"\n",
    "    Project vector u onto a\n",
    "    \"\"\"\n",
    "    return (np.dot(u, a) / np.dot(u, u)) * u"
   ],
   "metadata": {
    "collapsed": false,
    "pycharm": {
     "name": "#%%\n"
    }
   }
  },
  {
   "cell_type": "code",
   "execution_count": 4,
   "outputs": [],
   "source": [
    "def gram_schmidt_matrix(A):\n",
    "    \"\"\"\n",
    "    Find the Gram-Schmidt of a Matrix\n",
    "    \"\"\"\n",
    "\n",
    "    # Set A to float type\n",
    "    A = A.astype('float64')\n",
    "\n",
    "    # Copy A. First column remains the same\n",
    "    U = np.copy(A.astype('float64'))\n",
    "\n",
    "    # Copy A. First column is the same but normalized\n",
    "    E = np.zeros(A.shape)\n",
    "    E[:, 0] = A[:, 0] / np.linalg.norm(A[:, 0])\n",
    "\n",
    "    # Iterate through each column\n",
    "    for k in range(1, U.shape[1]):\n",
    "\n",
    "        u_k = A[:, k]\n",
    "\n",
    "        # Iterate through each column to the left of k\n",
    "        for j in range(k):\n",
    "            u_k -= project(U[:, j], A[:, k])\n",
    "\n",
    "        # Update U\n",
    "        U[:, k] = u_k\n",
    "\n",
    "        # Update E\n",
    "        E[:, k] = U[:, k] / np.linalg.norm(U[:, k])\n",
    "\n",
    "    return E"
   ],
   "metadata": {
    "collapsed": false,
    "pycharm": {
     "name": "#%%\n"
    }
   }
  },
  {
   "cell_type": "markdown",
   "source": [
    "### Global Variables"
   ],
   "metadata": {
    "collapsed": false,
    "pycharm": {
     "name": "#%% md\n"
    }
   }
  },
  {
   "cell_type": "code",
   "execution_count": 5,
   "outputs": [
    {
     "name": "stdout",
     "output_type": "stream",
     "text": [
      "Random 3x3 Matrix A:\n",
      " [[60 67 10]\n",
      " [93 66 71]\n",
      " [89 74 77]]\n",
      "Random 3x3 Matrix B:\n",
      " [[20  4 72]\n",
      " [18 30 49]\n",
      " [65 44 80]]\n"
     ]
    }
   ],
   "source": [
    "matrix_size = 3\n",
    "\n",
    "# Generate a random 3x3 Matrix A\n",
    "A = generate_random_matrix(matrix_size)\n",
    "print(\"Random 3x3 Matrix A:\\n\", A)\n",
    "\n",
    "# Generate another random matrix B\n",
    "B = generate_random_matrix(matrix_size)\n",
    "print(\"Random 3x3 Matrix B:\\n\", B)"
   ],
   "metadata": {
    "collapsed": false,
    "pycharm": {
     "name": "#%%\n"
    }
   }
  },
  {
   "cell_type": "markdown",
   "source": [
    "## QR Decomposition\n",
    "\n",
    "A square matrix $A$ is decomposed as\n",
    "$A=QR$\n",
    "where $Q$ is an orthogonal matrix (i.e. $Q ^T = Q ^{-1}$)\n",
    "and $R$ is an upper/right triangular matrix\n",
    "\n",
    "Formulas:\n",
    "$Q = [e _1 ... e _k ]$\n",
    "$R = Q ^T A$"
   ],
   "metadata": {
    "collapsed": false,
    "pycharm": {
     "name": "#%% md\n"
    }
   }
  },
  {
   "cell_type": "code",
   "execution_count": 6,
   "outputs": [],
   "source": [
    "def QR(A):\n",
    "    \"\"\"\n",
    "    QR Decomposition of A\n",
    "    :param A: Square Matrix A\n",
    "    :return: (Q, R)\n",
    "    \"\"\"\n",
    "\n",
    "    # Calculate Q\n",
    "    Q = gram_schmidt_matrix(A)\n",
    "\n",
    "    # Calculate R\n",
    "    R = np.zeros(A.shape)\n",
    "    for row in range(A.shape[0]):\n",
    "        for col in range(row, A.shape[0]):\n",
    "            R[row, col] = np.dot(A[:, col], Q[:, row])\n",
    "\n",
    "    return Q, R"
   ],
   "metadata": {
    "collapsed": false,
    "pycharm": {
     "name": "#%%\n"
    }
   }
  },
  {
   "cell_type": "code",
   "execution_count": 7,
   "outputs": [
    {
     "name": "stdout",
     "output_type": "stream",
     "text": [
      "QR Decomposition of A:\n",
      "[[60 67 10]\n",
      " [93 66 71]\n",
      " [89 74 77]]\n",
      "\n",
      "Q:\n",
      "[[ 0.42247236  0.83778405 -0.34588291]\n",
      " [ 0.65483216 -0.54597185 -0.52259888]\n",
      " [ 0.62666733  0.00571167  0.77926595]]\n",
      "\n",
      "R:\n",
      "[[142.02112519 117.8979534   98.97119165]\n",
      " [  0.          20.52005319 -29.94636204]\n",
      " [  0.           0.          19.4401292 ]]\n",
      "\n"
     ]
    }
   ],
   "source": [
    "Q_A, R_A = QR(A)\n",
    "\n",
    "print(f\"QR Decomposition of A:\\n{A}\\n\")\n",
    "print(f\"Q:\\n{Q_A}\\n\")\n",
    "print(f\"R:\\n{R_A}\\n\")"
   ],
   "metadata": {
    "collapsed": false,
    "pycharm": {
     "name": "#%%\n"
    }
   }
  },
  {
   "cell_type": "markdown",
   "source": [
    "#### Verify Q is Orthonormal\n",
    "$Q \\cdot Q ^T = I$"
   ],
   "metadata": {
    "collapsed": false,
    "pycharm": {
     "name": "#%% md\n"
    }
   }
  },
  {
   "cell_type": "code",
   "execution_count": 8,
   "outputs": [
    {
     "name": "stdout",
     "output_type": "stream",
     "text": [
      "QQt:\n",
      " [[ 1. -0.  0.]\n",
      " [-0.  1. -0.]\n",
      " [ 0. -0.  1.]] \n",
      "\n",
      "QQt IS an Identity Matrix\n"
     ]
    }
   ],
   "source": [
    "# Calculate QQt\n",
    "QQt_A = np.dot(Q_A, np.transpose(Q_A))\n",
    "# Round to 5 decimals\n",
    "QQt_A = np.round(QQt_A, 5)\n",
    "\n",
    "print(f\"QQt:\\n {QQt_A} \\n\")\n",
    "\n",
    "# Check if QQt is an Identity Matrix\n",
    "QQt_is_I = np.allclose(QQt_A, np.eye(A.shape[0]))\n",
    "print(f\"QQt {'IS' if QQt_is_I else 'IS NOT'} an Identity Matrix\")"
   ],
   "metadata": {
    "collapsed": false,
    "pycharm": {
     "name": "#%%\n"
    }
   }
  },
  {
   "cell_type": "markdown",
   "source": [
    "#### Verify $A=QR$"
   ],
   "metadata": {
    "collapsed": false,
    "pycharm": {
     "name": "#%% md\n"
    }
   }
  },
  {
   "cell_type": "code",
   "execution_count": 9,
   "outputs": [
    {
     "name": "stdout",
     "output_type": "stream",
     "text": [
      "A:\n",
      " [[60 67 10]\n",
      " [93 66 71]\n",
      " [89 74 77]] \n",
      "\n",
      "QR:\n",
      " [[60. 67. 10.]\n",
      " [93. 66. 71.]\n",
      " [89. 74. 77.]] \n",
      "\n",
      "QR == A\n"
     ]
    }
   ],
   "source": [
    "# Calculate A=QR\n",
    "AQR = np.dot(Q_A, R_A)\n",
    "print(f\"A:\\n {A} \\n\")\n",
    "print(f\"QR:\\n {AQR} \\n\")\n",
    "\n",
    "# Check if QR = A\n",
    "QR_is_A = np.allclose(AQR, A)\n",
    "print(f\"QR {'==' if QR_is_A else '!='} A\")"
   ],
   "metadata": {
    "collapsed": false,
    "pycharm": {
     "name": "#%%\n"
    }
   }
  },
  {
   "cell_type": "markdown",
   "source": [],
   "metadata": {
    "collapsed": false,
    "pycharm": {
     "name": "#%% md\n"
    }
   }
  }
 ],
 "metadata": {
  "kernelspec": {
   "display_name": "Python 3",
   "language": "python",
   "name": "python3"
  },
  "language_info": {
   "codemirror_mode": {
    "name": "ipython",
    "version": 2
   },
   "file_extension": ".py",
   "mimetype": "text/x-python",
   "name": "python",
   "nbconvert_exporter": "python",
   "pygments_lexer": "ipython2",
   "version": "2.7.6"
  }
 },
 "nbformat": 4,
 "nbformat_minor": 0
}