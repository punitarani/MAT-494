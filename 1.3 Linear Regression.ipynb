{
 "cells": [
  {
   "cell_type": "markdown",
   "source": [
    "# 1.3. Linear Regression\n",
    "_________________________________\n",
    "### Key Concepts:\n",
    "* QR Decomposition\n",
    "* Least Squares\n",
    "* Linear Regression"
   ],
   "metadata": {
    "collapsed": false,
    "pycharm": {
     "name": "#%% md\n"
    }
   }
  },
  {
   "cell_type": "code",
   "execution_count": 1,
   "metadata": {
    "collapsed": true,
    "pycharm": {
     "name": "#%%\n"
    }
   },
   "outputs": [],
   "source": [
    "import numpy as np\n",
    "import plotly.express as px\n",
    "\n",
    "# Set Plotly theme\n",
    "import plotly.io as pio\n",
    "pio.templates.default = \"seaborn\""
   ]
  },
  {
   "cell_type": "markdown",
   "source": [
    "### Helper Functions"
   ],
   "metadata": {
    "collapsed": false,
    "pycharm": {
     "name": "#%% md\n"
    }
   }
  },
  {
   "cell_type": "code",
   "execution_count": 2,
   "outputs": [],
   "source": [
    "def generate_random_matrix(size: int = 3):\n",
    "    \"\"\"\n",
    "    Generates Random Square Matrix of given Size with Integers (0-99)\n",
    "    \"\"\"\n",
    "    return np.random.randint(0, 100, [size, size])"
   ],
   "metadata": {
    "collapsed": false,
    "pycharm": {
     "name": "#%%\n"
    }
   }
  },
  {
   "cell_type": "code",
   "execution_count": 3,
   "outputs": [],
   "source": [
    "def project(u, a):\n",
    "    \"\"\"\n",
    "    Project vector u onto a\n",
    "    \"\"\"\n",
    "    return (np.dot(u, a) / np.dot(u, u)) * u"
   ],
   "metadata": {
    "collapsed": false,
    "pycharm": {
     "name": "#%%\n"
    }
   }
  },
  {
   "cell_type": "code",
   "execution_count": 4,
   "outputs": [],
   "source": [
    "def gram_schmidt_matrix(A):\n",
    "    \"\"\"\n",
    "    Find the Gram-Schmidt of a Matrix\n",
    "    \"\"\"\n",
    "\n",
    "    # Set A to float type\n",
    "    A = A.astype('float64')\n",
    "\n",
    "    # Copy A. First column remains the same\n",
    "    U = np.copy(A.astype('float64'))\n",
    "\n",
    "    # Copy A. First column is the same but normalized\n",
    "    E = np.zeros(A.shape)\n",
    "    E[:, 0] = A[:, 0] / np.linalg.norm(A[:, 0])\n",
    "\n",
    "    # Iterate through each column\n",
    "    for k in range(1, U.shape[1]):\n",
    "\n",
    "        u_k = A[:, k]\n",
    "\n",
    "        # Iterate through each column to the left of k\n",
    "        for j in range(k):\n",
    "            u_k -= project(U[:, j], A[:, k])\n",
    "\n",
    "        # Update U\n",
    "        U[:, k] = u_k\n",
    "\n",
    "        # Update E\n",
    "        E[:, k] = U[:, k] / np.linalg.norm(U[:, k])\n",
    "\n",
    "    return E"
   ],
   "metadata": {
    "collapsed": false,
    "pycharm": {
     "name": "#%%\n"
    }
   }
  },
  {
   "cell_type": "markdown",
   "source": [
    "### Global Variables"
   ],
   "metadata": {
    "collapsed": false,
    "pycharm": {
     "name": "#%% md\n"
    }
   }
  },
  {
   "cell_type": "code",
   "execution_count": 5,
   "outputs": [
    {
     "name": "stdout",
     "output_type": "stream",
     "text": [
      "Random 3x3 Matrix A:\n",
      " [[41 94 25]\n",
      " [37 42 39]\n",
      " [86 20 32]]\n",
      "Random 3x3 Matrix B:\n",
      " [[35 64 47]\n",
      " [25 80 61]\n",
      " [81 86 97]]\n"
     ]
    }
   ],
   "source": [
    "matrix_size = 3\n",
    "\n",
    "# Generate a random 3x3 Matrix A\n",
    "A = generate_random_matrix(matrix_size)\n",
    "print(\"Random 3x3 Matrix A:\\n\", A)\n",
    "\n",
    "# Generate another random matrix B\n",
    "B = generate_random_matrix(matrix_size)\n",
    "print(\"Random 3x3 Matrix B:\\n\", B)"
   ],
   "metadata": {
    "collapsed": false,
    "pycharm": {
     "name": "#%%\n"
    }
   }
  },
  {
   "cell_type": "markdown",
   "source": [
    "## QR Decomposition\n",
    "\n",
    "A square matrix $A$ is decomposed as\n",
    "$A=QR$\n",
    "where $Q$ is an orthogonal matrix (i.e. $Q ^T = Q ^{-1}$)\n",
    "and $R$ is an upper/right triangular matrix\n",
    "\n",
    "Formulas:\n",
    "$Q = [e _1 ... e _k ]$\n",
    "$R = Q ^T A$"
   ],
   "metadata": {
    "collapsed": false,
    "pycharm": {
     "name": "#%% md\n"
    }
   }
  },
  {
   "cell_type": "code",
   "execution_count": 6,
   "outputs": [],
   "source": [
    "def QR(A):\n",
    "    \"\"\"\n",
    "    QR Decomposition of A\n",
    "    :param A: Square Matrix A\n",
    "    :return: (Q, R)\n",
    "    \"\"\"\n",
    "\n",
    "    # Calculate Q\n",
    "    Q = gram_schmidt_matrix(A)\n",
    "\n",
    "    # Calculate R\n",
    "    R = np.zeros(A.shape)\n",
    "    for row in range(A.shape[0]):\n",
    "        for col in range(row, A.shape[0]):\n",
    "            R[row, col] = np.dot(A[:, col], Q[:, row])\n",
    "\n",
    "    return Q, R"
   ],
   "metadata": {
    "collapsed": false,
    "pycharm": {
     "name": "#%%\n"
    }
   }
  },
  {
   "cell_type": "code",
   "execution_count": 7,
   "outputs": [
    {
     "name": "stdout",
     "output_type": "stream",
     "text": [
      "QR Decomposition of A:\n",
      "[[41 94 25]\n",
      " [37 42 39]\n",
      " [86 20 32]]\n",
      "\n",
      "Q:\n",
      "[[ 0.40115189  0.84284781 -0.35872653]\n",
      " [ 0.36201512  0.21386129  0.90730833]\n",
      " [ 0.84144056 -0.49383288 -0.2193328 ]]\n",
      "\n",
      "R:\n",
      "[[102.20567499  69.74172423  51.07348492]\n",
      " [  0.          78.33321072  13.60913321]\n",
      " [  0.           0.          19.39821208]]\n",
      "\n"
     ]
    }
   ],
   "source": [
    "Q_A, R_A = QR(A)\n",
    "\n",
    "print(f\"QR Decomposition of A:\\n{A}\\n\")\n",
    "print(f\"Q:\\n{Q_A}\\n\")\n",
    "print(f\"R:\\n{R_A}\\n\")"
   ],
   "metadata": {
    "collapsed": false,
    "pycharm": {
     "name": "#%%\n"
    }
   }
  },
  {
   "cell_type": "markdown",
   "source": [
    "#### Verify Q is Orthonormal\n",
    "$Q \\cdot Q ^T = I$"
   ],
   "metadata": {
    "collapsed": false,
    "pycharm": {
     "name": "#%% md\n"
    }
   }
  },
  {
   "cell_type": "code",
   "execution_count": 8,
   "outputs": [
    {
     "name": "stdout",
     "output_type": "stream",
     "text": [
      "QQt:\n",
      " [[ 1. -0. -0.]\n",
      " [-0.  1. -0.]\n",
      " [-0. -0.  1.]] \n",
      "\n",
      "QQt IS an Identity Matrix\n"
     ]
    }
   ],
   "source": [
    "# Calculate QQt\n",
    "QQt_A = np.dot(Q_A, np.transpose(Q_A))\n",
    "# Round to 5 decimals\n",
    "QQt_A = np.round(QQt_A, 5)\n",
    "\n",
    "print(f\"QQt:\\n {QQt_A} \\n\")\n",
    "\n",
    "# Check if QQt is an Identity Matrix\n",
    "QQt_is_I = np.allclose(QQt_A, np.eye(A.shape[0]))\n",
    "print(f\"QQt {'IS' if QQt_is_I else 'IS NOT'} an Identity Matrix\")"
   ],
   "metadata": {
    "collapsed": false,
    "pycharm": {
     "name": "#%%\n"
    }
   }
  },
  {
   "cell_type": "markdown",
   "source": [
    "#### Verify $A=QR$"
   ],
   "metadata": {
    "collapsed": false,
    "pycharm": {
     "name": "#%% md\n"
    }
   }
  },
  {
   "cell_type": "code",
   "execution_count": 9,
   "outputs": [
    {
     "name": "stdout",
     "output_type": "stream",
     "text": [
      "A:\n",
      " [[41 94 25]\n",
      " [37 42 39]\n",
      " [86 20 32]] \n",
      "\n",
      "QR:\n",
      " [[41. 94. 25.]\n",
      " [37. 42. 39.]\n",
      " [86. 20. 32.]] \n",
      "\n",
      "QR == A\n"
     ]
    }
   ],
   "source": [
    "# Calculate A=QR\n",
    "AQR = np.dot(Q_A, R_A)\n",
    "print(f\"A:\\n {A} \\n\")\n",
    "print(f\"QR:\\n {AQR} \\n\")\n",
    "\n",
    "# Check if QR = A\n",
    "QR_is_A = np.allclose(AQR, A)\n",
    "print(f\"QR {'==' if QR_is_A else '!='} A\")"
   ],
   "metadata": {
    "collapsed": false,
    "pycharm": {
     "name": "#%%\n"
    }
   }
  },
  {
   "cell_type": "markdown",
   "source": [
    "## Ordinary Least Squares"
   ],
   "metadata": {
    "collapsed": false,
    "pycharm": {
     "name": "#%% md\n"
    }
   }
  },
  {
   "cell_type": "code",
   "execution_count": 10,
   "outputs": [],
   "source": [
    "def generate_random_data(start = 0, end = 100, spacing = 0.1, noise = 1):\n",
    "    \"\"\"\n",
    "    Generates Random Linear Data\n",
    "    :param start: Starting X Value\n",
    "    :param end: Ending X Value\n",
    "    :param spacing: Spacing between values\n",
    "    :param noise: Noise Ratio\n",
    "    :return: X, Y\n",
    "    \"\"\"\n",
    "    # Generate X values from params\n",
    "    X = np.arange(start=start, stop=end, step=spacing)\n",
    "\n",
    "    # Generate Y values from X and noise\n",
    "    y_b = np.random.randint(start, end)\n",
    "    y_m = np.random.randint(-10, 10)\n",
    "\n",
    "    Y = y_b + (y_m * X) + (np.random.random(len(X)) * noise * 100)\n",
    "\n",
    "    return X, Y, (y_m, y_b)"
   ],
   "metadata": {
    "collapsed": false,
    "pycharm": {
     "name": "#%%\n"
    }
   }
  },
  {
   "cell_type": "code",
   "execution_count": 11,
   "outputs": [],
   "source": [
    "def get_line(X, slope, intercept):\n",
    "    \"\"\"\n",
    "    Generate Line from Slope and Intercept\n",
    "    \"\"\"\n",
    "    return X * slope + intercept"
   ],
   "metadata": {
    "collapsed": false,
    "pycharm": {
     "name": "#%%\n"
    }
   }
  },
  {
   "cell_type": "code",
   "execution_count": 12,
   "outputs": [],
   "source": [
    "def ols(X, Y):\n",
    "    \"\"\"\n",
    "    Ordinary Least Squares\n",
    "    :param X: X values\n",
    "    :param Y: Y values\n",
    "    :return: (slope, intercept)\n",
    "    \"\"\"\n",
    "    # Add ones column to X\n",
    "    x = np.vstack([X, np.ones(len(X))]).T\n",
    "\n",
    "    # Convert Y into a column vector\n",
    "    y = Y[:, np.newaxis]\n",
    "\n",
    "    # Apply OLS\n",
    "    p_inv = np.linalg.pinv(x)\n",
    "    y_params = p_inv.dot(y)\n",
    "\n",
    "    return round(y_params[0][0], 3), round(y_params[1][0], 3)"
   ],
   "metadata": {
    "collapsed": false,
    "pycharm": {
     "name": "#%%\n"
    }
   }
  },
  {
   "cell_type": "code",
   "execution_count": 13,
   "outputs": [
    {
     "name": "stdout",
     "output_type": "stream",
     "text": [
      "OLS Fit: Y = 6.027X + 137.631\n",
      "Slope Error: 0.45%\n",
      "Intercept Error: 56.40%\n"
     ]
    },
    {
     "data": {
      "image/svg+xml": "<svg class=\"main-svg\" xmlns=\"http://www.w3.org/2000/svg\" xmlns:xlink=\"http://www.w3.org/1999/xlink\" width=\"700\" height=\"500\" style=\"\" viewBox=\"0 0 700 500\"><rect x=\"0\" y=\"0\" width=\"700\" height=\"500\" style=\"fill: rgb(255, 255, 255); fill-opacity: 1;\"/><defs id=\"defs-8c48d5\"><g class=\"clips\"><clipPath id=\"clip8c48d5xyplot\" class=\"plotclip\"><rect width=\"540\" height=\"320\"/></clipPath><clipPath class=\"axesclip\" id=\"clip8c48d5x\"><rect x=\"80\" y=\"0\" width=\"540\" height=\"500\"/></clipPath><clipPath class=\"axesclip\" id=\"clip8c48d5y\"><rect x=\"0\" y=\"100\" width=\"700\" height=\"320\"/></clipPath><clipPath class=\"axesclip\" id=\"clip8c48d5xy\"><rect x=\"80\" y=\"100\" width=\"540\" height=\"320\"/></clipPath></g><g class=\"gradients\"/><g class=\"patterns\"/></defs><g class=\"bglayer\"><rect class=\"bg\" x=\"80\" y=\"100\" width=\"540\" height=\"320\" style=\"fill: rgb(234, 234, 242); fill-opacity: 1; stroke-width: 0;\"/></g><g class=\"layer-below\"><g class=\"imagelayer\"/><g class=\"shapelayer\"/></g><g class=\"cartesianlayer\"><g class=\"subplot xy\"><g class=\"layer-subplot\"><g class=\"shapelayer\"/><g class=\"imagelayer\"/></g><g class=\"minor-gridlayer\"><g class=\"x\"/><g class=\"y\"/></g><g class=\"gridlayer\"><g class=\"x\"><path class=\"xgrid crisp\" transform=\"translate(206.1,0)\" d=\"M0,100v320\" style=\"stroke: rgb(255, 255, 255); stroke-opacity: 1; stroke-width: 1px;\"/><path class=\"xgrid crisp\" transform=\"translate(302.19,0)\" d=\"M0,100v320\" style=\"stroke: rgb(255, 255, 255); stroke-opacity: 1; stroke-width: 1px;\"/><path class=\"xgrid crisp\" transform=\"translate(398.29,0)\" d=\"M0,100v320\" style=\"stroke: rgb(255, 255, 255); stroke-opacity: 1; stroke-width: 1px;\"/><path class=\"xgrid crisp\" transform=\"translate(494.38,0)\" d=\"M0,100v320\" style=\"stroke: rgb(255, 255, 255); stroke-opacity: 1; stroke-width: 1px;\"/><path class=\"xgrid crisp\" transform=\"translate(590.48,0)\" d=\"M0,100v320\" style=\"stroke: rgb(255, 255, 255); stroke-opacity: 1; stroke-width: 1px;\"/></g><g class=\"y\"><path class=\"ygrid crisp\" transform=\"translate(0,402.77)\" d=\"M80,0h540\" style=\"stroke: rgb(255, 255, 255); stroke-opacity: 1; stroke-width: 1px;\"/><path class=\"ygrid crisp\" transform=\"translate(0,360.86)\" d=\"M80,0h540\" style=\"stroke: rgb(255, 255, 255); stroke-opacity: 1; stroke-width: 1px;\"/><path class=\"ygrid crisp\" transform=\"translate(0,318.95)\" d=\"M80,0h540\" style=\"stroke: rgb(255, 255, 255); stroke-opacity: 1; stroke-width: 1px;\"/><path class=\"ygrid crisp\" transform=\"translate(0,277.03)\" d=\"M80,0h540\" style=\"stroke: rgb(255, 255, 255); stroke-opacity: 1; stroke-width: 1px;\"/><path class=\"ygrid crisp\" transform=\"translate(0,235.12)\" d=\"M80,0h540\" style=\"stroke: rgb(255, 255, 255); stroke-opacity: 1; stroke-width: 1px;\"/><path class=\"ygrid crisp\" transform=\"translate(0,193.20999999999998)\" d=\"M80,0h540\" style=\"stroke: rgb(255, 255, 255); stroke-opacity: 1; stroke-width: 1px;\"/><path class=\"ygrid crisp\" transform=\"translate(0,151.3)\" d=\"M80,0h540\" style=\"stroke: rgb(255, 255, 255); stroke-opacity: 1; stroke-width: 1px;\"/><path class=\"ygrid crisp\" transform=\"translate(0,109.39)\" d=\"M80,0h540\" style=\"stroke: rgb(255, 255, 255); stroke-opacity: 1; stroke-width: 1px;\"/></g></g><g class=\"zerolinelayer\"><path class=\"xzl zl crisp\" transform=\"translate(110,0)\" d=\"M0,100v320\" style=\"stroke: rgb(255, 255, 255); stroke-opacity: 1; stroke-width: 1px;\"/></g><path class=\"xlines-below\"/><path class=\"ylines-below\"/><g class=\"overlines-below\"/><g class=\"xaxislayer-below\"/><g class=\"yaxislayer-below\"/><g class=\"overaxes-below\"/><g class=\"plot\" transform=\"translate(80,100)\" clip-path=\"url(#clip8c48d5xyplot)\"><g class=\"scatterlayer mlayer\"><g class=\"trace scatter traced9d0aa\" style=\"stroke-miterlimit: 2; opacity: 1;\"><g class=\"fills\"/><g class=\"errorbars\"/><g class=\"lines\"/><g class=\"points\"><path class=\"point\" transform=\"translate(30,287.33)\" d=\"M1,0A1,1 0 1,1 0,-1A1,1 0 0,1 1,0Z\" style=\"opacity: 1; stroke-width: 0px; fill: rgb(76, 114, 176); fill-opacity: 1;\"/><path class=\"point\" transform=\"translate(30.48,285.53)\" d=\"M1,0A1,1 0 1,1 0,-1A1,1 0 0,1 1,0Z\" style=\"opacity: 1; stroke-width: 0px; fill: rgb(76, 114, 176); fill-opacity: 1;\"/><path class=\"point\" transform=\"translate(30.96,265.7)\" d=\"M1,0A1,1 0 1,1 0,-1A1,1 0 0,1 1,0Z\" style=\"opacity: 1; stroke-width: 0px; fill: rgb(76, 114, 176); fill-opacity: 1;\"/><path class=\"point\" transform=\"translate(31.44,266.19)\" d=\"M1,0A1,1 0 1,1 0,-1A1,1 0 0,1 1,0Z\" style=\"opacity: 1; stroke-width: 0px; fill: rgb(76, 114, 176); fill-opacity: 1;\"/><path class=\"point\" transform=\"translate(31.92,287.64)\" d=\"M1,0A1,1 0 1,1 0,-1A1,1 0 0,1 1,0Z\" style=\"opacity: 1; stroke-width: 0px; fill: rgb(76, 114, 176); fill-opacity: 1;\"/><path class=\"point\" transform=\"translate(32.4,269.12)\" d=\"M1,0A1,1 0 1,1 0,-1A1,1 0 0,1 1,0Z\" style=\"opacity: 1; stroke-width: 0px; fill: rgb(76, 114, 176); fill-opacity: 1;\"/><path class=\"point\" transform=\"translate(32.88,294.58)\" d=\"M1,0A1,1 0 1,1 0,-1A1,1 0 0,1 1,0Z\" style=\"opacity: 1; stroke-width: 0px; fill: rgb(76, 114, 176); fill-opacity: 1;\"/><path class=\"point\" transform=\"translate(33.36,300.57)\" d=\"M1,0A1,1 0 1,1 0,-1A1,1 0 0,1 1,0Z\" style=\"opacity: 1; stroke-width: 0px; fill: rgb(76, 114, 176); fill-opacity: 1;\"/><path class=\"point\" transform=\"translate(33.84,282.18)\" d=\"M1,0A1,1 0 1,1 0,-1A1,1 0 0,1 1,0Z\" style=\"opacity: 1; stroke-width: 0px; fill: rgb(76, 114, 176); fill-opacity: 1;\"/><path class=\"point\" transform=\"translate(34.32,276.55)\" d=\"M1,0A1,1 0 1,1 0,-1A1,1 0 0,1 1,0Z\" style=\"opacity: 1; stroke-width: 0px; fill: rgb(76, 114, 176); fill-opacity: 1;\"/><path class=\"point\" transform=\"translate(34.8,293.03)\" d=\"M1,0A1,1 0 1,1 0,-1A1,1 0 0,1 1,0Z\" style=\"opacity: 1; stroke-width: 0px; fill: rgb(76, 114, 176); fill-opacity: 1;\"/><path class=\"point\" transform=\"translate(35.29,270.02)\" d=\"M1,0A1,1 0 1,1 0,-1A1,1 0 0,1 1,0Z\" style=\"opacity: 1; stroke-width: 0px; fill: rgb(76, 114, 176); fill-opacity: 1;\"/><path class=\"point\" transform=\"translate(35.77,286.15)\" d=\"M1,0A1,1 0 1,1 0,-1A1,1 0 0,1 1,0Z\" style=\"opacity: 1; stroke-width: 0px; fill: rgb(76, 114, 176); fill-opacity: 1;\"/><path class=\"point\" transform=\"translate(36.25,283.24)\" d=\"M1,0A1,1 0 1,1 0,-1A1,1 0 0,1 1,0Z\" style=\"opacity: 1; stroke-width: 0px; fill: rgb(76, 114, 176); fill-opacity: 1;\"/><path class=\"point\" transform=\"translate(36.73,297.09)\" d=\"M1,0A1,1 0 1,1 0,-1A1,1 0 0,1 1,0Z\" style=\"opacity: 1; stroke-width: 0px; fill: rgb(76, 114, 176); fill-opacity: 1;\"/><path class=\"point\" transform=\"translate(37.21,268.85)\" d=\"M1,0A1,1 0 1,1 0,-1A1,1 0 0,1 1,0Z\" style=\"opacity: 1; stroke-width: 0px; fill: rgb(76, 114, 176); fill-opacity: 1;\"/><path class=\"point\" transform=\"translate(37.69,262.53)\" d=\"M1,0A1,1 0 1,1 0,-1A1,1 0 0,1 1,0Z\" style=\"opacity: 1; stroke-width: 0px; fill: rgb(76, 114, 176); fill-opacity: 1;\"/><path class=\"point\" transform=\"translate(38.17,273.75)\" d=\"M1,0A1,1 0 1,1 0,-1A1,1 0 0,1 1,0Z\" style=\"opacity: 1; stroke-width: 0px; fill: rgb(76, 114, 176); fill-opacity: 1;\"/><path class=\"point\" transform=\"translate(38.65,297.14)\" d=\"M1,0A1,1 0 1,1 0,-1A1,1 0 0,1 1,0Z\" style=\"opacity: 1; stroke-width: 0px; fill: rgb(76, 114, 176); fill-opacity: 1;\"/><path class=\"point\" transform=\"translate(39.13,295.24)\" d=\"M1,0A1,1 0 1,1 0,-1A1,1 0 0,1 1,0Z\" style=\"opacity: 1; stroke-width: 0px; fill: rgb(76, 114, 176); fill-opacity: 1;\"/><path class=\"point\" transform=\"translate(39.61,289.86)\" d=\"M1,0A1,1 0 1,1 0,-1A1,1 0 0,1 1,0Z\" style=\"opacity: 1; stroke-width: 0px; fill: rgb(76, 114, 176); fill-opacity: 1;\"/><path class=\"point\" transform=\"translate(40.09,272.92)\" d=\"M1,0A1,1 0 1,1 0,-1A1,1 0 0,1 1,0Z\" style=\"opacity: 1; stroke-width: 0px; fill: rgb(76, 114, 176); fill-opacity: 1;\"/><path class=\"point\" transform=\"translate(40.57,277.83)\" d=\"M1,0A1,1 0 1,1 0,-1A1,1 0 0,1 1,0Z\" style=\"opacity: 1; stroke-width: 0px; fill: rgb(76, 114, 176); fill-opacity: 1;\"/><path class=\"point\" transform=\"translate(41.05,301)\" d=\"M1,0A1,1 0 1,1 0,-1A1,1 0 0,1 1,0Z\" style=\"opacity: 1; stroke-width: 0px; fill: rgb(76, 114, 176); fill-opacity: 1;\"/><path class=\"point\" transform=\"translate(41.53,290.55)\" d=\"M1,0A1,1 0 1,1 0,-1A1,1 0 0,1 1,0Z\" style=\"opacity: 1; stroke-width: 0px; fill: rgb(76, 114, 176); fill-opacity: 1;\"/><path class=\"point\" transform=\"translate(42.01,262.8)\" d=\"M1,0A1,1 0 1,1 0,-1A1,1 0 0,1 1,0Z\" style=\"opacity: 1; stroke-width: 0px; fill: rgb(76, 114, 176); fill-opacity: 1;\"/><path class=\"point\" transform=\"translate(42.49,299.09)\" d=\"M1,0A1,1 0 1,1 0,-1A1,1 0 0,1 1,0Z\" style=\"opacity: 1; stroke-width: 0px; fill: rgb(76, 114, 176); fill-opacity: 1;\"/><path class=\"point\" transform=\"translate(42.97,275.8)\" d=\"M1,0A1,1 0 1,1 0,-1A1,1 0 0,1 1,0Z\" style=\"opacity: 1; stroke-width: 0px; fill: rgb(76, 114, 176); fill-opacity: 1;\"/><path class=\"point\" transform=\"translate(43.45,297.55)\" d=\"M1,0A1,1 0 1,1 0,-1A1,1 0 0,1 1,0Z\" style=\"opacity: 1; stroke-width: 0px; fill: rgb(76, 114, 176); fill-opacity: 1;\"/><path class=\"point\" transform=\"translate(43.93,265.65)\" d=\"M1,0A1,1 0 1,1 0,-1A1,1 0 0,1 1,0Z\" style=\"opacity: 1; stroke-width: 0px; fill: rgb(76, 114, 176); fill-opacity: 1;\"/><path class=\"point\" transform=\"translate(44.41,300.07)\" d=\"M1,0A1,1 0 1,1 0,-1A1,1 0 0,1 1,0Z\" style=\"opacity: 1; stroke-width: 0px; fill: rgb(76, 114, 176); fill-opacity: 1;\"/><path class=\"point\" transform=\"translate(44.89,299.23)\" d=\"M1,0A1,1 0 1,1 0,-1A1,1 0 0,1 1,0Z\" style=\"opacity: 1; stroke-width: 0px; fill: rgb(76, 114, 176); fill-opacity: 1;\"/><path class=\"point\" transform=\"translate(45.38,292.65)\" d=\"M1,0A1,1 0 1,1 0,-1A1,1 0 0,1 1,0Z\" style=\"opacity: 1; stroke-width: 0px; fill: rgb(76, 114, 176); fill-opacity: 1;\"/><path class=\"point\" transform=\"translate(45.86,259.97)\" d=\"M1,0A1,1 0 1,1 0,-1A1,1 0 0,1 1,0Z\" style=\"opacity: 1; stroke-width: 0px; fill: rgb(76, 114, 176); fill-opacity: 1;\"/><path class=\"point\" transform=\"translate(46.34,259.21)\" d=\"M1,0A1,1 0 1,1 0,-1A1,1 0 0,1 1,0Z\" style=\"opacity: 1; stroke-width: 0px; fill: rgb(76, 114, 176); fill-opacity: 1;\"/><path class=\"point\" transform=\"translate(46.82,258.22)\" d=\"M1,0A1,1 0 1,1 0,-1A1,1 0 0,1 1,0Z\" style=\"opacity: 1; stroke-width: 0px; fill: rgb(76, 114, 176); fill-opacity: 1;\"/><path class=\"point\" transform=\"translate(47.3,284.65)\" d=\"M1,0A1,1 0 1,1 0,-1A1,1 0 0,1 1,0Z\" style=\"opacity: 1; stroke-width: 0px; fill: rgb(76, 114, 176); fill-opacity: 1;\"/><path class=\"point\" transform=\"translate(47.78,281.12)\" d=\"M1,0A1,1 0 1,1 0,-1A1,1 0 0,1 1,0Z\" style=\"opacity: 1; stroke-width: 0px; fill: rgb(76, 114, 176); fill-opacity: 1;\"/><path class=\"point\" transform=\"translate(48.26,278.39)\" d=\"M1,0A1,1 0 1,1 0,-1A1,1 0 0,1 1,0Z\" style=\"opacity: 1; stroke-width: 0px; fill: rgb(76, 114, 176); fill-opacity: 1;\"/><path class=\"point\" transform=\"translate(48.74,256.99)\" d=\"M1,0A1,1 0 1,1 0,-1A1,1 0 0,1 1,0Z\" style=\"opacity: 1; stroke-width: 0px; fill: rgb(76, 114, 176); fill-opacity: 1;\"/><path class=\"point\" transform=\"translate(49.22,286.74)\" d=\"M1,0A1,1 0 1,1 0,-1A1,1 0 0,1 1,0Z\" style=\"opacity: 1; stroke-width: 0px; fill: rgb(76, 114, 176); fill-opacity: 1;\"/><path class=\"point\" transform=\"translate(49.7,278.06)\" d=\"M1,0A1,1 0 1,1 0,-1A1,1 0 0,1 1,0Z\" style=\"opacity: 1; stroke-width: 0px; fill: rgb(76, 114, 176); fill-opacity: 1;\"/><path class=\"point\" transform=\"translate(50.18,283.87)\" d=\"M1,0A1,1 0 1,1 0,-1A1,1 0 0,1 1,0Z\" style=\"opacity: 1; stroke-width: 0px; fill: rgb(76, 114, 176); fill-opacity: 1;\"/><path class=\"point\" transform=\"translate(50.66,286.19)\" d=\"M1,0A1,1 0 1,1 0,-1A1,1 0 0,1 1,0Z\" style=\"opacity: 1; stroke-width: 0px; fill: rgb(76, 114, 176); fill-opacity: 1;\"/><path class=\"point\" transform=\"translate(51.14,263.94)\" d=\"M1,0A1,1 0 1,1 0,-1A1,1 0 0,1 1,0Z\" style=\"opacity: 1; stroke-width: 0px; fill: rgb(76, 114, 176); fill-opacity: 1;\"/><path class=\"point\" transform=\"translate(51.62,258.99)\" d=\"M1,0A1,1 0 1,1 0,-1A1,1 0 0,1 1,0Z\" style=\"opacity: 1; stroke-width: 0px; fill: rgb(76, 114, 176); fill-opacity: 1;\"/><path class=\"point\" transform=\"translate(52.1,281.19)\" d=\"M1,0A1,1 0 1,1 0,-1A1,1 0 0,1 1,0Z\" style=\"opacity: 1; stroke-width: 0px; fill: rgb(76, 114, 176); fill-opacity: 1;\"/><path class=\"point\" transform=\"translate(52.58,264.68)\" d=\"M1,0A1,1 0 1,1 0,-1A1,1 0 0,1 1,0Z\" style=\"opacity: 1; stroke-width: 0px; fill: rgb(76, 114, 176); fill-opacity: 1;\"/><path class=\"point\" transform=\"translate(53.06,278.6)\" d=\"M1,0A1,1 0 1,1 0,-1A1,1 0 0,1 1,0Z\" style=\"opacity: 1; stroke-width: 0px; fill: rgb(76, 114, 176); fill-opacity: 1;\"/><path class=\"point\" transform=\"translate(53.54,275.78)\" d=\"M1,0A1,1 0 1,1 0,-1A1,1 0 0,1 1,0Z\" style=\"opacity: 1; stroke-width: 0px; fill: rgb(76, 114, 176); fill-opacity: 1;\"/><path class=\"point\" transform=\"translate(54.02,262.13)\" d=\"M1,0A1,1 0 1,1 0,-1A1,1 0 0,1 1,0Z\" style=\"opacity: 1; stroke-width: 0px; fill: rgb(76, 114, 176); fill-opacity: 1;\"/><path class=\"point\" transform=\"translate(54.5,290.78)\" d=\"M1,0A1,1 0 1,1 0,-1A1,1 0 0,1 1,0Z\" style=\"opacity: 1; stroke-width: 0px; fill: rgb(76, 114, 176); fill-opacity: 1;\"/><path class=\"point\" transform=\"translate(54.98,253.84)\" d=\"M1,0A1,1 0 1,1 0,-1A1,1 0 0,1 1,0Z\" style=\"opacity: 1; stroke-width: 0px; fill: rgb(76, 114, 176); fill-opacity: 1;\"/><path class=\"point\" transform=\"translate(55.47,264.75)\" d=\"M1,0A1,1 0 1,1 0,-1A1,1 0 0,1 1,0Z\" style=\"opacity: 1; stroke-width: 0px; fill: rgb(76, 114, 176); fill-opacity: 1;\"/><path class=\"point\" transform=\"translate(55.95,261.95)\" d=\"M1,0A1,1 0 1,1 0,-1A1,1 0 0,1 1,0Z\" style=\"opacity: 1; stroke-width: 0px; fill: rgb(76, 114, 176); fill-opacity: 1;\"/><path class=\"point\" transform=\"translate(56.43,279.24)\" d=\"M1,0A1,1 0 1,1 0,-1A1,1 0 0,1 1,0Z\" style=\"opacity: 1; stroke-width: 0px; fill: rgb(76, 114, 176); fill-opacity: 1;\"/><path class=\"point\" transform=\"translate(56.91,288.13)\" d=\"M1,0A1,1 0 1,1 0,-1A1,1 0 0,1 1,0Z\" style=\"opacity: 1; stroke-width: 0px; fill: rgb(76, 114, 176); fill-opacity: 1;\"/><path class=\"point\" transform=\"translate(57.39,274.76)\" d=\"M1,0A1,1 0 1,1 0,-1A1,1 0 0,1 1,0Z\" style=\"opacity: 1; stroke-width: 0px; fill: rgb(76, 114, 176); fill-opacity: 1;\"/><path class=\"point\" transform=\"translate(57.87,268.93)\" d=\"M1,0A1,1 0 1,1 0,-1A1,1 0 0,1 1,0Z\" style=\"opacity: 1; stroke-width: 0px; fill: rgb(76, 114, 176); fill-opacity: 1;\"/><path class=\"point\" transform=\"translate(58.35,267.18)\" d=\"M1,0A1,1 0 1,1 0,-1A1,1 0 0,1 1,0Z\" style=\"opacity: 1; stroke-width: 0px; fill: rgb(76, 114, 176); fill-opacity: 1;\"/><path class=\"point\" transform=\"translate(58.83,281.52)\" d=\"M1,0A1,1 0 1,1 0,-1A1,1 0 0,1 1,0Z\" style=\"opacity: 1; stroke-width: 0px; fill: rgb(76, 114, 176); fill-opacity: 1;\"/><path class=\"point\" transform=\"translate(59.31,262.24)\" d=\"M1,0A1,1 0 1,1 0,-1A1,1 0 0,1 1,0Z\" style=\"opacity: 1; stroke-width: 0px; fill: rgb(76, 114, 176); fill-opacity: 1;\"/><path class=\"point\" transform=\"translate(59.79,278.69)\" d=\"M1,0A1,1 0 1,1 0,-1A1,1 0 0,1 1,0Z\" style=\"opacity: 1; stroke-width: 0px; fill: rgb(76, 114, 176); fill-opacity: 1;\"/><path class=\"point\" transform=\"translate(60.27,285.45)\" d=\"M1,0A1,1 0 1,1 0,-1A1,1 0 0,1 1,0Z\" style=\"opacity: 1; stroke-width: 0px; fill: rgb(76, 114, 176); fill-opacity: 1;\"/><path class=\"point\" transform=\"translate(60.75,276.92)\" d=\"M1,0A1,1 0 1,1 0,-1A1,1 0 0,1 1,0Z\" style=\"opacity: 1; stroke-width: 0px; fill: rgb(76, 114, 176); fill-opacity: 1;\"/><path class=\"point\" transform=\"translate(61.23,281.33)\" d=\"M1,0A1,1 0 1,1 0,-1A1,1 0 0,1 1,0Z\" style=\"opacity: 1; stroke-width: 0px; fill: rgb(76, 114, 176); fill-opacity: 1;\"/><path class=\"point\" transform=\"translate(61.71,264.79)\" d=\"M1,0A1,1 0 1,1 0,-1A1,1 0 0,1 1,0Z\" style=\"opacity: 1; stroke-width: 0px; fill: rgb(76, 114, 176); fill-opacity: 1;\"/><path class=\"point\" transform=\"translate(62.19,271.92)\" d=\"M1,0A1,1 0 1,1 0,-1A1,1 0 0,1 1,0Z\" style=\"opacity: 1; stroke-width: 0px; fill: rgb(76, 114, 176); fill-opacity: 1;\"/><path class=\"point\" transform=\"translate(62.67,290.08)\" d=\"M1,0A1,1 0 1,1 0,-1A1,1 0 0,1 1,0Z\" style=\"opacity: 1; stroke-width: 0px; fill: rgb(76, 114, 176); fill-opacity: 1;\"/><path class=\"point\" transform=\"translate(63.15,287.32)\" d=\"M1,0A1,1 0 1,1 0,-1A1,1 0 0,1 1,0Z\" style=\"opacity: 1; stroke-width: 0px; fill: rgb(76, 114, 176); fill-opacity: 1;\"/><path class=\"point\" transform=\"translate(63.63,252.99)\" d=\"M1,0A1,1 0 1,1 0,-1A1,1 0 0,1 1,0Z\" style=\"opacity: 1; stroke-width: 0px; fill: rgb(76, 114, 176); fill-opacity: 1;\"/><path class=\"point\" transform=\"translate(64.11,264.94)\" d=\"M1,0A1,1 0 1,1 0,-1A1,1 0 0,1 1,0Z\" style=\"opacity: 1; stroke-width: 0px; fill: rgb(76, 114, 176); fill-opacity: 1;\"/><path class=\"point\" transform=\"translate(64.59,274.39)\" d=\"M1,0A1,1 0 1,1 0,-1A1,1 0 0,1 1,0Z\" style=\"opacity: 1; stroke-width: 0px; fill: rgb(76, 114, 176); fill-opacity: 1;\"/><path class=\"point\" transform=\"translate(65.08,269.35)\" d=\"M1,0A1,1 0 1,1 0,-1A1,1 0 0,1 1,0Z\" style=\"opacity: 1; stroke-width: 0px; fill: rgb(76, 114, 176); fill-opacity: 1;\"/><path class=\"point\" transform=\"translate(65.56,260.29)\" d=\"M1,0A1,1 0 1,1 0,-1A1,1 0 0,1 1,0Z\" style=\"opacity: 1; stroke-width: 0px; fill: rgb(76, 114, 176); fill-opacity: 1;\"/><path class=\"point\" transform=\"translate(66.04,250.1)\" d=\"M1,0A1,1 0 1,1 0,-1A1,1 0 0,1 1,0Z\" style=\"opacity: 1; stroke-width: 0px; fill: rgb(76, 114, 176); fill-opacity: 1;\"/><path class=\"point\" transform=\"translate(66.52,260.3)\" d=\"M1,0A1,1 0 1,1 0,-1A1,1 0 0,1 1,0Z\" style=\"opacity: 1; stroke-width: 0px; fill: rgb(76, 114, 176); fill-opacity: 1;\"/><path class=\"point\" transform=\"translate(67,268.93)\" d=\"M1,0A1,1 0 1,1 0,-1A1,1 0 0,1 1,0Z\" style=\"opacity: 1; stroke-width: 0px; fill: rgb(76, 114, 176); fill-opacity: 1;\"/><path class=\"point\" transform=\"translate(67.48,262.42)\" d=\"M1,0A1,1 0 1,1 0,-1A1,1 0 0,1 1,0Z\" style=\"opacity: 1; stroke-width: 0px; fill: rgb(76, 114, 176); fill-opacity: 1;\"/><path class=\"point\" transform=\"translate(67.96,265.8)\" d=\"M1,0A1,1 0 1,1 0,-1A1,1 0 0,1 1,0Z\" style=\"opacity: 1; stroke-width: 0px; fill: rgb(76, 114, 176); fill-opacity: 1;\"/><path class=\"point\" transform=\"translate(68.44,286.1)\" d=\"M1,0A1,1 0 1,1 0,-1A1,1 0 0,1 1,0Z\" style=\"opacity: 1; stroke-width: 0px; fill: rgb(76, 114, 176); fill-opacity: 1;\"/><path class=\"point\" transform=\"translate(68.92,286.56)\" d=\"M1,0A1,1 0 1,1 0,-1A1,1 0 0,1 1,0Z\" style=\"opacity: 1; stroke-width: 0px; fill: rgb(76, 114, 176); fill-opacity: 1;\"/><path class=\"point\" transform=\"translate(69.4,247.9)\" d=\"M1,0A1,1 0 1,1 0,-1A1,1 0 0,1 1,0Z\" style=\"opacity: 1; stroke-width: 0px; fill: rgb(76, 114, 176); fill-opacity: 1;\"/><path class=\"point\" transform=\"translate(69.88,271.6)\" d=\"M1,0A1,1 0 1,1 0,-1A1,1 0 0,1 1,0Z\" style=\"opacity: 1; stroke-width: 0px; fill: rgb(76, 114, 176); fill-opacity: 1;\"/><path class=\"point\" transform=\"translate(70.36,272.97)\" d=\"M1,0A1,1 0 1,1 0,-1A1,1 0 0,1 1,0Z\" style=\"opacity: 1; stroke-width: 0px; fill: rgb(76, 114, 176); fill-opacity: 1;\"/><path class=\"point\" transform=\"translate(70.84,269.71)\" d=\"M1,0A1,1 0 1,1 0,-1A1,1 0 0,1 1,0Z\" style=\"opacity: 1; stroke-width: 0px; fill: rgb(76, 114, 176); fill-opacity: 1;\"/><path class=\"point\" transform=\"translate(71.32,261.23)\" d=\"M1,0A1,1 0 1,1 0,-1A1,1 0 0,1 1,0Z\" style=\"opacity: 1; stroke-width: 0px; fill: rgb(76, 114, 176); fill-opacity: 1;\"/><path class=\"point\" transform=\"translate(71.8,245.99)\" d=\"M1,0A1,1 0 1,1 0,-1A1,1 0 0,1 1,0Z\" style=\"opacity: 1; stroke-width: 0px; fill: rgb(76, 114, 176); fill-opacity: 1;\"/><path class=\"point\" transform=\"translate(72.28,267.7)\" d=\"M1,0A1,1 0 1,1 0,-1A1,1 0 0,1 1,0Z\" style=\"opacity: 1; stroke-width: 0px; fill: rgb(76, 114, 176); fill-opacity: 1;\"/><path class=\"point\" transform=\"translate(72.76,266.17)\" d=\"M1,0A1,1 0 1,1 0,-1A1,1 0 0,1 1,0Z\" style=\"opacity: 1; stroke-width: 0px; fill: rgb(76, 114, 176); fill-opacity: 1;\"/><path class=\"point\" transform=\"translate(73.24,254.56)\" d=\"M1,0A1,1 0 1,1 0,-1A1,1 0 0,1 1,0Z\" style=\"opacity: 1; stroke-width: 0px; fill: rgb(76, 114, 176); fill-opacity: 1;\"/><path class=\"point\" transform=\"translate(73.72,267.44)\" d=\"M1,0A1,1 0 1,1 0,-1A1,1 0 0,1 1,0Z\" style=\"opacity: 1; stroke-width: 0px; fill: rgb(76, 114, 176); fill-opacity: 1;\"/><path class=\"point\" transform=\"translate(74.2,256.84)\" d=\"M1,0A1,1 0 1,1 0,-1A1,1 0 0,1 1,0Z\" style=\"opacity: 1; stroke-width: 0px; fill: rgb(76, 114, 176); fill-opacity: 1;\"/><path class=\"point\" transform=\"translate(74.68,248.08)\" d=\"M1,0A1,1 0 1,1 0,-1A1,1 0 0,1 1,0Z\" style=\"opacity: 1; stroke-width: 0px; fill: rgb(76, 114, 176); fill-opacity: 1;\"/><path class=\"point\" transform=\"translate(75.17,280.45)\" d=\"M1,0A1,1 0 1,1 0,-1A1,1 0 0,1 1,0Z\" style=\"opacity: 1; stroke-width: 0px; fill: rgb(76, 114, 176); fill-opacity: 1;\"/><path class=\"point\" transform=\"translate(75.65,254.98)\" d=\"M1,0A1,1 0 1,1 0,-1A1,1 0 0,1 1,0Z\" style=\"opacity: 1; stroke-width: 0px; fill: rgb(76, 114, 176); fill-opacity: 1;\"/><path class=\"point\" transform=\"translate(76.13,273.18)\" d=\"M1,0A1,1 0 1,1 0,-1A1,1 0 0,1 1,0Z\" style=\"opacity: 1; stroke-width: 0px; fill: rgb(76, 114, 176); fill-opacity: 1;\"/><path class=\"point\" transform=\"translate(76.61,271.49)\" d=\"M1,0A1,1 0 1,1 0,-1A1,1 0 0,1 1,0Z\" style=\"opacity: 1; stroke-width: 0px; fill: rgb(76, 114, 176); fill-opacity: 1;\"/><path class=\"point\" transform=\"translate(77.09,260.32)\" d=\"M1,0A1,1 0 1,1 0,-1A1,1 0 0,1 1,0Z\" style=\"opacity: 1; stroke-width: 0px; fill: rgb(76, 114, 176); fill-opacity: 1;\"/><path class=\"point\" transform=\"translate(77.57,255.12)\" d=\"M1,0A1,1 0 1,1 0,-1A1,1 0 0,1 1,0Z\" style=\"opacity: 1; stroke-width: 0px; fill: rgb(76, 114, 176); fill-opacity: 1;\"/><path class=\"point\" transform=\"translate(78.05,281.18)\" d=\"M1,0A1,1 0 1,1 0,-1A1,1 0 0,1 1,0Z\" style=\"opacity: 1; stroke-width: 0px; fill: rgb(76, 114, 176); fill-opacity: 1;\"/><path class=\"point\" transform=\"translate(78.53,263.82)\" d=\"M1,0A1,1 0 1,1 0,-1A1,1 0 0,1 1,0Z\" style=\"opacity: 1; stroke-width: 0px; fill: rgb(76, 114, 176); fill-opacity: 1;\"/><path class=\"point\" transform=\"translate(79.01,248.78)\" d=\"M1,0A1,1 0 1,1 0,-1A1,1 0 0,1 1,0Z\" style=\"opacity: 1; stroke-width: 0px; fill: rgb(76, 114, 176); fill-opacity: 1;\"/><path class=\"point\" transform=\"translate(79.49,278.18)\" d=\"M1,0A1,1 0 1,1 0,-1A1,1 0 0,1 1,0Z\" style=\"opacity: 1; stroke-width: 0px; fill: rgb(76, 114, 176); fill-opacity: 1;\"/><path class=\"point\" transform=\"translate(79.97,266.69)\" d=\"M1,0A1,1 0 1,1 0,-1A1,1 0 0,1 1,0Z\" style=\"opacity: 1; stroke-width: 0px; fill: rgb(76, 114, 176); fill-opacity: 1;\"/><path class=\"point\" transform=\"translate(80.45,254.62)\" d=\"M1,0A1,1 0 1,1 0,-1A1,1 0 0,1 1,0Z\" style=\"opacity: 1; stroke-width: 0px; fill: rgb(76, 114, 176); fill-opacity: 1;\"/><path class=\"point\" transform=\"translate(80.93,250.66)\" d=\"M1,0A1,1 0 1,1 0,-1A1,1 0 0,1 1,0Z\" style=\"opacity: 1; stroke-width: 0px; fill: rgb(76, 114, 176); fill-opacity: 1;\"/><path class=\"point\" transform=\"translate(81.41,247.77)\" d=\"M1,0A1,1 0 1,1 0,-1A1,1 0 0,1 1,0Z\" style=\"opacity: 1; stroke-width: 0px; fill: rgb(76, 114, 176); fill-opacity: 1;\"/><path class=\"point\" transform=\"translate(81.89,252.75)\" d=\"M1,0A1,1 0 1,1 0,-1A1,1 0 0,1 1,0Z\" style=\"opacity: 1; stroke-width: 0px; fill: rgb(76, 114, 176); fill-opacity: 1;\"/><path class=\"point\" transform=\"translate(82.37,270.25)\" d=\"M1,0A1,1 0 1,1 0,-1A1,1 0 0,1 1,0Z\" style=\"opacity: 1; stroke-width: 0px; fill: rgb(76, 114, 176); fill-opacity: 1;\"/><path class=\"point\" transform=\"translate(82.85,241.09)\" d=\"M1,0A1,1 0 1,1 0,-1A1,1 0 0,1 1,0Z\" style=\"opacity: 1; stroke-width: 0px; fill: rgb(76, 114, 176); fill-opacity: 1;\"/><path class=\"point\" transform=\"translate(83.33,245.52)\" d=\"M1,0A1,1 0 1,1 0,-1A1,1 0 0,1 1,0Z\" style=\"opacity: 1; stroke-width: 0px; fill: rgb(76, 114, 176); fill-opacity: 1;\"/><path class=\"point\" transform=\"translate(83.81,243.18)\" d=\"M1,0A1,1 0 1,1 0,-1A1,1 0 0,1 1,0Z\" style=\"opacity: 1; stroke-width: 0px; fill: rgb(76, 114, 176); fill-opacity: 1;\"/><path class=\"point\" transform=\"translate(84.29,257.22)\" d=\"M1,0A1,1 0 1,1 0,-1A1,1 0 0,1 1,0Z\" style=\"opacity: 1; stroke-width: 0px; fill: rgb(76, 114, 176); fill-opacity: 1;\"/><path class=\"point\" transform=\"translate(84.77,248.08)\" d=\"M1,0A1,1 0 1,1 0,-1A1,1 0 0,1 1,0Z\" style=\"opacity: 1; stroke-width: 0px; fill: rgb(76, 114, 176); fill-opacity: 1;\"/><path class=\"point\" transform=\"translate(85.26,272.98)\" d=\"M1,0A1,1 0 1,1 0,-1A1,1 0 0,1 1,0Z\" style=\"opacity: 1; stroke-width: 0px; fill: rgb(76, 114, 176); fill-opacity: 1;\"/><path class=\"point\" transform=\"translate(85.74,248.29)\" d=\"M1,0A1,1 0 1,1 0,-1A1,1 0 0,1 1,0Z\" style=\"opacity: 1; stroke-width: 0px; fill: rgb(76, 114, 176); fill-opacity: 1;\"/><path class=\"point\" transform=\"translate(86.22,265.91)\" d=\"M1,0A1,1 0 1,1 0,-1A1,1 0 0,1 1,0Z\" style=\"opacity: 1; stroke-width: 0px; fill: rgb(76, 114, 176); fill-opacity: 1;\"/><path class=\"point\" transform=\"translate(86.7,254.53)\" d=\"M1,0A1,1 0 1,1 0,-1A1,1 0 0,1 1,0Z\" style=\"opacity: 1; stroke-width: 0px; fill: rgb(76, 114, 176); fill-opacity: 1;\"/><path class=\"point\" transform=\"translate(87.18,273.49)\" d=\"M1,0A1,1 0 1,1 0,-1A1,1 0 0,1 1,0Z\" style=\"opacity: 1; stroke-width: 0px; fill: rgb(76, 114, 176); fill-opacity: 1;\"/><path class=\"point\" transform=\"translate(87.66,275.54)\" d=\"M1,0A1,1 0 1,1 0,-1A1,1 0 0,1 1,0Z\" style=\"opacity: 1; stroke-width: 0px; fill: rgb(76, 114, 176); fill-opacity: 1;\"/><path class=\"point\" transform=\"translate(88.14,260.75)\" d=\"M1,0A1,1 0 1,1 0,-1A1,1 0 0,1 1,0Z\" style=\"opacity: 1; stroke-width: 0px; fill: rgb(76, 114, 176); fill-opacity: 1;\"/><path class=\"point\" transform=\"translate(88.62,246.51)\" d=\"M1,0A1,1 0 1,1 0,-1A1,1 0 0,1 1,0Z\" style=\"opacity: 1; stroke-width: 0px; fill: rgb(76, 114, 176); fill-opacity: 1;\"/><path class=\"point\" transform=\"translate(89.1,270.91)\" d=\"M1,0A1,1 0 1,1 0,-1A1,1 0 0,1 1,0Z\" style=\"opacity: 1; stroke-width: 0px; fill: rgb(76, 114, 176); fill-opacity: 1;\"/><path class=\"point\" transform=\"translate(89.58,247.17)\" d=\"M1,0A1,1 0 1,1 0,-1A1,1 0 0,1 1,0Z\" style=\"opacity: 1; stroke-width: 0px; fill: rgb(76, 114, 176); fill-opacity: 1;\"/><path class=\"point\" transform=\"translate(90.06,276.31)\" d=\"M1,0A1,1 0 1,1 0,-1A1,1 0 0,1 1,0Z\" style=\"opacity: 1; stroke-width: 0px; fill: rgb(76, 114, 176); fill-opacity: 1;\"/><path class=\"point\" transform=\"translate(90.54,255.08)\" d=\"M1,0A1,1 0 1,1 0,-1A1,1 0 0,1 1,0Z\" style=\"opacity: 1; stroke-width: 0px; fill: rgb(76, 114, 176); fill-opacity: 1;\"/><path class=\"point\" transform=\"translate(91.02,268.39)\" d=\"M1,0A1,1 0 1,1 0,-1A1,1 0 0,1 1,0Z\" style=\"opacity: 1; stroke-width: 0px; fill: rgb(76, 114, 176); fill-opacity: 1;\"/><path class=\"point\" transform=\"translate(91.5,251.82)\" d=\"M1,0A1,1 0 1,1 0,-1A1,1 0 0,1 1,0Z\" style=\"opacity: 1; stroke-width: 0px; fill: rgb(76, 114, 176); fill-opacity: 1;\"/><path class=\"point\" transform=\"translate(91.98,246.12)\" d=\"M1,0A1,1 0 1,1 0,-1A1,1 0 0,1 1,0Z\" style=\"opacity: 1; stroke-width: 0px; fill: rgb(76, 114, 176); fill-opacity: 1;\"/><path class=\"point\" transform=\"translate(92.46,265.43)\" d=\"M1,0A1,1 0 1,1 0,-1A1,1 0 0,1 1,0Z\" style=\"opacity: 1; stroke-width: 0px; fill: rgb(76, 114, 176); fill-opacity: 1;\"/><path class=\"point\" transform=\"translate(92.94,272.63)\" d=\"M1,0A1,1 0 1,1 0,-1A1,1 0 0,1 1,0Z\" style=\"opacity: 1; stroke-width: 0px; fill: rgb(76, 114, 176); fill-opacity: 1;\"/><path class=\"point\" transform=\"translate(93.42,265.26)\" d=\"M1,0A1,1 0 1,1 0,-1A1,1 0 0,1 1,0Z\" style=\"opacity: 1; stroke-width: 0px; fill: rgb(76, 114, 176); fill-opacity: 1;\"/><path class=\"point\" transform=\"translate(93.9,260.02)\" d=\"M1,0A1,1 0 1,1 0,-1A1,1 0 0,1 1,0Z\" style=\"opacity: 1; stroke-width: 0px; fill: rgb(76, 114, 176); fill-opacity: 1;\"/><path class=\"point\" transform=\"translate(94.38,270.31)\" d=\"M1,0A1,1 0 1,1 0,-1A1,1 0 0,1 1,0Z\" style=\"opacity: 1; stroke-width: 0px; fill: rgb(76, 114, 176); fill-opacity: 1;\"/><path class=\"point\" transform=\"translate(94.86,234.01)\" d=\"M1,0A1,1 0 1,1 0,-1A1,1 0 0,1 1,0Z\" style=\"opacity: 1; stroke-width: 0px; fill: rgb(76, 114, 176); fill-opacity: 1;\"/><path class=\"point\" transform=\"translate(95.35,253.4)\" d=\"M1,0A1,1 0 1,1 0,-1A1,1 0 0,1 1,0Z\" style=\"opacity: 1; stroke-width: 0px; fill: rgb(76, 114, 176); fill-opacity: 1;\"/><path class=\"point\" transform=\"translate(95.83,272.56)\" d=\"M1,0A1,1 0 1,1 0,-1A1,1 0 0,1 1,0Z\" style=\"opacity: 1; stroke-width: 0px; fill: rgb(76, 114, 176); fill-opacity: 1;\"/><path class=\"point\" transform=\"translate(96.31,257.34)\" d=\"M1,0A1,1 0 1,1 0,-1A1,1 0 0,1 1,0Z\" style=\"opacity: 1; stroke-width: 0px; fill: rgb(76, 114, 176); fill-opacity: 1;\"/><path class=\"point\" transform=\"translate(96.79,259.33)\" d=\"M1,0A1,1 0 1,1 0,-1A1,1 0 0,1 1,0Z\" style=\"opacity: 1; stroke-width: 0px; fill: rgb(76, 114, 176); fill-opacity: 1;\"/><path class=\"point\" transform=\"translate(97.27,235.57)\" d=\"M1,0A1,1 0 1,1 0,-1A1,1 0 0,1 1,0Z\" style=\"opacity: 1; stroke-width: 0px; fill: rgb(76, 114, 176); fill-opacity: 1;\"/><path class=\"point\" transform=\"translate(97.75,250.93)\" d=\"M1,0A1,1 0 1,1 0,-1A1,1 0 0,1 1,0Z\" style=\"opacity: 1; stroke-width: 0px; fill: rgb(76, 114, 176); fill-opacity: 1;\"/><path class=\"point\" transform=\"translate(98.23,267.38)\" d=\"M1,0A1,1 0 1,1 0,-1A1,1 0 0,1 1,0Z\" style=\"opacity: 1; stroke-width: 0px; fill: rgb(76, 114, 176); fill-opacity: 1;\"/><path class=\"point\" transform=\"translate(98.71,270.36)\" d=\"M1,0A1,1 0 1,1 0,-1A1,1 0 0,1 1,0Z\" style=\"opacity: 1; stroke-width: 0px; fill: rgb(76, 114, 176); fill-opacity: 1;\"/><path class=\"point\" transform=\"translate(99.19,259.64)\" d=\"M1,0A1,1 0 1,1 0,-1A1,1 0 0,1 1,0Z\" style=\"opacity: 1; stroke-width: 0px; fill: rgb(76, 114, 176); fill-opacity: 1;\"/><path class=\"point\" transform=\"translate(99.67,232.73)\" d=\"M1,0A1,1 0 1,1 0,-1A1,1 0 0,1 1,0Z\" style=\"opacity: 1; stroke-width: 0px; fill: rgb(76, 114, 176); fill-opacity: 1;\"/><path class=\"point\" transform=\"translate(100.15,267.18)\" d=\"M1,0A1,1 0 1,1 0,-1A1,1 0 0,1 1,0Z\" style=\"opacity: 1; stroke-width: 0px; fill: rgb(76, 114, 176); fill-opacity: 1;\"/><path class=\"point\" transform=\"translate(100.63,242.39)\" d=\"M1,0A1,1 0 1,1 0,-1A1,1 0 0,1 1,0Z\" style=\"opacity: 1; stroke-width: 0px; fill: rgb(76, 114, 176); fill-opacity: 1;\"/><path class=\"point\" transform=\"translate(101.11,268.9)\" d=\"M1,0A1,1 0 1,1 0,-1A1,1 0 0,1 1,0Z\" style=\"opacity: 1; stroke-width: 0px; fill: rgb(76, 114, 176); fill-opacity: 1;\"/><path class=\"point\" transform=\"translate(101.59,250.28)\" d=\"M1,0A1,1 0 1,1 0,-1A1,1 0 0,1 1,0Z\" style=\"opacity: 1; stroke-width: 0px; fill: rgb(76, 114, 176); fill-opacity: 1;\"/><path class=\"point\" transform=\"translate(102.07,228.72)\" d=\"M1,0A1,1 0 1,1 0,-1A1,1 0 0,1 1,0Z\" style=\"opacity: 1; stroke-width: 0px; fill: rgb(76, 114, 176); fill-opacity: 1;\"/><path class=\"point\" transform=\"translate(102.55,238.68)\" d=\"M1,0A1,1 0 1,1 0,-1A1,1 0 0,1 1,0Z\" style=\"opacity: 1; stroke-width: 0px; fill: rgb(76, 114, 176); fill-opacity: 1;\"/><path class=\"point\" transform=\"translate(103.03,256.43)\" d=\"M1,0A1,1 0 1,1 0,-1A1,1 0 0,1 1,0Z\" style=\"opacity: 1; stroke-width: 0px; fill: rgb(76, 114, 176); fill-opacity: 1;\"/><path class=\"point\" transform=\"translate(103.51,240.25)\" d=\"M1,0A1,1 0 1,1 0,-1A1,1 0 0,1 1,0Z\" style=\"opacity: 1; stroke-width: 0px; fill: rgb(76, 114, 176); fill-opacity: 1;\"/><path class=\"point\" transform=\"translate(103.99,249.39)\" d=\"M1,0A1,1 0 1,1 0,-1A1,1 0 0,1 1,0Z\" style=\"opacity: 1; stroke-width: 0px; fill: rgb(76, 114, 176); fill-opacity: 1;\"/><path class=\"point\" transform=\"translate(104.47,237.07)\" d=\"M1,0A1,1 0 1,1 0,-1A1,1 0 0,1 1,0Z\" style=\"opacity: 1; stroke-width: 0px; fill: rgb(76, 114, 176); fill-opacity: 1;\"/><path class=\"point\" transform=\"translate(104.95,266.85)\" d=\"M1,0A1,1 0 1,1 0,-1A1,1 0 0,1 1,0Z\" style=\"opacity: 1; stroke-width: 0px; fill: rgb(76, 114, 176); fill-opacity: 1;\"/><path class=\"point\" transform=\"translate(105.44,248.07)\" d=\"M1,0A1,1 0 1,1 0,-1A1,1 0 0,1 1,0Z\" style=\"opacity: 1; stroke-width: 0px; fill: rgb(76, 114, 176); fill-opacity: 1;\"/><path class=\"point\" transform=\"translate(105.92,261.14)\" d=\"M1,0A1,1 0 1,1 0,-1A1,1 0 0,1 1,0Z\" style=\"opacity: 1; stroke-width: 0px; fill: rgb(76, 114, 176); fill-opacity: 1;\"/><path class=\"point\" transform=\"translate(106.4,243.23)\" d=\"M1,0A1,1 0 1,1 0,-1A1,1 0 0,1 1,0Z\" style=\"opacity: 1; stroke-width: 0px; fill: rgb(76, 114, 176); fill-opacity: 1;\"/><path class=\"point\" transform=\"translate(106.88,233.55)\" d=\"M1,0A1,1 0 1,1 0,-1A1,1 0 0,1 1,0Z\" style=\"opacity: 1; stroke-width: 0px; fill: rgb(76, 114, 176); fill-opacity: 1;\"/><path class=\"point\" transform=\"translate(107.36,246.3)\" d=\"M1,0A1,1 0 1,1 0,-1A1,1 0 0,1 1,0Z\" style=\"opacity: 1; stroke-width: 0px; fill: rgb(76, 114, 176); fill-opacity: 1;\"/><path class=\"point\" transform=\"translate(107.84,236.94)\" d=\"M1,0A1,1 0 1,1 0,-1A1,1 0 0,1 1,0Z\" style=\"opacity: 1; stroke-width: 0px; fill: rgb(76, 114, 176); fill-opacity: 1;\"/><path class=\"point\" transform=\"translate(108.32,236.02)\" d=\"M1,0A1,1 0 1,1 0,-1A1,1 0 0,1 1,0Z\" style=\"opacity: 1; stroke-width: 0px; fill: rgb(76, 114, 176); fill-opacity: 1;\"/><path class=\"point\" transform=\"translate(108.8,239.23)\" d=\"M1,0A1,1 0 1,1 0,-1A1,1 0 0,1 1,0Z\" style=\"opacity: 1; stroke-width: 0px; fill: rgb(76, 114, 176); fill-opacity: 1;\"/><path class=\"point\" transform=\"translate(109.28,243.86)\" d=\"M1,0A1,1 0 1,1 0,-1A1,1 0 0,1 1,0Z\" style=\"opacity: 1; stroke-width: 0px; fill: rgb(76, 114, 176); fill-opacity: 1;\"/><path class=\"point\" transform=\"translate(109.76,243.37)\" d=\"M1,0A1,1 0 1,1 0,-1A1,1 0 0,1 1,0Z\" style=\"opacity: 1; stroke-width: 0px; fill: rgb(76, 114, 176); fill-opacity: 1;\"/><path class=\"point\" transform=\"translate(110.24,237.61)\" d=\"M1,0A1,1 0 1,1 0,-1A1,1 0 0,1 1,0Z\" style=\"opacity: 1; stroke-width: 0px; fill: rgb(76, 114, 176); fill-opacity: 1;\"/><path class=\"point\" transform=\"translate(110.72,248.88)\" d=\"M1,0A1,1 0 1,1 0,-1A1,1 0 0,1 1,0Z\" style=\"opacity: 1; stroke-width: 0px; fill: rgb(76, 114, 176); fill-opacity: 1;\"/><path class=\"point\" transform=\"translate(111.2,233.62)\" d=\"M1,0A1,1 0 1,1 0,-1A1,1 0 0,1 1,0Z\" style=\"opacity: 1; stroke-width: 0px; fill: rgb(76, 114, 176); fill-opacity: 1;\"/><path class=\"point\" transform=\"translate(111.68,224.09)\" d=\"M1,0A1,1 0 1,1 0,-1A1,1 0 0,1 1,0Z\" style=\"opacity: 1; stroke-width: 0px; fill: rgb(76, 114, 176); fill-opacity: 1;\"/><path class=\"point\" transform=\"translate(112.16,247.78)\" d=\"M1,0A1,1 0 1,1 0,-1A1,1 0 0,1 1,0Z\" style=\"opacity: 1; stroke-width: 0px; fill: rgb(76, 114, 176); fill-opacity: 1;\"/><path class=\"point\" transform=\"translate(112.64,234.82)\" d=\"M1,0A1,1 0 1,1 0,-1A1,1 0 0,1 1,0Z\" style=\"opacity: 1; stroke-width: 0px; fill: rgb(76, 114, 176); fill-opacity: 1;\"/><path class=\"point\" transform=\"translate(113.12,256.05)\" d=\"M1,0A1,1 0 1,1 0,-1A1,1 0 0,1 1,0Z\" style=\"opacity: 1; stroke-width: 0px; fill: rgb(76, 114, 176); fill-opacity: 1;\"/><path class=\"point\" transform=\"translate(113.6,232.94)\" d=\"M1,0A1,1 0 1,1 0,-1A1,1 0 0,1 1,0Z\" style=\"opacity: 1; stroke-width: 0px; fill: rgb(76, 114, 176); fill-opacity: 1;\"/><path class=\"point\" transform=\"translate(114.08,232.23)\" d=\"M1,0A1,1 0 1,1 0,-1A1,1 0 0,1 1,0Z\" style=\"opacity: 1; stroke-width: 0px; fill: rgb(76, 114, 176); fill-opacity: 1;\"/><path class=\"point\" transform=\"translate(114.56,222.31)\" d=\"M1,0A1,1 0 1,1 0,-1A1,1 0 0,1 1,0Z\" style=\"opacity: 1; stroke-width: 0px; fill: rgb(76, 114, 176); fill-opacity: 1;\"/><path class=\"point\" transform=\"translate(115.05,231.23)\" d=\"M1,0A1,1 0 1,1 0,-1A1,1 0 0,1 1,0Z\" style=\"opacity: 1; stroke-width: 0px; fill: rgb(76, 114, 176); fill-opacity: 1;\"/><path class=\"point\" transform=\"translate(115.53,249.6)\" d=\"M1,0A1,1 0 1,1 0,-1A1,1 0 0,1 1,0Z\" style=\"opacity: 1; stroke-width: 0px; fill: rgb(76, 114, 176); fill-opacity: 1;\"/><path class=\"point\" transform=\"translate(116.01,244.58)\" d=\"M1,0A1,1 0 1,1 0,-1A1,1 0 0,1 1,0Z\" style=\"opacity: 1; stroke-width: 0px; fill: rgb(76, 114, 176); fill-opacity: 1;\"/><path class=\"point\" transform=\"translate(116.49,262.35)\" d=\"M1,0A1,1 0 1,1 0,-1A1,1 0 0,1 1,0Z\" style=\"opacity: 1; stroke-width: 0px; fill: rgb(76, 114, 176); fill-opacity: 1;\"/><path class=\"point\" transform=\"translate(116.97,229.21)\" d=\"M1,0A1,1 0 1,1 0,-1A1,1 0 0,1 1,0Z\" style=\"opacity: 1; stroke-width: 0px; fill: rgb(76, 114, 176); fill-opacity: 1;\"/><path class=\"point\" transform=\"translate(117.45,253.95)\" d=\"M1,0A1,1 0 1,1 0,-1A1,1 0 0,1 1,0Z\" style=\"opacity: 1; stroke-width: 0px; fill: rgb(76, 114, 176); fill-opacity: 1;\"/><path class=\"point\" transform=\"translate(117.93,255.03)\" d=\"M1,0A1,1 0 1,1 0,-1A1,1 0 0,1 1,0Z\" style=\"opacity: 1; stroke-width: 0px; fill: rgb(76, 114, 176); fill-opacity: 1;\"/><path class=\"point\" transform=\"translate(118.41,231.64)\" d=\"M1,0A1,1 0 1,1 0,-1A1,1 0 0,1 1,0Z\" style=\"opacity: 1; stroke-width: 0px; fill: rgb(76, 114, 176); fill-opacity: 1;\"/><path class=\"point\" transform=\"translate(118.89,232.84)\" d=\"M1,0A1,1 0 1,1 0,-1A1,1 0 0,1 1,0Z\" style=\"opacity: 1; stroke-width: 0px; fill: rgb(76, 114, 176); fill-opacity: 1;\"/><path class=\"point\" transform=\"translate(119.37,254.98)\" d=\"M1,0A1,1 0 1,1 0,-1A1,1 0 0,1 1,0Z\" style=\"opacity: 1; stroke-width: 0px; fill: rgb(76, 114, 176); fill-opacity: 1;\"/><path class=\"point\" transform=\"translate(119.85,260.19)\" d=\"M1,0A1,1 0 1,1 0,-1A1,1 0 0,1 1,0Z\" style=\"opacity: 1; stroke-width: 0px; fill: rgb(76, 114, 176); fill-opacity: 1;\"/><path class=\"point\" transform=\"translate(120.33,249.91)\" d=\"M1,0A1,1 0 1,1 0,-1A1,1 0 0,1 1,0Z\" style=\"opacity: 1; stroke-width: 0px; fill: rgb(76, 114, 176); fill-opacity: 1;\"/><path class=\"point\" transform=\"translate(120.81,226.87)\" d=\"M1,0A1,1 0 1,1 0,-1A1,1 0 0,1 1,0Z\" style=\"opacity: 1; stroke-width: 0px; fill: rgb(76, 114, 176); fill-opacity: 1;\"/><path class=\"point\" transform=\"translate(121.29,227.31)\" d=\"M1,0A1,1 0 1,1 0,-1A1,1 0 0,1 1,0Z\" style=\"opacity: 1; stroke-width: 0px; fill: rgb(76, 114, 176); fill-opacity: 1;\"/><path class=\"point\" transform=\"translate(121.77,240.03)\" d=\"M1,0A1,1 0 1,1 0,-1A1,1 0 0,1 1,0Z\" style=\"opacity: 1; stroke-width: 0px; fill: rgb(76, 114, 176); fill-opacity: 1;\"/><path class=\"point\" transform=\"translate(122.25,231.35)\" d=\"M1,0A1,1 0 1,1 0,-1A1,1 0 0,1 1,0Z\" style=\"opacity: 1; stroke-width: 0px; fill: rgb(76, 114, 176); fill-opacity: 1;\"/><path class=\"point\" transform=\"translate(122.73,253.3)\" d=\"M1,0A1,1 0 1,1 0,-1A1,1 0 0,1 1,0Z\" style=\"opacity: 1; stroke-width: 0px; fill: rgb(76, 114, 176); fill-opacity: 1;\"/><path class=\"point\" transform=\"translate(123.21,235.91)\" d=\"M1,0A1,1 0 1,1 0,-1A1,1 0 0,1 1,0Z\" style=\"opacity: 1; stroke-width: 0px; fill: rgb(76, 114, 176); fill-opacity: 1;\"/><path class=\"point\" transform=\"translate(123.69,252.38)\" d=\"M1,0A1,1 0 1,1 0,-1A1,1 0 0,1 1,0Z\" style=\"opacity: 1; stroke-width: 0px; fill: rgb(76, 114, 176); fill-opacity: 1;\"/><path class=\"point\" transform=\"translate(124.17,234.5)\" d=\"M1,0A1,1 0 1,1 0,-1A1,1 0 0,1 1,0Z\" style=\"opacity: 1; stroke-width: 0px; fill: rgb(76, 114, 176); fill-opacity: 1;\"/><path class=\"point\" transform=\"translate(124.65,244.24)\" d=\"M1,0A1,1 0 1,1 0,-1A1,1 0 0,1 1,0Z\" style=\"opacity: 1; stroke-width: 0px; fill: rgb(76, 114, 176); fill-opacity: 1;\"/><path class=\"point\" transform=\"translate(125.14,252.51)\" d=\"M1,0A1,1 0 1,1 0,-1A1,1 0 0,1 1,0Z\" style=\"opacity: 1; stroke-width: 0px; fill: rgb(76, 114, 176); fill-opacity: 1;\"/><path class=\"point\" transform=\"translate(125.62,217.07)\" d=\"M1,0A1,1 0 1,1 0,-1A1,1 0 0,1 1,0Z\" style=\"opacity: 1; stroke-width: 0px; fill: rgb(76, 114, 176); fill-opacity: 1;\"/><path class=\"point\" transform=\"translate(126.1,251.96)\" d=\"M1,0A1,1 0 1,1 0,-1A1,1 0 0,1 1,0Z\" style=\"opacity: 1; stroke-width: 0px; fill: rgb(76, 114, 176); fill-opacity: 1;\"/><path class=\"point\" transform=\"translate(126.58,257.17)\" d=\"M1,0A1,1 0 1,1 0,-1A1,1 0 0,1 1,0Z\" style=\"opacity: 1; stroke-width: 0px; fill: rgb(76, 114, 176); fill-opacity: 1;\"/><path class=\"point\" transform=\"translate(127.06,219)\" d=\"M1,0A1,1 0 1,1 0,-1A1,1 0 0,1 1,0Z\" style=\"opacity: 1; stroke-width: 0px; fill: rgb(76, 114, 176); fill-opacity: 1;\"/><path class=\"point\" transform=\"translate(127.54,221.23)\" d=\"M1,0A1,1 0 1,1 0,-1A1,1 0 0,1 1,0Z\" style=\"opacity: 1; stroke-width: 0px; fill: rgb(76, 114, 176); fill-opacity: 1;\"/><path class=\"point\" transform=\"translate(128.02,223.41)\" d=\"M1,0A1,1 0 1,1 0,-1A1,1 0 0,1 1,0Z\" style=\"opacity: 1; stroke-width: 0px; fill: rgb(76, 114, 176); fill-opacity: 1;\"/><path class=\"point\" transform=\"translate(128.5,216.2)\" d=\"M1,0A1,1 0 1,1 0,-1A1,1 0 0,1 1,0Z\" style=\"opacity: 1; stroke-width: 0px; fill: rgb(76, 114, 176); fill-opacity: 1;\"/><path class=\"point\" transform=\"translate(128.98,242.98)\" d=\"M1,0A1,1 0 1,1 0,-1A1,1 0 0,1 1,0Z\" style=\"opacity: 1; stroke-width: 0px; fill: rgb(76, 114, 176); fill-opacity: 1;\"/><path class=\"point\" transform=\"translate(129.46,227.57)\" d=\"M1,0A1,1 0 1,1 0,-1A1,1 0 0,1 1,0Z\" style=\"opacity: 1; stroke-width: 0px; fill: rgb(76, 114, 176); fill-opacity: 1;\"/><path class=\"point\" transform=\"translate(129.94,230.9)\" d=\"M1,0A1,1 0 1,1 0,-1A1,1 0 0,1 1,0Z\" style=\"opacity: 1; stroke-width: 0px; fill: rgb(76, 114, 176); fill-opacity: 1;\"/><path class=\"point\" transform=\"translate(130.42,225.2)\" d=\"M1,0A1,1 0 1,1 0,-1A1,1 0 0,1 1,0Z\" style=\"opacity: 1; stroke-width: 0px; fill: rgb(76, 114, 176); fill-opacity: 1;\"/><path class=\"point\" transform=\"translate(130.9,244.54)\" d=\"M1,0A1,1 0 1,1 0,-1A1,1 0 0,1 1,0Z\" style=\"opacity: 1; stroke-width: 0px; fill: rgb(76, 114, 176); fill-opacity: 1;\"/><path class=\"point\" transform=\"translate(131.38,242.88)\" d=\"M1,0A1,1 0 1,1 0,-1A1,1 0 0,1 1,0Z\" style=\"opacity: 1; stroke-width: 0px; fill: rgb(76, 114, 176); fill-opacity: 1;\"/><path class=\"point\" transform=\"translate(131.86,233.61)\" d=\"M1,0A1,1 0 1,1 0,-1A1,1 0 0,1 1,0Z\" style=\"opacity: 1; stroke-width: 0px; fill: rgb(76, 114, 176); fill-opacity: 1;\"/><path class=\"point\" transform=\"translate(132.34,229.32)\" d=\"M1,0A1,1 0 1,1 0,-1A1,1 0 0,1 1,0Z\" style=\"opacity: 1; stroke-width: 0px; fill: rgb(76, 114, 176); fill-opacity: 1;\"/><path class=\"point\" transform=\"translate(132.82,224.07)\" d=\"M1,0A1,1 0 1,1 0,-1A1,1 0 0,1 1,0Z\" style=\"opacity: 1; stroke-width: 0px; fill: rgb(76, 114, 176); fill-opacity: 1;\"/><path class=\"point\" transform=\"translate(133.3,227.48)\" d=\"M1,0A1,1 0 1,1 0,-1A1,1 0 0,1 1,0Z\" style=\"opacity: 1; stroke-width: 0px; fill: rgb(76, 114, 176); fill-opacity: 1;\"/><path class=\"point\" transform=\"translate(133.78,231.59)\" d=\"M1,0A1,1 0 1,1 0,-1A1,1 0 0,1 1,0Z\" style=\"opacity: 1; stroke-width: 0px; fill: rgb(76, 114, 176); fill-opacity: 1;\"/><path class=\"point\" transform=\"translate(134.26,243.78)\" d=\"M1,0A1,1 0 1,1 0,-1A1,1 0 0,1 1,0Z\" style=\"opacity: 1; stroke-width: 0px; fill: rgb(76, 114, 176); fill-opacity: 1;\"/><path class=\"point\" transform=\"translate(134.74,219.32)\" d=\"M1,0A1,1 0 1,1 0,-1A1,1 0 0,1 1,0Z\" style=\"opacity: 1; stroke-width: 0px; fill: rgb(76, 114, 176); fill-opacity: 1;\"/><path class=\"point\" transform=\"translate(135.23,249.61)\" d=\"M1,0A1,1 0 1,1 0,-1A1,1 0 0,1 1,0Z\" style=\"opacity: 1; stroke-width: 0px; fill: rgb(76, 114, 176); fill-opacity: 1;\"/><path class=\"point\" transform=\"translate(135.71,246.78)\" d=\"M1,0A1,1 0 1,1 0,-1A1,1 0 0,1 1,0Z\" style=\"opacity: 1; stroke-width: 0px; fill: rgb(76, 114, 176); fill-opacity: 1;\"/><path class=\"point\" transform=\"translate(136.19,240.74)\" d=\"M1,0A1,1 0 1,1 0,-1A1,1 0 0,1 1,0Z\" style=\"opacity: 1; stroke-width: 0px; fill: rgb(76, 114, 176); fill-opacity: 1;\"/><path class=\"point\" transform=\"translate(136.67,210.81)\" d=\"M1,0A1,1 0 1,1 0,-1A1,1 0 0,1 1,0Z\" style=\"opacity: 1; stroke-width: 0px; fill: rgb(76, 114, 176); fill-opacity: 1;\"/><path class=\"point\" transform=\"translate(137.15,219.9)\" d=\"M1,0A1,1 0 1,1 0,-1A1,1 0 0,1 1,0Z\" style=\"opacity: 1; stroke-width: 0px; fill: rgb(76, 114, 176); fill-opacity: 1;\"/><path class=\"point\" transform=\"translate(137.63,240.36)\" d=\"M1,0A1,1 0 1,1 0,-1A1,1 0 0,1 1,0Z\" style=\"opacity: 1; stroke-width: 0px; fill: rgb(76, 114, 176); fill-opacity: 1;\"/><path class=\"point\" transform=\"translate(138.11,210.49)\" d=\"M1,0A1,1 0 1,1 0,-1A1,1 0 0,1 1,0Z\" style=\"opacity: 1; stroke-width: 0px; fill: rgb(76, 114, 176); fill-opacity: 1;\"/><path class=\"point\" transform=\"translate(138.59,246.69)\" d=\"M1,0A1,1 0 1,1 0,-1A1,1 0 0,1 1,0Z\" style=\"opacity: 1; stroke-width: 0px; fill: rgb(76, 114, 176); fill-opacity: 1;\"/><path class=\"point\" transform=\"translate(139.07,242.62)\" d=\"M1,0A1,1 0 1,1 0,-1A1,1 0 0,1 1,0Z\" style=\"opacity: 1; stroke-width: 0px; fill: rgb(76, 114, 176); fill-opacity: 1;\"/><path class=\"point\" transform=\"translate(139.55,248.46)\" d=\"M1,0A1,1 0 1,1 0,-1A1,1 0 0,1 1,0Z\" style=\"opacity: 1; stroke-width: 0px; fill: rgb(76, 114, 176); fill-opacity: 1;\"/><path class=\"point\" transform=\"translate(140.03,221.98)\" d=\"M1,0A1,1 0 1,1 0,-1A1,1 0 0,1 1,0Z\" style=\"opacity: 1; stroke-width: 0px; fill: rgb(76, 114, 176); fill-opacity: 1;\"/><path class=\"point\" transform=\"translate(140.51,222.36)\" d=\"M1,0A1,1 0 1,1 0,-1A1,1 0 0,1 1,0Z\" style=\"opacity: 1; stroke-width: 0px; fill: rgb(76, 114, 176); fill-opacity: 1;\"/><path class=\"point\" transform=\"translate(140.99,229.94)\" d=\"M1,0A1,1 0 1,1 0,-1A1,1 0 0,1 1,0Z\" style=\"opacity: 1; stroke-width: 0px; fill: rgb(76, 114, 176); fill-opacity: 1;\"/><path class=\"point\" transform=\"translate(141.47,216.84)\" d=\"M1,0A1,1 0 1,1 0,-1A1,1 0 0,1 1,0Z\" style=\"opacity: 1; stroke-width: 0px; fill: rgb(76, 114, 176); fill-opacity: 1;\"/><path class=\"point\" transform=\"translate(141.95,242.84)\" d=\"M1,0A1,1 0 1,1 0,-1A1,1 0 0,1 1,0Z\" style=\"opacity: 1; stroke-width: 0px; fill: rgb(76, 114, 176); fill-opacity: 1;\"/><path class=\"point\" transform=\"translate(142.43,217.61)\" d=\"M1,0A1,1 0 1,1 0,-1A1,1 0 0,1 1,0Z\" style=\"opacity: 1; stroke-width: 0px; fill: rgb(76, 114, 176); fill-opacity: 1;\"/><path class=\"point\" transform=\"translate(142.91,226.73)\" d=\"M1,0A1,1 0 1,1 0,-1A1,1 0 0,1 1,0Z\" style=\"opacity: 1; stroke-width: 0px; fill: rgb(76, 114, 176); fill-opacity: 1;\"/><path class=\"point\" transform=\"translate(143.39,213.16)\" d=\"M1,0A1,1 0 1,1 0,-1A1,1 0 0,1 1,0Z\" style=\"opacity: 1; stroke-width: 0px; fill: rgb(76, 114, 176); fill-opacity: 1;\"/><path class=\"point\" transform=\"translate(143.87,231.17)\" d=\"M1,0A1,1 0 1,1 0,-1A1,1 0 0,1 1,0Z\" style=\"opacity: 1; stroke-width: 0px; fill: rgb(76, 114, 176); fill-opacity: 1;\"/><path class=\"point\" transform=\"translate(144.35,215.94)\" d=\"M1,0A1,1 0 1,1 0,-1A1,1 0 0,1 1,0Z\" style=\"opacity: 1; stroke-width: 0px; fill: rgb(76, 114, 176); fill-opacity: 1;\"/><path class=\"point\" transform=\"translate(144.83,243.08)\" d=\"M1,0A1,1 0 1,1 0,-1A1,1 0 0,1 1,0Z\" style=\"opacity: 1; stroke-width: 0px; fill: rgb(76, 114, 176); fill-opacity: 1;\"/><path class=\"point\" transform=\"translate(145.32,232.97)\" d=\"M1,0A1,1 0 1,1 0,-1A1,1 0 0,1 1,0Z\" style=\"opacity: 1; stroke-width: 0px; fill: rgb(76, 114, 176); fill-opacity: 1;\"/><path class=\"point\" transform=\"translate(145.8,231.43)\" d=\"M1,0A1,1 0 1,1 0,-1A1,1 0 0,1 1,0Z\" style=\"opacity: 1; stroke-width: 0px; fill: rgb(76, 114, 176); fill-opacity: 1;\"/><path class=\"point\" transform=\"translate(146.28,227.4)\" d=\"M1,0A1,1 0 1,1 0,-1A1,1 0 0,1 1,0Z\" style=\"opacity: 1; stroke-width: 0px; fill: rgb(76, 114, 176); fill-opacity: 1;\"/><path class=\"point\" transform=\"translate(146.76,237.92)\" d=\"M1,0A1,1 0 1,1 0,-1A1,1 0 0,1 1,0Z\" style=\"opacity: 1; stroke-width: 0px; fill: rgb(76, 114, 176); fill-opacity: 1;\"/><path class=\"point\" transform=\"translate(147.24,220.69)\" d=\"M1,0A1,1 0 1,1 0,-1A1,1 0 0,1 1,0Z\" style=\"opacity: 1; stroke-width: 0px; fill: rgb(76, 114, 176); fill-opacity: 1;\"/><path class=\"point\" transform=\"translate(147.72,207.68)\" d=\"M1,0A1,1 0 1,1 0,-1A1,1 0 0,1 1,0Z\" style=\"opacity: 1; stroke-width: 0px; fill: rgb(76, 114, 176); fill-opacity: 1;\"/><path class=\"point\" transform=\"translate(148.2,208.88)\" d=\"M1,0A1,1 0 1,1 0,-1A1,1 0 0,1 1,0Z\" style=\"opacity: 1; stroke-width: 0px; fill: rgb(76, 114, 176); fill-opacity: 1;\"/><path class=\"point\" transform=\"translate(148.68,229.17)\" d=\"M1,0A1,1 0 1,1 0,-1A1,1 0 0,1 1,0Z\" style=\"opacity: 1; stroke-width: 0px; fill: rgb(76, 114, 176); fill-opacity: 1;\"/><path class=\"point\" transform=\"translate(149.16,216.4)\" d=\"M1,0A1,1 0 1,1 0,-1A1,1 0 0,1 1,0Z\" style=\"opacity: 1; stroke-width: 0px; fill: rgb(76, 114, 176); fill-opacity: 1;\"/><path class=\"point\" transform=\"translate(149.64,214.69)\" d=\"M1,0A1,1 0 1,1 0,-1A1,1 0 0,1 1,0Z\" style=\"opacity: 1; stroke-width: 0px; fill: rgb(76, 114, 176); fill-opacity: 1;\"/><path class=\"point\" transform=\"translate(150.12,218.56)\" d=\"M1,0A1,1 0 1,1 0,-1A1,1 0 0,1 1,0Z\" style=\"opacity: 1; stroke-width: 0px; fill: rgb(76, 114, 176); fill-opacity: 1;\"/><path class=\"point\" transform=\"translate(150.6,209.68)\" d=\"M1,0A1,1 0 1,1 0,-1A1,1 0 0,1 1,0Z\" style=\"opacity: 1; stroke-width: 0px; fill: rgb(76, 114, 176); fill-opacity: 1;\"/><path class=\"point\" transform=\"translate(151.08,226.12)\" d=\"M1,0A1,1 0 1,1 0,-1A1,1 0 0,1 1,0Z\" style=\"opacity: 1; stroke-width: 0px; fill: rgb(76, 114, 176); fill-opacity: 1;\"/><path class=\"point\" transform=\"translate(151.56,222.06)\" d=\"M1,0A1,1 0 1,1 0,-1A1,1 0 0,1 1,0Z\" style=\"opacity: 1; stroke-width: 0px; fill: rgb(76, 114, 176); fill-opacity: 1;\"/><path class=\"point\" transform=\"translate(152.04,210.7)\" d=\"M1,0A1,1 0 1,1 0,-1A1,1 0 0,1 1,0Z\" style=\"opacity: 1; stroke-width: 0px; fill: rgb(76, 114, 176); fill-opacity: 1;\"/><path class=\"point\" transform=\"translate(152.52,228.34)\" d=\"M1,0A1,1 0 1,1 0,-1A1,1 0 0,1 1,0Z\" style=\"opacity: 1; stroke-width: 0px; fill: rgb(76, 114, 176); fill-opacity: 1;\"/><path class=\"point\" transform=\"translate(153,242.66)\" d=\"M1,0A1,1 0 1,1 0,-1A1,1 0 0,1 1,0Z\" style=\"opacity: 1; stroke-width: 0px; fill: rgb(76, 114, 176); fill-opacity: 1;\"/><path class=\"point\" transform=\"translate(153.48,223.22)\" d=\"M1,0A1,1 0 1,1 0,-1A1,1 0 0,1 1,0Z\" style=\"opacity: 1; stroke-width: 0px; fill: rgb(76, 114, 176); fill-opacity: 1;\"/><path class=\"point\" transform=\"translate(153.96,224.01)\" d=\"M1,0A1,1 0 1,1 0,-1A1,1 0 0,1 1,0Z\" style=\"opacity: 1; stroke-width: 0px; fill: rgb(76, 114, 176); fill-opacity: 1;\"/><path class=\"point\" transform=\"translate(154.44,215.31)\" d=\"M1,0A1,1 0 1,1 0,-1A1,1 0 0,1 1,0Z\" style=\"opacity: 1; stroke-width: 0px; fill: rgb(76, 114, 176); fill-opacity: 1;\"/><path class=\"point\" transform=\"translate(154.92,221.74)\" d=\"M1,0A1,1 0 1,1 0,-1A1,1 0 0,1 1,0Z\" style=\"opacity: 1; stroke-width: 0px; fill: rgb(76, 114, 176); fill-opacity: 1;\"/><path class=\"point\" transform=\"translate(155.41,219.57)\" d=\"M1,0A1,1 0 1,1 0,-1A1,1 0 0,1 1,0Z\" style=\"opacity: 1; stroke-width: 0px; fill: rgb(76, 114, 176); fill-opacity: 1;\"/><path class=\"point\" transform=\"translate(155.89,206.16)\" d=\"M1,0A1,1 0 1,1 0,-1A1,1 0 0,1 1,0Z\" style=\"opacity: 1; stroke-width: 0px; fill: rgb(76, 114, 176); fill-opacity: 1;\"/><path class=\"point\" transform=\"translate(156.37,200.19)\" d=\"M1,0A1,1 0 1,1 0,-1A1,1 0 0,1 1,0Z\" style=\"opacity: 1; stroke-width: 0px; fill: rgb(76, 114, 176); fill-opacity: 1;\"/><path class=\"point\" transform=\"translate(156.85,206.35)\" d=\"M1,0A1,1 0 1,1 0,-1A1,1 0 0,1 1,0Z\" style=\"opacity: 1; stroke-width: 0px; fill: rgb(76, 114, 176); fill-opacity: 1;\"/><path class=\"point\" transform=\"translate(157.33,200.53)\" d=\"M1,0A1,1 0 1,1 0,-1A1,1 0 0,1 1,0Z\" style=\"opacity: 1; stroke-width: 0px; fill: rgb(76, 114, 176); fill-opacity: 1;\"/><path class=\"point\" transform=\"translate(157.81,222.62)\" d=\"M1,0A1,1 0 1,1 0,-1A1,1 0 0,1 1,0Z\" style=\"opacity: 1; stroke-width: 0px; fill: rgb(76, 114, 176); fill-opacity: 1;\"/><path class=\"point\" transform=\"translate(158.29,203.69)\" d=\"M1,0A1,1 0 1,1 0,-1A1,1 0 0,1 1,0Z\" style=\"opacity: 1; stroke-width: 0px; fill: rgb(76, 114, 176); fill-opacity: 1;\"/><path class=\"point\" transform=\"translate(158.77,202.11)\" d=\"M1,0A1,1 0 1,1 0,-1A1,1 0 0,1 1,0Z\" style=\"opacity: 1; stroke-width: 0px; fill: rgb(76, 114, 176); fill-opacity: 1;\"/><path class=\"point\" transform=\"translate(159.25,221.98)\" d=\"M1,0A1,1 0 1,1 0,-1A1,1 0 0,1 1,0Z\" style=\"opacity: 1; stroke-width: 0px; fill: rgb(76, 114, 176); fill-opacity: 1;\"/><path class=\"point\" transform=\"translate(159.73,202.85)\" d=\"M1,0A1,1 0 1,1 0,-1A1,1 0 0,1 1,0Z\" style=\"opacity: 1; stroke-width: 0px; fill: rgb(76, 114, 176); fill-opacity: 1;\"/><path class=\"point\" transform=\"translate(160.21,205.6)\" d=\"M1,0A1,1 0 1,1 0,-1A1,1 0 0,1 1,0Z\" style=\"opacity: 1; stroke-width: 0px; fill: rgb(76, 114, 176); fill-opacity: 1;\"/><path class=\"point\" transform=\"translate(160.69,219.42)\" d=\"M1,0A1,1 0 1,1 0,-1A1,1 0 0,1 1,0Z\" style=\"opacity: 1; stroke-width: 0px; fill: rgb(76, 114, 176); fill-opacity: 1;\"/><path class=\"point\" transform=\"translate(161.17,215.15)\" d=\"M1,0A1,1 0 1,1 0,-1A1,1 0 0,1 1,0Z\" style=\"opacity: 1; stroke-width: 0px; fill: rgb(76, 114, 176); fill-opacity: 1;\"/><path class=\"point\" transform=\"translate(161.65,222.92)\" d=\"M1,0A1,1 0 1,1 0,-1A1,1 0 0,1 1,0Z\" style=\"opacity: 1; stroke-width: 0px; fill: rgb(76, 114, 176); fill-opacity: 1;\"/><path class=\"point\" transform=\"translate(162.13,235.07)\" d=\"M1,0A1,1 0 1,1 0,-1A1,1 0 0,1 1,0Z\" style=\"opacity: 1; stroke-width: 0px; fill: rgb(76, 114, 176); fill-opacity: 1;\"/><path class=\"point\" transform=\"translate(162.61,235.77)\" d=\"M1,0A1,1 0 1,1 0,-1A1,1 0 0,1 1,0Z\" style=\"opacity: 1; stroke-width: 0px; fill: rgb(76, 114, 176); fill-opacity: 1;\"/><path class=\"point\" transform=\"translate(163.09,198.06)\" d=\"M1,0A1,1 0 1,1 0,-1A1,1 0 0,1 1,0Z\" style=\"opacity: 1; stroke-width: 0px; fill: rgb(76, 114, 176); fill-opacity: 1;\"/><path class=\"point\" transform=\"translate(163.57,214.81)\" d=\"M1,0A1,1 0 1,1 0,-1A1,1 0 0,1 1,0Z\" style=\"opacity: 1; stroke-width: 0px; fill: rgb(76, 114, 176); fill-opacity: 1;\"/><path class=\"point\" transform=\"translate(164.05,199.37)\" d=\"M1,0A1,1 0 1,1 0,-1A1,1 0 0,1 1,0Z\" style=\"opacity: 1; stroke-width: 0px; fill: rgb(76, 114, 176); fill-opacity: 1;\"/><path class=\"point\" transform=\"translate(164.53,198.85)\" d=\"M1,0A1,1 0 1,1 0,-1A1,1 0 0,1 1,0Z\" style=\"opacity: 1; stroke-width: 0px; fill: rgb(76, 114, 176); fill-opacity: 1;\"/><path class=\"point\" transform=\"translate(165.02,231.36)\" d=\"M1,0A1,1 0 1,1 0,-1A1,1 0 0,1 1,0Z\" style=\"opacity: 1; stroke-width: 0px; fill: rgb(76, 114, 176); fill-opacity: 1;\"/><path class=\"point\" transform=\"translate(165.5,236.06)\" d=\"M1,0A1,1 0 1,1 0,-1A1,1 0 0,1 1,0Z\" style=\"opacity: 1; stroke-width: 0px; fill: rgb(76, 114, 176); fill-opacity: 1;\"/><path class=\"point\" transform=\"translate(165.98,217.67)\" d=\"M1,0A1,1 0 1,1 0,-1A1,1 0 0,1 1,0Z\" style=\"opacity: 1; stroke-width: 0px; fill: rgb(76, 114, 176); fill-opacity: 1;\"/><path class=\"point\" transform=\"translate(166.46,236.27)\" d=\"M1,0A1,1 0 1,1 0,-1A1,1 0 0,1 1,0Z\" style=\"opacity: 1; stroke-width: 0px; fill: rgb(76, 114, 176); fill-opacity: 1;\"/><path class=\"point\" transform=\"translate(166.94,202.72)\" d=\"M1,0A1,1 0 1,1 0,-1A1,1 0 0,1 1,0Z\" style=\"opacity: 1; stroke-width: 0px; fill: rgb(76, 114, 176); fill-opacity: 1;\"/><path class=\"point\" transform=\"translate(167.42,218.1)\" d=\"M1,0A1,1 0 1,1 0,-1A1,1 0 0,1 1,0Z\" style=\"opacity: 1; stroke-width: 0px; fill: rgb(76, 114, 176); fill-opacity: 1;\"/><path class=\"point\" transform=\"translate(167.9,214.74)\" d=\"M1,0A1,1 0 1,1 0,-1A1,1 0 0,1 1,0Z\" style=\"opacity: 1; stroke-width: 0px; fill: rgb(76, 114, 176); fill-opacity: 1;\"/><path class=\"point\" transform=\"translate(168.38,209.52)\" d=\"M1,0A1,1 0 1,1 0,-1A1,1 0 0,1 1,0Z\" style=\"opacity: 1; stroke-width: 0px; fill: rgb(76, 114, 176); fill-opacity: 1;\"/><path class=\"point\" transform=\"translate(168.86,231.7)\" d=\"M1,0A1,1 0 1,1 0,-1A1,1 0 0,1 1,0Z\" style=\"opacity: 1; stroke-width: 0px; fill: rgb(76, 114, 176); fill-opacity: 1;\"/><path class=\"point\" transform=\"translate(169.34,211.85)\" d=\"M1,0A1,1 0 1,1 0,-1A1,1 0 0,1 1,0Z\" style=\"opacity: 1; stroke-width: 0px; fill: rgb(76, 114, 176); fill-opacity: 1;\"/><path class=\"point\" transform=\"translate(169.82,220.56)\" d=\"M1,0A1,1 0 1,1 0,-1A1,1 0 0,1 1,0Z\" style=\"opacity: 1; stroke-width: 0px; fill: rgb(76, 114, 176); fill-opacity: 1;\"/><path class=\"point\" transform=\"translate(170.3,225.57)\" d=\"M1,0A1,1 0 1,1 0,-1A1,1 0 0,1 1,0Z\" style=\"opacity: 1; stroke-width: 0px; fill: rgb(76, 114, 176); fill-opacity: 1;\"/><path class=\"point\" transform=\"translate(170.78,197.44)\" d=\"M1,0A1,1 0 1,1 0,-1A1,1 0 0,1 1,0Z\" style=\"opacity: 1; stroke-width: 0px; fill: rgb(76, 114, 176); fill-opacity: 1;\"/><path class=\"point\" transform=\"translate(171.26,193.76)\" d=\"M1,0A1,1 0 1,1 0,-1A1,1 0 0,1 1,0Z\" style=\"opacity: 1; stroke-width: 0px; fill: rgb(76, 114, 176); fill-opacity: 1;\"/><path class=\"point\" transform=\"translate(171.74,227.5)\" d=\"M1,0A1,1 0 1,1 0,-1A1,1 0 0,1 1,0Z\" style=\"opacity: 1; stroke-width: 0px; fill: rgb(76, 114, 176); fill-opacity: 1;\"/><path class=\"point\" transform=\"translate(172.22,220.32)\" d=\"M1,0A1,1 0 1,1 0,-1A1,1 0 0,1 1,0Z\" style=\"opacity: 1; stroke-width: 0px; fill: rgb(76, 114, 176); fill-opacity: 1;\"/><path class=\"point\" transform=\"translate(172.7,212.16)\" d=\"M1,0A1,1 0 1,1 0,-1A1,1 0 0,1 1,0Z\" style=\"opacity: 1; stroke-width: 0px; fill: rgb(76, 114, 176); fill-opacity: 1;\"/><path class=\"point\" transform=\"translate(173.18,201.58)\" d=\"M1,0A1,1 0 1,1 0,-1A1,1 0 0,1 1,0Z\" style=\"opacity: 1; stroke-width: 0px; fill: rgb(76, 114, 176); fill-opacity: 1;\"/><path class=\"point\" transform=\"translate(173.66,228.54)\" d=\"M1,0A1,1 0 1,1 0,-1A1,1 0 0,1 1,0Z\" style=\"opacity: 1; stroke-width: 0px; fill: rgb(76, 114, 176); fill-opacity: 1;\"/><path class=\"point\" transform=\"translate(174.14,207.14)\" d=\"M1,0A1,1 0 1,1 0,-1A1,1 0 0,1 1,0Z\" style=\"opacity: 1; stroke-width: 0px; fill: rgb(76, 114, 176); fill-opacity: 1;\"/><path class=\"point\" transform=\"translate(174.62,202.07)\" d=\"M1,0A1,1 0 1,1 0,-1A1,1 0 0,1 1,0Z\" style=\"opacity: 1; stroke-width: 0px; fill: rgb(76, 114, 176); fill-opacity: 1;\"/><path class=\"point\" transform=\"translate(175.11,210.14)\" d=\"M1,0A1,1 0 1,1 0,-1A1,1 0 0,1 1,0Z\" style=\"opacity: 1; stroke-width: 0px; fill: rgb(76, 114, 176); fill-opacity: 1;\"/><path class=\"point\" transform=\"translate(175.59,210.67)\" d=\"M1,0A1,1 0 1,1 0,-1A1,1 0 0,1 1,0Z\" style=\"opacity: 1; stroke-width: 0px; fill: rgb(76, 114, 176); fill-opacity: 1;\"/><path class=\"point\" transform=\"translate(176.07,207.34)\" d=\"M1,0A1,1 0 1,1 0,-1A1,1 0 0,1 1,0Z\" style=\"opacity: 1; stroke-width: 0px; fill: rgb(76, 114, 176); fill-opacity: 1;\"/><path class=\"point\" transform=\"translate(176.55,202.34)\" d=\"M1,0A1,1 0 1,1 0,-1A1,1 0 0,1 1,0Z\" style=\"opacity: 1; stroke-width: 0px; fill: rgb(76, 114, 176); fill-opacity: 1;\"/><path class=\"point\" transform=\"translate(177.03,209.95)\" d=\"M1,0A1,1 0 1,1 0,-1A1,1 0 0,1 1,0Z\" style=\"opacity: 1; stroke-width: 0px; fill: rgb(76, 114, 176); fill-opacity: 1;\"/><path class=\"point\" transform=\"translate(177.51,197.57)\" d=\"M1,0A1,1 0 1,1 0,-1A1,1 0 0,1 1,0Z\" style=\"opacity: 1; stroke-width: 0px; fill: rgb(76, 114, 176); fill-opacity: 1;\"/><path class=\"point\" transform=\"translate(177.99,190.4)\" d=\"M1,0A1,1 0 1,1 0,-1A1,1 0 0,1 1,0Z\" style=\"opacity: 1; stroke-width: 0px; fill: rgb(76, 114, 176); fill-opacity: 1;\"/><path class=\"point\" transform=\"translate(178.47,198.53)\" d=\"M1,0A1,1 0 1,1 0,-1A1,1 0 0,1 1,0Z\" style=\"opacity: 1; stroke-width: 0px; fill: rgb(76, 114, 176); fill-opacity: 1;\"/><path class=\"point\" transform=\"translate(178.95,210.86)\" d=\"M1,0A1,1 0 1,1 0,-1A1,1 0 0,1 1,0Z\" style=\"opacity: 1; stroke-width: 0px; fill: rgb(76, 114, 176); fill-opacity: 1;\"/><path class=\"point\" transform=\"translate(179.43,211.79)\" d=\"M1,0A1,1 0 1,1 0,-1A1,1 0 0,1 1,0Z\" style=\"opacity: 1; stroke-width: 0px; fill: rgb(76, 114, 176); fill-opacity: 1;\"/><path class=\"point\" transform=\"translate(179.91,189.93)\" d=\"M1,0A1,1 0 1,1 0,-1A1,1 0 0,1 1,0Z\" style=\"opacity: 1; stroke-width: 0px; fill: rgb(76, 114, 176); fill-opacity: 1;\"/><path class=\"point\" transform=\"translate(180.39,192.86)\" d=\"M1,0A1,1 0 1,1 0,-1A1,1 0 0,1 1,0Z\" style=\"opacity: 1; stroke-width: 0px; fill: rgb(76, 114, 176); fill-opacity: 1;\"/><path class=\"point\" transform=\"translate(180.87,201.21)\" d=\"M1,0A1,1 0 1,1 0,-1A1,1 0 0,1 1,0Z\" style=\"opacity: 1; stroke-width: 0px; fill: rgb(76, 114, 176); fill-opacity: 1;\"/><path class=\"point\" transform=\"translate(181.35,198.62)\" d=\"M1,0A1,1 0 1,1 0,-1A1,1 0 0,1 1,0Z\" style=\"opacity: 1; stroke-width: 0px; fill: rgb(76, 114, 176); fill-opacity: 1;\"/><path class=\"point\" transform=\"translate(181.83,204)\" d=\"M1,0A1,1 0 1,1 0,-1A1,1 0 0,1 1,0Z\" style=\"opacity: 1; stroke-width: 0px; fill: rgb(76, 114, 176); fill-opacity: 1;\"/><path class=\"point\" transform=\"translate(182.31,200.05)\" d=\"M1,0A1,1 0 1,1 0,-1A1,1 0 0,1 1,0Z\" style=\"opacity: 1; stroke-width: 0px; fill: rgb(76, 114, 176); fill-opacity: 1;\"/><path class=\"point\" transform=\"translate(182.79,224.89)\" d=\"M1,0A1,1 0 1,1 0,-1A1,1 0 0,1 1,0Z\" style=\"opacity: 1; stroke-width: 0px; fill: rgb(76, 114, 176); fill-opacity: 1;\"/><path class=\"point\" transform=\"translate(183.27,220.89)\" d=\"M1,0A1,1 0 1,1 0,-1A1,1 0 0,1 1,0Z\" style=\"opacity: 1; stroke-width: 0px; fill: rgb(76, 114, 176); fill-opacity: 1;\"/><path class=\"point\" transform=\"translate(183.75,224.34)\" d=\"M1,0A1,1 0 1,1 0,-1A1,1 0 0,1 1,0Z\" style=\"opacity: 1; stroke-width: 0px; fill: rgb(76, 114, 176); fill-opacity: 1;\"/><path class=\"point\" transform=\"translate(184.23,209.68)\" d=\"M1,0A1,1 0 1,1 0,-1A1,1 0 0,1 1,0Z\" style=\"opacity: 1; stroke-width: 0px; fill: rgb(76, 114, 176); fill-opacity: 1;\"/><path class=\"point\" transform=\"translate(184.71,207.95)\" d=\"M1,0A1,1 0 1,1 0,-1A1,1 0 0,1 1,0Z\" style=\"opacity: 1; stroke-width: 0px; fill: rgb(76, 114, 176); fill-opacity: 1;\"/><path class=\"point\" transform=\"translate(185.2,220.76)\" d=\"M1,0A1,1 0 1,1 0,-1A1,1 0 0,1 1,0Z\" style=\"opacity: 1; stroke-width: 0px; fill: rgb(76, 114, 176); fill-opacity: 1;\"/><path class=\"point\" transform=\"translate(185.68,202.97)\" d=\"M1,0A1,1 0 1,1 0,-1A1,1 0 0,1 1,0Z\" style=\"opacity: 1; stroke-width: 0px; fill: rgb(76, 114, 176); fill-opacity: 1;\"/><path class=\"point\" transform=\"translate(186.16,195.47)\" d=\"M1,0A1,1 0 1,1 0,-1A1,1 0 0,1 1,0Z\" style=\"opacity: 1; stroke-width: 0px; fill: rgb(76, 114, 176); fill-opacity: 1;\"/><path class=\"point\" transform=\"translate(186.64,206.71)\" d=\"M1,0A1,1 0 1,1 0,-1A1,1 0 0,1 1,0Z\" style=\"opacity: 1; stroke-width: 0px; fill: rgb(76, 114, 176); fill-opacity: 1;\"/><path class=\"point\" transform=\"translate(187.12,200.66)\" d=\"M1,0A1,1 0 1,1 0,-1A1,1 0 0,1 1,0Z\" style=\"opacity: 1; stroke-width: 0px; fill: rgb(76, 114, 176); fill-opacity: 1;\"/><path class=\"point\" transform=\"translate(187.6,213.15)\" d=\"M1,0A1,1 0 1,1 0,-1A1,1 0 0,1 1,0Z\" style=\"opacity: 1; stroke-width: 0px; fill: rgb(76, 114, 176); fill-opacity: 1;\"/><path class=\"point\" transform=\"translate(188.08,210.08)\" d=\"M1,0A1,1 0 1,1 0,-1A1,1 0 0,1 1,0Z\" style=\"opacity: 1; stroke-width: 0px; fill: rgb(76, 114, 176); fill-opacity: 1;\"/><path class=\"point\" transform=\"translate(188.56,204.2)\" d=\"M1,0A1,1 0 1,1 0,-1A1,1 0 0,1 1,0Z\" style=\"opacity: 1; stroke-width: 0px; fill: rgb(76, 114, 176); fill-opacity: 1;\"/><path class=\"point\" transform=\"translate(189.04,201.06)\" d=\"M1,0A1,1 0 1,1 0,-1A1,1 0 0,1 1,0Z\" style=\"opacity: 1; stroke-width: 0px; fill: rgb(76, 114, 176); fill-opacity: 1;\"/><path class=\"point\" transform=\"translate(189.52,185.13)\" d=\"M1,0A1,1 0 1,1 0,-1A1,1 0 0,1 1,0Z\" style=\"opacity: 1; stroke-width: 0px; fill: rgb(76, 114, 176); fill-opacity: 1;\"/><path class=\"point\" transform=\"translate(190,200.49)\" d=\"M1,0A1,1 0 1,1 0,-1A1,1 0 0,1 1,0Z\" style=\"opacity: 1; stroke-width: 0px; fill: rgb(76, 114, 176); fill-opacity: 1;\"/><path class=\"point\" transform=\"translate(190.48,209.46)\" d=\"M1,0A1,1 0 1,1 0,-1A1,1 0 0,1 1,0Z\" style=\"opacity: 1; stroke-width: 0px; fill: rgb(76, 114, 176); fill-opacity: 1;\"/><path class=\"point\" transform=\"translate(190.96,216.68)\" d=\"M1,0A1,1 0 1,1 0,-1A1,1 0 0,1 1,0Z\" style=\"opacity: 1; stroke-width: 0px; fill: rgb(76, 114, 176); fill-opacity: 1;\"/><path class=\"point\" transform=\"translate(191.44,202.22)\" d=\"M1,0A1,1 0 1,1 0,-1A1,1 0 0,1 1,0Z\" style=\"opacity: 1; stroke-width: 0px; fill: rgb(76, 114, 176); fill-opacity: 1;\"/><path class=\"point\" transform=\"translate(191.92,202.61)\" d=\"M1,0A1,1 0 1,1 0,-1A1,1 0 0,1 1,0Z\" style=\"opacity: 1; stroke-width: 0px; fill: rgb(76, 114, 176); fill-opacity: 1;\"/><path class=\"point\" transform=\"translate(192.4,204.51)\" d=\"M1,0A1,1 0 1,1 0,-1A1,1 0 0,1 1,0Z\" style=\"opacity: 1; stroke-width: 0px; fill: rgb(76, 114, 176); fill-opacity: 1;\"/><path class=\"point\" transform=\"translate(192.88,197.34)\" d=\"M1,0A1,1 0 1,1 0,-1A1,1 0 0,1 1,0Z\" style=\"opacity: 1; stroke-width: 0px; fill: rgb(76, 114, 176); fill-opacity: 1;\"/><path class=\"point\" transform=\"translate(193.36,186.78)\" d=\"M1,0A1,1 0 1,1 0,-1A1,1 0 0,1 1,0Z\" style=\"opacity: 1; stroke-width: 0px; fill: rgb(76, 114, 176); fill-opacity: 1;\"/><path class=\"point\" transform=\"translate(193.84,204.74)\" d=\"M1,0A1,1 0 1,1 0,-1A1,1 0 0,1 1,0Z\" style=\"opacity: 1; stroke-width: 0px; fill: rgb(76, 114, 176); fill-opacity: 1;\"/><path class=\"point\" transform=\"translate(194.32,221.18)\" d=\"M1,0A1,1 0 1,1 0,-1A1,1 0 0,1 1,0Z\" style=\"opacity: 1; stroke-width: 0px; fill: rgb(76, 114, 176); fill-opacity: 1;\"/><path class=\"point\" transform=\"translate(194.8,203.27)\" d=\"M1,0A1,1 0 1,1 0,-1A1,1 0 0,1 1,0Z\" style=\"opacity: 1; stroke-width: 0px; fill: rgb(76, 114, 176); fill-opacity: 1;\"/><path class=\"point\" transform=\"translate(195.29,200.01)\" d=\"M1,0A1,1 0 1,1 0,-1A1,1 0 0,1 1,0Z\" style=\"opacity: 1; stroke-width: 0px; fill: rgb(76, 114, 176); fill-opacity: 1;\"/><path class=\"point\" transform=\"translate(195.77,217.8)\" d=\"M1,0A1,1 0 1,1 0,-1A1,1 0 0,1 1,0Z\" style=\"opacity: 1; stroke-width: 0px; fill: rgb(76, 114, 176); fill-opacity: 1;\"/><path class=\"point\" transform=\"translate(196.25,194.07)\" d=\"M1,0A1,1 0 1,1 0,-1A1,1 0 0,1 1,0Z\" style=\"opacity: 1; stroke-width: 0px; fill: rgb(76, 114, 176); fill-opacity: 1;\"/><path class=\"point\" transform=\"translate(196.73,219.8)\" d=\"M1,0A1,1 0 1,1 0,-1A1,1 0 0,1 1,0Z\" style=\"opacity: 1; stroke-width: 0px; fill: rgb(76, 114, 176); fill-opacity: 1;\"/><path class=\"point\" transform=\"translate(197.21,197.82)\" d=\"M1,0A1,1 0 1,1 0,-1A1,1 0 0,1 1,0Z\" style=\"opacity: 1; stroke-width: 0px; fill: rgb(76, 114, 176); fill-opacity: 1;\"/><path class=\"point\" transform=\"translate(197.69,205.2)\" d=\"M1,0A1,1 0 1,1 0,-1A1,1 0 0,1 1,0Z\" style=\"opacity: 1; stroke-width: 0px; fill: rgb(76, 114, 176); fill-opacity: 1;\"/><path class=\"point\" transform=\"translate(198.17,196.57)\" d=\"M1,0A1,1 0 1,1 0,-1A1,1 0 0,1 1,0Z\" style=\"opacity: 1; stroke-width: 0px; fill: rgb(76, 114, 176); fill-opacity: 1;\"/><path class=\"point\" transform=\"translate(198.65,208.89)\" d=\"M1,0A1,1 0 1,1 0,-1A1,1 0 0,1 1,0Z\" style=\"opacity: 1; stroke-width: 0px; fill: rgb(76, 114, 176); fill-opacity: 1;\"/><path class=\"point\" transform=\"translate(199.13,207.02)\" d=\"M1,0A1,1 0 1,1 0,-1A1,1 0 0,1 1,0Z\" style=\"opacity: 1; stroke-width: 0px; fill: rgb(76, 114, 176); fill-opacity: 1;\"/><path class=\"point\" transform=\"translate(199.61,195.54)\" d=\"M1,0A1,1 0 1,1 0,-1A1,1 0 0,1 1,0Z\" style=\"opacity: 1; stroke-width: 0px; fill: rgb(76, 114, 176); fill-opacity: 1;\"/><path class=\"point\" transform=\"translate(200.09,188.98)\" d=\"M1,0A1,1 0 1,1 0,-1A1,1 0 0,1 1,0Z\" style=\"opacity: 1; stroke-width: 0px; fill: rgb(76, 114, 176); fill-opacity: 1;\"/><path class=\"point\" transform=\"translate(200.57,194.15)\" d=\"M1,0A1,1 0 1,1 0,-1A1,1 0 0,1 1,0Z\" style=\"opacity: 1; stroke-width: 0px; fill: rgb(76, 114, 176); fill-opacity: 1;\"/><path class=\"point\" transform=\"translate(201.05,195.68)\" d=\"M1,0A1,1 0 1,1 0,-1A1,1 0 0,1 1,0Z\" style=\"opacity: 1; stroke-width: 0px; fill: rgb(76, 114, 176); fill-opacity: 1;\"/><path class=\"point\" transform=\"translate(201.53,202.83)\" d=\"M1,0A1,1 0 1,1 0,-1A1,1 0 0,1 1,0Z\" style=\"opacity: 1; stroke-width: 0px; fill: rgb(76, 114, 176); fill-opacity: 1;\"/><path class=\"point\" transform=\"translate(202.01,184.26)\" d=\"M1,0A1,1 0 1,1 0,-1A1,1 0 0,1 1,0Z\" style=\"opacity: 1; stroke-width: 0px; fill: rgb(76, 114, 176); fill-opacity: 1;\"/><path class=\"point\" transform=\"translate(202.49,212.02)\" d=\"M1,0A1,1 0 1,1 0,-1A1,1 0 0,1 1,0Z\" style=\"opacity: 1; stroke-width: 0px; fill: rgb(76, 114, 176); fill-opacity: 1;\"/><path class=\"point\" transform=\"translate(202.97,185.55)\" d=\"M1,0A1,1 0 1,1 0,-1A1,1 0 0,1 1,0Z\" style=\"opacity: 1; stroke-width: 0px; fill: rgb(76, 114, 176); fill-opacity: 1;\"/><path class=\"point\" transform=\"translate(203.45,210.13)\" d=\"M1,0A1,1 0 1,1 0,-1A1,1 0 0,1 1,0Z\" style=\"opacity: 1; stroke-width: 0px; fill: rgb(76, 114, 176); fill-opacity: 1;\"/><path class=\"point\" transform=\"translate(203.93,185.77)\" d=\"M1,0A1,1 0 1,1 0,-1A1,1 0 0,1 1,0Z\" style=\"opacity: 1; stroke-width: 0px; fill: rgb(76, 114, 176); fill-opacity: 1;\"/><path class=\"point\" transform=\"translate(204.41,212.34)\" d=\"M1,0A1,1 0 1,1 0,-1A1,1 0 0,1 1,0Z\" style=\"opacity: 1; stroke-width: 0px; fill: rgb(76, 114, 176); fill-opacity: 1;\"/><path class=\"point\" transform=\"translate(204.89,197.54)\" d=\"M1,0A1,1 0 1,1 0,-1A1,1 0 0,1 1,0Z\" style=\"opacity: 1; stroke-width: 0px; fill: rgb(76, 114, 176); fill-opacity: 1;\"/><path class=\"point\" transform=\"translate(205.38,190.65)\" d=\"M1,0A1,1 0 1,1 0,-1A1,1 0 0,1 1,0Z\" style=\"opacity: 1; stroke-width: 0px; fill: rgb(76, 114, 176); fill-opacity: 1;\"/><path class=\"point\" transform=\"translate(205.86,192.11)\" d=\"M1,0A1,1 0 1,1 0,-1A1,1 0 0,1 1,0Z\" style=\"opacity: 1; stroke-width: 0px; fill: rgb(76, 114, 176); fill-opacity: 1;\"/><path class=\"point\" transform=\"translate(206.34,211.74)\" d=\"M1,0A1,1 0 1,1 0,-1A1,1 0 0,1 1,0Z\" style=\"opacity: 1; stroke-width: 0px; fill: rgb(76, 114, 176); fill-opacity: 1;\"/><path class=\"point\" transform=\"translate(206.82,194.83)\" d=\"M1,0A1,1 0 1,1 0,-1A1,1 0 0,1 1,0Z\" style=\"opacity: 1; stroke-width: 0px; fill: rgb(76, 114, 176); fill-opacity: 1;\"/><path class=\"point\" transform=\"translate(207.3,196.77)\" d=\"M1,0A1,1 0 1,1 0,-1A1,1 0 0,1 1,0Z\" style=\"opacity: 1; stroke-width: 0px; fill: rgb(76, 114, 176); fill-opacity: 1;\"/><path class=\"point\" transform=\"translate(207.78,189.08)\" d=\"M1,0A1,1 0 1,1 0,-1A1,1 0 0,1 1,0Z\" style=\"opacity: 1; stroke-width: 0px; fill: rgb(76, 114, 176); fill-opacity: 1;\"/><path class=\"point\" transform=\"translate(208.26,205.01)\" d=\"M1,0A1,1 0 1,1 0,-1A1,1 0 0,1 1,0Z\" style=\"opacity: 1; stroke-width: 0px; fill: rgb(76, 114, 176); fill-opacity: 1;\"/><path class=\"point\" transform=\"translate(208.74,173.53)\" d=\"M1,0A1,1 0 1,1 0,-1A1,1 0 0,1 1,0Z\" style=\"opacity: 1; stroke-width: 0px; fill: rgb(76, 114, 176); fill-opacity: 1;\"/><path class=\"point\" transform=\"translate(209.22,186.13)\" d=\"M1,0A1,1 0 1,1 0,-1A1,1 0 0,1 1,0Z\" style=\"opacity: 1; stroke-width: 0px; fill: rgb(76, 114, 176); fill-opacity: 1;\"/><path class=\"point\" transform=\"translate(209.7,208.76)\" d=\"M1,0A1,1 0 1,1 0,-1A1,1 0 0,1 1,0Z\" style=\"opacity: 1; stroke-width: 0px; fill: rgb(76, 114, 176); fill-opacity: 1;\"/><path class=\"point\" transform=\"translate(210.18,208.78)\" d=\"M1,0A1,1 0 1,1 0,-1A1,1 0 0,1 1,0Z\" style=\"opacity: 1; stroke-width: 0px; fill: rgb(76, 114, 176); fill-opacity: 1;\"/><path class=\"point\" transform=\"translate(210.66,187.57)\" d=\"M1,0A1,1 0 1,1 0,-1A1,1 0 0,1 1,0Z\" style=\"opacity: 1; stroke-width: 0px; fill: rgb(76, 114, 176); fill-opacity: 1;\"/><path class=\"point\" transform=\"translate(211.14,187.18)\" d=\"M1,0A1,1 0 1,1 0,-1A1,1 0 0,1 1,0Z\" style=\"opacity: 1; stroke-width: 0px; fill: rgb(76, 114, 176); fill-opacity: 1;\"/><path class=\"point\" transform=\"translate(211.62,172.41)\" d=\"M1,0A1,1 0 1,1 0,-1A1,1 0 0,1 1,0Z\" style=\"opacity: 1; stroke-width: 0px; fill: rgb(76, 114, 176); fill-opacity: 1;\"/><path class=\"point\" transform=\"translate(212.1,209.16)\" d=\"M1,0A1,1 0 1,1 0,-1A1,1 0 0,1 1,0Z\" style=\"opacity: 1; stroke-width: 0px; fill: rgb(76, 114, 176); fill-opacity: 1;\"/><path class=\"point\" transform=\"translate(212.58,189.48)\" d=\"M1,0A1,1 0 1,1 0,-1A1,1 0 0,1 1,0Z\" style=\"opacity: 1; stroke-width: 0px; fill: rgb(76, 114, 176); fill-opacity: 1;\"/><path class=\"point\" transform=\"translate(213.06,186.49)\" d=\"M1,0A1,1 0 1,1 0,-1A1,1 0 0,1 1,0Z\" style=\"opacity: 1; stroke-width: 0px; fill: rgb(76, 114, 176); fill-opacity: 1;\"/><path class=\"point\" transform=\"translate(213.54,202.43)\" d=\"M1,0A1,1 0 1,1 0,-1A1,1 0 0,1 1,0Z\" style=\"opacity: 1; stroke-width: 0px; fill: rgb(76, 114, 176); fill-opacity: 1;\"/><path class=\"point\" transform=\"translate(214.02,205.16)\" d=\"M1,0A1,1 0 1,1 0,-1A1,1 0 0,1 1,0Z\" style=\"opacity: 1; stroke-width: 0px; fill: rgb(76, 114, 176); fill-opacity: 1;\"/><path class=\"point\" transform=\"translate(214.5,193.59)\" d=\"M1,0A1,1 0 1,1 0,-1A1,1 0 0,1 1,0Z\" style=\"opacity: 1; stroke-width: 0px; fill: rgb(76, 114, 176); fill-opacity: 1;\"/><path class=\"point\" transform=\"translate(214.98,172.86)\" d=\"M1,0A1,1 0 1,1 0,-1A1,1 0 0,1 1,0Z\" style=\"opacity: 1; stroke-width: 0px; fill: rgb(76, 114, 176); fill-opacity: 1;\"/><path class=\"point\" transform=\"translate(215.47,183.1)\" d=\"M1,0A1,1 0 1,1 0,-1A1,1 0 0,1 1,0Z\" style=\"opacity: 1; stroke-width: 0px; fill: rgb(76, 114, 176); fill-opacity: 1;\"/><path class=\"point\" transform=\"translate(215.95,185.92)\" d=\"M1,0A1,1 0 1,1 0,-1A1,1 0 0,1 1,0Z\" style=\"opacity: 1; stroke-width: 0px; fill: rgb(76, 114, 176); fill-opacity: 1;\"/><path class=\"point\" transform=\"translate(216.43,176.15)\" d=\"M1,0A1,1 0 1,1 0,-1A1,1 0 0,1 1,0Z\" style=\"opacity: 1; stroke-width: 0px; fill: rgb(76, 114, 176); fill-opacity: 1;\"/><path class=\"point\" transform=\"translate(216.91,169.27)\" d=\"M1,0A1,1 0 1,1 0,-1A1,1 0 0,1 1,0Z\" style=\"opacity: 1; stroke-width: 0px; fill: rgb(76, 114, 176); fill-opacity: 1;\"/><path class=\"point\" transform=\"translate(217.39,182.75)\" d=\"M1,0A1,1 0 1,1 0,-1A1,1 0 0,1 1,0Z\" style=\"opacity: 1; stroke-width: 0px; fill: rgb(76, 114, 176); fill-opacity: 1;\"/><path class=\"point\" transform=\"translate(217.87,191.35)\" d=\"M1,0A1,1 0 1,1 0,-1A1,1 0 0,1 1,0Z\" style=\"opacity: 1; stroke-width: 0px; fill: rgb(76, 114, 176); fill-opacity: 1;\"/><path class=\"point\" transform=\"translate(218.35,199.93)\" d=\"M1,0A1,1 0 1,1 0,-1A1,1 0 0,1 1,0Z\" style=\"opacity: 1; stroke-width: 0px; fill: rgb(76, 114, 176); fill-opacity: 1;\"/><path class=\"point\" transform=\"translate(218.83,176.86)\" d=\"M1,0A1,1 0 1,1 0,-1A1,1 0 0,1 1,0Z\" style=\"opacity: 1; stroke-width: 0px; fill: rgb(76, 114, 176); fill-opacity: 1;\"/><path class=\"point\" transform=\"translate(219.31,190.26)\" d=\"M1,0A1,1 0 1,1 0,-1A1,1 0 0,1 1,0Z\" style=\"opacity: 1; stroke-width: 0px; fill: rgb(76, 114, 176); fill-opacity: 1;\"/><path class=\"point\" transform=\"translate(219.79,190.64)\" d=\"M1,0A1,1 0 1,1 0,-1A1,1 0 0,1 1,0Z\" style=\"opacity: 1; stroke-width: 0px; fill: rgb(76, 114, 176); fill-opacity: 1;\"/><path class=\"point\" transform=\"translate(220.27,198.04)\" d=\"M1,0A1,1 0 1,1 0,-1A1,1 0 0,1 1,0Z\" style=\"opacity: 1; stroke-width: 0px; fill: rgb(76, 114, 176); fill-opacity: 1;\"/><path class=\"point\" transform=\"translate(220.75,196.75)\" d=\"M1,0A1,1 0 1,1 0,-1A1,1 0 0,1 1,0Z\" style=\"opacity: 1; stroke-width: 0px; fill: rgb(76, 114, 176); fill-opacity: 1;\"/><path class=\"point\" transform=\"translate(221.23,198.08)\" d=\"M1,0A1,1 0 1,1 0,-1A1,1 0 0,1 1,0Z\" style=\"opacity: 1; stroke-width: 0px; fill: rgb(76, 114, 176); fill-opacity: 1;\"/><path class=\"point\" transform=\"translate(221.71,169.95)\" d=\"M1,0A1,1 0 1,1 0,-1A1,1 0 0,1 1,0Z\" style=\"opacity: 1; stroke-width: 0px; fill: rgb(76, 114, 176); fill-opacity: 1;\"/><path class=\"point\" transform=\"translate(222.19,183.98)\" d=\"M1,0A1,1 0 1,1 0,-1A1,1 0 0,1 1,0Z\" style=\"opacity: 1; stroke-width: 0px; fill: rgb(76, 114, 176); fill-opacity: 1;\"/><path class=\"point\" transform=\"translate(222.67,188.38)\" d=\"M1,0A1,1 0 1,1 0,-1A1,1 0 0,1 1,0Z\" style=\"opacity: 1; stroke-width: 0px; fill: rgb(76, 114, 176); fill-opacity: 1;\"/><path class=\"point\" transform=\"translate(223.15,191.33)\" d=\"M1,0A1,1 0 1,1 0,-1A1,1 0 0,1 1,0Z\" style=\"opacity: 1; stroke-width: 0px; fill: rgb(76, 114, 176); fill-opacity: 1;\"/><path class=\"point\" transform=\"translate(223.63,199.69)\" d=\"M1,0A1,1 0 1,1 0,-1A1,1 0 0,1 1,0Z\" style=\"opacity: 1; stroke-width: 0px; fill: rgb(76, 114, 176); fill-opacity: 1;\"/><path class=\"point\" transform=\"translate(224.11,199.58)\" d=\"M1,0A1,1 0 1,1 0,-1A1,1 0 0,1 1,0Z\" style=\"opacity: 1; stroke-width: 0px; fill: rgb(76, 114, 176); fill-opacity: 1;\"/><path class=\"point\" transform=\"translate(224.59,192.6)\" d=\"M1,0A1,1 0 1,1 0,-1A1,1 0 0,1 1,0Z\" style=\"opacity: 1; stroke-width: 0px; fill: rgb(76, 114, 176); fill-opacity: 1;\"/><path class=\"point\" transform=\"translate(225.08,203.95)\" d=\"M1,0A1,1 0 1,1 0,-1A1,1 0 0,1 1,0Z\" style=\"opacity: 1; stroke-width: 0px; fill: rgb(76, 114, 176); fill-opacity: 1;\"/><path class=\"point\" transform=\"translate(225.56,173.46)\" d=\"M1,0A1,1 0 1,1 0,-1A1,1 0 0,1 1,0Z\" style=\"opacity: 1; stroke-width: 0px; fill: rgb(76, 114, 176); fill-opacity: 1;\"/><path class=\"point\" transform=\"translate(226.04,200.19)\" d=\"M1,0A1,1 0 1,1 0,-1A1,1 0 0,1 1,0Z\" style=\"opacity: 1; stroke-width: 0px; fill: rgb(76, 114, 176); fill-opacity: 1;\"/><path class=\"point\" transform=\"translate(226.52,199.82)\" d=\"M1,0A1,1 0 1,1 0,-1A1,1 0 0,1 1,0Z\" style=\"opacity: 1; stroke-width: 0px; fill: rgb(76, 114, 176); fill-opacity: 1;\"/><path class=\"point\" transform=\"translate(227,199.27)\" d=\"M1,0A1,1 0 1,1 0,-1A1,1 0 0,1 1,0Z\" style=\"opacity: 1; stroke-width: 0px; fill: rgb(76, 114, 176); fill-opacity: 1;\"/><path class=\"point\" transform=\"translate(227.48,194.02)\" d=\"M1,0A1,1 0 1,1 0,-1A1,1 0 0,1 1,0Z\" style=\"opacity: 1; stroke-width: 0px; fill: rgb(76, 114, 176); fill-opacity: 1;\"/><path class=\"point\" transform=\"translate(227.96,199.19)\" d=\"M1,0A1,1 0 1,1 0,-1A1,1 0 0,1 1,0Z\" style=\"opacity: 1; stroke-width: 0px; fill: rgb(76, 114, 176); fill-opacity: 1;\"/><path class=\"point\" transform=\"translate(228.44,162.41)\" d=\"M1,0A1,1 0 1,1 0,-1A1,1 0 0,1 1,0Z\" style=\"opacity: 1; stroke-width: 0px; fill: rgb(76, 114, 176); fill-opacity: 1;\"/><path class=\"point\" transform=\"translate(228.92,166.37)\" d=\"M1,0A1,1 0 1,1 0,-1A1,1 0 0,1 1,0Z\" style=\"opacity: 1; stroke-width: 0px; fill: rgb(76, 114, 176); fill-opacity: 1;\"/><path class=\"point\" transform=\"translate(229.4,190.84)\" d=\"M1,0A1,1 0 1,1 0,-1A1,1 0 0,1 1,0Z\" style=\"opacity: 1; stroke-width: 0px; fill: rgb(76, 114, 176); fill-opacity: 1;\"/><path class=\"point\" transform=\"translate(229.88,182.14)\" d=\"M1,0A1,1 0 1,1 0,-1A1,1 0 0,1 1,0Z\" style=\"opacity: 1; stroke-width: 0px; fill: rgb(76, 114, 176); fill-opacity: 1;\"/><path class=\"point\" transform=\"translate(230.36,161.61)\" d=\"M1,0A1,1 0 1,1 0,-1A1,1 0 0,1 1,0Z\" style=\"opacity: 1; stroke-width: 0px; fill: rgb(76, 114, 176); fill-opacity: 1;\"/><path class=\"point\" transform=\"translate(230.84,184.69)\" d=\"M1,0A1,1 0 1,1 0,-1A1,1 0 0,1 1,0Z\" style=\"opacity: 1; stroke-width: 0px; fill: rgb(76, 114, 176); fill-opacity: 1;\"/><path class=\"point\" transform=\"translate(231.32,201.44)\" d=\"M1,0A1,1 0 1,1 0,-1A1,1 0 0,1 1,0Z\" style=\"opacity: 1; stroke-width: 0px; fill: rgb(76, 114, 176); fill-opacity: 1;\"/><path class=\"point\" transform=\"translate(231.8,171.65)\" d=\"M1,0A1,1 0 1,1 0,-1A1,1 0 0,1 1,0Z\" style=\"opacity: 1; stroke-width: 0px; fill: rgb(76, 114, 176); fill-opacity: 1;\"/><path class=\"point\" transform=\"translate(232.28,162.24)\" d=\"M1,0A1,1 0 1,1 0,-1A1,1 0 0,1 1,0Z\" style=\"opacity: 1; stroke-width: 0px; fill: rgb(76, 114, 176); fill-opacity: 1;\"/><path class=\"point\" transform=\"translate(232.76,190.58)\" d=\"M1,0A1,1 0 1,1 0,-1A1,1 0 0,1 1,0Z\" style=\"opacity: 1; stroke-width: 0px; fill: rgb(76, 114, 176); fill-opacity: 1;\"/><path class=\"point\" transform=\"translate(233.24,182.47)\" d=\"M1,0A1,1 0 1,1 0,-1A1,1 0 0,1 1,0Z\" style=\"opacity: 1; stroke-width: 0px; fill: rgb(76, 114, 176); fill-opacity: 1;\"/><path class=\"point\" transform=\"translate(233.72,195.77)\" d=\"M1,0A1,1 0 1,1 0,-1A1,1 0 0,1 1,0Z\" style=\"opacity: 1; stroke-width: 0px; fill: rgb(76, 114, 176); fill-opacity: 1;\"/><path class=\"point\" transform=\"translate(234.2,159.84)\" d=\"M1,0A1,1 0 1,1 0,-1A1,1 0 0,1 1,0Z\" style=\"opacity: 1; stroke-width: 0px; fill: rgb(76, 114, 176); fill-opacity: 1;\"/><path class=\"point\" transform=\"translate(234.68,192.81)\" d=\"M1,0A1,1 0 1,1 0,-1A1,1 0 0,1 1,0Z\" style=\"opacity: 1; stroke-width: 0px; fill: rgb(76, 114, 176); fill-opacity: 1;\"/><path class=\"point\" transform=\"translate(235.17,196.57)\" d=\"M1,0A1,1 0 1,1 0,-1A1,1 0 0,1 1,0Z\" style=\"opacity: 1; stroke-width: 0px; fill: rgb(76, 114, 176); fill-opacity: 1;\"/><path class=\"point\" transform=\"translate(235.65,180.96)\" d=\"M1,0A1,1 0 1,1 0,-1A1,1 0 0,1 1,0Z\" style=\"opacity: 1; stroke-width: 0px; fill: rgb(76, 114, 176); fill-opacity: 1;\"/><path class=\"point\" transform=\"translate(236.13,169.48)\" d=\"M1,0A1,1 0 1,1 0,-1A1,1 0 0,1 1,0Z\" style=\"opacity: 1; stroke-width: 0px; fill: rgb(76, 114, 176); fill-opacity: 1;\"/><path class=\"point\" transform=\"translate(236.61,190.55)\" d=\"M1,0A1,1 0 1,1 0,-1A1,1 0 0,1 1,0Z\" style=\"opacity: 1; stroke-width: 0px; fill: rgb(76, 114, 176); fill-opacity: 1;\"/><path class=\"point\" transform=\"translate(237.09,158.61)\" d=\"M1,0A1,1 0 1,1 0,-1A1,1 0 0,1 1,0Z\" style=\"opacity: 1; stroke-width: 0px; fill: rgb(76, 114, 176); fill-opacity: 1;\"/><path class=\"point\" transform=\"translate(237.57,182.07)\" d=\"M1,0A1,1 0 1,1 0,-1A1,1 0 0,1 1,0Z\" style=\"opacity: 1; stroke-width: 0px; fill: rgb(76, 114, 176); fill-opacity: 1;\"/><path class=\"point\" transform=\"translate(238.05,193.47)\" d=\"M1,0A1,1 0 1,1 0,-1A1,1 0 0,1 1,0Z\" style=\"opacity: 1; stroke-width: 0px; fill: rgb(76, 114, 176); fill-opacity: 1;\"/><path class=\"point\" transform=\"translate(238.53,180.99)\" d=\"M1,0A1,1 0 1,1 0,-1A1,1 0 0,1 1,0Z\" style=\"opacity: 1; stroke-width: 0px; fill: rgb(76, 114, 176); fill-opacity: 1;\"/><path class=\"point\" transform=\"translate(239.01,161.25)\" d=\"M1,0A1,1 0 1,1 0,-1A1,1 0 0,1 1,0Z\" style=\"opacity: 1; stroke-width: 0px; fill: rgb(76, 114, 176); fill-opacity: 1;\"/><path class=\"point\" transform=\"translate(239.49,192.35)\" d=\"M1,0A1,1 0 1,1 0,-1A1,1 0 0,1 1,0Z\" style=\"opacity: 1; stroke-width: 0px; fill: rgb(76, 114, 176); fill-opacity: 1;\"/><path class=\"point\" transform=\"translate(239.97,182.66)\" d=\"M1,0A1,1 0 1,1 0,-1A1,1 0 0,1 1,0Z\" style=\"opacity: 1; stroke-width: 0px; fill: rgb(76, 114, 176); fill-opacity: 1;\"/><path class=\"point\" transform=\"translate(240.45,171.64)\" d=\"M1,0A1,1 0 1,1 0,-1A1,1 0 0,1 1,0Z\" style=\"opacity: 1; stroke-width: 0px; fill: rgb(76, 114, 176); fill-opacity: 1;\"/><path class=\"point\" transform=\"translate(240.93,156.34)\" d=\"M1,0A1,1 0 1,1 0,-1A1,1 0 0,1 1,0Z\" style=\"opacity: 1; stroke-width: 0px; fill: rgb(76, 114, 176); fill-opacity: 1;\"/><path class=\"point\" transform=\"translate(241.41,159.75)\" d=\"M1,0A1,1 0 1,1 0,-1A1,1 0 0,1 1,0Z\" style=\"opacity: 1; stroke-width: 0px; fill: rgb(76, 114, 176); fill-opacity: 1;\"/><path class=\"point\" transform=\"translate(241.89,166.94)\" d=\"M1,0A1,1 0 1,1 0,-1A1,1 0 0,1 1,0Z\" style=\"opacity: 1; stroke-width: 0px; fill: rgb(76, 114, 176); fill-opacity: 1;\"/><path class=\"point\" transform=\"translate(242.37,176.65)\" d=\"M1,0A1,1 0 1,1 0,-1A1,1 0 0,1 1,0Z\" style=\"opacity: 1; stroke-width: 0px; fill: rgb(76, 114, 176); fill-opacity: 1;\"/><path class=\"point\" transform=\"translate(242.85,179.52)\" d=\"M1,0A1,1 0 1,1 0,-1A1,1 0 0,1 1,0Z\" style=\"opacity: 1; stroke-width: 0px; fill: rgb(76, 114, 176); fill-opacity: 1;\"/><path class=\"point\" transform=\"translate(243.33,181.58)\" d=\"M1,0A1,1 0 1,1 0,-1A1,1 0 0,1 1,0Z\" style=\"opacity: 1; stroke-width: 0px; fill: rgb(76, 114, 176); fill-opacity: 1;\"/><path class=\"point\" transform=\"translate(243.81,190.75)\" d=\"M1,0A1,1 0 1,1 0,-1A1,1 0 0,1 1,0Z\" style=\"opacity: 1; stroke-width: 0px; fill: rgb(76, 114, 176); fill-opacity: 1;\"/><path class=\"point\" transform=\"translate(244.29,163.05)\" d=\"M1,0A1,1 0 1,1 0,-1A1,1 0 0,1 1,0Z\" style=\"opacity: 1; stroke-width: 0px; fill: rgb(76, 114, 176); fill-opacity: 1;\"/><path class=\"point\" transform=\"translate(244.77,165.46)\" d=\"M1,0A1,1 0 1,1 0,-1A1,1 0 0,1 1,0Z\" style=\"opacity: 1; stroke-width: 0px; fill: rgb(76, 114, 176); fill-opacity: 1;\"/><path class=\"point\" transform=\"translate(245.26,168.74)\" d=\"M1,0A1,1 0 1,1 0,-1A1,1 0 0,1 1,0Z\" style=\"opacity: 1; stroke-width: 0px; fill: rgb(76, 114, 176); fill-opacity: 1;\"/><path class=\"point\" transform=\"translate(245.74,174.4)\" d=\"M1,0A1,1 0 1,1 0,-1A1,1 0 0,1 1,0Z\" style=\"opacity: 1; stroke-width: 0px; fill: rgb(76, 114, 176); fill-opacity: 1;\"/><path class=\"point\" transform=\"translate(246.22,183.38)\" d=\"M1,0A1,1 0 1,1 0,-1A1,1 0 0,1 1,0Z\" style=\"opacity: 1; stroke-width: 0px; fill: rgb(76, 114, 176); fill-opacity: 1;\"/><path class=\"point\" transform=\"translate(246.7,152.6)\" d=\"M1,0A1,1 0 1,1 0,-1A1,1 0 0,1 1,0Z\" style=\"opacity: 1; stroke-width: 0px; fill: rgb(76, 114, 176); fill-opacity: 1;\"/><path class=\"point\" transform=\"translate(247.18,171.59)\" d=\"M1,0A1,1 0 1,1 0,-1A1,1 0 0,1 1,0Z\" style=\"opacity: 1; stroke-width: 0px; fill: rgb(76, 114, 176); fill-opacity: 1;\"/><path class=\"point\" transform=\"translate(247.66,185.26)\" d=\"M1,0A1,1 0 1,1 0,-1A1,1 0 0,1 1,0Z\" style=\"opacity: 1; stroke-width: 0px; fill: rgb(76, 114, 176); fill-opacity: 1;\"/><path class=\"point\" transform=\"translate(248.14,165.33)\" d=\"M1,0A1,1 0 1,1 0,-1A1,1 0 0,1 1,0Z\" style=\"opacity: 1; stroke-width: 0px; fill: rgb(76, 114, 176); fill-opacity: 1;\"/><path class=\"point\" transform=\"translate(248.62,182.16)\" d=\"M1,0A1,1 0 1,1 0,-1A1,1 0 0,1 1,0Z\" style=\"opacity: 1; stroke-width: 0px; fill: rgb(76, 114, 176); fill-opacity: 1;\"/><path class=\"point\" transform=\"translate(249.1,178.51)\" d=\"M1,0A1,1 0 1,1 0,-1A1,1 0 0,1 1,0Z\" style=\"opacity: 1; stroke-width: 0px; fill: rgb(76, 114, 176); fill-opacity: 1;\"/><path class=\"point\" transform=\"translate(249.58,152.34)\" d=\"M1,0A1,1 0 1,1 0,-1A1,1 0 0,1 1,0Z\" style=\"opacity: 1; stroke-width: 0px; fill: rgb(76, 114, 176); fill-opacity: 1;\"/><path class=\"point\" transform=\"translate(250.06,159.26)\" d=\"M1,0A1,1 0 1,1 0,-1A1,1 0 0,1 1,0Z\" style=\"opacity: 1; stroke-width: 0px; fill: rgb(76, 114, 176); fill-opacity: 1;\"/><path class=\"point\" transform=\"translate(250.54,177.67)\" d=\"M1,0A1,1 0 1,1 0,-1A1,1 0 0,1 1,0Z\" style=\"opacity: 1; stroke-width: 0px; fill: rgb(76, 114, 176); fill-opacity: 1;\"/><path class=\"point\" transform=\"translate(251.02,190.27)\" d=\"M1,0A1,1 0 1,1 0,-1A1,1 0 0,1 1,0Z\" style=\"opacity: 1; stroke-width: 0px; fill: rgb(76, 114, 176); fill-opacity: 1;\"/><path class=\"point\" transform=\"translate(251.5,150.18)\" d=\"M1,0A1,1 0 1,1 0,-1A1,1 0 0,1 1,0Z\" style=\"opacity: 1; stroke-width: 0px; fill: rgb(76, 114, 176); fill-opacity: 1;\"/><path class=\"point\" transform=\"translate(251.98,155.26)\" d=\"M1,0A1,1 0 1,1 0,-1A1,1 0 0,1 1,0Z\" style=\"opacity: 1; stroke-width: 0px; fill: rgb(76, 114, 176); fill-opacity: 1;\"/><path class=\"point\" transform=\"translate(252.46,165.77)\" d=\"M1,0A1,1 0 1,1 0,-1A1,1 0 0,1 1,0Z\" style=\"opacity: 1; stroke-width: 0px; fill: rgb(76, 114, 176); fill-opacity: 1;\"/><path class=\"point\" transform=\"translate(252.94,180.72)\" d=\"M1,0A1,1 0 1,1 0,-1A1,1 0 0,1 1,0Z\" style=\"opacity: 1; stroke-width: 0px; fill: rgb(76, 114, 176); fill-opacity: 1;\"/><path class=\"point\" transform=\"translate(253.42,155.57)\" d=\"M1,0A1,1 0 1,1 0,-1A1,1 0 0,1 1,0Z\" style=\"opacity: 1; stroke-width: 0px; fill: rgb(76, 114, 176); fill-opacity: 1;\"/><path class=\"point\" transform=\"translate(253.9,154.72)\" d=\"M1,0A1,1 0 1,1 0,-1A1,1 0 0,1 1,0Z\" style=\"opacity: 1; stroke-width: 0px; fill: rgb(76, 114, 176); fill-opacity: 1;\"/><path class=\"point\" transform=\"translate(254.38,154.84)\" d=\"M1,0A1,1 0 1,1 0,-1A1,1 0 0,1 1,0Z\" style=\"opacity: 1; stroke-width: 0px; fill: rgb(76, 114, 176); fill-opacity: 1;\"/><path class=\"point\" transform=\"translate(254.86,160.92)\" d=\"M1,0A1,1 0 1,1 0,-1A1,1 0 0,1 1,0Z\" style=\"opacity: 1; stroke-width: 0px; fill: rgb(76, 114, 176); fill-opacity: 1;\"/><path class=\"point\" transform=\"translate(255.35,155.51)\" d=\"M1,0A1,1 0 1,1 0,-1A1,1 0 0,1 1,0Z\" style=\"opacity: 1; stroke-width: 0px; fill: rgb(76, 114, 176); fill-opacity: 1;\"/><path class=\"point\" transform=\"translate(255.83,148.41)\" d=\"M1,0A1,1 0 1,1 0,-1A1,1 0 0,1 1,0Z\" style=\"opacity: 1; stroke-width: 0px; fill: rgb(76, 114, 176); fill-opacity: 1;\"/><path class=\"point\" transform=\"translate(256.31,147.68)\" d=\"M1,0A1,1 0 1,1 0,-1A1,1 0 0,1 1,0Z\" style=\"opacity: 1; stroke-width: 0px; fill: rgb(76, 114, 176); fill-opacity: 1;\"/><path class=\"point\" transform=\"translate(256.79,185.72)\" d=\"M1,0A1,1 0 1,1 0,-1A1,1 0 0,1 1,0Z\" style=\"opacity: 1; stroke-width: 0px; fill: rgb(76, 114, 176); fill-opacity: 1;\"/><path class=\"point\" transform=\"translate(257.27,169.29)\" d=\"M1,0A1,1 0 1,1 0,-1A1,1 0 0,1 1,0Z\" style=\"opacity: 1; stroke-width: 0px; fill: rgb(76, 114, 176); fill-opacity: 1;\"/><path class=\"point\" transform=\"translate(257.75,179.83)\" d=\"M1,0A1,1 0 1,1 0,-1A1,1 0 0,1 1,0Z\" style=\"opacity: 1; stroke-width: 0px; fill: rgb(76, 114, 176); fill-opacity: 1;\"/><path class=\"point\" transform=\"translate(258.23,169.04)\" d=\"M1,0A1,1 0 1,1 0,-1A1,1 0 0,1 1,0Z\" style=\"opacity: 1; stroke-width: 0px; fill: rgb(76, 114, 176); fill-opacity: 1;\"/><path class=\"point\" transform=\"translate(258.71,147.02)\" d=\"M1,0A1,1 0 1,1 0,-1A1,1 0 0,1 1,0Z\" style=\"opacity: 1; stroke-width: 0px; fill: rgb(76, 114, 176); fill-opacity: 1;\"/><path class=\"point\" transform=\"translate(259.19,168.07)\" d=\"M1,0A1,1 0 1,1 0,-1A1,1 0 0,1 1,0Z\" style=\"opacity: 1; stroke-width: 0px; fill: rgb(76, 114, 176); fill-opacity: 1;\"/><path class=\"point\" transform=\"translate(259.67,175.83)\" d=\"M1,0A1,1 0 1,1 0,-1A1,1 0 0,1 1,0Z\" style=\"opacity: 1; stroke-width: 0px; fill: rgb(76, 114, 176); fill-opacity: 1;\"/><path class=\"point\" transform=\"translate(260.15,171.56)\" d=\"M1,0A1,1 0 1,1 0,-1A1,1 0 0,1 1,0Z\" style=\"opacity: 1; stroke-width: 0px; fill: rgb(76, 114, 176); fill-opacity: 1;\"/><path class=\"point\" transform=\"translate(260.63,148.31)\" d=\"M1,0A1,1 0 1,1 0,-1A1,1 0 0,1 1,0Z\" style=\"opacity: 1; stroke-width: 0px; fill: rgb(76, 114, 176); fill-opacity: 1;\"/><path class=\"point\" transform=\"translate(261.11,163.44)\" d=\"M1,0A1,1 0 1,1 0,-1A1,1 0 0,1 1,0Z\" style=\"opacity: 1; stroke-width: 0px; fill: rgb(76, 114, 176); fill-opacity: 1;\"/><path class=\"point\" transform=\"translate(261.59,157.84)\" d=\"M1,0A1,1 0 1,1 0,-1A1,1 0 0,1 1,0Z\" style=\"opacity: 1; stroke-width: 0px; fill: rgb(76, 114, 176); fill-opacity: 1;\"/><path class=\"point\" transform=\"translate(262.07,164.7)\" d=\"M1,0A1,1 0 1,1 0,-1A1,1 0 0,1 1,0Z\" style=\"opacity: 1; stroke-width: 0px; fill: rgb(76, 114, 176); fill-opacity: 1;\"/><path class=\"point\" transform=\"translate(262.55,174.09)\" d=\"M1,0A1,1 0 1,1 0,-1A1,1 0 0,1 1,0Z\" style=\"opacity: 1; stroke-width: 0px; fill: rgb(76, 114, 176); fill-opacity: 1;\"/><path class=\"point\" transform=\"translate(263.03,182.61)\" d=\"M1,0A1,1 0 1,1 0,-1A1,1 0 0,1 1,0Z\" style=\"opacity: 1; stroke-width: 0px; fill: rgb(76, 114, 176); fill-opacity: 1;\"/><path class=\"point\" transform=\"translate(263.51,157.4)\" d=\"M1,0A1,1 0 1,1 0,-1A1,1 0 0,1 1,0Z\" style=\"opacity: 1; stroke-width: 0px; fill: rgb(76, 114, 176); fill-opacity: 1;\"/><path class=\"point\" transform=\"translate(263.99,172.33)\" d=\"M1,0A1,1 0 1,1 0,-1A1,1 0 0,1 1,0Z\" style=\"opacity: 1; stroke-width: 0px; fill: rgb(76, 114, 176); fill-opacity: 1;\"/><path class=\"point\" transform=\"translate(264.47,155.36)\" d=\"M1,0A1,1 0 1,1 0,-1A1,1 0 0,1 1,0Z\" style=\"opacity: 1; stroke-width: 0px; fill: rgb(76, 114, 176); fill-opacity: 1;\"/><path class=\"point\" transform=\"translate(264.95,147.72)\" d=\"M1,0A1,1 0 1,1 0,-1A1,1 0 0,1 1,0Z\" style=\"opacity: 1; stroke-width: 0px; fill: rgb(76, 114, 176); fill-opacity: 1;\"/><path class=\"point\" transform=\"translate(265.44,146.9)\" d=\"M1,0A1,1 0 1,1 0,-1A1,1 0 0,1 1,0Z\" style=\"opacity: 1; stroke-width: 0px; fill: rgb(76, 114, 176); fill-opacity: 1;\"/><path class=\"point\" transform=\"translate(265.92,144.61)\" d=\"M1,0A1,1 0 1,1 0,-1A1,1 0 0,1 1,0Z\" style=\"opacity: 1; stroke-width: 0px; fill: rgb(76, 114, 176); fill-opacity: 1;\"/><path class=\"point\" transform=\"translate(266.4,163.9)\" d=\"M1,0A1,1 0 1,1 0,-1A1,1 0 0,1 1,0Z\" style=\"opacity: 1; stroke-width: 0px; fill: rgb(76, 114, 176); fill-opacity: 1;\"/><path class=\"point\" transform=\"translate(266.88,155.32)\" d=\"M1,0A1,1 0 1,1 0,-1A1,1 0 0,1 1,0Z\" style=\"opacity: 1; stroke-width: 0px; fill: rgb(76, 114, 176); fill-opacity: 1;\"/><path class=\"point\" transform=\"translate(267.36,177.04)\" d=\"M1,0A1,1 0 1,1 0,-1A1,1 0 0,1 1,0Z\" style=\"opacity: 1; stroke-width: 0px; fill: rgb(76, 114, 176); fill-opacity: 1;\"/><path class=\"point\" transform=\"translate(267.84,170.03)\" d=\"M1,0A1,1 0 1,1 0,-1A1,1 0 0,1 1,0Z\" style=\"opacity: 1; stroke-width: 0px; fill: rgb(76, 114, 176); fill-opacity: 1;\"/><path class=\"point\" transform=\"translate(268.32,148.03)\" d=\"M1,0A1,1 0 1,1 0,-1A1,1 0 0,1 1,0Z\" style=\"opacity: 1; stroke-width: 0px; fill: rgb(76, 114, 176); fill-opacity: 1;\"/><path class=\"point\" transform=\"translate(268.8,181.85)\" d=\"M1,0A1,1 0 1,1 0,-1A1,1 0 0,1 1,0Z\" style=\"opacity: 1; stroke-width: 0px; fill: rgb(76, 114, 176); fill-opacity: 1;\"/><path class=\"point\" transform=\"translate(269.28,169.84)\" d=\"M1,0A1,1 0 1,1 0,-1A1,1 0 0,1 1,0Z\" style=\"opacity: 1; stroke-width: 0px; fill: rgb(76, 114, 176); fill-opacity: 1;\"/><path class=\"point\" transform=\"translate(269.76,167.82)\" d=\"M1,0A1,1 0 1,1 0,-1A1,1 0 0,1 1,0Z\" style=\"opacity: 1; stroke-width: 0px; fill: rgb(76, 114, 176); fill-opacity: 1;\"/><path class=\"point\" transform=\"translate(270.24,144.25)\" d=\"M1,0A1,1 0 1,1 0,-1A1,1 0 0,1 1,0Z\" style=\"opacity: 1; stroke-width: 0px; fill: rgb(76, 114, 176); fill-opacity: 1;\"/><path class=\"point\" transform=\"translate(270.72,173.08)\" d=\"M1,0A1,1 0 1,1 0,-1A1,1 0 0,1 1,0Z\" style=\"opacity: 1; stroke-width: 0px; fill: rgb(76, 114, 176); fill-opacity: 1;\"/><path class=\"point\" transform=\"translate(271.2,153.86)\" d=\"M1,0A1,1 0 1,1 0,-1A1,1 0 0,1 1,0Z\" style=\"opacity: 1; stroke-width: 0px; fill: rgb(76, 114, 176); fill-opacity: 1;\"/><path class=\"point\" transform=\"translate(271.68,150.29)\" d=\"M1,0A1,1 0 1,1 0,-1A1,1 0 0,1 1,0Z\" style=\"opacity: 1; stroke-width: 0px; fill: rgb(76, 114, 176); fill-opacity: 1;\"/><path class=\"point\" transform=\"translate(272.16,178.92)\" d=\"M1,0A1,1 0 1,1 0,-1A1,1 0 0,1 1,0Z\" style=\"opacity: 1; stroke-width: 0px; fill: rgb(76, 114, 176); fill-opacity: 1;\"/><path class=\"point\" transform=\"translate(272.64,146.55)\" d=\"M1,0A1,1 0 1,1 0,-1A1,1 0 0,1 1,0Z\" style=\"opacity: 1; stroke-width: 0px; fill: rgb(76, 114, 176); fill-opacity: 1;\"/><path class=\"point\" transform=\"translate(273.12,156.95)\" d=\"M1,0A1,1 0 1,1 0,-1A1,1 0 0,1 1,0Z\" style=\"opacity: 1; stroke-width: 0px; fill: rgb(76, 114, 176); fill-opacity: 1;\"/><path class=\"point\" transform=\"translate(273.6,173.91)\" d=\"M1,0A1,1 0 1,1 0,-1A1,1 0 0,1 1,0Z\" style=\"opacity: 1; stroke-width: 0px; fill: rgb(76, 114, 176); fill-opacity: 1;\"/><path class=\"point\" transform=\"translate(274.08,172.09)\" d=\"M1,0A1,1 0 1,1 0,-1A1,1 0 0,1 1,0Z\" style=\"opacity: 1; stroke-width: 0px; fill: rgb(76, 114, 176); fill-opacity: 1;\"/><path class=\"point\" transform=\"translate(274.56,142.42)\" d=\"M1,0A1,1 0 1,1 0,-1A1,1 0 0,1 1,0Z\" style=\"opacity: 1; stroke-width: 0px; fill: rgb(76, 114, 176); fill-opacity: 1;\"/><path class=\"point\" transform=\"translate(275.05,152)\" d=\"M1,0A1,1 0 1,1 0,-1A1,1 0 0,1 1,0Z\" style=\"opacity: 1; stroke-width: 0px; fill: rgb(76, 114, 176); fill-opacity: 1;\"/><path class=\"point\" transform=\"translate(275.53,159.45)\" d=\"M1,0A1,1 0 1,1 0,-1A1,1 0 0,1 1,0Z\" style=\"opacity: 1; stroke-width: 0px; fill: rgb(76, 114, 176); fill-opacity: 1;\"/><path class=\"point\" transform=\"translate(276.01,176.73)\" d=\"M1,0A1,1 0 1,1 0,-1A1,1 0 0,1 1,0Z\" style=\"opacity: 1; stroke-width: 0px; fill: rgb(76, 114, 176); fill-opacity: 1;\"/><path class=\"point\" transform=\"translate(276.49,139.8)\" d=\"M1,0A1,1 0 1,1 0,-1A1,1 0 0,1 1,0Z\" style=\"opacity: 1; stroke-width: 0px; fill: rgb(76, 114, 176); fill-opacity: 1;\"/><path class=\"point\" transform=\"translate(276.97,161.29)\" d=\"M1,0A1,1 0 1,1 0,-1A1,1 0 0,1 1,0Z\" style=\"opacity: 1; stroke-width: 0px; fill: rgb(76, 114, 176); fill-opacity: 1;\"/><path class=\"point\" transform=\"translate(277.45,178.19)\" d=\"M1,0A1,1 0 1,1 0,-1A1,1 0 0,1 1,0Z\" style=\"opacity: 1; stroke-width: 0px; fill: rgb(76, 114, 176); fill-opacity: 1;\"/><path class=\"point\" transform=\"translate(277.93,177.25)\" d=\"M1,0A1,1 0 1,1 0,-1A1,1 0 0,1 1,0Z\" style=\"opacity: 1; stroke-width: 0px; fill: rgb(76, 114, 176); fill-opacity: 1;\"/><path class=\"point\" transform=\"translate(278.41,152.4)\" d=\"M1,0A1,1 0 1,1 0,-1A1,1 0 0,1 1,0Z\" style=\"opacity: 1; stroke-width: 0px; fill: rgb(76, 114, 176); fill-opacity: 1;\"/><path class=\"point\" transform=\"translate(278.89,141.67)\" d=\"M1,0A1,1 0 1,1 0,-1A1,1 0 0,1 1,0Z\" style=\"opacity: 1; stroke-width: 0px; fill: rgb(76, 114, 176); fill-opacity: 1;\"/><path class=\"point\" transform=\"translate(279.37,142.06)\" d=\"M1,0A1,1 0 1,1 0,-1A1,1 0 0,1 1,0Z\" style=\"opacity: 1; stroke-width: 0px; fill: rgb(76, 114, 176); fill-opacity: 1;\"/><path class=\"point\" transform=\"translate(279.85,150.95)\" d=\"M1,0A1,1 0 1,1 0,-1A1,1 0 0,1 1,0Z\" style=\"opacity: 1; stroke-width: 0px; fill: rgb(76, 114, 176); fill-opacity: 1;\"/><path class=\"point\" transform=\"translate(280.33,141.94)\" d=\"M1,0A1,1 0 1,1 0,-1A1,1 0 0,1 1,0Z\" style=\"opacity: 1; stroke-width: 0px; fill: rgb(76, 114, 176); fill-opacity: 1;\"/><path class=\"point\" transform=\"translate(280.81,148.55)\" d=\"M1,0A1,1 0 1,1 0,-1A1,1 0 0,1 1,0Z\" style=\"opacity: 1; stroke-width: 0px; fill: rgb(76, 114, 176); fill-opacity: 1;\"/><path class=\"point\" transform=\"translate(281.29,157.89)\" d=\"M1,0A1,1 0 1,1 0,-1A1,1 0 0,1 1,0Z\" style=\"opacity: 1; stroke-width: 0px; fill: rgb(76, 114, 176); fill-opacity: 1;\"/><path class=\"point\" transform=\"translate(281.77,145.43)\" d=\"M1,0A1,1 0 1,1 0,-1A1,1 0 0,1 1,0Z\" style=\"opacity: 1; stroke-width: 0px; fill: rgb(76, 114, 176); fill-opacity: 1;\"/><path class=\"point\" transform=\"translate(282.25,139.06)\" d=\"M1,0A1,1 0 1,1 0,-1A1,1 0 0,1 1,0Z\" style=\"opacity: 1; stroke-width: 0px; fill: rgb(76, 114, 176); fill-opacity: 1;\"/><path class=\"point\" transform=\"translate(282.73,136.29)\" d=\"M1,0A1,1 0 1,1 0,-1A1,1 0 0,1 1,0Z\" style=\"opacity: 1; stroke-width: 0px; fill: rgb(76, 114, 176); fill-opacity: 1;\"/><path class=\"point\" transform=\"translate(283.21,151.5)\" d=\"M1,0A1,1 0 1,1 0,-1A1,1 0 0,1 1,0Z\" style=\"opacity: 1; stroke-width: 0px; fill: rgb(76, 114, 176); fill-opacity: 1;\"/><path class=\"point\" transform=\"translate(283.69,155.52)\" d=\"M1,0A1,1 0 1,1 0,-1A1,1 0 0,1 1,0Z\" style=\"opacity: 1; stroke-width: 0px; fill: rgb(76, 114, 176); fill-opacity: 1;\"/><path class=\"point\" transform=\"translate(284.17,148.9)\" d=\"M1,0A1,1 0 1,1 0,-1A1,1 0 0,1 1,0Z\" style=\"opacity: 1; stroke-width: 0px; fill: rgb(76, 114, 176); fill-opacity: 1;\"/><path class=\"point\" transform=\"translate(284.65,151.56)\" d=\"M1,0A1,1 0 1,1 0,-1A1,1 0 0,1 1,0Z\" style=\"opacity: 1; stroke-width: 0px; fill: rgb(76, 114, 176); fill-opacity: 1;\"/><path class=\"point\" transform=\"translate(285.14,161.91)\" d=\"M1,0A1,1 0 1,1 0,-1A1,1 0 0,1 1,0Z\" style=\"opacity: 1; stroke-width: 0px; fill: rgb(76, 114, 176); fill-opacity: 1;\"/><path class=\"point\" transform=\"translate(285.62,135.94)\" d=\"M1,0A1,1 0 1,1 0,-1A1,1 0 0,1 1,0Z\" style=\"opacity: 1; stroke-width: 0px; fill: rgb(76, 114, 176); fill-opacity: 1;\"/><path class=\"point\" transform=\"translate(286.1,136.36)\" d=\"M1,0A1,1 0 1,1 0,-1A1,1 0 0,1 1,0Z\" style=\"opacity: 1; stroke-width: 0px; fill: rgb(76, 114, 176); fill-opacity: 1;\"/><path class=\"point\" transform=\"translate(286.58,139.17)\" d=\"M1,0A1,1 0 1,1 0,-1A1,1 0 0,1 1,0Z\" style=\"opacity: 1; stroke-width: 0px; fill: rgb(76, 114, 176); fill-opacity: 1;\"/><path class=\"point\" transform=\"translate(287.06,154.35)\" d=\"M1,0A1,1 0 1,1 0,-1A1,1 0 0,1 1,0Z\" style=\"opacity: 1; stroke-width: 0px; fill: rgb(76, 114, 176); fill-opacity: 1;\"/><path class=\"point\" transform=\"translate(287.54,132.03)\" d=\"M1,0A1,1 0 1,1 0,-1A1,1 0 0,1 1,0Z\" style=\"opacity: 1; stroke-width: 0px; fill: rgb(76, 114, 176); fill-opacity: 1;\"/><path class=\"point\" transform=\"translate(288.02,135.46)\" d=\"M1,0A1,1 0 1,1 0,-1A1,1 0 0,1 1,0Z\" style=\"opacity: 1; stroke-width: 0px; fill: rgb(76, 114, 176); fill-opacity: 1;\"/><path class=\"point\" transform=\"translate(288.5,150.68)\" d=\"M1,0A1,1 0 1,1 0,-1A1,1 0 0,1 1,0Z\" style=\"opacity: 1; stroke-width: 0px; fill: rgb(76, 114, 176); fill-opacity: 1;\"/><path class=\"point\" transform=\"translate(288.98,167.74)\" d=\"M1,0A1,1 0 1,1 0,-1A1,1 0 0,1 1,0Z\" style=\"opacity: 1; stroke-width: 0px; fill: rgb(76, 114, 176); fill-opacity: 1;\"/><path class=\"point\" transform=\"translate(289.46,169.93)\" d=\"M1,0A1,1 0 1,1 0,-1A1,1 0 0,1 1,0Z\" style=\"opacity: 1; stroke-width: 0px; fill: rgb(76, 114, 176); fill-opacity: 1;\"/><path class=\"point\" transform=\"translate(289.94,143.85)\" d=\"M1,0A1,1 0 1,1 0,-1A1,1 0 0,1 1,0Z\" style=\"opacity: 1; stroke-width: 0px; fill: rgb(76, 114, 176); fill-opacity: 1;\"/><path class=\"point\" transform=\"translate(290.42,142.77)\" d=\"M1,0A1,1 0 1,1 0,-1A1,1 0 0,1 1,0Z\" style=\"opacity: 1; stroke-width: 0px; fill: rgb(76, 114, 176); fill-opacity: 1;\"/><path class=\"point\" transform=\"translate(290.9,158.93)\" d=\"M1,0A1,1 0 1,1 0,-1A1,1 0 0,1 1,0Z\" style=\"opacity: 1; stroke-width: 0px; fill: rgb(76, 114, 176); fill-opacity: 1;\"/><path class=\"point\" transform=\"translate(291.38,159.51)\" d=\"M1,0A1,1 0 1,1 0,-1A1,1 0 0,1 1,0Z\" style=\"opacity: 1; stroke-width: 0px; fill: rgb(76, 114, 176); fill-opacity: 1;\"/><path class=\"point\" transform=\"translate(291.86,164.12)\" d=\"M1,0A1,1 0 1,1 0,-1A1,1 0 0,1 1,0Z\" style=\"opacity: 1; stroke-width: 0px; fill: rgb(76, 114, 176); fill-opacity: 1;\"/><path class=\"point\" transform=\"translate(292.34,145.12)\" d=\"M1,0A1,1 0 1,1 0,-1A1,1 0 0,1 1,0Z\" style=\"opacity: 1; stroke-width: 0px; fill: rgb(76, 114, 176); fill-opacity: 1;\"/><path class=\"point\" transform=\"translate(292.82,137.05)\" d=\"M1,0A1,1 0 1,1 0,-1A1,1 0 0,1 1,0Z\" style=\"opacity: 1; stroke-width: 0px; fill: rgb(76, 114, 176); fill-opacity: 1;\"/><path class=\"point\" transform=\"translate(293.3,166.9)\" d=\"M1,0A1,1 0 1,1 0,-1A1,1 0 0,1 1,0Z\" style=\"opacity: 1; stroke-width: 0px; fill: rgb(76, 114, 176); fill-opacity: 1;\"/><path class=\"point\" transform=\"translate(293.78,138.84)\" d=\"M1,0A1,1 0 1,1 0,-1A1,1 0 0,1 1,0Z\" style=\"opacity: 1; stroke-width: 0px; fill: rgb(76, 114, 176); fill-opacity: 1;\"/><path class=\"point\" transform=\"translate(294.26,134)\" d=\"M1,0A1,1 0 1,1 0,-1A1,1 0 0,1 1,0Z\" style=\"opacity: 1; stroke-width: 0px; fill: rgb(76, 114, 176); fill-opacity: 1;\"/><path class=\"point\" transform=\"translate(294.74,129.49)\" d=\"M1,0A1,1 0 1,1 0,-1A1,1 0 0,1 1,0Z\" style=\"opacity: 1; stroke-width: 0px; fill: rgb(76, 114, 176); fill-opacity: 1;\"/><path class=\"point\" transform=\"translate(295.23,165.92)\" d=\"M1,0A1,1 0 1,1 0,-1A1,1 0 0,1 1,0Z\" style=\"opacity: 1; stroke-width: 0px; fill: rgb(76, 114, 176); fill-opacity: 1;\"/><path class=\"point\" transform=\"translate(295.71,131.3)\" d=\"M1,0A1,1 0 1,1 0,-1A1,1 0 0,1 1,0Z\" style=\"opacity: 1; stroke-width: 0px; fill: rgb(76, 114, 176); fill-opacity: 1;\"/><path class=\"point\" transform=\"translate(296.19,133.44)\" d=\"M1,0A1,1 0 1,1 0,-1A1,1 0 0,1 1,0Z\" style=\"opacity: 1; stroke-width: 0px; fill: rgb(76, 114, 176); fill-opacity: 1;\"/><path class=\"point\" transform=\"translate(296.67,137.02)\" d=\"M1,0A1,1 0 1,1 0,-1A1,1 0 0,1 1,0Z\" style=\"opacity: 1; stroke-width: 0px; fill: rgb(76, 114, 176); fill-opacity: 1;\"/><path class=\"point\" transform=\"translate(297.15,164.09)\" d=\"M1,0A1,1 0 1,1 0,-1A1,1 0 0,1 1,0Z\" style=\"opacity: 1; stroke-width: 0px; fill: rgb(76, 114, 176); fill-opacity: 1;\"/><path class=\"point\" transform=\"translate(297.63,159.26)\" d=\"M1,0A1,1 0 1,1 0,-1A1,1 0 0,1 1,0Z\" style=\"opacity: 1; stroke-width: 0px; fill: rgb(76, 114, 176); fill-opacity: 1;\"/><path class=\"point\" transform=\"translate(298.11,161.14)\" d=\"M1,0A1,1 0 1,1 0,-1A1,1 0 0,1 1,0Z\" style=\"opacity: 1; stroke-width: 0px; fill: rgb(76, 114, 176); fill-opacity: 1;\"/><path class=\"point\" transform=\"translate(298.59,159.84)\" d=\"M1,0A1,1 0 1,1 0,-1A1,1 0 0,1 1,0Z\" style=\"opacity: 1; stroke-width: 0px; fill: rgb(76, 114, 176); fill-opacity: 1;\"/><path class=\"point\" transform=\"translate(299.07,137.38)\" d=\"M1,0A1,1 0 1,1 0,-1A1,1 0 0,1 1,0Z\" style=\"opacity: 1; stroke-width: 0px; fill: rgb(76, 114, 176); fill-opacity: 1;\"/><path class=\"point\" transform=\"translate(299.55,138.5)\" d=\"M1,0A1,1 0 1,1 0,-1A1,1 0 0,1 1,0Z\" style=\"opacity: 1; stroke-width: 0px; fill: rgb(76, 114, 176); fill-opacity: 1;\"/><path class=\"point\" transform=\"translate(300.03,165.58)\" d=\"M1,0A1,1 0 1,1 0,-1A1,1 0 0,1 1,0Z\" style=\"opacity: 1; stroke-width: 0px; fill: rgb(76, 114, 176); fill-opacity: 1;\"/><path class=\"point\" transform=\"translate(300.51,140.02)\" d=\"M1,0A1,1 0 1,1 0,-1A1,1 0 0,1 1,0Z\" style=\"opacity: 1; stroke-width: 0px; fill: rgb(76, 114, 176); fill-opacity: 1;\"/><path class=\"point\" transform=\"translate(300.99,130.37)\" d=\"M1,0A1,1 0 1,1 0,-1A1,1 0 0,1 1,0Z\" style=\"opacity: 1; stroke-width: 0px; fill: rgb(76, 114, 176); fill-opacity: 1;\"/><path class=\"point\" transform=\"translate(301.47,124.55)\" d=\"M1,0A1,1 0 1,1 0,-1A1,1 0 0,1 1,0Z\" style=\"opacity: 1; stroke-width: 0px; fill: rgb(76, 114, 176); fill-opacity: 1;\"/><path class=\"point\" transform=\"translate(301.95,133.71)\" d=\"M1,0A1,1 0 1,1 0,-1A1,1 0 0,1 1,0Z\" style=\"opacity: 1; stroke-width: 0px; fill: rgb(76, 114, 176); fill-opacity: 1;\"/><path class=\"point\" transform=\"translate(302.43,162.66)\" d=\"M1,0A1,1 0 1,1 0,-1A1,1 0 0,1 1,0Z\" style=\"opacity: 1; stroke-width: 0px; fill: rgb(76, 114, 176); fill-opacity: 1;\"/><path class=\"point\" transform=\"translate(302.91,136.98)\" d=\"M1,0A1,1 0 1,1 0,-1A1,1 0 0,1 1,0Z\" style=\"opacity: 1; stroke-width: 0px; fill: rgb(76, 114, 176); fill-opacity: 1;\"/><path class=\"point\" transform=\"translate(303.39,148.92)\" d=\"M1,0A1,1 0 1,1 0,-1A1,1 0 0,1 1,0Z\" style=\"opacity: 1; stroke-width: 0px; fill: rgb(76, 114, 176); fill-opacity: 1;\"/><path class=\"point\" transform=\"translate(303.87,125.75)\" d=\"M1,0A1,1 0 1,1 0,-1A1,1 0 0,1 1,0Z\" style=\"opacity: 1; stroke-width: 0px; fill: rgb(76, 114, 176); fill-opacity: 1;\"/><path class=\"point\" transform=\"translate(304.35,157.43)\" d=\"M1,0A1,1 0 1,1 0,-1A1,1 0 0,1 1,0Z\" style=\"opacity: 1; stroke-width: 0px; fill: rgb(76, 114, 176); fill-opacity: 1;\"/><path class=\"point\" transform=\"translate(304.83,146.68)\" d=\"M1,0A1,1 0 1,1 0,-1A1,1 0 0,1 1,0Z\" style=\"opacity: 1; stroke-width: 0px; fill: rgb(76, 114, 176); fill-opacity: 1;\"/><path class=\"point\" transform=\"translate(305.32,140.14)\" d=\"M1,0A1,1 0 1,1 0,-1A1,1 0 0,1 1,0Z\" style=\"opacity: 1; stroke-width: 0px; fill: rgb(76, 114, 176); fill-opacity: 1;\"/><path class=\"point\" transform=\"translate(305.8,153.51)\" d=\"M1,0A1,1 0 1,1 0,-1A1,1 0 0,1 1,0Z\" style=\"opacity: 1; stroke-width: 0px; fill: rgb(76, 114, 176); fill-opacity: 1;\"/><path class=\"point\" transform=\"translate(306.28,141.72)\" d=\"M1,0A1,1 0 1,1 0,-1A1,1 0 0,1 1,0Z\" style=\"opacity: 1; stroke-width: 0px; fill: rgb(76, 114, 176); fill-opacity: 1;\"/><path class=\"point\" transform=\"translate(306.76,154.54)\" d=\"M1,0A1,1 0 1,1 0,-1A1,1 0 0,1 1,0Z\" style=\"opacity: 1; stroke-width: 0px; fill: rgb(76, 114, 176); fill-opacity: 1;\"/><path class=\"point\" transform=\"translate(307.24,134.21)\" d=\"M1,0A1,1 0 1,1 0,-1A1,1 0 0,1 1,0Z\" style=\"opacity: 1; stroke-width: 0px; fill: rgb(76, 114, 176); fill-opacity: 1;\"/><path class=\"point\" transform=\"translate(307.72,145.15)\" d=\"M1,0A1,1 0 1,1 0,-1A1,1 0 0,1 1,0Z\" style=\"opacity: 1; stroke-width: 0px; fill: rgb(76, 114, 176); fill-opacity: 1;\"/><path class=\"point\" transform=\"translate(308.2,156.54)\" d=\"M1,0A1,1 0 1,1 0,-1A1,1 0 0,1 1,0Z\" style=\"opacity: 1; stroke-width: 0px; fill: rgb(76, 114, 176); fill-opacity: 1;\"/><path class=\"point\" transform=\"translate(308.68,152.28)\" d=\"M1,0A1,1 0 1,1 0,-1A1,1 0 0,1 1,0Z\" style=\"opacity: 1; stroke-width: 0px; fill: rgb(76, 114, 176); fill-opacity: 1;\"/><path class=\"point\" transform=\"translate(309.16,158.49)\" d=\"M1,0A1,1 0 1,1 0,-1A1,1 0 0,1 1,0Z\" style=\"opacity: 1; stroke-width: 0px; fill: rgb(76, 114, 176); fill-opacity: 1;\"/><path class=\"point\" transform=\"translate(309.64,140.67)\" d=\"M1,0A1,1 0 1,1 0,-1A1,1 0 0,1 1,0Z\" style=\"opacity: 1; stroke-width: 0px; fill: rgb(76, 114, 176); fill-opacity: 1;\"/><path class=\"point\" transform=\"translate(310.12,154.99)\" d=\"M1,0A1,1 0 1,1 0,-1A1,1 0 0,1 1,0Z\" style=\"opacity: 1; stroke-width: 0px; fill: rgb(76, 114, 176); fill-opacity: 1;\"/><path class=\"point\" transform=\"translate(310.6,149.05)\" d=\"M1,0A1,1 0 1,1 0,-1A1,1 0 0,1 1,0Z\" style=\"opacity: 1; stroke-width: 0px; fill: rgb(76, 114, 176); fill-opacity: 1;\"/><path class=\"point\" transform=\"translate(311.08,137.42)\" d=\"M1,0A1,1 0 1,1 0,-1A1,1 0 0,1 1,0Z\" style=\"opacity: 1; stroke-width: 0px; fill: rgb(76, 114, 176); fill-opacity: 1;\"/><path class=\"point\" transform=\"translate(311.56,151.9)\" d=\"M1,0A1,1 0 1,1 0,-1A1,1 0 0,1 1,0Z\" style=\"opacity: 1; stroke-width: 0px; fill: rgb(76, 114, 176); fill-opacity: 1;\"/><path class=\"point\" transform=\"translate(312.04,120.42)\" d=\"M1,0A1,1 0 1,1 0,-1A1,1 0 0,1 1,0Z\" style=\"opacity: 1; stroke-width: 0px; fill: rgb(76, 114, 176); fill-opacity: 1;\"/><path class=\"point\" transform=\"translate(312.52,131.7)\" d=\"M1,0A1,1 0 1,1 0,-1A1,1 0 0,1 1,0Z\" style=\"opacity: 1; stroke-width: 0px; fill: rgb(76, 114, 176); fill-opacity: 1;\"/><path class=\"point\" transform=\"translate(313,145.32)\" d=\"M1,0A1,1 0 1,1 0,-1A1,1 0 0,1 1,0Z\" style=\"opacity: 1; stroke-width: 0px; fill: rgb(76, 114, 176); fill-opacity: 1;\"/><path class=\"point\" transform=\"translate(313.48,132.75)\" d=\"M1,0A1,1 0 1,1 0,-1A1,1 0 0,1 1,0Z\" style=\"opacity: 1; stroke-width: 0px; fill: rgb(76, 114, 176); fill-opacity: 1;\"/><path class=\"point\" transform=\"translate(313.96,126.01)\" d=\"M1,0A1,1 0 1,1 0,-1A1,1 0 0,1 1,0Z\" style=\"opacity: 1; stroke-width: 0px; fill: rgb(76, 114, 176); fill-opacity: 1;\"/><path class=\"point\" transform=\"translate(314.44,126.72)\" d=\"M1,0A1,1 0 1,1 0,-1A1,1 0 0,1 1,0Z\" style=\"opacity: 1; stroke-width: 0px; fill: rgb(76, 114, 176); fill-opacity: 1;\"/><path class=\"point\" transform=\"translate(314.92,141.29)\" d=\"M1,0A1,1 0 1,1 0,-1A1,1 0 0,1 1,0Z\" style=\"opacity: 1; stroke-width: 0px; fill: rgb(76, 114, 176); fill-opacity: 1;\"/><path class=\"point\" transform=\"translate(315.41,155.04)\" d=\"M1,0A1,1 0 1,1 0,-1A1,1 0 0,1 1,0Z\" style=\"opacity: 1; stroke-width: 0px; fill: rgb(76, 114, 176); fill-opacity: 1;\"/><path class=\"point\" transform=\"translate(315.89,145.39)\" d=\"M1,0A1,1 0 1,1 0,-1A1,1 0 0,1 1,0Z\" style=\"opacity: 1; stroke-width: 0px; fill: rgb(76, 114, 176); fill-opacity: 1;\"/><path class=\"point\" transform=\"translate(316.37,129.66)\" d=\"M1,0A1,1 0 1,1 0,-1A1,1 0 0,1 1,0Z\" style=\"opacity: 1; stroke-width: 0px; fill: rgb(76, 114, 176); fill-opacity: 1;\"/><path class=\"point\" transform=\"translate(316.85,137.15)\" d=\"M1,0A1,1 0 1,1 0,-1A1,1 0 0,1 1,0Z\" style=\"opacity: 1; stroke-width: 0px; fill: rgb(76, 114, 176); fill-opacity: 1;\"/><path class=\"point\" transform=\"translate(317.33,131.26)\" d=\"M1,0A1,1 0 1,1 0,-1A1,1 0 0,1 1,0Z\" style=\"opacity: 1; stroke-width: 0px; fill: rgb(76, 114, 176); fill-opacity: 1;\"/><path class=\"point\" transform=\"translate(317.81,146.11)\" d=\"M1,0A1,1 0 1,1 0,-1A1,1 0 0,1 1,0Z\" style=\"opacity: 1; stroke-width: 0px; fill: rgb(76, 114, 176); fill-opacity: 1;\"/><path class=\"point\" transform=\"translate(318.29,128.98)\" d=\"M1,0A1,1 0 1,1 0,-1A1,1 0 0,1 1,0Z\" style=\"opacity: 1; stroke-width: 0px; fill: rgb(76, 114, 176); fill-opacity: 1;\"/><path class=\"point\" transform=\"translate(318.77,141.09)\" d=\"M1,0A1,1 0 1,1 0,-1A1,1 0 0,1 1,0Z\" style=\"opacity: 1; stroke-width: 0px; fill: rgb(76, 114, 176); fill-opacity: 1;\"/><path class=\"point\" transform=\"translate(319.25,115.42)\" d=\"M1,0A1,1 0 1,1 0,-1A1,1 0 0,1 1,0Z\" style=\"opacity: 1; stroke-width: 0px; fill: rgb(76, 114, 176); fill-opacity: 1;\"/><path class=\"point\" transform=\"translate(319.73,132.99)\" d=\"M1,0A1,1 0 1,1 0,-1A1,1 0 0,1 1,0Z\" style=\"opacity: 1; stroke-width: 0px; fill: rgb(76, 114, 176); fill-opacity: 1;\"/><path class=\"point\" transform=\"translate(320.21,116.44)\" d=\"M1,0A1,1 0 1,1 0,-1A1,1 0 0,1 1,0Z\" style=\"opacity: 1; stroke-width: 0px; fill: rgb(76, 114, 176); fill-opacity: 1;\"/><path class=\"point\" transform=\"translate(320.69,152.77)\" d=\"M1,0A1,1 0 1,1 0,-1A1,1 0 0,1 1,0Z\" style=\"opacity: 1; stroke-width: 0px; fill: rgb(76, 114, 176); fill-opacity: 1;\"/><path class=\"point\" transform=\"translate(321.17,134.55)\" d=\"M1,0A1,1 0 1,1 0,-1A1,1 0 0,1 1,0Z\" style=\"opacity: 1; stroke-width: 0px; fill: rgb(76, 114, 176); fill-opacity: 1;\"/><path class=\"point\" transform=\"translate(321.65,118.4)\" d=\"M1,0A1,1 0 1,1 0,-1A1,1 0 0,1 1,0Z\" style=\"opacity: 1; stroke-width: 0px; fill: rgb(76, 114, 176); fill-opacity: 1;\"/><path class=\"point\" transform=\"translate(322.13,153.39)\" d=\"M1,0A1,1 0 1,1 0,-1A1,1 0 0,1 1,0Z\" style=\"opacity: 1; stroke-width: 0px; fill: rgb(76, 114, 176); fill-opacity: 1;\"/><path class=\"point\" transform=\"translate(322.61,154.54)\" d=\"M1,0A1,1 0 1,1 0,-1A1,1 0 0,1 1,0Z\" style=\"opacity: 1; stroke-width: 0px; fill: rgb(76, 114, 176); fill-opacity: 1;\"/><path class=\"point\" transform=\"translate(323.09,142.9)\" d=\"M1,0A1,1 0 1,1 0,-1A1,1 0 0,1 1,0Z\" style=\"opacity: 1; stroke-width: 0px; fill: rgb(76, 114, 176); fill-opacity: 1;\"/><path class=\"point\" transform=\"translate(323.57,150.99)\" d=\"M1,0A1,1 0 1,1 0,-1A1,1 0 0,1 1,0Z\" style=\"opacity: 1; stroke-width: 0px; fill: rgb(76, 114, 176); fill-opacity: 1;\"/><path class=\"point\" transform=\"translate(324.05,120.97)\" d=\"M1,0A1,1 0 1,1 0,-1A1,1 0 0,1 1,0Z\" style=\"opacity: 1; stroke-width: 0px; fill: rgb(76, 114, 176); fill-opacity: 1;\"/><path class=\"point\" transform=\"translate(324.53,148.48)\" d=\"M1,0A1,1 0 1,1 0,-1A1,1 0 0,1 1,0Z\" style=\"opacity: 1; stroke-width: 0px; fill: rgb(76, 114, 176); fill-opacity: 1;\"/><path class=\"point\" transform=\"translate(325.02,126.83)\" d=\"M1,0A1,1 0 1,1 0,-1A1,1 0 0,1 1,0Z\" style=\"opacity: 1; stroke-width: 0px; fill: rgb(76, 114, 176); fill-opacity: 1;\"/><path class=\"point\" transform=\"translate(325.5,126.82)\" d=\"M1,0A1,1 0 1,1 0,-1A1,1 0 0,1 1,0Z\" style=\"opacity: 1; stroke-width: 0px; fill: rgb(76, 114, 176); fill-opacity: 1;\"/><path class=\"point\" transform=\"translate(325.98,152.17)\" d=\"M1,0A1,1 0 1,1 0,-1A1,1 0 0,1 1,0Z\" style=\"opacity: 1; stroke-width: 0px; fill: rgb(76, 114, 176); fill-opacity: 1;\"/><path class=\"point\" transform=\"translate(326.46,114.19)\" d=\"M1,0A1,1 0 1,1 0,-1A1,1 0 0,1 1,0Z\" style=\"opacity: 1; stroke-width: 0px; fill: rgb(76, 114, 176); fill-opacity: 1;\"/><path class=\"point\" transform=\"translate(326.94,114.43)\" d=\"M1,0A1,1 0 1,1 0,-1A1,1 0 0,1 1,0Z\" style=\"opacity: 1; stroke-width: 0px; fill: rgb(76, 114, 176); fill-opacity: 1;\"/><path class=\"point\" transform=\"translate(327.42,116.61)\" d=\"M1,0A1,1 0 1,1 0,-1A1,1 0 0,1 1,0Z\" style=\"opacity: 1; stroke-width: 0px; fill: rgb(76, 114, 176); fill-opacity: 1;\"/><path class=\"point\" transform=\"translate(327.9,117.22)\" d=\"M1,0A1,1 0 1,1 0,-1A1,1 0 0,1 1,0Z\" style=\"opacity: 1; stroke-width: 0px; fill: rgb(76, 114, 176); fill-opacity: 1;\"/><path class=\"point\" transform=\"translate(328.38,123.87)\" d=\"M1,0A1,1 0 1,1 0,-1A1,1 0 0,1 1,0Z\" style=\"opacity: 1; stroke-width: 0px; fill: rgb(76, 114, 176); fill-opacity: 1;\"/><path class=\"point\" transform=\"translate(328.86,146.26)\" d=\"M1,0A1,1 0 1,1 0,-1A1,1 0 0,1 1,0Z\" style=\"opacity: 1; stroke-width: 0px; fill: rgb(76, 114, 176); fill-opacity: 1;\"/><path class=\"point\" transform=\"translate(329.34,117.57)\" d=\"M1,0A1,1 0 1,1 0,-1A1,1 0 0,1 1,0Z\" style=\"opacity: 1; stroke-width: 0px; fill: rgb(76, 114, 176); fill-opacity: 1;\"/><path class=\"point\" transform=\"translate(329.82,123.06)\" d=\"M1,0A1,1 0 1,1 0,-1A1,1 0 0,1 1,0Z\" style=\"opacity: 1; stroke-width: 0px; fill: rgb(76, 114, 176); fill-opacity: 1;\"/><path class=\"point\" transform=\"translate(330.3,126.74)\" d=\"M1,0A1,1 0 1,1 0,-1A1,1 0 0,1 1,0Z\" style=\"opacity: 1; stroke-width: 0px; fill: rgb(76, 114, 176); fill-opacity: 1;\"/><path class=\"point\" transform=\"translate(330.78,138.93)\" d=\"M1,0A1,1 0 1,1 0,-1A1,1 0 0,1 1,0Z\" style=\"opacity: 1; stroke-width: 0px; fill: rgb(76, 114, 176); fill-opacity: 1;\"/><path class=\"point\" transform=\"translate(331.26,112.72)\" d=\"M1,0A1,1 0 1,1 0,-1A1,1 0 0,1 1,0Z\" style=\"opacity: 1; stroke-width: 0px; fill: rgb(76, 114, 176); fill-opacity: 1;\"/><path class=\"point\" transform=\"translate(331.74,123.08)\" d=\"M1,0A1,1 0 1,1 0,-1A1,1 0 0,1 1,0Z\" style=\"opacity: 1; stroke-width: 0px; fill: rgb(76, 114, 176); fill-opacity: 1;\"/><path class=\"point\" transform=\"translate(332.22,136.88)\" d=\"M1,0A1,1 0 1,1 0,-1A1,1 0 0,1 1,0Z\" style=\"opacity: 1; stroke-width: 0px; fill: rgb(76, 114, 176); fill-opacity: 1;\"/><path class=\"point\" transform=\"translate(332.7,116.09)\" d=\"M1,0A1,1 0 1,1 0,-1A1,1 0 0,1 1,0Z\" style=\"opacity: 1; stroke-width: 0px; fill: rgb(76, 114, 176); fill-opacity: 1;\"/><path class=\"point\" transform=\"translate(333.18,120.94)\" d=\"M1,0A1,1 0 1,1 0,-1A1,1 0 0,1 1,0Z\" style=\"opacity: 1; stroke-width: 0px; fill: rgb(76, 114, 176); fill-opacity: 1;\"/><path class=\"point\" transform=\"translate(333.66,139.1)\" d=\"M1,0A1,1 0 1,1 0,-1A1,1 0 0,1 1,0Z\" style=\"opacity: 1; stroke-width: 0px; fill: rgb(76, 114, 176); fill-opacity: 1;\"/><path class=\"point\" transform=\"translate(334.14,137.51)\" d=\"M1,0A1,1 0 1,1 0,-1A1,1 0 0,1 1,0Z\" style=\"opacity: 1; stroke-width: 0px; fill: rgb(76, 114, 176); fill-opacity: 1;\"/><path class=\"point\" transform=\"translate(334.62,125.18)\" d=\"M1,0A1,1 0 1,1 0,-1A1,1 0 0,1 1,0Z\" style=\"opacity: 1; stroke-width: 0px; fill: rgb(76, 114, 176); fill-opacity: 1;\"/><path class=\"point\" transform=\"translate(335.11,123.42)\" d=\"M1,0A1,1 0 1,1 0,-1A1,1 0 0,1 1,0Z\" style=\"opacity: 1; stroke-width: 0px; fill: rgb(76, 114, 176); fill-opacity: 1;\"/><path class=\"point\" transform=\"translate(335.59,137.74)\" d=\"M1,0A1,1 0 1,1 0,-1A1,1 0 0,1 1,0Z\" style=\"opacity: 1; stroke-width: 0px; fill: rgb(76, 114, 176); fill-opacity: 1;\"/><path class=\"point\" transform=\"translate(336.07,140.38)\" d=\"M1,0A1,1 0 1,1 0,-1A1,1 0 0,1 1,0Z\" style=\"opacity: 1; stroke-width: 0px; fill: rgb(76, 114, 176); fill-opacity: 1;\"/><path class=\"point\" transform=\"translate(336.55,138.18)\" d=\"M1,0A1,1 0 1,1 0,-1A1,1 0 0,1 1,0Z\" style=\"opacity: 1; stroke-width: 0px; fill: rgb(76, 114, 176); fill-opacity: 1;\"/><path class=\"point\" transform=\"translate(337.03,126.13)\" d=\"M1,0A1,1 0 1,1 0,-1A1,1 0 0,1 1,0Z\" style=\"opacity: 1; stroke-width: 0px; fill: rgb(76, 114, 176); fill-opacity: 1;\"/><path class=\"point\" transform=\"translate(337.51,138.64)\" d=\"M1,0A1,1 0 1,1 0,-1A1,1 0 0,1 1,0Z\" style=\"opacity: 1; stroke-width: 0px; fill: rgb(76, 114, 176); fill-opacity: 1;\"/><path class=\"point\" transform=\"translate(337.99,128.46)\" d=\"M1,0A1,1 0 1,1 0,-1A1,1 0 0,1 1,0Z\" style=\"opacity: 1; stroke-width: 0px; fill: rgb(76, 114, 176); fill-opacity: 1;\"/><path class=\"point\" transform=\"translate(338.47,131.39)\" d=\"M1,0A1,1 0 1,1 0,-1A1,1 0 0,1 1,0Z\" style=\"opacity: 1; stroke-width: 0px; fill: rgb(76, 114, 176); fill-opacity: 1;\"/><path class=\"point\" transform=\"translate(338.95,119.7)\" d=\"M1,0A1,1 0 1,1 0,-1A1,1 0 0,1 1,0Z\" style=\"opacity: 1; stroke-width: 0px; fill: rgb(76, 114, 176); fill-opacity: 1;\"/><path class=\"point\" transform=\"translate(339.43,104.91)\" d=\"M1,0A1,1 0 1,1 0,-1A1,1 0 0,1 1,0Z\" style=\"opacity: 1; stroke-width: 0px; fill: rgb(76, 114, 176); fill-opacity: 1;\"/><path class=\"point\" transform=\"translate(339.91,125.95)\" d=\"M1,0A1,1 0 1,1 0,-1A1,1 0 0,1 1,0Z\" style=\"opacity: 1; stroke-width: 0px; fill: rgb(76, 114, 176); fill-opacity: 1;\"/><path class=\"point\" transform=\"translate(340.39,127.26)\" d=\"M1,0A1,1 0 1,1 0,-1A1,1 0 0,1 1,0Z\" style=\"opacity: 1; stroke-width: 0px; fill: rgb(76, 114, 176); fill-opacity: 1;\"/><path class=\"point\" transform=\"translate(340.87,103.67)\" d=\"M1,0A1,1 0 1,1 0,-1A1,1 0 0,1 1,0Z\" style=\"opacity: 1; stroke-width: 0px; fill: rgb(76, 114, 176); fill-opacity: 1;\"/><path class=\"point\" transform=\"translate(341.35,128.1)\" d=\"M1,0A1,1 0 1,1 0,-1A1,1 0 0,1 1,0Z\" style=\"opacity: 1; stroke-width: 0px; fill: rgb(76, 114, 176); fill-opacity: 1;\"/><path class=\"point\" transform=\"translate(341.83,105.53)\" d=\"M1,0A1,1 0 1,1 0,-1A1,1 0 0,1 1,0Z\" style=\"opacity: 1; stroke-width: 0px; fill: rgb(76, 114, 176); fill-opacity: 1;\"/><path class=\"point\" transform=\"translate(342.31,134.33)\" d=\"M1,0A1,1 0 1,1 0,-1A1,1 0 0,1 1,0Z\" style=\"opacity: 1; stroke-width: 0px; fill: rgb(76, 114, 176); fill-opacity: 1;\"/><path class=\"point\" transform=\"translate(342.79,142.67)\" d=\"M1,0A1,1 0 1,1 0,-1A1,1 0 0,1 1,0Z\" style=\"opacity: 1; stroke-width: 0px; fill: rgb(76, 114, 176); fill-opacity: 1;\"/><path class=\"point\" transform=\"translate(343.27,125.94)\" d=\"M1,0A1,1 0 1,1 0,-1A1,1 0 0,1 1,0Z\" style=\"opacity: 1; stroke-width: 0px; fill: rgb(76, 114, 176); fill-opacity: 1;\"/><path class=\"point\" transform=\"translate(343.75,104.74)\" d=\"M1,0A1,1 0 1,1 0,-1A1,1 0 0,1 1,0Z\" style=\"opacity: 1; stroke-width: 0px; fill: rgb(76, 114, 176); fill-opacity: 1;\"/><path class=\"point\" transform=\"translate(344.23,142.92)\" d=\"M1,0A1,1 0 1,1 0,-1A1,1 0 0,1 1,0Z\" style=\"opacity: 1; stroke-width: 0px; fill: rgb(76, 114, 176); fill-opacity: 1;\"/><path class=\"point\" transform=\"translate(344.71,127.01)\" d=\"M1,0A1,1 0 1,1 0,-1A1,1 0 0,1 1,0Z\" style=\"opacity: 1; stroke-width: 0px; fill: rgb(76, 114, 176); fill-opacity: 1;\"/><path class=\"point\" transform=\"translate(345.2,101.12)\" d=\"M1,0A1,1 0 1,1 0,-1A1,1 0 0,1 1,0Z\" style=\"opacity: 1; stroke-width: 0px; fill: rgb(76, 114, 176); fill-opacity: 1;\"/><path class=\"point\" transform=\"translate(345.68,124.37)\" d=\"M1,0A1,1 0 1,1 0,-1A1,1 0 0,1 1,0Z\" style=\"opacity: 1; stroke-width: 0px; fill: rgb(76, 114, 176); fill-opacity: 1;\"/><path class=\"point\" transform=\"translate(346.16,141.41)\" d=\"M1,0A1,1 0 1,1 0,-1A1,1 0 0,1 1,0Z\" style=\"opacity: 1; stroke-width: 0px; fill: rgb(76, 114, 176); fill-opacity: 1;\"/><path class=\"point\" transform=\"translate(346.64,124.93)\" d=\"M1,0A1,1 0 1,1 0,-1A1,1 0 0,1 1,0Z\" style=\"opacity: 1; stroke-width: 0px; fill: rgb(76, 114, 176); fill-opacity: 1;\"/><path class=\"point\" transform=\"translate(347.12,129.53)\" d=\"M1,0A1,1 0 1,1 0,-1A1,1 0 0,1 1,0Z\" style=\"opacity: 1; stroke-width: 0px; fill: rgb(76, 114, 176); fill-opacity: 1;\"/><path class=\"point\" transform=\"translate(347.6,126.46)\" d=\"M1,0A1,1 0 1,1 0,-1A1,1 0 0,1 1,0Z\" style=\"opacity: 1; stroke-width: 0px; fill: rgb(76, 114, 176); fill-opacity: 1;\"/><path class=\"point\" transform=\"translate(348.08,124.99)\" d=\"M1,0A1,1 0 1,1 0,-1A1,1 0 0,1 1,0Z\" style=\"opacity: 1; stroke-width: 0px; fill: rgb(76, 114, 176); fill-opacity: 1;\"/><path class=\"point\" transform=\"translate(348.56,118.6)\" d=\"M1,0A1,1 0 1,1 0,-1A1,1 0 0,1 1,0Z\" style=\"opacity: 1; stroke-width: 0px; fill: rgb(76, 114, 176); fill-opacity: 1;\"/><path class=\"point\" transform=\"translate(349.04,101)\" d=\"M1,0A1,1 0 1,1 0,-1A1,1 0 0,1 1,0Z\" style=\"opacity: 1; stroke-width: 0px; fill: rgb(76, 114, 176); fill-opacity: 1;\"/><path class=\"point\" transform=\"translate(349.52,123.46)\" d=\"M1,0A1,1 0 1,1 0,-1A1,1 0 0,1 1,0Z\" style=\"opacity: 1; stroke-width: 0px; fill: rgb(76, 114, 176); fill-opacity: 1;\"/><path class=\"point\" transform=\"translate(350,111.72)\" d=\"M1,0A1,1 0 1,1 0,-1A1,1 0 0,1 1,0Z\" style=\"opacity: 1; stroke-width: 0px; fill: rgb(76, 114, 176); fill-opacity: 1;\"/><path class=\"point\" transform=\"translate(350.48,106.48)\" d=\"M1,0A1,1 0 1,1 0,-1A1,1 0 0,1 1,0Z\" style=\"opacity: 1; stroke-width: 0px; fill: rgb(76, 114, 176); fill-opacity: 1;\"/><path class=\"point\" transform=\"translate(350.96,130.7)\" d=\"M1,0A1,1 0 1,1 0,-1A1,1 0 0,1 1,0Z\" style=\"opacity: 1; stroke-width: 0px; fill: rgb(76, 114, 176); fill-opacity: 1;\"/><path class=\"point\" transform=\"translate(351.44,123.53)\" d=\"M1,0A1,1 0 1,1 0,-1A1,1 0 0,1 1,0Z\" style=\"opacity: 1; stroke-width: 0px; fill: rgb(76, 114, 176); fill-opacity: 1;\"/><path class=\"point\" transform=\"translate(351.92,105.41)\" d=\"M1,0A1,1 0 1,1 0,-1A1,1 0 0,1 1,0Z\" style=\"opacity: 1; stroke-width: 0px; fill: rgb(76, 114, 176); fill-opacity: 1;\"/><path class=\"point\" transform=\"translate(352.4,105.72)\" d=\"M1,0A1,1 0 1,1 0,-1A1,1 0 0,1 1,0Z\" style=\"opacity: 1; stroke-width: 0px; fill: rgb(76, 114, 176); fill-opacity: 1;\"/><path class=\"point\" transform=\"translate(352.88,122.15)\" d=\"M1,0A1,1 0 1,1 0,-1A1,1 0 0,1 1,0Z\" style=\"opacity: 1; stroke-width: 0px; fill: rgb(76, 114, 176); fill-opacity: 1;\"/><path class=\"point\" transform=\"translate(353.36,131.5)\" d=\"M1,0A1,1 0 1,1 0,-1A1,1 0 0,1 1,0Z\" style=\"opacity: 1; stroke-width: 0px; fill: rgb(76, 114, 176); fill-opacity: 1;\"/><path class=\"point\" transform=\"translate(353.84,102.56)\" d=\"M1,0A1,1 0 1,1 0,-1A1,1 0 0,1 1,0Z\" style=\"opacity: 1; stroke-width: 0px; fill: rgb(76, 114, 176); fill-opacity: 1;\"/><path class=\"point\" transform=\"translate(354.32,101.08)\" d=\"M1,0A1,1 0 1,1 0,-1A1,1 0 0,1 1,0Z\" style=\"opacity: 1; stroke-width: 0px; fill: rgb(76, 114, 176); fill-opacity: 1;\"/><path class=\"point\" transform=\"translate(354.8,122.44)\" d=\"M1,0A1,1 0 1,1 0,-1A1,1 0 0,1 1,0Z\" style=\"opacity: 1; stroke-width: 0px; fill: rgb(76, 114, 176); fill-opacity: 1;\"/><path class=\"point\" transform=\"translate(355.29,120.6)\" d=\"M1,0A1,1 0 1,1 0,-1A1,1 0 0,1 1,0Z\" style=\"opacity: 1; stroke-width: 0px; fill: rgb(76, 114, 176); fill-opacity: 1;\"/><path class=\"point\" transform=\"translate(355.77,113.33)\" d=\"M1,0A1,1 0 1,1 0,-1A1,1 0 0,1 1,0Z\" style=\"opacity: 1; stroke-width: 0px; fill: rgb(76, 114, 176); fill-opacity: 1;\"/><path class=\"point\" transform=\"translate(356.25,103.01)\" d=\"M1,0A1,1 0 1,1 0,-1A1,1 0 0,1 1,0Z\" style=\"opacity: 1; stroke-width: 0px; fill: rgb(76, 114, 176); fill-opacity: 1;\"/><path class=\"point\" transform=\"translate(356.73,112.79)\" d=\"M1,0A1,1 0 1,1 0,-1A1,1 0 0,1 1,0Z\" style=\"opacity: 1; stroke-width: 0px; fill: rgb(76, 114, 176); fill-opacity: 1;\"/><path class=\"point\" transform=\"translate(357.21,96.38)\" d=\"M1,0A1,1 0 1,1 0,-1A1,1 0 0,1 1,0Z\" style=\"opacity: 1; stroke-width: 0px; fill: rgb(76, 114, 176); fill-opacity: 1;\"/><path class=\"point\" transform=\"translate(357.69,115.76)\" d=\"M1,0A1,1 0 1,1 0,-1A1,1 0 0,1 1,0Z\" style=\"opacity: 1; stroke-width: 0px; fill: rgb(76, 114, 176); fill-opacity: 1;\"/><path class=\"point\" transform=\"translate(358.17,111.09)\" d=\"M1,0A1,1 0 1,1 0,-1A1,1 0 0,1 1,0Z\" style=\"opacity: 1; stroke-width: 0px; fill: rgb(76, 114, 176); fill-opacity: 1;\"/><path class=\"point\" transform=\"translate(358.65,127.75)\" d=\"M1,0A1,1 0 1,1 0,-1A1,1 0 0,1 1,0Z\" style=\"opacity: 1; stroke-width: 0px; fill: rgb(76, 114, 176); fill-opacity: 1;\"/><path class=\"point\" transform=\"translate(359.13,97.51)\" d=\"M1,0A1,1 0 1,1 0,-1A1,1 0 0,1 1,0Z\" style=\"opacity: 1; stroke-width: 0px; fill: rgb(76, 114, 176); fill-opacity: 1;\"/><path class=\"point\" transform=\"translate(359.61,103.72)\" d=\"M1,0A1,1 0 1,1 0,-1A1,1 0 0,1 1,0Z\" style=\"opacity: 1; stroke-width: 0px; fill: rgb(76, 114, 176); fill-opacity: 1;\"/><path class=\"point\" transform=\"translate(360.09,97.63)\" d=\"M1,0A1,1 0 1,1 0,-1A1,1 0 0,1 1,0Z\" style=\"opacity: 1; stroke-width: 0px; fill: rgb(76, 114, 176); fill-opacity: 1;\"/><path class=\"point\" transform=\"translate(360.57,121.44)\" d=\"M1,0A1,1 0 1,1 0,-1A1,1 0 0,1 1,0Z\" style=\"opacity: 1; stroke-width: 0px; fill: rgb(76, 114, 176); fill-opacity: 1;\"/><path class=\"point\" transform=\"translate(361.05,110.87)\" d=\"M1,0A1,1 0 1,1 0,-1A1,1 0 0,1 1,0Z\" style=\"opacity: 1; stroke-width: 0px; fill: rgb(76, 114, 176); fill-opacity: 1;\"/><path class=\"point\" transform=\"translate(361.53,94.53)\" d=\"M1,0A1,1 0 1,1 0,-1A1,1 0 0,1 1,0Z\" style=\"opacity: 1; stroke-width: 0px; fill: rgb(76, 114, 176); fill-opacity: 1;\"/><path class=\"point\" transform=\"translate(362.01,115.06)\" d=\"M1,0A1,1 0 1,1 0,-1A1,1 0 0,1 1,0Z\" style=\"opacity: 1; stroke-width: 0px; fill: rgb(76, 114, 176); fill-opacity: 1;\"/><path class=\"point\" transform=\"translate(362.49,130.35)\" d=\"M1,0A1,1 0 1,1 0,-1A1,1 0 0,1 1,0Z\" style=\"opacity: 1; stroke-width: 0px; fill: rgb(76, 114, 176); fill-opacity: 1;\"/><path class=\"point\" transform=\"translate(362.97,94.32)\" d=\"M1,0A1,1 0 1,1 0,-1A1,1 0 0,1 1,0Z\" style=\"opacity: 1; stroke-width: 0px; fill: rgb(76, 114, 176); fill-opacity: 1;\"/><path class=\"point\" transform=\"translate(363.45,119.69)\" d=\"M1,0A1,1 0 1,1 0,-1A1,1 0 0,1 1,0Z\" style=\"opacity: 1; stroke-width: 0px; fill: rgb(76, 114, 176); fill-opacity: 1;\"/><path class=\"point\" transform=\"translate(363.93,97.67)\" d=\"M1,0A1,1 0 1,1 0,-1A1,1 0 0,1 1,0Z\" style=\"opacity: 1; stroke-width: 0px; fill: rgb(76, 114, 176); fill-opacity: 1;\"/><path class=\"point\" transform=\"translate(364.41,115.72)\" d=\"M1,0A1,1 0 1,1 0,-1A1,1 0 0,1 1,0Z\" style=\"opacity: 1; stroke-width: 0px; fill: rgb(76, 114, 176); fill-opacity: 1;\"/><path class=\"point\" transform=\"translate(364.89,118.05)\" d=\"M1,0A1,1 0 1,1 0,-1A1,1 0 0,1 1,0Z\" style=\"opacity: 1; stroke-width: 0px; fill: rgb(76, 114, 176); fill-opacity: 1;\"/><path class=\"point\" transform=\"translate(365.38,92.72)\" d=\"M1,0A1,1 0 1,1 0,-1A1,1 0 0,1 1,0Z\" style=\"opacity: 1; stroke-width: 0px; fill: rgb(76, 114, 176); fill-opacity: 1;\"/><path class=\"point\" transform=\"translate(365.86,93.87)\" d=\"M1,0A1,1 0 1,1 0,-1A1,1 0 0,1 1,0Z\" style=\"opacity: 1; stroke-width: 0px; fill: rgb(76, 114, 176); fill-opacity: 1;\"/><path class=\"point\" transform=\"translate(366.34,91)\" d=\"M1,0A1,1 0 1,1 0,-1A1,1 0 0,1 1,0Z\" style=\"opacity: 1; stroke-width: 0px; fill: rgb(76, 114, 176); fill-opacity: 1;\"/><path class=\"point\" transform=\"translate(366.82,96.84)\" d=\"M1,0A1,1 0 1,1 0,-1A1,1 0 0,1 1,0Z\" style=\"opacity: 1; stroke-width: 0px; fill: rgb(76, 114, 176); fill-opacity: 1;\"/><path class=\"point\" transform=\"translate(367.3,97.76)\" d=\"M1,0A1,1 0 1,1 0,-1A1,1 0 0,1 1,0Z\" style=\"opacity: 1; stroke-width: 0px; fill: rgb(76, 114, 176); fill-opacity: 1;\"/><path class=\"point\" transform=\"translate(367.78,97.2)\" d=\"M1,0A1,1 0 1,1 0,-1A1,1 0 0,1 1,0Z\" style=\"opacity: 1; stroke-width: 0px; fill: rgb(76, 114, 176); fill-opacity: 1;\"/><path class=\"point\" transform=\"translate(368.26,108.52)\" d=\"M1,0A1,1 0 1,1 0,-1A1,1 0 0,1 1,0Z\" style=\"opacity: 1; stroke-width: 0px; fill: rgb(76, 114, 176); fill-opacity: 1;\"/><path class=\"point\" transform=\"translate(368.74,126.25)\" d=\"M1,0A1,1 0 1,1 0,-1A1,1 0 0,1 1,0Z\" style=\"opacity: 1; stroke-width: 0px; fill: rgb(76, 114, 176); fill-opacity: 1;\"/><path class=\"point\" transform=\"translate(369.22,118.49)\" d=\"M1,0A1,1 0 1,1 0,-1A1,1 0 0,1 1,0Z\" style=\"opacity: 1; stroke-width: 0px; fill: rgb(76, 114, 176); fill-opacity: 1;\"/><path class=\"point\" transform=\"translate(369.7,120.33)\" d=\"M1,0A1,1 0 1,1 0,-1A1,1 0 0,1 1,0Z\" style=\"opacity: 1; stroke-width: 0px; fill: rgb(76, 114, 176); fill-opacity: 1;\"/><path class=\"point\" transform=\"translate(370.18,120.9)\" d=\"M1,0A1,1 0 1,1 0,-1A1,1 0 0,1 1,0Z\" style=\"opacity: 1; stroke-width: 0px; fill: rgb(76, 114, 176); fill-opacity: 1;\"/><path class=\"point\" transform=\"translate(370.66,107.53)\" d=\"M1,0A1,1 0 1,1 0,-1A1,1 0 0,1 1,0Z\" style=\"opacity: 1; stroke-width: 0px; fill: rgb(76, 114, 176); fill-opacity: 1;\"/><path class=\"point\" transform=\"translate(371.14,116.82)\" d=\"M1,0A1,1 0 1,1 0,-1A1,1 0 0,1 1,0Z\" style=\"opacity: 1; stroke-width: 0px; fill: rgb(76, 114, 176); fill-opacity: 1;\"/><path class=\"point\" transform=\"translate(371.62,110.05)\" d=\"M1,0A1,1 0 1,1 0,-1A1,1 0 0,1 1,0Z\" style=\"opacity: 1; stroke-width: 0px; fill: rgb(76, 114, 176); fill-opacity: 1;\"/><path class=\"point\" transform=\"translate(372.1,115.72)\" d=\"M1,0A1,1 0 1,1 0,-1A1,1 0 0,1 1,0Z\" style=\"opacity: 1; stroke-width: 0px; fill: rgb(76, 114, 176); fill-opacity: 1;\"/><path class=\"point\" transform=\"translate(372.58,104.04)\" d=\"M1,0A1,1 0 1,1 0,-1A1,1 0 0,1 1,0Z\" style=\"opacity: 1; stroke-width: 0px; fill: rgb(76, 114, 176); fill-opacity: 1;\"/><path class=\"point\" transform=\"translate(373.06,91.82)\" d=\"M1,0A1,1 0 1,1 0,-1A1,1 0 0,1 1,0Z\" style=\"opacity: 1; stroke-width: 0px; fill: rgb(76, 114, 176); fill-opacity: 1;\"/><path class=\"point\" transform=\"translate(373.54,95.21)\" d=\"M1,0A1,1 0 1,1 0,-1A1,1 0 0,1 1,0Z\" style=\"opacity: 1; stroke-width: 0px; fill: rgb(76, 114, 176); fill-opacity: 1;\"/><path class=\"point\" transform=\"translate(374.02,113.65)\" d=\"M1,0A1,1 0 1,1 0,-1A1,1 0 0,1 1,0Z\" style=\"opacity: 1; stroke-width: 0px; fill: rgb(76, 114, 176); fill-opacity: 1;\"/><path class=\"point\" transform=\"translate(374.5,115.81)\" d=\"M1,0A1,1 0 1,1 0,-1A1,1 0 0,1 1,0Z\" style=\"opacity: 1; stroke-width: 0px; fill: rgb(76, 114, 176); fill-opacity: 1;\"/><path class=\"point\" transform=\"translate(374.98,86.68)\" d=\"M1,0A1,1 0 1,1 0,-1A1,1 0 0,1 1,0Z\" style=\"opacity: 1; stroke-width: 0px; fill: rgb(76, 114, 176); fill-opacity: 1;\"/><path class=\"point\" transform=\"translate(375.47,112.5)\" d=\"M1,0A1,1 0 1,1 0,-1A1,1 0 0,1 1,0Z\" style=\"opacity: 1; stroke-width: 0px; fill: rgb(76, 114, 176); fill-opacity: 1;\"/><path class=\"point\" transform=\"translate(375.95,126.02)\" d=\"M1,0A1,1 0 1,1 0,-1A1,1 0 0,1 1,0Z\" style=\"opacity: 1; stroke-width: 0px; fill: rgb(76, 114, 176); fill-opacity: 1;\"/><path class=\"point\" transform=\"translate(376.43,111.83)\" d=\"M1,0A1,1 0 1,1 0,-1A1,1 0 0,1 1,0Z\" style=\"opacity: 1; stroke-width: 0px; fill: rgb(76, 114, 176); fill-opacity: 1;\"/><path class=\"point\" transform=\"translate(376.91,105.8)\" d=\"M1,0A1,1 0 1,1 0,-1A1,1 0 0,1 1,0Z\" style=\"opacity: 1; stroke-width: 0px; fill: rgb(76, 114, 176); fill-opacity: 1;\"/><path class=\"point\" transform=\"translate(377.39,97.69)\" d=\"M1,0A1,1 0 1,1 0,-1A1,1 0 0,1 1,0Z\" style=\"opacity: 1; stroke-width: 0px; fill: rgb(76, 114, 176); fill-opacity: 1;\"/><path class=\"point\" transform=\"translate(377.87,122.37)\" d=\"M1,0A1,1 0 1,1 0,-1A1,1 0 0,1 1,0Z\" style=\"opacity: 1; stroke-width: 0px; fill: rgb(76, 114, 176); fill-opacity: 1;\"/><path class=\"point\" transform=\"translate(378.35,88.62)\" d=\"M1,0A1,1 0 1,1 0,-1A1,1 0 0,1 1,0Z\" style=\"opacity: 1; stroke-width: 0px; fill: rgb(76, 114, 176); fill-opacity: 1;\"/><path class=\"point\" transform=\"translate(378.83,110.1)\" d=\"M1,0A1,1 0 1,1 0,-1A1,1 0 0,1 1,0Z\" style=\"opacity: 1; stroke-width: 0px; fill: rgb(76, 114, 176); fill-opacity: 1;\"/><path class=\"point\" transform=\"translate(379.31,108.24)\" d=\"M1,0A1,1 0 1,1 0,-1A1,1 0 0,1 1,0Z\" style=\"opacity: 1; stroke-width: 0px; fill: rgb(76, 114, 176); fill-opacity: 1;\"/><path class=\"point\" transform=\"translate(379.79,85.38)\" d=\"M1,0A1,1 0 1,1 0,-1A1,1 0 0,1 1,0Z\" style=\"opacity: 1; stroke-width: 0px; fill: rgb(76, 114, 176); fill-opacity: 1;\"/><path class=\"point\" transform=\"translate(380.27,118.51)\" d=\"M1,0A1,1 0 1,1 0,-1A1,1 0 0,1 1,0Z\" style=\"opacity: 1; stroke-width: 0px; fill: rgb(76, 114, 176); fill-opacity: 1;\"/><path class=\"point\" transform=\"translate(380.75,89.19)\" d=\"M1,0A1,1 0 1,1 0,-1A1,1 0 0,1 1,0Z\" style=\"opacity: 1; stroke-width: 0px; fill: rgb(76, 114, 176); fill-opacity: 1;\"/><path class=\"point\" transform=\"translate(381.23,110.89)\" d=\"M1,0A1,1 0 1,1 0,-1A1,1 0 0,1 1,0Z\" style=\"opacity: 1; stroke-width: 0px; fill: rgb(76, 114, 176); fill-opacity: 1;\"/><path class=\"point\" transform=\"translate(381.71,106.01)\" d=\"M1,0A1,1 0 1,1 0,-1A1,1 0 0,1 1,0Z\" style=\"opacity: 1; stroke-width: 0px; fill: rgb(76, 114, 176); fill-opacity: 1;\"/><path class=\"point\" transform=\"translate(382.19,86.34)\" d=\"M1,0A1,1 0 1,1 0,-1A1,1 0 0,1 1,0Z\" style=\"opacity: 1; stroke-width: 0px; fill: rgb(76, 114, 176); fill-opacity: 1;\"/><path class=\"point\" transform=\"translate(382.67,118)\" d=\"M1,0A1,1 0 1,1 0,-1A1,1 0 0,1 1,0Z\" style=\"opacity: 1; stroke-width: 0px; fill: rgb(76, 114, 176); fill-opacity: 1;\"/><path class=\"point\" transform=\"translate(383.15,120)\" d=\"M1,0A1,1 0 1,1 0,-1A1,1 0 0,1 1,0Z\" style=\"opacity: 1; stroke-width: 0px; fill: rgb(76, 114, 176); fill-opacity: 1;\"/><path class=\"point\" transform=\"translate(383.63,103.44)\" d=\"M1,0A1,1 0 1,1 0,-1A1,1 0 0,1 1,0Z\" style=\"opacity: 1; stroke-width: 0px; fill: rgb(76, 114, 176); fill-opacity: 1;\"/><path class=\"point\" transform=\"translate(384.11,100.44)\" d=\"M1,0A1,1 0 1,1 0,-1A1,1 0 0,1 1,0Z\" style=\"opacity: 1; stroke-width: 0px; fill: rgb(76, 114, 176); fill-opacity: 1;\"/><path class=\"point\" transform=\"translate(384.59,110.62)\" d=\"M1,0A1,1 0 1,1 0,-1A1,1 0 0,1 1,0Z\" style=\"opacity: 1; stroke-width: 0px; fill: rgb(76, 114, 176); fill-opacity: 1;\"/><path class=\"point\" transform=\"translate(385.08,103.68)\" d=\"M1,0A1,1 0 1,1 0,-1A1,1 0 0,1 1,0Z\" style=\"opacity: 1; stroke-width: 0px; fill: rgb(76, 114, 176); fill-opacity: 1;\"/><path class=\"point\" transform=\"translate(385.56,91.4)\" d=\"M1,0A1,1 0 1,1 0,-1A1,1 0 0,1 1,0Z\" style=\"opacity: 1; stroke-width: 0px; fill: rgb(76, 114, 176); fill-opacity: 1;\"/><path class=\"point\" transform=\"translate(386.04,109.16)\" d=\"M1,0A1,1 0 1,1 0,-1A1,1 0 0,1 1,0Z\" style=\"opacity: 1; stroke-width: 0px; fill: rgb(76, 114, 176); fill-opacity: 1;\"/><path class=\"point\" transform=\"translate(386.52,79.62)\" d=\"M1,0A1,1 0 1,1 0,-1A1,1 0 0,1 1,0Z\" style=\"opacity: 1; stroke-width: 0px; fill: rgb(76, 114, 176); fill-opacity: 1;\"/><path class=\"point\" transform=\"translate(387,91.27)\" d=\"M1,0A1,1 0 1,1 0,-1A1,1 0 0,1 1,0Z\" style=\"opacity: 1; stroke-width: 0px; fill: rgb(76, 114, 176); fill-opacity: 1;\"/><path class=\"point\" transform=\"translate(387.48,90.07)\" d=\"M1,0A1,1 0 1,1 0,-1A1,1 0 0,1 1,0Z\" style=\"opacity: 1; stroke-width: 0px; fill: rgb(76, 114, 176); fill-opacity: 1;\"/><path class=\"point\" transform=\"translate(387.96,100.97)\" d=\"M1,0A1,1 0 1,1 0,-1A1,1 0 0,1 1,0Z\" style=\"opacity: 1; stroke-width: 0px; fill: rgb(76, 114, 176); fill-opacity: 1;\"/><path class=\"point\" transform=\"translate(388.44,109.98)\" d=\"M1,0A1,1 0 1,1 0,-1A1,1 0 0,1 1,0Z\" style=\"opacity: 1; stroke-width: 0px; fill: rgb(76, 114, 176); fill-opacity: 1;\"/><path class=\"point\" transform=\"translate(388.92,87.32)\" d=\"M1,0A1,1 0 1,1 0,-1A1,1 0 0,1 1,0Z\" style=\"opacity: 1; stroke-width: 0px; fill: rgb(76, 114, 176); fill-opacity: 1;\"/><path class=\"point\" transform=\"translate(389.4,107.01)\" d=\"M1,0A1,1 0 1,1 0,-1A1,1 0 0,1 1,0Z\" style=\"opacity: 1; stroke-width: 0px; fill: rgb(76, 114, 176); fill-opacity: 1;\"/><path class=\"point\" transform=\"translate(389.88,116.45)\" d=\"M1,0A1,1 0 1,1 0,-1A1,1 0 0,1 1,0Z\" style=\"opacity: 1; stroke-width: 0px; fill: rgb(76, 114, 176); fill-opacity: 1;\"/><path class=\"point\" transform=\"translate(390.36,95.45)\" d=\"M1,0A1,1 0 1,1 0,-1A1,1 0 0,1 1,0Z\" style=\"opacity: 1; stroke-width: 0px; fill: rgb(76, 114, 176); fill-opacity: 1;\"/><path class=\"point\" transform=\"translate(390.84,101.92)\" d=\"M1,0A1,1 0 1,1 0,-1A1,1 0 0,1 1,0Z\" style=\"opacity: 1; stroke-width: 0px; fill: rgb(76, 114, 176); fill-opacity: 1;\"/><path class=\"point\" transform=\"translate(391.32,100.16)\" d=\"M1,0A1,1 0 1,1 0,-1A1,1 0 0,1 1,0Z\" style=\"opacity: 1; stroke-width: 0px; fill: rgb(76, 114, 176); fill-opacity: 1;\"/><path class=\"point\" transform=\"translate(391.8,83.88)\" d=\"M1,0A1,1 0 1,1 0,-1A1,1 0 0,1 1,0Z\" style=\"opacity: 1; stroke-width: 0px; fill: rgb(76, 114, 176); fill-opacity: 1;\"/><path class=\"point\" transform=\"translate(392.28,87.14)\" d=\"M1,0A1,1 0 1,1 0,-1A1,1 0 0,1 1,0Z\" style=\"opacity: 1; stroke-width: 0px; fill: rgb(76, 114, 176); fill-opacity: 1;\"/><path class=\"point\" transform=\"translate(392.76,97.37)\" d=\"M1,0A1,1 0 1,1 0,-1A1,1 0 0,1 1,0Z\" style=\"opacity: 1; stroke-width: 0px; fill: rgb(76, 114, 176); fill-opacity: 1;\"/><path class=\"point\" transform=\"translate(393.24,104.87)\" d=\"M1,0A1,1 0 1,1 0,-1A1,1 0 0,1 1,0Z\" style=\"opacity: 1; stroke-width: 0px; fill: rgb(76, 114, 176); fill-opacity: 1;\"/><path class=\"point\" transform=\"translate(393.72,116.91)\" d=\"M1,0A1,1 0 1,1 0,-1A1,1 0 0,1 1,0Z\" style=\"opacity: 1; stroke-width: 0px; fill: rgb(76, 114, 176); fill-opacity: 1;\"/><path class=\"point\" transform=\"translate(394.2,93.17)\" d=\"M1,0A1,1 0 1,1 0,-1A1,1 0 0,1 1,0Z\" style=\"opacity: 1; stroke-width: 0px; fill: rgb(76, 114, 176); fill-opacity: 1;\"/><path class=\"point\" transform=\"translate(394.68,81.91)\" d=\"M1,0A1,1 0 1,1 0,-1A1,1 0 0,1 1,0Z\" style=\"opacity: 1; stroke-width: 0px; fill: rgb(76, 114, 176); fill-opacity: 1;\"/><path class=\"point\" transform=\"translate(395.17,115.44)\" d=\"M1,0A1,1 0 1,1 0,-1A1,1 0 0,1 1,0Z\" style=\"opacity: 1; stroke-width: 0px; fill: rgb(76, 114, 176); fill-opacity: 1;\"/><path class=\"point\" transform=\"translate(395.65,112.19)\" d=\"M1,0A1,1 0 1,1 0,-1A1,1 0 0,1 1,0Z\" style=\"opacity: 1; stroke-width: 0px; fill: rgb(76, 114, 176); fill-opacity: 1;\"/><path class=\"point\" transform=\"translate(396.13,114.41)\" d=\"M1,0A1,1 0 1,1 0,-1A1,1 0 0,1 1,0Z\" style=\"opacity: 1; stroke-width: 0px; fill: rgb(76, 114, 176); fill-opacity: 1;\"/><path class=\"point\" transform=\"translate(396.61,90.03)\" d=\"M1,0A1,1 0 1,1 0,-1A1,1 0 0,1 1,0Z\" style=\"opacity: 1; stroke-width: 0px; fill: rgb(76, 114, 176); fill-opacity: 1;\"/><path class=\"point\" transform=\"translate(397.09,93.22)\" d=\"M1,0A1,1 0 1,1 0,-1A1,1 0 0,1 1,0Z\" style=\"opacity: 1; stroke-width: 0px; fill: rgb(76, 114, 176); fill-opacity: 1;\"/><path class=\"point\" transform=\"translate(397.57,77.26)\" d=\"M1,0A1,1 0 1,1 0,-1A1,1 0 0,1 1,0Z\" style=\"opacity: 1; stroke-width: 0px; fill: rgb(76, 114, 176); fill-opacity: 1;\"/><path class=\"point\" transform=\"translate(398.05,90.94)\" d=\"M1,0A1,1 0 1,1 0,-1A1,1 0 0,1 1,0Z\" style=\"opacity: 1; stroke-width: 0px; fill: rgb(76, 114, 176); fill-opacity: 1;\"/><path class=\"point\" transform=\"translate(398.53,81.7)\" d=\"M1,0A1,1 0 1,1 0,-1A1,1 0 0,1 1,0Z\" style=\"opacity: 1; stroke-width: 0px; fill: rgb(76, 114, 176); fill-opacity: 1;\"/><path class=\"point\" transform=\"translate(399.01,83.2)\" d=\"M1,0A1,1 0 1,1 0,-1A1,1 0 0,1 1,0Z\" style=\"opacity: 1; stroke-width: 0px; fill: rgb(76, 114, 176); fill-opacity: 1;\"/><path class=\"point\" transform=\"translate(399.49,100.5)\" d=\"M1,0A1,1 0 1,1 0,-1A1,1 0 0,1 1,0Z\" style=\"opacity: 1; stroke-width: 0px; fill: rgb(76, 114, 176); fill-opacity: 1;\"/><path class=\"point\" transform=\"translate(399.97,105.95)\" d=\"M1,0A1,1 0 1,1 0,-1A1,1 0 0,1 1,0Z\" style=\"opacity: 1; stroke-width: 0px; fill: rgb(76, 114, 176); fill-opacity: 1;\"/><path class=\"point\" transform=\"translate(400.45,111.03)\" d=\"M1,0A1,1 0 1,1 0,-1A1,1 0 0,1 1,0Z\" style=\"opacity: 1; stroke-width: 0px; fill: rgb(76, 114, 176); fill-opacity: 1;\"/><path class=\"point\" transform=\"translate(400.93,97.9)\" d=\"M1,0A1,1 0 1,1 0,-1A1,1 0 0,1 1,0Z\" style=\"opacity: 1; stroke-width: 0px; fill: rgb(76, 114, 176); fill-opacity: 1;\"/><path class=\"point\" transform=\"translate(401.41,92.5)\" d=\"M1,0A1,1 0 1,1 0,-1A1,1 0 0,1 1,0Z\" style=\"opacity: 1; stroke-width: 0px; fill: rgb(76, 114, 176); fill-opacity: 1;\"/><path class=\"point\" transform=\"translate(401.89,105.54)\" d=\"M1,0A1,1 0 1,1 0,-1A1,1 0 0,1 1,0Z\" style=\"opacity: 1; stroke-width: 0px; fill: rgb(76, 114, 176); fill-opacity: 1;\"/><path class=\"point\" transform=\"translate(402.37,111.87)\" d=\"M1,0A1,1 0 1,1 0,-1A1,1 0 0,1 1,0Z\" style=\"opacity: 1; stroke-width: 0px; fill: rgb(76, 114, 176); fill-opacity: 1;\"/><path class=\"point\" transform=\"translate(402.85,85.41)\" d=\"M1,0A1,1 0 1,1 0,-1A1,1 0 0,1 1,0Z\" style=\"opacity: 1; stroke-width: 0px; fill: rgb(76, 114, 176); fill-opacity: 1;\"/><path class=\"point\" transform=\"translate(403.33,74.33)\" d=\"M1,0A1,1 0 1,1 0,-1A1,1 0 0,1 1,0Z\" style=\"opacity: 1; stroke-width: 0px; fill: rgb(76, 114, 176); fill-opacity: 1;\"/><path class=\"point\" transform=\"translate(403.81,83.26)\" d=\"M1,0A1,1 0 1,1 0,-1A1,1 0 0,1 1,0Z\" style=\"opacity: 1; stroke-width: 0px; fill: rgb(76, 114, 176); fill-opacity: 1;\"/><path class=\"point\" transform=\"translate(404.29,84.77)\" d=\"M1,0A1,1 0 1,1 0,-1A1,1 0 0,1 1,0Z\" style=\"opacity: 1; stroke-width: 0px; fill: rgb(76, 114, 176); fill-opacity: 1;\"/><path class=\"point\" transform=\"translate(404.77,105.06)\" d=\"M1,0A1,1 0 1,1 0,-1A1,1 0 0,1 1,0Z\" style=\"opacity: 1; stroke-width: 0px; fill: rgb(76, 114, 176); fill-opacity: 1;\"/><path class=\"point\" transform=\"translate(405.26,98.89)\" d=\"M1,0A1,1 0 1,1 0,-1A1,1 0 0,1 1,0Z\" style=\"opacity: 1; stroke-width: 0px; fill: rgb(76, 114, 176); fill-opacity: 1;\"/><path class=\"point\" transform=\"translate(405.74,77.3)\" d=\"M1,0A1,1 0 1,1 0,-1A1,1 0 0,1 1,0Z\" style=\"opacity: 1; stroke-width: 0px; fill: rgb(76, 114, 176); fill-opacity: 1;\"/><path class=\"point\" transform=\"translate(406.22,110.63)\" d=\"M1,0A1,1 0 1,1 0,-1A1,1 0 0,1 1,0Z\" style=\"opacity: 1; stroke-width: 0px; fill: rgb(76, 114, 176); fill-opacity: 1;\"/><path class=\"point\" transform=\"translate(406.7,91.38)\" d=\"M1,0A1,1 0 1,1 0,-1A1,1 0 0,1 1,0Z\" style=\"opacity: 1; stroke-width: 0px; fill: rgb(76, 114, 176); fill-opacity: 1;\"/><path class=\"point\" transform=\"translate(407.18,83.05)\" d=\"M1,0A1,1 0 1,1 0,-1A1,1 0 0,1 1,0Z\" style=\"opacity: 1; stroke-width: 0px; fill: rgb(76, 114, 176); fill-opacity: 1;\"/><path class=\"point\" transform=\"translate(407.66,106.56)\" d=\"M1,0A1,1 0 1,1 0,-1A1,1 0 0,1 1,0Z\" style=\"opacity: 1; stroke-width: 0px; fill: rgb(76, 114, 176); fill-opacity: 1;\"/><path class=\"point\" transform=\"translate(408.14,94.64)\" d=\"M1,0A1,1 0 1,1 0,-1A1,1 0 0,1 1,0Z\" style=\"opacity: 1; stroke-width: 0px; fill: rgb(76, 114, 176); fill-opacity: 1;\"/><path class=\"point\" transform=\"translate(408.62,102.78)\" d=\"M1,0A1,1 0 1,1 0,-1A1,1 0 0,1 1,0Z\" style=\"opacity: 1; stroke-width: 0px; fill: rgb(76, 114, 176); fill-opacity: 1;\"/><path class=\"point\" transform=\"translate(409.1,99.68)\" d=\"M1,0A1,1 0 1,1 0,-1A1,1 0 0,1 1,0Z\" style=\"opacity: 1; stroke-width: 0px; fill: rgb(76, 114, 176); fill-opacity: 1;\"/><path class=\"point\" transform=\"translate(409.58,91.65)\" d=\"M1,0A1,1 0 1,1 0,-1A1,1 0 0,1 1,0Z\" style=\"opacity: 1; stroke-width: 0px; fill: rgb(76, 114, 176); fill-opacity: 1;\"/><path class=\"point\" transform=\"translate(410.06,74.27)\" d=\"M1,0A1,1 0 1,1 0,-1A1,1 0 0,1 1,0Z\" style=\"opacity: 1; stroke-width: 0px; fill: rgb(76, 114, 176); fill-opacity: 1;\"/><path class=\"point\" transform=\"translate(410.54,80.92)\" d=\"M1,0A1,1 0 1,1 0,-1A1,1 0 0,1 1,0Z\" style=\"opacity: 1; stroke-width: 0px; fill: rgb(76, 114, 176); fill-opacity: 1;\"/><path class=\"point\" transform=\"translate(411.02,105)\" d=\"M1,0A1,1 0 1,1 0,-1A1,1 0 0,1 1,0Z\" style=\"opacity: 1; stroke-width: 0px; fill: rgb(76, 114, 176); fill-opacity: 1;\"/><path class=\"point\" transform=\"translate(411.5,87.12)\" d=\"M1,0A1,1 0 1,1 0,-1A1,1 0 0,1 1,0Z\" style=\"opacity: 1; stroke-width: 0px; fill: rgb(76, 114, 176); fill-opacity: 1;\"/><path class=\"point\" transform=\"translate(411.98,92.1)\" d=\"M1,0A1,1 0 1,1 0,-1A1,1 0 0,1 1,0Z\" style=\"opacity: 1; stroke-width: 0px; fill: rgb(76, 114, 176); fill-opacity: 1;\"/><path class=\"point\" transform=\"translate(412.46,98.43)\" d=\"M1,0A1,1 0 1,1 0,-1A1,1 0 0,1 1,0Z\" style=\"opacity: 1; stroke-width: 0px; fill: rgb(76, 114, 176); fill-opacity: 1;\"/><path class=\"point\" transform=\"translate(412.94,78.35)\" d=\"M1,0A1,1 0 1,1 0,-1A1,1 0 0,1 1,0Z\" style=\"opacity: 1; stroke-width: 0px; fill: rgb(76, 114, 176); fill-opacity: 1;\"/><path class=\"point\" transform=\"translate(413.42,101.24)\" d=\"M1,0A1,1 0 1,1 0,-1A1,1 0 0,1 1,0Z\" style=\"opacity: 1; stroke-width: 0px; fill: rgb(76, 114, 176); fill-opacity: 1;\"/><path class=\"point\" transform=\"translate(413.9,94.71)\" d=\"M1,0A1,1 0 1,1 0,-1A1,1 0 0,1 1,0Z\" style=\"opacity: 1; stroke-width: 0px; fill: rgb(76, 114, 176); fill-opacity: 1;\"/><path class=\"point\" transform=\"translate(414.38,98.19)\" d=\"M1,0A1,1 0 1,1 0,-1A1,1 0 0,1 1,0Z\" style=\"opacity: 1; stroke-width: 0px; fill: rgb(76, 114, 176); fill-opacity: 1;\"/><path class=\"point\" transform=\"translate(414.86,76.2)\" d=\"M1,0A1,1 0 1,1 0,-1A1,1 0 0,1 1,0Z\" style=\"opacity: 1; stroke-width: 0px; fill: rgb(76, 114, 176); fill-opacity: 1;\"/><path class=\"point\" transform=\"translate(415.35,87.1)\" d=\"M1,0A1,1 0 1,1 0,-1A1,1 0 0,1 1,0Z\" style=\"opacity: 1; stroke-width: 0px; fill: rgb(76, 114, 176); fill-opacity: 1;\"/><path class=\"point\" transform=\"translate(415.83,65.95)\" d=\"M1,0A1,1 0 1,1 0,-1A1,1 0 0,1 1,0Z\" style=\"opacity: 1; stroke-width: 0px; fill: rgb(76, 114, 176); fill-opacity: 1;\"/><path class=\"point\" transform=\"translate(416.31,92.64)\" d=\"M1,0A1,1 0 1,1 0,-1A1,1 0 0,1 1,0Z\" style=\"opacity: 1; stroke-width: 0px; fill: rgb(76, 114, 176); fill-opacity: 1;\"/><path class=\"point\" transform=\"translate(416.79,71.22)\" d=\"M1,0A1,1 0 1,1 0,-1A1,1 0 0,1 1,0Z\" style=\"opacity: 1; stroke-width: 0px; fill: rgb(76, 114, 176); fill-opacity: 1;\"/><path class=\"point\" transform=\"translate(417.27,99.25)\" d=\"M1,0A1,1 0 1,1 0,-1A1,1 0 0,1 1,0Z\" style=\"opacity: 1; stroke-width: 0px; fill: rgb(76, 114, 176); fill-opacity: 1;\"/><path class=\"point\" transform=\"translate(417.75,87.47)\" d=\"M1,0A1,1 0 1,1 0,-1A1,1 0 0,1 1,0Z\" style=\"opacity: 1; stroke-width: 0px; fill: rgb(76, 114, 176); fill-opacity: 1;\"/><path class=\"point\" transform=\"translate(418.23,70.63)\" d=\"M1,0A1,1 0 1,1 0,-1A1,1 0 0,1 1,0Z\" style=\"opacity: 1; stroke-width: 0px; fill: rgb(76, 114, 176); fill-opacity: 1;\"/><path class=\"point\" transform=\"translate(418.71,82.24)\" d=\"M1,0A1,1 0 1,1 0,-1A1,1 0 0,1 1,0Z\" style=\"opacity: 1; stroke-width: 0px; fill: rgb(76, 114, 176); fill-opacity: 1;\"/><path class=\"point\" transform=\"translate(419.19,102.53)\" d=\"M1,0A1,1 0 1,1 0,-1A1,1 0 0,1 1,0Z\" style=\"opacity: 1; stroke-width: 0px; fill: rgb(76, 114, 176); fill-opacity: 1;\"/><path class=\"point\" transform=\"translate(419.67,88.11)\" d=\"M1,0A1,1 0 1,1 0,-1A1,1 0 0,1 1,0Z\" style=\"opacity: 1; stroke-width: 0px; fill: rgb(76, 114, 176); fill-opacity: 1;\"/><path class=\"point\" transform=\"translate(420.15,61.81)\" d=\"M1,0A1,1 0 1,1 0,-1A1,1 0 0,1 1,0Z\" style=\"opacity: 1; stroke-width: 0px; fill: rgb(76, 114, 176); fill-opacity: 1;\"/><path class=\"point\" transform=\"translate(420.63,87.95)\" d=\"M1,0A1,1 0 1,1 0,-1A1,1 0 0,1 1,0Z\" style=\"opacity: 1; stroke-width: 0px; fill: rgb(76, 114, 176); fill-opacity: 1;\"/><path class=\"point\" transform=\"translate(421.11,91.65)\" d=\"M1,0A1,1 0 1,1 0,-1A1,1 0 0,1 1,0Z\" style=\"opacity: 1; stroke-width: 0px; fill: rgb(76, 114, 176); fill-opacity: 1;\"/><path class=\"point\" transform=\"translate(421.59,67.55)\" d=\"M1,0A1,1 0 1,1 0,-1A1,1 0 0,1 1,0Z\" style=\"opacity: 1; stroke-width: 0px; fill: rgb(76, 114, 176); fill-opacity: 1;\"/><path class=\"point\" transform=\"translate(422.07,73.27)\" d=\"M1,0A1,1 0 1,1 0,-1A1,1 0 0,1 1,0Z\" style=\"opacity: 1; stroke-width: 0px; fill: rgb(76, 114, 176); fill-opacity: 1;\"/><path class=\"point\" transform=\"translate(422.55,90.08)\" d=\"M1,0A1,1 0 1,1 0,-1A1,1 0 0,1 1,0Z\" style=\"opacity: 1; stroke-width: 0px; fill: rgb(76, 114, 176); fill-opacity: 1;\"/><path class=\"point\" transform=\"translate(423.03,89.86)\" d=\"M1,0A1,1 0 1,1 0,-1A1,1 0 0,1 1,0Z\" style=\"opacity: 1; stroke-width: 0px; fill: rgb(76, 114, 176); fill-opacity: 1;\"/><path class=\"point\" transform=\"translate(423.51,87.88)\" d=\"M1,0A1,1 0 1,1 0,-1A1,1 0 0,1 1,0Z\" style=\"opacity: 1; stroke-width: 0px; fill: rgb(76, 114, 176); fill-opacity: 1;\"/><path class=\"point\" transform=\"translate(423.99,80.85)\" d=\"M1,0A1,1 0 1,1 0,-1A1,1 0 0,1 1,0Z\" style=\"opacity: 1; stroke-width: 0px; fill: rgb(76, 114, 176); fill-opacity: 1;\"/><path class=\"point\" transform=\"translate(424.47,85.1)\" d=\"M1,0A1,1 0 1,1 0,-1A1,1 0 0,1 1,0Z\" style=\"opacity: 1; stroke-width: 0px; fill: rgb(76, 114, 176); fill-opacity: 1;\"/><path class=\"point\" transform=\"translate(424.95,97.4)\" d=\"M1,0A1,1 0 1,1 0,-1A1,1 0 0,1 1,0Z\" style=\"opacity: 1; stroke-width: 0px; fill: rgb(76, 114, 176); fill-opacity: 1;\"/><path class=\"point\" transform=\"translate(425.44,68.28)\" d=\"M1,0A1,1 0 1,1 0,-1A1,1 0 0,1 1,0Z\" style=\"opacity: 1; stroke-width: 0px; fill: rgb(76, 114, 176); fill-opacity: 1;\"/><path class=\"point\" transform=\"translate(425.92,88.44)\" d=\"M1,0A1,1 0 1,1 0,-1A1,1 0 0,1 1,0Z\" style=\"opacity: 1; stroke-width: 0px; fill: rgb(76, 114, 176); fill-opacity: 1;\"/><path class=\"point\" transform=\"translate(426.4,92.47)\" d=\"M1,0A1,1 0 1,1 0,-1A1,1 0 0,1 1,0Z\" style=\"opacity: 1; stroke-width: 0px; fill: rgb(76, 114, 176); fill-opacity: 1;\"/><path class=\"point\" transform=\"translate(426.88,70.2)\" d=\"M1,0A1,1 0 1,1 0,-1A1,1 0 0,1 1,0Z\" style=\"opacity: 1; stroke-width: 0px; fill: rgb(76, 114, 176); fill-opacity: 1;\"/><path class=\"point\" transform=\"translate(427.36,70.64)\" d=\"M1,0A1,1 0 1,1 0,-1A1,1 0 0,1 1,0Z\" style=\"opacity: 1; stroke-width: 0px; fill: rgb(76, 114, 176); fill-opacity: 1;\"/><path class=\"point\" transform=\"translate(427.84,58.62)\" d=\"M1,0A1,1 0 1,1 0,-1A1,1 0 0,1 1,0Z\" style=\"opacity: 1; stroke-width: 0px; fill: rgb(76, 114, 176); fill-opacity: 1;\"/><path class=\"point\" transform=\"translate(428.32,66.63)\" d=\"M1,0A1,1 0 1,1 0,-1A1,1 0 0,1 1,0Z\" style=\"opacity: 1; stroke-width: 0px; fill: rgb(76, 114, 176); fill-opacity: 1;\"/><path class=\"point\" transform=\"translate(428.8,81.23)\" d=\"M1,0A1,1 0 1,1 0,-1A1,1 0 0,1 1,0Z\" style=\"opacity: 1; stroke-width: 0px; fill: rgb(76, 114, 176); fill-opacity: 1;\"/><path class=\"point\" transform=\"translate(429.28,74.39)\" d=\"M1,0A1,1 0 1,1 0,-1A1,1 0 0,1 1,0Z\" style=\"opacity: 1; stroke-width: 0px; fill: rgb(76, 114, 176); fill-opacity: 1;\"/><path class=\"point\" transform=\"translate(429.76,69.05)\" d=\"M1,0A1,1 0 1,1 0,-1A1,1 0 0,1 1,0Z\" style=\"opacity: 1; stroke-width: 0px; fill: rgb(76, 114, 176); fill-opacity: 1;\"/><path class=\"point\" transform=\"translate(430.24,70.2)\" d=\"M1,0A1,1 0 1,1 0,-1A1,1 0 0,1 1,0Z\" style=\"opacity: 1; stroke-width: 0px; fill: rgb(76, 114, 176); fill-opacity: 1;\"/><path class=\"point\" transform=\"translate(430.72,69.94)\" d=\"M1,0A1,1 0 1,1 0,-1A1,1 0 0,1 1,0Z\" style=\"opacity: 1; stroke-width: 0px; fill: rgb(76, 114, 176); fill-opacity: 1;\"/><path class=\"point\" transform=\"translate(431.2,61.15)\" d=\"M1,0A1,1 0 1,1 0,-1A1,1 0 0,1 1,0Z\" style=\"opacity: 1; stroke-width: 0px; fill: rgb(76, 114, 176); fill-opacity: 1;\"/><path class=\"point\" transform=\"translate(431.68,68.6)\" d=\"M1,0A1,1 0 1,1 0,-1A1,1 0 0,1 1,0Z\" style=\"opacity: 1; stroke-width: 0px; fill: rgb(76, 114, 176); fill-opacity: 1;\"/><path class=\"point\" transform=\"translate(432.16,92.56)\" d=\"M1,0A1,1 0 1,1 0,-1A1,1 0 0,1 1,0Z\" style=\"opacity: 1; stroke-width: 0px; fill: rgb(76, 114, 176); fill-opacity: 1;\"/><path class=\"point\" transform=\"translate(432.64,84.55)\" d=\"M1,0A1,1 0 1,1 0,-1A1,1 0 0,1 1,0Z\" style=\"opacity: 1; stroke-width: 0px; fill: rgb(76, 114, 176); fill-opacity: 1;\"/><path class=\"point\" transform=\"translate(433.12,96.78)\" d=\"M1,0A1,1 0 1,1 0,-1A1,1 0 0,1 1,0Z\" style=\"opacity: 1; stroke-width: 0px; fill: rgb(76, 114, 176); fill-opacity: 1;\"/><path class=\"point\" transform=\"translate(433.6,59.59)\" d=\"M1,0A1,1 0 1,1 0,-1A1,1 0 0,1 1,0Z\" style=\"opacity: 1; stroke-width: 0px; fill: rgb(76, 114, 176); fill-opacity: 1;\"/><path class=\"point\" transform=\"translate(434.08,57.83)\" d=\"M1,0A1,1 0 1,1 0,-1A1,1 0 0,1 1,0Z\" style=\"opacity: 1; stroke-width: 0px; fill: rgb(76, 114, 176); fill-opacity: 1;\"/><path class=\"point\" transform=\"translate(434.56,89.07)\" d=\"M1,0A1,1 0 1,1 0,-1A1,1 0 0,1 1,0Z\" style=\"opacity: 1; stroke-width: 0px; fill: rgb(76, 114, 176); fill-opacity: 1;\"/><path class=\"point\" transform=\"translate(435.05,85.12)\" d=\"M1,0A1,1 0 1,1 0,-1A1,1 0 0,1 1,0Z\" style=\"opacity: 1; stroke-width: 0px; fill: rgb(76, 114, 176); fill-opacity: 1;\"/><path class=\"point\" transform=\"translate(435.53,57.29)\" d=\"M1,0A1,1 0 1,1 0,-1A1,1 0 0,1 1,0Z\" style=\"opacity: 1; stroke-width: 0px; fill: rgb(76, 114, 176); fill-opacity: 1;\"/><path class=\"point\" transform=\"translate(436.01,88.81)\" d=\"M1,0A1,1 0 1,1 0,-1A1,1 0 0,1 1,0Z\" style=\"opacity: 1; stroke-width: 0px; fill: rgb(76, 114, 176); fill-opacity: 1;\"/><path class=\"point\" transform=\"translate(436.49,74.06)\" d=\"M1,0A1,1 0 1,1 0,-1A1,1 0 0,1 1,0Z\" style=\"opacity: 1; stroke-width: 0px; fill: rgb(76, 114, 176); fill-opacity: 1;\"/><path class=\"point\" transform=\"translate(436.97,63.83)\" d=\"M1,0A1,1 0 1,1 0,-1A1,1 0 0,1 1,0Z\" style=\"opacity: 1; stroke-width: 0px; fill: rgb(76, 114, 176); fill-opacity: 1;\"/><path class=\"point\" transform=\"translate(437.45,54.92)\" d=\"M1,0A1,1 0 1,1 0,-1A1,1 0 0,1 1,0Z\" style=\"opacity: 1; stroke-width: 0px; fill: rgb(76, 114, 176); fill-opacity: 1;\"/><path class=\"point\" transform=\"translate(437.93,66.07)\" d=\"M1,0A1,1 0 1,1 0,-1A1,1 0 0,1 1,0Z\" style=\"opacity: 1; stroke-width: 0px; fill: rgb(76, 114, 176); fill-opacity: 1;\"/><path class=\"point\" transform=\"translate(438.41,90.9)\" d=\"M1,0A1,1 0 1,1 0,-1A1,1 0 0,1 1,0Z\" style=\"opacity: 1; stroke-width: 0px; fill: rgb(76, 114, 176); fill-opacity: 1;\"/><path class=\"point\" transform=\"translate(438.89,59.85)\" d=\"M1,0A1,1 0 1,1 0,-1A1,1 0 0,1 1,0Z\" style=\"opacity: 1; stroke-width: 0px; fill: rgb(76, 114, 176); fill-opacity: 1;\"/><path class=\"point\" transform=\"translate(439.37,86.35)\" d=\"M1,0A1,1 0 1,1 0,-1A1,1 0 0,1 1,0Z\" style=\"opacity: 1; stroke-width: 0px; fill: rgb(76, 114, 176); fill-opacity: 1;\"/><path class=\"point\" transform=\"translate(439.85,83.87)\" d=\"M1,0A1,1 0 1,1 0,-1A1,1 0 0,1 1,0Z\" style=\"opacity: 1; stroke-width: 0px; fill: rgb(76, 114, 176); fill-opacity: 1;\"/><path class=\"point\" transform=\"translate(440.33,73.63)\" d=\"M1,0A1,1 0 1,1 0,-1A1,1 0 0,1 1,0Z\" style=\"opacity: 1; stroke-width: 0px; fill: rgb(76, 114, 176); fill-opacity: 1;\"/><path class=\"point\" transform=\"translate(440.81,77.69)\" d=\"M1,0A1,1 0 1,1 0,-1A1,1 0 0,1 1,0Z\" style=\"opacity: 1; stroke-width: 0px; fill: rgb(76, 114, 176); fill-opacity: 1;\"/><path class=\"point\" transform=\"translate(441.29,51.11)\" d=\"M1,0A1,1 0 1,1 0,-1A1,1 0 0,1 1,0Z\" style=\"opacity: 1; stroke-width: 0px; fill: rgb(76, 114, 176); fill-opacity: 1;\"/><path class=\"point\" transform=\"translate(441.77,72.41)\" d=\"M1,0A1,1 0 1,1 0,-1A1,1 0 0,1 1,0Z\" style=\"opacity: 1; stroke-width: 0px; fill: rgb(76, 114, 176); fill-opacity: 1;\"/><path class=\"point\" transform=\"translate(442.25,82.13)\" d=\"M1,0A1,1 0 1,1 0,-1A1,1 0 0,1 1,0Z\" style=\"opacity: 1; stroke-width: 0px; fill: rgb(76, 114, 176); fill-opacity: 1;\"/><path class=\"point\" transform=\"translate(442.73,80.39)\" d=\"M1,0A1,1 0 1,1 0,-1A1,1 0 0,1 1,0Z\" style=\"opacity: 1; stroke-width: 0px; fill: rgb(76, 114, 176); fill-opacity: 1;\"/><path class=\"point\" transform=\"translate(443.21,82.73)\" d=\"M1,0A1,1 0 1,1 0,-1A1,1 0 0,1 1,0Z\" style=\"opacity: 1; stroke-width: 0px; fill: rgb(76, 114, 176); fill-opacity: 1;\"/><path class=\"point\" transform=\"translate(443.69,73.4)\" d=\"M1,0A1,1 0 1,1 0,-1A1,1 0 0,1 1,0Z\" style=\"opacity: 1; stroke-width: 0px; fill: rgb(76, 114, 176); fill-opacity: 1;\"/><path class=\"point\" transform=\"translate(444.17,81.06)\" d=\"M1,0A1,1 0 1,1 0,-1A1,1 0 0,1 1,0Z\" style=\"opacity: 1; stroke-width: 0px; fill: rgb(76, 114, 176); fill-opacity: 1;\"/><path class=\"point\" transform=\"translate(444.65,70.43)\" d=\"M1,0A1,1 0 1,1 0,-1A1,1 0 0,1 1,0Z\" style=\"opacity: 1; stroke-width: 0px; fill: rgb(76, 114, 176); fill-opacity: 1;\"/><path class=\"point\" transform=\"translate(445.14,53.71)\" d=\"M1,0A1,1 0 1,1 0,-1A1,1 0 0,1 1,0Z\" style=\"opacity: 1; stroke-width: 0px; fill: rgb(76, 114, 176); fill-opacity: 1;\"/><path class=\"point\" transform=\"translate(445.62,76.1)\" d=\"M1,0A1,1 0 1,1 0,-1A1,1 0 0,1 1,0Z\" style=\"opacity: 1; stroke-width: 0px; fill: rgb(76, 114, 176); fill-opacity: 1;\"/><path class=\"point\" transform=\"translate(446.1,78.01)\" d=\"M1,0A1,1 0 1,1 0,-1A1,1 0 0,1 1,0Z\" style=\"opacity: 1; stroke-width: 0px; fill: rgb(76, 114, 176); fill-opacity: 1;\"/><path class=\"point\" transform=\"translate(446.58,74.75)\" d=\"M1,0A1,1 0 1,1 0,-1A1,1 0 0,1 1,0Z\" style=\"opacity: 1; stroke-width: 0px; fill: rgb(76, 114, 176); fill-opacity: 1;\"/><path class=\"point\" transform=\"translate(447.06,48.74)\" d=\"M1,0A1,1 0 1,1 0,-1A1,1 0 0,1 1,0Z\" style=\"opacity: 1; stroke-width: 0px; fill: rgb(76, 114, 176); fill-opacity: 1;\"/><path class=\"point\" transform=\"translate(447.54,56.02)\" d=\"M1,0A1,1 0 1,1 0,-1A1,1 0 0,1 1,0Z\" style=\"opacity: 1; stroke-width: 0px; fill: rgb(76, 114, 176); fill-opacity: 1;\"/><path class=\"point\" transform=\"translate(448.02,58.91)\" d=\"M1,0A1,1 0 1,1 0,-1A1,1 0 0,1 1,0Z\" style=\"opacity: 1; stroke-width: 0px; fill: rgb(76, 114, 176); fill-opacity: 1;\"/><path class=\"point\" transform=\"translate(448.5,67.58)\" d=\"M1,0A1,1 0 1,1 0,-1A1,1 0 0,1 1,0Z\" style=\"opacity: 1; stroke-width: 0px; fill: rgb(76, 114, 176); fill-opacity: 1;\"/><path class=\"point\" transform=\"translate(448.98,87.22)\" d=\"M1,0A1,1 0 1,1 0,-1A1,1 0 0,1 1,0Z\" style=\"opacity: 1; stroke-width: 0px; fill: rgb(76, 114, 176); fill-opacity: 1;\"/><path class=\"point\" transform=\"translate(449.46,84.97)\" d=\"M1,0A1,1 0 1,1 0,-1A1,1 0 0,1 1,0Z\" style=\"opacity: 1; stroke-width: 0px; fill: rgb(76, 114, 176); fill-opacity: 1;\"/><path class=\"point\" transform=\"translate(449.94,68.16)\" d=\"M1,0A1,1 0 1,1 0,-1A1,1 0 0,1 1,0Z\" style=\"opacity: 1; stroke-width: 0px; fill: rgb(76, 114, 176); fill-opacity: 1;\"/><path class=\"point\" transform=\"translate(450.42,51.29)\" d=\"M1,0A1,1 0 1,1 0,-1A1,1 0 0,1 1,0Z\" style=\"opacity: 1; stroke-width: 0px; fill: rgb(76, 114, 176); fill-opacity: 1;\"/><path class=\"point\" transform=\"translate(450.9,80.6)\" d=\"M1,0A1,1 0 1,1 0,-1A1,1 0 0,1 1,0Z\" style=\"opacity: 1; stroke-width: 0px; fill: rgb(76, 114, 176); fill-opacity: 1;\"/><path class=\"point\" transform=\"translate(451.38,56.1)\" d=\"M1,0A1,1 0 1,1 0,-1A1,1 0 0,1 1,0Z\" style=\"opacity: 1; stroke-width: 0px; fill: rgb(76, 114, 176); fill-opacity: 1;\"/><path class=\"point\" transform=\"translate(451.86,49.74)\" d=\"M1,0A1,1 0 1,1 0,-1A1,1 0 0,1 1,0Z\" style=\"opacity: 1; stroke-width: 0px; fill: rgb(76, 114, 176); fill-opacity: 1;\"/><path class=\"point\" transform=\"translate(452.34,72.03)\" d=\"M1,0A1,1 0 1,1 0,-1A1,1 0 0,1 1,0Z\" style=\"opacity: 1; stroke-width: 0px; fill: rgb(76, 114, 176); fill-opacity: 1;\"/><path class=\"point\" transform=\"translate(452.82,60.96)\" d=\"M1,0A1,1 0 1,1 0,-1A1,1 0 0,1 1,0Z\" style=\"opacity: 1; stroke-width: 0px; fill: rgb(76, 114, 176); fill-opacity: 1;\"/><path class=\"point\" transform=\"translate(453.3,82.43)\" d=\"M1,0A1,1 0 1,1 0,-1A1,1 0 0,1 1,0Z\" style=\"opacity: 1; stroke-width: 0px; fill: rgb(76, 114, 176); fill-opacity: 1;\"/><path class=\"point\" transform=\"translate(453.78,63.9)\" d=\"M1,0A1,1 0 1,1 0,-1A1,1 0 0,1 1,0Z\" style=\"opacity: 1; stroke-width: 0px; fill: rgb(76, 114, 176); fill-opacity: 1;\"/><path class=\"point\" transform=\"translate(454.26,68.04)\" d=\"M1,0A1,1 0 1,1 0,-1A1,1 0 0,1 1,0Z\" style=\"opacity: 1; stroke-width: 0px; fill: rgb(76, 114, 176); fill-opacity: 1;\"/><path class=\"point\" transform=\"translate(454.74,75.03)\" d=\"M1,0A1,1 0 1,1 0,-1A1,1 0 0,1 1,0Z\" style=\"opacity: 1; stroke-width: 0px; fill: rgb(76, 114, 176); fill-opacity: 1;\"/><path class=\"point\" transform=\"translate(455.23,46.83)\" d=\"M1,0A1,1 0 1,1 0,-1A1,1 0 0,1 1,0Z\" style=\"opacity: 1; stroke-width: 0px; fill: rgb(76, 114, 176); fill-opacity: 1;\"/><path class=\"point\" transform=\"translate(455.71,64.58)\" d=\"M1,0A1,1 0 1,1 0,-1A1,1 0 0,1 1,0Z\" style=\"opacity: 1; stroke-width: 0px; fill: rgb(76, 114, 176); fill-opacity: 1;\"/><path class=\"point\" transform=\"translate(456.19,64.76)\" d=\"M1,0A1,1 0 1,1 0,-1A1,1 0 0,1 1,0Z\" style=\"opacity: 1; stroke-width: 0px; fill: rgb(76, 114, 176); fill-opacity: 1;\"/><path class=\"point\" transform=\"translate(456.67,82.92)\" d=\"M1,0A1,1 0 1,1 0,-1A1,1 0 0,1 1,0Z\" style=\"opacity: 1; stroke-width: 0px; fill: rgb(76, 114, 176); fill-opacity: 1;\"/><path class=\"point\" transform=\"translate(457.15,48.57)\" d=\"M1,0A1,1 0 1,1 0,-1A1,1 0 0,1 1,0Z\" style=\"opacity: 1; stroke-width: 0px; fill: rgb(76, 114, 176); fill-opacity: 1;\"/><path class=\"point\" transform=\"translate(457.63,62.42)\" d=\"M1,0A1,1 0 1,1 0,-1A1,1 0 0,1 1,0Z\" style=\"opacity: 1; stroke-width: 0px; fill: rgb(76, 114, 176); fill-opacity: 1;\"/><path class=\"point\" transform=\"translate(458.11,77.86)\" d=\"M1,0A1,1 0 1,1 0,-1A1,1 0 0,1 1,0Z\" style=\"opacity: 1; stroke-width: 0px; fill: rgb(76, 114, 176); fill-opacity: 1;\"/><path class=\"point\" transform=\"translate(458.59,57.35)\" d=\"M1,0A1,1 0 1,1 0,-1A1,1 0 0,1 1,0Z\" style=\"opacity: 1; stroke-width: 0px; fill: rgb(76, 114, 176); fill-opacity: 1;\"/><path class=\"point\" transform=\"translate(459.07,70.36)\" d=\"M1,0A1,1 0 1,1 0,-1A1,1 0 0,1 1,0Z\" style=\"opacity: 1; stroke-width: 0px; fill: rgb(76, 114, 176); fill-opacity: 1;\"/><path class=\"point\" transform=\"translate(459.55,50.72)\" d=\"M1,0A1,1 0 1,1 0,-1A1,1 0 0,1 1,0Z\" style=\"opacity: 1; stroke-width: 0px; fill: rgb(76, 114, 176); fill-opacity: 1;\"/><path class=\"point\" transform=\"translate(460.03,51.88)\" d=\"M1,0A1,1 0 1,1 0,-1A1,1 0 0,1 1,0Z\" style=\"opacity: 1; stroke-width: 0px; fill: rgb(76, 114, 176); fill-opacity: 1;\"/><path class=\"point\" transform=\"translate(460.51,75.12)\" d=\"M1,0A1,1 0 1,1 0,-1A1,1 0 0,1 1,0Z\" style=\"opacity: 1; stroke-width: 0px; fill: rgb(76, 114, 176); fill-opacity: 1;\"/><path class=\"point\" transform=\"translate(460.99,75.81)\" d=\"M1,0A1,1 0 1,1 0,-1A1,1 0 0,1 1,0Z\" style=\"opacity: 1; stroke-width: 0px; fill: rgb(76, 114, 176); fill-opacity: 1;\"/><path class=\"point\" transform=\"translate(461.47,67.12)\" d=\"M1,0A1,1 0 1,1 0,-1A1,1 0 0,1 1,0Z\" style=\"opacity: 1; stroke-width: 0px; fill: rgb(76, 114, 176); fill-opacity: 1;\"/><path class=\"point\" transform=\"translate(461.95,44.03)\" d=\"M1,0A1,1 0 1,1 0,-1A1,1 0 0,1 1,0Z\" style=\"opacity: 1; stroke-width: 0px; fill: rgb(76, 114, 176); fill-opacity: 1;\"/><path class=\"point\" transform=\"translate(462.43,47.45)\" d=\"M1,0A1,1 0 1,1 0,-1A1,1 0 0,1 1,0Z\" style=\"opacity: 1; stroke-width: 0px; fill: rgb(76, 114, 176); fill-opacity: 1;\"/><path class=\"point\" transform=\"translate(462.91,75.42)\" d=\"M1,0A1,1 0 1,1 0,-1A1,1 0 0,1 1,0Z\" style=\"opacity: 1; stroke-width: 0px; fill: rgb(76, 114, 176); fill-opacity: 1;\"/><path class=\"point\" transform=\"translate(463.39,46.2)\" d=\"M1,0A1,1 0 1,1 0,-1A1,1 0 0,1 1,0Z\" style=\"opacity: 1; stroke-width: 0px; fill: rgb(76, 114, 176); fill-opacity: 1;\"/><path class=\"point\" transform=\"translate(463.87,52.52)\" d=\"M1,0A1,1 0 1,1 0,-1A1,1 0 0,1 1,0Z\" style=\"opacity: 1; stroke-width: 0px; fill: rgb(76, 114, 176); fill-opacity: 1;\"/><path class=\"point\" transform=\"translate(464.35,47.22)\" d=\"M1,0A1,1 0 1,1 0,-1A1,1 0 0,1 1,0Z\" style=\"opacity: 1; stroke-width: 0px; fill: rgb(76, 114, 176); fill-opacity: 1;\"/><path class=\"point\" transform=\"translate(464.83,57.11)\" d=\"M1,0A1,1 0 1,1 0,-1A1,1 0 0,1 1,0Z\" style=\"opacity: 1; stroke-width: 0px; fill: rgb(76, 114, 176); fill-opacity: 1;\"/><path class=\"point\" transform=\"translate(465.32,74.46)\" d=\"M1,0A1,1 0 1,1 0,-1A1,1 0 0,1 1,0Z\" style=\"opacity: 1; stroke-width: 0px; fill: rgb(76, 114, 176); fill-opacity: 1;\"/><path class=\"point\" transform=\"translate(465.8,40.76)\" d=\"M1,0A1,1 0 1,1 0,-1A1,1 0 0,1 1,0Z\" style=\"opacity: 1; stroke-width: 0px; fill: rgb(76, 114, 176); fill-opacity: 1;\"/><path class=\"point\" transform=\"translate(466.28,37.9)\" d=\"M1,0A1,1 0 1,1 0,-1A1,1 0 0,1 1,0Z\" style=\"opacity: 1; stroke-width: 0px; fill: rgb(76, 114, 176); fill-opacity: 1;\"/><path class=\"point\" transform=\"translate(466.76,73.78)\" d=\"M1,0A1,1 0 1,1 0,-1A1,1 0 0,1 1,0Z\" style=\"opacity: 1; stroke-width: 0px; fill: rgb(76, 114, 176); fill-opacity: 1;\"/><path class=\"point\" transform=\"translate(467.24,70.57)\" d=\"M1,0A1,1 0 1,1 0,-1A1,1 0 0,1 1,0Z\" style=\"opacity: 1; stroke-width: 0px; fill: rgb(76, 114, 176); fill-opacity: 1;\"/><path class=\"point\" transform=\"translate(467.72,56.93)\" d=\"M1,0A1,1 0 1,1 0,-1A1,1 0 0,1 1,0Z\" style=\"opacity: 1; stroke-width: 0px; fill: rgb(76, 114, 176); fill-opacity: 1;\"/><path class=\"point\" transform=\"translate(468.2,63.14)\" d=\"M1,0A1,1 0 1,1 0,-1A1,1 0 0,1 1,0Z\" style=\"opacity: 1; stroke-width: 0px; fill: rgb(76, 114, 176); fill-opacity: 1;\"/><path class=\"point\" transform=\"translate(468.68,40.22)\" d=\"M1,0A1,1 0 1,1 0,-1A1,1 0 0,1 1,0Z\" style=\"opacity: 1; stroke-width: 0px; fill: rgb(76, 114, 176); fill-opacity: 1;\"/><path class=\"point\" transform=\"translate(469.16,56.8)\" d=\"M1,0A1,1 0 1,1 0,-1A1,1 0 0,1 1,0Z\" style=\"opacity: 1; stroke-width: 0px; fill: rgb(76, 114, 176); fill-opacity: 1;\"/><path class=\"point\" transform=\"translate(469.64,55.93)\" d=\"M1,0A1,1 0 1,1 0,-1A1,1 0 0,1 1,0Z\" style=\"opacity: 1; stroke-width: 0px; fill: rgb(76, 114, 176); fill-opacity: 1;\"/><path class=\"point\" transform=\"translate(470.12,57.82)\" d=\"M1,0A1,1 0 1,1 0,-1A1,1 0 0,1 1,0Z\" style=\"opacity: 1; stroke-width: 0px; fill: rgb(76, 114, 176); fill-opacity: 1;\"/><path class=\"point\" transform=\"translate(470.6,48.85)\" d=\"M1,0A1,1 0 1,1 0,-1A1,1 0 0,1 1,0Z\" style=\"opacity: 1; stroke-width: 0px; fill: rgb(76, 114, 176); fill-opacity: 1;\"/><path class=\"point\" transform=\"translate(471.08,57.16)\" d=\"M1,0A1,1 0 1,1 0,-1A1,1 0 0,1 1,0Z\" style=\"opacity: 1; stroke-width: 0px; fill: rgb(76, 114, 176); fill-opacity: 1;\"/><path class=\"point\" transform=\"translate(471.56,50.79)\" d=\"M1,0A1,1 0 1,1 0,-1A1,1 0 0,1 1,0Z\" style=\"opacity: 1; stroke-width: 0px; fill: rgb(76, 114, 176); fill-opacity: 1;\"/><path class=\"point\" transform=\"translate(472.04,42.51)\" d=\"M1,0A1,1 0 1,1 0,-1A1,1 0 0,1 1,0Z\" style=\"opacity: 1; stroke-width: 0px; fill: rgb(76, 114, 176); fill-opacity: 1;\"/><path class=\"point\" transform=\"translate(472.52,54.96)\" d=\"M1,0A1,1 0 1,1 0,-1A1,1 0 0,1 1,0Z\" style=\"opacity: 1; stroke-width: 0px; fill: rgb(76, 114, 176); fill-opacity: 1;\"/><path class=\"point\" transform=\"translate(473,62.28)\" d=\"M1,0A1,1 0 1,1 0,-1A1,1 0 0,1 1,0Z\" style=\"opacity: 1; stroke-width: 0px; fill: rgb(76, 114, 176); fill-opacity: 1;\"/><path class=\"point\" transform=\"translate(473.48,40.84)\" d=\"M1,0A1,1 0 1,1 0,-1A1,1 0 0,1 1,0Z\" style=\"opacity: 1; stroke-width: 0px; fill: rgb(76, 114, 176); fill-opacity: 1;\"/><path class=\"point\" transform=\"translate(473.96,61.07)\" d=\"M1,0A1,1 0 1,1 0,-1A1,1 0 0,1 1,0Z\" style=\"opacity: 1; stroke-width: 0px; fill: rgb(76, 114, 176); fill-opacity: 1;\"/><path class=\"point\" transform=\"translate(474.44,69.97)\" d=\"M1,0A1,1 0 1,1 0,-1A1,1 0 0,1 1,0Z\" style=\"opacity: 1; stroke-width: 0px; fill: rgb(76, 114, 176); fill-opacity: 1;\"/><path class=\"point\" transform=\"translate(474.92,69.14)\" d=\"M1,0A1,1 0 1,1 0,-1A1,1 0 0,1 1,0Z\" style=\"opacity: 1; stroke-width: 0px; fill: rgb(76, 114, 176); fill-opacity: 1;\"/><path class=\"point\" transform=\"translate(475.41,57.06)\" d=\"M1,0A1,1 0 1,1 0,-1A1,1 0 0,1 1,0Z\" style=\"opacity: 1; stroke-width: 0px; fill: rgb(76, 114, 176); fill-opacity: 1;\"/><path class=\"point\" transform=\"translate(475.89,34.65)\" d=\"M1,0A1,1 0 1,1 0,-1A1,1 0 0,1 1,0Z\" style=\"opacity: 1; stroke-width: 0px; fill: rgb(76, 114, 176); fill-opacity: 1;\"/><path class=\"point\" transform=\"translate(476.37,69.65)\" d=\"M1,0A1,1 0 1,1 0,-1A1,1 0 0,1 1,0Z\" style=\"opacity: 1; stroke-width: 0px; fill: rgb(76, 114, 176); fill-opacity: 1;\"/><path class=\"point\" transform=\"translate(476.85,44.05)\" d=\"M1,0A1,1 0 1,1 0,-1A1,1 0 0,1 1,0Z\" style=\"opacity: 1; stroke-width: 0px; fill: rgb(76, 114, 176); fill-opacity: 1;\"/><path class=\"point\" transform=\"translate(477.33,47.73)\" d=\"M1,0A1,1 0 1,1 0,-1A1,1 0 0,1 1,0Z\" style=\"opacity: 1; stroke-width: 0px; fill: rgb(76, 114, 176); fill-opacity: 1;\"/><path class=\"point\" transform=\"translate(477.81,33.78)\" d=\"M1,0A1,1 0 1,1 0,-1A1,1 0 0,1 1,0Z\" style=\"opacity: 1; stroke-width: 0px; fill: rgb(76, 114, 176); fill-opacity: 1;\"/><path class=\"point\" transform=\"translate(478.29,43.82)\" d=\"M1,0A1,1 0 1,1 0,-1A1,1 0 0,1 1,0Z\" style=\"opacity: 1; stroke-width: 0px; fill: rgb(76, 114, 176); fill-opacity: 1;\"/><path class=\"point\" transform=\"translate(478.77,44.47)\" d=\"M1,0A1,1 0 1,1 0,-1A1,1 0 0,1 1,0Z\" style=\"opacity: 1; stroke-width: 0px; fill: rgb(76, 114, 176); fill-opacity: 1;\"/><path class=\"point\" transform=\"translate(479.25,57.72)\" d=\"M1,0A1,1 0 1,1 0,-1A1,1 0 0,1 1,0Z\" style=\"opacity: 1; stroke-width: 0px; fill: rgb(76, 114, 176); fill-opacity: 1;\"/><path class=\"point\" transform=\"translate(479.73,51.47)\" d=\"M1,0A1,1 0 1,1 0,-1A1,1 0 0,1 1,0Z\" style=\"opacity: 1; stroke-width: 0px; fill: rgb(76, 114, 176); fill-opacity: 1;\"/><path class=\"point\" transform=\"translate(480.21,43.69)\" d=\"M1,0A1,1 0 1,1 0,-1A1,1 0 0,1 1,0Z\" style=\"opacity: 1; stroke-width: 0px; fill: rgb(76, 114, 176); fill-opacity: 1;\"/><path class=\"point\" transform=\"translate(480.69,35.57)\" d=\"M1,0A1,1 0 1,1 0,-1A1,1 0 0,1 1,0Z\" style=\"opacity: 1; stroke-width: 0px; fill: rgb(76, 114, 176); fill-opacity: 1;\"/><path class=\"point\" transform=\"translate(481.17,62.68)\" d=\"M1,0A1,1 0 1,1 0,-1A1,1 0 0,1 1,0Z\" style=\"opacity: 1; stroke-width: 0px; fill: rgb(76, 114, 176); fill-opacity: 1;\"/><path class=\"point\" transform=\"translate(481.65,29.81)\" d=\"M1,0A1,1 0 1,1 0,-1A1,1 0 0,1 1,0Z\" style=\"opacity: 1; stroke-width: 0px; fill: rgb(76, 114, 176); fill-opacity: 1;\"/><path class=\"point\" transform=\"translate(482.13,67.37)\" d=\"M1,0A1,1 0 1,1 0,-1A1,1 0 0,1 1,0Z\" style=\"opacity: 1; stroke-width: 0px; fill: rgb(76, 114, 176); fill-opacity: 1;\"/><path class=\"point\" transform=\"translate(482.61,47.17)\" d=\"M1,0A1,1 0 1,1 0,-1A1,1 0 0,1 1,0Z\" style=\"opacity: 1; stroke-width: 0px; fill: rgb(76, 114, 176); fill-opacity: 1;\"/><path class=\"point\" transform=\"translate(483.09,58.09)\" d=\"M1,0A1,1 0 1,1 0,-1A1,1 0 0,1 1,0Z\" style=\"opacity: 1; stroke-width: 0px; fill: rgb(76, 114, 176); fill-opacity: 1;\"/><path class=\"point\" transform=\"translate(483.57,37.53)\" d=\"M1,0A1,1 0 1,1 0,-1A1,1 0 0,1 1,0Z\" style=\"opacity: 1; stroke-width: 0px; fill: rgb(76, 114, 176); fill-opacity: 1;\"/><path class=\"point\" transform=\"translate(484.05,54.27)\" d=\"M1,0A1,1 0 1,1 0,-1A1,1 0 0,1 1,0Z\" style=\"opacity: 1; stroke-width: 0px; fill: rgb(76, 114, 176); fill-opacity: 1;\"/><path class=\"point\" transform=\"translate(484.53,35.96)\" d=\"M1,0A1,1 0 1,1 0,-1A1,1 0 0,1 1,0Z\" style=\"opacity: 1; stroke-width: 0px; fill: rgb(76, 114, 176); fill-opacity: 1;\"/><path class=\"point\" transform=\"translate(485.02,33.52)\" d=\"M1,0A1,1 0 1,1 0,-1A1,1 0 0,1 1,0Z\" style=\"opacity: 1; stroke-width: 0px; fill: rgb(76, 114, 176); fill-opacity: 1;\"/><path class=\"point\" transform=\"translate(485.5,46.77)\" d=\"M1,0A1,1 0 1,1 0,-1A1,1 0 0,1 1,0Z\" style=\"opacity: 1; stroke-width: 0px; fill: rgb(76, 114, 176); fill-opacity: 1;\"/><path class=\"point\" transform=\"translate(485.98,56.07)\" d=\"M1,0A1,1 0 1,1 0,-1A1,1 0 0,1 1,0Z\" style=\"opacity: 1; stroke-width: 0px; fill: rgb(76, 114, 176); fill-opacity: 1;\"/><path class=\"point\" transform=\"translate(486.46,31.96)\" d=\"M1,0A1,1 0 1,1 0,-1A1,1 0 0,1 1,0Z\" style=\"opacity: 1; stroke-width: 0px; fill: rgb(76, 114, 176); fill-opacity: 1;\"/><path class=\"point\" transform=\"translate(486.94,42.59)\" d=\"M1,0A1,1 0 1,1 0,-1A1,1 0 0,1 1,0Z\" style=\"opacity: 1; stroke-width: 0px; fill: rgb(76, 114, 176); fill-opacity: 1;\"/><path class=\"point\" transform=\"translate(487.42,29.65)\" d=\"M1,0A1,1 0 1,1 0,-1A1,1 0 0,1 1,0Z\" style=\"opacity: 1; stroke-width: 0px; fill: rgb(76, 114, 176); fill-opacity: 1;\"/><path class=\"point\" transform=\"translate(487.9,26.84)\" d=\"M1,0A1,1 0 1,1 0,-1A1,1 0 0,1 1,0Z\" style=\"opacity: 1; stroke-width: 0px; fill: rgb(76, 114, 176); fill-opacity: 1;\"/><path class=\"point\" transform=\"translate(488.38,44.73)\" d=\"M1,0A1,1 0 1,1 0,-1A1,1 0 0,1 1,0Z\" style=\"opacity: 1; stroke-width: 0px; fill: rgb(76, 114, 176); fill-opacity: 1;\"/><path class=\"point\" transform=\"translate(488.86,44.17)\" d=\"M1,0A1,1 0 1,1 0,-1A1,1 0 0,1 1,0Z\" style=\"opacity: 1; stroke-width: 0px; fill: rgb(76, 114, 176); fill-opacity: 1;\"/><path class=\"point\" transform=\"translate(489.34,30.34)\" d=\"M1,0A1,1 0 1,1 0,-1A1,1 0 0,1 1,0Z\" style=\"opacity: 1; stroke-width: 0px; fill: rgb(76, 114, 176); fill-opacity: 1;\"/><path class=\"point\" transform=\"translate(489.82,60.56)\" d=\"M1,0A1,1 0 1,1 0,-1A1,1 0 0,1 1,0Z\" style=\"opacity: 1; stroke-width: 0px; fill: rgb(76, 114, 176); fill-opacity: 1;\"/><path class=\"point\" transform=\"translate(490.3,54.17)\" d=\"M1,0A1,1 0 1,1 0,-1A1,1 0 0,1 1,0Z\" style=\"opacity: 1; stroke-width: 0px; fill: rgb(76, 114, 176); fill-opacity: 1;\"/><path class=\"point\" transform=\"translate(490.78,58.45)\" d=\"M1,0A1,1 0 1,1 0,-1A1,1 0 0,1 1,0Z\" style=\"opacity: 1; stroke-width: 0px; fill: rgb(76, 114, 176); fill-opacity: 1;\"/><path class=\"point\" transform=\"translate(491.26,31.54)\" d=\"M1,0A1,1 0 1,1 0,-1A1,1 0 0,1 1,0Z\" style=\"opacity: 1; stroke-width: 0px; fill: rgb(76, 114, 176); fill-opacity: 1;\"/><path class=\"point\" transform=\"translate(491.74,38.03)\" d=\"M1,0A1,1 0 1,1 0,-1A1,1 0 0,1 1,0Z\" style=\"opacity: 1; stroke-width: 0px; fill: rgb(76, 114, 176); fill-opacity: 1;\"/><path class=\"point\" transform=\"translate(492.22,41.71)\" d=\"M1,0A1,1 0 1,1 0,-1A1,1 0 0,1 1,0Z\" style=\"opacity: 1; stroke-width: 0px; fill: rgb(76, 114, 176); fill-opacity: 1;\"/><path class=\"point\" transform=\"translate(492.7,52.91)\" d=\"M1,0A1,1 0 1,1 0,-1A1,1 0 0,1 1,0Z\" style=\"opacity: 1; stroke-width: 0px; fill: rgb(76, 114, 176); fill-opacity: 1;\"/><path class=\"point\" transform=\"translate(493.18,31.31)\" d=\"M1,0A1,1 0 1,1 0,-1A1,1 0 0,1 1,0Z\" style=\"opacity: 1; stroke-width: 0px; fill: rgb(76, 114, 176); fill-opacity: 1;\"/><path class=\"point\" transform=\"translate(493.66,25.76)\" d=\"M1,0A1,1 0 1,1 0,-1A1,1 0 0,1 1,0Z\" style=\"opacity: 1; stroke-width: 0px; fill: rgb(76, 114, 176); fill-opacity: 1;\"/><path class=\"point\" transform=\"translate(494.14,49.35)\" d=\"M1,0A1,1 0 1,1 0,-1A1,1 0 0,1 1,0Z\" style=\"opacity: 1; stroke-width: 0px; fill: rgb(76, 114, 176); fill-opacity: 1;\"/><path class=\"point\" transform=\"translate(494.62,62.43)\" d=\"M1,0A1,1 0 1,1 0,-1A1,1 0 0,1 1,0Z\" style=\"opacity: 1; stroke-width: 0px; fill: rgb(76, 114, 176); fill-opacity: 1;\"/><path class=\"point\" transform=\"translate(495.11,31.53)\" d=\"M1,0A1,1 0 1,1 0,-1A1,1 0 0,1 1,0Z\" style=\"opacity: 1; stroke-width: 0px; fill: rgb(76, 114, 176); fill-opacity: 1;\"/><path class=\"point\" transform=\"translate(495.59,55.18)\" d=\"M1,0A1,1 0 1,1 0,-1A1,1 0 0,1 1,0Z\" style=\"opacity: 1; stroke-width: 0px; fill: rgb(76, 114, 176); fill-opacity: 1;\"/><path class=\"point\" transform=\"translate(496.07,63.11)\" d=\"M1,0A1,1 0 1,1 0,-1A1,1 0 0,1 1,0Z\" style=\"opacity: 1; stroke-width: 0px; fill: rgb(76, 114, 176); fill-opacity: 1;\"/><path class=\"point\" transform=\"translate(496.55,27.05)\" d=\"M1,0A1,1 0 1,1 0,-1A1,1 0 0,1 1,0Z\" style=\"opacity: 1; stroke-width: 0px; fill: rgb(76, 114, 176); fill-opacity: 1;\"/><path class=\"point\" transform=\"translate(497.03,48.27)\" d=\"M1,0A1,1 0 1,1 0,-1A1,1 0 0,1 1,0Z\" style=\"opacity: 1; stroke-width: 0px; fill: rgb(76, 114, 176); fill-opacity: 1;\"/><path class=\"point\" transform=\"translate(497.51,35.26)\" d=\"M1,0A1,1 0 1,1 0,-1A1,1 0 0,1 1,0Z\" style=\"opacity: 1; stroke-width: 0px; fill: rgb(76, 114, 176); fill-opacity: 1;\"/><path class=\"point\" transform=\"translate(497.99,30.19)\" d=\"M1,0A1,1 0 1,1 0,-1A1,1 0 0,1 1,0Z\" style=\"opacity: 1; stroke-width: 0px; fill: rgb(76, 114, 176); fill-opacity: 1;\"/><path class=\"point\" transform=\"translate(498.47,59.11)\" d=\"M1,0A1,1 0 1,1 0,-1A1,1 0 0,1 1,0Z\" style=\"opacity: 1; stroke-width: 0px; fill: rgb(76, 114, 176); fill-opacity: 1;\"/><path class=\"point\" transform=\"translate(498.95,28.18)\" d=\"M1,0A1,1 0 1,1 0,-1A1,1 0 0,1 1,0Z\" style=\"opacity: 1; stroke-width: 0px; fill: rgb(76, 114, 176); fill-opacity: 1;\"/><path class=\"point\" transform=\"translate(499.43,53.65)\" d=\"M1,0A1,1 0 1,1 0,-1A1,1 0 0,1 1,0Z\" style=\"opacity: 1; stroke-width: 0px; fill: rgb(76, 114, 176); fill-opacity: 1;\"/><path class=\"point\" transform=\"translate(499.91,22.39)\" d=\"M1,0A1,1 0 1,1 0,-1A1,1 0 0,1 1,0Z\" style=\"opacity: 1; stroke-width: 0px; fill: rgb(76, 114, 176); fill-opacity: 1;\"/><path class=\"point\" transform=\"translate(500.39,38.26)\" d=\"M1,0A1,1 0 1,1 0,-1A1,1 0 0,1 1,0Z\" style=\"opacity: 1; stroke-width: 0px; fill: rgb(76, 114, 176); fill-opacity: 1;\"/><path class=\"point\" transform=\"translate(500.87,22.58)\" d=\"M1,0A1,1 0 1,1 0,-1A1,1 0 0,1 1,0Z\" style=\"opacity: 1; stroke-width: 0px; fill: rgb(76, 114, 176); fill-opacity: 1;\"/><path class=\"point\" transform=\"translate(501.35,38.31)\" d=\"M1,0A1,1 0 1,1 0,-1A1,1 0 0,1 1,0Z\" style=\"opacity: 1; stroke-width: 0px; fill: rgb(76, 114, 176); fill-opacity: 1;\"/><path class=\"point\" transform=\"translate(501.83,52.49)\" d=\"M1,0A1,1 0 1,1 0,-1A1,1 0 0,1 1,0Z\" style=\"opacity: 1; stroke-width: 0px; fill: rgb(76, 114, 176); fill-opacity: 1;\"/><path class=\"point\" transform=\"translate(502.31,20.34)\" d=\"M1,0A1,1 0 1,1 0,-1A1,1 0 0,1 1,0Z\" style=\"opacity: 1; stroke-width: 0px; fill: rgb(76, 114, 176); fill-opacity: 1;\"/><path class=\"point\" transform=\"translate(502.79,32.81)\" d=\"M1,0A1,1 0 1,1 0,-1A1,1 0 0,1 1,0Z\" style=\"opacity: 1; stroke-width: 0px; fill: rgb(76, 114, 176); fill-opacity: 1;\"/><path class=\"point\" transform=\"translate(503.27,19.05)\" d=\"M1,0A1,1 0 1,1 0,-1A1,1 0 0,1 1,0Z\" style=\"opacity: 1; stroke-width: 0px; fill: rgb(76, 114, 176); fill-opacity: 1;\"/><path class=\"point\" transform=\"translate(503.75,21.28)\" d=\"M1,0A1,1 0 1,1 0,-1A1,1 0 0,1 1,0Z\" style=\"opacity: 1; stroke-width: 0px; fill: rgb(76, 114, 176); fill-opacity: 1;\"/><path class=\"point\" transform=\"translate(504.23,45)\" d=\"M1,0A1,1 0 1,1 0,-1A1,1 0 0,1 1,0Z\" style=\"opacity: 1; stroke-width: 0px; fill: rgb(76, 114, 176); fill-opacity: 1;\"/><path class=\"point\" transform=\"translate(504.71,20.89)\" d=\"M1,0A1,1 0 1,1 0,-1A1,1 0 0,1 1,0Z\" style=\"opacity: 1; stroke-width: 0px; fill: rgb(76, 114, 176); fill-opacity: 1;\"/><path class=\"point\" transform=\"translate(505.2,31.5)\" d=\"M1,0A1,1 0 1,1 0,-1A1,1 0 0,1 1,0Z\" style=\"opacity: 1; stroke-width: 0px; fill: rgb(76, 114, 176); fill-opacity: 1;\"/><path class=\"point\" transform=\"translate(505.68,33.51)\" d=\"M1,0A1,1 0 1,1 0,-1A1,1 0 0,1 1,0Z\" style=\"opacity: 1; stroke-width: 0px; fill: rgb(76, 114, 176); fill-opacity: 1;\"/><path class=\"point\" transform=\"translate(506.16,19)\" d=\"M1,0A1,1 0 1,1 0,-1A1,1 0 0,1 1,0Z\" style=\"opacity: 1; stroke-width: 0px; fill: rgb(76, 114, 176); fill-opacity: 1;\"/><path class=\"point\" transform=\"translate(506.64,34.13)\" d=\"M1,0A1,1 0 1,1 0,-1A1,1 0 0,1 1,0Z\" style=\"opacity: 1; stroke-width: 0px; fill: rgb(76, 114, 176); fill-opacity: 1;\"/><path class=\"point\" transform=\"translate(507.12,57.46)\" d=\"M1,0A1,1 0 1,1 0,-1A1,1 0 0,1 1,0Z\" style=\"opacity: 1; stroke-width: 0px; fill: rgb(76, 114, 176); fill-opacity: 1;\"/><path class=\"point\" transform=\"translate(507.6,37.13)\" d=\"M1,0A1,1 0 1,1 0,-1A1,1 0 0,1 1,0Z\" style=\"opacity: 1; stroke-width: 0px; fill: rgb(76, 114, 176); fill-opacity: 1;\"/><path class=\"point\" transform=\"translate(508.08,44.75)\" d=\"M1,0A1,1 0 1,1 0,-1A1,1 0 0,1 1,0Z\" style=\"opacity: 1; stroke-width: 0px; fill: rgb(76, 114, 176); fill-opacity: 1;\"/><path class=\"point\" transform=\"translate(508.56,26.21)\" d=\"M1,0A1,1 0 1,1 0,-1A1,1 0 0,1 1,0Z\" style=\"opacity: 1; stroke-width: 0px; fill: rgb(76, 114, 176); fill-opacity: 1;\"/><path class=\"point\" transform=\"translate(509.04,30.27)\" d=\"M1,0A1,1 0 1,1 0,-1A1,1 0 0,1 1,0Z\" style=\"opacity: 1; stroke-width: 0px; fill: rgb(76, 114, 176); fill-opacity: 1;\"/><path class=\"point\" transform=\"translate(509.52,47.57)\" d=\"M1,0A1,1 0 1,1 0,-1A1,1 0 0,1 1,0Z\" style=\"opacity: 1; stroke-width: 0px; fill: rgb(76, 114, 176); fill-opacity: 1;\"/><path class=\"point\" transform=\"translate(510,33.93)\" d=\"M1,0A1,1 0 1,1 0,-1A1,1 0 0,1 1,0Z\" style=\"opacity: 1; stroke-width: 0px; fill: rgb(76, 114, 176); fill-opacity: 1;\"/></g><g class=\"text\"/></g><g class=\"trace scatter tracee9c359\" style=\"stroke-miterlimit: 2; opacity: 1;\"><g class=\"fills\"/><g class=\"errorbars\"/><g class=\"lines\"><path class=\"js-line\" d=\"M30,287L83.81,258.7L84.29,258.45L257.75,167.27L258.23,167.01L431.68,75.83L432.16,75.57L510,34.65\" style=\"vector-effect: non-scaling-stroke; fill: none; stroke: rgb(255, 0, 0); stroke-opacity: 1; stroke-width: 2px; opacity: 1;\"/></g><g class=\"points\"/><g class=\"text\"/></g></g></g><g class=\"overplot\"/><path class=\"xlines-above crisp\" d=\"M0,0\" style=\"fill: none;\"/><path class=\"ylines-above crisp\" d=\"M0,0\" style=\"fill: none;\"/><g class=\"overlines-above\"/><g class=\"xaxislayer-above\"><g class=\"xtick\"><text text-anchor=\"middle\" x=\"0\" y=\"433\" transform=\"translate(110,0)\" style=\"font-family: 'Open Sans', verdana, arial, sans-serif; font-size: 12px; fill: rgb(36, 36, 36); fill-opacity: 1; white-space: pre; opacity: 1;\">0</text></g><g class=\"xtick\"><text text-anchor=\"middle\" x=\"0\" y=\"433\" style=\"font-family: 'Open Sans', verdana, arial, sans-serif; font-size: 12px; fill: rgb(36, 36, 36); fill-opacity: 1; white-space: pre; opacity: 1;\" transform=\"translate(206.1,0)\">20</text></g><g class=\"xtick\"><text text-anchor=\"middle\" x=\"0\" y=\"433\" style=\"font-family: 'Open Sans', verdana, arial, sans-serif; font-size: 12px; fill: rgb(36, 36, 36); fill-opacity: 1; white-space: pre; opacity: 1;\" transform=\"translate(302.19,0)\">40</text></g><g class=\"xtick\"><text text-anchor=\"middle\" x=\"0\" y=\"433\" style=\"font-family: 'Open Sans', verdana, arial, sans-serif; font-size: 12px; fill: rgb(36, 36, 36); fill-opacity: 1; white-space: pre; opacity: 1;\" transform=\"translate(398.29,0)\">60</text></g><g class=\"xtick\"><text text-anchor=\"middle\" x=\"0\" y=\"433\" style=\"font-family: 'Open Sans', verdana, arial, sans-serif; font-size: 12px; fill: rgb(36, 36, 36); fill-opacity: 1; white-space: pre; opacity: 1;\" transform=\"translate(494.38,0)\">80</text></g><g class=\"xtick\"><text text-anchor=\"middle\" x=\"0\" y=\"433\" style=\"font-family: 'Open Sans', verdana, arial, sans-serif; font-size: 12px; fill: rgb(36, 36, 36); fill-opacity: 1; white-space: pre; opacity: 1;\" transform=\"translate(590.48,0)\">100</text></g></g><g class=\"yaxislayer-above\"><g class=\"ytick\"><text text-anchor=\"end\" x=\"79\" y=\"4.199999999999999\" transform=\"translate(0,402.77)\" style=\"font-family: 'Open Sans', verdana, arial, sans-serif; font-size: 12px; fill: rgb(36, 36, 36); fill-opacity: 1; white-space: pre; opacity: 1;\">100</text></g><g class=\"ytick\"><text text-anchor=\"end\" x=\"79\" y=\"4.199999999999999\" style=\"font-family: 'Open Sans', verdana, arial, sans-serif; font-size: 12px; fill: rgb(36, 36, 36); fill-opacity: 1; white-space: pre; opacity: 1;\" transform=\"translate(0,360.86)\">200</text></g><g class=\"ytick\"><text text-anchor=\"end\" x=\"79\" y=\"4.199999999999999\" style=\"font-family: 'Open Sans', verdana, arial, sans-serif; font-size: 12px; fill: rgb(36, 36, 36); fill-opacity: 1; white-space: pre; opacity: 1;\" transform=\"translate(0,318.95)\">300</text></g><g class=\"ytick\"><text text-anchor=\"end\" x=\"79\" y=\"4.199999999999999\" style=\"font-family: 'Open Sans', verdana, arial, sans-serif; font-size: 12px; fill: rgb(36, 36, 36); fill-opacity: 1; white-space: pre; opacity: 1;\" transform=\"translate(0,277.03)\">400</text></g><g class=\"ytick\"><text text-anchor=\"end\" x=\"79\" y=\"4.199999999999999\" style=\"font-family: 'Open Sans', verdana, arial, sans-serif; font-size: 12px; fill: rgb(36, 36, 36); fill-opacity: 1; white-space: pre; opacity: 1;\" transform=\"translate(0,235.12)\">500</text></g><g class=\"ytick\"><text text-anchor=\"end\" x=\"79\" y=\"4.199999999999999\" style=\"font-family: 'Open Sans', verdana, arial, sans-serif; font-size: 12px; fill: rgb(36, 36, 36); fill-opacity: 1; white-space: pre; opacity: 1;\" transform=\"translate(0,193.20999999999998)\">600</text></g><g class=\"ytick\"><text text-anchor=\"end\" x=\"79\" y=\"4.199999999999999\" style=\"font-family: 'Open Sans', verdana, arial, sans-serif; font-size: 12px; fill: rgb(36, 36, 36); fill-opacity: 1; white-space: pre; opacity: 1;\" transform=\"translate(0,151.3)\">700</text></g><g class=\"ytick\"><text text-anchor=\"end\" x=\"79\" y=\"4.199999999999999\" style=\"font-family: 'Open Sans', verdana, arial, sans-serif; font-size: 12px; fill: rgb(36, 36, 36); fill-opacity: 1; white-space: pre; opacity: 1;\" transform=\"translate(0,109.39)\">800</text></g></g><g class=\"overaxes-above\"/></g></g><g class=\"polarlayer\"/><g class=\"smithlayer\"/><g class=\"ternarylayer\"/><g class=\"geolayer\"/><g class=\"funnelarealayer\"/><g class=\"pielayer\"/><g class=\"iciclelayer\"/><g class=\"treemaplayer\"/><g class=\"sunburstlayer\"/><g class=\"glimages\"/><defs id=\"topdefs-8c48d5\"><g class=\"clips\"/></defs><g class=\"layer-above\"><g class=\"imagelayer\"/><g class=\"shapelayer\"/></g><g class=\"infolayer\"><g class=\"g-gtitle\"><text class=\"gtitle\" x=\"350\" y=\"50\" text-anchor=\"middle\" dy=\"0em\" style=\"font-family: 'Open Sans', verdana, arial, sans-serif; font-size: 17px; fill: rgb(36, 36, 36); opacity: 1; font-weight: normal; white-space: pre;\">Ordinary Least Squares (Y = 6X + 88)</text></g><g class=\"g-xtitle\"><text class=\"xtitle\" x=\"350\" y=\"460.8\" text-anchor=\"middle\" style=\"font-family: 'Open Sans', verdana, arial, sans-serif; font-size: 14px; fill: rgb(36, 36, 36); opacity: 1; font-weight: normal; white-space: pre;\">x</text></g><g class=\"g-ytitle\"><text class=\"ytitle\" transform=\"rotate(-90,31.309375000000003,260)\" x=\"31.309375000000003\" y=\"260\" text-anchor=\"middle\" style=\"font-family: 'Open Sans', verdana, arial, sans-serif; font-size: 14px; fill: rgb(36, 36, 36); opacity: 1; font-weight: normal; white-space: pre;\">y</text></g></g></svg>"
     },
     "metadata": {},
     "output_type": "display_data"
    }
   ],
   "source": [
    "# Generate random data\n",
    "x_rand, y_rand, (y_slope, y_int) = generate_random_data()\n",
    "\n",
    "# Apply OLS\n",
    "ols_m, ols_b = ols(x_rand, y_rand)\n",
    "print(f\"OLS Fit: Y = {ols_m}X + {ols_b}\")\n",
    "print(f\"Slope Error: {(abs(y_slope - ols_m)) /y_slope *100:.2f}%\")\n",
    "print(f\"Intercept Error: {(abs(y_int - ols_b)) /y_int *100:.2f}%\")\n",
    "\n",
    "# Add the Scatter Plot of Random Points\n",
    "fig = px.scatter(\n",
    "    x=x_rand,\n",
    "    y=y_rand,\n",
    "    title=f\"Ordinary Least Squares (Y = {y_slope}X + {y_int})\",\n",
    ")\n",
    "\n",
    "# Update markers size\n",
    "fig.update_traces(marker=dict(size=2))\n",
    "\n",
    "# Plot the Best Fit Line from OLS\n",
    "fig.add_traces(\n",
    "    px.line(\n",
    "        x=x_rand,\n",
    "        y=get_line(x_rand, ols_m, ols_b),\n",
    "        color_discrete_sequence=[\"red\"],\n",
    "    ).data\n",
    ")\n",
    "\n",
    "fig.show(\"svg\")"
   ],
   "metadata": {
    "collapsed": false,
    "pycharm": {
     "name": "#%%\n"
    }
   }
  },
  {
   "cell_type": "markdown",
   "source": [
    "### Simple Linear Regression\n",
    "Linear Model: **$y= \\beta _0 + \\beta _1 \\cdot x $**\n",
    "\n",
    "Slope: **$\n",
    "\\beta _1 =  \\frac{S _{xy}}{S _{xx}}\n",
    "         = \\frac{\\sum (x _i - \\bar x)(y _i - \\bar y)}{\\sum (x _i - \\bar x) ^2}\n",
    "$**\n",
    "\n",
    "Intercept: **$\n",
    "\\beta _0 = \\bar y - \\beta _1 \\bar x\n",
    "$**"
   ],
   "metadata": {
    "collapsed": false,
    "pycharm": {
     "name": "#%% md\n"
    }
   }
  },
  {
   "cell_type": "code",
   "execution_count": 14,
   "outputs": [],
   "source": [
    "def slr(X, Y):\n",
    "    \"\"\"\n",
    "    Simple Linear Regression\n",
    "    :param X: X values\n",
    "    :param Y: Y values\n",
    "    :return: (slope, intercept)\n",
    "    \"\"\"\n",
    "\n",
    "    # Calculate Means\n",
    "    x_avg = np.mean(X)\n",
    "    y_avg = np.mean(Y)\n",
    "\n",
    "    # Calculate Sx = xi - x_avg\n",
    "    sx = X - x_avg\n",
    "\n",
    "    # Calculate Sxx\n",
    "    sxx = np.sum(sx ** 2)\n",
    "\n",
    "    # Calculate Sxy\n",
    "    sxy = np.dot((X-x_avg), (Y-y_avg))\n",
    "\n",
    "    # Calculate Slope\n",
    "    slope = sxy / sxx\n",
    "\n",
    "    # Calculate Intercept\n",
    "    intercept = y_avg - slope * x_avg\n",
    "\n",
    "    return round(slope, 3), round(intercept, 3)"
   ],
   "metadata": {
    "collapsed": false,
    "pycharm": {
     "name": "#%%\n"
    }
   }
  },
  {
   "cell_type": "code",
   "execution_count": 15,
   "outputs": [
    {
     "name": "stdout",
     "output_type": "stream",
     "text": [
      "SLR Fit: Y = 6.027X + 137.631\n",
      "Slope Error: 0.45%\n",
      "Intercept Error: 56.40%\n"
     ]
    },
    {
     "data": {
      "image/svg+xml": "<svg class=\"main-svg\" xmlns=\"http://www.w3.org/2000/svg\" xmlns:xlink=\"http://www.w3.org/1999/xlink\" width=\"700\" height=\"500\" style=\"\" viewBox=\"0 0 700 500\"><rect x=\"0\" y=\"0\" width=\"700\" height=\"500\" style=\"fill: rgb(255, 255, 255); fill-opacity: 1;\"/><defs id=\"defs-d69dbf\"><g class=\"clips\"><clipPath id=\"clipd69dbfxyplot\" class=\"plotclip\"><rect width=\"540\" height=\"320\"/></clipPath><clipPath class=\"axesclip\" id=\"clipd69dbfx\"><rect x=\"80\" y=\"0\" width=\"540\" height=\"500\"/></clipPath><clipPath class=\"axesclip\" id=\"clipd69dbfy\"><rect x=\"0\" y=\"100\" width=\"700\" height=\"320\"/></clipPath><clipPath class=\"axesclip\" id=\"clipd69dbfxy\"><rect x=\"80\" y=\"100\" width=\"540\" height=\"320\"/></clipPath></g><g class=\"gradients\"/><g class=\"patterns\"/></defs><g class=\"bglayer\"><rect class=\"bg\" x=\"80\" y=\"100\" width=\"540\" height=\"320\" style=\"fill: rgb(234, 234, 242); fill-opacity: 1; stroke-width: 0;\"/></g><g class=\"layer-below\"><g class=\"imagelayer\"/><g class=\"shapelayer\"/></g><g class=\"cartesianlayer\"><g class=\"subplot xy\"><g class=\"layer-subplot\"><g class=\"shapelayer\"/><g class=\"imagelayer\"/></g><g class=\"minor-gridlayer\"><g class=\"x\"/><g class=\"y\"/></g><g class=\"gridlayer\"><g class=\"x\"><path class=\"xgrid crisp\" transform=\"translate(206.1,0)\" d=\"M0,100v320\" style=\"stroke: rgb(255, 255, 255); stroke-opacity: 1; stroke-width: 1px;\"/><path class=\"xgrid crisp\" transform=\"translate(302.19,0)\" d=\"M0,100v320\" style=\"stroke: rgb(255, 255, 255); stroke-opacity: 1; stroke-width: 1px;\"/><path class=\"xgrid crisp\" transform=\"translate(398.29,0)\" d=\"M0,100v320\" style=\"stroke: rgb(255, 255, 255); stroke-opacity: 1; stroke-width: 1px;\"/><path class=\"xgrid crisp\" transform=\"translate(494.38,0)\" d=\"M0,100v320\" style=\"stroke: rgb(255, 255, 255); stroke-opacity: 1; stroke-width: 1px;\"/><path class=\"xgrid crisp\" transform=\"translate(590.48,0)\" d=\"M0,100v320\" style=\"stroke: rgb(255, 255, 255); stroke-opacity: 1; stroke-width: 1px;\"/></g><g class=\"y\"><path class=\"ygrid crisp\" transform=\"translate(0,402.77)\" d=\"M80,0h540\" style=\"stroke: rgb(255, 255, 255); stroke-opacity: 1; stroke-width: 1px;\"/><path class=\"ygrid crisp\" transform=\"translate(0,360.86)\" d=\"M80,0h540\" style=\"stroke: rgb(255, 255, 255); stroke-opacity: 1; stroke-width: 1px;\"/><path class=\"ygrid crisp\" transform=\"translate(0,318.95)\" d=\"M80,0h540\" style=\"stroke: rgb(255, 255, 255); stroke-opacity: 1; stroke-width: 1px;\"/><path class=\"ygrid crisp\" transform=\"translate(0,277.03)\" d=\"M80,0h540\" style=\"stroke: rgb(255, 255, 255); stroke-opacity: 1; stroke-width: 1px;\"/><path class=\"ygrid crisp\" transform=\"translate(0,235.12)\" d=\"M80,0h540\" style=\"stroke: rgb(255, 255, 255); stroke-opacity: 1; stroke-width: 1px;\"/><path class=\"ygrid crisp\" transform=\"translate(0,193.20999999999998)\" d=\"M80,0h540\" style=\"stroke: rgb(255, 255, 255); stroke-opacity: 1; stroke-width: 1px;\"/><path class=\"ygrid crisp\" transform=\"translate(0,151.3)\" d=\"M80,0h540\" style=\"stroke: rgb(255, 255, 255); stroke-opacity: 1; stroke-width: 1px;\"/><path class=\"ygrid crisp\" transform=\"translate(0,109.39)\" d=\"M80,0h540\" style=\"stroke: rgb(255, 255, 255); stroke-opacity: 1; stroke-width: 1px;\"/></g></g><g class=\"zerolinelayer\"><path class=\"xzl zl crisp\" transform=\"translate(110,0)\" d=\"M0,100v320\" style=\"stroke: rgb(255, 255, 255); stroke-opacity: 1; stroke-width: 1px;\"/></g><path class=\"xlines-below\"/><path class=\"ylines-below\"/><g class=\"overlines-below\"/><g class=\"xaxislayer-below\"/><g class=\"yaxislayer-below\"/><g class=\"overaxes-below\"/><g class=\"plot\" transform=\"translate(80,100)\" clip-path=\"url(#clipd69dbfxyplot)\"><g class=\"scatterlayer mlayer\"><g class=\"trace scatter trace99e13a\" style=\"stroke-miterlimit: 2; opacity: 1;\"><g class=\"fills\"/><g class=\"errorbars\"/><g class=\"lines\"/><g class=\"points\"><path class=\"point\" transform=\"translate(30,287.33)\" d=\"M1,0A1,1 0 1,1 0,-1A1,1 0 0,1 1,0Z\" style=\"opacity: 1; stroke-width: 0px; fill: rgb(76, 114, 176); fill-opacity: 1;\"/><path class=\"point\" transform=\"translate(30.48,285.53)\" d=\"M1,0A1,1 0 1,1 0,-1A1,1 0 0,1 1,0Z\" style=\"opacity: 1; stroke-width: 0px; fill: rgb(76, 114, 176); fill-opacity: 1;\"/><path class=\"point\" transform=\"translate(30.96,265.7)\" d=\"M1,0A1,1 0 1,1 0,-1A1,1 0 0,1 1,0Z\" style=\"opacity: 1; stroke-width: 0px; fill: rgb(76, 114, 176); fill-opacity: 1;\"/><path class=\"point\" transform=\"translate(31.44,266.19)\" d=\"M1,0A1,1 0 1,1 0,-1A1,1 0 0,1 1,0Z\" style=\"opacity: 1; stroke-width: 0px; fill: rgb(76, 114, 176); fill-opacity: 1;\"/><path class=\"point\" transform=\"translate(31.92,287.64)\" d=\"M1,0A1,1 0 1,1 0,-1A1,1 0 0,1 1,0Z\" style=\"opacity: 1; stroke-width: 0px; fill: rgb(76, 114, 176); fill-opacity: 1;\"/><path class=\"point\" transform=\"translate(32.4,269.12)\" d=\"M1,0A1,1 0 1,1 0,-1A1,1 0 0,1 1,0Z\" style=\"opacity: 1; stroke-width: 0px; fill: rgb(76, 114, 176); fill-opacity: 1;\"/><path class=\"point\" transform=\"translate(32.88,294.58)\" d=\"M1,0A1,1 0 1,1 0,-1A1,1 0 0,1 1,0Z\" style=\"opacity: 1; stroke-width: 0px; fill: rgb(76, 114, 176); fill-opacity: 1;\"/><path class=\"point\" transform=\"translate(33.36,300.57)\" d=\"M1,0A1,1 0 1,1 0,-1A1,1 0 0,1 1,0Z\" style=\"opacity: 1; stroke-width: 0px; fill: rgb(76, 114, 176); fill-opacity: 1;\"/><path class=\"point\" transform=\"translate(33.84,282.18)\" d=\"M1,0A1,1 0 1,1 0,-1A1,1 0 0,1 1,0Z\" style=\"opacity: 1; stroke-width: 0px; fill: rgb(76, 114, 176); fill-opacity: 1;\"/><path class=\"point\" transform=\"translate(34.32,276.55)\" d=\"M1,0A1,1 0 1,1 0,-1A1,1 0 0,1 1,0Z\" style=\"opacity: 1; stroke-width: 0px; fill: rgb(76, 114, 176); fill-opacity: 1;\"/><path class=\"point\" transform=\"translate(34.8,293.03)\" d=\"M1,0A1,1 0 1,1 0,-1A1,1 0 0,1 1,0Z\" style=\"opacity: 1; stroke-width: 0px; fill: rgb(76, 114, 176); fill-opacity: 1;\"/><path class=\"point\" transform=\"translate(35.29,270.02)\" d=\"M1,0A1,1 0 1,1 0,-1A1,1 0 0,1 1,0Z\" style=\"opacity: 1; stroke-width: 0px; fill: rgb(76, 114, 176); fill-opacity: 1;\"/><path class=\"point\" transform=\"translate(35.77,286.15)\" d=\"M1,0A1,1 0 1,1 0,-1A1,1 0 0,1 1,0Z\" style=\"opacity: 1; stroke-width: 0px; fill: rgb(76, 114, 176); fill-opacity: 1;\"/><path class=\"point\" transform=\"translate(36.25,283.24)\" d=\"M1,0A1,1 0 1,1 0,-1A1,1 0 0,1 1,0Z\" style=\"opacity: 1; stroke-width: 0px; fill: rgb(76, 114, 176); fill-opacity: 1;\"/><path class=\"point\" transform=\"translate(36.73,297.09)\" d=\"M1,0A1,1 0 1,1 0,-1A1,1 0 0,1 1,0Z\" style=\"opacity: 1; stroke-width: 0px; fill: rgb(76, 114, 176); fill-opacity: 1;\"/><path class=\"point\" transform=\"translate(37.21,268.85)\" d=\"M1,0A1,1 0 1,1 0,-1A1,1 0 0,1 1,0Z\" style=\"opacity: 1; stroke-width: 0px; fill: rgb(76, 114, 176); fill-opacity: 1;\"/><path class=\"point\" transform=\"translate(37.69,262.53)\" d=\"M1,0A1,1 0 1,1 0,-1A1,1 0 0,1 1,0Z\" style=\"opacity: 1; stroke-width: 0px; fill: rgb(76, 114, 176); fill-opacity: 1;\"/><path class=\"point\" transform=\"translate(38.17,273.75)\" d=\"M1,0A1,1 0 1,1 0,-1A1,1 0 0,1 1,0Z\" style=\"opacity: 1; stroke-width: 0px; fill: rgb(76, 114, 176); fill-opacity: 1;\"/><path class=\"point\" transform=\"translate(38.65,297.14)\" d=\"M1,0A1,1 0 1,1 0,-1A1,1 0 0,1 1,0Z\" style=\"opacity: 1; stroke-width: 0px; fill: rgb(76, 114, 176); fill-opacity: 1;\"/><path class=\"point\" transform=\"translate(39.13,295.24)\" d=\"M1,0A1,1 0 1,1 0,-1A1,1 0 0,1 1,0Z\" style=\"opacity: 1; stroke-width: 0px; fill: rgb(76, 114, 176); fill-opacity: 1;\"/><path class=\"point\" transform=\"translate(39.61,289.86)\" d=\"M1,0A1,1 0 1,1 0,-1A1,1 0 0,1 1,0Z\" style=\"opacity: 1; stroke-width: 0px; fill: rgb(76, 114, 176); fill-opacity: 1;\"/><path class=\"point\" transform=\"translate(40.09,272.92)\" d=\"M1,0A1,1 0 1,1 0,-1A1,1 0 0,1 1,0Z\" style=\"opacity: 1; stroke-width: 0px; fill: rgb(76, 114, 176); fill-opacity: 1;\"/><path class=\"point\" transform=\"translate(40.57,277.83)\" d=\"M1,0A1,1 0 1,1 0,-1A1,1 0 0,1 1,0Z\" style=\"opacity: 1; stroke-width: 0px; fill: rgb(76, 114, 176); fill-opacity: 1;\"/><path class=\"point\" transform=\"translate(41.05,301)\" d=\"M1,0A1,1 0 1,1 0,-1A1,1 0 0,1 1,0Z\" style=\"opacity: 1; stroke-width: 0px; fill: rgb(76, 114, 176); fill-opacity: 1;\"/><path class=\"point\" transform=\"translate(41.53,290.55)\" d=\"M1,0A1,1 0 1,1 0,-1A1,1 0 0,1 1,0Z\" style=\"opacity: 1; stroke-width: 0px; fill: rgb(76, 114, 176); fill-opacity: 1;\"/><path class=\"point\" transform=\"translate(42.01,262.8)\" d=\"M1,0A1,1 0 1,1 0,-1A1,1 0 0,1 1,0Z\" style=\"opacity: 1; stroke-width: 0px; fill: rgb(76, 114, 176); fill-opacity: 1;\"/><path class=\"point\" transform=\"translate(42.49,299.09)\" d=\"M1,0A1,1 0 1,1 0,-1A1,1 0 0,1 1,0Z\" style=\"opacity: 1; stroke-width: 0px; fill: rgb(76, 114, 176); fill-opacity: 1;\"/><path class=\"point\" transform=\"translate(42.97,275.8)\" d=\"M1,0A1,1 0 1,1 0,-1A1,1 0 0,1 1,0Z\" style=\"opacity: 1; stroke-width: 0px; fill: rgb(76, 114, 176); fill-opacity: 1;\"/><path class=\"point\" transform=\"translate(43.45,297.55)\" d=\"M1,0A1,1 0 1,1 0,-1A1,1 0 0,1 1,0Z\" style=\"opacity: 1; stroke-width: 0px; fill: rgb(76, 114, 176); fill-opacity: 1;\"/><path class=\"point\" transform=\"translate(43.93,265.65)\" d=\"M1,0A1,1 0 1,1 0,-1A1,1 0 0,1 1,0Z\" style=\"opacity: 1; stroke-width: 0px; fill: rgb(76, 114, 176); fill-opacity: 1;\"/><path class=\"point\" transform=\"translate(44.41,300.07)\" d=\"M1,0A1,1 0 1,1 0,-1A1,1 0 0,1 1,0Z\" style=\"opacity: 1; stroke-width: 0px; fill: rgb(76, 114, 176); fill-opacity: 1;\"/><path class=\"point\" transform=\"translate(44.89,299.23)\" d=\"M1,0A1,1 0 1,1 0,-1A1,1 0 0,1 1,0Z\" style=\"opacity: 1; stroke-width: 0px; fill: rgb(76, 114, 176); fill-opacity: 1;\"/><path class=\"point\" transform=\"translate(45.38,292.65)\" d=\"M1,0A1,1 0 1,1 0,-1A1,1 0 0,1 1,0Z\" style=\"opacity: 1; stroke-width: 0px; fill: rgb(76, 114, 176); fill-opacity: 1;\"/><path class=\"point\" transform=\"translate(45.86,259.97)\" d=\"M1,0A1,1 0 1,1 0,-1A1,1 0 0,1 1,0Z\" style=\"opacity: 1; stroke-width: 0px; fill: rgb(76, 114, 176); fill-opacity: 1;\"/><path class=\"point\" transform=\"translate(46.34,259.21)\" d=\"M1,0A1,1 0 1,1 0,-1A1,1 0 0,1 1,0Z\" style=\"opacity: 1; stroke-width: 0px; fill: rgb(76, 114, 176); fill-opacity: 1;\"/><path class=\"point\" transform=\"translate(46.82,258.22)\" d=\"M1,0A1,1 0 1,1 0,-1A1,1 0 0,1 1,0Z\" style=\"opacity: 1; stroke-width: 0px; fill: rgb(76, 114, 176); fill-opacity: 1;\"/><path class=\"point\" transform=\"translate(47.3,284.65)\" d=\"M1,0A1,1 0 1,1 0,-1A1,1 0 0,1 1,0Z\" style=\"opacity: 1; stroke-width: 0px; fill: rgb(76, 114, 176); fill-opacity: 1;\"/><path class=\"point\" transform=\"translate(47.78,281.12)\" d=\"M1,0A1,1 0 1,1 0,-1A1,1 0 0,1 1,0Z\" style=\"opacity: 1; stroke-width: 0px; fill: rgb(76, 114, 176); fill-opacity: 1;\"/><path class=\"point\" transform=\"translate(48.26,278.39)\" d=\"M1,0A1,1 0 1,1 0,-1A1,1 0 0,1 1,0Z\" style=\"opacity: 1; stroke-width: 0px; fill: rgb(76, 114, 176); fill-opacity: 1;\"/><path class=\"point\" transform=\"translate(48.74,256.99)\" d=\"M1,0A1,1 0 1,1 0,-1A1,1 0 0,1 1,0Z\" style=\"opacity: 1; stroke-width: 0px; fill: rgb(76, 114, 176); fill-opacity: 1;\"/><path class=\"point\" transform=\"translate(49.22,286.74)\" d=\"M1,0A1,1 0 1,1 0,-1A1,1 0 0,1 1,0Z\" style=\"opacity: 1; stroke-width: 0px; fill: rgb(76, 114, 176); fill-opacity: 1;\"/><path class=\"point\" transform=\"translate(49.7,278.06)\" d=\"M1,0A1,1 0 1,1 0,-1A1,1 0 0,1 1,0Z\" style=\"opacity: 1; stroke-width: 0px; fill: rgb(76, 114, 176); fill-opacity: 1;\"/><path class=\"point\" transform=\"translate(50.18,283.87)\" d=\"M1,0A1,1 0 1,1 0,-1A1,1 0 0,1 1,0Z\" style=\"opacity: 1; stroke-width: 0px; fill: rgb(76, 114, 176); fill-opacity: 1;\"/><path class=\"point\" transform=\"translate(50.66,286.19)\" d=\"M1,0A1,1 0 1,1 0,-1A1,1 0 0,1 1,0Z\" style=\"opacity: 1; stroke-width: 0px; fill: rgb(76, 114, 176); fill-opacity: 1;\"/><path class=\"point\" transform=\"translate(51.14,263.94)\" d=\"M1,0A1,1 0 1,1 0,-1A1,1 0 0,1 1,0Z\" style=\"opacity: 1; stroke-width: 0px; fill: rgb(76, 114, 176); fill-opacity: 1;\"/><path class=\"point\" transform=\"translate(51.62,258.99)\" d=\"M1,0A1,1 0 1,1 0,-1A1,1 0 0,1 1,0Z\" style=\"opacity: 1; stroke-width: 0px; fill: rgb(76, 114, 176); fill-opacity: 1;\"/><path class=\"point\" transform=\"translate(52.1,281.19)\" d=\"M1,0A1,1 0 1,1 0,-1A1,1 0 0,1 1,0Z\" style=\"opacity: 1; stroke-width: 0px; fill: rgb(76, 114, 176); fill-opacity: 1;\"/><path class=\"point\" transform=\"translate(52.58,264.68)\" d=\"M1,0A1,1 0 1,1 0,-1A1,1 0 0,1 1,0Z\" style=\"opacity: 1; stroke-width: 0px; fill: rgb(76, 114, 176); fill-opacity: 1;\"/><path class=\"point\" transform=\"translate(53.06,278.6)\" d=\"M1,0A1,1 0 1,1 0,-1A1,1 0 0,1 1,0Z\" style=\"opacity: 1; stroke-width: 0px; fill: rgb(76, 114, 176); fill-opacity: 1;\"/><path class=\"point\" transform=\"translate(53.54,275.78)\" d=\"M1,0A1,1 0 1,1 0,-1A1,1 0 0,1 1,0Z\" style=\"opacity: 1; stroke-width: 0px; fill: rgb(76, 114, 176); fill-opacity: 1;\"/><path class=\"point\" transform=\"translate(54.02,262.13)\" d=\"M1,0A1,1 0 1,1 0,-1A1,1 0 0,1 1,0Z\" style=\"opacity: 1; stroke-width: 0px; fill: rgb(76, 114, 176); fill-opacity: 1;\"/><path class=\"point\" transform=\"translate(54.5,290.78)\" d=\"M1,0A1,1 0 1,1 0,-1A1,1 0 0,1 1,0Z\" style=\"opacity: 1; stroke-width: 0px; fill: rgb(76, 114, 176); fill-opacity: 1;\"/><path class=\"point\" transform=\"translate(54.98,253.84)\" d=\"M1,0A1,1 0 1,1 0,-1A1,1 0 0,1 1,0Z\" style=\"opacity: 1; stroke-width: 0px; fill: rgb(76, 114, 176); fill-opacity: 1;\"/><path class=\"point\" transform=\"translate(55.47,264.75)\" d=\"M1,0A1,1 0 1,1 0,-1A1,1 0 0,1 1,0Z\" style=\"opacity: 1; stroke-width: 0px; fill: rgb(76, 114, 176); fill-opacity: 1;\"/><path class=\"point\" transform=\"translate(55.95,261.95)\" d=\"M1,0A1,1 0 1,1 0,-1A1,1 0 0,1 1,0Z\" style=\"opacity: 1; stroke-width: 0px; fill: rgb(76, 114, 176); fill-opacity: 1;\"/><path class=\"point\" transform=\"translate(56.43,279.24)\" d=\"M1,0A1,1 0 1,1 0,-1A1,1 0 0,1 1,0Z\" style=\"opacity: 1; stroke-width: 0px; fill: rgb(76, 114, 176); fill-opacity: 1;\"/><path class=\"point\" transform=\"translate(56.91,288.13)\" d=\"M1,0A1,1 0 1,1 0,-1A1,1 0 0,1 1,0Z\" style=\"opacity: 1; stroke-width: 0px; fill: rgb(76, 114, 176); fill-opacity: 1;\"/><path class=\"point\" transform=\"translate(57.39,274.76)\" d=\"M1,0A1,1 0 1,1 0,-1A1,1 0 0,1 1,0Z\" style=\"opacity: 1; stroke-width: 0px; fill: rgb(76, 114, 176); fill-opacity: 1;\"/><path class=\"point\" transform=\"translate(57.87,268.93)\" d=\"M1,0A1,1 0 1,1 0,-1A1,1 0 0,1 1,0Z\" style=\"opacity: 1; stroke-width: 0px; fill: rgb(76, 114, 176); fill-opacity: 1;\"/><path class=\"point\" transform=\"translate(58.35,267.18)\" d=\"M1,0A1,1 0 1,1 0,-1A1,1 0 0,1 1,0Z\" style=\"opacity: 1; stroke-width: 0px; fill: rgb(76, 114, 176); fill-opacity: 1;\"/><path class=\"point\" transform=\"translate(58.83,281.52)\" d=\"M1,0A1,1 0 1,1 0,-1A1,1 0 0,1 1,0Z\" style=\"opacity: 1; stroke-width: 0px; fill: rgb(76, 114, 176); fill-opacity: 1;\"/><path class=\"point\" transform=\"translate(59.31,262.24)\" d=\"M1,0A1,1 0 1,1 0,-1A1,1 0 0,1 1,0Z\" style=\"opacity: 1; stroke-width: 0px; fill: rgb(76, 114, 176); fill-opacity: 1;\"/><path class=\"point\" transform=\"translate(59.79,278.69)\" d=\"M1,0A1,1 0 1,1 0,-1A1,1 0 0,1 1,0Z\" style=\"opacity: 1; stroke-width: 0px; fill: rgb(76, 114, 176); fill-opacity: 1;\"/><path class=\"point\" transform=\"translate(60.27,285.45)\" d=\"M1,0A1,1 0 1,1 0,-1A1,1 0 0,1 1,0Z\" style=\"opacity: 1; stroke-width: 0px; fill: rgb(76, 114, 176); fill-opacity: 1;\"/><path class=\"point\" transform=\"translate(60.75,276.92)\" d=\"M1,0A1,1 0 1,1 0,-1A1,1 0 0,1 1,0Z\" style=\"opacity: 1; stroke-width: 0px; fill: rgb(76, 114, 176); fill-opacity: 1;\"/><path class=\"point\" transform=\"translate(61.23,281.33)\" d=\"M1,0A1,1 0 1,1 0,-1A1,1 0 0,1 1,0Z\" style=\"opacity: 1; stroke-width: 0px; fill: rgb(76, 114, 176); fill-opacity: 1;\"/><path class=\"point\" transform=\"translate(61.71,264.79)\" d=\"M1,0A1,1 0 1,1 0,-1A1,1 0 0,1 1,0Z\" style=\"opacity: 1; stroke-width: 0px; fill: rgb(76, 114, 176); fill-opacity: 1;\"/><path class=\"point\" transform=\"translate(62.19,271.92)\" d=\"M1,0A1,1 0 1,1 0,-1A1,1 0 0,1 1,0Z\" style=\"opacity: 1; stroke-width: 0px; fill: rgb(76, 114, 176); fill-opacity: 1;\"/><path class=\"point\" transform=\"translate(62.67,290.08)\" d=\"M1,0A1,1 0 1,1 0,-1A1,1 0 0,1 1,0Z\" style=\"opacity: 1; stroke-width: 0px; fill: rgb(76, 114, 176); fill-opacity: 1;\"/><path class=\"point\" transform=\"translate(63.15,287.32)\" d=\"M1,0A1,1 0 1,1 0,-1A1,1 0 0,1 1,0Z\" style=\"opacity: 1; stroke-width: 0px; fill: rgb(76, 114, 176); fill-opacity: 1;\"/><path class=\"point\" transform=\"translate(63.63,252.99)\" d=\"M1,0A1,1 0 1,1 0,-1A1,1 0 0,1 1,0Z\" style=\"opacity: 1; stroke-width: 0px; fill: rgb(76, 114, 176); fill-opacity: 1;\"/><path class=\"point\" transform=\"translate(64.11,264.94)\" d=\"M1,0A1,1 0 1,1 0,-1A1,1 0 0,1 1,0Z\" style=\"opacity: 1; stroke-width: 0px; fill: rgb(76, 114, 176); fill-opacity: 1;\"/><path class=\"point\" transform=\"translate(64.59,274.39)\" d=\"M1,0A1,1 0 1,1 0,-1A1,1 0 0,1 1,0Z\" style=\"opacity: 1; stroke-width: 0px; fill: rgb(76, 114, 176); fill-opacity: 1;\"/><path class=\"point\" transform=\"translate(65.08,269.35)\" d=\"M1,0A1,1 0 1,1 0,-1A1,1 0 0,1 1,0Z\" style=\"opacity: 1; stroke-width: 0px; fill: rgb(76, 114, 176); fill-opacity: 1;\"/><path class=\"point\" transform=\"translate(65.56,260.29)\" d=\"M1,0A1,1 0 1,1 0,-1A1,1 0 0,1 1,0Z\" style=\"opacity: 1; stroke-width: 0px; fill: rgb(76, 114, 176); fill-opacity: 1;\"/><path class=\"point\" transform=\"translate(66.04,250.1)\" d=\"M1,0A1,1 0 1,1 0,-1A1,1 0 0,1 1,0Z\" style=\"opacity: 1; stroke-width: 0px; fill: rgb(76, 114, 176); fill-opacity: 1;\"/><path class=\"point\" transform=\"translate(66.52,260.3)\" d=\"M1,0A1,1 0 1,1 0,-1A1,1 0 0,1 1,0Z\" style=\"opacity: 1; stroke-width: 0px; fill: rgb(76, 114, 176); fill-opacity: 1;\"/><path class=\"point\" transform=\"translate(67,268.93)\" d=\"M1,0A1,1 0 1,1 0,-1A1,1 0 0,1 1,0Z\" style=\"opacity: 1; stroke-width: 0px; fill: rgb(76, 114, 176); fill-opacity: 1;\"/><path class=\"point\" transform=\"translate(67.48,262.42)\" d=\"M1,0A1,1 0 1,1 0,-1A1,1 0 0,1 1,0Z\" style=\"opacity: 1; stroke-width: 0px; fill: rgb(76, 114, 176); fill-opacity: 1;\"/><path class=\"point\" transform=\"translate(67.96,265.8)\" d=\"M1,0A1,1 0 1,1 0,-1A1,1 0 0,1 1,0Z\" style=\"opacity: 1; stroke-width: 0px; fill: rgb(76, 114, 176); fill-opacity: 1;\"/><path class=\"point\" transform=\"translate(68.44,286.1)\" d=\"M1,0A1,1 0 1,1 0,-1A1,1 0 0,1 1,0Z\" style=\"opacity: 1; stroke-width: 0px; fill: rgb(76, 114, 176); fill-opacity: 1;\"/><path class=\"point\" transform=\"translate(68.92,286.56)\" d=\"M1,0A1,1 0 1,1 0,-1A1,1 0 0,1 1,0Z\" style=\"opacity: 1; stroke-width: 0px; fill: rgb(76, 114, 176); fill-opacity: 1;\"/><path class=\"point\" transform=\"translate(69.4,247.9)\" d=\"M1,0A1,1 0 1,1 0,-1A1,1 0 0,1 1,0Z\" style=\"opacity: 1; stroke-width: 0px; fill: rgb(76, 114, 176); fill-opacity: 1;\"/><path class=\"point\" transform=\"translate(69.88,271.6)\" d=\"M1,0A1,1 0 1,1 0,-1A1,1 0 0,1 1,0Z\" style=\"opacity: 1; stroke-width: 0px; fill: rgb(76, 114, 176); fill-opacity: 1;\"/><path class=\"point\" transform=\"translate(70.36,272.97)\" d=\"M1,0A1,1 0 1,1 0,-1A1,1 0 0,1 1,0Z\" style=\"opacity: 1; stroke-width: 0px; fill: rgb(76, 114, 176); fill-opacity: 1;\"/><path class=\"point\" transform=\"translate(70.84,269.71)\" d=\"M1,0A1,1 0 1,1 0,-1A1,1 0 0,1 1,0Z\" style=\"opacity: 1; stroke-width: 0px; fill: rgb(76, 114, 176); fill-opacity: 1;\"/><path class=\"point\" transform=\"translate(71.32,261.23)\" d=\"M1,0A1,1 0 1,1 0,-1A1,1 0 0,1 1,0Z\" style=\"opacity: 1; stroke-width: 0px; fill: rgb(76, 114, 176); fill-opacity: 1;\"/><path class=\"point\" transform=\"translate(71.8,245.99)\" d=\"M1,0A1,1 0 1,1 0,-1A1,1 0 0,1 1,0Z\" style=\"opacity: 1; stroke-width: 0px; fill: rgb(76, 114, 176); fill-opacity: 1;\"/><path class=\"point\" transform=\"translate(72.28,267.7)\" d=\"M1,0A1,1 0 1,1 0,-1A1,1 0 0,1 1,0Z\" style=\"opacity: 1; stroke-width: 0px; fill: rgb(76, 114, 176); fill-opacity: 1;\"/><path class=\"point\" transform=\"translate(72.76,266.17)\" d=\"M1,0A1,1 0 1,1 0,-1A1,1 0 0,1 1,0Z\" style=\"opacity: 1; stroke-width: 0px; fill: rgb(76, 114, 176); fill-opacity: 1;\"/><path class=\"point\" transform=\"translate(73.24,254.56)\" d=\"M1,0A1,1 0 1,1 0,-1A1,1 0 0,1 1,0Z\" style=\"opacity: 1; stroke-width: 0px; fill: rgb(76, 114, 176); fill-opacity: 1;\"/><path class=\"point\" transform=\"translate(73.72,267.44)\" d=\"M1,0A1,1 0 1,1 0,-1A1,1 0 0,1 1,0Z\" style=\"opacity: 1; stroke-width: 0px; fill: rgb(76, 114, 176); fill-opacity: 1;\"/><path class=\"point\" transform=\"translate(74.2,256.84)\" d=\"M1,0A1,1 0 1,1 0,-1A1,1 0 0,1 1,0Z\" style=\"opacity: 1; stroke-width: 0px; fill: rgb(76, 114, 176); fill-opacity: 1;\"/><path class=\"point\" transform=\"translate(74.68,248.08)\" d=\"M1,0A1,1 0 1,1 0,-1A1,1 0 0,1 1,0Z\" style=\"opacity: 1; stroke-width: 0px; fill: rgb(76, 114, 176); fill-opacity: 1;\"/><path class=\"point\" transform=\"translate(75.17,280.45)\" d=\"M1,0A1,1 0 1,1 0,-1A1,1 0 0,1 1,0Z\" style=\"opacity: 1; stroke-width: 0px; fill: rgb(76, 114, 176); fill-opacity: 1;\"/><path class=\"point\" transform=\"translate(75.65,254.98)\" d=\"M1,0A1,1 0 1,1 0,-1A1,1 0 0,1 1,0Z\" style=\"opacity: 1; stroke-width: 0px; fill: rgb(76, 114, 176); fill-opacity: 1;\"/><path class=\"point\" transform=\"translate(76.13,273.18)\" d=\"M1,0A1,1 0 1,1 0,-1A1,1 0 0,1 1,0Z\" style=\"opacity: 1; stroke-width: 0px; fill: rgb(76, 114, 176); fill-opacity: 1;\"/><path class=\"point\" transform=\"translate(76.61,271.49)\" d=\"M1,0A1,1 0 1,1 0,-1A1,1 0 0,1 1,0Z\" style=\"opacity: 1; stroke-width: 0px; fill: rgb(76, 114, 176); fill-opacity: 1;\"/><path class=\"point\" transform=\"translate(77.09,260.32)\" d=\"M1,0A1,1 0 1,1 0,-1A1,1 0 0,1 1,0Z\" style=\"opacity: 1; stroke-width: 0px; fill: rgb(76, 114, 176); fill-opacity: 1;\"/><path class=\"point\" transform=\"translate(77.57,255.12)\" d=\"M1,0A1,1 0 1,1 0,-1A1,1 0 0,1 1,0Z\" style=\"opacity: 1; stroke-width: 0px; fill: rgb(76, 114, 176); fill-opacity: 1;\"/><path class=\"point\" transform=\"translate(78.05,281.18)\" d=\"M1,0A1,1 0 1,1 0,-1A1,1 0 0,1 1,0Z\" style=\"opacity: 1; stroke-width: 0px; fill: rgb(76, 114, 176); fill-opacity: 1;\"/><path class=\"point\" transform=\"translate(78.53,263.82)\" d=\"M1,0A1,1 0 1,1 0,-1A1,1 0 0,1 1,0Z\" style=\"opacity: 1; stroke-width: 0px; fill: rgb(76, 114, 176); fill-opacity: 1;\"/><path class=\"point\" transform=\"translate(79.01,248.78)\" d=\"M1,0A1,1 0 1,1 0,-1A1,1 0 0,1 1,0Z\" style=\"opacity: 1; stroke-width: 0px; fill: rgb(76, 114, 176); fill-opacity: 1;\"/><path class=\"point\" transform=\"translate(79.49,278.18)\" d=\"M1,0A1,1 0 1,1 0,-1A1,1 0 0,1 1,0Z\" style=\"opacity: 1; stroke-width: 0px; fill: rgb(76, 114, 176); fill-opacity: 1;\"/><path class=\"point\" transform=\"translate(79.97,266.69)\" d=\"M1,0A1,1 0 1,1 0,-1A1,1 0 0,1 1,0Z\" style=\"opacity: 1; stroke-width: 0px; fill: rgb(76, 114, 176); fill-opacity: 1;\"/><path class=\"point\" transform=\"translate(80.45,254.62)\" d=\"M1,0A1,1 0 1,1 0,-1A1,1 0 0,1 1,0Z\" style=\"opacity: 1; stroke-width: 0px; fill: rgb(76, 114, 176); fill-opacity: 1;\"/><path class=\"point\" transform=\"translate(80.93,250.66)\" d=\"M1,0A1,1 0 1,1 0,-1A1,1 0 0,1 1,0Z\" style=\"opacity: 1; stroke-width: 0px; fill: rgb(76, 114, 176); fill-opacity: 1;\"/><path class=\"point\" transform=\"translate(81.41,247.77)\" d=\"M1,0A1,1 0 1,1 0,-1A1,1 0 0,1 1,0Z\" style=\"opacity: 1; stroke-width: 0px; fill: rgb(76, 114, 176); fill-opacity: 1;\"/><path class=\"point\" transform=\"translate(81.89,252.75)\" d=\"M1,0A1,1 0 1,1 0,-1A1,1 0 0,1 1,0Z\" style=\"opacity: 1; stroke-width: 0px; fill: rgb(76, 114, 176); fill-opacity: 1;\"/><path class=\"point\" transform=\"translate(82.37,270.25)\" d=\"M1,0A1,1 0 1,1 0,-1A1,1 0 0,1 1,0Z\" style=\"opacity: 1; stroke-width: 0px; fill: rgb(76, 114, 176); fill-opacity: 1;\"/><path class=\"point\" transform=\"translate(82.85,241.09)\" d=\"M1,0A1,1 0 1,1 0,-1A1,1 0 0,1 1,0Z\" style=\"opacity: 1; stroke-width: 0px; fill: rgb(76, 114, 176); fill-opacity: 1;\"/><path class=\"point\" transform=\"translate(83.33,245.52)\" d=\"M1,0A1,1 0 1,1 0,-1A1,1 0 0,1 1,0Z\" style=\"opacity: 1; stroke-width: 0px; fill: rgb(76, 114, 176); fill-opacity: 1;\"/><path class=\"point\" transform=\"translate(83.81,243.18)\" d=\"M1,0A1,1 0 1,1 0,-1A1,1 0 0,1 1,0Z\" style=\"opacity: 1; stroke-width: 0px; fill: rgb(76, 114, 176); fill-opacity: 1;\"/><path class=\"point\" transform=\"translate(84.29,257.22)\" d=\"M1,0A1,1 0 1,1 0,-1A1,1 0 0,1 1,0Z\" style=\"opacity: 1; stroke-width: 0px; fill: rgb(76, 114, 176); fill-opacity: 1;\"/><path class=\"point\" transform=\"translate(84.77,248.08)\" d=\"M1,0A1,1 0 1,1 0,-1A1,1 0 0,1 1,0Z\" style=\"opacity: 1; stroke-width: 0px; fill: rgb(76, 114, 176); fill-opacity: 1;\"/><path class=\"point\" transform=\"translate(85.26,272.98)\" d=\"M1,0A1,1 0 1,1 0,-1A1,1 0 0,1 1,0Z\" style=\"opacity: 1; stroke-width: 0px; fill: rgb(76, 114, 176); fill-opacity: 1;\"/><path class=\"point\" transform=\"translate(85.74,248.29)\" d=\"M1,0A1,1 0 1,1 0,-1A1,1 0 0,1 1,0Z\" style=\"opacity: 1; stroke-width: 0px; fill: rgb(76, 114, 176); fill-opacity: 1;\"/><path class=\"point\" transform=\"translate(86.22,265.91)\" d=\"M1,0A1,1 0 1,1 0,-1A1,1 0 0,1 1,0Z\" style=\"opacity: 1; stroke-width: 0px; fill: rgb(76, 114, 176); fill-opacity: 1;\"/><path class=\"point\" transform=\"translate(86.7,254.53)\" d=\"M1,0A1,1 0 1,1 0,-1A1,1 0 0,1 1,0Z\" style=\"opacity: 1; stroke-width: 0px; fill: rgb(76, 114, 176); fill-opacity: 1;\"/><path class=\"point\" transform=\"translate(87.18,273.49)\" d=\"M1,0A1,1 0 1,1 0,-1A1,1 0 0,1 1,0Z\" style=\"opacity: 1; stroke-width: 0px; fill: rgb(76, 114, 176); fill-opacity: 1;\"/><path class=\"point\" transform=\"translate(87.66,275.54)\" d=\"M1,0A1,1 0 1,1 0,-1A1,1 0 0,1 1,0Z\" style=\"opacity: 1; stroke-width: 0px; fill: rgb(76, 114, 176); fill-opacity: 1;\"/><path class=\"point\" transform=\"translate(88.14,260.75)\" d=\"M1,0A1,1 0 1,1 0,-1A1,1 0 0,1 1,0Z\" style=\"opacity: 1; stroke-width: 0px; fill: rgb(76, 114, 176); fill-opacity: 1;\"/><path class=\"point\" transform=\"translate(88.62,246.51)\" d=\"M1,0A1,1 0 1,1 0,-1A1,1 0 0,1 1,0Z\" style=\"opacity: 1; stroke-width: 0px; fill: rgb(76, 114, 176); fill-opacity: 1;\"/><path class=\"point\" transform=\"translate(89.1,270.91)\" d=\"M1,0A1,1 0 1,1 0,-1A1,1 0 0,1 1,0Z\" style=\"opacity: 1; stroke-width: 0px; fill: rgb(76, 114, 176); fill-opacity: 1;\"/><path class=\"point\" transform=\"translate(89.58,247.17)\" d=\"M1,0A1,1 0 1,1 0,-1A1,1 0 0,1 1,0Z\" style=\"opacity: 1; stroke-width: 0px; fill: rgb(76, 114, 176); fill-opacity: 1;\"/><path class=\"point\" transform=\"translate(90.06,276.31)\" d=\"M1,0A1,1 0 1,1 0,-1A1,1 0 0,1 1,0Z\" style=\"opacity: 1; stroke-width: 0px; fill: rgb(76, 114, 176); fill-opacity: 1;\"/><path class=\"point\" transform=\"translate(90.54,255.08)\" d=\"M1,0A1,1 0 1,1 0,-1A1,1 0 0,1 1,0Z\" style=\"opacity: 1; stroke-width: 0px; fill: rgb(76, 114, 176); fill-opacity: 1;\"/><path class=\"point\" transform=\"translate(91.02,268.39)\" d=\"M1,0A1,1 0 1,1 0,-1A1,1 0 0,1 1,0Z\" style=\"opacity: 1; stroke-width: 0px; fill: rgb(76, 114, 176); fill-opacity: 1;\"/><path class=\"point\" transform=\"translate(91.5,251.82)\" d=\"M1,0A1,1 0 1,1 0,-1A1,1 0 0,1 1,0Z\" style=\"opacity: 1; stroke-width: 0px; fill: rgb(76, 114, 176); fill-opacity: 1;\"/><path class=\"point\" transform=\"translate(91.98,246.12)\" d=\"M1,0A1,1 0 1,1 0,-1A1,1 0 0,1 1,0Z\" style=\"opacity: 1; stroke-width: 0px; fill: rgb(76, 114, 176); fill-opacity: 1;\"/><path class=\"point\" transform=\"translate(92.46,265.43)\" d=\"M1,0A1,1 0 1,1 0,-1A1,1 0 0,1 1,0Z\" style=\"opacity: 1; stroke-width: 0px; fill: rgb(76, 114, 176); fill-opacity: 1;\"/><path class=\"point\" transform=\"translate(92.94,272.63)\" d=\"M1,0A1,1 0 1,1 0,-1A1,1 0 0,1 1,0Z\" style=\"opacity: 1; stroke-width: 0px; fill: rgb(76, 114, 176); fill-opacity: 1;\"/><path class=\"point\" transform=\"translate(93.42,265.26)\" d=\"M1,0A1,1 0 1,1 0,-1A1,1 0 0,1 1,0Z\" style=\"opacity: 1; stroke-width: 0px; fill: rgb(76, 114, 176); fill-opacity: 1;\"/><path class=\"point\" transform=\"translate(93.9,260.02)\" d=\"M1,0A1,1 0 1,1 0,-1A1,1 0 0,1 1,0Z\" style=\"opacity: 1; stroke-width: 0px; fill: rgb(76, 114, 176); fill-opacity: 1;\"/><path class=\"point\" transform=\"translate(94.38,270.31)\" d=\"M1,0A1,1 0 1,1 0,-1A1,1 0 0,1 1,0Z\" style=\"opacity: 1; stroke-width: 0px; fill: rgb(76, 114, 176); fill-opacity: 1;\"/><path class=\"point\" transform=\"translate(94.86,234.01)\" d=\"M1,0A1,1 0 1,1 0,-1A1,1 0 0,1 1,0Z\" style=\"opacity: 1; stroke-width: 0px; fill: rgb(76, 114, 176); fill-opacity: 1;\"/><path class=\"point\" transform=\"translate(95.35,253.4)\" d=\"M1,0A1,1 0 1,1 0,-1A1,1 0 0,1 1,0Z\" style=\"opacity: 1; stroke-width: 0px; fill: rgb(76, 114, 176); fill-opacity: 1;\"/><path class=\"point\" transform=\"translate(95.83,272.56)\" d=\"M1,0A1,1 0 1,1 0,-1A1,1 0 0,1 1,0Z\" style=\"opacity: 1; stroke-width: 0px; fill: rgb(76, 114, 176); fill-opacity: 1;\"/><path class=\"point\" transform=\"translate(96.31,257.34)\" d=\"M1,0A1,1 0 1,1 0,-1A1,1 0 0,1 1,0Z\" style=\"opacity: 1; stroke-width: 0px; fill: rgb(76, 114, 176); fill-opacity: 1;\"/><path class=\"point\" transform=\"translate(96.79,259.33)\" d=\"M1,0A1,1 0 1,1 0,-1A1,1 0 0,1 1,0Z\" style=\"opacity: 1; stroke-width: 0px; fill: rgb(76, 114, 176); fill-opacity: 1;\"/><path class=\"point\" transform=\"translate(97.27,235.57)\" d=\"M1,0A1,1 0 1,1 0,-1A1,1 0 0,1 1,0Z\" style=\"opacity: 1; stroke-width: 0px; fill: rgb(76, 114, 176); fill-opacity: 1;\"/><path class=\"point\" transform=\"translate(97.75,250.93)\" d=\"M1,0A1,1 0 1,1 0,-1A1,1 0 0,1 1,0Z\" style=\"opacity: 1; stroke-width: 0px; fill: rgb(76, 114, 176); fill-opacity: 1;\"/><path class=\"point\" transform=\"translate(98.23,267.38)\" d=\"M1,0A1,1 0 1,1 0,-1A1,1 0 0,1 1,0Z\" style=\"opacity: 1; stroke-width: 0px; fill: rgb(76, 114, 176); fill-opacity: 1;\"/><path class=\"point\" transform=\"translate(98.71,270.36)\" d=\"M1,0A1,1 0 1,1 0,-1A1,1 0 0,1 1,0Z\" style=\"opacity: 1; stroke-width: 0px; fill: rgb(76, 114, 176); fill-opacity: 1;\"/><path class=\"point\" transform=\"translate(99.19,259.64)\" d=\"M1,0A1,1 0 1,1 0,-1A1,1 0 0,1 1,0Z\" style=\"opacity: 1; stroke-width: 0px; fill: rgb(76, 114, 176); fill-opacity: 1;\"/><path class=\"point\" transform=\"translate(99.67,232.73)\" d=\"M1,0A1,1 0 1,1 0,-1A1,1 0 0,1 1,0Z\" style=\"opacity: 1; stroke-width: 0px; fill: rgb(76, 114, 176); fill-opacity: 1;\"/><path class=\"point\" transform=\"translate(100.15,267.18)\" d=\"M1,0A1,1 0 1,1 0,-1A1,1 0 0,1 1,0Z\" style=\"opacity: 1; stroke-width: 0px; fill: rgb(76, 114, 176); fill-opacity: 1;\"/><path class=\"point\" transform=\"translate(100.63,242.39)\" d=\"M1,0A1,1 0 1,1 0,-1A1,1 0 0,1 1,0Z\" style=\"opacity: 1; stroke-width: 0px; fill: rgb(76, 114, 176); fill-opacity: 1;\"/><path class=\"point\" transform=\"translate(101.11,268.9)\" d=\"M1,0A1,1 0 1,1 0,-1A1,1 0 0,1 1,0Z\" style=\"opacity: 1; stroke-width: 0px; fill: rgb(76, 114, 176); fill-opacity: 1;\"/><path class=\"point\" transform=\"translate(101.59,250.28)\" d=\"M1,0A1,1 0 1,1 0,-1A1,1 0 0,1 1,0Z\" style=\"opacity: 1; stroke-width: 0px; fill: rgb(76, 114, 176); fill-opacity: 1;\"/><path class=\"point\" transform=\"translate(102.07,228.72)\" d=\"M1,0A1,1 0 1,1 0,-1A1,1 0 0,1 1,0Z\" style=\"opacity: 1; stroke-width: 0px; fill: rgb(76, 114, 176); fill-opacity: 1;\"/><path class=\"point\" transform=\"translate(102.55,238.68)\" d=\"M1,0A1,1 0 1,1 0,-1A1,1 0 0,1 1,0Z\" style=\"opacity: 1; stroke-width: 0px; fill: rgb(76, 114, 176); fill-opacity: 1;\"/><path class=\"point\" transform=\"translate(103.03,256.43)\" d=\"M1,0A1,1 0 1,1 0,-1A1,1 0 0,1 1,0Z\" style=\"opacity: 1; stroke-width: 0px; fill: rgb(76, 114, 176); fill-opacity: 1;\"/><path class=\"point\" transform=\"translate(103.51,240.25)\" d=\"M1,0A1,1 0 1,1 0,-1A1,1 0 0,1 1,0Z\" style=\"opacity: 1; stroke-width: 0px; fill: rgb(76, 114, 176); fill-opacity: 1;\"/><path class=\"point\" transform=\"translate(103.99,249.39)\" d=\"M1,0A1,1 0 1,1 0,-1A1,1 0 0,1 1,0Z\" style=\"opacity: 1; stroke-width: 0px; fill: rgb(76, 114, 176); fill-opacity: 1;\"/><path class=\"point\" transform=\"translate(104.47,237.07)\" d=\"M1,0A1,1 0 1,1 0,-1A1,1 0 0,1 1,0Z\" style=\"opacity: 1; stroke-width: 0px; fill: rgb(76, 114, 176); fill-opacity: 1;\"/><path class=\"point\" transform=\"translate(104.95,266.85)\" d=\"M1,0A1,1 0 1,1 0,-1A1,1 0 0,1 1,0Z\" style=\"opacity: 1; stroke-width: 0px; fill: rgb(76, 114, 176); fill-opacity: 1;\"/><path class=\"point\" transform=\"translate(105.44,248.07)\" d=\"M1,0A1,1 0 1,1 0,-1A1,1 0 0,1 1,0Z\" style=\"opacity: 1; stroke-width: 0px; fill: rgb(76, 114, 176); fill-opacity: 1;\"/><path class=\"point\" transform=\"translate(105.92,261.14)\" d=\"M1,0A1,1 0 1,1 0,-1A1,1 0 0,1 1,0Z\" style=\"opacity: 1; stroke-width: 0px; fill: rgb(76, 114, 176); fill-opacity: 1;\"/><path class=\"point\" transform=\"translate(106.4,243.23)\" d=\"M1,0A1,1 0 1,1 0,-1A1,1 0 0,1 1,0Z\" style=\"opacity: 1; stroke-width: 0px; fill: rgb(76, 114, 176); fill-opacity: 1;\"/><path class=\"point\" transform=\"translate(106.88,233.55)\" d=\"M1,0A1,1 0 1,1 0,-1A1,1 0 0,1 1,0Z\" style=\"opacity: 1; stroke-width: 0px; fill: rgb(76, 114, 176); fill-opacity: 1;\"/><path class=\"point\" transform=\"translate(107.36,246.3)\" d=\"M1,0A1,1 0 1,1 0,-1A1,1 0 0,1 1,0Z\" style=\"opacity: 1; stroke-width: 0px; fill: rgb(76, 114, 176); fill-opacity: 1;\"/><path class=\"point\" transform=\"translate(107.84,236.94)\" d=\"M1,0A1,1 0 1,1 0,-1A1,1 0 0,1 1,0Z\" style=\"opacity: 1; stroke-width: 0px; fill: rgb(76, 114, 176); fill-opacity: 1;\"/><path class=\"point\" transform=\"translate(108.32,236.02)\" d=\"M1,0A1,1 0 1,1 0,-1A1,1 0 0,1 1,0Z\" style=\"opacity: 1; stroke-width: 0px; fill: rgb(76, 114, 176); fill-opacity: 1;\"/><path class=\"point\" transform=\"translate(108.8,239.23)\" d=\"M1,0A1,1 0 1,1 0,-1A1,1 0 0,1 1,0Z\" style=\"opacity: 1; stroke-width: 0px; fill: rgb(76, 114, 176); fill-opacity: 1;\"/><path class=\"point\" transform=\"translate(109.28,243.86)\" d=\"M1,0A1,1 0 1,1 0,-1A1,1 0 0,1 1,0Z\" style=\"opacity: 1; stroke-width: 0px; fill: rgb(76, 114, 176); fill-opacity: 1;\"/><path class=\"point\" transform=\"translate(109.76,243.37)\" d=\"M1,0A1,1 0 1,1 0,-1A1,1 0 0,1 1,0Z\" style=\"opacity: 1; stroke-width: 0px; fill: rgb(76, 114, 176); fill-opacity: 1;\"/><path class=\"point\" transform=\"translate(110.24,237.61)\" d=\"M1,0A1,1 0 1,1 0,-1A1,1 0 0,1 1,0Z\" style=\"opacity: 1; stroke-width: 0px; fill: rgb(76, 114, 176); fill-opacity: 1;\"/><path class=\"point\" transform=\"translate(110.72,248.88)\" d=\"M1,0A1,1 0 1,1 0,-1A1,1 0 0,1 1,0Z\" style=\"opacity: 1; stroke-width: 0px; fill: rgb(76, 114, 176); fill-opacity: 1;\"/><path class=\"point\" transform=\"translate(111.2,233.62)\" d=\"M1,0A1,1 0 1,1 0,-1A1,1 0 0,1 1,0Z\" style=\"opacity: 1; stroke-width: 0px; fill: rgb(76, 114, 176); fill-opacity: 1;\"/><path class=\"point\" transform=\"translate(111.68,224.09)\" d=\"M1,0A1,1 0 1,1 0,-1A1,1 0 0,1 1,0Z\" style=\"opacity: 1; stroke-width: 0px; fill: rgb(76, 114, 176); fill-opacity: 1;\"/><path class=\"point\" transform=\"translate(112.16,247.78)\" d=\"M1,0A1,1 0 1,1 0,-1A1,1 0 0,1 1,0Z\" style=\"opacity: 1; stroke-width: 0px; fill: rgb(76, 114, 176); fill-opacity: 1;\"/><path class=\"point\" transform=\"translate(112.64,234.82)\" d=\"M1,0A1,1 0 1,1 0,-1A1,1 0 0,1 1,0Z\" style=\"opacity: 1; stroke-width: 0px; fill: rgb(76, 114, 176); fill-opacity: 1;\"/><path class=\"point\" transform=\"translate(113.12,256.05)\" d=\"M1,0A1,1 0 1,1 0,-1A1,1 0 0,1 1,0Z\" style=\"opacity: 1; stroke-width: 0px; fill: rgb(76, 114, 176); fill-opacity: 1;\"/><path class=\"point\" transform=\"translate(113.6,232.94)\" d=\"M1,0A1,1 0 1,1 0,-1A1,1 0 0,1 1,0Z\" style=\"opacity: 1; stroke-width: 0px; fill: rgb(76, 114, 176); fill-opacity: 1;\"/><path class=\"point\" transform=\"translate(114.08,232.23)\" d=\"M1,0A1,1 0 1,1 0,-1A1,1 0 0,1 1,0Z\" style=\"opacity: 1; stroke-width: 0px; fill: rgb(76, 114, 176); fill-opacity: 1;\"/><path class=\"point\" transform=\"translate(114.56,222.31)\" d=\"M1,0A1,1 0 1,1 0,-1A1,1 0 0,1 1,0Z\" style=\"opacity: 1; stroke-width: 0px; fill: rgb(76, 114, 176); fill-opacity: 1;\"/><path class=\"point\" transform=\"translate(115.05,231.23)\" d=\"M1,0A1,1 0 1,1 0,-1A1,1 0 0,1 1,0Z\" style=\"opacity: 1; stroke-width: 0px; fill: rgb(76, 114, 176); fill-opacity: 1;\"/><path class=\"point\" transform=\"translate(115.53,249.6)\" d=\"M1,0A1,1 0 1,1 0,-1A1,1 0 0,1 1,0Z\" style=\"opacity: 1; stroke-width: 0px; fill: rgb(76, 114, 176); fill-opacity: 1;\"/><path class=\"point\" transform=\"translate(116.01,244.58)\" d=\"M1,0A1,1 0 1,1 0,-1A1,1 0 0,1 1,0Z\" style=\"opacity: 1; stroke-width: 0px; fill: rgb(76, 114, 176); fill-opacity: 1;\"/><path class=\"point\" transform=\"translate(116.49,262.35)\" d=\"M1,0A1,1 0 1,1 0,-1A1,1 0 0,1 1,0Z\" style=\"opacity: 1; stroke-width: 0px; fill: rgb(76, 114, 176); fill-opacity: 1;\"/><path class=\"point\" transform=\"translate(116.97,229.21)\" d=\"M1,0A1,1 0 1,1 0,-1A1,1 0 0,1 1,0Z\" style=\"opacity: 1; stroke-width: 0px; fill: rgb(76, 114, 176); fill-opacity: 1;\"/><path class=\"point\" transform=\"translate(117.45,253.95)\" d=\"M1,0A1,1 0 1,1 0,-1A1,1 0 0,1 1,0Z\" style=\"opacity: 1; stroke-width: 0px; fill: rgb(76, 114, 176); fill-opacity: 1;\"/><path class=\"point\" transform=\"translate(117.93,255.03)\" d=\"M1,0A1,1 0 1,1 0,-1A1,1 0 0,1 1,0Z\" style=\"opacity: 1; stroke-width: 0px; fill: rgb(76, 114, 176); fill-opacity: 1;\"/><path class=\"point\" transform=\"translate(118.41,231.64)\" d=\"M1,0A1,1 0 1,1 0,-1A1,1 0 0,1 1,0Z\" style=\"opacity: 1; stroke-width: 0px; fill: rgb(76, 114, 176); fill-opacity: 1;\"/><path class=\"point\" transform=\"translate(118.89,232.84)\" d=\"M1,0A1,1 0 1,1 0,-1A1,1 0 0,1 1,0Z\" style=\"opacity: 1; stroke-width: 0px; fill: rgb(76, 114, 176); fill-opacity: 1;\"/><path class=\"point\" transform=\"translate(119.37,254.98)\" d=\"M1,0A1,1 0 1,1 0,-1A1,1 0 0,1 1,0Z\" style=\"opacity: 1; stroke-width: 0px; fill: rgb(76, 114, 176); fill-opacity: 1;\"/><path class=\"point\" transform=\"translate(119.85,260.19)\" d=\"M1,0A1,1 0 1,1 0,-1A1,1 0 0,1 1,0Z\" style=\"opacity: 1; stroke-width: 0px; fill: rgb(76, 114, 176); fill-opacity: 1;\"/><path class=\"point\" transform=\"translate(120.33,249.91)\" d=\"M1,0A1,1 0 1,1 0,-1A1,1 0 0,1 1,0Z\" style=\"opacity: 1; stroke-width: 0px; fill: rgb(76, 114, 176); fill-opacity: 1;\"/><path class=\"point\" transform=\"translate(120.81,226.87)\" d=\"M1,0A1,1 0 1,1 0,-1A1,1 0 0,1 1,0Z\" style=\"opacity: 1; stroke-width: 0px; fill: rgb(76, 114, 176); fill-opacity: 1;\"/><path class=\"point\" transform=\"translate(121.29,227.31)\" d=\"M1,0A1,1 0 1,1 0,-1A1,1 0 0,1 1,0Z\" style=\"opacity: 1; stroke-width: 0px; fill: rgb(76, 114, 176); fill-opacity: 1;\"/><path class=\"point\" transform=\"translate(121.77,240.03)\" d=\"M1,0A1,1 0 1,1 0,-1A1,1 0 0,1 1,0Z\" style=\"opacity: 1; stroke-width: 0px; fill: rgb(76, 114, 176); fill-opacity: 1;\"/><path class=\"point\" transform=\"translate(122.25,231.35)\" d=\"M1,0A1,1 0 1,1 0,-1A1,1 0 0,1 1,0Z\" style=\"opacity: 1; stroke-width: 0px; fill: rgb(76, 114, 176); fill-opacity: 1;\"/><path class=\"point\" transform=\"translate(122.73,253.3)\" d=\"M1,0A1,1 0 1,1 0,-1A1,1 0 0,1 1,0Z\" style=\"opacity: 1; stroke-width: 0px; fill: rgb(76, 114, 176); fill-opacity: 1;\"/><path class=\"point\" transform=\"translate(123.21,235.91)\" d=\"M1,0A1,1 0 1,1 0,-1A1,1 0 0,1 1,0Z\" style=\"opacity: 1; stroke-width: 0px; fill: rgb(76, 114, 176); fill-opacity: 1;\"/><path class=\"point\" transform=\"translate(123.69,252.38)\" d=\"M1,0A1,1 0 1,1 0,-1A1,1 0 0,1 1,0Z\" style=\"opacity: 1; stroke-width: 0px; fill: rgb(76, 114, 176); fill-opacity: 1;\"/><path class=\"point\" transform=\"translate(124.17,234.5)\" d=\"M1,0A1,1 0 1,1 0,-1A1,1 0 0,1 1,0Z\" style=\"opacity: 1; stroke-width: 0px; fill: rgb(76, 114, 176); fill-opacity: 1;\"/><path class=\"point\" transform=\"translate(124.65,244.24)\" d=\"M1,0A1,1 0 1,1 0,-1A1,1 0 0,1 1,0Z\" style=\"opacity: 1; stroke-width: 0px; fill: rgb(76, 114, 176); fill-opacity: 1;\"/><path class=\"point\" transform=\"translate(125.14,252.51)\" d=\"M1,0A1,1 0 1,1 0,-1A1,1 0 0,1 1,0Z\" style=\"opacity: 1; stroke-width: 0px; fill: rgb(76, 114, 176); fill-opacity: 1;\"/><path class=\"point\" transform=\"translate(125.62,217.07)\" d=\"M1,0A1,1 0 1,1 0,-1A1,1 0 0,1 1,0Z\" style=\"opacity: 1; stroke-width: 0px; fill: rgb(76, 114, 176); fill-opacity: 1;\"/><path class=\"point\" transform=\"translate(126.1,251.96)\" d=\"M1,0A1,1 0 1,1 0,-1A1,1 0 0,1 1,0Z\" style=\"opacity: 1; stroke-width: 0px; fill: rgb(76, 114, 176); fill-opacity: 1;\"/><path class=\"point\" transform=\"translate(126.58,257.17)\" d=\"M1,0A1,1 0 1,1 0,-1A1,1 0 0,1 1,0Z\" style=\"opacity: 1; stroke-width: 0px; fill: rgb(76, 114, 176); fill-opacity: 1;\"/><path class=\"point\" transform=\"translate(127.06,219)\" d=\"M1,0A1,1 0 1,1 0,-1A1,1 0 0,1 1,0Z\" style=\"opacity: 1; stroke-width: 0px; fill: rgb(76, 114, 176); fill-opacity: 1;\"/><path class=\"point\" transform=\"translate(127.54,221.23)\" d=\"M1,0A1,1 0 1,1 0,-1A1,1 0 0,1 1,0Z\" style=\"opacity: 1; stroke-width: 0px; fill: rgb(76, 114, 176); fill-opacity: 1;\"/><path class=\"point\" transform=\"translate(128.02,223.41)\" d=\"M1,0A1,1 0 1,1 0,-1A1,1 0 0,1 1,0Z\" style=\"opacity: 1; stroke-width: 0px; fill: rgb(76, 114, 176); fill-opacity: 1;\"/><path class=\"point\" transform=\"translate(128.5,216.2)\" d=\"M1,0A1,1 0 1,1 0,-1A1,1 0 0,1 1,0Z\" style=\"opacity: 1; stroke-width: 0px; fill: rgb(76, 114, 176); fill-opacity: 1;\"/><path class=\"point\" transform=\"translate(128.98,242.98)\" d=\"M1,0A1,1 0 1,1 0,-1A1,1 0 0,1 1,0Z\" style=\"opacity: 1; stroke-width: 0px; fill: rgb(76, 114, 176); fill-opacity: 1;\"/><path class=\"point\" transform=\"translate(129.46,227.57)\" d=\"M1,0A1,1 0 1,1 0,-1A1,1 0 0,1 1,0Z\" style=\"opacity: 1; stroke-width: 0px; fill: rgb(76, 114, 176); fill-opacity: 1;\"/><path class=\"point\" transform=\"translate(129.94,230.9)\" d=\"M1,0A1,1 0 1,1 0,-1A1,1 0 0,1 1,0Z\" style=\"opacity: 1; stroke-width: 0px; fill: rgb(76, 114, 176); fill-opacity: 1;\"/><path class=\"point\" transform=\"translate(130.42,225.2)\" d=\"M1,0A1,1 0 1,1 0,-1A1,1 0 0,1 1,0Z\" style=\"opacity: 1; stroke-width: 0px; fill: rgb(76, 114, 176); fill-opacity: 1;\"/><path class=\"point\" transform=\"translate(130.9,244.54)\" d=\"M1,0A1,1 0 1,1 0,-1A1,1 0 0,1 1,0Z\" style=\"opacity: 1; stroke-width: 0px; fill: rgb(76, 114, 176); fill-opacity: 1;\"/><path class=\"point\" transform=\"translate(131.38,242.88)\" d=\"M1,0A1,1 0 1,1 0,-1A1,1 0 0,1 1,0Z\" style=\"opacity: 1; stroke-width: 0px; fill: rgb(76, 114, 176); fill-opacity: 1;\"/><path class=\"point\" transform=\"translate(131.86,233.61)\" d=\"M1,0A1,1 0 1,1 0,-1A1,1 0 0,1 1,0Z\" style=\"opacity: 1; stroke-width: 0px; fill: rgb(76, 114, 176); fill-opacity: 1;\"/><path class=\"point\" transform=\"translate(132.34,229.32)\" d=\"M1,0A1,1 0 1,1 0,-1A1,1 0 0,1 1,0Z\" style=\"opacity: 1; stroke-width: 0px; fill: rgb(76, 114, 176); fill-opacity: 1;\"/><path class=\"point\" transform=\"translate(132.82,224.07)\" d=\"M1,0A1,1 0 1,1 0,-1A1,1 0 0,1 1,0Z\" style=\"opacity: 1; stroke-width: 0px; fill: rgb(76, 114, 176); fill-opacity: 1;\"/><path class=\"point\" transform=\"translate(133.3,227.48)\" d=\"M1,0A1,1 0 1,1 0,-1A1,1 0 0,1 1,0Z\" style=\"opacity: 1; stroke-width: 0px; fill: rgb(76, 114, 176); fill-opacity: 1;\"/><path class=\"point\" transform=\"translate(133.78,231.59)\" d=\"M1,0A1,1 0 1,1 0,-1A1,1 0 0,1 1,0Z\" style=\"opacity: 1; stroke-width: 0px; fill: rgb(76, 114, 176); fill-opacity: 1;\"/><path class=\"point\" transform=\"translate(134.26,243.78)\" d=\"M1,0A1,1 0 1,1 0,-1A1,1 0 0,1 1,0Z\" style=\"opacity: 1; stroke-width: 0px; fill: rgb(76, 114, 176); fill-opacity: 1;\"/><path class=\"point\" transform=\"translate(134.74,219.32)\" d=\"M1,0A1,1 0 1,1 0,-1A1,1 0 0,1 1,0Z\" style=\"opacity: 1; stroke-width: 0px; fill: rgb(76, 114, 176); fill-opacity: 1;\"/><path class=\"point\" transform=\"translate(135.23,249.61)\" d=\"M1,0A1,1 0 1,1 0,-1A1,1 0 0,1 1,0Z\" style=\"opacity: 1; stroke-width: 0px; fill: rgb(76, 114, 176); fill-opacity: 1;\"/><path class=\"point\" transform=\"translate(135.71,246.78)\" d=\"M1,0A1,1 0 1,1 0,-1A1,1 0 0,1 1,0Z\" style=\"opacity: 1; stroke-width: 0px; fill: rgb(76, 114, 176); fill-opacity: 1;\"/><path class=\"point\" transform=\"translate(136.19,240.74)\" d=\"M1,0A1,1 0 1,1 0,-1A1,1 0 0,1 1,0Z\" style=\"opacity: 1; stroke-width: 0px; fill: rgb(76, 114, 176); fill-opacity: 1;\"/><path class=\"point\" transform=\"translate(136.67,210.81)\" d=\"M1,0A1,1 0 1,1 0,-1A1,1 0 0,1 1,0Z\" style=\"opacity: 1; stroke-width: 0px; fill: rgb(76, 114, 176); fill-opacity: 1;\"/><path class=\"point\" transform=\"translate(137.15,219.9)\" d=\"M1,0A1,1 0 1,1 0,-1A1,1 0 0,1 1,0Z\" style=\"opacity: 1; stroke-width: 0px; fill: rgb(76, 114, 176); fill-opacity: 1;\"/><path class=\"point\" transform=\"translate(137.63,240.36)\" d=\"M1,0A1,1 0 1,1 0,-1A1,1 0 0,1 1,0Z\" style=\"opacity: 1; stroke-width: 0px; fill: rgb(76, 114, 176); fill-opacity: 1;\"/><path class=\"point\" transform=\"translate(138.11,210.49)\" d=\"M1,0A1,1 0 1,1 0,-1A1,1 0 0,1 1,0Z\" style=\"opacity: 1; stroke-width: 0px; fill: rgb(76, 114, 176); fill-opacity: 1;\"/><path class=\"point\" transform=\"translate(138.59,246.69)\" d=\"M1,0A1,1 0 1,1 0,-1A1,1 0 0,1 1,0Z\" style=\"opacity: 1; stroke-width: 0px; fill: rgb(76, 114, 176); fill-opacity: 1;\"/><path class=\"point\" transform=\"translate(139.07,242.62)\" d=\"M1,0A1,1 0 1,1 0,-1A1,1 0 0,1 1,0Z\" style=\"opacity: 1; stroke-width: 0px; fill: rgb(76, 114, 176); fill-opacity: 1;\"/><path class=\"point\" transform=\"translate(139.55,248.46)\" d=\"M1,0A1,1 0 1,1 0,-1A1,1 0 0,1 1,0Z\" style=\"opacity: 1; stroke-width: 0px; fill: rgb(76, 114, 176); fill-opacity: 1;\"/><path class=\"point\" transform=\"translate(140.03,221.98)\" d=\"M1,0A1,1 0 1,1 0,-1A1,1 0 0,1 1,0Z\" style=\"opacity: 1; stroke-width: 0px; fill: rgb(76, 114, 176); fill-opacity: 1;\"/><path class=\"point\" transform=\"translate(140.51,222.36)\" d=\"M1,0A1,1 0 1,1 0,-1A1,1 0 0,1 1,0Z\" style=\"opacity: 1; stroke-width: 0px; fill: rgb(76, 114, 176); fill-opacity: 1;\"/><path class=\"point\" transform=\"translate(140.99,229.94)\" d=\"M1,0A1,1 0 1,1 0,-1A1,1 0 0,1 1,0Z\" style=\"opacity: 1; stroke-width: 0px; fill: rgb(76, 114, 176); fill-opacity: 1;\"/><path class=\"point\" transform=\"translate(141.47,216.84)\" d=\"M1,0A1,1 0 1,1 0,-1A1,1 0 0,1 1,0Z\" style=\"opacity: 1; stroke-width: 0px; fill: rgb(76, 114, 176); fill-opacity: 1;\"/><path class=\"point\" transform=\"translate(141.95,242.84)\" d=\"M1,0A1,1 0 1,1 0,-1A1,1 0 0,1 1,0Z\" style=\"opacity: 1; stroke-width: 0px; fill: rgb(76, 114, 176); fill-opacity: 1;\"/><path class=\"point\" transform=\"translate(142.43,217.61)\" d=\"M1,0A1,1 0 1,1 0,-1A1,1 0 0,1 1,0Z\" style=\"opacity: 1; stroke-width: 0px; fill: rgb(76, 114, 176); fill-opacity: 1;\"/><path class=\"point\" transform=\"translate(142.91,226.73)\" d=\"M1,0A1,1 0 1,1 0,-1A1,1 0 0,1 1,0Z\" style=\"opacity: 1; stroke-width: 0px; fill: rgb(76, 114, 176); fill-opacity: 1;\"/><path class=\"point\" transform=\"translate(143.39,213.16)\" d=\"M1,0A1,1 0 1,1 0,-1A1,1 0 0,1 1,0Z\" style=\"opacity: 1; stroke-width: 0px; fill: rgb(76, 114, 176); fill-opacity: 1;\"/><path class=\"point\" transform=\"translate(143.87,231.17)\" d=\"M1,0A1,1 0 1,1 0,-1A1,1 0 0,1 1,0Z\" style=\"opacity: 1; stroke-width: 0px; fill: rgb(76, 114, 176); fill-opacity: 1;\"/><path class=\"point\" transform=\"translate(144.35,215.94)\" d=\"M1,0A1,1 0 1,1 0,-1A1,1 0 0,1 1,0Z\" style=\"opacity: 1; stroke-width: 0px; fill: rgb(76, 114, 176); fill-opacity: 1;\"/><path class=\"point\" transform=\"translate(144.83,243.08)\" d=\"M1,0A1,1 0 1,1 0,-1A1,1 0 0,1 1,0Z\" style=\"opacity: 1; stroke-width: 0px; fill: rgb(76, 114, 176); fill-opacity: 1;\"/><path class=\"point\" transform=\"translate(145.32,232.97)\" d=\"M1,0A1,1 0 1,1 0,-1A1,1 0 0,1 1,0Z\" style=\"opacity: 1; stroke-width: 0px; fill: rgb(76, 114, 176); fill-opacity: 1;\"/><path class=\"point\" transform=\"translate(145.8,231.43)\" d=\"M1,0A1,1 0 1,1 0,-1A1,1 0 0,1 1,0Z\" style=\"opacity: 1; stroke-width: 0px; fill: rgb(76, 114, 176); fill-opacity: 1;\"/><path class=\"point\" transform=\"translate(146.28,227.4)\" d=\"M1,0A1,1 0 1,1 0,-1A1,1 0 0,1 1,0Z\" style=\"opacity: 1; stroke-width: 0px; fill: rgb(76, 114, 176); fill-opacity: 1;\"/><path class=\"point\" transform=\"translate(146.76,237.92)\" d=\"M1,0A1,1 0 1,1 0,-1A1,1 0 0,1 1,0Z\" style=\"opacity: 1; stroke-width: 0px; fill: rgb(76, 114, 176); fill-opacity: 1;\"/><path class=\"point\" transform=\"translate(147.24,220.69)\" d=\"M1,0A1,1 0 1,1 0,-1A1,1 0 0,1 1,0Z\" style=\"opacity: 1; stroke-width: 0px; fill: rgb(76, 114, 176); fill-opacity: 1;\"/><path class=\"point\" transform=\"translate(147.72,207.68)\" d=\"M1,0A1,1 0 1,1 0,-1A1,1 0 0,1 1,0Z\" style=\"opacity: 1; stroke-width: 0px; fill: rgb(76, 114, 176); fill-opacity: 1;\"/><path class=\"point\" transform=\"translate(148.2,208.88)\" d=\"M1,0A1,1 0 1,1 0,-1A1,1 0 0,1 1,0Z\" style=\"opacity: 1; stroke-width: 0px; fill: rgb(76, 114, 176); fill-opacity: 1;\"/><path class=\"point\" transform=\"translate(148.68,229.17)\" d=\"M1,0A1,1 0 1,1 0,-1A1,1 0 0,1 1,0Z\" style=\"opacity: 1; stroke-width: 0px; fill: rgb(76, 114, 176); fill-opacity: 1;\"/><path class=\"point\" transform=\"translate(149.16,216.4)\" d=\"M1,0A1,1 0 1,1 0,-1A1,1 0 0,1 1,0Z\" style=\"opacity: 1; stroke-width: 0px; fill: rgb(76, 114, 176); fill-opacity: 1;\"/><path class=\"point\" transform=\"translate(149.64,214.69)\" d=\"M1,0A1,1 0 1,1 0,-1A1,1 0 0,1 1,0Z\" style=\"opacity: 1; stroke-width: 0px; fill: rgb(76, 114, 176); fill-opacity: 1;\"/><path class=\"point\" transform=\"translate(150.12,218.56)\" d=\"M1,0A1,1 0 1,1 0,-1A1,1 0 0,1 1,0Z\" style=\"opacity: 1; stroke-width: 0px; fill: rgb(76, 114, 176); fill-opacity: 1;\"/><path class=\"point\" transform=\"translate(150.6,209.68)\" d=\"M1,0A1,1 0 1,1 0,-1A1,1 0 0,1 1,0Z\" style=\"opacity: 1; stroke-width: 0px; fill: rgb(76, 114, 176); fill-opacity: 1;\"/><path class=\"point\" transform=\"translate(151.08,226.12)\" d=\"M1,0A1,1 0 1,1 0,-1A1,1 0 0,1 1,0Z\" style=\"opacity: 1; stroke-width: 0px; fill: rgb(76, 114, 176); fill-opacity: 1;\"/><path class=\"point\" transform=\"translate(151.56,222.06)\" d=\"M1,0A1,1 0 1,1 0,-1A1,1 0 0,1 1,0Z\" style=\"opacity: 1; stroke-width: 0px; fill: rgb(76, 114, 176); fill-opacity: 1;\"/><path class=\"point\" transform=\"translate(152.04,210.7)\" d=\"M1,0A1,1 0 1,1 0,-1A1,1 0 0,1 1,0Z\" style=\"opacity: 1; stroke-width: 0px; fill: rgb(76, 114, 176); fill-opacity: 1;\"/><path class=\"point\" transform=\"translate(152.52,228.34)\" d=\"M1,0A1,1 0 1,1 0,-1A1,1 0 0,1 1,0Z\" style=\"opacity: 1; stroke-width: 0px; fill: rgb(76, 114, 176); fill-opacity: 1;\"/><path class=\"point\" transform=\"translate(153,242.66)\" d=\"M1,0A1,1 0 1,1 0,-1A1,1 0 0,1 1,0Z\" style=\"opacity: 1; stroke-width: 0px; fill: rgb(76, 114, 176); fill-opacity: 1;\"/><path class=\"point\" transform=\"translate(153.48,223.22)\" d=\"M1,0A1,1 0 1,1 0,-1A1,1 0 0,1 1,0Z\" style=\"opacity: 1; stroke-width: 0px; fill: rgb(76, 114, 176); fill-opacity: 1;\"/><path class=\"point\" transform=\"translate(153.96,224.01)\" d=\"M1,0A1,1 0 1,1 0,-1A1,1 0 0,1 1,0Z\" style=\"opacity: 1; stroke-width: 0px; fill: rgb(76, 114, 176); fill-opacity: 1;\"/><path class=\"point\" transform=\"translate(154.44,215.31)\" d=\"M1,0A1,1 0 1,1 0,-1A1,1 0 0,1 1,0Z\" style=\"opacity: 1; stroke-width: 0px; fill: rgb(76, 114, 176); fill-opacity: 1;\"/><path class=\"point\" transform=\"translate(154.92,221.74)\" d=\"M1,0A1,1 0 1,1 0,-1A1,1 0 0,1 1,0Z\" style=\"opacity: 1; stroke-width: 0px; fill: rgb(76, 114, 176); fill-opacity: 1;\"/><path class=\"point\" transform=\"translate(155.41,219.57)\" d=\"M1,0A1,1 0 1,1 0,-1A1,1 0 0,1 1,0Z\" style=\"opacity: 1; stroke-width: 0px; fill: rgb(76, 114, 176); fill-opacity: 1;\"/><path class=\"point\" transform=\"translate(155.89,206.16)\" d=\"M1,0A1,1 0 1,1 0,-1A1,1 0 0,1 1,0Z\" style=\"opacity: 1; stroke-width: 0px; fill: rgb(76, 114, 176); fill-opacity: 1;\"/><path class=\"point\" transform=\"translate(156.37,200.19)\" d=\"M1,0A1,1 0 1,1 0,-1A1,1 0 0,1 1,0Z\" style=\"opacity: 1; stroke-width: 0px; fill: rgb(76, 114, 176); fill-opacity: 1;\"/><path class=\"point\" transform=\"translate(156.85,206.35)\" d=\"M1,0A1,1 0 1,1 0,-1A1,1 0 0,1 1,0Z\" style=\"opacity: 1; stroke-width: 0px; fill: rgb(76, 114, 176); fill-opacity: 1;\"/><path class=\"point\" transform=\"translate(157.33,200.53)\" d=\"M1,0A1,1 0 1,1 0,-1A1,1 0 0,1 1,0Z\" style=\"opacity: 1; stroke-width: 0px; fill: rgb(76, 114, 176); fill-opacity: 1;\"/><path class=\"point\" transform=\"translate(157.81,222.62)\" d=\"M1,0A1,1 0 1,1 0,-1A1,1 0 0,1 1,0Z\" style=\"opacity: 1; stroke-width: 0px; fill: rgb(76, 114, 176); fill-opacity: 1;\"/><path class=\"point\" transform=\"translate(158.29,203.69)\" d=\"M1,0A1,1 0 1,1 0,-1A1,1 0 0,1 1,0Z\" style=\"opacity: 1; stroke-width: 0px; fill: rgb(76, 114, 176); fill-opacity: 1;\"/><path class=\"point\" transform=\"translate(158.77,202.11)\" d=\"M1,0A1,1 0 1,1 0,-1A1,1 0 0,1 1,0Z\" style=\"opacity: 1; stroke-width: 0px; fill: rgb(76, 114, 176); fill-opacity: 1;\"/><path class=\"point\" transform=\"translate(159.25,221.98)\" d=\"M1,0A1,1 0 1,1 0,-1A1,1 0 0,1 1,0Z\" style=\"opacity: 1; stroke-width: 0px; fill: rgb(76, 114, 176); fill-opacity: 1;\"/><path class=\"point\" transform=\"translate(159.73,202.85)\" d=\"M1,0A1,1 0 1,1 0,-1A1,1 0 0,1 1,0Z\" style=\"opacity: 1; stroke-width: 0px; fill: rgb(76, 114, 176); fill-opacity: 1;\"/><path class=\"point\" transform=\"translate(160.21,205.6)\" d=\"M1,0A1,1 0 1,1 0,-1A1,1 0 0,1 1,0Z\" style=\"opacity: 1; stroke-width: 0px; fill: rgb(76, 114, 176); fill-opacity: 1;\"/><path class=\"point\" transform=\"translate(160.69,219.42)\" d=\"M1,0A1,1 0 1,1 0,-1A1,1 0 0,1 1,0Z\" style=\"opacity: 1; stroke-width: 0px; fill: rgb(76, 114, 176); fill-opacity: 1;\"/><path class=\"point\" transform=\"translate(161.17,215.15)\" d=\"M1,0A1,1 0 1,1 0,-1A1,1 0 0,1 1,0Z\" style=\"opacity: 1; stroke-width: 0px; fill: rgb(76, 114, 176); fill-opacity: 1;\"/><path class=\"point\" transform=\"translate(161.65,222.92)\" d=\"M1,0A1,1 0 1,1 0,-1A1,1 0 0,1 1,0Z\" style=\"opacity: 1; stroke-width: 0px; fill: rgb(76, 114, 176); fill-opacity: 1;\"/><path class=\"point\" transform=\"translate(162.13,235.07)\" d=\"M1,0A1,1 0 1,1 0,-1A1,1 0 0,1 1,0Z\" style=\"opacity: 1; stroke-width: 0px; fill: rgb(76, 114, 176); fill-opacity: 1;\"/><path class=\"point\" transform=\"translate(162.61,235.77)\" d=\"M1,0A1,1 0 1,1 0,-1A1,1 0 0,1 1,0Z\" style=\"opacity: 1; stroke-width: 0px; fill: rgb(76, 114, 176); fill-opacity: 1;\"/><path class=\"point\" transform=\"translate(163.09,198.06)\" d=\"M1,0A1,1 0 1,1 0,-1A1,1 0 0,1 1,0Z\" style=\"opacity: 1; stroke-width: 0px; fill: rgb(76, 114, 176); fill-opacity: 1;\"/><path class=\"point\" transform=\"translate(163.57,214.81)\" d=\"M1,0A1,1 0 1,1 0,-1A1,1 0 0,1 1,0Z\" style=\"opacity: 1; stroke-width: 0px; fill: rgb(76, 114, 176); fill-opacity: 1;\"/><path class=\"point\" transform=\"translate(164.05,199.37)\" d=\"M1,0A1,1 0 1,1 0,-1A1,1 0 0,1 1,0Z\" style=\"opacity: 1; stroke-width: 0px; fill: rgb(76, 114, 176); fill-opacity: 1;\"/><path class=\"point\" transform=\"translate(164.53,198.85)\" d=\"M1,0A1,1 0 1,1 0,-1A1,1 0 0,1 1,0Z\" style=\"opacity: 1; stroke-width: 0px; fill: rgb(76, 114, 176); fill-opacity: 1;\"/><path class=\"point\" transform=\"translate(165.02,231.36)\" d=\"M1,0A1,1 0 1,1 0,-1A1,1 0 0,1 1,0Z\" style=\"opacity: 1; stroke-width: 0px; fill: rgb(76, 114, 176); fill-opacity: 1;\"/><path class=\"point\" transform=\"translate(165.5,236.06)\" d=\"M1,0A1,1 0 1,1 0,-1A1,1 0 0,1 1,0Z\" style=\"opacity: 1; stroke-width: 0px; fill: rgb(76, 114, 176); fill-opacity: 1;\"/><path class=\"point\" transform=\"translate(165.98,217.67)\" d=\"M1,0A1,1 0 1,1 0,-1A1,1 0 0,1 1,0Z\" style=\"opacity: 1; stroke-width: 0px; fill: rgb(76, 114, 176); fill-opacity: 1;\"/><path class=\"point\" transform=\"translate(166.46,236.27)\" d=\"M1,0A1,1 0 1,1 0,-1A1,1 0 0,1 1,0Z\" style=\"opacity: 1; stroke-width: 0px; fill: rgb(76, 114, 176); fill-opacity: 1;\"/><path class=\"point\" transform=\"translate(166.94,202.72)\" d=\"M1,0A1,1 0 1,1 0,-1A1,1 0 0,1 1,0Z\" style=\"opacity: 1; stroke-width: 0px; fill: rgb(76, 114, 176); fill-opacity: 1;\"/><path class=\"point\" transform=\"translate(167.42,218.1)\" d=\"M1,0A1,1 0 1,1 0,-1A1,1 0 0,1 1,0Z\" style=\"opacity: 1; stroke-width: 0px; fill: rgb(76, 114, 176); fill-opacity: 1;\"/><path class=\"point\" transform=\"translate(167.9,214.74)\" d=\"M1,0A1,1 0 1,1 0,-1A1,1 0 0,1 1,0Z\" style=\"opacity: 1; stroke-width: 0px; fill: rgb(76, 114, 176); fill-opacity: 1;\"/><path class=\"point\" transform=\"translate(168.38,209.52)\" d=\"M1,0A1,1 0 1,1 0,-1A1,1 0 0,1 1,0Z\" style=\"opacity: 1; stroke-width: 0px; fill: rgb(76, 114, 176); fill-opacity: 1;\"/><path class=\"point\" transform=\"translate(168.86,231.7)\" d=\"M1,0A1,1 0 1,1 0,-1A1,1 0 0,1 1,0Z\" style=\"opacity: 1; stroke-width: 0px; fill: rgb(76, 114, 176); fill-opacity: 1;\"/><path class=\"point\" transform=\"translate(169.34,211.85)\" d=\"M1,0A1,1 0 1,1 0,-1A1,1 0 0,1 1,0Z\" style=\"opacity: 1; stroke-width: 0px; fill: rgb(76, 114, 176); fill-opacity: 1;\"/><path class=\"point\" transform=\"translate(169.82,220.56)\" d=\"M1,0A1,1 0 1,1 0,-1A1,1 0 0,1 1,0Z\" style=\"opacity: 1; stroke-width: 0px; fill: rgb(76, 114, 176); fill-opacity: 1;\"/><path class=\"point\" transform=\"translate(170.3,225.57)\" d=\"M1,0A1,1 0 1,1 0,-1A1,1 0 0,1 1,0Z\" style=\"opacity: 1; stroke-width: 0px; fill: rgb(76, 114, 176); fill-opacity: 1;\"/><path class=\"point\" transform=\"translate(170.78,197.44)\" d=\"M1,0A1,1 0 1,1 0,-1A1,1 0 0,1 1,0Z\" style=\"opacity: 1; stroke-width: 0px; fill: rgb(76, 114, 176); fill-opacity: 1;\"/><path class=\"point\" transform=\"translate(171.26,193.76)\" d=\"M1,0A1,1 0 1,1 0,-1A1,1 0 0,1 1,0Z\" style=\"opacity: 1; stroke-width: 0px; fill: rgb(76, 114, 176); fill-opacity: 1;\"/><path class=\"point\" transform=\"translate(171.74,227.5)\" d=\"M1,0A1,1 0 1,1 0,-1A1,1 0 0,1 1,0Z\" style=\"opacity: 1; stroke-width: 0px; fill: rgb(76, 114, 176); fill-opacity: 1;\"/><path class=\"point\" transform=\"translate(172.22,220.32)\" d=\"M1,0A1,1 0 1,1 0,-1A1,1 0 0,1 1,0Z\" style=\"opacity: 1; stroke-width: 0px; fill: rgb(76, 114, 176); fill-opacity: 1;\"/><path class=\"point\" transform=\"translate(172.7,212.16)\" d=\"M1,0A1,1 0 1,1 0,-1A1,1 0 0,1 1,0Z\" style=\"opacity: 1; stroke-width: 0px; fill: rgb(76, 114, 176); fill-opacity: 1;\"/><path class=\"point\" transform=\"translate(173.18,201.58)\" d=\"M1,0A1,1 0 1,1 0,-1A1,1 0 0,1 1,0Z\" style=\"opacity: 1; stroke-width: 0px; fill: rgb(76, 114, 176); fill-opacity: 1;\"/><path class=\"point\" transform=\"translate(173.66,228.54)\" d=\"M1,0A1,1 0 1,1 0,-1A1,1 0 0,1 1,0Z\" style=\"opacity: 1; stroke-width: 0px; fill: rgb(76, 114, 176); fill-opacity: 1;\"/><path class=\"point\" transform=\"translate(174.14,207.14)\" d=\"M1,0A1,1 0 1,1 0,-1A1,1 0 0,1 1,0Z\" style=\"opacity: 1; stroke-width: 0px; fill: rgb(76, 114, 176); fill-opacity: 1;\"/><path class=\"point\" transform=\"translate(174.62,202.07)\" d=\"M1,0A1,1 0 1,1 0,-1A1,1 0 0,1 1,0Z\" style=\"opacity: 1; stroke-width: 0px; fill: rgb(76, 114, 176); fill-opacity: 1;\"/><path class=\"point\" transform=\"translate(175.11,210.14)\" d=\"M1,0A1,1 0 1,1 0,-1A1,1 0 0,1 1,0Z\" style=\"opacity: 1; stroke-width: 0px; fill: rgb(76, 114, 176); fill-opacity: 1;\"/><path class=\"point\" transform=\"translate(175.59,210.67)\" d=\"M1,0A1,1 0 1,1 0,-1A1,1 0 0,1 1,0Z\" style=\"opacity: 1; stroke-width: 0px; fill: rgb(76, 114, 176); fill-opacity: 1;\"/><path class=\"point\" transform=\"translate(176.07,207.34)\" d=\"M1,0A1,1 0 1,1 0,-1A1,1 0 0,1 1,0Z\" style=\"opacity: 1; stroke-width: 0px; fill: rgb(76, 114, 176); fill-opacity: 1;\"/><path class=\"point\" transform=\"translate(176.55,202.34)\" d=\"M1,0A1,1 0 1,1 0,-1A1,1 0 0,1 1,0Z\" style=\"opacity: 1; stroke-width: 0px; fill: rgb(76, 114, 176); fill-opacity: 1;\"/><path class=\"point\" transform=\"translate(177.03,209.95)\" d=\"M1,0A1,1 0 1,1 0,-1A1,1 0 0,1 1,0Z\" style=\"opacity: 1; stroke-width: 0px; fill: rgb(76, 114, 176); fill-opacity: 1;\"/><path class=\"point\" transform=\"translate(177.51,197.57)\" d=\"M1,0A1,1 0 1,1 0,-1A1,1 0 0,1 1,0Z\" style=\"opacity: 1; stroke-width: 0px; fill: rgb(76, 114, 176); fill-opacity: 1;\"/><path class=\"point\" transform=\"translate(177.99,190.4)\" d=\"M1,0A1,1 0 1,1 0,-1A1,1 0 0,1 1,0Z\" style=\"opacity: 1; stroke-width: 0px; fill: rgb(76, 114, 176); fill-opacity: 1;\"/><path class=\"point\" transform=\"translate(178.47,198.53)\" d=\"M1,0A1,1 0 1,1 0,-1A1,1 0 0,1 1,0Z\" style=\"opacity: 1; stroke-width: 0px; fill: rgb(76, 114, 176); fill-opacity: 1;\"/><path class=\"point\" transform=\"translate(178.95,210.86)\" d=\"M1,0A1,1 0 1,1 0,-1A1,1 0 0,1 1,0Z\" style=\"opacity: 1; stroke-width: 0px; fill: rgb(76, 114, 176); fill-opacity: 1;\"/><path class=\"point\" transform=\"translate(179.43,211.79)\" d=\"M1,0A1,1 0 1,1 0,-1A1,1 0 0,1 1,0Z\" style=\"opacity: 1; stroke-width: 0px; fill: rgb(76, 114, 176); fill-opacity: 1;\"/><path class=\"point\" transform=\"translate(179.91,189.93)\" d=\"M1,0A1,1 0 1,1 0,-1A1,1 0 0,1 1,0Z\" style=\"opacity: 1; stroke-width: 0px; fill: rgb(76, 114, 176); fill-opacity: 1;\"/><path class=\"point\" transform=\"translate(180.39,192.86)\" d=\"M1,0A1,1 0 1,1 0,-1A1,1 0 0,1 1,0Z\" style=\"opacity: 1; stroke-width: 0px; fill: rgb(76, 114, 176); fill-opacity: 1;\"/><path class=\"point\" transform=\"translate(180.87,201.21)\" d=\"M1,0A1,1 0 1,1 0,-1A1,1 0 0,1 1,0Z\" style=\"opacity: 1; stroke-width: 0px; fill: rgb(76, 114, 176); fill-opacity: 1;\"/><path class=\"point\" transform=\"translate(181.35,198.62)\" d=\"M1,0A1,1 0 1,1 0,-1A1,1 0 0,1 1,0Z\" style=\"opacity: 1; stroke-width: 0px; fill: rgb(76, 114, 176); fill-opacity: 1;\"/><path class=\"point\" transform=\"translate(181.83,204)\" d=\"M1,0A1,1 0 1,1 0,-1A1,1 0 0,1 1,0Z\" style=\"opacity: 1; stroke-width: 0px; fill: rgb(76, 114, 176); fill-opacity: 1;\"/><path class=\"point\" transform=\"translate(182.31,200.05)\" d=\"M1,0A1,1 0 1,1 0,-1A1,1 0 0,1 1,0Z\" style=\"opacity: 1; stroke-width: 0px; fill: rgb(76, 114, 176); fill-opacity: 1;\"/><path class=\"point\" transform=\"translate(182.79,224.89)\" d=\"M1,0A1,1 0 1,1 0,-1A1,1 0 0,1 1,0Z\" style=\"opacity: 1; stroke-width: 0px; fill: rgb(76, 114, 176); fill-opacity: 1;\"/><path class=\"point\" transform=\"translate(183.27,220.89)\" d=\"M1,0A1,1 0 1,1 0,-1A1,1 0 0,1 1,0Z\" style=\"opacity: 1; stroke-width: 0px; fill: rgb(76, 114, 176); fill-opacity: 1;\"/><path class=\"point\" transform=\"translate(183.75,224.34)\" d=\"M1,0A1,1 0 1,1 0,-1A1,1 0 0,1 1,0Z\" style=\"opacity: 1; stroke-width: 0px; fill: rgb(76, 114, 176); fill-opacity: 1;\"/><path class=\"point\" transform=\"translate(184.23,209.68)\" d=\"M1,0A1,1 0 1,1 0,-1A1,1 0 0,1 1,0Z\" style=\"opacity: 1; stroke-width: 0px; fill: rgb(76, 114, 176); fill-opacity: 1;\"/><path class=\"point\" transform=\"translate(184.71,207.95)\" d=\"M1,0A1,1 0 1,1 0,-1A1,1 0 0,1 1,0Z\" style=\"opacity: 1; stroke-width: 0px; fill: rgb(76, 114, 176); fill-opacity: 1;\"/><path class=\"point\" transform=\"translate(185.2,220.76)\" d=\"M1,0A1,1 0 1,1 0,-1A1,1 0 0,1 1,0Z\" style=\"opacity: 1; stroke-width: 0px; fill: rgb(76, 114, 176); fill-opacity: 1;\"/><path class=\"point\" transform=\"translate(185.68,202.97)\" d=\"M1,0A1,1 0 1,1 0,-1A1,1 0 0,1 1,0Z\" style=\"opacity: 1; stroke-width: 0px; fill: rgb(76, 114, 176); fill-opacity: 1;\"/><path class=\"point\" transform=\"translate(186.16,195.47)\" d=\"M1,0A1,1 0 1,1 0,-1A1,1 0 0,1 1,0Z\" style=\"opacity: 1; stroke-width: 0px; fill: rgb(76, 114, 176); fill-opacity: 1;\"/><path class=\"point\" transform=\"translate(186.64,206.71)\" d=\"M1,0A1,1 0 1,1 0,-1A1,1 0 0,1 1,0Z\" style=\"opacity: 1; stroke-width: 0px; fill: rgb(76, 114, 176); fill-opacity: 1;\"/><path class=\"point\" transform=\"translate(187.12,200.66)\" d=\"M1,0A1,1 0 1,1 0,-1A1,1 0 0,1 1,0Z\" style=\"opacity: 1; stroke-width: 0px; fill: rgb(76, 114, 176); fill-opacity: 1;\"/><path class=\"point\" transform=\"translate(187.6,213.15)\" d=\"M1,0A1,1 0 1,1 0,-1A1,1 0 0,1 1,0Z\" style=\"opacity: 1; stroke-width: 0px; fill: rgb(76, 114, 176); fill-opacity: 1;\"/><path class=\"point\" transform=\"translate(188.08,210.08)\" d=\"M1,0A1,1 0 1,1 0,-1A1,1 0 0,1 1,0Z\" style=\"opacity: 1; stroke-width: 0px; fill: rgb(76, 114, 176); fill-opacity: 1;\"/><path class=\"point\" transform=\"translate(188.56,204.2)\" d=\"M1,0A1,1 0 1,1 0,-1A1,1 0 0,1 1,0Z\" style=\"opacity: 1; stroke-width: 0px; fill: rgb(76, 114, 176); fill-opacity: 1;\"/><path class=\"point\" transform=\"translate(189.04,201.06)\" d=\"M1,0A1,1 0 1,1 0,-1A1,1 0 0,1 1,0Z\" style=\"opacity: 1; stroke-width: 0px; fill: rgb(76, 114, 176); fill-opacity: 1;\"/><path class=\"point\" transform=\"translate(189.52,185.13)\" d=\"M1,0A1,1 0 1,1 0,-1A1,1 0 0,1 1,0Z\" style=\"opacity: 1; stroke-width: 0px; fill: rgb(76, 114, 176); fill-opacity: 1;\"/><path class=\"point\" transform=\"translate(190,200.49)\" d=\"M1,0A1,1 0 1,1 0,-1A1,1 0 0,1 1,0Z\" style=\"opacity: 1; stroke-width: 0px; fill: rgb(76, 114, 176); fill-opacity: 1;\"/><path class=\"point\" transform=\"translate(190.48,209.46)\" d=\"M1,0A1,1 0 1,1 0,-1A1,1 0 0,1 1,0Z\" style=\"opacity: 1; stroke-width: 0px; fill: rgb(76, 114, 176); fill-opacity: 1;\"/><path class=\"point\" transform=\"translate(190.96,216.68)\" d=\"M1,0A1,1 0 1,1 0,-1A1,1 0 0,1 1,0Z\" style=\"opacity: 1; stroke-width: 0px; fill: rgb(76, 114, 176); fill-opacity: 1;\"/><path class=\"point\" transform=\"translate(191.44,202.22)\" d=\"M1,0A1,1 0 1,1 0,-1A1,1 0 0,1 1,0Z\" style=\"opacity: 1; stroke-width: 0px; fill: rgb(76, 114, 176); fill-opacity: 1;\"/><path class=\"point\" transform=\"translate(191.92,202.61)\" d=\"M1,0A1,1 0 1,1 0,-1A1,1 0 0,1 1,0Z\" style=\"opacity: 1; stroke-width: 0px; fill: rgb(76, 114, 176); fill-opacity: 1;\"/><path class=\"point\" transform=\"translate(192.4,204.51)\" d=\"M1,0A1,1 0 1,1 0,-1A1,1 0 0,1 1,0Z\" style=\"opacity: 1; stroke-width: 0px; fill: rgb(76, 114, 176); fill-opacity: 1;\"/><path class=\"point\" transform=\"translate(192.88,197.34)\" d=\"M1,0A1,1 0 1,1 0,-1A1,1 0 0,1 1,0Z\" style=\"opacity: 1; stroke-width: 0px; fill: rgb(76, 114, 176); fill-opacity: 1;\"/><path class=\"point\" transform=\"translate(193.36,186.78)\" d=\"M1,0A1,1 0 1,1 0,-1A1,1 0 0,1 1,0Z\" style=\"opacity: 1; stroke-width: 0px; fill: rgb(76, 114, 176); fill-opacity: 1;\"/><path class=\"point\" transform=\"translate(193.84,204.74)\" d=\"M1,0A1,1 0 1,1 0,-1A1,1 0 0,1 1,0Z\" style=\"opacity: 1; stroke-width: 0px; fill: rgb(76, 114, 176); fill-opacity: 1;\"/><path class=\"point\" transform=\"translate(194.32,221.18)\" d=\"M1,0A1,1 0 1,1 0,-1A1,1 0 0,1 1,0Z\" style=\"opacity: 1; stroke-width: 0px; fill: rgb(76, 114, 176); fill-opacity: 1;\"/><path class=\"point\" transform=\"translate(194.8,203.27)\" d=\"M1,0A1,1 0 1,1 0,-1A1,1 0 0,1 1,0Z\" style=\"opacity: 1; stroke-width: 0px; fill: rgb(76, 114, 176); fill-opacity: 1;\"/><path class=\"point\" transform=\"translate(195.29,200.01)\" d=\"M1,0A1,1 0 1,1 0,-1A1,1 0 0,1 1,0Z\" style=\"opacity: 1; stroke-width: 0px; fill: rgb(76, 114, 176); fill-opacity: 1;\"/><path class=\"point\" transform=\"translate(195.77,217.8)\" d=\"M1,0A1,1 0 1,1 0,-1A1,1 0 0,1 1,0Z\" style=\"opacity: 1; stroke-width: 0px; fill: rgb(76, 114, 176); fill-opacity: 1;\"/><path class=\"point\" transform=\"translate(196.25,194.07)\" d=\"M1,0A1,1 0 1,1 0,-1A1,1 0 0,1 1,0Z\" style=\"opacity: 1; stroke-width: 0px; fill: rgb(76, 114, 176); fill-opacity: 1;\"/><path class=\"point\" transform=\"translate(196.73,219.8)\" d=\"M1,0A1,1 0 1,1 0,-1A1,1 0 0,1 1,0Z\" style=\"opacity: 1; stroke-width: 0px; fill: rgb(76, 114, 176); fill-opacity: 1;\"/><path class=\"point\" transform=\"translate(197.21,197.82)\" d=\"M1,0A1,1 0 1,1 0,-1A1,1 0 0,1 1,0Z\" style=\"opacity: 1; stroke-width: 0px; fill: rgb(76, 114, 176); fill-opacity: 1;\"/><path class=\"point\" transform=\"translate(197.69,205.2)\" d=\"M1,0A1,1 0 1,1 0,-1A1,1 0 0,1 1,0Z\" style=\"opacity: 1; stroke-width: 0px; fill: rgb(76, 114, 176); fill-opacity: 1;\"/><path class=\"point\" transform=\"translate(198.17,196.57)\" d=\"M1,0A1,1 0 1,1 0,-1A1,1 0 0,1 1,0Z\" style=\"opacity: 1; stroke-width: 0px; fill: rgb(76, 114, 176); fill-opacity: 1;\"/><path class=\"point\" transform=\"translate(198.65,208.89)\" d=\"M1,0A1,1 0 1,1 0,-1A1,1 0 0,1 1,0Z\" style=\"opacity: 1; stroke-width: 0px; fill: rgb(76, 114, 176); fill-opacity: 1;\"/><path class=\"point\" transform=\"translate(199.13,207.02)\" d=\"M1,0A1,1 0 1,1 0,-1A1,1 0 0,1 1,0Z\" style=\"opacity: 1; stroke-width: 0px; fill: rgb(76, 114, 176); fill-opacity: 1;\"/><path class=\"point\" transform=\"translate(199.61,195.54)\" d=\"M1,0A1,1 0 1,1 0,-1A1,1 0 0,1 1,0Z\" style=\"opacity: 1; stroke-width: 0px; fill: rgb(76, 114, 176); fill-opacity: 1;\"/><path class=\"point\" transform=\"translate(200.09,188.98)\" d=\"M1,0A1,1 0 1,1 0,-1A1,1 0 0,1 1,0Z\" style=\"opacity: 1; stroke-width: 0px; fill: rgb(76, 114, 176); fill-opacity: 1;\"/><path class=\"point\" transform=\"translate(200.57,194.15)\" d=\"M1,0A1,1 0 1,1 0,-1A1,1 0 0,1 1,0Z\" style=\"opacity: 1; stroke-width: 0px; fill: rgb(76, 114, 176); fill-opacity: 1;\"/><path class=\"point\" transform=\"translate(201.05,195.68)\" d=\"M1,0A1,1 0 1,1 0,-1A1,1 0 0,1 1,0Z\" style=\"opacity: 1; stroke-width: 0px; fill: rgb(76, 114, 176); fill-opacity: 1;\"/><path class=\"point\" transform=\"translate(201.53,202.83)\" d=\"M1,0A1,1 0 1,1 0,-1A1,1 0 0,1 1,0Z\" style=\"opacity: 1; stroke-width: 0px; fill: rgb(76, 114, 176); fill-opacity: 1;\"/><path class=\"point\" transform=\"translate(202.01,184.26)\" d=\"M1,0A1,1 0 1,1 0,-1A1,1 0 0,1 1,0Z\" style=\"opacity: 1; stroke-width: 0px; fill: rgb(76, 114, 176); fill-opacity: 1;\"/><path class=\"point\" transform=\"translate(202.49,212.02)\" d=\"M1,0A1,1 0 1,1 0,-1A1,1 0 0,1 1,0Z\" style=\"opacity: 1; stroke-width: 0px; fill: rgb(76, 114, 176); fill-opacity: 1;\"/><path class=\"point\" transform=\"translate(202.97,185.55)\" d=\"M1,0A1,1 0 1,1 0,-1A1,1 0 0,1 1,0Z\" style=\"opacity: 1; stroke-width: 0px; fill: rgb(76, 114, 176); fill-opacity: 1;\"/><path class=\"point\" transform=\"translate(203.45,210.13)\" d=\"M1,0A1,1 0 1,1 0,-1A1,1 0 0,1 1,0Z\" style=\"opacity: 1; stroke-width: 0px; fill: rgb(76, 114, 176); fill-opacity: 1;\"/><path class=\"point\" transform=\"translate(203.93,185.77)\" d=\"M1,0A1,1 0 1,1 0,-1A1,1 0 0,1 1,0Z\" style=\"opacity: 1; stroke-width: 0px; fill: rgb(76, 114, 176); fill-opacity: 1;\"/><path class=\"point\" transform=\"translate(204.41,212.34)\" d=\"M1,0A1,1 0 1,1 0,-1A1,1 0 0,1 1,0Z\" style=\"opacity: 1; stroke-width: 0px; fill: rgb(76, 114, 176); fill-opacity: 1;\"/><path class=\"point\" transform=\"translate(204.89,197.54)\" d=\"M1,0A1,1 0 1,1 0,-1A1,1 0 0,1 1,0Z\" style=\"opacity: 1; stroke-width: 0px; fill: rgb(76, 114, 176); fill-opacity: 1;\"/><path class=\"point\" transform=\"translate(205.38,190.65)\" d=\"M1,0A1,1 0 1,1 0,-1A1,1 0 0,1 1,0Z\" style=\"opacity: 1; stroke-width: 0px; fill: rgb(76, 114, 176); fill-opacity: 1;\"/><path class=\"point\" transform=\"translate(205.86,192.11)\" d=\"M1,0A1,1 0 1,1 0,-1A1,1 0 0,1 1,0Z\" style=\"opacity: 1; stroke-width: 0px; fill: rgb(76, 114, 176); fill-opacity: 1;\"/><path class=\"point\" transform=\"translate(206.34,211.74)\" d=\"M1,0A1,1 0 1,1 0,-1A1,1 0 0,1 1,0Z\" style=\"opacity: 1; stroke-width: 0px; fill: rgb(76, 114, 176); fill-opacity: 1;\"/><path class=\"point\" transform=\"translate(206.82,194.83)\" d=\"M1,0A1,1 0 1,1 0,-1A1,1 0 0,1 1,0Z\" style=\"opacity: 1; stroke-width: 0px; fill: rgb(76, 114, 176); fill-opacity: 1;\"/><path class=\"point\" transform=\"translate(207.3,196.77)\" d=\"M1,0A1,1 0 1,1 0,-1A1,1 0 0,1 1,0Z\" style=\"opacity: 1; stroke-width: 0px; fill: rgb(76, 114, 176); fill-opacity: 1;\"/><path class=\"point\" transform=\"translate(207.78,189.08)\" d=\"M1,0A1,1 0 1,1 0,-1A1,1 0 0,1 1,0Z\" style=\"opacity: 1; stroke-width: 0px; fill: rgb(76, 114, 176); fill-opacity: 1;\"/><path class=\"point\" transform=\"translate(208.26,205.01)\" d=\"M1,0A1,1 0 1,1 0,-1A1,1 0 0,1 1,0Z\" style=\"opacity: 1; stroke-width: 0px; fill: rgb(76, 114, 176); fill-opacity: 1;\"/><path class=\"point\" transform=\"translate(208.74,173.53)\" d=\"M1,0A1,1 0 1,1 0,-1A1,1 0 0,1 1,0Z\" style=\"opacity: 1; stroke-width: 0px; fill: rgb(76, 114, 176); fill-opacity: 1;\"/><path class=\"point\" transform=\"translate(209.22,186.13)\" d=\"M1,0A1,1 0 1,1 0,-1A1,1 0 0,1 1,0Z\" style=\"opacity: 1; stroke-width: 0px; fill: rgb(76, 114, 176); fill-opacity: 1;\"/><path class=\"point\" transform=\"translate(209.7,208.76)\" d=\"M1,0A1,1 0 1,1 0,-1A1,1 0 0,1 1,0Z\" style=\"opacity: 1; stroke-width: 0px; fill: rgb(76, 114, 176); fill-opacity: 1;\"/><path class=\"point\" transform=\"translate(210.18,208.78)\" d=\"M1,0A1,1 0 1,1 0,-1A1,1 0 0,1 1,0Z\" style=\"opacity: 1; stroke-width: 0px; fill: rgb(76, 114, 176); fill-opacity: 1;\"/><path class=\"point\" transform=\"translate(210.66,187.57)\" d=\"M1,0A1,1 0 1,1 0,-1A1,1 0 0,1 1,0Z\" style=\"opacity: 1; stroke-width: 0px; fill: rgb(76, 114, 176); fill-opacity: 1;\"/><path class=\"point\" transform=\"translate(211.14,187.18)\" d=\"M1,0A1,1 0 1,1 0,-1A1,1 0 0,1 1,0Z\" style=\"opacity: 1; stroke-width: 0px; fill: rgb(76, 114, 176); fill-opacity: 1;\"/><path class=\"point\" transform=\"translate(211.62,172.41)\" d=\"M1,0A1,1 0 1,1 0,-1A1,1 0 0,1 1,0Z\" style=\"opacity: 1; stroke-width: 0px; fill: rgb(76, 114, 176); fill-opacity: 1;\"/><path class=\"point\" transform=\"translate(212.1,209.16)\" d=\"M1,0A1,1 0 1,1 0,-1A1,1 0 0,1 1,0Z\" style=\"opacity: 1; stroke-width: 0px; fill: rgb(76, 114, 176); fill-opacity: 1;\"/><path class=\"point\" transform=\"translate(212.58,189.48)\" d=\"M1,0A1,1 0 1,1 0,-1A1,1 0 0,1 1,0Z\" style=\"opacity: 1; stroke-width: 0px; fill: rgb(76, 114, 176); fill-opacity: 1;\"/><path class=\"point\" transform=\"translate(213.06,186.49)\" d=\"M1,0A1,1 0 1,1 0,-1A1,1 0 0,1 1,0Z\" style=\"opacity: 1; stroke-width: 0px; fill: rgb(76, 114, 176); fill-opacity: 1;\"/><path class=\"point\" transform=\"translate(213.54,202.43)\" d=\"M1,0A1,1 0 1,1 0,-1A1,1 0 0,1 1,0Z\" style=\"opacity: 1; stroke-width: 0px; fill: rgb(76, 114, 176); fill-opacity: 1;\"/><path class=\"point\" transform=\"translate(214.02,205.16)\" d=\"M1,0A1,1 0 1,1 0,-1A1,1 0 0,1 1,0Z\" style=\"opacity: 1; stroke-width: 0px; fill: rgb(76, 114, 176); fill-opacity: 1;\"/><path class=\"point\" transform=\"translate(214.5,193.59)\" d=\"M1,0A1,1 0 1,1 0,-1A1,1 0 0,1 1,0Z\" style=\"opacity: 1; stroke-width: 0px; fill: rgb(76, 114, 176); fill-opacity: 1;\"/><path class=\"point\" transform=\"translate(214.98,172.86)\" d=\"M1,0A1,1 0 1,1 0,-1A1,1 0 0,1 1,0Z\" style=\"opacity: 1; stroke-width: 0px; fill: rgb(76, 114, 176); fill-opacity: 1;\"/><path class=\"point\" transform=\"translate(215.47,183.1)\" d=\"M1,0A1,1 0 1,1 0,-1A1,1 0 0,1 1,0Z\" style=\"opacity: 1; stroke-width: 0px; fill: rgb(76, 114, 176); fill-opacity: 1;\"/><path class=\"point\" transform=\"translate(215.95,185.92)\" d=\"M1,0A1,1 0 1,1 0,-1A1,1 0 0,1 1,0Z\" style=\"opacity: 1; stroke-width: 0px; fill: rgb(76, 114, 176); fill-opacity: 1;\"/><path class=\"point\" transform=\"translate(216.43,176.15)\" d=\"M1,0A1,1 0 1,1 0,-1A1,1 0 0,1 1,0Z\" style=\"opacity: 1; stroke-width: 0px; fill: rgb(76, 114, 176); fill-opacity: 1;\"/><path class=\"point\" transform=\"translate(216.91,169.27)\" d=\"M1,0A1,1 0 1,1 0,-1A1,1 0 0,1 1,0Z\" style=\"opacity: 1; stroke-width: 0px; fill: rgb(76, 114, 176); fill-opacity: 1;\"/><path class=\"point\" transform=\"translate(217.39,182.75)\" d=\"M1,0A1,1 0 1,1 0,-1A1,1 0 0,1 1,0Z\" style=\"opacity: 1; stroke-width: 0px; fill: rgb(76, 114, 176); fill-opacity: 1;\"/><path class=\"point\" transform=\"translate(217.87,191.35)\" d=\"M1,0A1,1 0 1,1 0,-1A1,1 0 0,1 1,0Z\" style=\"opacity: 1; stroke-width: 0px; fill: rgb(76, 114, 176); fill-opacity: 1;\"/><path class=\"point\" transform=\"translate(218.35,199.93)\" d=\"M1,0A1,1 0 1,1 0,-1A1,1 0 0,1 1,0Z\" style=\"opacity: 1; stroke-width: 0px; fill: rgb(76, 114, 176); fill-opacity: 1;\"/><path class=\"point\" transform=\"translate(218.83,176.86)\" d=\"M1,0A1,1 0 1,1 0,-1A1,1 0 0,1 1,0Z\" style=\"opacity: 1; stroke-width: 0px; fill: rgb(76, 114, 176); fill-opacity: 1;\"/><path class=\"point\" transform=\"translate(219.31,190.26)\" d=\"M1,0A1,1 0 1,1 0,-1A1,1 0 0,1 1,0Z\" style=\"opacity: 1; stroke-width: 0px; fill: rgb(76, 114, 176); fill-opacity: 1;\"/><path class=\"point\" transform=\"translate(219.79,190.64)\" d=\"M1,0A1,1 0 1,1 0,-1A1,1 0 0,1 1,0Z\" style=\"opacity: 1; stroke-width: 0px; fill: rgb(76, 114, 176); fill-opacity: 1;\"/><path class=\"point\" transform=\"translate(220.27,198.04)\" d=\"M1,0A1,1 0 1,1 0,-1A1,1 0 0,1 1,0Z\" style=\"opacity: 1; stroke-width: 0px; fill: rgb(76, 114, 176); fill-opacity: 1;\"/><path class=\"point\" transform=\"translate(220.75,196.75)\" d=\"M1,0A1,1 0 1,1 0,-1A1,1 0 0,1 1,0Z\" style=\"opacity: 1; stroke-width: 0px; fill: rgb(76, 114, 176); fill-opacity: 1;\"/><path class=\"point\" transform=\"translate(221.23,198.08)\" d=\"M1,0A1,1 0 1,1 0,-1A1,1 0 0,1 1,0Z\" style=\"opacity: 1; stroke-width: 0px; fill: rgb(76, 114, 176); fill-opacity: 1;\"/><path class=\"point\" transform=\"translate(221.71,169.95)\" d=\"M1,0A1,1 0 1,1 0,-1A1,1 0 0,1 1,0Z\" style=\"opacity: 1; stroke-width: 0px; fill: rgb(76, 114, 176); fill-opacity: 1;\"/><path class=\"point\" transform=\"translate(222.19,183.98)\" d=\"M1,0A1,1 0 1,1 0,-1A1,1 0 0,1 1,0Z\" style=\"opacity: 1; stroke-width: 0px; fill: rgb(76, 114, 176); fill-opacity: 1;\"/><path class=\"point\" transform=\"translate(222.67,188.38)\" d=\"M1,0A1,1 0 1,1 0,-1A1,1 0 0,1 1,0Z\" style=\"opacity: 1; stroke-width: 0px; fill: rgb(76, 114, 176); fill-opacity: 1;\"/><path class=\"point\" transform=\"translate(223.15,191.33)\" d=\"M1,0A1,1 0 1,1 0,-1A1,1 0 0,1 1,0Z\" style=\"opacity: 1; stroke-width: 0px; fill: rgb(76, 114, 176); fill-opacity: 1;\"/><path class=\"point\" transform=\"translate(223.63,199.69)\" d=\"M1,0A1,1 0 1,1 0,-1A1,1 0 0,1 1,0Z\" style=\"opacity: 1; stroke-width: 0px; fill: rgb(76, 114, 176); fill-opacity: 1;\"/><path class=\"point\" transform=\"translate(224.11,199.58)\" d=\"M1,0A1,1 0 1,1 0,-1A1,1 0 0,1 1,0Z\" style=\"opacity: 1; stroke-width: 0px; fill: rgb(76, 114, 176); fill-opacity: 1;\"/><path class=\"point\" transform=\"translate(224.59,192.6)\" d=\"M1,0A1,1 0 1,1 0,-1A1,1 0 0,1 1,0Z\" style=\"opacity: 1; stroke-width: 0px; fill: rgb(76, 114, 176); fill-opacity: 1;\"/><path class=\"point\" transform=\"translate(225.08,203.95)\" d=\"M1,0A1,1 0 1,1 0,-1A1,1 0 0,1 1,0Z\" style=\"opacity: 1; stroke-width: 0px; fill: rgb(76, 114, 176); fill-opacity: 1;\"/><path class=\"point\" transform=\"translate(225.56,173.46)\" d=\"M1,0A1,1 0 1,1 0,-1A1,1 0 0,1 1,0Z\" style=\"opacity: 1; stroke-width: 0px; fill: rgb(76, 114, 176); fill-opacity: 1;\"/><path class=\"point\" transform=\"translate(226.04,200.19)\" d=\"M1,0A1,1 0 1,1 0,-1A1,1 0 0,1 1,0Z\" style=\"opacity: 1; stroke-width: 0px; fill: rgb(76, 114, 176); fill-opacity: 1;\"/><path class=\"point\" transform=\"translate(226.52,199.82)\" d=\"M1,0A1,1 0 1,1 0,-1A1,1 0 0,1 1,0Z\" style=\"opacity: 1; stroke-width: 0px; fill: rgb(76, 114, 176); fill-opacity: 1;\"/><path class=\"point\" transform=\"translate(227,199.27)\" d=\"M1,0A1,1 0 1,1 0,-1A1,1 0 0,1 1,0Z\" style=\"opacity: 1; stroke-width: 0px; fill: rgb(76, 114, 176); fill-opacity: 1;\"/><path class=\"point\" transform=\"translate(227.48,194.02)\" d=\"M1,0A1,1 0 1,1 0,-1A1,1 0 0,1 1,0Z\" style=\"opacity: 1; stroke-width: 0px; fill: rgb(76, 114, 176); fill-opacity: 1;\"/><path class=\"point\" transform=\"translate(227.96,199.19)\" d=\"M1,0A1,1 0 1,1 0,-1A1,1 0 0,1 1,0Z\" style=\"opacity: 1; stroke-width: 0px; fill: rgb(76, 114, 176); fill-opacity: 1;\"/><path class=\"point\" transform=\"translate(228.44,162.41)\" d=\"M1,0A1,1 0 1,1 0,-1A1,1 0 0,1 1,0Z\" style=\"opacity: 1; stroke-width: 0px; fill: rgb(76, 114, 176); fill-opacity: 1;\"/><path class=\"point\" transform=\"translate(228.92,166.37)\" d=\"M1,0A1,1 0 1,1 0,-1A1,1 0 0,1 1,0Z\" style=\"opacity: 1; stroke-width: 0px; fill: rgb(76, 114, 176); fill-opacity: 1;\"/><path class=\"point\" transform=\"translate(229.4,190.84)\" d=\"M1,0A1,1 0 1,1 0,-1A1,1 0 0,1 1,0Z\" style=\"opacity: 1; stroke-width: 0px; fill: rgb(76, 114, 176); fill-opacity: 1;\"/><path class=\"point\" transform=\"translate(229.88,182.14)\" d=\"M1,0A1,1 0 1,1 0,-1A1,1 0 0,1 1,0Z\" style=\"opacity: 1; stroke-width: 0px; fill: rgb(76, 114, 176); fill-opacity: 1;\"/><path class=\"point\" transform=\"translate(230.36,161.61)\" d=\"M1,0A1,1 0 1,1 0,-1A1,1 0 0,1 1,0Z\" style=\"opacity: 1; stroke-width: 0px; fill: rgb(76, 114, 176); fill-opacity: 1;\"/><path class=\"point\" transform=\"translate(230.84,184.69)\" d=\"M1,0A1,1 0 1,1 0,-1A1,1 0 0,1 1,0Z\" style=\"opacity: 1; stroke-width: 0px; fill: rgb(76, 114, 176); fill-opacity: 1;\"/><path class=\"point\" transform=\"translate(231.32,201.44)\" d=\"M1,0A1,1 0 1,1 0,-1A1,1 0 0,1 1,0Z\" style=\"opacity: 1; stroke-width: 0px; fill: rgb(76, 114, 176); fill-opacity: 1;\"/><path class=\"point\" transform=\"translate(231.8,171.65)\" d=\"M1,0A1,1 0 1,1 0,-1A1,1 0 0,1 1,0Z\" style=\"opacity: 1; stroke-width: 0px; fill: rgb(76, 114, 176); fill-opacity: 1;\"/><path class=\"point\" transform=\"translate(232.28,162.24)\" d=\"M1,0A1,1 0 1,1 0,-1A1,1 0 0,1 1,0Z\" style=\"opacity: 1; stroke-width: 0px; fill: rgb(76, 114, 176); fill-opacity: 1;\"/><path class=\"point\" transform=\"translate(232.76,190.58)\" d=\"M1,0A1,1 0 1,1 0,-1A1,1 0 0,1 1,0Z\" style=\"opacity: 1; stroke-width: 0px; fill: rgb(76, 114, 176); fill-opacity: 1;\"/><path class=\"point\" transform=\"translate(233.24,182.47)\" d=\"M1,0A1,1 0 1,1 0,-1A1,1 0 0,1 1,0Z\" style=\"opacity: 1; stroke-width: 0px; fill: rgb(76, 114, 176); fill-opacity: 1;\"/><path class=\"point\" transform=\"translate(233.72,195.77)\" d=\"M1,0A1,1 0 1,1 0,-1A1,1 0 0,1 1,0Z\" style=\"opacity: 1; stroke-width: 0px; fill: rgb(76, 114, 176); fill-opacity: 1;\"/><path class=\"point\" transform=\"translate(234.2,159.84)\" d=\"M1,0A1,1 0 1,1 0,-1A1,1 0 0,1 1,0Z\" style=\"opacity: 1; stroke-width: 0px; fill: rgb(76, 114, 176); fill-opacity: 1;\"/><path class=\"point\" transform=\"translate(234.68,192.81)\" d=\"M1,0A1,1 0 1,1 0,-1A1,1 0 0,1 1,0Z\" style=\"opacity: 1; stroke-width: 0px; fill: rgb(76, 114, 176); fill-opacity: 1;\"/><path class=\"point\" transform=\"translate(235.17,196.57)\" d=\"M1,0A1,1 0 1,1 0,-1A1,1 0 0,1 1,0Z\" style=\"opacity: 1; stroke-width: 0px; fill: rgb(76, 114, 176); fill-opacity: 1;\"/><path class=\"point\" transform=\"translate(235.65,180.96)\" d=\"M1,0A1,1 0 1,1 0,-1A1,1 0 0,1 1,0Z\" style=\"opacity: 1; stroke-width: 0px; fill: rgb(76, 114, 176); fill-opacity: 1;\"/><path class=\"point\" transform=\"translate(236.13,169.48)\" d=\"M1,0A1,1 0 1,1 0,-1A1,1 0 0,1 1,0Z\" style=\"opacity: 1; stroke-width: 0px; fill: rgb(76, 114, 176); fill-opacity: 1;\"/><path class=\"point\" transform=\"translate(236.61,190.55)\" d=\"M1,0A1,1 0 1,1 0,-1A1,1 0 0,1 1,0Z\" style=\"opacity: 1; stroke-width: 0px; fill: rgb(76, 114, 176); fill-opacity: 1;\"/><path class=\"point\" transform=\"translate(237.09,158.61)\" d=\"M1,0A1,1 0 1,1 0,-1A1,1 0 0,1 1,0Z\" style=\"opacity: 1; stroke-width: 0px; fill: rgb(76, 114, 176); fill-opacity: 1;\"/><path class=\"point\" transform=\"translate(237.57,182.07)\" d=\"M1,0A1,1 0 1,1 0,-1A1,1 0 0,1 1,0Z\" style=\"opacity: 1; stroke-width: 0px; fill: rgb(76, 114, 176); fill-opacity: 1;\"/><path class=\"point\" transform=\"translate(238.05,193.47)\" d=\"M1,0A1,1 0 1,1 0,-1A1,1 0 0,1 1,0Z\" style=\"opacity: 1; stroke-width: 0px; fill: rgb(76, 114, 176); fill-opacity: 1;\"/><path class=\"point\" transform=\"translate(238.53,180.99)\" d=\"M1,0A1,1 0 1,1 0,-1A1,1 0 0,1 1,0Z\" style=\"opacity: 1; stroke-width: 0px; fill: rgb(76, 114, 176); fill-opacity: 1;\"/><path class=\"point\" transform=\"translate(239.01,161.25)\" d=\"M1,0A1,1 0 1,1 0,-1A1,1 0 0,1 1,0Z\" style=\"opacity: 1; stroke-width: 0px; fill: rgb(76, 114, 176); fill-opacity: 1;\"/><path class=\"point\" transform=\"translate(239.49,192.35)\" d=\"M1,0A1,1 0 1,1 0,-1A1,1 0 0,1 1,0Z\" style=\"opacity: 1; stroke-width: 0px; fill: rgb(76, 114, 176); fill-opacity: 1;\"/><path class=\"point\" transform=\"translate(239.97,182.66)\" d=\"M1,0A1,1 0 1,1 0,-1A1,1 0 0,1 1,0Z\" style=\"opacity: 1; stroke-width: 0px; fill: rgb(76, 114, 176); fill-opacity: 1;\"/><path class=\"point\" transform=\"translate(240.45,171.64)\" d=\"M1,0A1,1 0 1,1 0,-1A1,1 0 0,1 1,0Z\" style=\"opacity: 1; stroke-width: 0px; fill: rgb(76, 114, 176); fill-opacity: 1;\"/><path class=\"point\" transform=\"translate(240.93,156.34)\" d=\"M1,0A1,1 0 1,1 0,-1A1,1 0 0,1 1,0Z\" style=\"opacity: 1; stroke-width: 0px; fill: rgb(76, 114, 176); fill-opacity: 1;\"/><path class=\"point\" transform=\"translate(241.41,159.75)\" d=\"M1,0A1,1 0 1,1 0,-1A1,1 0 0,1 1,0Z\" style=\"opacity: 1; stroke-width: 0px; fill: rgb(76, 114, 176); fill-opacity: 1;\"/><path class=\"point\" transform=\"translate(241.89,166.94)\" d=\"M1,0A1,1 0 1,1 0,-1A1,1 0 0,1 1,0Z\" style=\"opacity: 1; stroke-width: 0px; fill: rgb(76, 114, 176); fill-opacity: 1;\"/><path class=\"point\" transform=\"translate(242.37,176.65)\" d=\"M1,0A1,1 0 1,1 0,-1A1,1 0 0,1 1,0Z\" style=\"opacity: 1; stroke-width: 0px; fill: rgb(76, 114, 176); fill-opacity: 1;\"/><path class=\"point\" transform=\"translate(242.85,179.52)\" d=\"M1,0A1,1 0 1,1 0,-1A1,1 0 0,1 1,0Z\" style=\"opacity: 1; stroke-width: 0px; fill: rgb(76, 114, 176); fill-opacity: 1;\"/><path class=\"point\" transform=\"translate(243.33,181.58)\" d=\"M1,0A1,1 0 1,1 0,-1A1,1 0 0,1 1,0Z\" style=\"opacity: 1; stroke-width: 0px; fill: rgb(76, 114, 176); fill-opacity: 1;\"/><path class=\"point\" transform=\"translate(243.81,190.75)\" d=\"M1,0A1,1 0 1,1 0,-1A1,1 0 0,1 1,0Z\" style=\"opacity: 1; stroke-width: 0px; fill: rgb(76, 114, 176); fill-opacity: 1;\"/><path class=\"point\" transform=\"translate(244.29,163.05)\" d=\"M1,0A1,1 0 1,1 0,-1A1,1 0 0,1 1,0Z\" style=\"opacity: 1; stroke-width: 0px; fill: rgb(76, 114, 176); fill-opacity: 1;\"/><path class=\"point\" transform=\"translate(244.77,165.46)\" d=\"M1,0A1,1 0 1,1 0,-1A1,1 0 0,1 1,0Z\" style=\"opacity: 1; stroke-width: 0px; fill: rgb(76, 114, 176); fill-opacity: 1;\"/><path class=\"point\" transform=\"translate(245.26,168.74)\" d=\"M1,0A1,1 0 1,1 0,-1A1,1 0 0,1 1,0Z\" style=\"opacity: 1; stroke-width: 0px; fill: rgb(76, 114, 176); fill-opacity: 1;\"/><path class=\"point\" transform=\"translate(245.74,174.4)\" d=\"M1,0A1,1 0 1,1 0,-1A1,1 0 0,1 1,0Z\" style=\"opacity: 1; stroke-width: 0px; fill: rgb(76, 114, 176); fill-opacity: 1;\"/><path class=\"point\" transform=\"translate(246.22,183.38)\" d=\"M1,0A1,1 0 1,1 0,-1A1,1 0 0,1 1,0Z\" style=\"opacity: 1; stroke-width: 0px; fill: rgb(76, 114, 176); fill-opacity: 1;\"/><path class=\"point\" transform=\"translate(246.7,152.6)\" d=\"M1,0A1,1 0 1,1 0,-1A1,1 0 0,1 1,0Z\" style=\"opacity: 1; stroke-width: 0px; fill: rgb(76, 114, 176); fill-opacity: 1;\"/><path class=\"point\" transform=\"translate(247.18,171.59)\" d=\"M1,0A1,1 0 1,1 0,-1A1,1 0 0,1 1,0Z\" style=\"opacity: 1; stroke-width: 0px; fill: rgb(76, 114, 176); fill-opacity: 1;\"/><path class=\"point\" transform=\"translate(247.66,185.26)\" d=\"M1,0A1,1 0 1,1 0,-1A1,1 0 0,1 1,0Z\" style=\"opacity: 1; stroke-width: 0px; fill: rgb(76, 114, 176); fill-opacity: 1;\"/><path class=\"point\" transform=\"translate(248.14,165.33)\" d=\"M1,0A1,1 0 1,1 0,-1A1,1 0 0,1 1,0Z\" style=\"opacity: 1; stroke-width: 0px; fill: rgb(76, 114, 176); fill-opacity: 1;\"/><path class=\"point\" transform=\"translate(248.62,182.16)\" d=\"M1,0A1,1 0 1,1 0,-1A1,1 0 0,1 1,0Z\" style=\"opacity: 1; stroke-width: 0px; fill: rgb(76, 114, 176); fill-opacity: 1;\"/><path class=\"point\" transform=\"translate(249.1,178.51)\" d=\"M1,0A1,1 0 1,1 0,-1A1,1 0 0,1 1,0Z\" style=\"opacity: 1; stroke-width: 0px; fill: rgb(76, 114, 176); fill-opacity: 1;\"/><path class=\"point\" transform=\"translate(249.58,152.34)\" d=\"M1,0A1,1 0 1,1 0,-1A1,1 0 0,1 1,0Z\" style=\"opacity: 1; stroke-width: 0px; fill: rgb(76, 114, 176); fill-opacity: 1;\"/><path class=\"point\" transform=\"translate(250.06,159.26)\" d=\"M1,0A1,1 0 1,1 0,-1A1,1 0 0,1 1,0Z\" style=\"opacity: 1; stroke-width: 0px; fill: rgb(76, 114, 176); fill-opacity: 1;\"/><path class=\"point\" transform=\"translate(250.54,177.67)\" d=\"M1,0A1,1 0 1,1 0,-1A1,1 0 0,1 1,0Z\" style=\"opacity: 1; stroke-width: 0px; fill: rgb(76, 114, 176); fill-opacity: 1;\"/><path class=\"point\" transform=\"translate(251.02,190.27)\" d=\"M1,0A1,1 0 1,1 0,-1A1,1 0 0,1 1,0Z\" style=\"opacity: 1; stroke-width: 0px; fill: rgb(76, 114, 176); fill-opacity: 1;\"/><path class=\"point\" transform=\"translate(251.5,150.18)\" d=\"M1,0A1,1 0 1,1 0,-1A1,1 0 0,1 1,0Z\" style=\"opacity: 1; stroke-width: 0px; fill: rgb(76, 114, 176); fill-opacity: 1;\"/><path class=\"point\" transform=\"translate(251.98,155.26)\" d=\"M1,0A1,1 0 1,1 0,-1A1,1 0 0,1 1,0Z\" style=\"opacity: 1; stroke-width: 0px; fill: rgb(76, 114, 176); fill-opacity: 1;\"/><path class=\"point\" transform=\"translate(252.46,165.77)\" d=\"M1,0A1,1 0 1,1 0,-1A1,1 0 0,1 1,0Z\" style=\"opacity: 1; stroke-width: 0px; fill: rgb(76, 114, 176); fill-opacity: 1;\"/><path class=\"point\" transform=\"translate(252.94,180.72)\" d=\"M1,0A1,1 0 1,1 0,-1A1,1 0 0,1 1,0Z\" style=\"opacity: 1; stroke-width: 0px; fill: rgb(76, 114, 176); fill-opacity: 1;\"/><path class=\"point\" transform=\"translate(253.42,155.57)\" d=\"M1,0A1,1 0 1,1 0,-1A1,1 0 0,1 1,0Z\" style=\"opacity: 1; stroke-width: 0px; fill: rgb(76, 114, 176); fill-opacity: 1;\"/><path class=\"point\" transform=\"translate(253.9,154.72)\" d=\"M1,0A1,1 0 1,1 0,-1A1,1 0 0,1 1,0Z\" style=\"opacity: 1; stroke-width: 0px; fill: rgb(76, 114, 176); fill-opacity: 1;\"/><path class=\"point\" transform=\"translate(254.38,154.84)\" d=\"M1,0A1,1 0 1,1 0,-1A1,1 0 0,1 1,0Z\" style=\"opacity: 1; stroke-width: 0px; fill: rgb(76, 114, 176); fill-opacity: 1;\"/><path class=\"point\" transform=\"translate(254.86,160.92)\" d=\"M1,0A1,1 0 1,1 0,-1A1,1 0 0,1 1,0Z\" style=\"opacity: 1; stroke-width: 0px; fill: rgb(76, 114, 176); fill-opacity: 1;\"/><path class=\"point\" transform=\"translate(255.35,155.51)\" d=\"M1,0A1,1 0 1,1 0,-1A1,1 0 0,1 1,0Z\" style=\"opacity: 1; stroke-width: 0px; fill: rgb(76, 114, 176); fill-opacity: 1;\"/><path class=\"point\" transform=\"translate(255.83,148.41)\" d=\"M1,0A1,1 0 1,1 0,-1A1,1 0 0,1 1,0Z\" style=\"opacity: 1; stroke-width: 0px; fill: rgb(76, 114, 176); fill-opacity: 1;\"/><path class=\"point\" transform=\"translate(256.31,147.68)\" d=\"M1,0A1,1 0 1,1 0,-1A1,1 0 0,1 1,0Z\" style=\"opacity: 1; stroke-width: 0px; fill: rgb(76, 114, 176); fill-opacity: 1;\"/><path class=\"point\" transform=\"translate(256.79,185.72)\" d=\"M1,0A1,1 0 1,1 0,-1A1,1 0 0,1 1,0Z\" style=\"opacity: 1; stroke-width: 0px; fill: rgb(76, 114, 176); fill-opacity: 1;\"/><path class=\"point\" transform=\"translate(257.27,169.29)\" d=\"M1,0A1,1 0 1,1 0,-1A1,1 0 0,1 1,0Z\" style=\"opacity: 1; stroke-width: 0px; fill: rgb(76, 114, 176); fill-opacity: 1;\"/><path class=\"point\" transform=\"translate(257.75,179.83)\" d=\"M1,0A1,1 0 1,1 0,-1A1,1 0 0,1 1,0Z\" style=\"opacity: 1; stroke-width: 0px; fill: rgb(76, 114, 176); fill-opacity: 1;\"/><path class=\"point\" transform=\"translate(258.23,169.04)\" d=\"M1,0A1,1 0 1,1 0,-1A1,1 0 0,1 1,0Z\" style=\"opacity: 1; stroke-width: 0px; fill: rgb(76, 114, 176); fill-opacity: 1;\"/><path class=\"point\" transform=\"translate(258.71,147.02)\" d=\"M1,0A1,1 0 1,1 0,-1A1,1 0 0,1 1,0Z\" style=\"opacity: 1; stroke-width: 0px; fill: rgb(76, 114, 176); fill-opacity: 1;\"/><path class=\"point\" transform=\"translate(259.19,168.07)\" d=\"M1,0A1,1 0 1,1 0,-1A1,1 0 0,1 1,0Z\" style=\"opacity: 1; stroke-width: 0px; fill: rgb(76, 114, 176); fill-opacity: 1;\"/><path class=\"point\" transform=\"translate(259.67,175.83)\" d=\"M1,0A1,1 0 1,1 0,-1A1,1 0 0,1 1,0Z\" style=\"opacity: 1; stroke-width: 0px; fill: rgb(76, 114, 176); fill-opacity: 1;\"/><path class=\"point\" transform=\"translate(260.15,171.56)\" d=\"M1,0A1,1 0 1,1 0,-1A1,1 0 0,1 1,0Z\" style=\"opacity: 1; stroke-width: 0px; fill: rgb(76, 114, 176); fill-opacity: 1;\"/><path class=\"point\" transform=\"translate(260.63,148.31)\" d=\"M1,0A1,1 0 1,1 0,-1A1,1 0 0,1 1,0Z\" style=\"opacity: 1; stroke-width: 0px; fill: rgb(76, 114, 176); fill-opacity: 1;\"/><path class=\"point\" transform=\"translate(261.11,163.44)\" d=\"M1,0A1,1 0 1,1 0,-1A1,1 0 0,1 1,0Z\" style=\"opacity: 1; stroke-width: 0px; fill: rgb(76, 114, 176); fill-opacity: 1;\"/><path class=\"point\" transform=\"translate(261.59,157.84)\" d=\"M1,0A1,1 0 1,1 0,-1A1,1 0 0,1 1,0Z\" style=\"opacity: 1; stroke-width: 0px; fill: rgb(76, 114, 176); fill-opacity: 1;\"/><path class=\"point\" transform=\"translate(262.07,164.7)\" d=\"M1,0A1,1 0 1,1 0,-1A1,1 0 0,1 1,0Z\" style=\"opacity: 1; stroke-width: 0px; fill: rgb(76, 114, 176); fill-opacity: 1;\"/><path class=\"point\" transform=\"translate(262.55,174.09)\" d=\"M1,0A1,1 0 1,1 0,-1A1,1 0 0,1 1,0Z\" style=\"opacity: 1; stroke-width: 0px; fill: rgb(76, 114, 176); fill-opacity: 1;\"/><path class=\"point\" transform=\"translate(263.03,182.61)\" d=\"M1,0A1,1 0 1,1 0,-1A1,1 0 0,1 1,0Z\" style=\"opacity: 1; stroke-width: 0px; fill: rgb(76, 114, 176); fill-opacity: 1;\"/><path class=\"point\" transform=\"translate(263.51,157.4)\" d=\"M1,0A1,1 0 1,1 0,-1A1,1 0 0,1 1,0Z\" style=\"opacity: 1; stroke-width: 0px; fill: rgb(76, 114, 176); fill-opacity: 1;\"/><path class=\"point\" transform=\"translate(263.99,172.33)\" d=\"M1,0A1,1 0 1,1 0,-1A1,1 0 0,1 1,0Z\" style=\"opacity: 1; stroke-width: 0px; fill: rgb(76, 114, 176); fill-opacity: 1;\"/><path class=\"point\" transform=\"translate(264.47,155.36)\" d=\"M1,0A1,1 0 1,1 0,-1A1,1 0 0,1 1,0Z\" style=\"opacity: 1; stroke-width: 0px; fill: rgb(76, 114, 176); fill-opacity: 1;\"/><path class=\"point\" transform=\"translate(264.95,147.72)\" d=\"M1,0A1,1 0 1,1 0,-1A1,1 0 0,1 1,0Z\" style=\"opacity: 1; stroke-width: 0px; fill: rgb(76, 114, 176); fill-opacity: 1;\"/><path class=\"point\" transform=\"translate(265.44,146.9)\" d=\"M1,0A1,1 0 1,1 0,-1A1,1 0 0,1 1,0Z\" style=\"opacity: 1; stroke-width: 0px; fill: rgb(76, 114, 176); fill-opacity: 1;\"/><path class=\"point\" transform=\"translate(265.92,144.61)\" d=\"M1,0A1,1 0 1,1 0,-1A1,1 0 0,1 1,0Z\" style=\"opacity: 1; stroke-width: 0px; fill: rgb(76, 114, 176); fill-opacity: 1;\"/><path class=\"point\" transform=\"translate(266.4,163.9)\" d=\"M1,0A1,1 0 1,1 0,-1A1,1 0 0,1 1,0Z\" style=\"opacity: 1; stroke-width: 0px; fill: rgb(76, 114, 176); fill-opacity: 1;\"/><path class=\"point\" transform=\"translate(266.88,155.32)\" d=\"M1,0A1,1 0 1,1 0,-1A1,1 0 0,1 1,0Z\" style=\"opacity: 1; stroke-width: 0px; fill: rgb(76, 114, 176); fill-opacity: 1;\"/><path class=\"point\" transform=\"translate(267.36,177.04)\" d=\"M1,0A1,1 0 1,1 0,-1A1,1 0 0,1 1,0Z\" style=\"opacity: 1; stroke-width: 0px; fill: rgb(76, 114, 176); fill-opacity: 1;\"/><path class=\"point\" transform=\"translate(267.84,170.03)\" d=\"M1,0A1,1 0 1,1 0,-1A1,1 0 0,1 1,0Z\" style=\"opacity: 1; stroke-width: 0px; fill: rgb(76, 114, 176); fill-opacity: 1;\"/><path class=\"point\" transform=\"translate(268.32,148.03)\" d=\"M1,0A1,1 0 1,1 0,-1A1,1 0 0,1 1,0Z\" style=\"opacity: 1; stroke-width: 0px; fill: rgb(76, 114, 176); fill-opacity: 1;\"/><path class=\"point\" transform=\"translate(268.8,181.85)\" d=\"M1,0A1,1 0 1,1 0,-1A1,1 0 0,1 1,0Z\" style=\"opacity: 1; stroke-width: 0px; fill: rgb(76, 114, 176); fill-opacity: 1;\"/><path class=\"point\" transform=\"translate(269.28,169.84)\" d=\"M1,0A1,1 0 1,1 0,-1A1,1 0 0,1 1,0Z\" style=\"opacity: 1; stroke-width: 0px; fill: rgb(76, 114, 176); fill-opacity: 1;\"/><path class=\"point\" transform=\"translate(269.76,167.82)\" d=\"M1,0A1,1 0 1,1 0,-1A1,1 0 0,1 1,0Z\" style=\"opacity: 1; stroke-width: 0px; fill: rgb(76, 114, 176); fill-opacity: 1;\"/><path class=\"point\" transform=\"translate(270.24,144.25)\" d=\"M1,0A1,1 0 1,1 0,-1A1,1 0 0,1 1,0Z\" style=\"opacity: 1; stroke-width: 0px; fill: rgb(76, 114, 176); fill-opacity: 1;\"/><path class=\"point\" transform=\"translate(270.72,173.08)\" d=\"M1,0A1,1 0 1,1 0,-1A1,1 0 0,1 1,0Z\" style=\"opacity: 1; stroke-width: 0px; fill: rgb(76, 114, 176); fill-opacity: 1;\"/><path class=\"point\" transform=\"translate(271.2,153.86)\" d=\"M1,0A1,1 0 1,1 0,-1A1,1 0 0,1 1,0Z\" style=\"opacity: 1; stroke-width: 0px; fill: rgb(76, 114, 176); fill-opacity: 1;\"/><path class=\"point\" transform=\"translate(271.68,150.29)\" d=\"M1,0A1,1 0 1,1 0,-1A1,1 0 0,1 1,0Z\" style=\"opacity: 1; stroke-width: 0px; fill: rgb(76, 114, 176); fill-opacity: 1;\"/><path class=\"point\" transform=\"translate(272.16,178.92)\" d=\"M1,0A1,1 0 1,1 0,-1A1,1 0 0,1 1,0Z\" style=\"opacity: 1; stroke-width: 0px; fill: rgb(76, 114, 176); fill-opacity: 1;\"/><path class=\"point\" transform=\"translate(272.64,146.55)\" d=\"M1,0A1,1 0 1,1 0,-1A1,1 0 0,1 1,0Z\" style=\"opacity: 1; stroke-width: 0px; fill: rgb(76, 114, 176); fill-opacity: 1;\"/><path class=\"point\" transform=\"translate(273.12,156.95)\" d=\"M1,0A1,1 0 1,1 0,-1A1,1 0 0,1 1,0Z\" style=\"opacity: 1; stroke-width: 0px; fill: rgb(76, 114, 176); fill-opacity: 1;\"/><path class=\"point\" transform=\"translate(273.6,173.91)\" d=\"M1,0A1,1 0 1,1 0,-1A1,1 0 0,1 1,0Z\" style=\"opacity: 1; stroke-width: 0px; fill: rgb(76, 114, 176); fill-opacity: 1;\"/><path class=\"point\" transform=\"translate(274.08,172.09)\" d=\"M1,0A1,1 0 1,1 0,-1A1,1 0 0,1 1,0Z\" style=\"opacity: 1; stroke-width: 0px; fill: rgb(76, 114, 176); fill-opacity: 1;\"/><path class=\"point\" transform=\"translate(274.56,142.42)\" d=\"M1,0A1,1 0 1,1 0,-1A1,1 0 0,1 1,0Z\" style=\"opacity: 1; stroke-width: 0px; fill: rgb(76, 114, 176); fill-opacity: 1;\"/><path class=\"point\" transform=\"translate(275.05,152)\" d=\"M1,0A1,1 0 1,1 0,-1A1,1 0 0,1 1,0Z\" style=\"opacity: 1; stroke-width: 0px; fill: rgb(76, 114, 176); fill-opacity: 1;\"/><path class=\"point\" transform=\"translate(275.53,159.45)\" d=\"M1,0A1,1 0 1,1 0,-1A1,1 0 0,1 1,0Z\" style=\"opacity: 1; stroke-width: 0px; fill: rgb(76, 114, 176); fill-opacity: 1;\"/><path class=\"point\" transform=\"translate(276.01,176.73)\" d=\"M1,0A1,1 0 1,1 0,-1A1,1 0 0,1 1,0Z\" style=\"opacity: 1; stroke-width: 0px; fill: rgb(76, 114, 176); fill-opacity: 1;\"/><path class=\"point\" transform=\"translate(276.49,139.8)\" d=\"M1,0A1,1 0 1,1 0,-1A1,1 0 0,1 1,0Z\" style=\"opacity: 1; stroke-width: 0px; fill: rgb(76, 114, 176); fill-opacity: 1;\"/><path class=\"point\" transform=\"translate(276.97,161.29)\" d=\"M1,0A1,1 0 1,1 0,-1A1,1 0 0,1 1,0Z\" style=\"opacity: 1; stroke-width: 0px; fill: rgb(76, 114, 176); fill-opacity: 1;\"/><path class=\"point\" transform=\"translate(277.45,178.19)\" d=\"M1,0A1,1 0 1,1 0,-1A1,1 0 0,1 1,0Z\" style=\"opacity: 1; stroke-width: 0px; fill: rgb(76, 114, 176); fill-opacity: 1;\"/><path class=\"point\" transform=\"translate(277.93,177.25)\" d=\"M1,0A1,1 0 1,1 0,-1A1,1 0 0,1 1,0Z\" style=\"opacity: 1; stroke-width: 0px; fill: rgb(76, 114, 176); fill-opacity: 1;\"/><path class=\"point\" transform=\"translate(278.41,152.4)\" d=\"M1,0A1,1 0 1,1 0,-1A1,1 0 0,1 1,0Z\" style=\"opacity: 1; stroke-width: 0px; fill: rgb(76, 114, 176); fill-opacity: 1;\"/><path class=\"point\" transform=\"translate(278.89,141.67)\" d=\"M1,0A1,1 0 1,1 0,-1A1,1 0 0,1 1,0Z\" style=\"opacity: 1; stroke-width: 0px; fill: rgb(76, 114, 176); fill-opacity: 1;\"/><path class=\"point\" transform=\"translate(279.37,142.06)\" d=\"M1,0A1,1 0 1,1 0,-1A1,1 0 0,1 1,0Z\" style=\"opacity: 1; stroke-width: 0px; fill: rgb(76, 114, 176); fill-opacity: 1;\"/><path class=\"point\" transform=\"translate(279.85,150.95)\" d=\"M1,0A1,1 0 1,1 0,-1A1,1 0 0,1 1,0Z\" style=\"opacity: 1; stroke-width: 0px; fill: rgb(76, 114, 176); fill-opacity: 1;\"/><path class=\"point\" transform=\"translate(280.33,141.94)\" d=\"M1,0A1,1 0 1,1 0,-1A1,1 0 0,1 1,0Z\" style=\"opacity: 1; stroke-width: 0px; fill: rgb(76, 114, 176); fill-opacity: 1;\"/><path class=\"point\" transform=\"translate(280.81,148.55)\" d=\"M1,0A1,1 0 1,1 0,-1A1,1 0 0,1 1,0Z\" style=\"opacity: 1; stroke-width: 0px; fill: rgb(76, 114, 176); fill-opacity: 1;\"/><path class=\"point\" transform=\"translate(281.29,157.89)\" d=\"M1,0A1,1 0 1,1 0,-1A1,1 0 0,1 1,0Z\" style=\"opacity: 1; stroke-width: 0px; fill: rgb(76, 114, 176); fill-opacity: 1;\"/><path class=\"point\" transform=\"translate(281.77,145.43)\" d=\"M1,0A1,1 0 1,1 0,-1A1,1 0 0,1 1,0Z\" style=\"opacity: 1; stroke-width: 0px; fill: rgb(76, 114, 176); fill-opacity: 1;\"/><path class=\"point\" transform=\"translate(282.25,139.06)\" d=\"M1,0A1,1 0 1,1 0,-1A1,1 0 0,1 1,0Z\" style=\"opacity: 1; stroke-width: 0px; fill: rgb(76, 114, 176); fill-opacity: 1;\"/><path class=\"point\" transform=\"translate(282.73,136.29)\" d=\"M1,0A1,1 0 1,1 0,-1A1,1 0 0,1 1,0Z\" style=\"opacity: 1; stroke-width: 0px; fill: rgb(76, 114, 176); fill-opacity: 1;\"/><path class=\"point\" transform=\"translate(283.21,151.5)\" d=\"M1,0A1,1 0 1,1 0,-1A1,1 0 0,1 1,0Z\" style=\"opacity: 1; stroke-width: 0px; fill: rgb(76, 114, 176); fill-opacity: 1;\"/><path class=\"point\" transform=\"translate(283.69,155.52)\" d=\"M1,0A1,1 0 1,1 0,-1A1,1 0 0,1 1,0Z\" style=\"opacity: 1; stroke-width: 0px; fill: rgb(76, 114, 176); fill-opacity: 1;\"/><path class=\"point\" transform=\"translate(284.17,148.9)\" d=\"M1,0A1,1 0 1,1 0,-1A1,1 0 0,1 1,0Z\" style=\"opacity: 1; stroke-width: 0px; fill: rgb(76, 114, 176); fill-opacity: 1;\"/><path class=\"point\" transform=\"translate(284.65,151.56)\" d=\"M1,0A1,1 0 1,1 0,-1A1,1 0 0,1 1,0Z\" style=\"opacity: 1; stroke-width: 0px; fill: rgb(76, 114, 176); fill-opacity: 1;\"/><path class=\"point\" transform=\"translate(285.14,161.91)\" d=\"M1,0A1,1 0 1,1 0,-1A1,1 0 0,1 1,0Z\" style=\"opacity: 1; stroke-width: 0px; fill: rgb(76, 114, 176); fill-opacity: 1;\"/><path class=\"point\" transform=\"translate(285.62,135.94)\" d=\"M1,0A1,1 0 1,1 0,-1A1,1 0 0,1 1,0Z\" style=\"opacity: 1; stroke-width: 0px; fill: rgb(76, 114, 176); fill-opacity: 1;\"/><path class=\"point\" transform=\"translate(286.1,136.36)\" d=\"M1,0A1,1 0 1,1 0,-1A1,1 0 0,1 1,0Z\" style=\"opacity: 1; stroke-width: 0px; fill: rgb(76, 114, 176); fill-opacity: 1;\"/><path class=\"point\" transform=\"translate(286.58,139.17)\" d=\"M1,0A1,1 0 1,1 0,-1A1,1 0 0,1 1,0Z\" style=\"opacity: 1; stroke-width: 0px; fill: rgb(76, 114, 176); fill-opacity: 1;\"/><path class=\"point\" transform=\"translate(287.06,154.35)\" d=\"M1,0A1,1 0 1,1 0,-1A1,1 0 0,1 1,0Z\" style=\"opacity: 1; stroke-width: 0px; fill: rgb(76, 114, 176); fill-opacity: 1;\"/><path class=\"point\" transform=\"translate(287.54,132.03)\" d=\"M1,0A1,1 0 1,1 0,-1A1,1 0 0,1 1,0Z\" style=\"opacity: 1; stroke-width: 0px; fill: rgb(76, 114, 176); fill-opacity: 1;\"/><path class=\"point\" transform=\"translate(288.02,135.46)\" d=\"M1,0A1,1 0 1,1 0,-1A1,1 0 0,1 1,0Z\" style=\"opacity: 1; stroke-width: 0px; fill: rgb(76, 114, 176); fill-opacity: 1;\"/><path class=\"point\" transform=\"translate(288.5,150.68)\" d=\"M1,0A1,1 0 1,1 0,-1A1,1 0 0,1 1,0Z\" style=\"opacity: 1; stroke-width: 0px; fill: rgb(76, 114, 176); fill-opacity: 1;\"/><path class=\"point\" transform=\"translate(288.98,167.74)\" d=\"M1,0A1,1 0 1,1 0,-1A1,1 0 0,1 1,0Z\" style=\"opacity: 1; stroke-width: 0px; fill: rgb(76, 114, 176); fill-opacity: 1;\"/><path class=\"point\" transform=\"translate(289.46,169.93)\" d=\"M1,0A1,1 0 1,1 0,-1A1,1 0 0,1 1,0Z\" style=\"opacity: 1; stroke-width: 0px; fill: rgb(76, 114, 176); fill-opacity: 1;\"/><path class=\"point\" transform=\"translate(289.94,143.85)\" d=\"M1,0A1,1 0 1,1 0,-1A1,1 0 0,1 1,0Z\" style=\"opacity: 1; stroke-width: 0px; fill: rgb(76, 114, 176); fill-opacity: 1;\"/><path class=\"point\" transform=\"translate(290.42,142.77)\" d=\"M1,0A1,1 0 1,1 0,-1A1,1 0 0,1 1,0Z\" style=\"opacity: 1; stroke-width: 0px; fill: rgb(76, 114, 176); fill-opacity: 1;\"/><path class=\"point\" transform=\"translate(290.9,158.93)\" d=\"M1,0A1,1 0 1,1 0,-1A1,1 0 0,1 1,0Z\" style=\"opacity: 1; stroke-width: 0px; fill: rgb(76, 114, 176); fill-opacity: 1;\"/><path class=\"point\" transform=\"translate(291.38,159.51)\" d=\"M1,0A1,1 0 1,1 0,-1A1,1 0 0,1 1,0Z\" style=\"opacity: 1; stroke-width: 0px; fill: rgb(76, 114, 176); fill-opacity: 1;\"/><path class=\"point\" transform=\"translate(291.86,164.12)\" d=\"M1,0A1,1 0 1,1 0,-1A1,1 0 0,1 1,0Z\" style=\"opacity: 1; stroke-width: 0px; fill: rgb(76, 114, 176); fill-opacity: 1;\"/><path class=\"point\" transform=\"translate(292.34,145.12)\" d=\"M1,0A1,1 0 1,1 0,-1A1,1 0 0,1 1,0Z\" style=\"opacity: 1; stroke-width: 0px; fill: rgb(76, 114, 176); fill-opacity: 1;\"/><path class=\"point\" transform=\"translate(292.82,137.05)\" d=\"M1,0A1,1 0 1,1 0,-1A1,1 0 0,1 1,0Z\" style=\"opacity: 1; stroke-width: 0px; fill: rgb(76, 114, 176); fill-opacity: 1;\"/><path class=\"point\" transform=\"translate(293.3,166.9)\" d=\"M1,0A1,1 0 1,1 0,-1A1,1 0 0,1 1,0Z\" style=\"opacity: 1; stroke-width: 0px; fill: rgb(76, 114, 176); fill-opacity: 1;\"/><path class=\"point\" transform=\"translate(293.78,138.84)\" d=\"M1,0A1,1 0 1,1 0,-1A1,1 0 0,1 1,0Z\" style=\"opacity: 1; stroke-width: 0px; fill: rgb(76, 114, 176); fill-opacity: 1;\"/><path class=\"point\" transform=\"translate(294.26,134)\" d=\"M1,0A1,1 0 1,1 0,-1A1,1 0 0,1 1,0Z\" style=\"opacity: 1; stroke-width: 0px; fill: rgb(76, 114, 176); fill-opacity: 1;\"/><path class=\"point\" transform=\"translate(294.74,129.49)\" d=\"M1,0A1,1 0 1,1 0,-1A1,1 0 0,1 1,0Z\" style=\"opacity: 1; stroke-width: 0px; fill: rgb(76, 114, 176); fill-opacity: 1;\"/><path class=\"point\" transform=\"translate(295.23,165.92)\" d=\"M1,0A1,1 0 1,1 0,-1A1,1 0 0,1 1,0Z\" style=\"opacity: 1; stroke-width: 0px; fill: rgb(76, 114, 176); fill-opacity: 1;\"/><path class=\"point\" transform=\"translate(295.71,131.3)\" d=\"M1,0A1,1 0 1,1 0,-1A1,1 0 0,1 1,0Z\" style=\"opacity: 1; stroke-width: 0px; fill: rgb(76, 114, 176); fill-opacity: 1;\"/><path class=\"point\" transform=\"translate(296.19,133.44)\" d=\"M1,0A1,1 0 1,1 0,-1A1,1 0 0,1 1,0Z\" style=\"opacity: 1; stroke-width: 0px; fill: rgb(76, 114, 176); fill-opacity: 1;\"/><path class=\"point\" transform=\"translate(296.67,137.02)\" d=\"M1,0A1,1 0 1,1 0,-1A1,1 0 0,1 1,0Z\" style=\"opacity: 1; stroke-width: 0px; fill: rgb(76, 114, 176); fill-opacity: 1;\"/><path class=\"point\" transform=\"translate(297.15,164.09)\" d=\"M1,0A1,1 0 1,1 0,-1A1,1 0 0,1 1,0Z\" style=\"opacity: 1; stroke-width: 0px; fill: rgb(76, 114, 176); fill-opacity: 1;\"/><path class=\"point\" transform=\"translate(297.63,159.26)\" d=\"M1,0A1,1 0 1,1 0,-1A1,1 0 0,1 1,0Z\" style=\"opacity: 1; stroke-width: 0px; fill: rgb(76, 114, 176); fill-opacity: 1;\"/><path class=\"point\" transform=\"translate(298.11,161.14)\" d=\"M1,0A1,1 0 1,1 0,-1A1,1 0 0,1 1,0Z\" style=\"opacity: 1; stroke-width: 0px; fill: rgb(76, 114, 176); fill-opacity: 1;\"/><path class=\"point\" transform=\"translate(298.59,159.84)\" d=\"M1,0A1,1 0 1,1 0,-1A1,1 0 0,1 1,0Z\" style=\"opacity: 1; stroke-width: 0px; fill: rgb(76, 114, 176); fill-opacity: 1;\"/><path class=\"point\" transform=\"translate(299.07,137.38)\" d=\"M1,0A1,1 0 1,1 0,-1A1,1 0 0,1 1,0Z\" style=\"opacity: 1; stroke-width: 0px; fill: rgb(76, 114, 176); fill-opacity: 1;\"/><path class=\"point\" transform=\"translate(299.55,138.5)\" d=\"M1,0A1,1 0 1,1 0,-1A1,1 0 0,1 1,0Z\" style=\"opacity: 1; stroke-width: 0px; fill: rgb(76, 114, 176); fill-opacity: 1;\"/><path class=\"point\" transform=\"translate(300.03,165.58)\" d=\"M1,0A1,1 0 1,1 0,-1A1,1 0 0,1 1,0Z\" style=\"opacity: 1; stroke-width: 0px; fill: rgb(76, 114, 176); fill-opacity: 1;\"/><path class=\"point\" transform=\"translate(300.51,140.02)\" d=\"M1,0A1,1 0 1,1 0,-1A1,1 0 0,1 1,0Z\" style=\"opacity: 1; stroke-width: 0px; fill: rgb(76, 114, 176); fill-opacity: 1;\"/><path class=\"point\" transform=\"translate(300.99,130.37)\" d=\"M1,0A1,1 0 1,1 0,-1A1,1 0 0,1 1,0Z\" style=\"opacity: 1; stroke-width: 0px; fill: rgb(76, 114, 176); fill-opacity: 1;\"/><path class=\"point\" transform=\"translate(301.47,124.55)\" d=\"M1,0A1,1 0 1,1 0,-1A1,1 0 0,1 1,0Z\" style=\"opacity: 1; stroke-width: 0px; fill: rgb(76, 114, 176); fill-opacity: 1;\"/><path class=\"point\" transform=\"translate(301.95,133.71)\" d=\"M1,0A1,1 0 1,1 0,-1A1,1 0 0,1 1,0Z\" style=\"opacity: 1; stroke-width: 0px; fill: rgb(76, 114, 176); fill-opacity: 1;\"/><path class=\"point\" transform=\"translate(302.43,162.66)\" d=\"M1,0A1,1 0 1,1 0,-1A1,1 0 0,1 1,0Z\" style=\"opacity: 1; stroke-width: 0px; fill: rgb(76, 114, 176); fill-opacity: 1;\"/><path class=\"point\" transform=\"translate(302.91,136.98)\" d=\"M1,0A1,1 0 1,1 0,-1A1,1 0 0,1 1,0Z\" style=\"opacity: 1; stroke-width: 0px; fill: rgb(76, 114, 176); fill-opacity: 1;\"/><path class=\"point\" transform=\"translate(303.39,148.92)\" d=\"M1,0A1,1 0 1,1 0,-1A1,1 0 0,1 1,0Z\" style=\"opacity: 1; stroke-width: 0px; fill: rgb(76, 114, 176); fill-opacity: 1;\"/><path class=\"point\" transform=\"translate(303.87,125.75)\" d=\"M1,0A1,1 0 1,1 0,-1A1,1 0 0,1 1,0Z\" style=\"opacity: 1; stroke-width: 0px; fill: rgb(76, 114, 176); fill-opacity: 1;\"/><path class=\"point\" transform=\"translate(304.35,157.43)\" d=\"M1,0A1,1 0 1,1 0,-1A1,1 0 0,1 1,0Z\" style=\"opacity: 1; stroke-width: 0px; fill: rgb(76, 114, 176); fill-opacity: 1;\"/><path class=\"point\" transform=\"translate(304.83,146.68)\" d=\"M1,0A1,1 0 1,1 0,-1A1,1 0 0,1 1,0Z\" style=\"opacity: 1; stroke-width: 0px; fill: rgb(76, 114, 176); fill-opacity: 1;\"/><path class=\"point\" transform=\"translate(305.32,140.14)\" d=\"M1,0A1,1 0 1,1 0,-1A1,1 0 0,1 1,0Z\" style=\"opacity: 1; stroke-width: 0px; fill: rgb(76, 114, 176); fill-opacity: 1;\"/><path class=\"point\" transform=\"translate(305.8,153.51)\" d=\"M1,0A1,1 0 1,1 0,-1A1,1 0 0,1 1,0Z\" style=\"opacity: 1; stroke-width: 0px; fill: rgb(76, 114, 176); fill-opacity: 1;\"/><path class=\"point\" transform=\"translate(306.28,141.72)\" d=\"M1,0A1,1 0 1,1 0,-1A1,1 0 0,1 1,0Z\" style=\"opacity: 1; stroke-width: 0px; fill: rgb(76, 114, 176); fill-opacity: 1;\"/><path class=\"point\" transform=\"translate(306.76,154.54)\" d=\"M1,0A1,1 0 1,1 0,-1A1,1 0 0,1 1,0Z\" style=\"opacity: 1; stroke-width: 0px; fill: rgb(76, 114, 176); fill-opacity: 1;\"/><path class=\"point\" transform=\"translate(307.24,134.21)\" d=\"M1,0A1,1 0 1,1 0,-1A1,1 0 0,1 1,0Z\" style=\"opacity: 1; stroke-width: 0px; fill: rgb(76, 114, 176); fill-opacity: 1;\"/><path class=\"point\" transform=\"translate(307.72,145.15)\" d=\"M1,0A1,1 0 1,1 0,-1A1,1 0 0,1 1,0Z\" style=\"opacity: 1; stroke-width: 0px; fill: rgb(76, 114, 176); fill-opacity: 1;\"/><path class=\"point\" transform=\"translate(308.2,156.54)\" d=\"M1,0A1,1 0 1,1 0,-1A1,1 0 0,1 1,0Z\" style=\"opacity: 1; stroke-width: 0px; fill: rgb(76, 114, 176); fill-opacity: 1;\"/><path class=\"point\" transform=\"translate(308.68,152.28)\" d=\"M1,0A1,1 0 1,1 0,-1A1,1 0 0,1 1,0Z\" style=\"opacity: 1; stroke-width: 0px; fill: rgb(76, 114, 176); fill-opacity: 1;\"/><path class=\"point\" transform=\"translate(309.16,158.49)\" d=\"M1,0A1,1 0 1,1 0,-1A1,1 0 0,1 1,0Z\" style=\"opacity: 1; stroke-width: 0px; fill: rgb(76, 114, 176); fill-opacity: 1;\"/><path class=\"point\" transform=\"translate(309.64,140.67)\" d=\"M1,0A1,1 0 1,1 0,-1A1,1 0 0,1 1,0Z\" style=\"opacity: 1; stroke-width: 0px; fill: rgb(76, 114, 176); fill-opacity: 1;\"/><path class=\"point\" transform=\"translate(310.12,154.99)\" d=\"M1,0A1,1 0 1,1 0,-1A1,1 0 0,1 1,0Z\" style=\"opacity: 1; stroke-width: 0px; fill: rgb(76, 114, 176); fill-opacity: 1;\"/><path class=\"point\" transform=\"translate(310.6,149.05)\" d=\"M1,0A1,1 0 1,1 0,-1A1,1 0 0,1 1,0Z\" style=\"opacity: 1; stroke-width: 0px; fill: rgb(76, 114, 176); fill-opacity: 1;\"/><path class=\"point\" transform=\"translate(311.08,137.42)\" d=\"M1,0A1,1 0 1,1 0,-1A1,1 0 0,1 1,0Z\" style=\"opacity: 1; stroke-width: 0px; fill: rgb(76, 114, 176); fill-opacity: 1;\"/><path class=\"point\" transform=\"translate(311.56,151.9)\" d=\"M1,0A1,1 0 1,1 0,-1A1,1 0 0,1 1,0Z\" style=\"opacity: 1; stroke-width: 0px; fill: rgb(76, 114, 176); fill-opacity: 1;\"/><path class=\"point\" transform=\"translate(312.04,120.42)\" d=\"M1,0A1,1 0 1,1 0,-1A1,1 0 0,1 1,0Z\" style=\"opacity: 1; stroke-width: 0px; fill: rgb(76, 114, 176); fill-opacity: 1;\"/><path class=\"point\" transform=\"translate(312.52,131.7)\" d=\"M1,0A1,1 0 1,1 0,-1A1,1 0 0,1 1,0Z\" style=\"opacity: 1; stroke-width: 0px; fill: rgb(76, 114, 176); fill-opacity: 1;\"/><path class=\"point\" transform=\"translate(313,145.32)\" d=\"M1,0A1,1 0 1,1 0,-1A1,1 0 0,1 1,0Z\" style=\"opacity: 1; stroke-width: 0px; fill: rgb(76, 114, 176); fill-opacity: 1;\"/><path class=\"point\" transform=\"translate(313.48,132.75)\" d=\"M1,0A1,1 0 1,1 0,-1A1,1 0 0,1 1,0Z\" style=\"opacity: 1; stroke-width: 0px; fill: rgb(76, 114, 176); fill-opacity: 1;\"/><path class=\"point\" transform=\"translate(313.96,126.01)\" d=\"M1,0A1,1 0 1,1 0,-1A1,1 0 0,1 1,0Z\" style=\"opacity: 1; stroke-width: 0px; fill: rgb(76, 114, 176); fill-opacity: 1;\"/><path class=\"point\" transform=\"translate(314.44,126.72)\" d=\"M1,0A1,1 0 1,1 0,-1A1,1 0 0,1 1,0Z\" style=\"opacity: 1; stroke-width: 0px; fill: rgb(76, 114, 176); fill-opacity: 1;\"/><path class=\"point\" transform=\"translate(314.92,141.29)\" d=\"M1,0A1,1 0 1,1 0,-1A1,1 0 0,1 1,0Z\" style=\"opacity: 1; stroke-width: 0px; fill: rgb(76, 114, 176); fill-opacity: 1;\"/><path class=\"point\" transform=\"translate(315.41,155.04)\" d=\"M1,0A1,1 0 1,1 0,-1A1,1 0 0,1 1,0Z\" style=\"opacity: 1; stroke-width: 0px; fill: rgb(76, 114, 176); fill-opacity: 1;\"/><path class=\"point\" transform=\"translate(315.89,145.39)\" d=\"M1,0A1,1 0 1,1 0,-1A1,1 0 0,1 1,0Z\" style=\"opacity: 1; stroke-width: 0px; fill: rgb(76, 114, 176); fill-opacity: 1;\"/><path class=\"point\" transform=\"translate(316.37,129.66)\" d=\"M1,0A1,1 0 1,1 0,-1A1,1 0 0,1 1,0Z\" style=\"opacity: 1; stroke-width: 0px; fill: rgb(76, 114, 176); fill-opacity: 1;\"/><path class=\"point\" transform=\"translate(316.85,137.15)\" d=\"M1,0A1,1 0 1,1 0,-1A1,1 0 0,1 1,0Z\" style=\"opacity: 1; stroke-width: 0px; fill: rgb(76, 114, 176); fill-opacity: 1;\"/><path class=\"point\" transform=\"translate(317.33,131.26)\" d=\"M1,0A1,1 0 1,1 0,-1A1,1 0 0,1 1,0Z\" style=\"opacity: 1; stroke-width: 0px; fill: rgb(76, 114, 176); fill-opacity: 1;\"/><path class=\"point\" transform=\"translate(317.81,146.11)\" d=\"M1,0A1,1 0 1,1 0,-1A1,1 0 0,1 1,0Z\" style=\"opacity: 1; stroke-width: 0px; fill: rgb(76, 114, 176); fill-opacity: 1;\"/><path class=\"point\" transform=\"translate(318.29,128.98)\" d=\"M1,0A1,1 0 1,1 0,-1A1,1 0 0,1 1,0Z\" style=\"opacity: 1; stroke-width: 0px; fill: rgb(76, 114, 176); fill-opacity: 1;\"/><path class=\"point\" transform=\"translate(318.77,141.09)\" d=\"M1,0A1,1 0 1,1 0,-1A1,1 0 0,1 1,0Z\" style=\"opacity: 1; stroke-width: 0px; fill: rgb(76, 114, 176); fill-opacity: 1;\"/><path class=\"point\" transform=\"translate(319.25,115.42)\" d=\"M1,0A1,1 0 1,1 0,-1A1,1 0 0,1 1,0Z\" style=\"opacity: 1; stroke-width: 0px; fill: rgb(76, 114, 176); fill-opacity: 1;\"/><path class=\"point\" transform=\"translate(319.73,132.99)\" d=\"M1,0A1,1 0 1,1 0,-1A1,1 0 0,1 1,0Z\" style=\"opacity: 1; stroke-width: 0px; fill: rgb(76, 114, 176); fill-opacity: 1;\"/><path class=\"point\" transform=\"translate(320.21,116.44)\" d=\"M1,0A1,1 0 1,1 0,-1A1,1 0 0,1 1,0Z\" style=\"opacity: 1; stroke-width: 0px; fill: rgb(76, 114, 176); fill-opacity: 1;\"/><path class=\"point\" transform=\"translate(320.69,152.77)\" d=\"M1,0A1,1 0 1,1 0,-1A1,1 0 0,1 1,0Z\" style=\"opacity: 1; stroke-width: 0px; fill: rgb(76, 114, 176); fill-opacity: 1;\"/><path class=\"point\" transform=\"translate(321.17,134.55)\" d=\"M1,0A1,1 0 1,1 0,-1A1,1 0 0,1 1,0Z\" style=\"opacity: 1; stroke-width: 0px; fill: rgb(76, 114, 176); fill-opacity: 1;\"/><path class=\"point\" transform=\"translate(321.65,118.4)\" d=\"M1,0A1,1 0 1,1 0,-1A1,1 0 0,1 1,0Z\" style=\"opacity: 1; stroke-width: 0px; fill: rgb(76, 114, 176); fill-opacity: 1;\"/><path class=\"point\" transform=\"translate(322.13,153.39)\" d=\"M1,0A1,1 0 1,1 0,-1A1,1 0 0,1 1,0Z\" style=\"opacity: 1; stroke-width: 0px; fill: rgb(76, 114, 176); fill-opacity: 1;\"/><path class=\"point\" transform=\"translate(322.61,154.54)\" d=\"M1,0A1,1 0 1,1 0,-1A1,1 0 0,1 1,0Z\" style=\"opacity: 1; stroke-width: 0px; fill: rgb(76, 114, 176); fill-opacity: 1;\"/><path class=\"point\" transform=\"translate(323.09,142.9)\" d=\"M1,0A1,1 0 1,1 0,-1A1,1 0 0,1 1,0Z\" style=\"opacity: 1; stroke-width: 0px; fill: rgb(76, 114, 176); fill-opacity: 1;\"/><path class=\"point\" transform=\"translate(323.57,150.99)\" d=\"M1,0A1,1 0 1,1 0,-1A1,1 0 0,1 1,0Z\" style=\"opacity: 1; stroke-width: 0px; fill: rgb(76, 114, 176); fill-opacity: 1;\"/><path class=\"point\" transform=\"translate(324.05,120.97)\" d=\"M1,0A1,1 0 1,1 0,-1A1,1 0 0,1 1,0Z\" style=\"opacity: 1; stroke-width: 0px; fill: rgb(76, 114, 176); fill-opacity: 1;\"/><path class=\"point\" transform=\"translate(324.53,148.48)\" d=\"M1,0A1,1 0 1,1 0,-1A1,1 0 0,1 1,0Z\" style=\"opacity: 1; stroke-width: 0px; fill: rgb(76, 114, 176); fill-opacity: 1;\"/><path class=\"point\" transform=\"translate(325.02,126.83)\" d=\"M1,0A1,1 0 1,1 0,-1A1,1 0 0,1 1,0Z\" style=\"opacity: 1; stroke-width: 0px; fill: rgb(76, 114, 176); fill-opacity: 1;\"/><path class=\"point\" transform=\"translate(325.5,126.82)\" d=\"M1,0A1,1 0 1,1 0,-1A1,1 0 0,1 1,0Z\" style=\"opacity: 1; stroke-width: 0px; fill: rgb(76, 114, 176); fill-opacity: 1;\"/><path class=\"point\" transform=\"translate(325.98,152.17)\" d=\"M1,0A1,1 0 1,1 0,-1A1,1 0 0,1 1,0Z\" style=\"opacity: 1; stroke-width: 0px; fill: rgb(76, 114, 176); fill-opacity: 1;\"/><path class=\"point\" transform=\"translate(326.46,114.19)\" d=\"M1,0A1,1 0 1,1 0,-1A1,1 0 0,1 1,0Z\" style=\"opacity: 1; stroke-width: 0px; fill: rgb(76, 114, 176); fill-opacity: 1;\"/><path class=\"point\" transform=\"translate(326.94,114.43)\" d=\"M1,0A1,1 0 1,1 0,-1A1,1 0 0,1 1,0Z\" style=\"opacity: 1; stroke-width: 0px; fill: rgb(76, 114, 176); fill-opacity: 1;\"/><path class=\"point\" transform=\"translate(327.42,116.61)\" d=\"M1,0A1,1 0 1,1 0,-1A1,1 0 0,1 1,0Z\" style=\"opacity: 1; stroke-width: 0px; fill: rgb(76, 114, 176); fill-opacity: 1;\"/><path class=\"point\" transform=\"translate(327.9,117.22)\" d=\"M1,0A1,1 0 1,1 0,-1A1,1 0 0,1 1,0Z\" style=\"opacity: 1; stroke-width: 0px; fill: rgb(76, 114, 176); fill-opacity: 1;\"/><path class=\"point\" transform=\"translate(328.38,123.87)\" d=\"M1,0A1,1 0 1,1 0,-1A1,1 0 0,1 1,0Z\" style=\"opacity: 1; stroke-width: 0px; fill: rgb(76, 114, 176); fill-opacity: 1;\"/><path class=\"point\" transform=\"translate(328.86,146.26)\" d=\"M1,0A1,1 0 1,1 0,-1A1,1 0 0,1 1,0Z\" style=\"opacity: 1; stroke-width: 0px; fill: rgb(76, 114, 176); fill-opacity: 1;\"/><path class=\"point\" transform=\"translate(329.34,117.57)\" d=\"M1,0A1,1 0 1,1 0,-1A1,1 0 0,1 1,0Z\" style=\"opacity: 1; stroke-width: 0px; fill: rgb(76, 114, 176); fill-opacity: 1;\"/><path class=\"point\" transform=\"translate(329.82,123.06)\" d=\"M1,0A1,1 0 1,1 0,-1A1,1 0 0,1 1,0Z\" style=\"opacity: 1; stroke-width: 0px; fill: rgb(76, 114, 176); fill-opacity: 1;\"/><path class=\"point\" transform=\"translate(330.3,126.74)\" d=\"M1,0A1,1 0 1,1 0,-1A1,1 0 0,1 1,0Z\" style=\"opacity: 1; stroke-width: 0px; fill: rgb(76, 114, 176); fill-opacity: 1;\"/><path class=\"point\" transform=\"translate(330.78,138.93)\" d=\"M1,0A1,1 0 1,1 0,-1A1,1 0 0,1 1,0Z\" style=\"opacity: 1; stroke-width: 0px; fill: rgb(76, 114, 176); fill-opacity: 1;\"/><path class=\"point\" transform=\"translate(331.26,112.72)\" d=\"M1,0A1,1 0 1,1 0,-1A1,1 0 0,1 1,0Z\" style=\"opacity: 1; stroke-width: 0px; fill: rgb(76, 114, 176); fill-opacity: 1;\"/><path class=\"point\" transform=\"translate(331.74,123.08)\" d=\"M1,0A1,1 0 1,1 0,-1A1,1 0 0,1 1,0Z\" style=\"opacity: 1; stroke-width: 0px; fill: rgb(76, 114, 176); fill-opacity: 1;\"/><path class=\"point\" transform=\"translate(332.22,136.88)\" d=\"M1,0A1,1 0 1,1 0,-1A1,1 0 0,1 1,0Z\" style=\"opacity: 1; stroke-width: 0px; fill: rgb(76, 114, 176); fill-opacity: 1;\"/><path class=\"point\" transform=\"translate(332.7,116.09)\" d=\"M1,0A1,1 0 1,1 0,-1A1,1 0 0,1 1,0Z\" style=\"opacity: 1; stroke-width: 0px; fill: rgb(76, 114, 176); fill-opacity: 1;\"/><path class=\"point\" transform=\"translate(333.18,120.94)\" d=\"M1,0A1,1 0 1,1 0,-1A1,1 0 0,1 1,0Z\" style=\"opacity: 1; stroke-width: 0px; fill: rgb(76, 114, 176); fill-opacity: 1;\"/><path class=\"point\" transform=\"translate(333.66,139.1)\" d=\"M1,0A1,1 0 1,1 0,-1A1,1 0 0,1 1,0Z\" style=\"opacity: 1; stroke-width: 0px; fill: rgb(76, 114, 176); fill-opacity: 1;\"/><path class=\"point\" transform=\"translate(334.14,137.51)\" d=\"M1,0A1,1 0 1,1 0,-1A1,1 0 0,1 1,0Z\" style=\"opacity: 1; stroke-width: 0px; fill: rgb(76, 114, 176); fill-opacity: 1;\"/><path class=\"point\" transform=\"translate(334.62,125.18)\" d=\"M1,0A1,1 0 1,1 0,-1A1,1 0 0,1 1,0Z\" style=\"opacity: 1; stroke-width: 0px; fill: rgb(76, 114, 176); fill-opacity: 1;\"/><path class=\"point\" transform=\"translate(335.11,123.42)\" d=\"M1,0A1,1 0 1,1 0,-1A1,1 0 0,1 1,0Z\" style=\"opacity: 1; stroke-width: 0px; fill: rgb(76, 114, 176); fill-opacity: 1;\"/><path class=\"point\" transform=\"translate(335.59,137.74)\" d=\"M1,0A1,1 0 1,1 0,-1A1,1 0 0,1 1,0Z\" style=\"opacity: 1; stroke-width: 0px; fill: rgb(76, 114, 176); fill-opacity: 1;\"/><path class=\"point\" transform=\"translate(336.07,140.38)\" d=\"M1,0A1,1 0 1,1 0,-1A1,1 0 0,1 1,0Z\" style=\"opacity: 1; stroke-width: 0px; fill: rgb(76, 114, 176); fill-opacity: 1;\"/><path class=\"point\" transform=\"translate(336.55,138.18)\" d=\"M1,0A1,1 0 1,1 0,-1A1,1 0 0,1 1,0Z\" style=\"opacity: 1; stroke-width: 0px; fill: rgb(76, 114, 176); fill-opacity: 1;\"/><path class=\"point\" transform=\"translate(337.03,126.13)\" d=\"M1,0A1,1 0 1,1 0,-1A1,1 0 0,1 1,0Z\" style=\"opacity: 1; stroke-width: 0px; fill: rgb(76, 114, 176); fill-opacity: 1;\"/><path class=\"point\" transform=\"translate(337.51,138.64)\" d=\"M1,0A1,1 0 1,1 0,-1A1,1 0 0,1 1,0Z\" style=\"opacity: 1; stroke-width: 0px; fill: rgb(76, 114, 176); fill-opacity: 1;\"/><path class=\"point\" transform=\"translate(337.99,128.46)\" d=\"M1,0A1,1 0 1,1 0,-1A1,1 0 0,1 1,0Z\" style=\"opacity: 1; stroke-width: 0px; fill: rgb(76, 114, 176); fill-opacity: 1;\"/><path class=\"point\" transform=\"translate(338.47,131.39)\" d=\"M1,0A1,1 0 1,1 0,-1A1,1 0 0,1 1,0Z\" style=\"opacity: 1; stroke-width: 0px; fill: rgb(76, 114, 176); fill-opacity: 1;\"/><path class=\"point\" transform=\"translate(338.95,119.7)\" d=\"M1,0A1,1 0 1,1 0,-1A1,1 0 0,1 1,0Z\" style=\"opacity: 1; stroke-width: 0px; fill: rgb(76, 114, 176); fill-opacity: 1;\"/><path class=\"point\" transform=\"translate(339.43,104.91)\" d=\"M1,0A1,1 0 1,1 0,-1A1,1 0 0,1 1,0Z\" style=\"opacity: 1; stroke-width: 0px; fill: rgb(76, 114, 176); fill-opacity: 1;\"/><path class=\"point\" transform=\"translate(339.91,125.95)\" d=\"M1,0A1,1 0 1,1 0,-1A1,1 0 0,1 1,0Z\" style=\"opacity: 1; stroke-width: 0px; fill: rgb(76, 114, 176); fill-opacity: 1;\"/><path class=\"point\" transform=\"translate(340.39,127.26)\" d=\"M1,0A1,1 0 1,1 0,-1A1,1 0 0,1 1,0Z\" style=\"opacity: 1; stroke-width: 0px; fill: rgb(76, 114, 176); fill-opacity: 1;\"/><path class=\"point\" transform=\"translate(340.87,103.67)\" d=\"M1,0A1,1 0 1,1 0,-1A1,1 0 0,1 1,0Z\" style=\"opacity: 1; stroke-width: 0px; fill: rgb(76, 114, 176); fill-opacity: 1;\"/><path class=\"point\" transform=\"translate(341.35,128.1)\" d=\"M1,0A1,1 0 1,1 0,-1A1,1 0 0,1 1,0Z\" style=\"opacity: 1; stroke-width: 0px; fill: rgb(76, 114, 176); fill-opacity: 1;\"/><path class=\"point\" transform=\"translate(341.83,105.53)\" d=\"M1,0A1,1 0 1,1 0,-1A1,1 0 0,1 1,0Z\" style=\"opacity: 1; stroke-width: 0px; fill: rgb(76, 114, 176); fill-opacity: 1;\"/><path class=\"point\" transform=\"translate(342.31,134.33)\" d=\"M1,0A1,1 0 1,1 0,-1A1,1 0 0,1 1,0Z\" style=\"opacity: 1; stroke-width: 0px; fill: rgb(76, 114, 176); fill-opacity: 1;\"/><path class=\"point\" transform=\"translate(342.79,142.67)\" d=\"M1,0A1,1 0 1,1 0,-1A1,1 0 0,1 1,0Z\" style=\"opacity: 1; stroke-width: 0px; fill: rgb(76, 114, 176); fill-opacity: 1;\"/><path class=\"point\" transform=\"translate(343.27,125.94)\" d=\"M1,0A1,1 0 1,1 0,-1A1,1 0 0,1 1,0Z\" style=\"opacity: 1; stroke-width: 0px; fill: rgb(76, 114, 176); fill-opacity: 1;\"/><path class=\"point\" transform=\"translate(343.75,104.74)\" d=\"M1,0A1,1 0 1,1 0,-1A1,1 0 0,1 1,0Z\" style=\"opacity: 1; stroke-width: 0px; fill: rgb(76, 114, 176); fill-opacity: 1;\"/><path class=\"point\" transform=\"translate(344.23,142.92)\" d=\"M1,0A1,1 0 1,1 0,-1A1,1 0 0,1 1,0Z\" style=\"opacity: 1; stroke-width: 0px; fill: rgb(76, 114, 176); fill-opacity: 1;\"/><path class=\"point\" transform=\"translate(344.71,127.01)\" d=\"M1,0A1,1 0 1,1 0,-1A1,1 0 0,1 1,0Z\" style=\"opacity: 1; stroke-width: 0px; fill: rgb(76, 114, 176); fill-opacity: 1;\"/><path class=\"point\" transform=\"translate(345.2,101.12)\" d=\"M1,0A1,1 0 1,1 0,-1A1,1 0 0,1 1,0Z\" style=\"opacity: 1; stroke-width: 0px; fill: rgb(76, 114, 176); fill-opacity: 1;\"/><path class=\"point\" transform=\"translate(345.68,124.37)\" d=\"M1,0A1,1 0 1,1 0,-1A1,1 0 0,1 1,0Z\" style=\"opacity: 1; stroke-width: 0px; fill: rgb(76, 114, 176); fill-opacity: 1;\"/><path class=\"point\" transform=\"translate(346.16,141.41)\" d=\"M1,0A1,1 0 1,1 0,-1A1,1 0 0,1 1,0Z\" style=\"opacity: 1; stroke-width: 0px; fill: rgb(76, 114, 176); fill-opacity: 1;\"/><path class=\"point\" transform=\"translate(346.64,124.93)\" d=\"M1,0A1,1 0 1,1 0,-1A1,1 0 0,1 1,0Z\" style=\"opacity: 1; stroke-width: 0px; fill: rgb(76, 114, 176); fill-opacity: 1;\"/><path class=\"point\" transform=\"translate(347.12,129.53)\" d=\"M1,0A1,1 0 1,1 0,-1A1,1 0 0,1 1,0Z\" style=\"opacity: 1; stroke-width: 0px; fill: rgb(76, 114, 176); fill-opacity: 1;\"/><path class=\"point\" transform=\"translate(347.6,126.46)\" d=\"M1,0A1,1 0 1,1 0,-1A1,1 0 0,1 1,0Z\" style=\"opacity: 1; stroke-width: 0px; fill: rgb(76, 114, 176); fill-opacity: 1;\"/><path class=\"point\" transform=\"translate(348.08,124.99)\" d=\"M1,0A1,1 0 1,1 0,-1A1,1 0 0,1 1,0Z\" style=\"opacity: 1; stroke-width: 0px; fill: rgb(76, 114, 176); fill-opacity: 1;\"/><path class=\"point\" transform=\"translate(348.56,118.6)\" d=\"M1,0A1,1 0 1,1 0,-1A1,1 0 0,1 1,0Z\" style=\"opacity: 1; stroke-width: 0px; fill: rgb(76, 114, 176); fill-opacity: 1;\"/><path class=\"point\" transform=\"translate(349.04,101)\" d=\"M1,0A1,1 0 1,1 0,-1A1,1 0 0,1 1,0Z\" style=\"opacity: 1; stroke-width: 0px; fill: rgb(76, 114, 176); fill-opacity: 1;\"/><path class=\"point\" transform=\"translate(349.52,123.46)\" d=\"M1,0A1,1 0 1,1 0,-1A1,1 0 0,1 1,0Z\" style=\"opacity: 1; stroke-width: 0px; fill: rgb(76, 114, 176); fill-opacity: 1;\"/><path class=\"point\" transform=\"translate(350,111.72)\" d=\"M1,0A1,1 0 1,1 0,-1A1,1 0 0,1 1,0Z\" style=\"opacity: 1; stroke-width: 0px; fill: rgb(76, 114, 176); fill-opacity: 1;\"/><path class=\"point\" transform=\"translate(350.48,106.48)\" d=\"M1,0A1,1 0 1,1 0,-1A1,1 0 0,1 1,0Z\" style=\"opacity: 1; stroke-width: 0px; fill: rgb(76, 114, 176); fill-opacity: 1;\"/><path class=\"point\" transform=\"translate(350.96,130.7)\" d=\"M1,0A1,1 0 1,1 0,-1A1,1 0 0,1 1,0Z\" style=\"opacity: 1; stroke-width: 0px; fill: rgb(76, 114, 176); fill-opacity: 1;\"/><path class=\"point\" transform=\"translate(351.44,123.53)\" d=\"M1,0A1,1 0 1,1 0,-1A1,1 0 0,1 1,0Z\" style=\"opacity: 1; stroke-width: 0px; fill: rgb(76, 114, 176); fill-opacity: 1;\"/><path class=\"point\" transform=\"translate(351.92,105.41)\" d=\"M1,0A1,1 0 1,1 0,-1A1,1 0 0,1 1,0Z\" style=\"opacity: 1; stroke-width: 0px; fill: rgb(76, 114, 176); fill-opacity: 1;\"/><path class=\"point\" transform=\"translate(352.4,105.72)\" d=\"M1,0A1,1 0 1,1 0,-1A1,1 0 0,1 1,0Z\" style=\"opacity: 1; stroke-width: 0px; fill: rgb(76, 114, 176); fill-opacity: 1;\"/><path class=\"point\" transform=\"translate(352.88,122.15)\" d=\"M1,0A1,1 0 1,1 0,-1A1,1 0 0,1 1,0Z\" style=\"opacity: 1; stroke-width: 0px; fill: rgb(76, 114, 176); fill-opacity: 1;\"/><path class=\"point\" transform=\"translate(353.36,131.5)\" d=\"M1,0A1,1 0 1,1 0,-1A1,1 0 0,1 1,0Z\" style=\"opacity: 1; stroke-width: 0px; fill: rgb(76, 114, 176); fill-opacity: 1;\"/><path class=\"point\" transform=\"translate(353.84,102.56)\" d=\"M1,0A1,1 0 1,1 0,-1A1,1 0 0,1 1,0Z\" style=\"opacity: 1; stroke-width: 0px; fill: rgb(76, 114, 176); fill-opacity: 1;\"/><path class=\"point\" transform=\"translate(354.32,101.08)\" d=\"M1,0A1,1 0 1,1 0,-1A1,1 0 0,1 1,0Z\" style=\"opacity: 1; stroke-width: 0px; fill: rgb(76, 114, 176); fill-opacity: 1;\"/><path class=\"point\" transform=\"translate(354.8,122.44)\" d=\"M1,0A1,1 0 1,1 0,-1A1,1 0 0,1 1,0Z\" style=\"opacity: 1; stroke-width: 0px; fill: rgb(76, 114, 176); fill-opacity: 1;\"/><path class=\"point\" transform=\"translate(355.29,120.6)\" d=\"M1,0A1,1 0 1,1 0,-1A1,1 0 0,1 1,0Z\" style=\"opacity: 1; stroke-width: 0px; fill: rgb(76, 114, 176); fill-opacity: 1;\"/><path class=\"point\" transform=\"translate(355.77,113.33)\" d=\"M1,0A1,1 0 1,1 0,-1A1,1 0 0,1 1,0Z\" style=\"opacity: 1; stroke-width: 0px; fill: rgb(76, 114, 176); fill-opacity: 1;\"/><path class=\"point\" transform=\"translate(356.25,103.01)\" d=\"M1,0A1,1 0 1,1 0,-1A1,1 0 0,1 1,0Z\" style=\"opacity: 1; stroke-width: 0px; fill: rgb(76, 114, 176); fill-opacity: 1;\"/><path class=\"point\" transform=\"translate(356.73,112.79)\" d=\"M1,0A1,1 0 1,1 0,-1A1,1 0 0,1 1,0Z\" style=\"opacity: 1; stroke-width: 0px; fill: rgb(76, 114, 176); fill-opacity: 1;\"/><path class=\"point\" transform=\"translate(357.21,96.38)\" d=\"M1,0A1,1 0 1,1 0,-1A1,1 0 0,1 1,0Z\" style=\"opacity: 1; stroke-width: 0px; fill: rgb(76, 114, 176); fill-opacity: 1;\"/><path class=\"point\" transform=\"translate(357.69,115.76)\" d=\"M1,0A1,1 0 1,1 0,-1A1,1 0 0,1 1,0Z\" style=\"opacity: 1; stroke-width: 0px; fill: rgb(76, 114, 176); fill-opacity: 1;\"/><path class=\"point\" transform=\"translate(358.17,111.09)\" d=\"M1,0A1,1 0 1,1 0,-1A1,1 0 0,1 1,0Z\" style=\"opacity: 1; stroke-width: 0px; fill: rgb(76, 114, 176); fill-opacity: 1;\"/><path class=\"point\" transform=\"translate(358.65,127.75)\" d=\"M1,0A1,1 0 1,1 0,-1A1,1 0 0,1 1,0Z\" style=\"opacity: 1; stroke-width: 0px; fill: rgb(76, 114, 176); fill-opacity: 1;\"/><path class=\"point\" transform=\"translate(359.13,97.51)\" d=\"M1,0A1,1 0 1,1 0,-1A1,1 0 0,1 1,0Z\" style=\"opacity: 1; stroke-width: 0px; fill: rgb(76, 114, 176); fill-opacity: 1;\"/><path class=\"point\" transform=\"translate(359.61,103.72)\" d=\"M1,0A1,1 0 1,1 0,-1A1,1 0 0,1 1,0Z\" style=\"opacity: 1; stroke-width: 0px; fill: rgb(76, 114, 176); fill-opacity: 1;\"/><path class=\"point\" transform=\"translate(360.09,97.63)\" d=\"M1,0A1,1 0 1,1 0,-1A1,1 0 0,1 1,0Z\" style=\"opacity: 1; stroke-width: 0px; fill: rgb(76, 114, 176); fill-opacity: 1;\"/><path class=\"point\" transform=\"translate(360.57,121.44)\" d=\"M1,0A1,1 0 1,1 0,-1A1,1 0 0,1 1,0Z\" style=\"opacity: 1; stroke-width: 0px; fill: rgb(76, 114, 176); fill-opacity: 1;\"/><path class=\"point\" transform=\"translate(361.05,110.87)\" d=\"M1,0A1,1 0 1,1 0,-1A1,1 0 0,1 1,0Z\" style=\"opacity: 1; stroke-width: 0px; fill: rgb(76, 114, 176); fill-opacity: 1;\"/><path class=\"point\" transform=\"translate(361.53,94.53)\" d=\"M1,0A1,1 0 1,1 0,-1A1,1 0 0,1 1,0Z\" style=\"opacity: 1; stroke-width: 0px; fill: rgb(76, 114, 176); fill-opacity: 1;\"/><path class=\"point\" transform=\"translate(362.01,115.06)\" d=\"M1,0A1,1 0 1,1 0,-1A1,1 0 0,1 1,0Z\" style=\"opacity: 1; stroke-width: 0px; fill: rgb(76, 114, 176); fill-opacity: 1;\"/><path class=\"point\" transform=\"translate(362.49,130.35)\" d=\"M1,0A1,1 0 1,1 0,-1A1,1 0 0,1 1,0Z\" style=\"opacity: 1; stroke-width: 0px; fill: rgb(76, 114, 176); fill-opacity: 1;\"/><path class=\"point\" transform=\"translate(362.97,94.32)\" d=\"M1,0A1,1 0 1,1 0,-1A1,1 0 0,1 1,0Z\" style=\"opacity: 1; stroke-width: 0px; fill: rgb(76, 114, 176); fill-opacity: 1;\"/><path class=\"point\" transform=\"translate(363.45,119.69)\" d=\"M1,0A1,1 0 1,1 0,-1A1,1 0 0,1 1,0Z\" style=\"opacity: 1; stroke-width: 0px; fill: rgb(76, 114, 176); fill-opacity: 1;\"/><path class=\"point\" transform=\"translate(363.93,97.67)\" d=\"M1,0A1,1 0 1,1 0,-1A1,1 0 0,1 1,0Z\" style=\"opacity: 1; stroke-width: 0px; fill: rgb(76, 114, 176); fill-opacity: 1;\"/><path class=\"point\" transform=\"translate(364.41,115.72)\" d=\"M1,0A1,1 0 1,1 0,-1A1,1 0 0,1 1,0Z\" style=\"opacity: 1; stroke-width: 0px; fill: rgb(76, 114, 176); fill-opacity: 1;\"/><path class=\"point\" transform=\"translate(364.89,118.05)\" d=\"M1,0A1,1 0 1,1 0,-1A1,1 0 0,1 1,0Z\" style=\"opacity: 1; stroke-width: 0px; fill: rgb(76, 114, 176); fill-opacity: 1;\"/><path class=\"point\" transform=\"translate(365.38,92.72)\" d=\"M1,0A1,1 0 1,1 0,-1A1,1 0 0,1 1,0Z\" style=\"opacity: 1; stroke-width: 0px; fill: rgb(76, 114, 176); fill-opacity: 1;\"/><path class=\"point\" transform=\"translate(365.86,93.87)\" d=\"M1,0A1,1 0 1,1 0,-1A1,1 0 0,1 1,0Z\" style=\"opacity: 1; stroke-width: 0px; fill: rgb(76, 114, 176); fill-opacity: 1;\"/><path class=\"point\" transform=\"translate(366.34,91)\" d=\"M1,0A1,1 0 1,1 0,-1A1,1 0 0,1 1,0Z\" style=\"opacity: 1; stroke-width: 0px; fill: rgb(76, 114, 176); fill-opacity: 1;\"/><path class=\"point\" transform=\"translate(366.82,96.84)\" d=\"M1,0A1,1 0 1,1 0,-1A1,1 0 0,1 1,0Z\" style=\"opacity: 1; stroke-width: 0px; fill: rgb(76, 114, 176); fill-opacity: 1;\"/><path class=\"point\" transform=\"translate(367.3,97.76)\" d=\"M1,0A1,1 0 1,1 0,-1A1,1 0 0,1 1,0Z\" style=\"opacity: 1; stroke-width: 0px; fill: rgb(76, 114, 176); fill-opacity: 1;\"/><path class=\"point\" transform=\"translate(367.78,97.2)\" d=\"M1,0A1,1 0 1,1 0,-1A1,1 0 0,1 1,0Z\" style=\"opacity: 1; stroke-width: 0px; fill: rgb(76, 114, 176); fill-opacity: 1;\"/><path class=\"point\" transform=\"translate(368.26,108.52)\" d=\"M1,0A1,1 0 1,1 0,-1A1,1 0 0,1 1,0Z\" style=\"opacity: 1; stroke-width: 0px; fill: rgb(76, 114, 176); fill-opacity: 1;\"/><path class=\"point\" transform=\"translate(368.74,126.25)\" d=\"M1,0A1,1 0 1,1 0,-1A1,1 0 0,1 1,0Z\" style=\"opacity: 1; stroke-width: 0px; fill: rgb(76, 114, 176); fill-opacity: 1;\"/><path class=\"point\" transform=\"translate(369.22,118.49)\" d=\"M1,0A1,1 0 1,1 0,-1A1,1 0 0,1 1,0Z\" style=\"opacity: 1; stroke-width: 0px; fill: rgb(76, 114, 176); fill-opacity: 1;\"/><path class=\"point\" transform=\"translate(369.7,120.33)\" d=\"M1,0A1,1 0 1,1 0,-1A1,1 0 0,1 1,0Z\" style=\"opacity: 1; stroke-width: 0px; fill: rgb(76, 114, 176); fill-opacity: 1;\"/><path class=\"point\" transform=\"translate(370.18,120.9)\" d=\"M1,0A1,1 0 1,1 0,-1A1,1 0 0,1 1,0Z\" style=\"opacity: 1; stroke-width: 0px; fill: rgb(76, 114, 176); fill-opacity: 1;\"/><path class=\"point\" transform=\"translate(370.66,107.53)\" d=\"M1,0A1,1 0 1,1 0,-1A1,1 0 0,1 1,0Z\" style=\"opacity: 1; stroke-width: 0px; fill: rgb(76, 114, 176); fill-opacity: 1;\"/><path class=\"point\" transform=\"translate(371.14,116.82)\" d=\"M1,0A1,1 0 1,1 0,-1A1,1 0 0,1 1,0Z\" style=\"opacity: 1; stroke-width: 0px; fill: rgb(76, 114, 176); fill-opacity: 1;\"/><path class=\"point\" transform=\"translate(371.62,110.05)\" d=\"M1,0A1,1 0 1,1 0,-1A1,1 0 0,1 1,0Z\" style=\"opacity: 1; stroke-width: 0px; fill: rgb(76, 114, 176); fill-opacity: 1;\"/><path class=\"point\" transform=\"translate(372.1,115.72)\" d=\"M1,0A1,1 0 1,1 0,-1A1,1 0 0,1 1,0Z\" style=\"opacity: 1; stroke-width: 0px; fill: rgb(76, 114, 176); fill-opacity: 1;\"/><path class=\"point\" transform=\"translate(372.58,104.04)\" d=\"M1,0A1,1 0 1,1 0,-1A1,1 0 0,1 1,0Z\" style=\"opacity: 1; stroke-width: 0px; fill: rgb(76, 114, 176); fill-opacity: 1;\"/><path class=\"point\" transform=\"translate(373.06,91.82)\" d=\"M1,0A1,1 0 1,1 0,-1A1,1 0 0,1 1,0Z\" style=\"opacity: 1; stroke-width: 0px; fill: rgb(76, 114, 176); fill-opacity: 1;\"/><path class=\"point\" transform=\"translate(373.54,95.21)\" d=\"M1,0A1,1 0 1,1 0,-1A1,1 0 0,1 1,0Z\" style=\"opacity: 1; stroke-width: 0px; fill: rgb(76, 114, 176); fill-opacity: 1;\"/><path class=\"point\" transform=\"translate(374.02,113.65)\" d=\"M1,0A1,1 0 1,1 0,-1A1,1 0 0,1 1,0Z\" style=\"opacity: 1; stroke-width: 0px; fill: rgb(76, 114, 176); fill-opacity: 1;\"/><path class=\"point\" transform=\"translate(374.5,115.81)\" d=\"M1,0A1,1 0 1,1 0,-1A1,1 0 0,1 1,0Z\" style=\"opacity: 1; stroke-width: 0px; fill: rgb(76, 114, 176); fill-opacity: 1;\"/><path class=\"point\" transform=\"translate(374.98,86.68)\" d=\"M1,0A1,1 0 1,1 0,-1A1,1 0 0,1 1,0Z\" style=\"opacity: 1; stroke-width: 0px; fill: rgb(76, 114, 176); fill-opacity: 1;\"/><path class=\"point\" transform=\"translate(375.47,112.5)\" d=\"M1,0A1,1 0 1,1 0,-1A1,1 0 0,1 1,0Z\" style=\"opacity: 1; stroke-width: 0px; fill: rgb(76, 114, 176); fill-opacity: 1;\"/><path class=\"point\" transform=\"translate(375.95,126.02)\" d=\"M1,0A1,1 0 1,1 0,-1A1,1 0 0,1 1,0Z\" style=\"opacity: 1; stroke-width: 0px; fill: rgb(76, 114, 176); fill-opacity: 1;\"/><path class=\"point\" transform=\"translate(376.43,111.83)\" d=\"M1,0A1,1 0 1,1 0,-1A1,1 0 0,1 1,0Z\" style=\"opacity: 1; stroke-width: 0px; fill: rgb(76, 114, 176); fill-opacity: 1;\"/><path class=\"point\" transform=\"translate(376.91,105.8)\" d=\"M1,0A1,1 0 1,1 0,-1A1,1 0 0,1 1,0Z\" style=\"opacity: 1; stroke-width: 0px; fill: rgb(76, 114, 176); fill-opacity: 1;\"/><path class=\"point\" transform=\"translate(377.39,97.69)\" d=\"M1,0A1,1 0 1,1 0,-1A1,1 0 0,1 1,0Z\" style=\"opacity: 1; stroke-width: 0px; fill: rgb(76, 114, 176); fill-opacity: 1;\"/><path class=\"point\" transform=\"translate(377.87,122.37)\" d=\"M1,0A1,1 0 1,1 0,-1A1,1 0 0,1 1,0Z\" style=\"opacity: 1; stroke-width: 0px; fill: rgb(76, 114, 176); fill-opacity: 1;\"/><path class=\"point\" transform=\"translate(378.35,88.62)\" d=\"M1,0A1,1 0 1,1 0,-1A1,1 0 0,1 1,0Z\" style=\"opacity: 1; stroke-width: 0px; fill: rgb(76, 114, 176); fill-opacity: 1;\"/><path class=\"point\" transform=\"translate(378.83,110.1)\" d=\"M1,0A1,1 0 1,1 0,-1A1,1 0 0,1 1,0Z\" style=\"opacity: 1; stroke-width: 0px; fill: rgb(76, 114, 176); fill-opacity: 1;\"/><path class=\"point\" transform=\"translate(379.31,108.24)\" d=\"M1,0A1,1 0 1,1 0,-1A1,1 0 0,1 1,0Z\" style=\"opacity: 1; stroke-width: 0px; fill: rgb(76, 114, 176); fill-opacity: 1;\"/><path class=\"point\" transform=\"translate(379.79,85.38)\" d=\"M1,0A1,1 0 1,1 0,-1A1,1 0 0,1 1,0Z\" style=\"opacity: 1; stroke-width: 0px; fill: rgb(76, 114, 176); fill-opacity: 1;\"/><path class=\"point\" transform=\"translate(380.27,118.51)\" d=\"M1,0A1,1 0 1,1 0,-1A1,1 0 0,1 1,0Z\" style=\"opacity: 1; stroke-width: 0px; fill: rgb(76, 114, 176); fill-opacity: 1;\"/><path class=\"point\" transform=\"translate(380.75,89.19)\" d=\"M1,0A1,1 0 1,1 0,-1A1,1 0 0,1 1,0Z\" style=\"opacity: 1; stroke-width: 0px; fill: rgb(76, 114, 176); fill-opacity: 1;\"/><path class=\"point\" transform=\"translate(381.23,110.89)\" d=\"M1,0A1,1 0 1,1 0,-1A1,1 0 0,1 1,0Z\" style=\"opacity: 1; stroke-width: 0px; fill: rgb(76, 114, 176); fill-opacity: 1;\"/><path class=\"point\" transform=\"translate(381.71,106.01)\" d=\"M1,0A1,1 0 1,1 0,-1A1,1 0 0,1 1,0Z\" style=\"opacity: 1; stroke-width: 0px; fill: rgb(76, 114, 176); fill-opacity: 1;\"/><path class=\"point\" transform=\"translate(382.19,86.34)\" d=\"M1,0A1,1 0 1,1 0,-1A1,1 0 0,1 1,0Z\" style=\"opacity: 1; stroke-width: 0px; fill: rgb(76, 114, 176); fill-opacity: 1;\"/><path class=\"point\" transform=\"translate(382.67,118)\" d=\"M1,0A1,1 0 1,1 0,-1A1,1 0 0,1 1,0Z\" style=\"opacity: 1; stroke-width: 0px; fill: rgb(76, 114, 176); fill-opacity: 1;\"/><path class=\"point\" transform=\"translate(383.15,120)\" d=\"M1,0A1,1 0 1,1 0,-1A1,1 0 0,1 1,0Z\" style=\"opacity: 1; stroke-width: 0px; fill: rgb(76, 114, 176); fill-opacity: 1;\"/><path class=\"point\" transform=\"translate(383.63,103.44)\" d=\"M1,0A1,1 0 1,1 0,-1A1,1 0 0,1 1,0Z\" style=\"opacity: 1; stroke-width: 0px; fill: rgb(76, 114, 176); fill-opacity: 1;\"/><path class=\"point\" transform=\"translate(384.11,100.44)\" d=\"M1,0A1,1 0 1,1 0,-1A1,1 0 0,1 1,0Z\" style=\"opacity: 1; stroke-width: 0px; fill: rgb(76, 114, 176); fill-opacity: 1;\"/><path class=\"point\" transform=\"translate(384.59,110.62)\" d=\"M1,0A1,1 0 1,1 0,-1A1,1 0 0,1 1,0Z\" style=\"opacity: 1; stroke-width: 0px; fill: rgb(76, 114, 176); fill-opacity: 1;\"/><path class=\"point\" transform=\"translate(385.08,103.68)\" d=\"M1,0A1,1 0 1,1 0,-1A1,1 0 0,1 1,0Z\" style=\"opacity: 1; stroke-width: 0px; fill: rgb(76, 114, 176); fill-opacity: 1;\"/><path class=\"point\" transform=\"translate(385.56,91.4)\" d=\"M1,0A1,1 0 1,1 0,-1A1,1 0 0,1 1,0Z\" style=\"opacity: 1; stroke-width: 0px; fill: rgb(76, 114, 176); fill-opacity: 1;\"/><path class=\"point\" transform=\"translate(386.04,109.16)\" d=\"M1,0A1,1 0 1,1 0,-1A1,1 0 0,1 1,0Z\" style=\"opacity: 1; stroke-width: 0px; fill: rgb(76, 114, 176); fill-opacity: 1;\"/><path class=\"point\" transform=\"translate(386.52,79.62)\" d=\"M1,0A1,1 0 1,1 0,-1A1,1 0 0,1 1,0Z\" style=\"opacity: 1; stroke-width: 0px; fill: rgb(76, 114, 176); fill-opacity: 1;\"/><path class=\"point\" transform=\"translate(387,91.27)\" d=\"M1,0A1,1 0 1,1 0,-1A1,1 0 0,1 1,0Z\" style=\"opacity: 1; stroke-width: 0px; fill: rgb(76, 114, 176); fill-opacity: 1;\"/><path class=\"point\" transform=\"translate(387.48,90.07)\" d=\"M1,0A1,1 0 1,1 0,-1A1,1 0 0,1 1,0Z\" style=\"opacity: 1; stroke-width: 0px; fill: rgb(76, 114, 176); fill-opacity: 1;\"/><path class=\"point\" transform=\"translate(387.96,100.97)\" d=\"M1,0A1,1 0 1,1 0,-1A1,1 0 0,1 1,0Z\" style=\"opacity: 1; stroke-width: 0px; fill: rgb(76, 114, 176); fill-opacity: 1;\"/><path class=\"point\" transform=\"translate(388.44,109.98)\" d=\"M1,0A1,1 0 1,1 0,-1A1,1 0 0,1 1,0Z\" style=\"opacity: 1; stroke-width: 0px; fill: rgb(76, 114, 176); fill-opacity: 1;\"/><path class=\"point\" transform=\"translate(388.92,87.32)\" d=\"M1,0A1,1 0 1,1 0,-1A1,1 0 0,1 1,0Z\" style=\"opacity: 1; stroke-width: 0px; fill: rgb(76, 114, 176); fill-opacity: 1;\"/><path class=\"point\" transform=\"translate(389.4,107.01)\" d=\"M1,0A1,1 0 1,1 0,-1A1,1 0 0,1 1,0Z\" style=\"opacity: 1; stroke-width: 0px; fill: rgb(76, 114, 176); fill-opacity: 1;\"/><path class=\"point\" transform=\"translate(389.88,116.45)\" d=\"M1,0A1,1 0 1,1 0,-1A1,1 0 0,1 1,0Z\" style=\"opacity: 1; stroke-width: 0px; fill: rgb(76, 114, 176); fill-opacity: 1;\"/><path class=\"point\" transform=\"translate(390.36,95.45)\" d=\"M1,0A1,1 0 1,1 0,-1A1,1 0 0,1 1,0Z\" style=\"opacity: 1; stroke-width: 0px; fill: rgb(76, 114, 176); fill-opacity: 1;\"/><path class=\"point\" transform=\"translate(390.84,101.92)\" d=\"M1,0A1,1 0 1,1 0,-1A1,1 0 0,1 1,0Z\" style=\"opacity: 1; stroke-width: 0px; fill: rgb(76, 114, 176); fill-opacity: 1;\"/><path class=\"point\" transform=\"translate(391.32,100.16)\" d=\"M1,0A1,1 0 1,1 0,-1A1,1 0 0,1 1,0Z\" style=\"opacity: 1; stroke-width: 0px; fill: rgb(76, 114, 176); fill-opacity: 1;\"/><path class=\"point\" transform=\"translate(391.8,83.88)\" d=\"M1,0A1,1 0 1,1 0,-1A1,1 0 0,1 1,0Z\" style=\"opacity: 1; stroke-width: 0px; fill: rgb(76, 114, 176); fill-opacity: 1;\"/><path class=\"point\" transform=\"translate(392.28,87.14)\" d=\"M1,0A1,1 0 1,1 0,-1A1,1 0 0,1 1,0Z\" style=\"opacity: 1; stroke-width: 0px; fill: rgb(76, 114, 176); fill-opacity: 1;\"/><path class=\"point\" transform=\"translate(392.76,97.37)\" d=\"M1,0A1,1 0 1,1 0,-1A1,1 0 0,1 1,0Z\" style=\"opacity: 1; stroke-width: 0px; fill: rgb(76, 114, 176); fill-opacity: 1;\"/><path class=\"point\" transform=\"translate(393.24,104.87)\" d=\"M1,0A1,1 0 1,1 0,-1A1,1 0 0,1 1,0Z\" style=\"opacity: 1; stroke-width: 0px; fill: rgb(76, 114, 176); fill-opacity: 1;\"/><path class=\"point\" transform=\"translate(393.72,116.91)\" d=\"M1,0A1,1 0 1,1 0,-1A1,1 0 0,1 1,0Z\" style=\"opacity: 1; stroke-width: 0px; fill: rgb(76, 114, 176); fill-opacity: 1;\"/><path class=\"point\" transform=\"translate(394.2,93.17)\" d=\"M1,0A1,1 0 1,1 0,-1A1,1 0 0,1 1,0Z\" style=\"opacity: 1; stroke-width: 0px; fill: rgb(76, 114, 176); fill-opacity: 1;\"/><path class=\"point\" transform=\"translate(394.68,81.91)\" d=\"M1,0A1,1 0 1,1 0,-1A1,1 0 0,1 1,0Z\" style=\"opacity: 1; stroke-width: 0px; fill: rgb(76, 114, 176); fill-opacity: 1;\"/><path class=\"point\" transform=\"translate(395.17,115.44)\" d=\"M1,0A1,1 0 1,1 0,-1A1,1 0 0,1 1,0Z\" style=\"opacity: 1; stroke-width: 0px; fill: rgb(76, 114, 176); fill-opacity: 1;\"/><path class=\"point\" transform=\"translate(395.65,112.19)\" d=\"M1,0A1,1 0 1,1 0,-1A1,1 0 0,1 1,0Z\" style=\"opacity: 1; stroke-width: 0px; fill: rgb(76, 114, 176); fill-opacity: 1;\"/><path class=\"point\" transform=\"translate(396.13,114.41)\" d=\"M1,0A1,1 0 1,1 0,-1A1,1 0 0,1 1,0Z\" style=\"opacity: 1; stroke-width: 0px; fill: rgb(76, 114, 176); fill-opacity: 1;\"/><path class=\"point\" transform=\"translate(396.61,90.03)\" d=\"M1,0A1,1 0 1,1 0,-1A1,1 0 0,1 1,0Z\" style=\"opacity: 1; stroke-width: 0px; fill: rgb(76, 114, 176); fill-opacity: 1;\"/><path class=\"point\" transform=\"translate(397.09,93.22)\" d=\"M1,0A1,1 0 1,1 0,-1A1,1 0 0,1 1,0Z\" style=\"opacity: 1; stroke-width: 0px; fill: rgb(76, 114, 176); fill-opacity: 1;\"/><path class=\"point\" transform=\"translate(397.57,77.26)\" d=\"M1,0A1,1 0 1,1 0,-1A1,1 0 0,1 1,0Z\" style=\"opacity: 1; stroke-width: 0px; fill: rgb(76, 114, 176); fill-opacity: 1;\"/><path class=\"point\" transform=\"translate(398.05,90.94)\" d=\"M1,0A1,1 0 1,1 0,-1A1,1 0 0,1 1,0Z\" style=\"opacity: 1; stroke-width: 0px; fill: rgb(76, 114, 176); fill-opacity: 1;\"/><path class=\"point\" transform=\"translate(398.53,81.7)\" d=\"M1,0A1,1 0 1,1 0,-1A1,1 0 0,1 1,0Z\" style=\"opacity: 1; stroke-width: 0px; fill: rgb(76, 114, 176); fill-opacity: 1;\"/><path class=\"point\" transform=\"translate(399.01,83.2)\" d=\"M1,0A1,1 0 1,1 0,-1A1,1 0 0,1 1,0Z\" style=\"opacity: 1; stroke-width: 0px; fill: rgb(76, 114, 176); fill-opacity: 1;\"/><path class=\"point\" transform=\"translate(399.49,100.5)\" d=\"M1,0A1,1 0 1,1 0,-1A1,1 0 0,1 1,0Z\" style=\"opacity: 1; stroke-width: 0px; fill: rgb(76, 114, 176); fill-opacity: 1;\"/><path class=\"point\" transform=\"translate(399.97,105.95)\" d=\"M1,0A1,1 0 1,1 0,-1A1,1 0 0,1 1,0Z\" style=\"opacity: 1; stroke-width: 0px; fill: rgb(76, 114, 176); fill-opacity: 1;\"/><path class=\"point\" transform=\"translate(400.45,111.03)\" d=\"M1,0A1,1 0 1,1 0,-1A1,1 0 0,1 1,0Z\" style=\"opacity: 1; stroke-width: 0px; fill: rgb(76, 114, 176); fill-opacity: 1;\"/><path class=\"point\" transform=\"translate(400.93,97.9)\" d=\"M1,0A1,1 0 1,1 0,-1A1,1 0 0,1 1,0Z\" style=\"opacity: 1; stroke-width: 0px; fill: rgb(76, 114, 176); fill-opacity: 1;\"/><path class=\"point\" transform=\"translate(401.41,92.5)\" d=\"M1,0A1,1 0 1,1 0,-1A1,1 0 0,1 1,0Z\" style=\"opacity: 1; stroke-width: 0px; fill: rgb(76, 114, 176); fill-opacity: 1;\"/><path class=\"point\" transform=\"translate(401.89,105.54)\" d=\"M1,0A1,1 0 1,1 0,-1A1,1 0 0,1 1,0Z\" style=\"opacity: 1; stroke-width: 0px; fill: rgb(76, 114, 176); fill-opacity: 1;\"/><path class=\"point\" transform=\"translate(402.37,111.87)\" d=\"M1,0A1,1 0 1,1 0,-1A1,1 0 0,1 1,0Z\" style=\"opacity: 1; stroke-width: 0px; fill: rgb(76, 114, 176); fill-opacity: 1;\"/><path class=\"point\" transform=\"translate(402.85,85.41)\" d=\"M1,0A1,1 0 1,1 0,-1A1,1 0 0,1 1,0Z\" style=\"opacity: 1; stroke-width: 0px; fill: rgb(76, 114, 176); fill-opacity: 1;\"/><path class=\"point\" transform=\"translate(403.33,74.33)\" d=\"M1,0A1,1 0 1,1 0,-1A1,1 0 0,1 1,0Z\" style=\"opacity: 1; stroke-width: 0px; fill: rgb(76, 114, 176); fill-opacity: 1;\"/><path class=\"point\" transform=\"translate(403.81,83.26)\" d=\"M1,0A1,1 0 1,1 0,-1A1,1 0 0,1 1,0Z\" style=\"opacity: 1; stroke-width: 0px; fill: rgb(76, 114, 176); fill-opacity: 1;\"/><path class=\"point\" transform=\"translate(404.29,84.77)\" d=\"M1,0A1,1 0 1,1 0,-1A1,1 0 0,1 1,0Z\" style=\"opacity: 1; stroke-width: 0px; fill: rgb(76, 114, 176); fill-opacity: 1;\"/><path class=\"point\" transform=\"translate(404.77,105.06)\" d=\"M1,0A1,1 0 1,1 0,-1A1,1 0 0,1 1,0Z\" style=\"opacity: 1; stroke-width: 0px; fill: rgb(76, 114, 176); fill-opacity: 1;\"/><path class=\"point\" transform=\"translate(405.26,98.89)\" d=\"M1,0A1,1 0 1,1 0,-1A1,1 0 0,1 1,0Z\" style=\"opacity: 1; stroke-width: 0px; fill: rgb(76, 114, 176); fill-opacity: 1;\"/><path class=\"point\" transform=\"translate(405.74,77.3)\" d=\"M1,0A1,1 0 1,1 0,-1A1,1 0 0,1 1,0Z\" style=\"opacity: 1; stroke-width: 0px; fill: rgb(76, 114, 176); fill-opacity: 1;\"/><path class=\"point\" transform=\"translate(406.22,110.63)\" d=\"M1,0A1,1 0 1,1 0,-1A1,1 0 0,1 1,0Z\" style=\"opacity: 1; stroke-width: 0px; fill: rgb(76, 114, 176); fill-opacity: 1;\"/><path class=\"point\" transform=\"translate(406.7,91.38)\" d=\"M1,0A1,1 0 1,1 0,-1A1,1 0 0,1 1,0Z\" style=\"opacity: 1; stroke-width: 0px; fill: rgb(76, 114, 176); fill-opacity: 1;\"/><path class=\"point\" transform=\"translate(407.18,83.05)\" d=\"M1,0A1,1 0 1,1 0,-1A1,1 0 0,1 1,0Z\" style=\"opacity: 1; stroke-width: 0px; fill: rgb(76, 114, 176); fill-opacity: 1;\"/><path class=\"point\" transform=\"translate(407.66,106.56)\" d=\"M1,0A1,1 0 1,1 0,-1A1,1 0 0,1 1,0Z\" style=\"opacity: 1; stroke-width: 0px; fill: rgb(76, 114, 176); fill-opacity: 1;\"/><path class=\"point\" transform=\"translate(408.14,94.64)\" d=\"M1,0A1,1 0 1,1 0,-1A1,1 0 0,1 1,0Z\" style=\"opacity: 1; stroke-width: 0px; fill: rgb(76, 114, 176); fill-opacity: 1;\"/><path class=\"point\" transform=\"translate(408.62,102.78)\" d=\"M1,0A1,1 0 1,1 0,-1A1,1 0 0,1 1,0Z\" style=\"opacity: 1; stroke-width: 0px; fill: rgb(76, 114, 176); fill-opacity: 1;\"/><path class=\"point\" transform=\"translate(409.1,99.68)\" d=\"M1,0A1,1 0 1,1 0,-1A1,1 0 0,1 1,0Z\" style=\"opacity: 1; stroke-width: 0px; fill: rgb(76, 114, 176); fill-opacity: 1;\"/><path class=\"point\" transform=\"translate(409.58,91.65)\" d=\"M1,0A1,1 0 1,1 0,-1A1,1 0 0,1 1,0Z\" style=\"opacity: 1; stroke-width: 0px; fill: rgb(76, 114, 176); fill-opacity: 1;\"/><path class=\"point\" transform=\"translate(410.06,74.27)\" d=\"M1,0A1,1 0 1,1 0,-1A1,1 0 0,1 1,0Z\" style=\"opacity: 1; stroke-width: 0px; fill: rgb(76, 114, 176); fill-opacity: 1;\"/><path class=\"point\" transform=\"translate(410.54,80.92)\" d=\"M1,0A1,1 0 1,1 0,-1A1,1 0 0,1 1,0Z\" style=\"opacity: 1; stroke-width: 0px; fill: rgb(76, 114, 176); fill-opacity: 1;\"/><path class=\"point\" transform=\"translate(411.02,105)\" d=\"M1,0A1,1 0 1,1 0,-1A1,1 0 0,1 1,0Z\" style=\"opacity: 1; stroke-width: 0px; fill: rgb(76, 114, 176); fill-opacity: 1;\"/><path class=\"point\" transform=\"translate(411.5,87.12)\" d=\"M1,0A1,1 0 1,1 0,-1A1,1 0 0,1 1,0Z\" style=\"opacity: 1; stroke-width: 0px; fill: rgb(76, 114, 176); fill-opacity: 1;\"/><path class=\"point\" transform=\"translate(411.98,92.1)\" d=\"M1,0A1,1 0 1,1 0,-1A1,1 0 0,1 1,0Z\" style=\"opacity: 1; stroke-width: 0px; fill: rgb(76, 114, 176); fill-opacity: 1;\"/><path class=\"point\" transform=\"translate(412.46,98.43)\" d=\"M1,0A1,1 0 1,1 0,-1A1,1 0 0,1 1,0Z\" style=\"opacity: 1; stroke-width: 0px; fill: rgb(76, 114, 176); fill-opacity: 1;\"/><path class=\"point\" transform=\"translate(412.94,78.35)\" d=\"M1,0A1,1 0 1,1 0,-1A1,1 0 0,1 1,0Z\" style=\"opacity: 1; stroke-width: 0px; fill: rgb(76, 114, 176); fill-opacity: 1;\"/><path class=\"point\" transform=\"translate(413.42,101.24)\" d=\"M1,0A1,1 0 1,1 0,-1A1,1 0 0,1 1,0Z\" style=\"opacity: 1; stroke-width: 0px; fill: rgb(76, 114, 176); fill-opacity: 1;\"/><path class=\"point\" transform=\"translate(413.9,94.71)\" d=\"M1,0A1,1 0 1,1 0,-1A1,1 0 0,1 1,0Z\" style=\"opacity: 1; stroke-width: 0px; fill: rgb(76, 114, 176); fill-opacity: 1;\"/><path class=\"point\" transform=\"translate(414.38,98.19)\" d=\"M1,0A1,1 0 1,1 0,-1A1,1 0 0,1 1,0Z\" style=\"opacity: 1; stroke-width: 0px; fill: rgb(76, 114, 176); fill-opacity: 1;\"/><path class=\"point\" transform=\"translate(414.86,76.2)\" d=\"M1,0A1,1 0 1,1 0,-1A1,1 0 0,1 1,0Z\" style=\"opacity: 1; stroke-width: 0px; fill: rgb(76, 114, 176); fill-opacity: 1;\"/><path class=\"point\" transform=\"translate(415.35,87.1)\" d=\"M1,0A1,1 0 1,1 0,-1A1,1 0 0,1 1,0Z\" style=\"opacity: 1; stroke-width: 0px; fill: rgb(76, 114, 176); fill-opacity: 1;\"/><path class=\"point\" transform=\"translate(415.83,65.95)\" d=\"M1,0A1,1 0 1,1 0,-1A1,1 0 0,1 1,0Z\" style=\"opacity: 1; stroke-width: 0px; fill: rgb(76, 114, 176); fill-opacity: 1;\"/><path class=\"point\" transform=\"translate(416.31,92.64)\" d=\"M1,0A1,1 0 1,1 0,-1A1,1 0 0,1 1,0Z\" style=\"opacity: 1; stroke-width: 0px; fill: rgb(76, 114, 176); fill-opacity: 1;\"/><path class=\"point\" transform=\"translate(416.79,71.22)\" d=\"M1,0A1,1 0 1,1 0,-1A1,1 0 0,1 1,0Z\" style=\"opacity: 1; stroke-width: 0px; fill: rgb(76, 114, 176); fill-opacity: 1;\"/><path class=\"point\" transform=\"translate(417.27,99.25)\" d=\"M1,0A1,1 0 1,1 0,-1A1,1 0 0,1 1,0Z\" style=\"opacity: 1; stroke-width: 0px; fill: rgb(76, 114, 176); fill-opacity: 1;\"/><path class=\"point\" transform=\"translate(417.75,87.47)\" d=\"M1,0A1,1 0 1,1 0,-1A1,1 0 0,1 1,0Z\" style=\"opacity: 1; stroke-width: 0px; fill: rgb(76, 114, 176); fill-opacity: 1;\"/><path class=\"point\" transform=\"translate(418.23,70.63)\" d=\"M1,0A1,1 0 1,1 0,-1A1,1 0 0,1 1,0Z\" style=\"opacity: 1; stroke-width: 0px; fill: rgb(76, 114, 176); fill-opacity: 1;\"/><path class=\"point\" transform=\"translate(418.71,82.24)\" d=\"M1,0A1,1 0 1,1 0,-1A1,1 0 0,1 1,0Z\" style=\"opacity: 1; stroke-width: 0px; fill: rgb(76, 114, 176); fill-opacity: 1;\"/><path class=\"point\" transform=\"translate(419.19,102.53)\" d=\"M1,0A1,1 0 1,1 0,-1A1,1 0 0,1 1,0Z\" style=\"opacity: 1; stroke-width: 0px; fill: rgb(76, 114, 176); fill-opacity: 1;\"/><path class=\"point\" transform=\"translate(419.67,88.11)\" d=\"M1,0A1,1 0 1,1 0,-1A1,1 0 0,1 1,0Z\" style=\"opacity: 1; stroke-width: 0px; fill: rgb(76, 114, 176); fill-opacity: 1;\"/><path class=\"point\" transform=\"translate(420.15,61.81)\" d=\"M1,0A1,1 0 1,1 0,-1A1,1 0 0,1 1,0Z\" style=\"opacity: 1; stroke-width: 0px; fill: rgb(76, 114, 176); fill-opacity: 1;\"/><path class=\"point\" transform=\"translate(420.63,87.95)\" d=\"M1,0A1,1 0 1,1 0,-1A1,1 0 0,1 1,0Z\" style=\"opacity: 1; stroke-width: 0px; fill: rgb(76, 114, 176); fill-opacity: 1;\"/><path class=\"point\" transform=\"translate(421.11,91.65)\" d=\"M1,0A1,1 0 1,1 0,-1A1,1 0 0,1 1,0Z\" style=\"opacity: 1; stroke-width: 0px; fill: rgb(76, 114, 176); fill-opacity: 1;\"/><path class=\"point\" transform=\"translate(421.59,67.55)\" d=\"M1,0A1,1 0 1,1 0,-1A1,1 0 0,1 1,0Z\" style=\"opacity: 1; stroke-width: 0px; fill: rgb(76, 114, 176); fill-opacity: 1;\"/><path class=\"point\" transform=\"translate(422.07,73.27)\" d=\"M1,0A1,1 0 1,1 0,-1A1,1 0 0,1 1,0Z\" style=\"opacity: 1; stroke-width: 0px; fill: rgb(76, 114, 176); fill-opacity: 1;\"/><path class=\"point\" transform=\"translate(422.55,90.08)\" d=\"M1,0A1,1 0 1,1 0,-1A1,1 0 0,1 1,0Z\" style=\"opacity: 1; stroke-width: 0px; fill: rgb(76, 114, 176); fill-opacity: 1;\"/><path class=\"point\" transform=\"translate(423.03,89.86)\" d=\"M1,0A1,1 0 1,1 0,-1A1,1 0 0,1 1,0Z\" style=\"opacity: 1; stroke-width: 0px; fill: rgb(76, 114, 176); fill-opacity: 1;\"/><path class=\"point\" transform=\"translate(423.51,87.88)\" d=\"M1,0A1,1 0 1,1 0,-1A1,1 0 0,1 1,0Z\" style=\"opacity: 1; stroke-width: 0px; fill: rgb(76, 114, 176); fill-opacity: 1;\"/><path class=\"point\" transform=\"translate(423.99,80.85)\" d=\"M1,0A1,1 0 1,1 0,-1A1,1 0 0,1 1,0Z\" style=\"opacity: 1; stroke-width: 0px; fill: rgb(76, 114, 176); fill-opacity: 1;\"/><path class=\"point\" transform=\"translate(424.47,85.1)\" d=\"M1,0A1,1 0 1,1 0,-1A1,1 0 0,1 1,0Z\" style=\"opacity: 1; stroke-width: 0px; fill: rgb(76, 114, 176); fill-opacity: 1;\"/><path class=\"point\" transform=\"translate(424.95,97.4)\" d=\"M1,0A1,1 0 1,1 0,-1A1,1 0 0,1 1,0Z\" style=\"opacity: 1; stroke-width: 0px; fill: rgb(76, 114, 176); fill-opacity: 1;\"/><path class=\"point\" transform=\"translate(425.44,68.28)\" d=\"M1,0A1,1 0 1,1 0,-1A1,1 0 0,1 1,0Z\" style=\"opacity: 1; stroke-width: 0px; fill: rgb(76, 114, 176); fill-opacity: 1;\"/><path class=\"point\" transform=\"translate(425.92,88.44)\" d=\"M1,0A1,1 0 1,1 0,-1A1,1 0 0,1 1,0Z\" style=\"opacity: 1; stroke-width: 0px; fill: rgb(76, 114, 176); fill-opacity: 1;\"/><path class=\"point\" transform=\"translate(426.4,92.47)\" d=\"M1,0A1,1 0 1,1 0,-1A1,1 0 0,1 1,0Z\" style=\"opacity: 1; stroke-width: 0px; fill: rgb(76, 114, 176); fill-opacity: 1;\"/><path class=\"point\" transform=\"translate(426.88,70.2)\" d=\"M1,0A1,1 0 1,1 0,-1A1,1 0 0,1 1,0Z\" style=\"opacity: 1; stroke-width: 0px; fill: rgb(76, 114, 176); fill-opacity: 1;\"/><path class=\"point\" transform=\"translate(427.36,70.64)\" d=\"M1,0A1,1 0 1,1 0,-1A1,1 0 0,1 1,0Z\" style=\"opacity: 1; stroke-width: 0px; fill: rgb(76, 114, 176); fill-opacity: 1;\"/><path class=\"point\" transform=\"translate(427.84,58.62)\" d=\"M1,0A1,1 0 1,1 0,-1A1,1 0 0,1 1,0Z\" style=\"opacity: 1; stroke-width: 0px; fill: rgb(76, 114, 176); fill-opacity: 1;\"/><path class=\"point\" transform=\"translate(428.32,66.63)\" d=\"M1,0A1,1 0 1,1 0,-1A1,1 0 0,1 1,0Z\" style=\"opacity: 1; stroke-width: 0px; fill: rgb(76, 114, 176); fill-opacity: 1;\"/><path class=\"point\" transform=\"translate(428.8,81.23)\" d=\"M1,0A1,1 0 1,1 0,-1A1,1 0 0,1 1,0Z\" style=\"opacity: 1; stroke-width: 0px; fill: rgb(76, 114, 176); fill-opacity: 1;\"/><path class=\"point\" transform=\"translate(429.28,74.39)\" d=\"M1,0A1,1 0 1,1 0,-1A1,1 0 0,1 1,0Z\" style=\"opacity: 1; stroke-width: 0px; fill: rgb(76, 114, 176); fill-opacity: 1;\"/><path class=\"point\" transform=\"translate(429.76,69.05)\" d=\"M1,0A1,1 0 1,1 0,-1A1,1 0 0,1 1,0Z\" style=\"opacity: 1; stroke-width: 0px; fill: rgb(76, 114, 176); fill-opacity: 1;\"/><path class=\"point\" transform=\"translate(430.24,70.2)\" d=\"M1,0A1,1 0 1,1 0,-1A1,1 0 0,1 1,0Z\" style=\"opacity: 1; stroke-width: 0px; fill: rgb(76, 114, 176); fill-opacity: 1;\"/><path class=\"point\" transform=\"translate(430.72,69.94)\" d=\"M1,0A1,1 0 1,1 0,-1A1,1 0 0,1 1,0Z\" style=\"opacity: 1; stroke-width: 0px; fill: rgb(76, 114, 176); fill-opacity: 1;\"/><path class=\"point\" transform=\"translate(431.2,61.15)\" d=\"M1,0A1,1 0 1,1 0,-1A1,1 0 0,1 1,0Z\" style=\"opacity: 1; stroke-width: 0px; fill: rgb(76, 114, 176); fill-opacity: 1;\"/><path class=\"point\" transform=\"translate(431.68,68.6)\" d=\"M1,0A1,1 0 1,1 0,-1A1,1 0 0,1 1,0Z\" style=\"opacity: 1; stroke-width: 0px; fill: rgb(76, 114, 176); fill-opacity: 1;\"/><path class=\"point\" transform=\"translate(432.16,92.56)\" d=\"M1,0A1,1 0 1,1 0,-1A1,1 0 0,1 1,0Z\" style=\"opacity: 1; stroke-width: 0px; fill: rgb(76, 114, 176); fill-opacity: 1;\"/><path class=\"point\" transform=\"translate(432.64,84.55)\" d=\"M1,0A1,1 0 1,1 0,-1A1,1 0 0,1 1,0Z\" style=\"opacity: 1; stroke-width: 0px; fill: rgb(76, 114, 176); fill-opacity: 1;\"/><path class=\"point\" transform=\"translate(433.12,96.78)\" d=\"M1,0A1,1 0 1,1 0,-1A1,1 0 0,1 1,0Z\" style=\"opacity: 1; stroke-width: 0px; fill: rgb(76, 114, 176); fill-opacity: 1;\"/><path class=\"point\" transform=\"translate(433.6,59.59)\" d=\"M1,0A1,1 0 1,1 0,-1A1,1 0 0,1 1,0Z\" style=\"opacity: 1; stroke-width: 0px; fill: rgb(76, 114, 176); fill-opacity: 1;\"/><path class=\"point\" transform=\"translate(434.08,57.83)\" d=\"M1,0A1,1 0 1,1 0,-1A1,1 0 0,1 1,0Z\" style=\"opacity: 1; stroke-width: 0px; fill: rgb(76, 114, 176); fill-opacity: 1;\"/><path class=\"point\" transform=\"translate(434.56,89.07)\" d=\"M1,0A1,1 0 1,1 0,-1A1,1 0 0,1 1,0Z\" style=\"opacity: 1; stroke-width: 0px; fill: rgb(76, 114, 176); fill-opacity: 1;\"/><path class=\"point\" transform=\"translate(435.05,85.12)\" d=\"M1,0A1,1 0 1,1 0,-1A1,1 0 0,1 1,0Z\" style=\"opacity: 1; stroke-width: 0px; fill: rgb(76, 114, 176); fill-opacity: 1;\"/><path class=\"point\" transform=\"translate(435.53,57.29)\" d=\"M1,0A1,1 0 1,1 0,-1A1,1 0 0,1 1,0Z\" style=\"opacity: 1; stroke-width: 0px; fill: rgb(76, 114, 176); fill-opacity: 1;\"/><path class=\"point\" transform=\"translate(436.01,88.81)\" d=\"M1,0A1,1 0 1,1 0,-1A1,1 0 0,1 1,0Z\" style=\"opacity: 1; stroke-width: 0px; fill: rgb(76, 114, 176); fill-opacity: 1;\"/><path class=\"point\" transform=\"translate(436.49,74.06)\" d=\"M1,0A1,1 0 1,1 0,-1A1,1 0 0,1 1,0Z\" style=\"opacity: 1; stroke-width: 0px; fill: rgb(76, 114, 176); fill-opacity: 1;\"/><path class=\"point\" transform=\"translate(436.97,63.83)\" d=\"M1,0A1,1 0 1,1 0,-1A1,1 0 0,1 1,0Z\" style=\"opacity: 1; stroke-width: 0px; fill: rgb(76, 114, 176); fill-opacity: 1;\"/><path class=\"point\" transform=\"translate(437.45,54.92)\" d=\"M1,0A1,1 0 1,1 0,-1A1,1 0 0,1 1,0Z\" style=\"opacity: 1; stroke-width: 0px; fill: rgb(76, 114, 176); fill-opacity: 1;\"/><path class=\"point\" transform=\"translate(437.93,66.07)\" d=\"M1,0A1,1 0 1,1 0,-1A1,1 0 0,1 1,0Z\" style=\"opacity: 1; stroke-width: 0px; fill: rgb(76, 114, 176); fill-opacity: 1;\"/><path class=\"point\" transform=\"translate(438.41,90.9)\" d=\"M1,0A1,1 0 1,1 0,-1A1,1 0 0,1 1,0Z\" style=\"opacity: 1; stroke-width: 0px; fill: rgb(76, 114, 176); fill-opacity: 1;\"/><path class=\"point\" transform=\"translate(438.89,59.85)\" d=\"M1,0A1,1 0 1,1 0,-1A1,1 0 0,1 1,0Z\" style=\"opacity: 1; stroke-width: 0px; fill: rgb(76, 114, 176); fill-opacity: 1;\"/><path class=\"point\" transform=\"translate(439.37,86.35)\" d=\"M1,0A1,1 0 1,1 0,-1A1,1 0 0,1 1,0Z\" style=\"opacity: 1; stroke-width: 0px; fill: rgb(76, 114, 176); fill-opacity: 1;\"/><path class=\"point\" transform=\"translate(439.85,83.87)\" d=\"M1,0A1,1 0 1,1 0,-1A1,1 0 0,1 1,0Z\" style=\"opacity: 1; stroke-width: 0px; fill: rgb(76, 114, 176); fill-opacity: 1;\"/><path class=\"point\" transform=\"translate(440.33,73.63)\" d=\"M1,0A1,1 0 1,1 0,-1A1,1 0 0,1 1,0Z\" style=\"opacity: 1; stroke-width: 0px; fill: rgb(76, 114, 176); fill-opacity: 1;\"/><path class=\"point\" transform=\"translate(440.81,77.69)\" d=\"M1,0A1,1 0 1,1 0,-1A1,1 0 0,1 1,0Z\" style=\"opacity: 1; stroke-width: 0px; fill: rgb(76, 114, 176); fill-opacity: 1;\"/><path class=\"point\" transform=\"translate(441.29,51.11)\" d=\"M1,0A1,1 0 1,1 0,-1A1,1 0 0,1 1,0Z\" style=\"opacity: 1; stroke-width: 0px; fill: rgb(76, 114, 176); fill-opacity: 1;\"/><path class=\"point\" transform=\"translate(441.77,72.41)\" d=\"M1,0A1,1 0 1,1 0,-1A1,1 0 0,1 1,0Z\" style=\"opacity: 1; stroke-width: 0px; fill: rgb(76, 114, 176); fill-opacity: 1;\"/><path class=\"point\" transform=\"translate(442.25,82.13)\" d=\"M1,0A1,1 0 1,1 0,-1A1,1 0 0,1 1,0Z\" style=\"opacity: 1; stroke-width: 0px; fill: rgb(76, 114, 176); fill-opacity: 1;\"/><path class=\"point\" transform=\"translate(442.73,80.39)\" d=\"M1,0A1,1 0 1,1 0,-1A1,1 0 0,1 1,0Z\" style=\"opacity: 1; stroke-width: 0px; fill: rgb(76, 114, 176); fill-opacity: 1;\"/><path class=\"point\" transform=\"translate(443.21,82.73)\" d=\"M1,0A1,1 0 1,1 0,-1A1,1 0 0,1 1,0Z\" style=\"opacity: 1; stroke-width: 0px; fill: rgb(76, 114, 176); fill-opacity: 1;\"/><path class=\"point\" transform=\"translate(443.69,73.4)\" d=\"M1,0A1,1 0 1,1 0,-1A1,1 0 0,1 1,0Z\" style=\"opacity: 1; stroke-width: 0px; fill: rgb(76, 114, 176); fill-opacity: 1;\"/><path class=\"point\" transform=\"translate(444.17,81.06)\" d=\"M1,0A1,1 0 1,1 0,-1A1,1 0 0,1 1,0Z\" style=\"opacity: 1; stroke-width: 0px; fill: rgb(76, 114, 176); fill-opacity: 1;\"/><path class=\"point\" transform=\"translate(444.65,70.43)\" d=\"M1,0A1,1 0 1,1 0,-1A1,1 0 0,1 1,0Z\" style=\"opacity: 1; stroke-width: 0px; fill: rgb(76, 114, 176); fill-opacity: 1;\"/><path class=\"point\" transform=\"translate(445.14,53.71)\" d=\"M1,0A1,1 0 1,1 0,-1A1,1 0 0,1 1,0Z\" style=\"opacity: 1; stroke-width: 0px; fill: rgb(76, 114, 176); fill-opacity: 1;\"/><path class=\"point\" transform=\"translate(445.62,76.1)\" d=\"M1,0A1,1 0 1,1 0,-1A1,1 0 0,1 1,0Z\" style=\"opacity: 1; stroke-width: 0px; fill: rgb(76, 114, 176); fill-opacity: 1;\"/><path class=\"point\" transform=\"translate(446.1,78.01)\" d=\"M1,0A1,1 0 1,1 0,-1A1,1 0 0,1 1,0Z\" style=\"opacity: 1; stroke-width: 0px; fill: rgb(76, 114, 176); fill-opacity: 1;\"/><path class=\"point\" transform=\"translate(446.58,74.75)\" d=\"M1,0A1,1 0 1,1 0,-1A1,1 0 0,1 1,0Z\" style=\"opacity: 1; stroke-width: 0px; fill: rgb(76, 114, 176); fill-opacity: 1;\"/><path class=\"point\" transform=\"translate(447.06,48.74)\" d=\"M1,0A1,1 0 1,1 0,-1A1,1 0 0,1 1,0Z\" style=\"opacity: 1; stroke-width: 0px; fill: rgb(76, 114, 176); fill-opacity: 1;\"/><path class=\"point\" transform=\"translate(447.54,56.02)\" d=\"M1,0A1,1 0 1,1 0,-1A1,1 0 0,1 1,0Z\" style=\"opacity: 1; stroke-width: 0px; fill: rgb(76, 114, 176); fill-opacity: 1;\"/><path class=\"point\" transform=\"translate(448.02,58.91)\" d=\"M1,0A1,1 0 1,1 0,-1A1,1 0 0,1 1,0Z\" style=\"opacity: 1; stroke-width: 0px; fill: rgb(76, 114, 176); fill-opacity: 1;\"/><path class=\"point\" transform=\"translate(448.5,67.58)\" d=\"M1,0A1,1 0 1,1 0,-1A1,1 0 0,1 1,0Z\" style=\"opacity: 1; stroke-width: 0px; fill: rgb(76, 114, 176); fill-opacity: 1;\"/><path class=\"point\" transform=\"translate(448.98,87.22)\" d=\"M1,0A1,1 0 1,1 0,-1A1,1 0 0,1 1,0Z\" style=\"opacity: 1; stroke-width: 0px; fill: rgb(76, 114, 176); fill-opacity: 1;\"/><path class=\"point\" transform=\"translate(449.46,84.97)\" d=\"M1,0A1,1 0 1,1 0,-1A1,1 0 0,1 1,0Z\" style=\"opacity: 1; stroke-width: 0px; fill: rgb(76, 114, 176); fill-opacity: 1;\"/><path class=\"point\" transform=\"translate(449.94,68.16)\" d=\"M1,0A1,1 0 1,1 0,-1A1,1 0 0,1 1,0Z\" style=\"opacity: 1; stroke-width: 0px; fill: rgb(76, 114, 176); fill-opacity: 1;\"/><path class=\"point\" transform=\"translate(450.42,51.29)\" d=\"M1,0A1,1 0 1,1 0,-1A1,1 0 0,1 1,0Z\" style=\"opacity: 1; stroke-width: 0px; fill: rgb(76, 114, 176); fill-opacity: 1;\"/><path class=\"point\" transform=\"translate(450.9,80.6)\" d=\"M1,0A1,1 0 1,1 0,-1A1,1 0 0,1 1,0Z\" style=\"opacity: 1; stroke-width: 0px; fill: rgb(76, 114, 176); fill-opacity: 1;\"/><path class=\"point\" transform=\"translate(451.38,56.1)\" d=\"M1,0A1,1 0 1,1 0,-1A1,1 0 0,1 1,0Z\" style=\"opacity: 1; stroke-width: 0px; fill: rgb(76, 114, 176); fill-opacity: 1;\"/><path class=\"point\" transform=\"translate(451.86,49.74)\" d=\"M1,0A1,1 0 1,1 0,-1A1,1 0 0,1 1,0Z\" style=\"opacity: 1; stroke-width: 0px; fill: rgb(76, 114, 176); fill-opacity: 1;\"/><path class=\"point\" transform=\"translate(452.34,72.03)\" d=\"M1,0A1,1 0 1,1 0,-1A1,1 0 0,1 1,0Z\" style=\"opacity: 1; stroke-width: 0px; fill: rgb(76, 114, 176); fill-opacity: 1;\"/><path class=\"point\" transform=\"translate(452.82,60.96)\" d=\"M1,0A1,1 0 1,1 0,-1A1,1 0 0,1 1,0Z\" style=\"opacity: 1; stroke-width: 0px; fill: rgb(76, 114, 176); fill-opacity: 1;\"/><path class=\"point\" transform=\"translate(453.3,82.43)\" d=\"M1,0A1,1 0 1,1 0,-1A1,1 0 0,1 1,0Z\" style=\"opacity: 1; stroke-width: 0px; fill: rgb(76, 114, 176); fill-opacity: 1;\"/><path class=\"point\" transform=\"translate(453.78,63.9)\" d=\"M1,0A1,1 0 1,1 0,-1A1,1 0 0,1 1,0Z\" style=\"opacity: 1; stroke-width: 0px; fill: rgb(76, 114, 176); fill-opacity: 1;\"/><path class=\"point\" transform=\"translate(454.26,68.04)\" d=\"M1,0A1,1 0 1,1 0,-1A1,1 0 0,1 1,0Z\" style=\"opacity: 1; stroke-width: 0px; fill: rgb(76, 114, 176); fill-opacity: 1;\"/><path class=\"point\" transform=\"translate(454.74,75.03)\" d=\"M1,0A1,1 0 1,1 0,-1A1,1 0 0,1 1,0Z\" style=\"opacity: 1; stroke-width: 0px; fill: rgb(76, 114, 176); fill-opacity: 1;\"/><path class=\"point\" transform=\"translate(455.23,46.83)\" d=\"M1,0A1,1 0 1,1 0,-1A1,1 0 0,1 1,0Z\" style=\"opacity: 1; stroke-width: 0px; fill: rgb(76, 114, 176); fill-opacity: 1;\"/><path class=\"point\" transform=\"translate(455.71,64.58)\" d=\"M1,0A1,1 0 1,1 0,-1A1,1 0 0,1 1,0Z\" style=\"opacity: 1; stroke-width: 0px; fill: rgb(76, 114, 176); fill-opacity: 1;\"/><path class=\"point\" transform=\"translate(456.19,64.76)\" d=\"M1,0A1,1 0 1,1 0,-1A1,1 0 0,1 1,0Z\" style=\"opacity: 1; stroke-width: 0px; fill: rgb(76, 114, 176); fill-opacity: 1;\"/><path class=\"point\" transform=\"translate(456.67,82.92)\" d=\"M1,0A1,1 0 1,1 0,-1A1,1 0 0,1 1,0Z\" style=\"opacity: 1; stroke-width: 0px; fill: rgb(76, 114, 176); fill-opacity: 1;\"/><path class=\"point\" transform=\"translate(457.15,48.57)\" d=\"M1,0A1,1 0 1,1 0,-1A1,1 0 0,1 1,0Z\" style=\"opacity: 1; stroke-width: 0px; fill: rgb(76, 114, 176); fill-opacity: 1;\"/><path class=\"point\" transform=\"translate(457.63,62.42)\" d=\"M1,0A1,1 0 1,1 0,-1A1,1 0 0,1 1,0Z\" style=\"opacity: 1; stroke-width: 0px; fill: rgb(76, 114, 176); fill-opacity: 1;\"/><path class=\"point\" transform=\"translate(458.11,77.86)\" d=\"M1,0A1,1 0 1,1 0,-1A1,1 0 0,1 1,0Z\" style=\"opacity: 1; stroke-width: 0px; fill: rgb(76, 114, 176); fill-opacity: 1;\"/><path class=\"point\" transform=\"translate(458.59,57.35)\" d=\"M1,0A1,1 0 1,1 0,-1A1,1 0 0,1 1,0Z\" style=\"opacity: 1; stroke-width: 0px; fill: rgb(76, 114, 176); fill-opacity: 1;\"/><path class=\"point\" transform=\"translate(459.07,70.36)\" d=\"M1,0A1,1 0 1,1 0,-1A1,1 0 0,1 1,0Z\" style=\"opacity: 1; stroke-width: 0px; fill: rgb(76, 114, 176); fill-opacity: 1;\"/><path class=\"point\" transform=\"translate(459.55,50.72)\" d=\"M1,0A1,1 0 1,1 0,-1A1,1 0 0,1 1,0Z\" style=\"opacity: 1; stroke-width: 0px; fill: rgb(76, 114, 176); fill-opacity: 1;\"/><path class=\"point\" transform=\"translate(460.03,51.88)\" d=\"M1,0A1,1 0 1,1 0,-1A1,1 0 0,1 1,0Z\" style=\"opacity: 1; stroke-width: 0px; fill: rgb(76, 114, 176); fill-opacity: 1;\"/><path class=\"point\" transform=\"translate(460.51,75.12)\" d=\"M1,0A1,1 0 1,1 0,-1A1,1 0 0,1 1,0Z\" style=\"opacity: 1; stroke-width: 0px; fill: rgb(76, 114, 176); fill-opacity: 1;\"/><path class=\"point\" transform=\"translate(460.99,75.81)\" d=\"M1,0A1,1 0 1,1 0,-1A1,1 0 0,1 1,0Z\" style=\"opacity: 1; stroke-width: 0px; fill: rgb(76, 114, 176); fill-opacity: 1;\"/><path class=\"point\" transform=\"translate(461.47,67.12)\" d=\"M1,0A1,1 0 1,1 0,-1A1,1 0 0,1 1,0Z\" style=\"opacity: 1; stroke-width: 0px; fill: rgb(76, 114, 176); fill-opacity: 1;\"/><path class=\"point\" transform=\"translate(461.95,44.03)\" d=\"M1,0A1,1 0 1,1 0,-1A1,1 0 0,1 1,0Z\" style=\"opacity: 1; stroke-width: 0px; fill: rgb(76, 114, 176); fill-opacity: 1;\"/><path class=\"point\" transform=\"translate(462.43,47.45)\" d=\"M1,0A1,1 0 1,1 0,-1A1,1 0 0,1 1,0Z\" style=\"opacity: 1; stroke-width: 0px; fill: rgb(76, 114, 176); fill-opacity: 1;\"/><path class=\"point\" transform=\"translate(462.91,75.42)\" d=\"M1,0A1,1 0 1,1 0,-1A1,1 0 0,1 1,0Z\" style=\"opacity: 1; stroke-width: 0px; fill: rgb(76, 114, 176); fill-opacity: 1;\"/><path class=\"point\" transform=\"translate(463.39,46.2)\" d=\"M1,0A1,1 0 1,1 0,-1A1,1 0 0,1 1,0Z\" style=\"opacity: 1; stroke-width: 0px; fill: rgb(76, 114, 176); fill-opacity: 1;\"/><path class=\"point\" transform=\"translate(463.87,52.52)\" d=\"M1,0A1,1 0 1,1 0,-1A1,1 0 0,1 1,0Z\" style=\"opacity: 1; stroke-width: 0px; fill: rgb(76, 114, 176); fill-opacity: 1;\"/><path class=\"point\" transform=\"translate(464.35,47.22)\" d=\"M1,0A1,1 0 1,1 0,-1A1,1 0 0,1 1,0Z\" style=\"opacity: 1; stroke-width: 0px; fill: rgb(76, 114, 176); fill-opacity: 1;\"/><path class=\"point\" transform=\"translate(464.83,57.11)\" d=\"M1,0A1,1 0 1,1 0,-1A1,1 0 0,1 1,0Z\" style=\"opacity: 1; stroke-width: 0px; fill: rgb(76, 114, 176); fill-opacity: 1;\"/><path class=\"point\" transform=\"translate(465.32,74.46)\" d=\"M1,0A1,1 0 1,1 0,-1A1,1 0 0,1 1,0Z\" style=\"opacity: 1; stroke-width: 0px; fill: rgb(76, 114, 176); fill-opacity: 1;\"/><path class=\"point\" transform=\"translate(465.8,40.76)\" d=\"M1,0A1,1 0 1,1 0,-1A1,1 0 0,1 1,0Z\" style=\"opacity: 1; stroke-width: 0px; fill: rgb(76, 114, 176); fill-opacity: 1;\"/><path class=\"point\" transform=\"translate(466.28,37.9)\" d=\"M1,0A1,1 0 1,1 0,-1A1,1 0 0,1 1,0Z\" style=\"opacity: 1; stroke-width: 0px; fill: rgb(76, 114, 176); fill-opacity: 1;\"/><path class=\"point\" transform=\"translate(466.76,73.78)\" d=\"M1,0A1,1 0 1,1 0,-1A1,1 0 0,1 1,0Z\" style=\"opacity: 1; stroke-width: 0px; fill: rgb(76, 114, 176); fill-opacity: 1;\"/><path class=\"point\" transform=\"translate(467.24,70.57)\" d=\"M1,0A1,1 0 1,1 0,-1A1,1 0 0,1 1,0Z\" style=\"opacity: 1; stroke-width: 0px; fill: rgb(76, 114, 176); fill-opacity: 1;\"/><path class=\"point\" transform=\"translate(467.72,56.93)\" d=\"M1,0A1,1 0 1,1 0,-1A1,1 0 0,1 1,0Z\" style=\"opacity: 1; stroke-width: 0px; fill: rgb(76, 114, 176); fill-opacity: 1;\"/><path class=\"point\" transform=\"translate(468.2,63.14)\" d=\"M1,0A1,1 0 1,1 0,-1A1,1 0 0,1 1,0Z\" style=\"opacity: 1; stroke-width: 0px; fill: rgb(76, 114, 176); fill-opacity: 1;\"/><path class=\"point\" transform=\"translate(468.68,40.22)\" d=\"M1,0A1,1 0 1,1 0,-1A1,1 0 0,1 1,0Z\" style=\"opacity: 1; stroke-width: 0px; fill: rgb(76, 114, 176); fill-opacity: 1;\"/><path class=\"point\" transform=\"translate(469.16,56.8)\" d=\"M1,0A1,1 0 1,1 0,-1A1,1 0 0,1 1,0Z\" style=\"opacity: 1; stroke-width: 0px; fill: rgb(76, 114, 176); fill-opacity: 1;\"/><path class=\"point\" transform=\"translate(469.64,55.93)\" d=\"M1,0A1,1 0 1,1 0,-1A1,1 0 0,1 1,0Z\" style=\"opacity: 1; stroke-width: 0px; fill: rgb(76, 114, 176); fill-opacity: 1;\"/><path class=\"point\" transform=\"translate(470.12,57.82)\" d=\"M1,0A1,1 0 1,1 0,-1A1,1 0 0,1 1,0Z\" style=\"opacity: 1; stroke-width: 0px; fill: rgb(76, 114, 176); fill-opacity: 1;\"/><path class=\"point\" transform=\"translate(470.6,48.85)\" d=\"M1,0A1,1 0 1,1 0,-1A1,1 0 0,1 1,0Z\" style=\"opacity: 1; stroke-width: 0px; fill: rgb(76, 114, 176); fill-opacity: 1;\"/><path class=\"point\" transform=\"translate(471.08,57.16)\" d=\"M1,0A1,1 0 1,1 0,-1A1,1 0 0,1 1,0Z\" style=\"opacity: 1; stroke-width: 0px; fill: rgb(76, 114, 176); fill-opacity: 1;\"/><path class=\"point\" transform=\"translate(471.56,50.79)\" d=\"M1,0A1,1 0 1,1 0,-1A1,1 0 0,1 1,0Z\" style=\"opacity: 1; stroke-width: 0px; fill: rgb(76, 114, 176); fill-opacity: 1;\"/><path class=\"point\" transform=\"translate(472.04,42.51)\" d=\"M1,0A1,1 0 1,1 0,-1A1,1 0 0,1 1,0Z\" style=\"opacity: 1; stroke-width: 0px; fill: rgb(76, 114, 176); fill-opacity: 1;\"/><path class=\"point\" transform=\"translate(472.52,54.96)\" d=\"M1,0A1,1 0 1,1 0,-1A1,1 0 0,1 1,0Z\" style=\"opacity: 1; stroke-width: 0px; fill: rgb(76, 114, 176); fill-opacity: 1;\"/><path class=\"point\" transform=\"translate(473,62.28)\" d=\"M1,0A1,1 0 1,1 0,-1A1,1 0 0,1 1,0Z\" style=\"opacity: 1; stroke-width: 0px; fill: rgb(76, 114, 176); fill-opacity: 1;\"/><path class=\"point\" transform=\"translate(473.48,40.84)\" d=\"M1,0A1,1 0 1,1 0,-1A1,1 0 0,1 1,0Z\" style=\"opacity: 1; stroke-width: 0px; fill: rgb(76, 114, 176); fill-opacity: 1;\"/><path class=\"point\" transform=\"translate(473.96,61.07)\" d=\"M1,0A1,1 0 1,1 0,-1A1,1 0 0,1 1,0Z\" style=\"opacity: 1; stroke-width: 0px; fill: rgb(76, 114, 176); fill-opacity: 1;\"/><path class=\"point\" transform=\"translate(474.44,69.97)\" d=\"M1,0A1,1 0 1,1 0,-1A1,1 0 0,1 1,0Z\" style=\"opacity: 1; stroke-width: 0px; fill: rgb(76, 114, 176); fill-opacity: 1;\"/><path class=\"point\" transform=\"translate(474.92,69.14)\" d=\"M1,0A1,1 0 1,1 0,-1A1,1 0 0,1 1,0Z\" style=\"opacity: 1; stroke-width: 0px; fill: rgb(76, 114, 176); fill-opacity: 1;\"/><path class=\"point\" transform=\"translate(475.41,57.06)\" d=\"M1,0A1,1 0 1,1 0,-1A1,1 0 0,1 1,0Z\" style=\"opacity: 1; stroke-width: 0px; fill: rgb(76, 114, 176); fill-opacity: 1;\"/><path class=\"point\" transform=\"translate(475.89,34.65)\" d=\"M1,0A1,1 0 1,1 0,-1A1,1 0 0,1 1,0Z\" style=\"opacity: 1; stroke-width: 0px; fill: rgb(76, 114, 176); fill-opacity: 1;\"/><path class=\"point\" transform=\"translate(476.37,69.65)\" d=\"M1,0A1,1 0 1,1 0,-1A1,1 0 0,1 1,0Z\" style=\"opacity: 1; stroke-width: 0px; fill: rgb(76, 114, 176); fill-opacity: 1;\"/><path class=\"point\" transform=\"translate(476.85,44.05)\" d=\"M1,0A1,1 0 1,1 0,-1A1,1 0 0,1 1,0Z\" style=\"opacity: 1; stroke-width: 0px; fill: rgb(76, 114, 176); fill-opacity: 1;\"/><path class=\"point\" transform=\"translate(477.33,47.73)\" d=\"M1,0A1,1 0 1,1 0,-1A1,1 0 0,1 1,0Z\" style=\"opacity: 1; stroke-width: 0px; fill: rgb(76, 114, 176); fill-opacity: 1;\"/><path class=\"point\" transform=\"translate(477.81,33.78)\" d=\"M1,0A1,1 0 1,1 0,-1A1,1 0 0,1 1,0Z\" style=\"opacity: 1; stroke-width: 0px; fill: rgb(76, 114, 176); fill-opacity: 1;\"/><path class=\"point\" transform=\"translate(478.29,43.82)\" d=\"M1,0A1,1 0 1,1 0,-1A1,1 0 0,1 1,0Z\" style=\"opacity: 1; stroke-width: 0px; fill: rgb(76, 114, 176); fill-opacity: 1;\"/><path class=\"point\" transform=\"translate(478.77,44.47)\" d=\"M1,0A1,1 0 1,1 0,-1A1,1 0 0,1 1,0Z\" style=\"opacity: 1; stroke-width: 0px; fill: rgb(76, 114, 176); fill-opacity: 1;\"/><path class=\"point\" transform=\"translate(479.25,57.72)\" d=\"M1,0A1,1 0 1,1 0,-1A1,1 0 0,1 1,0Z\" style=\"opacity: 1; stroke-width: 0px; fill: rgb(76, 114, 176); fill-opacity: 1;\"/><path class=\"point\" transform=\"translate(479.73,51.47)\" d=\"M1,0A1,1 0 1,1 0,-1A1,1 0 0,1 1,0Z\" style=\"opacity: 1; stroke-width: 0px; fill: rgb(76, 114, 176); fill-opacity: 1;\"/><path class=\"point\" transform=\"translate(480.21,43.69)\" d=\"M1,0A1,1 0 1,1 0,-1A1,1 0 0,1 1,0Z\" style=\"opacity: 1; stroke-width: 0px; fill: rgb(76, 114, 176); fill-opacity: 1;\"/><path class=\"point\" transform=\"translate(480.69,35.57)\" d=\"M1,0A1,1 0 1,1 0,-1A1,1 0 0,1 1,0Z\" style=\"opacity: 1; stroke-width: 0px; fill: rgb(76, 114, 176); fill-opacity: 1;\"/><path class=\"point\" transform=\"translate(481.17,62.68)\" d=\"M1,0A1,1 0 1,1 0,-1A1,1 0 0,1 1,0Z\" style=\"opacity: 1; stroke-width: 0px; fill: rgb(76, 114, 176); fill-opacity: 1;\"/><path class=\"point\" transform=\"translate(481.65,29.81)\" d=\"M1,0A1,1 0 1,1 0,-1A1,1 0 0,1 1,0Z\" style=\"opacity: 1; stroke-width: 0px; fill: rgb(76, 114, 176); fill-opacity: 1;\"/><path class=\"point\" transform=\"translate(482.13,67.37)\" d=\"M1,0A1,1 0 1,1 0,-1A1,1 0 0,1 1,0Z\" style=\"opacity: 1; stroke-width: 0px; fill: rgb(76, 114, 176); fill-opacity: 1;\"/><path class=\"point\" transform=\"translate(482.61,47.17)\" d=\"M1,0A1,1 0 1,1 0,-1A1,1 0 0,1 1,0Z\" style=\"opacity: 1; stroke-width: 0px; fill: rgb(76, 114, 176); fill-opacity: 1;\"/><path class=\"point\" transform=\"translate(483.09,58.09)\" d=\"M1,0A1,1 0 1,1 0,-1A1,1 0 0,1 1,0Z\" style=\"opacity: 1; stroke-width: 0px; fill: rgb(76, 114, 176); fill-opacity: 1;\"/><path class=\"point\" transform=\"translate(483.57,37.53)\" d=\"M1,0A1,1 0 1,1 0,-1A1,1 0 0,1 1,0Z\" style=\"opacity: 1; stroke-width: 0px; fill: rgb(76, 114, 176); fill-opacity: 1;\"/><path class=\"point\" transform=\"translate(484.05,54.27)\" d=\"M1,0A1,1 0 1,1 0,-1A1,1 0 0,1 1,0Z\" style=\"opacity: 1; stroke-width: 0px; fill: rgb(76, 114, 176); fill-opacity: 1;\"/><path class=\"point\" transform=\"translate(484.53,35.96)\" d=\"M1,0A1,1 0 1,1 0,-1A1,1 0 0,1 1,0Z\" style=\"opacity: 1; stroke-width: 0px; fill: rgb(76, 114, 176); fill-opacity: 1;\"/><path class=\"point\" transform=\"translate(485.02,33.52)\" d=\"M1,0A1,1 0 1,1 0,-1A1,1 0 0,1 1,0Z\" style=\"opacity: 1; stroke-width: 0px; fill: rgb(76, 114, 176); fill-opacity: 1;\"/><path class=\"point\" transform=\"translate(485.5,46.77)\" d=\"M1,0A1,1 0 1,1 0,-1A1,1 0 0,1 1,0Z\" style=\"opacity: 1; stroke-width: 0px; fill: rgb(76, 114, 176); fill-opacity: 1;\"/><path class=\"point\" transform=\"translate(485.98,56.07)\" d=\"M1,0A1,1 0 1,1 0,-1A1,1 0 0,1 1,0Z\" style=\"opacity: 1; stroke-width: 0px; fill: rgb(76, 114, 176); fill-opacity: 1;\"/><path class=\"point\" transform=\"translate(486.46,31.96)\" d=\"M1,0A1,1 0 1,1 0,-1A1,1 0 0,1 1,0Z\" style=\"opacity: 1; stroke-width: 0px; fill: rgb(76, 114, 176); fill-opacity: 1;\"/><path class=\"point\" transform=\"translate(486.94,42.59)\" d=\"M1,0A1,1 0 1,1 0,-1A1,1 0 0,1 1,0Z\" style=\"opacity: 1; stroke-width: 0px; fill: rgb(76, 114, 176); fill-opacity: 1;\"/><path class=\"point\" transform=\"translate(487.42,29.65)\" d=\"M1,0A1,1 0 1,1 0,-1A1,1 0 0,1 1,0Z\" style=\"opacity: 1; stroke-width: 0px; fill: rgb(76, 114, 176); fill-opacity: 1;\"/><path class=\"point\" transform=\"translate(487.9,26.84)\" d=\"M1,0A1,1 0 1,1 0,-1A1,1 0 0,1 1,0Z\" style=\"opacity: 1; stroke-width: 0px; fill: rgb(76, 114, 176); fill-opacity: 1;\"/><path class=\"point\" transform=\"translate(488.38,44.73)\" d=\"M1,0A1,1 0 1,1 0,-1A1,1 0 0,1 1,0Z\" style=\"opacity: 1; stroke-width: 0px; fill: rgb(76, 114, 176); fill-opacity: 1;\"/><path class=\"point\" transform=\"translate(488.86,44.17)\" d=\"M1,0A1,1 0 1,1 0,-1A1,1 0 0,1 1,0Z\" style=\"opacity: 1; stroke-width: 0px; fill: rgb(76, 114, 176); fill-opacity: 1;\"/><path class=\"point\" transform=\"translate(489.34,30.34)\" d=\"M1,0A1,1 0 1,1 0,-1A1,1 0 0,1 1,0Z\" style=\"opacity: 1; stroke-width: 0px; fill: rgb(76, 114, 176); fill-opacity: 1;\"/><path class=\"point\" transform=\"translate(489.82,60.56)\" d=\"M1,0A1,1 0 1,1 0,-1A1,1 0 0,1 1,0Z\" style=\"opacity: 1; stroke-width: 0px; fill: rgb(76, 114, 176); fill-opacity: 1;\"/><path class=\"point\" transform=\"translate(490.3,54.17)\" d=\"M1,0A1,1 0 1,1 0,-1A1,1 0 0,1 1,0Z\" style=\"opacity: 1; stroke-width: 0px; fill: rgb(76, 114, 176); fill-opacity: 1;\"/><path class=\"point\" transform=\"translate(490.78,58.45)\" d=\"M1,0A1,1 0 1,1 0,-1A1,1 0 0,1 1,0Z\" style=\"opacity: 1; stroke-width: 0px; fill: rgb(76, 114, 176); fill-opacity: 1;\"/><path class=\"point\" transform=\"translate(491.26,31.54)\" d=\"M1,0A1,1 0 1,1 0,-1A1,1 0 0,1 1,0Z\" style=\"opacity: 1; stroke-width: 0px; fill: rgb(76, 114, 176); fill-opacity: 1;\"/><path class=\"point\" transform=\"translate(491.74,38.03)\" d=\"M1,0A1,1 0 1,1 0,-1A1,1 0 0,1 1,0Z\" style=\"opacity: 1; stroke-width: 0px; fill: rgb(76, 114, 176); fill-opacity: 1;\"/><path class=\"point\" transform=\"translate(492.22,41.71)\" d=\"M1,0A1,1 0 1,1 0,-1A1,1 0 0,1 1,0Z\" style=\"opacity: 1; stroke-width: 0px; fill: rgb(76, 114, 176); fill-opacity: 1;\"/><path class=\"point\" transform=\"translate(492.7,52.91)\" d=\"M1,0A1,1 0 1,1 0,-1A1,1 0 0,1 1,0Z\" style=\"opacity: 1; stroke-width: 0px; fill: rgb(76, 114, 176); fill-opacity: 1;\"/><path class=\"point\" transform=\"translate(493.18,31.31)\" d=\"M1,0A1,1 0 1,1 0,-1A1,1 0 0,1 1,0Z\" style=\"opacity: 1; stroke-width: 0px; fill: rgb(76, 114, 176); fill-opacity: 1;\"/><path class=\"point\" transform=\"translate(493.66,25.76)\" d=\"M1,0A1,1 0 1,1 0,-1A1,1 0 0,1 1,0Z\" style=\"opacity: 1; stroke-width: 0px; fill: rgb(76, 114, 176); fill-opacity: 1;\"/><path class=\"point\" transform=\"translate(494.14,49.35)\" d=\"M1,0A1,1 0 1,1 0,-1A1,1 0 0,1 1,0Z\" style=\"opacity: 1; stroke-width: 0px; fill: rgb(76, 114, 176); fill-opacity: 1;\"/><path class=\"point\" transform=\"translate(494.62,62.43)\" d=\"M1,0A1,1 0 1,1 0,-1A1,1 0 0,1 1,0Z\" style=\"opacity: 1; stroke-width: 0px; fill: rgb(76, 114, 176); fill-opacity: 1;\"/><path class=\"point\" transform=\"translate(495.11,31.53)\" d=\"M1,0A1,1 0 1,1 0,-1A1,1 0 0,1 1,0Z\" style=\"opacity: 1; stroke-width: 0px; fill: rgb(76, 114, 176); fill-opacity: 1;\"/><path class=\"point\" transform=\"translate(495.59,55.18)\" d=\"M1,0A1,1 0 1,1 0,-1A1,1 0 0,1 1,0Z\" style=\"opacity: 1; stroke-width: 0px; fill: rgb(76, 114, 176); fill-opacity: 1;\"/><path class=\"point\" transform=\"translate(496.07,63.11)\" d=\"M1,0A1,1 0 1,1 0,-1A1,1 0 0,1 1,0Z\" style=\"opacity: 1; stroke-width: 0px; fill: rgb(76, 114, 176); fill-opacity: 1;\"/><path class=\"point\" transform=\"translate(496.55,27.05)\" d=\"M1,0A1,1 0 1,1 0,-1A1,1 0 0,1 1,0Z\" style=\"opacity: 1; stroke-width: 0px; fill: rgb(76, 114, 176); fill-opacity: 1;\"/><path class=\"point\" transform=\"translate(497.03,48.27)\" d=\"M1,0A1,1 0 1,1 0,-1A1,1 0 0,1 1,0Z\" style=\"opacity: 1; stroke-width: 0px; fill: rgb(76, 114, 176); fill-opacity: 1;\"/><path class=\"point\" transform=\"translate(497.51,35.26)\" d=\"M1,0A1,1 0 1,1 0,-1A1,1 0 0,1 1,0Z\" style=\"opacity: 1; stroke-width: 0px; fill: rgb(76, 114, 176); fill-opacity: 1;\"/><path class=\"point\" transform=\"translate(497.99,30.19)\" d=\"M1,0A1,1 0 1,1 0,-1A1,1 0 0,1 1,0Z\" style=\"opacity: 1; stroke-width: 0px; fill: rgb(76, 114, 176); fill-opacity: 1;\"/><path class=\"point\" transform=\"translate(498.47,59.11)\" d=\"M1,0A1,1 0 1,1 0,-1A1,1 0 0,1 1,0Z\" style=\"opacity: 1; stroke-width: 0px; fill: rgb(76, 114, 176); fill-opacity: 1;\"/><path class=\"point\" transform=\"translate(498.95,28.18)\" d=\"M1,0A1,1 0 1,1 0,-1A1,1 0 0,1 1,0Z\" style=\"opacity: 1; stroke-width: 0px; fill: rgb(76, 114, 176); fill-opacity: 1;\"/><path class=\"point\" transform=\"translate(499.43,53.65)\" d=\"M1,0A1,1 0 1,1 0,-1A1,1 0 0,1 1,0Z\" style=\"opacity: 1; stroke-width: 0px; fill: rgb(76, 114, 176); fill-opacity: 1;\"/><path class=\"point\" transform=\"translate(499.91,22.39)\" d=\"M1,0A1,1 0 1,1 0,-1A1,1 0 0,1 1,0Z\" style=\"opacity: 1; stroke-width: 0px; fill: rgb(76, 114, 176); fill-opacity: 1;\"/><path class=\"point\" transform=\"translate(500.39,38.26)\" d=\"M1,0A1,1 0 1,1 0,-1A1,1 0 0,1 1,0Z\" style=\"opacity: 1; stroke-width: 0px; fill: rgb(76, 114, 176); fill-opacity: 1;\"/><path class=\"point\" transform=\"translate(500.87,22.58)\" d=\"M1,0A1,1 0 1,1 0,-1A1,1 0 0,1 1,0Z\" style=\"opacity: 1; stroke-width: 0px; fill: rgb(76, 114, 176); fill-opacity: 1;\"/><path class=\"point\" transform=\"translate(501.35,38.31)\" d=\"M1,0A1,1 0 1,1 0,-1A1,1 0 0,1 1,0Z\" style=\"opacity: 1; stroke-width: 0px; fill: rgb(76, 114, 176); fill-opacity: 1;\"/><path class=\"point\" transform=\"translate(501.83,52.49)\" d=\"M1,0A1,1 0 1,1 0,-1A1,1 0 0,1 1,0Z\" style=\"opacity: 1; stroke-width: 0px; fill: rgb(76, 114, 176); fill-opacity: 1;\"/><path class=\"point\" transform=\"translate(502.31,20.34)\" d=\"M1,0A1,1 0 1,1 0,-1A1,1 0 0,1 1,0Z\" style=\"opacity: 1; stroke-width: 0px; fill: rgb(76, 114, 176); fill-opacity: 1;\"/><path class=\"point\" transform=\"translate(502.79,32.81)\" d=\"M1,0A1,1 0 1,1 0,-1A1,1 0 0,1 1,0Z\" style=\"opacity: 1; stroke-width: 0px; fill: rgb(76, 114, 176); fill-opacity: 1;\"/><path class=\"point\" transform=\"translate(503.27,19.05)\" d=\"M1,0A1,1 0 1,1 0,-1A1,1 0 0,1 1,0Z\" style=\"opacity: 1; stroke-width: 0px; fill: rgb(76, 114, 176); fill-opacity: 1;\"/><path class=\"point\" transform=\"translate(503.75,21.28)\" d=\"M1,0A1,1 0 1,1 0,-1A1,1 0 0,1 1,0Z\" style=\"opacity: 1; stroke-width: 0px; fill: rgb(76, 114, 176); fill-opacity: 1;\"/><path class=\"point\" transform=\"translate(504.23,45)\" d=\"M1,0A1,1 0 1,1 0,-1A1,1 0 0,1 1,0Z\" style=\"opacity: 1; stroke-width: 0px; fill: rgb(76, 114, 176); fill-opacity: 1;\"/><path class=\"point\" transform=\"translate(504.71,20.89)\" d=\"M1,0A1,1 0 1,1 0,-1A1,1 0 0,1 1,0Z\" style=\"opacity: 1; stroke-width: 0px; fill: rgb(76, 114, 176); fill-opacity: 1;\"/><path class=\"point\" transform=\"translate(505.2,31.5)\" d=\"M1,0A1,1 0 1,1 0,-1A1,1 0 0,1 1,0Z\" style=\"opacity: 1; stroke-width: 0px; fill: rgb(76, 114, 176); fill-opacity: 1;\"/><path class=\"point\" transform=\"translate(505.68,33.51)\" d=\"M1,0A1,1 0 1,1 0,-1A1,1 0 0,1 1,0Z\" style=\"opacity: 1; stroke-width: 0px; fill: rgb(76, 114, 176); fill-opacity: 1;\"/><path class=\"point\" transform=\"translate(506.16,19)\" d=\"M1,0A1,1 0 1,1 0,-1A1,1 0 0,1 1,0Z\" style=\"opacity: 1; stroke-width: 0px; fill: rgb(76, 114, 176); fill-opacity: 1;\"/><path class=\"point\" transform=\"translate(506.64,34.13)\" d=\"M1,0A1,1 0 1,1 0,-1A1,1 0 0,1 1,0Z\" style=\"opacity: 1; stroke-width: 0px; fill: rgb(76, 114, 176); fill-opacity: 1;\"/><path class=\"point\" transform=\"translate(507.12,57.46)\" d=\"M1,0A1,1 0 1,1 0,-1A1,1 0 0,1 1,0Z\" style=\"opacity: 1; stroke-width: 0px; fill: rgb(76, 114, 176); fill-opacity: 1;\"/><path class=\"point\" transform=\"translate(507.6,37.13)\" d=\"M1,0A1,1 0 1,1 0,-1A1,1 0 0,1 1,0Z\" style=\"opacity: 1; stroke-width: 0px; fill: rgb(76, 114, 176); fill-opacity: 1;\"/><path class=\"point\" transform=\"translate(508.08,44.75)\" d=\"M1,0A1,1 0 1,1 0,-1A1,1 0 0,1 1,0Z\" style=\"opacity: 1; stroke-width: 0px; fill: rgb(76, 114, 176); fill-opacity: 1;\"/><path class=\"point\" transform=\"translate(508.56,26.21)\" d=\"M1,0A1,1 0 1,1 0,-1A1,1 0 0,1 1,0Z\" style=\"opacity: 1; stroke-width: 0px; fill: rgb(76, 114, 176); fill-opacity: 1;\"/><path class=\"point\" transform=\"translate(509.04,30.27)\" d=\"M1,0A1,1 0 1,1 0,-1A1,1 0 0,1 1,0Z\" style=\"opacity: 1; stroke-width: 0px; fill: rgb(76, 114, 176); fill-opacity: 1;\"/><path class=\"point\" transform=\"translate(509.52,47.57)\" d=\"M1,0A1,1 0 1,1 0,-1A1,1 0 0,1 1,0Z\" style=\"opacity: 1; stroke-width: 0px; fill: rgb(76, 114, 176); fill-opacity: 1;\"/><path class=\"point\" transform=\"translate(510,33.93)\" d=\"M1,0A1,1 0 1,1 0,-1A1,1 0 0,1 1,0Z\" style=\"opacity: 1; stroke-width: 0px; fill: rgb(76, 114, 176); fill-opacity: 1;\"/></g><g class=\"text\"/></g><g class=\"trace scatter trace3d20c8\" style=\"stroke-miterlimit: 2; opacity: 1;\"><g class=\"fills\"/><g class=\"errorbars\"/><g class=\"lines\"><path class=\"js-line\" d=\"M30,287L83.81,258.7L84.29,258.45L257.75,167.27L258.23,167.01L431.68,75.83L432.16,75.57L510,34.65\" style=\"vector-effect: non-scaling-stroke; fill: none; stroke: rgb(255, 0, 0); stroke-opacity: 1; stroke-width: 2px; opacity: 1;\"/></g><g class=\"points\"/><g class=\"text\"/></g></g></g><g class=\"overplot\"/><path class=\"xlines-above crisp\" d=\"M0,0\" style=\"fill: none;\"/><path class=\"ylines-above crisp\" d=\"M0,0\" style=\"fill: none;\"/><g class=\"overlines-above\"/><g class=\"xaxislayer-above\"><g class=\"xtick\"><text text-anchor=\"middle\" x=\"0\" y=\"433\" transform=\"translate(110,0)\" style=\"font-family: 'Open Sans', verdana, arial, sans-serif; font-size: 12px; fill: rgb(36, 36, 36); fill-opacity: 1; white-space: pre; opacity: 1;\">0</text></g><g class=\"xtick\"><text text-anchor=\"middle\" x=\"0\" y=\"433\" style=\"font-family: 'Open Sans', verdana, arial, sans-serif; font-size: 12px; fill: rgb(36, 36, 36); fill-opacity: 1; white-space: pre; opacity: 1;\" transform=\"translate(206.1,0)\">20</text></g><g class=\"xtick\"><text text-anchor=\"middle\" x=\"0\" y=\"433\" style=\"font-family: 'Open Sans', verdana, arial, sans-serif; font-size: 12px; fill: rgb(36, 36, 36); fill-opacity: 1; white-space: pre; opacity: 1;\" transform=\"translate(302.19,0)\">40</text></g><g class=\"xtick\"><text text-anchor=\"middle\" x=\"0\" y=\"433\" style=\"font-family: 'Open Sans', verdana, arial, sans-serif; font-size: 12px; fill: rgb(36, 36, 36); fill-opacity: 1; white-space: pre; opacity: 1;\" transform=\"translate(398.29,0)\">60</text></g><g class=\"xtick\"><text text-anchor=\"middle\" x=\"0\" y=\"433\" style=\"font-family: 'Open Sans', verdana, arial, sans-serif; font-size: 12px; fill: rgb(36, 36, 36); fill-opacity: 1; white-space: pre; opacity: 1;\" transform=\"translate(494.38,0)\">80</text></g><g class=\"xtick\"><text text-anchor=\"middle\" x=\"0\" y=\"433\" style=\"font-family: 'Open Sans', verdana, arial, sans-serif; font-size: 12px; fill: rgb(36, 36, 36); fill-opacity: 1; white-space: pre; opacity: 1;\" transform=\"translate(590.48,0)\">100</text></g></g><g class=\"yaxislayer-above\"><g class=\"ytick\"><text text-anchor=\"end\" x=\"79\" y=\"4.199999999999999\" transform=\"translate(0,402.77)\" style=\"font-family: 'Open Sans', verdana, arial, sans-serif; font-size: 12px; fill: rgb(36, 36, 36); fill-opacity: 1; white-space: pre; opacity: 1;\">100</text></g><g class=\"ytick\"><text text-anchor=\"end\" x=\"79\" y=\"4.199999999999999\" style=\"font-family: 'Open Sans', verdana, arial, sans-serif; font-size: 12px; fill: rgb(36, 36, 36); fill-opacity: 1; white-space: pre; opacity: 1;\" transform=\"translate(0,360.86)\">200</text></g><g class=\"ytick\"><text text-anchor=\"end\" x=\"79\" y=\"4.199999999999999\" style=\"font-family: 'Open Sans', verdana, arial, sans-serif; font-size: 12px; fill: rgb(36, 36, 36); fill-opacity: 1; white-space: pre; opacity: 1;\" transform=\"translate(0,318.95)\">300</text></g><g class=\"ytick\"><text text-anchor=\"end\" x=\"79\" y=\"4.199999999999999\" style=\"font-family: 'Open Sans', verdana, arial, sans-serif; font-size: 12px; fill: rgb(36, 36, 36); fill-opacity: 1; white-space: pre; opacity: 1;\" transform=\"translate(0,277.03)\">400</text></g><g class=\"ytick\"><text text-anchor=\"end\" x=\"79\" y=\"4.199999999999999\" style=\"font-family: 'Open Sans', verdana, arial, sans-serif; font-size: 12px; fill: rgb(36, 36, 36); fill-opacity: 1; white-space: pre; opacity: 1;\" transform=\"translate(0,235.12)\">500</text></g><g class=\"ytick\"><text text-anchor=\"end\" x=\"79\" y=\"4.199999999999999\" style=\"font-family: 'Open Sans', verdana, arial, sans-serif; font-size: 12px; fill: rgb(36, 36, 36); fill-opacity: 1; white-space: pre; opacity: 1;\" transform=\"translate(0,193.20999999999998)\">600</text></g><g class=\"ytick\"><text text-anchor=\"end\" x=\"79\" y=\"4.199999999999999\" style=\"font-family: 'Open Sans', verdana, arial, sans-serif; font-size: 12px; fill: rgb(36, 36, 36); fill-opacity: 1; white-space: pre; opacity: 1;\" transform=\"translate(0,151.3)\">700</text></g><g class=\"ytick\"><text text-anchor=\"end\" x=\"79\" y=\"4.199999999999999\" style=\"font-family: 'Open Sans', verdana, arial, sans-serif; font-size: 12px; fill: rgb(36, 36, 36); fill-opacity: 1; white-space: pre; opacity: 1;\" transform=\"translate(0,109.39)\">800</text></g></g><g class=\"overaxes-above\"/></g></g><g class=\"polarlayer\"/><g class=\"smithlayer\"/><g class=\"ternarylayer\"/><g class=\"geolayer\"/><g class=\"funnelarealayer\"/><g class=\"pielayer\"/><g class=\"iciclelayer\"/><g class=\"treemaplayer\"/><g class=\"sunburstlayer\"/><g class=\"glimages\"/><defs id=\"topdefs-d69dbf\"><g class=\"clips\"/></defs><g class=\"layer-above\"><g class=\"imagelayer\"/><g class=\"shapelayer\"/></g><g class=\"infolayer\"><g class=\"g-gtitle\"><text class=\"gtitle\" x=\"350\" y=\"50\" text-anchor=\"middle\" dy=\"0em\" style=\"font-family: 'Open Sans', verdana, arial, sans-serif; font-size: 17px; fill: rgb(36, 36, 36); opacity: 1; font-weight: normal; white-space: pre;\">Simple Linear Regression (Y = 6X + 88)</text></g><g class=\"g-xtitle\"><text class=\"xtitle\" x=\"350\" y=\"460.8\" text-anchor=\"middle\" style=\"font-family: 'Open Sans', verdana, arial, sans-serif; font-size: 14px; fill: rgb(36, 36, 36); opacity: 1; font-weight: normal; white-space: pre;\">x</text></g><g class=\"g-ytitle\"><text class=\"ytitle\" transform=\"rotate(-90,31.309375000000003,260)\" x=\"31.309375000000003\" y=\"260\" text-anchor=\"middle\" style=\"font-family: 'Open Sans', verdana, arial, sans-serif; font-size: 14px; fill: rgb(36, 36, 36); opacity: 1; font-weight: normal; white-space: pre;\">y</text></g></g></svg>"
     },
     "metadata": {},
     "output_type": "display_data"
    }
   ],
   "source": [
    "# Apply Simple Linear Regression using same old random data\n",
    "slr_m, slr_b = slr(x_rand, y_rand)\n",
    "print(f\"SLR Fit: Y = {slr_m}X + {slr_b}\")\n",
    "print(f\"Slope Error: {(abs(y_slope - slr_m)) /y_slope *100:.2f}%\")\n",
    "print(f\"Intercept Error: {(abs(y_int - slr_b)) /y_int *100:.2f}%\")\n",
    "\n",
    "# Add the Scatter Plot of Random Points\n",
    "fig = px.scatter(\n",
    "    x=x_rand,\n",
    "    y=y_rand,\n",
    "    title=f\"Simple Linear Regression (Y = {y_slope}X + {y_int})\",\n",
    ")\n",
    "\n",
    "# Update markers size\n",
    "fig.update_traces(marker=dict(size=2))\n",
    "\n",
    "# Plot the Best Fit Line from OLS\n",
    "fig.add_traces(\n",
    "    px.line(\n",
    "        x=x_rand,\n",
    "        y=(x_rand*slr_m + slr_b),\n",
    "        color_discrete_sequence=[\"red\"],\n",
    "    ).data\n",
    ")\n",
    "\n",
    "fig.show(\"svg\")"
   ],
   "metadata": {
    "collapsed": false,
    "pycharm": {
     "name": "#%%\n"
    }
   }
  },
  {
   "cell_type": "markdown",
   "source": [
    "### Gradient Descent Algorithm (GDA) for Linear Regression\n",
    "\n",
    "$ R ^2 = 1 - \\frac {\\sum {(y _{i} - \\hat y _{i}) ^2}} {\\sum {(y _{i} - \\bar y _{i}) ^2}} $\n",
    "\n",
    "Goal is to find $ min \\| R ^2 \\| $"
   ],
   "metadata": {
    "collapsed": false,
    "pycharm": {
     "name": "#%% md\n"
    }
   }
  },
  {
   "cell_type": "code",
   "execution_count": 16,
   "outputs": [],
   "source": [
    "def get_r_2(target, output):\n",
    "    \"\"\"\n",
    "    Calculate Sum of Squares Errors\n",
    "    :param target: Expected Values\n",
    "    :param output: Actual Values\n",
    "    :return: R2: Sum of Squares Errors\n",
    "    \"\"\"\n",
    "    # Calculate RSS\n",
    "    rss = target - output\n",
    "\n",
    "    # Calculate TSS\n",
    "    tss = target - np.mean(target)\n",
    "\n",
    "    # Calculate R2\n",
    "    r2 = 1 - np.sum(rss ** 2) / np.sum(tss ** 2)\n",
    "\n",
    "    return r2"
   ],
   "metadata": {
    "collapsed": false,
    "pycharm": {
     "name": "#%%\n"
    }
   }
  },
  {
   "cell_type": "markdown",
   "source": [
    "Gradient Descent Formulas\n",
    "\n",
    "for Intercept: $ - \\frac {2}{N} \\sum {(y _i - (mx _i + b))} $\n",
    "for Slope:     $ - \\frac {2}{N} \\sum {x _i (y _i - (mx _i + b))} $\n",
    "where `N` is the number of points"
   ],
   "metadata": {
    "collapsed": false,
    "pycharm": {
     "name": "#%% md\n"
    }
   }
  },
  {
   "cell_type": "code",
   "execution_count": 17,
   "outputs": [],
   "source": [
    "def get_gradients(X, Y, m, b):\n",
    "    \"\"\"\n",
    "    Calculate the Gradients\n",
    "    :param X: X values\n",
    "    :param Y: Y values\n",
    "    :param m: Slope\n",
    "    :param b: Intercept\n",
    "    :return: Gradients: (slope, intercept)\n",
    "    \"\"\"\n",
    "    N = len(X)\n",
    "\n",
    "    # Errors\n",
    "    diff = Y - get_line(X, m, b)\n",
    "\n",
    "    # Compute\n",
    "    m_gradient = -2/N * np.dot(X, diff)\n",
    "    b_gradient = -2/N * np.sum(diff)\n",
    "\n",
    "    return m_gradient, b_gradient"
   ],
   "metadata": {
    "collapsed": false,
    "pycharm": {
     "name": "#%%\n"
    }
   }
  },
  {
   "cell_type": "code",
   "execution_count": 18,
   "outputs": [],
   "source": [
    "def gda(X, Y, rate=0.0001, n=1000):\n",
    "    \"\"\"\n",
    "    Gradient Descent Algorithm for Linear Regression\n",
    "    :param X: X values\n",
    "    :param Y: Y values\n",
    "    :param rate: Learning Rate\n",
    "    :param n: Iterations\n",
    "    :return: (slope, intercept)\n",
    "    \"\"\"\n",
    "\n",
    "    # Initialize\n",
    "    slope = 1\n",
    "    intercept = 0\n",
    "\n",
    "    # Iterate\n",
    "    for _ in range(n):\n",
    "        mg, bg = get_gradients(X, Y, slope, intercept)\n",
    "\n",
    "        # Next step\n",
    "        slope -= mg * rate\n",
    "        intercept -= bg * rate * 100\n",
    "\n",
    "    return round(slope, 3), round(intercept, 3)"
   ],
   "metadata": {
    "collapsed": false,
    "pycharm": {
     "name": "#%%\n"
    }
   }
  },
  {
   "cell_type": "code",
   "execution_count": 19,
   "outputs": [
    {
     "name": "stdout",
     "output_type": "stream",
     "text": [
      "SLR Fit: Y = 6.041X + 136.693\n",
      "Slope Error: 0.68%\n",
      "Intercept Error: 55.33%\n"
     ]
    },
    {
     "data": {
      "image/svg+xml": "<svg class=\"main-svg\" xmlns=\"http://www.w3.org/2000/svg\" xmlns:xlink=\"http://www.w3.org/1999/xlink\" width=\"700\" height=\"500\" style=\"\" viewBox=\"0 0 700 500\"><rect x=\"0\" y=\"0\" width=\"700\" height=\"500\" style=\"fill: rgb(255, 255, 255); fill-opacity: 1;\"/><defs id=\"defs-9169e7\"><g class=\"clips\"><clipPath id=\"clip9169e7xyplot\" class=\"plotclip\"><rect width=\"540\" height=\"320\"/></clipPath><clipPath class=\"axesclip\" id=\"clip9169e7x\"><rect x=\"80\" y=\"0\" width=\"540\" height=\"500\"/></clipPath><clipPath class=\"axesclip\" id=\"clip9169e7y\"><rect x=\"0\" y=\"100\" width=\"700\" height=\"320\"/></clipPath><clipPath class=\"axesclip\" id=\"clip9169e7xy\"><rect x=\"80\" y=\"100\" width=\"540\" height=\"320\"/></clipPath></g><g class=\"gradients\"/><g class=\"patterns\"/></defs><g class=\"bglayer\"><rect class=\"bg\" x=\"80\" y=\"100\" width=\"540\" height=\"320\" style=\"fill: rgb(234, 234, 242); fill-opacity: 1; stroke-width: 0;\"/></g><g class=\"layer-below\"><g class=\"imagelayer\"/><g class=\"shapelayer\"/></g><g class=\"cartesianlayer\"><g class=\"subplot xy\"><g class=\"layer-subplot\"><g class=\"shapelayer\"/><g class=\"imagelayer\"/></g><g class=\"minor-gridlayer\"><g class=\"x\"/><g class=\"y\"/></g><g class=\"gridlayer\"><g class=\"x\"><path class=\"xgrid crisp\" transform=\"translate(206.1,0)\" d=\"M0,100v320\" style=\"stroke: rgb(255, 255, 255); stroke-opacity: 1; stroke-width: 1px;\"/><path class=\"xgrid crisp\" transform=\"translate(302.19,0)\" d=\"M0,100v320\" style=\"stroke: rgb(255, 255, 255); stroke-opacity: 1; stroke-width: 1px;\"/><path class=\"xgrid crisp\" transform=\"translate(398.29,0)\" d=\"M0,100v320\" style=\"stroke: rgb(255, 255, 255); stroke-opacity: 1; stroke-width: 1px;\"/><path class=\"xgrid crisp\" transform=\"translate(494.38,0)\" d=\"M0,100v320\" style=\"stroke: rgb(255, 255, 255); stroke-opacity: 1; stroke-width: 1px;\"/><path class=\"xgrid crisp\" transform=\"translate(590.48,0)\" d=\"M0,100v320\" style=\"stroke: rgb(255, 255, 255); stroke-opacity: 1; stroke-width: 1px;\"/></g><g class=\"y\"><path class=\"ygrid crisp\" transform=\"translate(0,402.77)\" d=\"M80,0h540\" style=\"stroke: rgb(255, 255, 255); stroke-opacity: 1; stroke-width: 1px;\"/><path class=\"ygrid crisp\" transform=\"translate(0,360.86)\" d=\"M80,0h540\" style=\"stroke: rgb(255, 255, 255); stroke-opacity: 1; stroke-width: 1px;\"/><path class=\"ygrid crisp\" transform=\"translate(0,318.95)\" d=\"M80,0h540\" style=\"stroke: rgb(255, 255, 255); stroke-opacity: 1; stroke-width: 1px;\"/><path class=\"ygrid crisp\" transform=\"translate(0,277.03)\" d=\"M80,0h540\" style=\"stroke: rgb(255, 255, 255); stroke-opacity: 1; stroke-width: 1px;\"/><path class=\"ygrid crisp\" transform=\"translate(0,235.12)\" d=\"M80,0h540\" style=\"stroke: rgb(255, 255, 255); stroke-opacity: 1; stroke-width: 1px;\"/><path class=\"ygrid crisp\" transform=\"translate(0,193.20999999999998)\" d=\"M80,0h540\" style=\"stroke: rgb(255, 255, 255); stroke-opacity: 1; stroke-width: 1px;\"/><path class=\"ygrid crisp\" transform=\"translate(0,151.3)\" d=\"M80,0h540\" style=\"stroke: rgb(255, 255, 255); stroke-opacity: 1; stroke-width: 1px;\"/><path class=\"ygrid crisp\" transform=\"translate(0,109.39)\" d=\"M80,0h540\" style=\"stroke: rgb(255, 255, 255); stroke-opacity: 1; stroke-width: 1px;\"/></g></g><g class=\"zerolinelayer\"><path class=\"xzl zl crisp\" transform=\"translate(110,0)\" d=\"M0,100v320\" style=\"stroke: rgb(255, 255, 255); stroke-opacity: 1; stroke-width: 1px;\"/></g><path class=\"xlines-below\"/><path class=\"ylines-below\"/><g class=\"overlines-below\"/><g class=\"xaxislayer-below\"/><g class=\"yaxislayer-below\"/><g class=\"overaxes-below\"/><g class=\"plot\" transform=\"translate(80,100)\" clip-path=\"url(#clip9169e7xyplot)\"><g class=\"scatterlayer mlayer\"><g class=\"trace scatter trace609a68\" style=\"stroke-miterlimit: 2; opacity: 1;\"><g class=\"fills\"/><g class=\"errorbars\"/><g class=\"lines\"/><g class=\"points\"><path class=\"point\" transform=\"translate(30,287.33)\" d=\"M1,0A1,1 0 1,1 0,-1A1,1 0 0,1 1,0Z\" style=\"opacity: 1; stroke-width: 0px; fill: rgb(76, 114, 176); fill-opacity: 1;\"/><path class=\"point\" transform=\"translate(30.48,285.53)\" d=\"M1,0A1,1 0 1,1 0,-1A1,1 0 0,1 1,0Z\" style=\"opacity: 1; stroke-width: 0px; fill: rgb(76, 114, 176); fill-opacity: 1;\"/><path class=\"point\" transform=\"translate(30.96,265.7)\" d=\"M1,0A1,1 0 1,1 0,-1A1,1 0 0,1 1,0Z\" style=\"opacity: 1; stroke-width: 0px; fill: rgb(76, 114, 176); fill-opacity: 1;\"/><path class=\"point\" transform=\"translate(31.44,266.19)\" d=\"M1,0A1,1 0 1,1 0,-1A1,1 0 0,1 1,0Z\" style=\"opacity: 1; stroke-width: 0px; fill: rgb(76, 114, 176); fill-opacity: 1;\"/><path class=\"point\" transform=\"translate(31.92,287.64)\" d=\"M1,0A1,1 0 1,1 0,-1A1,1 0 0,1 1,0Z\" style=\"opacity: 1; stroke-width: 0px; fill: rgb(76, 114, 176); fill-opacity: 1;\"/><path class=\"point\" transform=\"translate(32.4,269.12)\" d=\"M1,0A1,1 0 1,1 0,-1A1,1 0 0,1 1,0Z\" style=\"opacity: 1; stroke-width: 0px; fill: rgb(76, 114, 176); fill-opacity: 1;\"/><path class=\"point\" transform=\"translate(32.88,294.58)\" d=\"M1,0A1,1 0 1,1 0,-1A1,1 0 0,1 1,0Z\" style=\"opacity: 1; stroke-width: 0px; fill: rgb(76, 114, 176); fill-opacity: 1;\"/><path class=\"point\" transform=\"translate(33.36,300.57)\" d=\"M1,0A1,1 0 1,1 0,-1A1,1 0 0,1 1,0Z\" style=\"opacity: 1; stroke-width: 0px; fill: rgb(76, 114, 176); fill-opacity: 1;\"/><path class=\"point\" transform=\"translate(33.84,282.18)\" d=\"M1,0A1,1 0 1,1 0,-1A1,1 0 0,1 1,0Z\" style=\"opacity: 1; stroke-width: 0px; fill: rgb(76, 114, 176); fill-opacity: 1;\"/><path class=\"point\" transform=\"translate(34.32,276.55)\" d=\"M1,0A1,1 0 1,1 0,-1A1,1 0 0,1 1,0Z\" style=\"opacity: 1; stroke-width: 0px; fill: rgb(76, 114, 176); fill-opacity: 1;\"/><path class=\"point\" transform=\"translate(34.8,293.03)\" d=\"M1,0A1,1 0 1,1 0,-1A1,1 0 0,1 1,0Z\" style=\"opacity: 1; stroke-width: 0px; fill: rgb(76, 114, 176); fill-opacity: 1;\"/><path class=\"point\" transform=\"translate(35.29,270.02)\" d=\"M1,0A1,1 0 1,1 0,-1A1,1 0 0,1 1,0Z\" style=\"opacity: 1; stroke-width: 0px; fill: rgb(76, 114, 176); fill-opacity: 1;\"/><path class=\"point\" transform=\"translate(35.77,286.15)\" d=\"M1,0A1,1 0 1,1 0,-1A1,1 0 0,1 1,0Z\" style=\"opacity: 1; stroke-width: 0px; fill: rgb(76, 114, 176); fill-opacity: 1;\"/><path class=\"point\" transform=\"translate(36.25,283.24)\" d=\"M1,0A1,1 0 1,1 0,-1A1,1 0 0,1 1,0Z\" style=\"opacity: 1; stroke-width: 0px; fill: rgb(76, 114, 176); fill-opacity: 1;\"/><path class=\"point\" transform=\"translate(36.73,297.09)\" d=\"M1,0A1,1 0 1,1 0,-1A1,1 0 0,1 1,0Z\" style=\"opacity: 1; stroke-width: 0px; fill: rgb(76, 114, 176); fill-opacity: 1;\"/><path class=\"point\" transform=\"translate(37.21,268.85)\" d=\"M1,0A1,1 0 1,1 0,-1A1,1 0 0,1 1,0Z\" style=\"opacity: 1; stroke-width: 0px; fill: rgb(76, 114, 176); fill-opacity: 1;\"/><path class=\"point\" transform=\"translate(37.69,262.53)\" d=\"M1,0A1,1 0 1,1 0,-1A1,1 0 0,1 1,0Z\" style=\"opacity: 1; stroke-width: 0px; fill: rgb(76, 114, 176); fill-opacity: 1;\"/><path class=\"point\" transform=\"translate(38.17,273.75)\" d=\"M1,0A1,1 0 1,1 0,-1A1,1 0 0,1 1,0Z\" style=\"opacity: 1; stroke-width: 0px; fill: rgb(76, 114, 176); fill-opacity: 1;\"/><path class=\"point\" transform=\"translate(38.65,297.14)\" d=\"M1,0A1,1 0 1,1 0,-1A1,1 0 0,1 1,0Z\" style=\"opacity: 1; stroke-width: 0px; fill: rgb(76, 114, 176); fill-opacity: 1;\"/><path class=\"point\" transform=\"translate(39.13,295.24)\" d=\"M1,0A1,1 0 1,1 0,-1A1,1 0 0,1 1,0Z\" style=\"opacity: 1; stroke-width: 0px; fill: rgb(76, 114, 176); fill-opacity: 1;\"/><path class=\"point\" transform=\"translate(39.61,289.86)\" d=\"M1,0A1,1 0 1,1 0,-1A1,1 0 0,1 1,0Z\" style=\"opacity: 1; stroke-width: 0px; fill: rgb(76, 114, 176); fill-opacity: 1;\"/><path class=\"point\" transform=\"translate(40.09,272.92)\" d=\"M1,0A1,1 0 1,1 0,-1A1,1 0 0,1 1,0Z\" style=\"opacity: 1; stroke-width: 0px; fill: rgb(76, 114, 176); fill-opacity: 1;\"/><path class=\"point\" transform=\"translate(40.57,277.83)\" d=\"M1,0A1,1 0 1,1 0,-1A1,1 0 0,1 1,0Z\" style=\"opacity: 1; stroke-width: 0px; fill: rgb(76, 114, 176); fill-opacity: 1;\"/><path class=\"point\" transform=\"translate(41.05,301)\" d=\"M1,0A1,1 0 1,1 0,-1A1,1 0 0,1 1,0Z\" style=\"opacity: 1; stroke-width: 0px; fill: rgb(76, 114, 176); fill-opacity: 1;\"/><path class=\"point\" transform=\"translate(41.53,290.55)\" d=\"M1,0A1,1 0 1,1 0,-1A1,1 0 0,1 1,0Z\" style=\"opacity: 1; stroke-width: 0px; fill: rgb(76, 114, 176); fill-opacity: 1;\"/><path class=\"point\" transform=\"translate(42.01,262.8)\" d=\"M1,0A1,1 0 1,1 0,-1A1,1 0 0,1 1,0Z\" style=\"opacity: 1; stroke-width: 0px; fill: rgb(76, 114, 176); fill-opacity: 1;\"/><path class=\"point\" transform=\"translate(42.49,299.09)\" d=\"M1,0A1,1 0 1,1 0,-1A1,1 0 0,1 1,0Z\" style=\"opacity: 1; stroke-width: 0px; fill: rgb(76, 114, 176); fill-opacity: 1;\"/><path class=\"point\" transform=\"translate(42.97,275.8)\" d=\"M1,0A1,1 0 1,1 0,-1A1,1 0 0,1 1,0Z\" style=\"opacity: 1; stroke-width: 0px; fill: rgb(76, 114, 176); fill-opacity: 1;\"/><path class=\"point\" transform=\"translate(43.45,297.55)\" d=\"M1,0A1,1 0 1,1 0,-1A1,1 0 0,1 1,0Z\" style=\"opacity: 1; stroke-width: 0px; fill: rgb(76, 114, 176); fill-opacity: 1;\"/><path class=\"point\" transform=\"translate(43.93,265.65)\" d=\"M1,0A1,1 0 1,1 0,-1A1,1 0 0,1 1,0Z\" style=\"opacity: 1; stroke-width: 0px; fill: rgb(76, 114, 176); fill-opacity: 1;\"/><path class=\"point\" transform=\"translate(44.41,300.07)\" d=\"M1,0A1,1 0 1,1 0,-1A1,1 0 0,1 1,0Z\" style=\"opacity: 1; stroke-width: 0px; fill: rgb(76, 114, 176); fill-opacity: 1;\"/><path class=\"point\" transform=\"translate(44.89,299.23)\" d=\"M1,0A1,1 0 1,1 0,-1A1,1 0 0,1 1,0Z\" style=\"opacity: 1; stroke-width: 0px; fill: rgb(76, 114, 176); fill-opacity: 1;\"/><path class=\"point\" transform=\"translate(45.38,292.65)\" d=\"M1,0A1,1 0 1,1 0,-1A1,1 0 0,1 1,0Z\" style=\"opacity: 1; stroke-width: 0px; fill: rgb(76, 114, 176); fill-opacity: 1;\"/><path class=\"point\" transform=\"translate(45.86,259.97)\" d=\"M1,0A1,1 0 1,1 0,-1A1,1 0 0,1 1,0Z\" style=\"opacity: 1; stroke-width: 0px; fill: rgb(76, 114, 176); fill-opacity: 1;\"/><path class=\"point\" transform=\"translate(46.34,259.21)\" d=\"M1,0A1,1 0 1,1 0,-1A1,1 0 0,1 1,0Z\" style=\"opacity: 1; stroke-width: 0px; fill: rgb(76, 114, 176); fill-opacity: 1;\"/><path class=\"point\" transform=\"translate(46.82,258.22)\" d=\"M1,0A1,1 0 1,1 0,-1A1,1 0 0,1 1,0Z\" style=\"opacity: 1; stroke-width: 0px; fill: rgb(76, 114, 176); fill-opacity: 1;\"/><path class=\"point\" transform=\"translate(47.3,284.65)\" d=\"M1,0A1,1 0 1,1 0,-1A1,1 0 0,1 1,0Z\" style=\"opacity: 1; stroke-width: 0px; fill: rgb(76, 114, 176); fill-opacity: 1;\"/><path class=\"point\" transform=\"translate(47.78,281.12)\" d=\"M1,0A1,1 0 1,1 0,-1A1,1 0 0,1 1,0Z\" style=\"opacity: 1; stroke-width: 0px; fill: rgb(76, 114, 176); fill-opacity: 1;\"/><path class=\"point\" transform=\"translate(48.26,278.39)\" d=\"M1,0A1,1 0 1,1 0,-1A1,1 0 0,1 1,0Z\" style=\"opacity: 1; stroke-width: 0px; fill: rgb(76, 114, 176); fill-opacity: 1;\"/><path class=\"point\" transform=\"translate(48.74,256.99)\" d=\"M1,0A1,1 0 1,1 0,-1A1,1 0 0,1 1,0Z\" style=\"opacity: 1; stroke-width: 0px; fill: rgb(76, 114, 176); fill-opacity: 1;\"/><path class=\"point\" transform=\"translate(49.22,286.74)\" d=\"M1,0A1,1 0 1,1 0,-1A1,1 0 0,1 1,0Z\" style=\"opacity: 1; stroke-width: 0px; fill: rgb(76, 114, 176); fill-opacity: 1;\"/><path class=\"point\" transform=\"translate(49.7,278.06)\" d=\"M1,0A1,1 0 1,1 0,-1A1,1 0 0,1 1,0Z\" style=\"opacity: 1; stroke-width: 0px; fill: rgb(76, 114, 176); fill-opacity: 1;\"/><path class=\"point\" transform=\"translate(50.18,283.87)\" d=\"M1,0A1,1 0 1,1 0,-1A1,1 0 0,1 1,0Z\" style=\"opacity: 1; stroke-width: 0px; fill: rgb(76, 114, 176); fill-opacity: 1;\"/><path class=\"point\" transform=\"translate(50.66,286.19)\" d=\"M1,0A1,1 0 1,1 0,-1A1,1 0 0,1 1,0Z\" style=\"opacity: 1; stroke-width: 0px; fill: rgb(76, 114, 176); fill-opacity: 1;\"/><path class=\"point\" transform=\"translate(51.14,263.94)\" d=\"M1,0A1,1 0 1,1 0,-1A1,1 0 0,1 1,0Z\" style=\"opacity: 1; stroke-width: 0px; fill: rgb(76, 114, 176); fill-opacity: 1;\"/><path class=\"point\" transform=\"translate(51.62,258.99)\" d=\"M1,0A1,1 0 1,1 0,-1A1,1 0 0,1 1,0Z\" style=\"opacity: 1; stroke-width: 0px; fill: rgb(76, 114, 176); fill-opacity: 1;\"/><path class=\"point\" transform=\"translate(52.1,281.19)\" d=\"M1,0A1,1 0 1,1 0,-1A1,1 0 0,1 1,0Z\" style=\"opacity: 1; stroke-width: 0px; fill: rgb(76, 114, 176); fill-opacity: 1;\"/><path class=\"point\" transform=\"translate(52.58,264.68)\" d=\"M1,0A1,1 0 1,1 0,-1A1,1 0 0,1 1,0Z\" style=\"opacity: 1; stroke-width: 0px; fill: rgb(76, 114, 176); fill-opacity: 1;\"/><path class=\"point\" transform=\"translate(53.06,278.6)\" d=\"M1,0A1,1 0 1,1 0,-1A1,1 0 0,1 1,0Z\" style=\"opacity: 1; stroke-width: 0px; fill: rgb(76, 114, 176); fill-opacity: 1;\"/><path class=\"point\" transform=\"translate(53.54,275.78)\" d=\"M1,0A1,1 0 1,1 0,-1A1,1 0 0,1 1,0Z\" style=\"opacity: 1; stroke-width: 0px; fill: rgb(76, 114, 176); fill-opacity: 1;\"/><path class=\"point\" transform=\"translate(54.02,262.13)\" d=\"M1,0A1,1 0 1,1 0,-1A1,1 0 0,1 1,0Z\" style=\"opacity: 1; stroke-width: 0px; fill: rgb(76, 114, 176); fill-opacity: 1;\"/><path class=\"point\" transform=\"translate(54.5,290.78)\" d=\"M1,0A1,1 0 1,1 0,-1A1,1 0 0,1 1,0Z\" style=\"opacity: 1; stroke-width: 0px; fill: rgb(76, 114, 176); fill-opacity: 1;\"/><path class=\"point\" transform=\"translate(54.98,253.84)\" d=\"M1,0A1,1 0 1,1 0,-1A1,1 0 0,1 1,0Z\" style=\"opacity: 1; stroke-width: 0px; fill: rgb(76, 114, 176); fill-opacity: 1;\"/><path class=\"point\" transform=\"translate(55.47,264.75)\" d=\"M1,0A1,1 0 1,1 0,-1A1,1 0 0,1 1,0Z\" style=\"opacity: 1; stroke-width: 0px; fill: rgb(76, 114, 176); fill-opacity: 1;\"/><path class=\"point\" transform=\"translate(55.95,261.95)\" d=\"M1,0A1,1 0 1,1 0,-1A1,1 0 0,1 1,0Z\" style=\"opacity: 1; stroke-width: 0px; fill: rgb(76, 114, 176); fill-opacity: 1;\"/><path class=\"point\" transform=\"translate(56.43,279.24)\" d=\"M1,0A1,1 0 1,1 0,-1A1,1 0 0,1 1,0Z\" style=\"opacity: 1; stroke-width: 0px; fill: rgb(76, 114, 176); fill-opacity: 1;\"/><path class=\"point\" transform=\"translate(56.91,288.13)\" d=\"M1,0A1,1 0 1,1 0,-1A1,1 0 0,1 1,0Z\" style=\"opacity: 1; stroke-width: 0px; fill: rgb(76, 114, 176); fill-opacity: 1;\"/><path class=\"point\" transform=\"translate(57.39,274.76)\" d=\"M1,0A1,1 0 1,1 0,-1A1,1 0 0,1 1,0Z\" style=\"opacity: 1; stroke-width: 0px; fill: rgb(76, 114, 176); fill-opacity: 1;\"/><path class=\"point\" transform=\"translate(57.87,268.93)\" d=\"M1,0A1,1 0 1,1 0,-1A1,1 0 0,1 1,0Z\" style=\"opacity: 1; stroke-width: 0px; fill: rgb(76, 114, 176); fill-opacity: 1;\"/><path class=\"point\" transform=\"translate(58.35,267.18)\" d=\"M1,0A1,1 0 1,1 0,-1A1,1 0 0,1 1,0Z\" style=\"opacity: 1; stroke-width: 0px; fill: rgb(76, 114, 176); fill-opacity: 1;\"/><path class=\"point\" transform=\"translate(58.83,281.52)\" d=\"M1,0A1,1 0 1,1 0,-1A1,1 0 0,1 1,0Z\" style=\"opacity: 1; stroke-width: 0px; fill: rgb(76, 114, 176); fill-opacity: 1;\"/><path class=\"point\" transform=\"translate(59.31,262.24)\" d=\"M1,0A1,1 0 1,1 0,-1A1,1 0 0,1 1,0Z\" style=\"opacity: 1; stroke-width: 0px; fill: rgb(76, 114, 176); fill-opacity: 1;\"/><path class=\"point\" transform=\"translate(59.79,278.69)\" d=\"M1,0A1,1 0 1,1 0,-1A1,1 0 0,1 1,0Z\" style=\"opacity: 1; stroke-width: 0px; fill: rgb(76, 114, 176); fill-opacity: 1;\"/><path class=\"point\" transform=\"translate(60.27,285.45)\" d=\"M1,0A1,1 0 1,1 0,-1A1,1 0 0,1 1,0Z\" style=\"opacity: 1; stroke-width: 0px; fill: rgb(76, 114, 176); fill-opacity: 1;\"/><path class=\"point\" transform=\"translate(60.75,276.92)\" d=\"M1,0A1,1 0 1,1 0,-1A1,1 0 0,1 1,0Z\" style=\"opacity: 1; stroke-width: 0px; fill: rgb(76, 114, 176); fill-opacity: 1;\"/><path class=\"point\" transform=\"translate(61.23,281.33)\" d=\"M1,0A1,1 0 1,1 0,-1A1,1 0 0,1 1,0Z\" style=\"opacity: 1; stroke-width: 0px; fill: rgb(76, 114, 176); fill-opacity: 1;\"/><path class=\"point\" transform=\"translate(61.71,264.79)\" d=\"M1,0A1,1 0 1,1 0,-1A1,1 0 0,1 1,0Z\" style=\"opacity: 1; stroke-width: 0px; fill: rgb(76, 114, 176); fill-opacity: 1;\"/><path class=\"point\" transform=\"translate(62.19,271.92)\" d=\"M1,0A1,1 0 1,1 0,-1A1,1 0 0,1 1,0Z\" style=\"opacity: 1; stroke-width: 0px; fill: rgb(76, 114, 176); fill-opacity: 1;\"/><path class=\"point\" transform=\"translate(62.67,290.08)\" d=\"M1,0A1,1 0 1,1 0,-1A1,1 0 0,1 1,0Z\" style=\"opacity: 1; stroke-width: 0px; fill: rgb(76, 114, 176); fill-opacity: 1;\"/><path class=\"point\" transform=\"translate(63.15,287.32)\" d=\"M1,0A1,1 0 1,1 0,-1A1,1 0 0,1 1,0Z\" style=\"opacity: 1; stroke-width: 0px; fill: rgb(76, 114, 176); fill-opacity: 1;\"/><path class=\"point\" transform=\"translate(63.63,252.99)\" d=\"M1,0A1,1 0 1,1 0,-1A1,1 0 0,1 1,0Z\" style=\"opacity: 1; stroke-width: 0px; fill: rgb(76, 114, 176); fill-opacity: 1;\"/><path class=\"point\" transform=\"translate(64.11,264.94)\" d=\"M1,0A1,1 0 1,1 0,-1A1,1 0 0,1 1,0Z\" style=\"opacity: 1; stroke-width: 0px; fill: rgb(76, 114, 176); fill-opacity: 1;\"/><path class=\"point\" transform=\"translate(64.59,274.39)\" d=\"M1,0A1,1 0 1,1 0,-1A1,1 0 0,1 1,0Z\" style=\"opacity: 1; stroke-width: 0px; fill: rgb(76, 114, 176); fill-opacity: 1;\"/><path class=\"point\" transform=\"translate(65.08,269.35)\" d=\"M1,0A1,1 0 1,1 0,-1A1,1 0 0,1 1,0Z\" style=\"opacity: 1; stroke-width: 0px; fill: rgb(76, 114, 176); fill-opacity: 1;\"/><path class=\"point\" transform=\"translate(65.56,260.29)\" d=\"M1,0A1,1 0 1,1 0,-1A1,1 0 0,1 1,0Z\" style=\"opacity: 1; stroke-width: 0px; fill: rgb(76, 114, 176); fill-opacity: 1;\"/><path class=\"point\" transform=\"translate(66.04,250.1)\" d=\"M1,0A1,1 0 1,1 0,-1A1,1 0 0,1 1,0Z\" style=\"opacity: 1; stroke-width: 0px; fill: rgb(76, 114, 176); fill-opacity: 1;\"/><path class=\"point\" transform=\"translate(66.52,260.3)\" d=\"M1,0A1,1 0 1,1 0,-1A1,1 0 0,1 1,0Z\" style=\"opacity: 1; stroke-width: 0px; fill: rgb(76, 114, 176); fill-opacity: 1;\"/><path class=\"point\" transform=\"translate(67,268.93)\" d=\"M1,0A1,1 0 1,1 0,-1A1,1 0 0,1 1,0Z\" style=\"opacity: 1; stroke-width: 0px; fill: rgb(76, 114, 176); fill-opacity: 1;\"/><path class=\"point\" transform=\"translate(67.48,262.42)\" d=\"M1,0A1,1 0 1,1 0,-1A1,1 0 0,1 1,0Z\" style=\"opacity: 1; stroke-width: 0px; fill: rgb(76, 114, 176); fill-opacity: 1;\"/><path class=\"point\" transform=\"translate(67.96,265.8)\" d=\"M1,0A1,1 0 1,1 0,-1A1,1 0 0,1 1,0Z\" style=\"opacity: 1; stroke-width: 0px; fill: rgb(76, 114, 176); fill-opacity: 1;\"/><path class=\"point\" transform=\"translate(68.44,286.1)\" d=\"M1,0A1,1 0 1,1 0,-1A1,1 0 0,1 1,0Z\" style=\"opacity: 1; stroke-width: 0px; fill: rgb(76, 114, 176); fill-opacity: 1;\"/><path class=\"point\" transform=\"translate(68.92,286.56)\" d=\"M1,0A1,1 0 1,1 0,-1A1,1 0 0,1 1,0Z\" style=\"opacity: 1; stroke-width: 0px; fill: rgb(76, 114, 176); fill-opacity: 1;\"/><path class=\"point\" transform=\"translate(69.4,247.9)\" d=\"M1,0A1,1 0 1,1 0,-1A1,1 0 0,1 1,0Z\" style=\"opacity: 1; stroke-width: 0px; fill: rgb(76, 114, 176); fill-opacity: 1;\"/><path class=\"point\" transform=\"translate(69.88,271.6)\" d=\"M1,0A1,1 0 1,1 0,-1A1,1 0 0,1 1,0Z\" style=\"opacity: 1; stroke-width: 0px; fill: rgb(76, 114, 176); fill-opacity: 1;\"/><path class=\"point\" transform=\"translate(70.36,272.97)\" d=\"M1,0A1,1 0 1,1 0,-1A1,1 0 0,1 1,0Z\" style=\"opacity: 1; stroke-width: 0px; fill: rgb(76, 114, 176); fill-opacity: 1;\"/><path class=\"point\" transform=\"translate(70.84,269.71)\" d=\"M1,0A1,1 0 1,1 0,-1A1,1 0 0,1 1,0Z\" style=\"opacity: 1; stroke-width: 0px; fill: rgb(76, 114, 176); fill-opacity: 1;\"/><path class=\"point\" transform=\"translate(71.32,261.23)\" d=\"M1,0A1,1 0 1,1 0,-1A1,1 0 0,1 1,0Z\" style=\"opacity: 1; stroke-width: 0px; fill: rgb(76, 114, 176); fill-opacity: 1;\"/><path class=\"point\" transform=\"translate(71.8,245.99)\" d=\"M1,0A1,1 0 1,1 0,-1A1,1 0 0,1 1,0Z\" style=\"opacity: 1; stroke-width: 0px; fill: rgb(76, 114, 176); fill-opacity: 1;\"/><path class=\"point\" transform=\"translate(72.28,267.7)\" d=\"M1,0A1,1 0 1,1 0,-1A1,1 0 0,1 1,0Z\" style=\"opacity: 1; stroke-width: 0px; fill: rgb(76, 114, 176); fill-opacity: 1;\"/><path class=\"point\" transform=\"translate(72.76,266.17)\" d=\"M1,0A1,1 0 1,1 0,-1A1,1 0 0,1 1,0Z\" style=\"opacity: 1; stroke-width: 0px; fill: rgb(76, 114, 176); fill-opacity: 1;\"/><path class=\"point\" transform=\"translate(73.24,254.56)\" d=\"M1,0A1,1 0 1,1 0,-1A1,1 0 0,1 1,0Z\" style=\"opacity: 1; stroke-width: 0px; fill: rgb(76, 114, 176); fill-opacity: 1;\"/><path class=\"point\" transform=\"translate(73.72,267.44)\" d=\"M1,0A1,1 0 1,1 0,-1A1,1 0 0,1 1,0Z\" style=\"opacity: 1; stroke-width: 0px; fill: rgb(76, 114, 176); fill-opacity: 1;\"/><path class=\"point\" transform=\"translate(74.2,256.84)\" d=\"M1,0A1,1 0 1,1 0,-1A1,1 0 0,1 1,0Z\" style=\"opacity: 1; stroke-width: 0px; fill: rgb(76, 114, 176); fill-opacity: 1;\"/><path class=\"point\" transform=\"translate(74.68,248.08)\" d=\"M1,0A1,1 0 1,1 0,-1A1,1 0 0,1 1,0Z\" style=\"opacity: 1; stroke-width: 0px; fill: rgb(76, 114, 176); fill-opacity: 1;\"/><path class=\"point\" transform=\"translate(75.17,280.45)\" d=\"M1,0A1,1 0 1,1 0,-1A1,1 0 0,1 1,0Z\" style=\"opacity: 1; stroke-width: 0px; fill: rgb(76, 114, 176); fill-opacity: 1;\"/><path class=\"point\" transform=\"translate(75.65,254.98)\" d=\"M1,0A1,1 0 1,1 0,-1A1,1 0 0,1 1,0Z\" style=\"opacity: 1; stroke-width: 0px; fill: rgb(76, 114, 176); fill-opacity: 1;\"/><path class=\"point\" transform=\"translate(76.13,273.18)\" d=\"M1,0A1,1 0 1,1 0,-1A1,1 0 0,1 1,0Z\" style=\"opacity: 1; stroke-width: 0px; fill: rgb(76, 114, 176); fill-opacity: 1;\"/><path class=\"point\" transform=\"translate(76.61,271.49)\" d=\"M1,0A1,1 0 1,1 0,-1A1,1 0 0,1 1,0Z\" style=\"opacity: 1; stroke-width: 0px; fill: rgb(76, 114, 176); fill-opacity: 1;\"/><path class=\"point\" transform=\"translate(77.09,260.32)\" d=\"M1,0A1,1 0 1,1 0,-1A1,1 0 0,1 1,0Z\" style=\"opacity: 1; stroke-width: 0px; fill: rgb(76, 114, 176); fill-opacity: 1;\"/><path class=\"point\" transform=\"translate(77.57,255.12)\" d=\"M1,0A1,1 0 1,1 0,-1A1,1 0 0,1 1,0Z\" style=\"opacity: 1; stroke-width: 0px; fill: rgb(76, 114, 176); fill-opacity: 1;\"/><path class=\"point\" transform=\"translate(78.05,281.18)\" d=\"M1,0A1,1 0 1,1 0,-1A1,1 0 0,1 1,0Z\" style=\"opacity: 1; stroke-width: 0px; fill: rgb(76, 114, 176); fill-opacity: 1;\"/><path class=\"point\" transform=\"translate(78.53,263.82)\" d=\"M1,0A1,1 0 1,1 0,-1A1,1 0 0,1 1,0Z\" style=\"opacity: 1; stroke-width: 0px; fill: rgb(76, 114, 176); fill-opacity: 1;\"/><path class=\"point\" transform=\"translate(79.01,248.78)\" d=\"M1,0A1,1 0 1,1 0,-1A1,1 0 0,1 1,0Z\" style=\"opacity: 1; stroke-width: 0px; fill: rgb(76, 114, 176); fill-opacity: 1;\"/><path class=\"point\" transform=\"translate(79.49,278.18)\" d=\"M1,0A1,1 0 1,1 0,-1A1,1 0 0,1 1,0Z\" style=\"opacity: 1; stroke-width: 0px; fill: rgb(76, 114, 176); fill-opacity: 1;\"/><path class=\"point\" transform=\"translate(79.97,266.69)\" d=\"M1,0A1,1 0 1,1 0,-1A1,1 0 0,1 1,0Z\" style=\"opacity: 1; stroke-width: 0px; fill: rgb(76, 114, 176); fill-opacity: 1;\"/><path class=\"point\" transform=\"translate(80.45,254.62)\" d=\"M1,0A1,1 0 1,1 0,-1A1,1 0 0,1 1,0Z\" style=\"opacity: 1; stroke-width: 0px; fill: rgb(76, 114, 176); fill-opacity: 1;\"/><path class=\"point\" transform=\"translate(80.93,250.66)\" d=\"M1,0A1,1 0 1,1 0,-1A1,1 0 0,1 1,0Z\" style=\"opacity: 1; stroke-width: 0px; fill: rgb(76, 114, 176); fill-opacity: 1;\"/><path class=\"point\" transform=\"translate(81.41,247.77)\" d=\"M1,0A1,1 0 1,1 0,-1A1,1 0 0,1 1,0Z\" style=\"opacity: 1; stroke-width: 0px; fill: rgb(76, 114, 176); fill-opacity: 1;\"/><path class=\"point\" transform=\"translate(81.89,252.75)\" d=\"M1,0A1,1 0 1,1 0,-1A1,1 0 0,1 1,0Z\" style=\"opacity: 1; stroke-width: 0px; fill: rgb(76, 114, 176); fill-opacity: 1;\"/><path class=\"point\" transform=\"translate(82.37,270.25)\" d=\"M1,0A1,1 0 1,1 0,-1A1,1 0 0,1 1,0Z\" style=\"opacity: 1; stroke-width: 0px; fill: rgb(76, 114, 176); fill-opacity: 1;\"/><path class=\"point\" transform=\"translate(82.85,241.09)\" d=\"M1,0A1,1 0 1,1 0,-1A1,1 0 0,1 1,0Z\" style=\"opacity: 1; stroke-width: 0px; fill: rgb(76, 114, 176); fill-opacity: 1;\"/><path class=\"point\" transform=\"translate(83.33,245.52)\" d=\"M1,0A1,1 0 1,1 0,-1A1,1 0 0,1 1,0Z\" style=\"opacity: 1; stroke-width: 0px; fill: rgb(76, 114, 176); fill-opacity: 1;\"/><path class=\"point\" transform=\"translate(83.81,243.18)\" d=\"M1,0A1,1 0 1,1 0,-1A1,1 0 0,1 1,0Z\" style=\"opacity: 1; stroke-width: 0px; fill: rgb(76, 114, 176); fill-opacity: 1;\"/><path class=\"point\" transform=\"translate(84.29,257.22)\" d=\"M1,0A1,1 0 1,1 0,-1A1,1 0 0,1 1,0Z\" style=\"opacity: 1; stroke-width: 0px; fill: rgb(76, 114, 176); fill-opacity: 1;\"/><path class=\"point\" transform=\"translate(84.77,248.08)\" d=\"M1,0A1,1 0 1,1 0,-1A1,1 0 0,1 1,0Z\" style=\"opacity: 1; stroke-width: 0px; fill: rgb(76, 114, 176); fill-opacity: 1;\"/><path class=\"point\" transform=\"translate(85.26,272.98)\" d=\"M1,0A1,1 0 1,1 0,-1A1,1 0 0,1 1,0Z\" style=\"opacity: 1; stroke-width: 0px; fill: rgb(76, 114, 176); fill-opacity: 1;\"/><path class=\"point\" transform=\"translate(85.74,248.29)\" d=\"M1,0A1,1 0 1,1 0,-1A1,1 0 0,1 1,0Z\" style=\"opacity: 1; stroke-width: 0px; fill: rgb(76, 114, 176); fill-opacity: 1;\"/><path class=\"point\" transform=\"translate(86.22,265.91)\" d=\"M1,0A1,1 0 1,1 0,-1A1,1 0 0,1 1,0Z\" style=\"opacity: 1; stroke-width: 0px; fill: rgb(76, 114, 176); fill-opacity: 1;\"/><path class=\"point\" transform=\"translate(86.7,254.53)\" d=\"M1,0A1,1 0 1,1 0,-1A1,1 0 0,1 1,0Z\" style=\"opacity: 1; stroke-width: 0px; fill: rgb(76, 114, 176); fill-opacity: 1;\"/><path class=\"point\" transform=\"translate(87.18,273.49)\" d=\"M1,0A1,1 0 1,1 0,-1A1,1 0 0,1 1,0Z\" style=\"opacity: 1; stroke-width: 0px; fill: rgb(76, 114, 176); fill-opacity: 1;\"/><path class=\"point\" transform=\"translate(87.66,275.54)\" d=\"M1,0A1,1 0 1,1 0,-1A1,1 0 0,1 1,0Z\" style=\"opacity: 1; stroke-width: 0px; fill: rgb(76, 114, 176); fill-opacity: 1;\"/><path class=\"point\" transform=\"translate(88.14,260.75)\" d=\"M1,0A1,1 0 1,1 0,-1A1,1 0 0,1 1,0Z\" style=\"opacity: 1; stroke-width: 0px; fill: rgb(76, 114, 176); fill-opacity: 1;\"/><path class=\"point\" transform=\"translate(88.62,246.51)\" d=\"M1,0A1,1 0 1,1 0,-1A1,1 0 0,1 1,0Z\" style=\"opacity: 1; stroke-width: 0px; fill: rgb(76, 114, 176); fill-opacity: 1;\"/><path class=\"point\" transform=\"translate(89.1,270.91)\" d=\"M1,0A1,1 0 1,1 0,-1A1,1 0 0,1 1,0Z\" style=\"opacity: 1; stroke-width: 0px; fill: rgb(76, 114, 176); fill-opacity: 1;\"/><path class=\"point\" transform=\"translate(89.58,247.17)\" d=\"M1,0A1,1 0 1,1 0,-1A1,1 0 0,1 1,0Z\" style=\"opacity: 1; stroke-width: 0px; fill: rgb(76, 114, 176); fill-opacity: 1;\"/><path class=\"point\" transform=\"translate(90.06,276.31)\" d=\"M1,0A1,1 0 1,1 0,-1A1,1 0 0,1 1,0Z\" style=\"opacity: 1; stroke-width: 0px; fill: rgb(76, 114, 176); fill-opacity: 1;\"/><path class=\"point\" transform=\"translate(90.54,255.08)\" d=\"M1,0A1,1 0 1,1 0,-1A1,1 0 0,1 1,0Z\" style=\"opacity: 1; stroke-width: 0px; fill: rgb(76, 114, 176); fill-opacity: 1;\"/><path class=\"point\" transform=\"translate(91.02,268.39)\" d=\"M1,0A1,1 0 1,1 0,-1A1,1 0 0,1 1,0Z\" style=\"opacity: 1; stroke-width: 0px; fill: rgb(76, 114, 176); fill-opacity: 1;\"/><path class=\"point\" transform=\"translate(91.5,251.82)\" d=\"M1,0A1,1 0 1,1 0,-1A1,1 0 0,1 1,0Z\" style=\"opacity: 1; stroke-width: 0px; fill: rgb(76, 114, 176); fill-opacity: 1;\"/><path class=\"point\" transform=\"translate(91.98,246.12)\" d=\"M1,0A1,1 0 1,1 0,-1A1,1 0 0,1 1,0Z\" style=\"opacity: 1; stroke-width: 0px; fill: rgb(76, 114, 176); fill-opacity: 1;\"/><path class=\"point\" transform=\"translate(92.46,265.43)\" d=\"M1,0A1,1 0 1,1 0,-1A1,1 0 0,1 1,0Z\" style=\"opacity: 1; stroke-width: 0px; fill: rgb(76, 114, 176); fill-opacity: 1;\"/><path class=\"point\" transform=\"translate(92.94,272.63)\" d=\"M1,0A1,1 0 1,1 0,-1A1,1 0 0,1 1,0Z\" style=\"opacity: 1; stroke-width: 0px; fill: rgb(76, 114, 176); fill-opacity: 1;\"/><path class=\"point\" transform=\"translate(93.42,265.26)\" d=\"M1,0A1,1 0 1,1 0,-1A1,1 0 0,1 1,0Z\" style=\"opacity: 1; stroke-width: 0px; fill: rgb(76, 114, 176); fill-opacity: 1;\"/><path class=\"point\" transform=\"translate(93.9,260.02)\" d=\"M1,0A1,1 0 1,1 0,-1A1,1 0 0,1 1,0Z\" style=\"opacity: 1; stroke-width: 0px; fill: rgb(76, 114, 176); fill-opacity: 1;\"/><path class=\"point\" transform=\"translate(94.38,270.31)\" d=\"M1,0A1,1 0 1,1 0,-1A1,1 0 0,1 1,0Z\" style=\"opacity: 1; stroke-width: 0px; fill: rgb(76, 114, 176); fill-opacity: 1;\"/><path class=\"point\" transform=\"translate(94.86,234.01)\" d=\"M1,0A1,1 0 1,1 0,-1A1,1 0 0,1 1,0Z\" style=\"opacity: 1; stroke-width: 0px; fill: rgb(76, 114, 176); fill-opacity: 1;\"/><path class=\"point\" transform=\"translate(95.35,253.4)\" d=\"M1,0A1,1 0 1,1 0,-1A1,1 0 0,1 1,0Z\" style=\"opacity: 1; stroke-width: 0px; fill: rgb(76, 114, 176); fill-opacity: 1;\"/><path class=\"point\" transform=\"translate(95.83,272.56)\" d=\"M1,0A1,1 0 1,1 0,-1A1,1 0 0,1 1,0Z\" style=\"opacity: 1; stroke-width: 0px; fill: rgb(76, 114, 176); fill-opacity: 1;\"/><path class=\"point\" transform=\"translate(96.31,257.34)\" d=\"M1,0A1,1 0 1,1 0,-1A1,1 0 0,1 1,0Z\" style=\"opacity: 1; stroke-width: 0px; fill: rgb(76, 114, 176); fill-opacity: 1;\"/><path class=\"point\" transform=\"translate(96.79,259.33)\" d=\"M1,0A1,1 0 1,1 0,-1A1,1 0 0,1 1,0Z\" style=\"opacity: 1; stroke-width: 0px; fill: rgb(76, 114, 176); fill-opacity: 1;\"/><path class=\"point\" transform=\"translate(97.27,235.57)\" d=\"M1,0A1,1 0 1,1 0,-1A1,1 0 0,1 1,0Z\" style=\"opacity: 1; stroke-width: 0px; fill: rgb(76, 114, 176); fill-opacity: 1;\"/><path class=\"point\" transform=\"translate(97.75,250.93)\" d=\"M1,0A1,1 0 1,1 0,-1A1,1 0 0,1 1,0Z\" style=\"opacity: 1; stroke-width: 0px; fill: rgb(76, 114, 176); fill-opacity: 1;\"/><path class=\"point\" transform=\"translate(98.23,267.38)\" d=\"M1,0A1,1 0 1,1 0,-1A1,1 0 0,1 1,0Z\" style=\"opacity: 1; stroke-width: 0px; fill: rgb(76, 114, 176); fill-opacity: 1;\"/><path class=\"point\" transform=\"translate(98.71,270.36)\" d=\"M1,0A1,1 0 1,1 0,-1A1,1 0 0,1 1,0Z\" style=\"opacity: 1; stroke-width: 0px; fill: rgb(76, 114, 176); fill-opacity: 1;\"/><path class=\"point\" transform=\"translate(99.19,259.64)\" d=\"M1,0A1,1 0 1,1 0,-1A1,1 0 0,1 1,0Z\" style=\"opacity: 1; stroke-width: 0px; fill: rgb(76, 114, 176); fill-opacity: 1;\"/><path class=\"point\" transform=\"translate(99.67,232.73)\" d=\"M1,0A1,1 0 1,1 0,-1A1,1 0 0,1 1,0Z\" style=\"opacity: 1; stroke-width: 0px; fill: rgb(76, 114, 176); fill-opacity: 1;\"/><path class=\"point\" transform=\"translate(100.15,267.18)\" d=\"M1,0A1,1 0 1,1 0,-1A1,1 0 0,1 1,0Z\" style=\"opacity: 1; stroke-width: 0px; fill: rgb(76, 114, 176); fill-opacity: 1;\"/><path class=\"point\" transform=\"translate(100.63,242.39)\" d=\"M1,0A1,1 0 1,1 0,-1A1,1 0 0,1 1,0Z\" style=\"opacity: 1; stroke-width: 0px; fill: rgb(76, 114, 176); fill-opacity: 1;\"/><path class=\"point\" transform=\"translate(101.11,268.9)\" d=\"M1,0A1,1 0 1,1 0,-1A1,1 0 0,1 1,0Z\" style=\"opacity: 1; stroke-width: 0px; fill: rgb(76, 114, 176); fill-opacity: 1;\"/><path class=\"point\" transform=\"translate(101.59,250.28)\" d=\"M1,0A1,1 0 1,1 0,-1A1,1 0 0,1 1,0Z\" style=\"opacity: 1; stroke-width: 0px; fill: rgb(76, 114, 176); fill-opacity: 1;\"/><path class=\"point\" transform=\"translate(102.07,228.72)\" d=\"M1,0A1,1 0 1,1 0,-1A1,1 0 0,1 1,0Z\" style=\"opacity: 1; stroke-width: 0px; fill: rgb(76, 114, 176); fill-opacity: 1;\"/><path class=\"point\" transform=\"translate(102.55,238.68)\" d=\"M1,0A1,1 0 1,1 0,-1A1,1 0 0,1 1,0Z\" style=\"opacity: 1; stroke-width: 0px; fill: rgb(76, 114, 176); fill-opacity: 1;\"/><path class=\"point\" transform=\"translate(103.03,256.43)\" d=\"M1,0A1,1 0 1,1 0,-1A1,1 0 0,1 1,0Z\" style=\"opacity: 1; stroke-width: 0px; fill: rgb(76, 114, 176); fill-opacity: 1;\"/><path class=\"point\" transform=\"translate(103.51,240.25)\" d=\"M1,0A1,1 0 1,1 0,-1A1,1 0 0,1 1,0Z\" style=\"opacity: 1; stroke-width: 0px; fill: rgb(76, 114, 176); fill-opacity: 1;\"/><path class=\"point\" transform=\"translate(103.99,249.39)\" d=\"M1,0A1,1 0 1,1 0,-1A1,1 0 0,1 1,0Z\" style=\"opacity: 1; stroke-width: 0px; fill: rgb(76, 114, 176); fill-opacity: 1;\"/><path class=\"point\" transform=\"translate(104.47,237.07)\" d=\"M1,0A1,1 0 1,1 0,-1A1,1 0 0,1 1,0Z\" style=\"opacity: 1; stroke-width: 0px; fill: rgb(76, 114, 176); fill-opacity: 1;\"/><path class=\"point\" transform=\"translate(104.95,266.85)\" d=\"M1,0A1,1 0 1,1 0,-1A1,1 0 0,1 1,0Z\" style=\"opacity: 1; stroke-width: 0px; fill: rgb(76, 114, 176); fill-opacity: 1;\"/><path class=\"point\" transform=\"translate(105.44,248.07)\" d=\"M1,0A1,1 0 1,1 0,-1A1,1 0 0,1 1,0Z\" style=\"opacity: 1; stroke-width: 0px; fill: rgb(76, 114, 176); fill-opacity: 1;\"/><path class=\"point\" transform=\"translate(105.92,261.14)\" d=\"M1,0A1,1 0 1,1 0,-1A1,1 0 0,1 1,0Z\" style=\"opacity: 1; stroke-width: 0px; fill: rgb(76, 114, 176); fill-opacity: 1;\"/><path class=\"point\" transform=\"translate(106.4,243.23)\" d=\"M1,0A1,1 0 1,1 0,-1A1,1 0 0,1 1,0Z\" style=\"opacity: 1; stroke-width: 0px; fill: rgb(76, 114, 176); fill-opacity: 1;\"/><path class=\"point\" transform=\"translate(106.88,233.55)\" d=\"M1,0A1,1 0 1,1 0,-1A1,1 0 0,1 1,0Z\" style=\"opacity: 1; stroke-width: 0px; fill: rgb(76, 114, 176); fill-opacity: 1;\"/><path class=\"point\" transform=\"translate(107.36,246.3)\" d=\"M1,0A1,1 0 1,1 0,-1A1,1 0 0,1 1,0Z\" style=\"opacity: 1; stroke-width: 0px; fill: rgb(76, 114, 176); fill-opacity: 1;\"/><path class=\"point\" transform=\"translate(107.84,236.94)\" d=\"M1,0A1,1 0 1,1 0,-1A1,1 0 0,1 1,0Z\" style=\"opacity: 1; stroke-width: 0px; fill: rgb(76, 114, 176); fill-opacity: 1;\"/><path class=\"point\" transform=\"translate(108.32,236.02)\" d=\"M1,0A1,1 0 1,1 0,-1A1,1 0 0,1 1,0Z\" style=\"opacity: 1; stroke-width: 0px; fill: rgb(76, 114, 176); fill-opacity: 1;\"/><path class=\"point\" transform=\"translate(108.8,239.23)\" d=\"M1,0A1,1 0 1,1 0,-1A1,1 0 0,1 1,0Z\" style=\"opacity: 1; stroke-width: 0px; fill: rgb(76, 114, 176); fill-opacity: 1;\"/><path class=\"point\" transform=\"translate(109.28,243.86)\" d=\"M1,0A1,1 0 1,1 0,-1A1,1 0 0,1 1,0Z\" style=\"opacity: 1; stroke-width: 0px; fill: rgb(76, 114, 176); fill-opacity: 1;\"/><path class=\"point\" transform=\"translate(109.76,243.37)\" d=\"M1,0A1,1 0 1,1 0,-1A1,1 0 0,1 1,0Z\" style=\"opacity: 1; stroke-width: 0px; fill: rgb(76, 114, 176); fill-opacity: 1;\"/><path class=\"point\" transform=\"translate(110.24,237.61)\" d=\"M1,0A1,1 0 1,1 0,-1A1,1 0 0,1 1,0Z\" style=\"opacity: 1; stroke-width: 0px; fill: rgb(76, 114, 176); fill-opacity: 1;\"/><path class=\"point\" transform=\"translate(110.72,248.88)\" d=\"M1,0A1,1 0 1,1 0,-1A1,1 0 0,1 1,0Z\" style=\"opacity: 1; stroke-width: 0px; fill: rgb(76, 114, 176); fill-opacity: 1;\"/><path class=\"point\" transform=\"translate(111.2,233.62)\" d=\"M1,0A1,1 0 1,1 0,-1A1,1 0 0,1 1,0Z\" style=\"opacity: 1; stroke-width: 0px; fill: rgb(76, 114, 176); fill-opacity: 1;\"/><path class=\"point\" transform=\"translate(111.68,224.09)\" d=\"M1,0A1,1 0 1,1 0,-1A1,1 0 0,1 1,0Z\" style=\"opacity: 1; stroke-width: 0px; fill: rgb(76, 114, 176); fill-opacity: 1;\"/><path class=\"point\" transform=\"translate(112.16,247.78)\" d=\"M1,0A1,1 0 1,1 0,-1A1,1 0 0,1 1,0Z\" style=\"opacity: 1; stroke-width: 0px; fill: rgb(76, 114, 176); fill-opacity: 1;\"/><path class=\"point\" transform=\"translate(112.64,234.82)\" d=\"M1,0A1,1 0 1,1 0,-1A1,1 0 0,1 1,0Z\" style=\"opacity: 1; stroke-width: 0px; fill: rgb(76, 114, 176); fill-opacity: 1;\"/><path class=\"point\" transform=\"translate(113.12,256.05)\" d=\"M1,0A1,1 0 1,1 0,-1A1,1 0 0,1 1,0Z\" style=\"opacity: 1; stroke-width: 0px; fill: rgb(76, 114, 176); fill-opacity: 1;\"/><path class=\"point\" transform=\"translate(113.6,232.94)\" d=\"M1,0A1,1 0 1,1 0,-1A1,1 0 0,1 1,0Z\" style=\"opacity: 1; stroke-width: 0px; fill: rgb(76, 114, 176); fill-opacity: 1;\"/><path class=\"point\" transform=\"translate(114.08,232.23)\" d=\"M1,0A1,1 0 1,1 0,-1A1,1 0 0,1 1,0Z\" style=\"opacity: 1; stroke-width: 0px; fill: rgb(76, 114, 176); fill-opacity: 1;\"/><path class=\"point\" transform=\"translate(114.56,222.31)\" d=\"M1,0A1,1 0 1,1 0,-1A1,1 0 0,1 1,0Z\" style=\"opacity: 1; stroke-width: 0px; fill: rgb(76, 114, 176); fill-opacity: 1;\"/><path class=\"point\" transform=\"translate(115.05,231.23)\" d=\"M1,0A1,1 0 1,1 0,-1A1,1 0 0,1 1,0Z\" style=\"opacity: 1; stroke-width: 0px; fill: rgb(76, 114, 176); fill-opacity: 1;\"/><path class=\"point\" transform=\"translate(115.53,249.6)\" d=\"M1,0A1,1 0 1,1 0,-1A1,1 0 0,1 1,0Z\" style=\"opacity: 1; stroke-width: 0px; fill: rgb(76, 114, 176); fill-opacity: 1;\"/><path class=\"point\" transform=\"translate(116.01,244.58)\" d=\"M1,0A1,1 0 1,1 0,-1A1,1 0 0,1 1,0Z\" style=\"opacity: 1; stroke-width: 0px; fill: rgb(76, 114, 176); fill-opacity: 1;\"/><path class=\"point\" transform=\"translate(116.49,262.35)\" d=\"M1,0A1,1 0 1,1 0,-1A1,1 0 0,1 1,0Z\" style=\"opacity: 1; stroke-width: 0px; fill: rgb(76, 114, 176); fill-opacity: 1;\"/><path class=\"point\" transform=\"translate(116.97,229.21)\" d=\"M1,0A1,1 0 1,1 0,-1A1,1 0 0,1 1,0Z\" style=\"opacity: 1; stroke-width: 0px; fill: rgb(76, 114, 176); fill-opacity: 1;\"/><path class=\"point\" transform=\"translate(117.45,253.95)\" d=\"M1,0A1,1 0 1,1 0,-1A1,1 0 0,1 1,0Z\" style=\"opacity: 1; stroke-width: 0px; fill: rgb(76, 114, 176); fill-opacity: 1;\"/><path class=\"point\" transform=\"translate(117.93,255.03)\" d=\"M1,0A1,1 0 1,1 0,-1A1,1 0 0,1 1,0Z\" style=\"opacity: 1; stroke-width: 0px; fill: rgb(76, 114, 176); fill-opacity: 1;\"/><path class=\"point\" transform=\"translate(118.41,231.64)\" d=\"M1,0A1,1 0 1,1 0,-1A1,1 0 0,1 1,0Z\" style=\"opacity: 1; stroke-width: 0px; fill: rgb(76, 114, 176); fill-opacity: 1;\"/><path class=\"point\" transform=\"translate(118.89,232.84)\" d=\"M1,0A1,1 0 1,1 0,-1A1,1 0 0,1 1,0Z\" style=\"opacity: 1; stroke-width: 0px; fill: rgb(76, 114, 176); fill-opacity: 1;\"/><path class=\"point\" transform=\"translate(119.37,254.98)\" d=\"M1,0A1,1 0 1,1 0,-1A1,1 0 0,1 1,0Z\" style=\"opacity: 1; stroke-width: 0px; fill: rgb(76, 114, 176); fill-opacity: 1;\"/><path class=\"point\" transform=\"translate(119.85,260.19)\" d=\"M1,0A1,1 0 1,1 0,-1A1,1 0 0,1 1,0Z\" style=\"opacity: 1; stroke-width: 0px; fill: rgb(76, 114, 176); fill-opacity: 1;\"/><path class=\"point\" transform=\"translate(120.33,249.91)\" d=\"M1,0A1,1 0 1,1 0,-1A1,1 0 0,1 1,0Z\" style=\"opacity: 1; stroke-width: 0px; fill: rgb(76, 114, 176); fill-opacity: 1;\"/><path class=\"point\" transform=\"translate(120.81,226.87)\" d=\"M1,0A1,1 0 1,1 0,-1A1,1 0 0,1 1,0Z\" style=\"opacity: 1; stroke-width: 0px; fill: rgb(76, 114, 176); fill-opacity: 1;\"/><path class=\"point\" transform=\"translate(121.29,227.31)\" d=\"M1,0A1,1 0 1,1 0,-1A1,1 0 0,1 1,0Z\" style=\"opacity: 1; stroke-width: 0px; fill: rgb(76, 114, 176); fill-opacity: 1;\"/><path class=\"point\" transform=\"translate(121.77,240.03)\" d=\"M1,0A1,1 0 1,1 0,-1A1,1 0 0,1 1,0Z\" style=\"opacity: 1; stroke-width: 0px; fill: rgb(76, 114, 176); fill-opacity: 1;\"/><path class=\"point\" transform=\"translate(122.25,231.35)\" d=\"M1,0A1,1 0 1,1 0,-1A1,1 0 0,1 1,0Z\" style=\"opacity: 1; stroke-width: 0px; fill: rgb(76, 114, 176); fill-opacity: 1;\"/><path class=\"point\" transform=\"translate(122.73,253.3)\" d=\"M1,0A1,1 0 1,1 0,-1A1,1 0 0,1 1,0Z\" style=\"opacity: 1; stroke-width: 0px; fill: rgb(76, 114, 176); fill-opacity: 1;\"/><path class=\"point\" transform=\"translate(123.21,235.91)\" d=\"M1,0A1,1 0 1,1 0,-1A1,1 0 0,1 1,0Z\" style=\"opacity: 1; stroke-width: 0px; fill: rgb(76, 114, 176); fill-opacity: 1;\"/><path class=\"point\" transform=\"translate(123.69,252.38)\" d=\"M1,0A1,1 0 1,1 0,-1A1,1 0 0,1 1,0Z\" style=\"opacity: 1; stroke-width: 0px; fill: rgb(76, 114, 176); fill-opacity: 1;\"/><path class=\"point\" transform=\"translate(124.17,234.5)\" d=\"M1,0A1,1 0 1,1 0,-1A1,1 0 0,1 1,0Z\" style=\"opacity: 1; stroke-width: 0px; fill: rgb(76, 114, 176); fill-opacity: 1;\"/><path class=\"point\" transform=\"translate(124.65,244.24)\" d=\"M1,0A1,1 0 1,1 0,-1A1,1 0 0,1 1,0Z\" style=\"opacity: 1; stroke-width: 0px; fill: rgb(76, 114, 176); fill-opacity: 1;\"/><path class=\"point\" transform=\"translate(125.14,252.51)\" d=\"M1,0A1,1 0 1,1 0,-1A1,1 0 0,1 1,0Z\" style=\"opacity: 1; stroke-width: 0px; fill: rgb(76, 114, 176); fill-opacity: 1;\"/><path class=\"point\" transform=\"translate(125.62,217.07)\" d=\"M1,0A1,1 0 1,1 0,-1A1,1 0 0,1 1,0Z\" style=\"opacity: 1; stroke-width: 0px; fill: rgb(76, 114, 176); fill-opacity: 1;\"/><path class=\"point\" transform=\"translate(126.1,251.96)\" d=\"M1,0A1,1 0 1,1 0,-1A1,1 0 0,1 1,0Z\" style=\"opacity: 1; stroke-width: 0px; fill: rgb(76, 114, 176); fill-opacity: 1;\"/><path class=\"point\" transform=\"translate(126.58,257.17)\" d=\"M1,0A1,1 0 1,1 0,-1A1,1 0 0,1 1,0Z\" style=\"opacity: 1; stroke-width: 0px; fill: rgb(76, 114, 176); fill-opacity: 1;\"/><path class=\"point\" transform=\"translate(127.06,219)\" d=\"M1,0A1,1 0 1,1 0,-1A1,1 0 0,1 1,0Z\" style=\"opacity: 1; stroke-width: 0px; fill: rgb(76, 114, 176); fill-opacity: 1;\"/><path class=\"point\" transform=\"translate(127.54,221.23)\" d=\"M1,0A1,1 0 1,1 0,-1A1,1 0 0,1 1,0Z\" style=\"opacity: 1; stroke-width: 0px; fill: rgb(76, 114, 176); fill-opacity: 1;\"/><path class=\"point\" transform=\"translate(128.02,223.41)\" d=\"M1,0A1,1 0 1,1 0,-1A1,1 0 0,1 1,0Z\" style=\"opacity: 1; stroke-width: 0px; fill: rgb(76, 114, 176); fill-opacity: 1;\"/><path class=\"point\" transform=\"translate(128.5,216.2)\" d=\"M1,0A1,1 0 1,1 0,-1A1,1 0 0,1 1,0Z\" style=\"opacity: 1; stroke-width: 0px; fill: rgb(76, 114, 176); fill-opacity: 1;\"/><path class=\"point\" transform=\"translate(128.98,242.98)\" d=\"M1,0A1,1 0 1,1 0,-1A1,1 0 0,1 1,0Z\" style=\"opacity: 1; stroke-width: 0px; fill: rgb(76, 114, 176); fill-opacity: 1;\"/><path class=\"point\" transform=\"translate(129.46,227.57)\" d=\"M1,0A1,1 0 1,1 0,-1A1,1 0 0,1 1,0Z\" style=\"opacity: 1; stroke-width: 0px; fill: rgb(76, 114, 176); fill-opacity: 1;\"/><path class=\"point\" transform=\"translate(129.94,230.9)\" d=\"M1,0A1,1 0 1,1 0,-1A1,1 0 0,1 1,0Z\" style=\"opacity: 1; stroke-width: 0px; fill: rgb(76, 114, 176); fill-opacity: 1;\"/><path class=\"point\" transform=\"translate(130.42,225.2)\" d=\"M1,0A1,1 0 1,1 0,-1A1,1 0 0,1 1,0Z\" style=\"opacity: 1; stroke-width: 0px; fill: rgb(76, 114, 176); fill-opacity: 1;\"/><path class=\"point\" transform=\"translate(130.9,244.54)\" d=\"M1,0A1,1 0 1,1 0,-1A1,1 0 0,1 1,0Z\" style=\"opacity: 1; stroke-width: 0px; fill: rgb(76, 114, 176); fill-opacity: 1;\"/><path class=\"point\" transform=\"translate(131.38,242.88)\" d=\"M1,0A1,1 0 1,1 0,-1A1,1 0 0,1 1,0Z\" style=\"opacity: 1; stroke-width: 0px; fill: rgb(76, 114, 176); fill-opacity: 1;\"/><path class=\"point\" transform=\"translate(131.86,233.61)\" d=\"M1,0A1,1 0 1,1 0,-1A1,1 0 0,1 1,0Z\" style=\"opacity: 1; stroke-width: 0px; fill: rgb(76, 114, 176); fill-opacity: 1;\"/><path class=\"point\" transform=\"translate(132.34,229.32)\" d=\"M1,0A1,1 0 1,1 0,-1A1,1 0 0,1 1,0Z\" style=\"opacity: 1; stroke-width: 0px; fill: rgb(76, 114, 176); fill-opacity: 1;\"/><path class=\"point\" transform=\"translate(132.82,224.07)\" d=\"M1,0A1,1 0 1,1 0,-1A1,1 0 0,1 1,0Z\" style=\"opacity: 1; stroke-width: 0px; fill: rgb(76, 114, 176); fill-opacity: 1;\"/><path class=\"point\" transform=\"translate(133.3,227.48)\" d=\"M1,0A1,1 0 1,1 0,-1A1,1 0 0,1 1,0Z\" style=\"opacity: 1; stroke-width: 0px; fill: rgb(76, 114, 176); fill-opacity: 1;\"/><path class=\"point\" transform=\"translate(133.78,231.59)\" d=\"M1,0A1,1 0 1,1 0,-1A1,1 0 0,1 1,0Z\" style=\"opacity: 1; stroke-width: 0px; fill: rgb(76, 114, 176); fill-opacity: 1;\"/><path class=\"point\" transform=\"translate(134.26,243.78)\" d=\"M1,0A1,1 0 1,1 0,-1A1,1 0 0,1 1,0Z\" style=\"opacity: 1; stroke-width: 0px; fill: rgb(76, 114, 176); fill-opacity: 1;\"/><path class=\"point\" transform=\"translate(134.74,219.32)\" d=\"M1,0A1,1 0 1,1 0,-1A1,1 0 0,1 1,0Z\" style=\"opacity: 1; stroke-width: 0px; fill: rgb(76, 114, 176); fill-opacity: 1;\"/><path class=\"point\" transform=\"translate(135.23,249.61)\" d=\"M1,0A1,1 0 1,1 0,-1A1,1 0 0,1 1,0Z\" style=\"opacity: 1; stroke-width: 0px; fill: rgb(76, 114, 176); fill-opacity: 1;\"/><path class=\"point\" transform=\"translate(135.71,246.78)\" d=\"M1,0A1,1 0 1,1 0,-1A1,1 0 0,1 1,0Z\" style=\"opacity: 1; stroke-width: 0px; fill: rgb(76, 114, 176); fill-opacity: 1;\"/><path class=\"point\" transform=\"translate(136.19,240.74)\" d=\"M1,0A1,1 0 1,1 0,-1A1,1 0 0,1 1,0Z\" style=\"opacity: 1; stroke-width: 0px; fill: rgb(76, 114, 176); fill-opacity: 1;\"/><path class=\"point\" transform=\"translate(136.67,210.81)\" d=\"M1,0A1,1 0 1,1 0,-1A1,1 0 0,1 1,0Z\" style=\"opacity: 1; stroke-width: 0px; fill: rgb(76, 114, 176); fill-opacity: 1;\"/><path class=\"point\" transform=\"translate(137.15,219.9)\" d=\"M1,0A1,1 0 1,1 0,-1A1,1 0 0,1 1,0Z\" style=\"opacity: 1; stroke-width: 0px; fill: rgb(76, 114, 176); fill-opacity: 1;\"/><path class=\"point\" transform=\"translate(137.63,240.36)\" d=\"M1,0A1,1 0 1,1 0,-1A1,1 0 0,1 1,0Z\" style=\"opacity: 1; stroke-width: 0px; fill: rgb(76, 114, 176); fill-opacity: 1;\"/><path class=\"point\" transform=\"translate(138.11,210.49)\" d=\"M1,0A1,1 0 1,1 0,-1A1,1 0 0,1 1,0Z\" style=\"opacity: 1; stroke-width: 0px; fill: rgb(76, 114, 176); fill-opacity: 1;\"/><path class=\"point\" transform=\"translate(138.59,246.69)\" d=\"M1,0A1,1 0 1,1 0,-1A1,1 0 0,1 1,0Z\" style=\"opacity: 1; stroke-width: 0px; fill: rgb(76, 114, 176); fill-opacity: 1;\"/><path class=\"point\" transform=\"translate(139.07,242.62)\" d=\"M1,0A1,1 0 1,1 0,-1A1,1 0 0,1 1,0Z\" style=\"opacity: 1; stroke-width: 0px; fill: rgb(76, 114, 176); fill-opacity: 1;\"/><path class=\"point\" transform=\"translate(139.55,248.46)\" d=\"M1,0A1,1 0 1,1 0,-1A1,1 0 0,1 1,0Z\" style=\"opacity: 1; stroke-width: 0px; fill: rgb(76, 114, 176); fill-opacity: 1;\"/><path class=\"point\" transform=\"translate(140.03,221.98)\" d=\"M1,0A1,1 0 1,1 0,-1A1,1 0 0,1 1,0Z\" style=\"opacity: 1; stroke-width: 0px; fill: rgb(76, 114, 176); fill-opacity: 1;\"/><path class=\"point\" transform=\"translate(140.51,222.36)\" d=\"M1,0A1,1 0 1,1 0,-1A1,1 0 0,1 1,0Z\" style=\"opacity: 1; stroke-width: 0px; fill: rgb(76, 114, 176); fill-opacity: 1;\"/><path class=\"point\" transform=\"translate(140.99,229.94)\" d=\"M1,0A1,1 0 1,1 0,-1A1,1 0 0,1 1,0Z\" style=\"opacity: 1; stroke-width: 0px; fill: rgb(76, 114, 176); fill-opacity: 1;\"/><path class=\"point\" transform=\"translate(141.47,216.84)\" d=\"M1,0A1,1 0 1,1 0,-1A1,1 0 0,1 1,0Z\" style=\"opacity: 1; stroke-width: 0px; fill: rgb(76, 114, 176); fill-opacity: 1;\"/><path class=\"point\" transform=\"translate(141.95,242.84)\" d=\"M1,0A1,1 0 1,1 0,-1A1,1 0 0,1 1,0Z\" style=\"opacity: 1; stroke-width: 0px; fill: rgb(76, 114, 176); fill-opacity: 1;\"/><path class=\"point\" transform=\"translate(142.43,217.61)\" d=\"M1,0A1,1 0 1,1 0,-1A1,1 0 0,1 1,0Z\" style=\"opacity: 1; stroke-width: 0px; fill: rgb(76, 114, 176); fill-opacity: 1;\"/><path class=\"point\" transform=\"translate(142.91,226.73)\" d=\"M1,0A1,1 0 1,1 0,-1A1,1 0 0,1 1,0Z\" style=\"opacity: 1; stroke-width: 0px; fill: rgb(76, 114, 176); fill-opacity: 1;\"/><path class=\"point\" transform=\"translate(143.39,213.16)\" d=\"M1,0A1,1 0 1,1 0,-1A1,1 0 0,1 1,0Z\" style=\"opacity: 1; stroke-width: 0px; fill: rgb(76, 114, 176); fill-opacity: 1;\"/><path class=\"point\" transform=\"translate(143.87,231.17)\" d=\"M1,0A1,1 0 1,1 0,-1A1,1 0 0,1 1,0Z\" style=\"opacity: 1; stroke-width: 0px; fill: rgb(76, 114, 176); fill-opacity: 1;\"/><path class=\"point\" transform=\"translate(144.35,215.94)\" d=\"M1,0A1,1 0 1,1 0,-1A1,1 0 0,1 1,0Z\" style=\"opacity: 1; stroke-width: 0px; fill: rgb(76, 114, 176); fill-opacity: 1;\"/><path class=\"point\" transform=\"translate(144.83,243.08)\" d=\"M1,0A1,1 0 1,1 0,-1A1,1 0 0,1 1,0Z\" style=\"opacity: 1; stroke-width: 0px; fill: rgb(76, 114, 176); fill-opacity: 1;\"/><path class=\"point\" transform=\"translate(145.32,232.97)\" d=\"M1,0A1,1 0 1,1 0,-1A1,1 0 0,1 1,0Z\" style=\"opacity: 1; stroke-width: 0px; fill: rgb(76, 114, 176); fill-opacity: 1;\"/><path class=\"point\" transform=\"translate(145.8,231.43)\" d=\"M1,0A1,1 0 1,1 0,-1A1,1 0 0,1 1,0Z\" style=\"opacity: 1; stroke-width: 0px; fill: rgb(76, 114, 176); fill-opacity: 1;\"/><path class=\"point\" transform=\"translate(146.28,227.4)\" d=\"M1,0A1,1 0 1,1 0,-1A1,1 0 0,1 1,0Z\" style=\"opacity: 1; stroke-width: 0px; fill: rgb(76, 114, 176); fill-opacity: 1;\"/><path class=\"point\" transform=\"translate(146.76,237.92)\" d=\"M1,0A1,1 0 1,1 0,-1A1,1 0 0,1 1,0Z\" style=\"opacity: 1; stroke-width: 0px; fill: rgb(76, 114, 176); fill-opacity: 1;\"/><path class=\"point\" transform=\"translate(147.24,220.69)\" d=\"M1,0A1,1 0 1,1 0,-1A1,1 0 0,1 1,0Z\" style=\"opacity: 1; stroke-width: 0px; fill: rgb(76, 114, 176); fill-opacity: 1;\"/><path class=\"point\" transform=\"translate(147.72,207.68)\" d=\"M1,0A1,1 0 1,1 0,-1A1,1 0 0,1 1,0Z\" style=\"opacity: 1; stroke-width: 0px; fill: rgb(76, 114, 176); fill-opacity: 1;\"/><path class=\"point\" transform=\"translate(148.2,208.88)\" d=\"M1,0A1,1 0 1,1 0,-1A1,1 0 0,1 1,0Z\" style=\"opacity: 1; stroke-width: 0px; fill: rgb(76, 114, 176); fill-opacity: 1;\"/><path class=\"point\" transform=\"translate(148.68,229.17)\" d=\"M1,0A1,1 0 1,1 0,-1A1,1 0 0,1 1,0Z\" style=\"opacity: 1; stroke-width: 0px; fill: rgb(76, 114, 176); fill-opacity: 1;\"/><path class=\"point\" transform=\"translate(149.16,216.4)\" d=\"M1,0A1,1 0 1,1 0,-1A1,1 0 0,1 1,0Z\" style=\"opacity: 1; stroke-width: 0px; fill: rgb(76, 114, 176); fill-opacity: 1;\"/><path class=\"point\" transform=\"translate(149.64,214.69)\" d=\"M1,0A1,1 0 1,1 0,-1A1,1 0 0,1 1,0Z\" style=\"opacity: 1; stroke-width: 0px; fill: rgb(76, 114, 176); fill-opacity: 1;\"/><path class=\"point\" transform=\"translate(150.12,218.56)\" d=\"M1,0A1,1 0 1,1 0,-1A1,1 0 0,1 1,0Z\" style=\"opacity: 1; stroke-width: 0px; fill: rgb(76, 114, 176); fill-opacity: 1;\"/><path class=\"point\" transform=\"translate(150.6,209.68)\" d=\"M1,0A1,1 0 1,1 0,-1A1,1 0 0,1 1,0Z\" style=\"opacity: 1; stroke-width: 0px; fill: rgb(76, 114, 176); fill-opacity: 1;\"/><path class=\"point\" transform=\"translate(151.08,226.12)\" d=\"M1,0A1,1 0 1,1 0,-1A1,1 0 0,1 1,0Z\" style=\"opacity: 1; stroke-width: 0px; fill: rgb(76, 114, 176); fill-opacity: 1;\"/><path class=\"point\" transform=\"translate(151.56,222.06)\" d=\"M1,0A1,1 0 1,1 0,-1A1,1 0 0,1 1,0Z\" style=\"opacity: 1; stroke-width: 0px; fill: rgb(76, 114, 176); fill-opacity: 1;\"/><path class=\"point\" transform=\"translate(152.04,210.7)\" d=\"M1,0A1,1 0 1,1 0,-1A1,1 0 0,1 1,0Z\" style=\"opacity: 1; stroke-width: 0px; fill: rgb(76, 114, 176); fill-opacity: 1;\"/><path class=\"point\" transform=\"translate(152.52,228.34)\" d=\"M1,0A1,1 0 1,1 0,-1A1,1 0 0,1 1,0Z\" style=\"opacity: 1; stroke-width: 0px; fill: rgb(76, 114, 176); fill-opacity: 1;\"/><path class=\"point\" transform=\"translate(153,242.66)\" d=\"M1,0A1,1 0 1,1 0,-1A1,1 0 0,1 1,0Z\" style=\"opacity: 1; stroke-width: 0px; fill: rgb(76, 114, 176); fill-opacity: 1;\"/><path class=\"point\" transform=\"translate(153.48,223.22)\" d=\"M1,0A1,1 0 1,1 0,-1A1,1 0 0,1 1,0Z\" style=\"opacity: 1; stroke-width: 0px; fill: rgb(76, 114, 176); fill-opacity: 1;\"/><path class=\"point\" transform=\"translate(153.96,224.01)\" d=\"M1,0A1,1 0 1,1 0,-1A1,1 0 0,1 1,0Z\" style=\"opacity: 1; stroke-width: 0px; fill: rgb(76, 114, 176); fill-opacity: 1;\"/><path class=\"point\" transform=\"translate(154.44,215.31)\" d=\"M1,0A1,1 0 1,1 0,-1A1,1 0 0,1 1,0Z\" style=\"opacity: 1; stroke-width: 0px; fill: rgb(76, 114, 176); fill-opacity: 1;\"/><path class=\"point\" transform=\"translate(154.92,221.74)\" d=\"M1,0A1,1 0 1,1 0,-1A1,1 0 0,1 1,0Z\" style=\"opacity: 1; stroke-width: 0px; fill: rgb(76, 114, 176); fill-opacity: 1;\"/><path class=\"point\" transform=\"translate(155.41,219.57)\" d=\"M1,0A1,1 0 1,1 0,-1A1,1 0 0,1 1,0Z\" style=\"opacity: 1; stroke-width: 0px; fill: rgb(76, 114, 176); fill-opacity: 1;\"/><path class=\"point\" transform=\"translate(155.89,206.16)\" d=\"M1,0A1,1 0 1,1 0,-1A1,1 0 0,1 1,0Z\" style=\"opacity: 1; stroke-width: 0px; fill: rgb(76, 114, 176); fill-opacity: 1;\"/><path class=\"point\" transform=\"translate(156.37,200.19)\" d=\"M1,0A1,1 0 1,1 0,-1A1,1 0 0,1 1,0Z\" style=\"opacity: 1; stroke-width: 0px; fill: rgb(76, 114, 176); fill-opacity: 1;\"/><path class=\"point\" transform=\"translate(156.85,206.35)\" d=\"M1,0A1,1 0 1,1 0,-1A1,1 0 0,1 1,0Z\" style=\"opacity: 1; stroke-width: 0px; fill: rgb(76, 114, 176); fill-opacity: 1;\"/><path class=\"point\" transform=\"translate(157.33,200.53)\" d=\"M1,0A1,1 0 1,1 0,-1A1,1 0 0,1 1,0Z\" style=\"opacity: 1; stroke-width: 0px; fill: rgb(76, 114, 176); fill-opacity: 1;\"/><path class=\"point\" transform=\"translate(157.81,222.62)\" d=\"M1,0A1,1 0 1,1 0,-1A1,1 0 0,1 1,0Z\" style=\"opacity: 1; stroke-width: 0px; fill: rgb(76, 114, 176); fill-opacity: 1;\"/><path class=\"point\" transform=\"translate(158.29,203.69)\" d=\"M1,0A1,1 0 1,1 0,-1A1,1 0 0,1 1,0Z\" style=\"opacity: 1; stroke-width: 0px; fill: rgb(76, 114, 176); fill-opacity: 1;\"/><path class=\"point\" transform=\"translate(158.77,202.11)\" d=\"M1,0A1,1 0 1,1 0,-1A1,1 0 0,1 1,0Z\" style=\"opacity: 1; stroke-width: 0px; fill: rgb(76, 114, 176); fill-opacity: 1;\"/><path class=\"point\" transform=\"translate(159.25,221.98)\" d=\"M1,0A1,1 0 1,1 0,-1A1,1 0 0,1 1,0Z\" style=\"opacity: 1; stroke-width: 0px; fill: rgb(76, 114, 176); fill-opacity: 1;\"/><path class=\"point\" transform=\"translate(159.73,202.85)\" d=\"M1,0A1,1 0 1,1 0,-1A1,1 0 0,1 1,0Z\" style=\"opacity: 1; stroke-width: 0px; fill: rgb(76, 114, 176); fill-opacity: 1;\"/><path class=\"point\" transform=\"translate(160.21,205.6)\" d=\"M1,0A1,1 0 1,1 0,-1A1,1 0 0,1 1,0Z\" style=\"opacity: 1; stroke-width: 0px; fill: rgb(76, 114, 176); fill-opacity: 1;\"/><path class=\"point\" transform=\"translate(160.69,219.42)\" d=\"M1,0A1,1 0 1,1 0,-1A1,1 0 0,1 1,0Z\" style=\"opacity: 1; stroke-width: 0px; fill: rgb(76, 114, 176); fill-opacity: 1;\"/><path class=\"point\" transform=\"translate(161.17,215.15)\" d=\"M1,0A1,1 0 1,1 0,-1A1,1 0 0,1 1,0Z\" style=\"opacity: 1; stroke-width: 0px; fill: rgb(76, 114, 176); fill-opacity: 1;\"/><path class=\"point\" transform=\"translate(161.65,222.92)\" d=\"M1,0A1,1 0 1,1 0,-1A1,1 0 0,1 1,0Z\" style=\"opacity: 1; stroke-width: 0px; fill: rgb(76, 114, 176); fill-opacity: 1;\"/><path class=\"point\" transform=\"translate(162.13,235.07)\" d=\"M1,0A1,1 0 1,1 0,-1A1,1 0 0,1 1,0Z\" style=\"opacity: 1; stroke-width: 0px; fill: rgb(76, 114, 176); fill-opacity: 1;\"/><path class=\"point\" transform=\"translate(162.61,235.77)\" d=\"M1,0A1,1 0 1,1 0,-1A1,1 0 0,1 1,0Z\" style=\"opacity: 1; stroke-width: 0px; fill: rgb(76, 114, 176); fill-opacity: 1;\"/><path class=\"point\" transform=\"translate(163.09,198.06)\" d=\"M1,0A1,1 0 1,1 0,-1A1,1 0 0,1 1,0Z\" style=\"opacity: 1; stroke-width: 0px; fill: rgb(76, 114, 176); fill-opacity: 1;\"/><path class=\"point\" transform=\"translate(163.57,214.81)\" d=\"M1,0A1,1 0 1,1 0,-1A1,1 0 0,1 1,0Z\" style=\"opacity: 1; stroke-width: 0px; fill: rgb(76, 114, 176); fill-opacity: 1;\"/><path class=\"point\" transform=\"translate(164.05,199.37)\" d=\"M1,0A1,1 0 1,1 0,-1A1,1 0 0,1 1,0Z\" style=\"opacity: 1; stroke-width: 0px; fill: rgb(76, 114, 176); fill-opacity: 1;\"/><path class=\"point\" transform=\"translate(164.53,198.85)\" d=\"M1,0A1,1 0 1,1 0,-1A1,1 0 0,1 1,0Z\" style=\"opacity: 1; stroke-width: 0px; fill: rgb(76, 114, 176); fill-opacity: 1;\"/><path class=\"point\" transform=\"translate(165.02,231.36)\" d=\"M1,0A1,1 0 1,1 0,-1A1,1 0 0,1 1,0Z\" style=\"opacity: 1; stroke-width: 0px; fill: rgb(76, 114, 176); fill-opacity: 1;\"/><path class=\"point\" transform=\"translate(165.5,236.06)\" d=\"M1,0A1,1 0 1,1 0,-1A1,1 0 0,1 1,0Z\" style=\"opacity: 1; stroke-width: 0px; fill: rgb(76, 114, 176); fill-opacity: 1;\"/><path class=\"point\" transform=\"translate(165.98,217.67)\" d=\"M1,0A1,1 0 1,1 0,-1A1,1 0 0,1 1,0Z\" style=\"opacity: 1; stroke-width: 0px; fill: rgb(76, 114, 176); fill-opacity: 1;\"/><path class=\"point\" transform=\"translate(166.46,236.27)\" d=\"M1,0A1,1 0 1,1 0,-1A1,1 0 0,1 1,0Z\" style=\"opacity: 1; stroke-width: 0px; fill: rgb(76, 114, 176); fill-opacity: 1;\"/><path class=\"point\" transform=\"translate(166.94,202.72)\" d=\"M1,0A1,1 0 1,1 0,-1A1,1 0 0,1 1,0Z\" style=\"opacity: 1; stroke-width: 0px; fill: rgb(76, 114, 176); fill-opacity: 1;\"/><path class=\"point\" transform=\"translate(167.42,218.1)\" d=\"M1,0A1,1 0 1,1 0,-1A1,1 0 0,1 1,0Z\" style=\"opacity: 1; stroke-width: 0px; fill: rgb(76, 114, 176); fill-opacity: 1;\"/><path class=\"point\" transform=\"translate(167.9,214.74)\" d=\"M1,0A1,1 0 1,1 0,-1A1,1 0 0,1 1,0Z\" style=\"opacity: 1; stroke-width: 0px; fill: rgb(76, 114, 176); fill-opacity: 1;\"/><path class=\"point\" transform=\"translate(168.38,209.52)\" d=\"M1,0A1,1 0 1,1 0,-1A1,1 0 0,1 1,0Z\" style=\"opacity: 1; stroke-width: 0px; fill: rgb(76, 114, 176); fill-opacity: 1;\"/><path class=\"point\" transform=\"translate(168.86,231.7)\" d=\"M1,0A1,1 0 1,1 0,-1A1,1 0 0,1 1,0Z\" style=\"opacity: 1; stroke-width: 0px; fill: rgb(76, 114, 176); fill-opacity: 1;\"/><path class=\"point\" transform=\"translate(169.34,211.85)\" d=\"M1,0A1,1 0 1,1 0,-1A1,1 0 0,1 1,0Z\" style=\"opacity: 1; stroke-width: 0px; fill: rgb(76, 114, 176); fill-opacity: 1;\"/><path class=\"point\" transform=\"translate(169.82,220.56)\" d=\"M1,0A1,1 0 1,1 0,-1A1,1 0 0,1 1,0Z\" style=\"opacity: 1; stroke-width: 0px; fill: rgb(76, 114, 176); fill-opacity: 1;\"/><path class=\"point\" transform=\"translate(170.3,225.57)\" d=\"M1,0A1,1 0 1,1 0,-1A1,1 0 0,1 1,0Z\" style=\"opacity: 1; stroke-width: 0px; fill: rgb(76, 114, 176); fill-opacity: 1;\"/><path class=\"point\" transform=\"translate(170.78,197.44)\" d=\"M1,0A1,1 0 1,1 0,-1A1,1 0 0,1 1,0Z\" style=\"opacity: 1; stroke-width: 0px; fill: rgb(76, 114, 176); fill-opacity: 1;\"/><path class=\"point\" transform=\"translate(171.26,193.76)\" d=\"M1,0A1,1 0 1,1 0,-1A1,1 0 0,1 1,0Z\" style=\"opacity: 1; stroke-width: 0px; fill: rgb(76, 114, 176); fill-opacity: 1;\"/><path class=\"point\" transform=\"translate(171.74,227.5)\" d=\"M1,0A1,1 0 1,1 0,-1A1,1 0 0,1 1,0Z\" style=\"opacity: 1; stroke-width: 0px; fill: rgb(76, 114, 176); fill-opacity: 1;\"/><path class=\"point\" transform=\"translate(172.22,220.32)\" d=\"M1,0A1,1 0 1,1 0,-1A1,1 0 0,1 1,0Z\" style=\"opacity: 1; stroke-width: 0px; fill: rgb(76, 114, 176); fill-opacity: 1;\"/><path class=\"point\" transform=\"translate(172.7,212.16)\" d=\"M1,0A1,1 0 1,1 0,-1A1,1 0 0,1 1,0Z\" style=\"opacity: 1; stroke-width: 0px; fill: rgb(76, 114, 176); fill-opacity: 1;\"/><path class=\"point\" transform=\"translate(173.18,201.58)\" d=\"M1,0A1,1 0 1,1 0,-1A1,1 0 0,1 1,0Z\" style=\"opacity: 1; stroke-width: 0px; fill: rgb(76, 114, 176); fill-opacity: 1;\"/><path class=\"point\" transform=\"translate(173.66,228.54)\" d=\"M1,0A1,1 0 1,1 0,-1A1,1 0 0,1 1,0Z\" style=\"opacity: 1; stroke-width: 0px; fill: rgb(76, 114, 176); fill-opacity: 1;\"/><path class=\"point\" transform=\"translate(174.14,207.14)\" d=\"M1,0A1,1 0 1,1 0,-1A1,1 0 0,1 1,0Z\" style=\"opacity: 1; stroke-width: 0px; fill: rgb(76, 114, 176); fill-opacity: 1;\"/><path class=\"point\" transform=\"translate(174.62,202.07)\" d=\"M1,0A1,1 0 1,1 0,-1A1,1 0 0,1 1,0Z\" style=\"opacity: 1; stroke-width: 0px; fill: rgb(76, 114, 176); fill-opacity: 1;\"/><path class=\"point\" transform=\"translate(175.11,210.14)\" d=\"M1,0A1,1 0 1,1 0,-1A1,1 0 0,1 1,0Z\" style=\"opacity: 1; stroke-width: 0px; fill: rgb(76, 114, 176); fill-opacity: 1;\"/><path class=\"point\" transform=\"translate(175.59,210.67)\" d=\"M1,0A1,1 0 1,1 0,-1A1,1 0 0,1 1,0Z\" style=\"opacity: 1; stroke-width: 0px; fill: rgb(76, 114, 176); fill-opacity: 1;\"/><path class=\"point\" transform=\"translate(176.07,207.34)\" d=\"M1,0A1,1 0 1,1 0,-1A1,1 0 0,1 1,0Z\" style=\"opacity: 1; stroke-width: 0px; fill: rgb(76, 114, 176); fill-opacity: 1;\"/><path class=\"point\" transform=\"translate(176.55,202.34)\" d=\"M1,0A1,1 0 1,1 0,-1A1,1 0 0,1 1,0Z\" style=\"opacity: 1; stroke-width: 0px; fill: rgb(76, 114, 176); fill-opacity: 1;\"/><path class=\"point\" transform=\"translate(177.03,209.95)\" d=\"M1,0A1,1 0 1,1 0,-1A1,1 0 0,1 1,0Z\" style=\"opacity: 1; stroke-width: 0px; fill: rgb(76, 114, 176); fill-opacity: 1;\"/><path class=\"point\" transform=\"translate(177.51,197.57)\" d=\"M1,0A1,1 0 1,1 0,-1A1,1 0 0,1 1,0Z\" style=\"opacity: 1; stroke-width: 0px; fill: rgb(76, 114, 176); fill-opacity: 1;\"/><path class=\"point\" transform=\"translate(177.99,190.4)\" d=\"M1,0A1,1 0 1,1 0,-1A1,1 0 0,1 1,0Z\" style=\"opacity: 1; stroke-width: 0px; fill: rgb(76, 114, 176); fill-opacity: 1;\"/><path class=\"point\" transform=\"translate(178.47,198.53)\" d=\"M1,0A1,1 0 1,1 0,-1A1,1 0 0,1 1,0Z\" style=\"opacity: 1; stroke-width: 0px; fill: rgb(76, 114, 176); fill-opacity: 1;\"/><path class=\"point\" transform=\"translate(178.95,210.86)\" d=\"M1,0A1,1 0 1,1 0,-1A1,1 0 0,1 1,0Z\" style=\"opacity: 1; stroke-width: 0px; fill: rgb(76, 114, 176); fill-opacity: 1;\"/><path class=\"point\" transform=\"translate(179.43,211.79)\" d=\"M1,0A1,1 0 1,1 0,-1A1,1 0 0,1 1,0Z\" style=\"opacity: 1; stroke-width: 0px; fill: rgb(76, 114, 176); fill-opacity: 1;\"/><path class=\"point\" transform=\"translate(179.91,189.93)\" d=\"M1,0A1,1 0 1,1 0,-1A1,1 0 0,1 1,0Z\" style=\"opacity: 1; stroke-width: 0px; fill: rgb(76, 114, 176); fill-opacity: 1;\"/><path class=\"point\" transform=\"translate(180.39,192.86)\" d=\"M1,0A1,1 0 1,1 0,-1A1,1 0 0,1 1,0Z\" style=\"opacity: 1; stroke-width: 0px; fill: rgb(76, 114, 176); fill-opacity: 1;\"/><path class=\"point\" transform=\"translate(180.87,201.21)\" d=\"M1,0A1,1 0 1,1 0,-1A1,1 0 0,1 1,0Z\" style=\"opacity: 1; stroke-width: 0px; fill: rgb(76, 114, 176); fill-opacity: 1;\"/><path class=\"point\" transform=\"translate(181.35,198.62)\" d=\"M1,0A1,1 0 1,1 0,-1A1,1 0 0,1 1,0Z\" style=\"opacity: 1; stroke-width: 0px; fill: rgb(76, 114, 176); fill-opacity: 1;\"/><path class=\"point\" transform=\"translate(181.83,204)\" d=\"M1,0A1,1 0 1,1 0,-1A1,1 0 0,1 1,0Z\" style=\"opacity: 1; stroke-width: 0px; fill: rgb(76, 114, 176); fill-opacity: 1;\"/><path class=\"point\" transform=\"translate(182.31,200.05)\" d=\"M1,0A1,1 0 1,1 0,-1A1,1 0 0,1 1,0Z\" style=\"opacity: 1; stroke-width: 0px; fill: rgb(76, 114, 176); fill-opacity: 1;\"/><path class=\"point\" transform=\"translate(182.79,224.89)\" d=\"M1,0A1,1 0 1,1 0,-1A1,1 0 0,1 1,0Z\" style=\"opacity: 1; stroke-width: 0px; fill: rgb(76, 114, 176); fill-opacity: 1;\"/><path class=\"point\" transform=\"translate(183.27,220.89)\" d=\"M1,0A1,1 0 1,1 0,-1A1,1 0 0,1 1,0Z\" style=\"opacity: 1; stroke-width: 0px; fill: rgb(76, 114, 176); fill-opacity: 1;\"/><path class=\"point\" transform=\"translate(183.75,224.34)\" d=\"M1,0A1,1 0 1,1 0,-1A1,1 0 0,1 1,0Z\" style=\"opacity: 1; stroke-width: 0px; fill: rgb(76, 114, 176); fill-opacity: 1;\"/><path class=\"point\" transform=\"translate(184.23,209.68)\" d=\"M1,0A1,1 0 1,1 0,-1A1,1 0 0,1 1,0Z\" style=\"opacity: 1; stroke-width: 0px; fill: rgb(76, 114, 176); fill-opacity: 1;\"/><path class=\"point\" transform=\"translate(184.71,207.95)\" d=\"M1,0A1,1 0 1,1 0,-1A1,1 0 0,1 1,0Z\" style=\"opacity: 1; stroke-width: 0px; fill: rgb(76, 114, 176); fill-opacity: 1;\"/><path class=\"point\" transform=\"translate(185.2,220.76)\" d=\"M1,0A1,1 0 1,1 0,-1A1,1 0 0,1 1,0Z\" style=\"opacity: 1; stroke-width: 0px; fill: rgb(76, 114, 176); fill-opacity: 1;\"/><path class=\"point\" transform=\"translate(185.68,202.97)\" d=\"M1,0A1,1 0 1,1 0,-1A1,1 0 0,1 1,0Z\" style=\"opacity: 1; stroke-width: 0px; fill: rgb(76, 114, 176); fill-opacity: 1;\"/><path class=\"point\" transform=\"translate(186.16,195.47)\" d=\"M1,0A1,1 0 1,1 0,-1A1,1 0 0,1 1,0Z\" style=\"opacity: 1; stroke-width: 0px; fill: rgb(76, 114, 176); fill-opacity: 1;\"/><path class=\"point\" transform=\"translate(186.64,206.71)\" d=\"M1,0A1,1 0 1,1 0,-1A1,1 0 0,1 1,0Z\" style=\"opacity: 1; stroke-width: 0px; fill: rgb(76, 114, 176); fill-opacity: 1;\"/><path class=\"point\" transform=\"translate(187.12,200.66)\" d=\"M1,0A1,1 0 1,1 0,-1A1,1 0 0,1 1,0Z\" style=\"opacity: 1; stroke-width: 0px; fill: rgb(76, 114, 176); fill-opacity: 1;\"/><path class=\"point\" transform=\"translate(187.6,213.15)\" d=\"M1,0A1,1 0 1,1 0,-1A1,1 0 0,1 1,0Z\" style=\"opacity: 1; stroke-width: 0px; fill: rgb(76, 114, 176); fill-opacity: 1;\"/><path class=\"point\" transform=\"translate(188.08,210.08)\" d=\"M1,0A1,1 0 1,1 0,-1A1,1 0 0,1 1,0Z\" style=\"opacity: 1; stroke-width: 0px; fill: rgb(76, 114, 176); fill-opacity: 1;\"/><path class=\"point\" transform=\"translate(188.56,204.2)\" d=\"M1,0A1,1 0 1,1 0,-1A1,1 0 0,1 1,0Z\" style=\"opacity: 1; stroke-width: 0px; fill: rgb(76, 114, 176); fill-opacity: 1;\"/><path class=\"point\" transform=\"translate(189.04,201.06)\" d=\"M1,0A1,1 0 1,1 0,-1A1,1 0 0,1 1,0Z\" style=\"opacity: 1; stroke-width: 0px; fill: rgb(76, 114, 176); fill-opacity: 1;\"/><path class=\"point\" transform=\"translate(189.52,185.13)\" d=\"M1,0A1,1 0 1,1 0,-1A1,1 0 0,1 1,0Z\" style=\"opacity: 1; stroke-width: 0px; fill: rgb(76, 114, 176); fill-opacity: 1;\"/><path class=\"point\" transform=\"translate(190,200.49)\" d=\"M1,0A1,1 0 1,1 0,-1A1,1 0 0,1 1,0Z\" style=\"opacity: 1; stroke-width: 0px; fill: rgb(76, 114, 176); fill-opacity: 1;\"/><path class=\"point\" transform=\"translate(190.48,209.46)\" d=\"M1,0A1,1 0 1,1 0,-1A1,1 0 0,1 1,0Z\" style=\"opacity: 1; stroke-width: 0px; fill: rgb(76, 114, 176); fill-opacity: 1;\"/><path class=\"point\" transform=\"translate(190.96,216.68)\" d=\"M1,0A1,1 0 1,1 0,-1A1,1 0 0,1 1,0Z\" style=\"opacity: 1; stroke-width: 0px; fill: rgb(76, 114, 176); fill-opacity: 1;\"/><path class=\"point\" transform=\"translate(191.44,202.22)\" d=\"M1,0A1,1 0 1,1 0,-1A1,1 0 0,1 1,0Z\" style=\"opacity: 1; stroke-width: 0px; fill: rgb(76, 114, 176); fill-opacity: 1;\"/><path class=\"point\" transform=\"translate(191.92,202.61)\" d=\"M1,0A1,1 0 1,1 0,-1A1,1 0 0,1 1,0Z\" style=\"opacity: 1; stroke-width: 0px; fill: rgb(76, 114, 176); fill-opacity: 1;\"/><path class=\"point\" transform=\"translate(192.4,204.51)\" d=\"M1,0A1,1 0 1,1 0,-1A1,1 0 0,1 1,0Z\" style=\"opacity: 1; stroke-width: 0px; fill: rgb(76, 114, 176); fill-opacity: 1;\"/><path class=\"point\" transform=\"translate(192.88,197.34)\" d=\"M1,0A1,1 0 1,1 0,-1A1,1 0 0,1 1,0Z\" style=\"opacity: 1; stroke-width: 0px; fill: rgb(76, 114, 176); fill-opacity: 1;\"/><path class=\"point\" transform=\"translate(193.36,186.78)\" d=\"M1,0A1,1 0 1,1 0,-1A1,1 0 0,1 1,0Z\" style=\"opacity: 1; stroke-width: 0px; fill: rgb(76, 114, 176); fill-opacity: 1;\"/><path class=\"point\" transform=\"translate(193.84,204.74)\" d=\"M1,0A1,1 0 1,1 0,-1A1,1 0 0,1 1,0Z\" style=\"opacity: 1; stroke-width: 0px; fill: rgb(76, 114, 176); fill-opacity: 1;\"/><path class=\"point\" transform=\"translate(194.32,221.18)\" d=\"M1,0A1,1 0 1,1 0,-1A1,1 0 0,1 1,0Z\" style=\"opacity: 1; stroke-width: 0px; fill: rgb(76, 114, 176); fill-opacity: 1;\"/><path class=\"point\" transform=\"translate(194.8,203.27)\" d=\"M1,0A1,1 0 1,1 0,-1A1,1 0 0,1 1,0Z\" style=\"opacity: 1; stroke-width: 0px; fill: rgb(76, 114, 176); fill-opacity: 1;\"/><path class=\"point\" transform=\"translate(195.29,200.01)\" d=\"M1,0A1,1 0 1,1 0,-1A1,1 0 0,1 1,0Z\" style=\"opacity: 1; stroke-width: 0px; fill: rgb(76, 114, 176); fill-opacity: 1;\"/><path class=\"point\" transform=\"translate(195.77,217.8)\" d=\"M1,0A1,1 0 1,1 0,-1A1,1 0 0,1 1,0Z\" style=\"opacity: 1; stroke-width: 0px; fill: rgb(76, 114, 176); fill-opacity: 1;\"/><path class=\"point\" transform=\"translate(196.25,194.07)\" d=\"M1,0A1,1 0 1,1 0,-1A1,1 0 0,1 1,0Z\" style=\"opacity: 1; stroke-width: 0px; fill: rgb(76, 114, 176); fill-opacity: 1;\"/><path class=\"point\" transform=\"translate(196.73,219.8)\" d=\"M1,0A1,1 0 1,1 0,-1A1,1 0 0,1 1,0Z\" style=\"opacity: 1; stroke-width: 0px; fill: rgb(76, 114, 176); fill-opacity: 1;\"/><path class=\"point\" transform=\"translate(197.21,197.82)\" d=\"M1,0A1,1 0 1,1 0,-1A1,1 0 0,1 1,0Z\" style=\"opacity: 1; stroke-width: 0px; fill: rgb(76, 114, 176); fill-opacity: 1;\"/><path class=\"point\" transform=\"translate(197.69,205.2)\" d=\"M1,0A1,1 0 1,1 0,-1A1,1 0 0,1 1,0Z\" style=\"opacity: 1; stroke-width: 0px; fill: rgb(76, 114, 176); fill-opacity: 1;\"/><path class=\"point\" transform=\"translate(198.17,196.57)\" d=\"M1,0A1,1 0 1,1 0,-1A1,1 0 0,1 1,0Z\" style=\"opacity: 1; stroke-width: 0px; fill: rgb(76, 114, 176); fill-opacity: 1;\"/><path class=\"point\" transform=\"translate(198.65,208.89)\" d=\"M1,0A1,1 0 1,1 0,-1A1,1 0 0,1 1,0Z\" style=\"opacity: 1; stroke-width: 0px; fill: rgb(76, 114, 176); fill-opacity: 1;\"/><path class=\"point\" transform=\"translate(199.13,207.02)\" d=\"M1,0A1,1 0 1,1 0,-1A1,1 0 0,1 1,0Z\" style=\"opacity: 1; stroke-width: 0px; fill: rgb(76, 114, 176); fill-opacity: 1;\"/><path class=\"point\" transform=\"translate(199.61,195.54)\" d=\"M1,0A1,1 0 1,1 0,-1A1,1 0 0,1 1,0Z\" style=\"opacity: 1; stroke-width: 0px; fill: rgb(76, 114, 176); fill-opacity: 1;\"/><path class=\"point\" transform=\"translate(200.09,188.98)\" d=\"M1,0A1,1 0 1,1 0,-1A1,1 0 0,1 1,0Z\" style=\"opacity: 1; stroke-width: 0px; fill: rgb(76, 114, 176); fill-opacity: 1;\"/><path class=\"point\" transform=\"translate(200.57,194.15)\" d=\"M1,0A1,1 0 1,1 0,-1A1,1 0 0,1 1,0Z\" style=\"opacity: 1; stroke-width: 0px; fill: rgb(76, 114, 176); fill-opacity: 1;\"/><path class=\"point\" transform=\"translate(201.05,195.68)\" d=\"M1,0A1,1 0 1,1 0,-1A1,1 0 0,1 1,0Z\" style=\"opacity: 1; stroke-width: 0px; fill: rgb(76, 114, 176); fill-opacity: 1;\"/><path class=\"point\" transform=\"translate(201.53,202.83)\" d=\"M1,0A1,1 0 1,1 0,-1A1,1 0 0,1 1,0Z\" style=\"opacity: 1; stroke-width: 0px; fill: rgb(76, 114, 176); fill-opacity: 1;\"/><path class=\"point\" transform=\"translate(202.01,184.26)\" d=\"M1,0A1,1 0 1,1 0,-1A1,1 0 0,1 1,0Z\" style=\"opacity: 1; stroke-width: 0px; fill: rgb(76, 114, 176); fill-opacity: 1;\"/><path class=\"point\" transform=\"translate(202.49,212.02)\" d=\"M1,0A1,1 0 1,1 0,-1A1,1 0 0,1 1,0Z\" style=\"opacity: 1; stroke-width: 0px; fill: rgb(76, 114, 176); fill-opacity: 1;\"/><path class=\"point\" transform=\"translate(202.97,185.55)\" d=\"M1,0A1,1 0 1,1 0,-1A1,1 0 0,1 1,0Z\" style=\"opacity: 1; stroke-width: 0px; fill: rgb(76, 114, 176); fill-opacity: 1;\"/><path class=\"point\" transform=\"translate(203.45,210.13)\" d=\"M1,0A1,1 0 1,1 0,-1A1,1 0 0,1 1,0Z\" style=\"opacity: 1; stroke-width: 0px; fill: rgb(76, 114, 176); fill-opacity: 1;\"/><path class=\"point\" transform=\"translate(203.93,185.77)\" d=\"M1,0A1,1 0 1,1 0,-1A1,1 0 0,1 1,0Z\" style=\"opacity: 1; stroke-width: 0px; fill: rgb(76, 114, 176); fill-opacity: 1;\"/><path class=\"point\" transform=\"translate(204.41,212.34)\" d=\"M1,0A1,1 0 1,1 0,-1A1,1 0 0,1 1,0Z\" style=\"opacity: 1; stroke-width: 0px; fill: rgb(76, 114, 176); fill-opacity: 1;\"/><path class=\"point\" transform=\"translate(204.89,197.54)\" d=\"M1,0A1,1 0 1,1 0,-1A1,1 0 0,1 1,0Z\" style=\"opacity: 1; stroke-width: 0px; fill: rgb(76, 114, 176); fill-opacity: 1;\"/><path class=\"point\" transform=\"translate(205.38,190.65)\" d=\"M1,0A1,1 0 1,1 0,-1A1,1 0 0,1 1,0Z\" style=\"opacity: 1; stroke-width: 0px; fill: rgb(76, 114, 176); fill-opacity: 1;\"/><path class=\"point\" transform=\"translate(205.86,192.11)\" d=\"M1,0A1,1 0 1,1 0,-1A1,1 0 0,1 1,0Z\" style=\"opacity: 1; stroke-width: 0px; fill: rgb(76, 114, 176); fill-opacity: 1;\"/><path class=\"point\" transform=\"translate(206.34,211.74)\" d=\"M1,0A1,1 0 1,1 0,-1A1,1 0 0,1 1,0Z\" style=\"opacity: 1; stroke-width: 0px; fill: rgb(76, 114, 176); fill-opacity: 1;\"/><path class=\"point\" transform=\"translate(206.82,194.83)\" d=\"M1,0A1,1 0 1,1 0,-1A1,1 0 0,1 1,0Z\" style=\"opacity: 1; stroke-width: 0px; fill: rgb(76, 114, 176); fill-opacity: 1;\"/><path class=\"point\" transform=\"translate(207.3,196.77)\" d=\"M1,0A1,1 0 1,1 0,-1A1,1 0 0,1 1,0Z\" style=\"opacity: 1; stroke-width: 0px; fill: rgb(76, 114, 176); fill-opacity: 1;\"/><path class=\"point\" transform=\"translate(207.78,189.08)\" d=\"M1,0A1,1 0 1,1 0,-1A1,1 0 0,1 1,0Z\" style=\"opacity: 1; stroke-width: 0px; fill: rgb(76, 114, 176); fill-opacity: 1;\"/><path class=\"point\" transform=\"translate(208.26,205.01)\" d=\"M1,0A1,1 0 1,1 0,-1A1,1 0 0,1 1,0Z\" style=\"opacity: 1; stroke-width: 0px; fill: rgb(76, 114, 176); fill-opacity: 1;\"/><path class=\"point\" transform=\"translate(208.74,173.53)\" d=\"M1,0A1,1 0 1,1 0,-1A1,1 0 0,1 1,0Z\" style=\"opacity: 1; stroke-width: 0px; fill: rgb(76, 114, 176); fill-opacity: 1;\"/><path class=\"point\" transform=\"translate(209.22,186.13)\" d=\"M1,0A1,1 0 1,1 0,-1A1,1 0 0,1 1,0Z\" style=\"opacity: 1; stroke-width: 0px; fill: rgb(76, 114, 176); fill-opacity: 1;\"/><path class=\"point\" transform=\"translate(209.7,208.76)\" d=\"M1,0A1,1 0 1,1 0,-1A1,1 0 0,1 1,0Z\" style=\"opacity: 1; stroke-width: 0px; fill: rgb(76, 114, 176); fill-opacity: 1;\"/><path class=\"point\" transform=\"translate(210.18,208.78)\" d=\"M1,0A1,1 0 1,1 0,-1A1,1 0 0,1 1,0Z\" style=\"opacity: 1; stroke-width: 0px; fill: rgb(76, 114, 176); fill-opacity: 1;\"/><path class=\"point\" transform=\"translate(210.66,187.57)\" d=\"M1,0A1,1 0 1,1 0,-1A1,1 0 0,1 1,0Z\" style=\"opacity: 1; stroke-width: 0px; fill: rgb(76, 114, 176); fill-opacity: 1;\"/><path class=\"point\" transform=\"translate(211.14,187.18)\" d=\"M1,0A1,1 0 1,1 0,-1A1,1 0 0,1 1,0Z\" style=\"opacity: 1; stroke-width: 0px; fill: rgb(76, 114, 176); fill-opacity: 1;\"/><path class=\"point\" transform=\"translate(211.62,172.41)\" d=\"M1,0A1,1 0 1,1 0,-1A1,1 0 0,1 1,0Z\" style=\"opacity: 1; stroke-width: 0px; fill: rgb(76, 114, 176); fill-opacity: 1;\"/><path class=\"point\" transform=\"translate(212.1,209.16)\" d=\"M1,0A1,1 0 1,1 0,-1A1,1 0 0,1 1,0Z\" style=\"opacity: 1; stroke-width: 0px; fill: rgb(76, 114, 176); fill-opacity: 1;\"/><path class=\"point\" transform=\"translate(212.58,189.48)\" d=\"M1,0A1,1 0 1,1 0,-1A1,1 0 0,1 1,0Z\" style=\"opacity: 1; stroke-width: 0px; fill: rgb(76, 114, 176); fill-opacity: 1;\"/><path class=\"point\" transform=\"translate(213.06,186.49)\" d=\"M1,0A1,1 0 1,1 0,-1A1,1 0 0,1 1,0Z\" style=\"opacity: 1; stroke-width: 0px; fill: rgb(76, 114, 176); fill-opacity: 1;\"/><path class=\"point\" transform=\"translate(213.54,202.43)\" d=\"M1,0A1,1 0 1,1 0,-1A1,1 0 0,1 1,0Z\" style=\"opacity: 1; stroke-width: 0px; fill: rgb(76, 114, 176); fill-opacity: 1;\"/><path class=\"point\" transform=\"translate(214.02,205.16)\" d=\"M1,0A1,1 0 1,1 0,-1A1,1 0 0,1 1,0Z\" style=\"opacity: 1; stroke-width: 0px; fill: rgb(76, 114, 176); fill-opacity: 1;\"/><path class=\"point\" transform=\"translate(214.5,193.59)\" d=\"M1,0A1,1 0 1,1 0,-1A1,1 0 0,1 1,0Z\" style=\"opacity: 1; stroke-width: 0px; fill: rgb(76, 114, 176); fill-opacity: 1;\"/><path class=\"point\" transform=\"translate(214.98,172.86)\" d=\"M1,0A1,1 0 1,1 0,-1A1,1 0 0,1 1,0Z\" style=\"opacity: 1; stroke-width: 0px; fill: rgb(76, 114, 176); fill-opacity: 1;\"/><path class=\"point\" transform=\"translate(215.47,183.1)\" d=\"M1,0A1,1 0 1,1 0,-1A1,1 0 0,1 1,0Z\" style=\"opacity: 1; stroke-width: 0px; fill: rgb(76, 114, 176); fill-opacity: 1;\"/><path class=\"point\" transform=\"translate(215.95,185.92)\" d=\"M1,0A1,1 0 1,1 0,-1A1,1 0 0,1 1,0Z\" style=\"opacity: 1; stroke-width: 0px; fill: rgb(76, 114, 176); fill-opacity: 1;\"/><path class=\"point\" transform=\"translate(216.43,176.15)\" d=\"M1,0A1,1 0 1,1 0,-1A1,1 0 0,1 1,0Z\" style=\"opacity: 1; stroke-width: 0px; fill: rgb(76, 114, 176); fill-opacity: 1;\"/><path class=\"point\" transform=\"translate(216.91,169.27)\" d=\"M1,0A1,1 0 1,1 0,-1A1,1 0 0,1 1,0Z\" style=\"opacity: 1; stroke-width: 0px; fill: rgb(76, 114, 176); fill-opacity: 1;\"/><path class=\"point\" transform=\"translate(217.39,182.75)\" d=\"M1,0A1,1 0 1,1 0,-1A1,1 0 0,1 1,0Z\" style=\"opacity: 1; stroke-width: 0px; fill: rgb(76, 114, 176); fill-opacity: 1;\"/><path class=\"point\" transform=\"translate(217.87,191.35)\" d=\"M1,0A1,1 0 1,1 0,-1A1,1 0 0,1 1,0Z\" style=\"opacity: 1; stroke-width: 0px; fill: rgb(76, 114, 176); fill-opacity: 1;\"/><path class=\"point\" transform=\"translate(218.35,199.93)\" d=\"M1,0A1,1 0 1,1 0,-1A1,1 0 0,1 1,0Z\" style=\"opacity: 1; stroke-width: 0px; fill: rgb(76, 114, 176); fill-opacity: 1;\"/><path class=\"point\" transform=\"translate(218.83,176.86)\" d=\"M1,0A1,1 0 1,1 0,-1A1,1 0 0,1 1,0Z\" style=\"opacity: 1; stroke-width: 0px; fill: rgb(76, 114, 176); fill-opacity: 1;\"/><path class=\"point\" transform=\"translate(219.31,190.26)\" d=\"M1,0A1,1 0 1,1 0,-1A1,1 0 0,1 1,0Z\" style=\"opacity: 1; stroke-width: 0px; fill: rgb(76, 114, 176); fill-opacity: 1;\"/><path class=\"point\" transform=\"translate(219.79,190.64)\" d=\"M1,0A1,1 0 1,1 0,-1A1,1 0 0,1 1,0Z\" style=\"opacity: 1; stroke-width: 0px; fill: rgb(76, 114, 176); fill-opacity: 1;\"/><path class=\"point\" transform=\"translate(220.27,198.04)\" d=\"M1,0A1,1 0 1,1 0,-1A1,1 0 0,1 1,0Z\" style=\"opacity: 1; stroke-width: 0px; fill: rgb(76, 114, 176); fill-opacity: 1;\"/><path class=\"point\" transform=\"translate(220.75,196.75)\" d=\"M1,0A1,1 0 1,1 0,-1A1,1 0 0,1 1,0Z\" style=\"opacity: 1; stroke-width: 0px; fill: rgb(76, 114, 176); fill-opacity: 1;\"/><path class=\"point\" transform=\"translate(221.23,198.08)\" d=\"M1,0A1,1 0 1,1 0,-1A1,1 0 0,1 1,0Z\" style=\"opacity: 1; stroke-width: 0px; fill: rgb(76, 114, 176); fill-opacity: 1;\"/><path class=\"point\" transform=\"translate(221.71,169.95)\" d=\"M1,0A1,1 0 1,1 0,-1A1,1 0 0,1 1,0Z\" style=\"opacity: 1; stroke-width: 0px; fill: rgb(76, 114, 176); fill-opacity: 1;\"/><path class=\"point\" transform=\"translate(222.19,183.98)\" d=\"M1,0A1,1 0 1,1 0,-1A1,1 0 0,1 1,0Z\" style=\"opacity: 1; stroke-width: 0px; fill: rgb(76, 114, 176); fill-opacity: 1;\"/><path class=\"point\" transform=\"translate(222.67,188.38)\" d=\"M1,0A1,1 0 1,1 0,-1A1,1 0 0,1 1,0Z\" style=\"opacity: 1; stroke-width: 0px; fill: rgb(76, 114, 176); fill-opacity: 1;\"/><path class=\"point\" transform=\"translate(223.15,191.33)\" d=\"M1,0A1,1 0 1,1 0,-1A1,1 0 0,1 1,0Z\" style=\"opacity: 1; stroke-width: 0px; fill: rgb(76, 114, 176); fill-opacity: 1;\"/><path class=\"point\" transform=\"translate(223.63,199.69)\" d=\"M1,0A1,1 0 1,1 0,-1A1,1 0 0,1 1,0Z\" style=\"opacity: 1; stroke-width: 0px; fill: rgb(76, 114, 176); fill-opacity: 1;\"/><path class=\"point\" transform=\"translate(224.11,199.58)\" d=\"M1,0A1,1 0 1,1 0,-1A1,1 0 0,1 1,0Z\" style=\"opacity: 1; stroke-width: 0px; fill: rgb(76, 114, 176); fill-opacity: 1;\"/><path class=\"point\" transform=\"translate(224.59,192.6)\" d=\"M1,0A1,1 0 1,1 0,-1A1,1 0 0,1 1,0Z\" style=\"opacity: 1; stroke-width: 0px; fill: rgb(76, 114, 176); fill-opacity: 1;\"/><path class=\"point\" transform=\"translate(225.08,203.95)\" d=\"M1,0A1,1 0 1,1 0,-1A1,1 0 0,1 1,0Z\" style=\"opacity: 1; stroke-width: 0px; fill: rgb(76, 114, 176); fill-opacity: 1;\"/><path class=\"point\" transform=\"translate(225.56,173.46)\" d=\"M1,0A1,1 0 1,1 0,-1A1,1 0 0,1 1,0Z\" style=\"opacity: 1; stroke-width: 0px; fill: rgb(76, 114, 176); fill-opacity: 1;\"/><path class=\"point\" transform=\"translate(226.04,200.19)\" d=\"M1,0A1,1 0 1,1 0,-1A1,1 0 0,1 1,0Z\" style=\"opacity: 1; stroke-width: 0px; fill: rgb(76, 114, 176); fill-opacity: 1;\"/><path class=\"point\" transform=\"translate(226.52,199.82)\" d=\"M1,0A1,1 0 1,1 0,-1A1,1 0 0,1 1,0Z\" style=\"opacity: 1; stroke-width: 0px; fill: rgb(76, 114, 176); fill-opacity: 1;\"/><path class=\"point\" transform=\"translate(227,199.27)\" d=\"M1,0A1,1 0 1,1 0,-1A1,1 0 0,1 1,0Z\" style=\"opacity: 1; stroke-width: 0px; fill: rgb(76, 114, 176); fill-opacity: 1;\"/><path class=\"point\" transform=\"translate(227.48,194.02)\" d=\"M1,0A1,1 0 1,1 0,-1A1,1 0 0,1 1,0Z\" style=\"opacity: 1; stroke-width: 0px; fill: rgb(76, 114, 176); fill-opacity: 1;\"/><path class=\"point\" transform=\"translate(227.96,199.19)\" d=\"M1,0A1,1 0 1,1 0,-1A1,1 0 0,1 1,0Z\" style=\"opacity: 1; stroke-width: 0px; fill: rgb(76, 114, 176); fill-opacity: 1;\"/><path class=\"point\" transform=\"translate(228.44,162.41)\" d=\"M1,0A1,1 0 1,1 0,-1A1,1 0 0,1 1,0Z\" style=\"opacity: 1; stroke-width: 0px; fill: rgb(76, 114, 176); fill-opacity: 1;\"/><path class=\"point\" transform=\"translate(228.92,166.37)\" d=\"M1,0A1,1 0 1,1 0,-1A1,1 0 0,1 1,0Z\" style=\"opacity: 1; stroke-width: 0px; fill: rgb(76, 114, 176); fill-opacity: 1;\"/><path class=\"point\" transform=\"translate(229.4,190.84)\" d=\"M1,0A1,1 0 1,1 0,-1A1,1 0 0,1 1,0Z\" style=\"opacity: 1; stroke-width: 0px; fill: rgb(76, 114, 176); fill-opacity: 1;\"/><path class=\"point\" transform=\"translate(229.88,182.14)\" d=\"M1,0A1,1 0 1,1 0,-1A1,1 0 0,1 1,0Z\" style=\"opacity: 1; stroke-width: 0px; fill: rgb(76, 114, 176); fill-opacity: 1;\"/><path class=\"point\" transform=\"translate(230.36,161.61)\" d=\"M1,0A1,1 0 1,1 0,-1A1,1 0 0,1 1,0Z\" style=\"opacity: 1; stroke-width: 0px; fill: rgb(76, 114, 176); fill-opacity: 1;\"/><path class=\"point\" transform=\"translate(230.84,184.69)\" d=\"M1,0A1,1 0 1,1 0,-1A1,1 0 0,1 1,0Z\" style=\"opacity: 1; stroke-width: 0px; fill: rgb(76, 114, 176); fill-opacity: 1;\"/><path class=\"point\" transform=\"translate(231.32,201.44)\" d=\"M1,0A1,1 0 1,1 0,-1A1,1 0 0,1 1,0Z\" style=\"opacity: 1; stroke-width: 0px; fill: rgb(76, 114, 176); fill-opacity: 1;\"/><path class=\"point\" transform=\"translate(231.8,171.65)\" d=\"M1,0A1,1 0 1,1 0,-1A1,1 0 0,1 1,0Z\" style=\"opacity: 1; stroke-width: 0px; fill: rgb(76, 114, 176); fill-opacity: 1;\"/><path class=\"point\" transform=\"translate(232.28,162.24)\" d=\"M1,0A1,1 0 1,1 0,-1A1,1 0 0,1 1,0Z\" style=\"opacity: 1; stroke-width: 0px; fill: rgb(76, 114, 176); fill-opacity: 1;\"/><path class=\"point\" transform=\"translate(232.76,190.58)\" d=\"M1,0A1,1 0 1,1 0,-1A1,1 0 0,1 1,0Z\" style=\"opacity: 1; stroke-width: 0px; fill: rgb(76, 114, 176); fill-opacity: 1;\"/><path class=\"point\" transform=\"translate(233.24,182.47)\" d=\"M1,0A1,1 0 1,1 0,-1A1,1 0 0,1 1,0Z\" style=\"opacity: 1; stroke-width: 0px; fill: rgb(76, 114, 176); fill-opacity: 1;\"/><path class=\"point\" transform=\"translate(233.72,195.77)\" d=\"M1,0A1,1 0 1,1 0,-1A1,1 0 0,1 1,0Z\" style=\"opacity: 1; stroke-width: 0px; fill: rgb(76, 114, 176); fill-opacity: 1;\"/><path class=\"point\" transform=\"translate(234.2,159.84)\" d=\"M1,0A1,1 0 1,1 0,-1A1,1 0 0,1 1,0Z\" style=\"opacity: 1; stroke-width: 0px; fill: rgb(76, 114, 176); fill-opacity: 1;\"/><path class=\"point\" transform=\"translate(234.68,192.81)\" d=\"M1,0A1,1 0 1,1 0,-1A1,1 0 0,1 1,0Z\" style=\"opacity: 1; stroke-width: 0px; fill: rgb(76, 114, 176); fill-opacity: 1;\"/><path class=\"point\" transform=\"translate(235.17,196.57)\" d=\"M1,0A1,1 0 1,1 0,-1A1,1 0 0,1 1,0Z\" style=\"opacity: 1; stroke-width: 0px; fill: rgb(76, 114, 176); fill-opacity: 1;\"/><path class=\"point\" transform=\"translate(235.65,180.96)\" d=\"M1,0A1,1 0 1,1 0,-1A1,1 0 0,1 1,0Z\" style=\"opacity: 1; stroke-width: 0px; fill: rgb(76, 114, 176); fill-opacity: 1;\"/><path class=\"point\" transform=\"translate(236.13,169.48)\" d=\"M1,0A1,1 0 1,1 0,-1A1,1 0 0,1 1,0Z\" style=\"opacity: 1; stroke-width: 0px; fill: rgb(76, 114, 176); fill-opacity: 1;\"/><path class=\"point\" transform=\"translate(236.61,190.55)\" d=\"M1,0A1,1 0 1,1 0,-1A1,1 0 0,1 1,0Z\" style=\"opacity: 1; stroke-width: 0px; fill: rgb(76, 114, 176); fill-opacity: 1;\"/><path class=\"point\" transform=\"translate(237.09,158.61)\" d=\"M1,0A1,1 0 1,1 0,-1A1,1 0 0,1 1,0Z\" style=\"opacity: 1; stroke-width: 0px; fill: rgb(76, 114, 176); fill-opacity: 1;\"/><path class=\"point\" transform=\"translate(237.57,182.07)\" d=\"M1,0A1,1 0 1,1 0,-1A1,1 0 0,1 1,0Z\" style=\"opacity: 1; stroke-width: 0px; fill: rgb(76, 114, 176); fill-opacity: 1;\"/><path class=\"point\" transform=\"translate(238.05,193.47)\" d=\"M1,0A1,1 0 1,1 0,-1A1,1 0 0,1 1,0Z\" style=\"opacity: 1; stroke-width: 0px; fill: rgb(76, 114, 176); fill-opacity: 1;\"/><path class=\"point\" transform=\"translate(238.53,180.99)\" d=\"M1,0A1,1 0 1,1 0,-1A1,1 0 0,1 1,0Z\" style=\"opacity: 1; stroke-width: 0px; fill: rgb(76, 114, 176); fill-opacity: 1;\"/><path class=\"point\" transform=\"translate(239.01,161.25)\" d=\"M1,0A1,1 0 1,1 0,-1A1,1 0 0,1 1,0Z\" style=\"opacity: 1; stroke-width: 0px; fill: rgb(76, 114, 176); fill-opacity: 1;\"/><path class=\"point\" transform=\"translate(239.49,192.35)\" d=\"M1,0A1,1 0 1,1 0,-1A1,1 0 0,1 1,0Z\" style=\"opacity: 1; stroke-width: 0px; fill: rgb(76, 114, 176); fill-opacity: 1;\"/><path class=\"point\" transform=\"translate(239.97,182.66)\" d=\"M1,0A1,1 0 1,1 0,-1A1,1 0 0,1 1,0Z\" style=\"opacity: 1; stroke-width: 0px; fill: rgb(76, 114, 176); fill-opacity: 1;\"/><path class=\"point\" transform=\"translate(240.45,171.64)\" d=\"M1,0A1,1 0 1,1 0,-1A1,1 0 0,1 1,0Z\" style=\"opacity: 1; stroke-width: 0px; fill: rgb(76, 114, 176); fill-opacity: 1;\"/><path class=\"point\" transform=\"translate(240.93,156.34)\" d=\"M1,0A1,1 0 1,1 0,-1A1,1 0 0,1 1,0Z\" style=\"opacity: 1; stroke-width: 0px; fill: rgb(76, 114, 176); fill-opacity: 1;\"/><path class=\"point\" transform=\"translate(241.41,159.75)\" d=\"M1,0A1,1 0 1,1 0,-1A1,1 0 0,1 1,0Z\" style=\"opacity: 1; stroke-width: 0px; fill: rgb(76, 114, 176); fill-opacity: 1;\"/><path class=\"point\" transform=\"translate(241.89,166.94)\" d=\"M1,0A1,1 0 1,1 0,-1A1,1 0 0,1 1,0Z\" style=\"opacity: 1; stroke-width: 0px; fill: rgb(76, 114, 176); fill-opacity: 1;\"/><path class=\"point\" transform=\"translate(242.37,176.65)\" d=\"M1,0A1,1 0 1,1 0,-1A1,1 0 0,1 1,0Z\" style=\"opacity: 1; stroke-width: 0px; fill: rgb(76, 114, 176); fill-opacity: 1;\"/><path class=\"point\" transform=\"translate(242.85,179.52)\" d=\"M1,0A1,1 0 1,1 0,-1A1,1 0 0,1 1,0Z\" style=\"opacity: 1; stroke-width: 0px; fill: rgb(76, 114, 176); fill-opacity: 1;\"/><path class=\"point\" transform=\"translate(243.33,181.58)\" d=\"M1,0A1,1 0 1,1 0,-1A1,1 0 0,1 1,0Z\" style=\"opacity: 1; stroke-width: 0px; fill: rgb(76, 114, 176); fill-opacity: 1;\"/><path class=\"point\" transform=\"translate(243.81,190.75)\" d=\"M1,0A1,1 0 1,1 0,-1A1,1 0 0,1 1,0Z\" style=\"opacity: 1; stroke-width: 0px; fill: rgb(76, 114, 176); fill-opacity: 1;\"/><path class=\"point\" transform=\"translate(244.29,163.05)\" d=\"M1,0A1,1 0 1,1 0,-1A1,1 0 0,1 1,0Z\" style=\"opacity: 1; stroke-width: 0px; fill: rgb(76, 114, 176); fill-opacity: 1;\"/><path class=\"point\" transform=\"translate(244.77,165.46)\" d=\"M1,0A1,1 0 1,1 0,-1A1,1 0 0,1 1,0Z\" style=\"opacity: 1; stroke-width: 0px; fill: rgb(76, 114, 176); fill-opacity: 1;\"/><path class=\"point\" transform=\"translate(245.26,168.74)\" d=\"M1,0A1,1 0 1,1 0,-1A1,1 0 0,1 1,0Z\" style=\"opacity: 1; stroke-width: 0px; fill: rgb(76, 114, 176); fill-opacity: 1;\"/><path class=\"point\" transform=\"translate(245.74,174.4)\" d=\"M1,0A1,1 0 1,1 0,-1A1,1 0 0,1 1,0Z\" style=\"opacity: 1; stroke-width: 0px; fill: rgb(76, 114, 176); fill-opacity: 1;\"/><path class=\"point\" transform=\"translate(246.22,183.38)\" d=\"M1,0A1,1 0 1,1 0,-1A1,1 0 0,1 1,0Z\" style=\"opacity: 1; stroke-width: 0px; fill: rgb(76, 114, 176); fill-opacity: 1;\"/><path class=\"point\" transform=\"translate(246.7,152.6)\" d=\"M1,0A1,1 0 1,1 0,-1A1,1 0 0,1 1,0Z\" style=\"opacity: 1; stroke-width: 0px; fill: rgb(76, 114, 176); fill-opacity: 1;\"/><path class=\"point\" transform=\"translate(247.18,171.59)\" d=\"M1,0A1,1 0 1,1 0,-1A1,1 0 0,1 1,0Z\" style=\"opacity: 1; stroke-width: 0px; fill: rgb(76, 114, 176); fill-opacity: 1;\"/><path class=\"point\" transform=\"translate(247.66,185.26)\" d=\"M1,0A1,1 0 1,1 0,-1A1,1 0 0,1 1,0Z\" style=\"opacity: 1; stroke-width: 0px; fill: rgb(76, 114, 176); fill-opacity: 1;\"/><path class=\"point\" transform=\"translate(248.14,165.33)\" d=\"M1,0A1,1 0 1,1 0,-1A1,1 0 0,1 1,0Z\" style=\"opacity: 1; stroke-width: 0px; fill: rgb(76, 114, 176); fill-opacity: 1;\"/><path class=\"point\" transform=\"translate(248.62,182.16)\" d=\"M1,0A1,1 0 1,1 0,-1A1,1 0 0,1 1,0Z\" style=\"opacity: 1; stroke-width: 0px; fill: rgb(76, 114, 176); fill-opacity: 1;\"/><path class=\"point\" transform=\"translate(249.1,178.51)\" d=\"M1,0A1,1 0 1,1 0,-1A1,1 0 0,1 1,0Z\" style=\"opacity: 1; stroke-width: 0px; fill: rgb(76, 114, 176); fill-opacity: 1;\"/><path class=\"point\" transform=\"translate(249.58,152.34)\" d=\"M1,0A1,1 0 1,1 0,-1A1,1 0 0,1 1,0Z\" style=\"opacity: 1; stroke-width: 0px; fill: rgb(76, 114, 176); fill-opacity: 1;\"/><path class=\"point\" transform=\"translate(250.06,159.26)\" d=\"M1,0A1,1 0 1,1 0,-1A1,1 0 0,1 1,0Z\" style=\"opacity: 1; stroke-width: 0px; fill: rgb(76, 114, 176); fill-opacity: 1;\"/><path class=\"point\" transform=\"translate(250.54,177.67)\" d=\"M1,0A1,1 0 1,1 0,-1A1,1 0 0,1 1,0Z\" style=\"opacity: 1; stroke-width: 0px; fill: rgb(76, 114, 176); fill-opacity: 1;\"/><path class=\"point\" transform=\"translate(251.02,190.27)\" d=\"M1,0A1,1 0 1,1 0,-1A1,1 0 0,1 1,0Z\" style=\"opacity: 1; stroke-width: 0px; fill: rgb(76, 114, 176); fill-opacity: 1;\"/><path class=\"point\" transform=\"translate(251.5,150.18)\" d=\"M1,0A1,1 0 1,1 0,-1A1,1 0 0,1 1,0Z\" style=\"opacity: 1; stroke-width: 0px; fill: rgb(76, 114, 176); fill-opacity: 1;\"/><path class=\"point\" transform=\"translate(251.98,155.26)\" d=\"M1,0A1,1 0 1,1 0,-1A1,1 0 0,1 1,0Z\" style=\"opacity: 1; stroke-width: 0px; fill: rgb(76, 114, 176); fill-opacity: 1;\"/><path class=\"point\" transform=\"translate(252.46,165.77)\" d=\"M1,0A1,1 0 1,1 0,-1A1,1 0 0,1 1,0Z\" style=\"opacity: 1; stroke-width: 0px; fill: rgb(76, 114, 176); fill-opacity: 1;\"/><path class=\"point\" transform=\"translate(252.94,180.72)\" d=\"M1,0A1,1 0 1,1 0,-1A1,1 0 0,1 1,0Z\" style=\"opacity: 1; stroke-width: 0px; fill: rgb(76, 114, 176); fill-opacity: 1;\"/><path class=\"point\" transform=\"translate(253.42,155.57)\" d=\"M1,0A1,1 0 1,1 0,-1A1,1 0 0,1 1,0Z\" style=\"opacity: 1; stroke-width: 0px; fill: rgb(76, 114, 176); fill-opacity: 1;\"/><path class=\"point\" transform=\"translate(253.9,154.72)\" d=\"M1,0A1,1 0 1,1 0,-1A1,1 0 0,1 1,0Z\" style=\"opacity: 1; stroke-width: 0px; fill: rgb(76, 114, 176); fill-opacity: 1;\"/><path class=\"point\" transform=\"translate(254.38,154.84)\" d=\"M1,0A1,1 0 1,1 0,-1A1,1 0 0,1 1,0Z\" style=\"opacity: 1; stroke-width: 0px; fill: rgb(76, 114, 176); fill-opacity: 1;\"/><path class=\"point\" transform=\"translate(254.86,160.92)\" d=\"M1,0A1,1 0 1,1 0,-1A1,1 0 0,1 1,0Z\" style=\"opacity: 1; stroke-width: 0px; fill: rgb(76, 114, 176); fill-opacity: 1;\"/><path class=\"point\" transform=\"translate(255.35,155.51)\" d=\"M1,0A1,1 0 1,1 0,-1A1,1 0 0,1 1,0Z\" style=\"opacity: 1; stroke-width: 0px; fill: rgb(76, 114, 176); fill-opacity: 1;\"/><path class=\"point\" transform=\"translate(255.83,148.41)\" d=\"M1,0A1,1 0 1,1 0,-1A1,1 0 0,1 1,0Z\" style=\"opacity: 1; stroke-width: 0px; fill: rgb(76, 114, 176); fill-opacity: 1;\"/><path class=\"point\" transform=\"translate(256.31,147.68)\" d=\"M1,0A1,1 0 1,1 0,-1A1,1 0 0,1 1,0Z\" style=\"opacity: 1; stroke-width: 0px; fill: rgb(76, 114, 176); fill-opacity: 1;\"/><path class=\"point\" transform=\"translate(256.79,185.72)\" d=\"M1,0A1,1 0 1,1 0,-1A1,1 0 0,1 1,0Z\" style=\"opacity: 1; stroke-width: 0px; fill: rgb(76, 114, 176); fill-opacity: 1;\"/><path class=\"point\" transform=\"translate(257.27,169.29)\" d=\"M1,0A1,1 0 1,1 0,-1A1,1 0 0,1 1,0Z\" style=\"opacity: 1; stroke-width: 0px; fill: rgb(76, 114, 176); fill-opacity: 1;\"/><path class=\"point\" transform=\"translate(257.75,179.83)\" d=\"M1,0A1,1 0 1,1 0,-1A1,1 0 0,1 1,0Z\" style=\"opacity: 1; stroke-width: 0px; fill: rgb(76, 114, 176); fill-opacity: 1;\"/><path class=\"point\" transform=\"translate(258.23,169.04)\" d=\"M1,0A1,1 0 1,1 0,-1A1,1 0 0,1 1,0Z\" style=\"opacity: 1; stroke-width: 0px; fill: rgb(76, 114, 176); fill-opacity: 1;\"/><path class=\"point\" transform=\"translate(258.71,147.02)\" d=\"M1,0A1,1 0 1,1 0,-1A1,1 0 0,1 1,0Z\" style=\"opacity: 1; stroke-width: 0px; fill: rgb(76, 114, 176); fill-opacity: 1;\"/><path class=\"point\" transform=\"translate(259.19,168.07)\" d=\"M1,0A1,1 0 1,1 0,-1A1,1 0 0,1 1,0Z\" style=\"opacity: 1; stroke-width: 0px; fill: rgb(76, 114, 176); fill-opacity: 1;\"/><path class=\"point\" transform=\"translate(259.67,175.83)\" d=\"M1,0A1,1 0 1,1 0,-1A1,1 0 0,1 1,0Z\" style=\"opacity: 1; stroke-width: 0px; fill: rgb(76, 114, 176); fill-opacity: 1;\"/><path class=\"point\" transform=\"translate(260.15,171.56)\" d=\"M1,0A1,1 0 1,1 0,-1A1,1 0 0,1 1,0Z\" style=\"opacity: 1; stroke-width: 0px; fill: rgb(76, 114, 176); fill-opacity: 1;\"/><path class=\"point\" transform=\"translate(260.63,148.31)\" d=\"M1,0A1,1 0 1,1 0,-1A1,1 0 0,1 1,0Z\" style=\"opacity: 1; stroke-width: 0px; fill: rgb(76, 114, 176); fill-opacity: 1;\"/><path class=\"point\" transform=\"translate(261.11,163.44)\" d=\"M1,0A1,1 0 1,1 0,-1A1,1 0 0,1 1,0Z\" style=\"opacity: 1; stroke-width: 0px; fill: rgb(76, 114, 176); fill-opacity: 1;\"/><path class=\"point\" transform=\"translate(261.59,157.84)\" d=\"M1,0A1,1 0 1,1 0,-1A1,1 0 0,1 1,0Z\" style=\"opacity: 1; stroke-width: 0px; fill: rgb(76, 114, 176); fill-opacity: 1;\"/><path class=\"point\" transform=\"translate(262.07,164.7)\" d=\"M1,0A1,1 0 1,1 0,-1A1,1 0 0,1 1,0Z\" style=\"opacity: 1; stroke-width: 0px; fill: rgb(76, 114, 176); fill-opacity: 1;\"/><path class=\"point\" transform=\"translate(262.55,174.09)\" d=\"M1,0A1,1 0 1,1 0,-1A1,1 0 0,1 1,0Z\" style=\"opacity: 1; stroke-width: 0px; fill: rgb(76, 114, 176); fill-opacity: 1;\"/><path class=\"point\" transform=\"translate(263.03,182.61)\" d=\"M1,0A1,1 0 1,1 0,-1A1,1 0 0,1 1,0Z\" style=\"opacity: 1; stroke-width: 0px; fill: rgb(76, 114, 176); fill-opacity: 1;\"/><path class=\"point\" transform=\"translate(263.51,157.4)\" d=\"M1,0A1,1 0 1,1 0,-1A1,1 0 0,1 1,0Z\" style=\"opacity: 1; stroke-width: 0px; fill: rgb(76, 114, 176); fill-opacity: 1;\"/><path class=\"point\" transform=\"translate(263.99,172.33)\" d=\"M1,0A1,1 0 1,1 0,-1A1,1 0 0,1 1,0Z\" style=\"opacity: 1; stroke-width: 0px; fill: rgb(76, 114, 176); fill-opacity: 1;\"/><path class=\"point\" transform=\"translate(264.47,155.36)\" d=\"M1,0A1,1 0 1,1 0,-1A1,1 0 0,1 1,0Z\" style=\"opacity: 1; stroke-width: 0px; fill: rgb(76, 114, 176); fill-opacity: 1;\"/><path class=\"point\" transform=\"translate(264.95,147.72)\" d=\"M1,0A1,1 0 1,1 0,-1A1,1 0 0,1 1,0Z\" style=\"opacity: 1; stroke-width: 0px; fill: rgb(76, 114, 176); fill-opacity: 1;\"/><path class=\"point\" transform=\"translate(265.44,146.9)\" d=\"M1,0A1,1 0 1,1 0,-1A1,1 0 0,1 1,0Z\" style=\"opacity: 1; stroke-width: 0px; fill: rgb(76, 114, 176); fill-opacity: 1;\"/><path class=\"point\" transform=\"translate(265.92,144.61)\" d=\"M1,0A1,1 0 1,1 0,-1A1,1 0 0,1 1,0Z\" style=\"opacity: 1; stroke-width: 0px; fill: rgb(76, 114, 176); fill-opacity: 1;\"/><path class=\"point\" transform=\"translate(266.4,163.9)\" d=\"M1,0A1,1 0 1,1 0,-1A1,1 0 0,1 1,0Z\" style=\"opacity: 1; stroke-width: 0px; fill: rgb(76, 114, 176); fill-opacity: 1;\"/><path class=\"point\" transform=\"translate(266.88,155.32)\" d=\"M1,0A1,1 0 1,1 0,-1A1,1 0 0,1 1,0Z\" style=\"opacity: 1; stroke-width: 0px; fill: rgb(76, 114, 176); fill-opacity: 1;\"/><path class=\"point\" transform=\"translate(267.36,177.04)\" d=\"M1,0A1,1 0 1,1 0,-1A1,1 0 0,1 1,0Z\" style=\"opacity: 1; stroke-width: 0px; fill: rgb(76, 114, 176); fill-opacity: 1;\"/><path class=\"point\" transform=\"translate(267.84,170.03)\" d=\"M1,0A1,1 0 1,1 0,-1A1,1 0 0,1 1,0Z\" style=\"opacity: 1; stroke-width: 0px; fill: rgb(76, 114, 176); fill-opacity: 1;\"/><path class=\"point\" transform=\"translate(268.32,148.03)\" d=\"M1,0A1,1 0 1,1 0,-1A1,1 0 0,1 1,0Z\" style=\"opacity: 1; stroke-width: 0px; fill: rgb(76, 114, 176); fill-opacity: 1;\"/><path class=\"point\" transform=\"translate(268.8,181.85)\" d=\"M1,0A1,1 0 1,1 0,-1A1,1 0 0,1 1,0Z\" style=\"opacity: 1; stroke-width: 0px; fill: rgb(76, 114, 176); fill-opacity: 1;\"/><path class=\"point\" transform=\"translate(269.28,169.84)\" d=\"M1,0A1,1 0 1,1 0,-1A1,1 0 0,1 1,0Z\" style=\"opacity: 1; stroke-width: 0px; fill: rgb(76, 114, 176); fill-opacity: 1;\"/><path class=\"point\" transform=\"translate(269.76,167.82)\" d=\"M1,0A1,1 0 1,1 0,-1A1,1 0 0,1 1,0Z\" style=\"opacity: 1; stroke-width: 0px; fill: rgb(76, 114, 176); fill-opacity: 1;\"/><path class=\"point\" transform=\"translate(270.24,144.25)\" d=\"M1,0A1,1 0 1,1 0,-1A1,1 0 0,1 1,0Z\" style=\"opacity: 1; stroke-width: 0px; fill: rgb(76, 114, 176); fill-opacity: 1;\"/><path class=\"point\" transform=\"translate(270.72,173.08)\" d=\"M1,0A1,1 0 1,1 0,-1A1,1 0 0,1 1,0Z\" style=\"opacity: 1; stroke-width: 0px; fill: rgb(76, 114, 176); fill-opacity: 1;\"/><path class=\"point\" transform=\"translate(271.2,153.86)\" d=\"M1,0A1,1 0 1,1 0,-1A1,1 0 0,1 1,0Z\" style=\"opacity: 1; stroke-width: 0px; fill: rgb(76, 114, 176); fill-opacity: 1;\"/><path class=\"point\" transform=\"translate(271.68,150.29)\" d=\"M1,0A1,1 0 1,1 0,-1A1,1 0 0,1 1,0Z\" style=\"opacity: 1; stroke-width: 0px; fill: rgb(76, 114, 176); fill-opacity: 1;\"/><path class=\"point\" transform=\"translate(272.16,178.92)\" d=\"M1,0A1,1 0 1,1 0,-1A1,1 0 0,1 1,0Z\" style=\"opacity: 1; stroke-width: 0px; fill: rgb(76, 114, 176); fill-opacity: 1;\"/><path class=\"point\" transform=\"translate(272.64,146.55)\" d=\"M1,0A1,1 0 1,1 0,-1A1,1 0 0,1 1,0Z\" style=\"opacity: 1; stroke-width: 0px; fill: rgb(76, 114, 176); fill-opacity: 1;\"/><path class=\"point\" transform=\"translate(273.12,156.95)\" d=\"M1,0A1,1 0 1,1 0,-1A1,1 0 0,1 1,0Z\" style=\"opacity: 1; stroke-width: 0px; fill: rgb(76, 114, 176); fill-opacity: 1;\"/><path class=\"point\" transform=\"translate(273.6,173.91)\" d=\"M1,0A1,1 0 1,1 0,-1A1,1 0 0,1 1,0Z\" style=\"opacity: 1; stroke-width: 0px; fill: rgb(76, 114, 176); fill-opacity: 1;\"/><path class=\"point\" transform=\"translate(274.08,172.09)\" d=\"M1,0A1,1 0 1,1 0,-1A1,1 0 0,1 1,0Z\" style=\"opacity: 1; stroke-width: 0px; fill: rgb(76, 114, 176); fill-opacity: 1;\"/><path class=\"point\" transform=\"translate(274.56,142.42)\" d=\"M1,0A1,1 0 1,1 0,-1A1,1 0 0,1 1,0Z\" style=\"opacity: 1; stroke-width: 0px; fill: rgb(76, 114, 176); fill-opacity: 1;\"/><path class=\"point\" transform=\"translate(275.05,152)\" d=\"M1,0A1,1 0 1,1 0,-1A1,1 0 0,1 1,0Z\" style=\"opacity: 1; stroke-width: 0px; fill: rgb(76, 114, 176); fill-opacity: 1;\"/><path class=\"point\" transform=\"translate(275.53,159.45)\" d=\"M1,0A1,1 0 1,1 0,-1A1,1 0 0,1 1,0Z\" style=\"opacity: 1; stroke-width: 0px; fill: rgb(76, 114, 176); fill-opacity: 1;\"/><path class=\"point\" transform=\"translate(276.01,176.73)\" d=\"M1,0A1,1 0 1,1 0,-1A1,1 0 0,1 1,0Z\" style=\"opacity: 1; stroke-width: 0px; fill: rgb(76, 114, 176); fill-opacity: 1;\"/><path class=\"point\" transform=\"translate(276.49,139.8)\" d=\"M1,0A1,1 0 1,1 0,-1A1,1 0 0,1 1,0Z\" style=\"opacity: 1; stroke-width: 0px; fill: rgb(76, 114, 176); fill-opacity: 1;\"/><path class=\"point\" transform=\"translate(276.97,161.29)\" d=\"M1,0A1,1 0 1,1 0,-1A1,1 0 0,1 1,0Z\" style=\"opacity: 1; stroke-width: 0px; fill: rgb(76, 114, 176); fill-opacity: 1;\"/><path class=\"point\" transform=\"translate(277.45,178.19)\" d=\"M1,0A1,1 0 1,1 0,-1A1,1 0 0,1 1,0Z\" style=\"opacity: 1; stroke-width: 0px; fill: rgb(76, 114, 176); fill-opacity: 1;\"/><path class=\"point\" transform=\"translate(277.93,177.25)\" d=\"M1,0A1,1 0 1,1 0,-1A1,1 0 0,1 1,0Z\" style=\"opacity: 1; stroke-width: 0px; fill: rgb(76, 114, 176); fill-opacity: 1;\"/><path class=\"point\" transform=\"translate(278.41,152.4)\" d=\"M1,0A1,1 0 1,1 0,-1A1,1 0 0,1 1,0Z\" style=\"opacity: 1; stroke-width: 0px; fill: rgb(76, 114, 176); fill-opacity: 1;\"/><path class=\"point\" transform=\"translate(278.89,141.67)\" d=\"M1,0A1,1 0 1,1 0,-1A1,1 0 0,1 1,0Z\" style=\"opacity: 1; stroke-width: 0px; fill: rgb(76, 114, 176); fill-opacity: 1;\"/><path class=\"point\" transform=\"translate(279.37,142.06)\" d=\"M1,0A1,1 0 1,1 0,-1A1,1 0 0,1 1,0Z\" style=\"opacity: 1; stroke-width: 0px; fill: rgb(76, 114, 176); fill-opacity: 1;\"/><path class=\"point\" transform=\"translate(279.85,150.95)\" d=\"M1,0A1,1 0 1,1 0,-1A1,1 0 0,1 1,0Z\" style=\"opacity: 1; stroke-width: 0px; fill: rgb(76, 114, 176); fill-opacity: 1;\"/><path class=\"point\" transform=\"translate(280.33,141.94)\" d=\"M1,0A1,1 0 1,1 0,-1A1,1 0 0,1 1,0Z\" style=\"opacity: 1; stroke-width: 0px; fill: rgb(76, 114, 176); fill-opacity: 1;\"/><path class=\"point\" transform=\"translate(280.81,148.55)\" d=\"M1,0A1,1 0 1,1 0,-1A1,1 0 0,1 1,0Z\" style=\"opacity: 1; stroke-width: 0px; fill: rgb(76, 114, 176); fill-opacity: 1;\"/><path class=\"point\" transform=\"translate(281.29,157.89)\" d=\"M1,0A1,1 0 1,1 0,-1A1,1 0 0,1 1,0Z\" style=\"opacity: 1; stroke-width: 0px; fill: rgb(76, 114, 176); fill-opacity: 1;\"/><path class=\"point\" transform=\"translate(281.77,145.43)\" d=\"M1,0A1,1 0 1,1 0,-1A1,1 0 0,1 1,0Z\" style=\"opacity: 1; stroke-width: 0px; fill: rgb(76, 114, 176); fill-opacity: 1;\"/><path class=\"point\" transform=\"translate(282.25,139.06)\" d=\"M1,0A1,1 0 1,1 0,-1A1,1 0 0,1 1,0Z\" style=\"opacity: 1; stroke-width: 0px; fill: rgb(76, 114, 176); fill-opacity: 1;\"/><path class=\"point\" transform=\"translate(282.73,136.29)\" d=\"M1,0A1,1 0 1,1 0,-1A1,1 0 0,1 1,0Z\" style=\"opacity: 1; stroke-width: 0px; fill: rgb(76, 114, 176); fill-opacity: 1;\"/><path class=\"point\" transform=\"translate(283.21,151.5)\" d=\"M1,0A1,1 0 1,1 0,-1A1,1 0 0,1 1,0Z\" style=\"opacity: 1; stroke-width: 0px; fill: rgb(76, 114, 176); fill-opacity: 1;\"/><path class=\"point\" transform=\"translate(283.69,155.52)\" d=\"M1,0A1,1 0 1,1 0,-1A1,1 0 0,1 1,0Z\" style=\"opacity: 1; stroke-width: 0px; fill: rgb(76, 114, 176); fill-opacity: 1;\"/><path class=\"point\" transform=\"translate(284.17,148.9)\" d=\"M1,0A1,1 0 1,1 0,-1A1,1 0 0,1 1,0Z\" style=\"opacity: 1; stroke-width: 0px; fill: rgb(76, 114, 176); fill-opacity: 1;\"/><path class=\"point\" transform=\"translate(284.65,151.56)\" d=\"M1,0A1,1 0 1,1 0,-1A1,1 0 0,1 1,0Z\" style=\"opacity: 1; stroke-width: 0px; fill: rgb(76, 114, 176); fill-opacity: 1;\"/><path class=\"point\" transform=\"translate(285.14,161.91)\" d=\"M1,0A1,1 0 1,1 0,-1A1,1 0 0,1 1,0Z\" style=\"opacity: 1; stroke-width: 0px; fill: rgb(76, 114, 176); fill-opacity: 1;\"/><path class=\"point\" transform=\"translate(285.62,135.94)\" d=\"M1,0A1,1 0 1,1 0,-1A1,1 0 0,1 1,0Z\" style=\"opacity: 1; stroke-width: 0px; fill: rgb(76, 114, 176); fill-opacity: 1;\"/><path class=\"point\" transform=\"translate(286.1,136.36)\" d=\"M1,0A1,1 0 1,1 0,-1A1,1 0 0,1 1,0Z\" style=\"opacity: 1; stroke-width: 0px; fill: rgb(76, 114, 176); fill-opacity: 1;\"/><path class=\"point\" transform=\"translate(286.58,139.17)\" d=\"M1,0A1,1 0 1,1 0,-1A1,1 0 0,1 1,0Z\" style=\"opacity: 1; stroke-width: 0px; fill: rgb(76, 114, 176); fill-opacity: 1;\"/><path class=\"point\" transform=\"translate(287.06,154.35)\" d=\"M1,0A1,1 0 1,1 0,-1A1,1 0 0,1 1,0Z\" style=\"opacity: 1; stroke-width: 0px; fill: rgb(76, 114, 176); fill-opacity: 1;\"/><path class=\"point\" transform=\"translate(287.54,132.03)\" d=\"M1,0A1,1 0 1,1 0,-1A1,1 0 0,1 1,0Z\" style=\"opacity: 1; stroke-width: 0px; fill: rgb(76, 114, 176); fill-opacity: 1;\"/><path class=\"point\" transform=\"translate(288.02,135.46)\" d=\"M1,0A1,1 0 1,1 0,-1A1,1 0 0,1 1,0Z\" style=\"opacity: 1; stroke-width: 0px; fill: rgb(76, 114, 176); fill-opacity: 1;\"/><path class=\"point\" transform=\"translate(288.5,150.68)\" d=\"M1,0A1,1 0 1,1 0,-1A1,1 0 0,1 1,0Z\" style=\"opacity: 1; stroke-width: 0px; fill: rgb(76, 114, 176); fill-opacity: 1;\"/><path class=\"point\" transform=\"translate(288.98,167.74)\" d=\"M1,0A1,1 0 1,1 0,-1A1,1 0 0,1 1,0Z\" style=\"opacity: 1; stroke-width: 0px; fill: rgb(76, 114, 176); fill-opacity: 1;\"/><path class=\"point\" transform=\"translate(289.46,169.93)\" d=\"M1,0A1,1 0 1,1 0,-1A1,1 0 0,1 1,0Z\" style=\"opacity: 1; stroke-width: 0px; fill: rgb(76, 114, 176); fill-opacity: 1;\"/><path class=\"point\" transform=\"translate(289.94,143.85)\" d=\"M1,0A1,1 0 1,1 0,-1A1,1 0 0,1 1,0Z\" style=\"opacity: 1; stroke-width: 0px; fill: rgb(76, 114, 176); fill-opacity: 1;\"/><path class=\"point\" transform=\"translate(290.42,142.77)\" d=\"M1,0A1,1 0 1,1 0,-1A1,1 0 0,1 1,0Z\" style=\"opacity: 1; stroke-width: 0px; fill: rgb(76, 114, 176); fill-opacity: 1;\"/><path class=\"point\" transform=\"translate(290.9,158.93)\" d=\"M1,0A1,1 0 1,1 0,-1A1,1 0 0,1 1,0Z\" style=\"opacity: 1; stroke-width: 0px; fill: rgb(76, 114, 176); fill-opacity: 1;\"/><path class=\"point\" transform=\"translate(291.38,159.51)\" d=\"M1,0A1,1 0 1,1 0,-1A1,1 0 0,1 1,0Z\" style=\"opacity: 1; stroke-width: 0px; fill: rgb(76, 114, 176); fill-opacity: 1;\"/><path class=\"point\" transform=\"translate(291.86,164.12)\" d=\"M1,0A1,1 0 1,1 0,-1A1,1 0 0,1 1,0Z\" style=\"opacity: 1; stroke-width: 0px; fill: rgb(76, 114, 176); fill-opacity: 1;\"/><path class=\"point\" transform=\"translate(292.34,145.12)\" d=\"M1,0A1,1 0 1,1 0,-1A1,1 0 0,1 1,0Z\" style=\"opacity: 1; stroke-width: 0px; fill: rgb(76, 114, 176); fill-opacity: 1;\"/><path class=\"point\" transform=\"translate(292.82,137.05)\" d=\"M1,0A1,1 0 1,1 0,-1A1,1 0 0,1 1,0Z\" style=\"opacity: 1; stroke-width: 0px; fill: rgb(76, 114, 176); fill-opacity: 1;\"/><path class=\"point\" transform=\"translate(293.3,166.9)\" d=\"M1,0A1,1 0 1,1 0,-1A1,1 0 0,1 1,0Z\" style=\"opacity: 1; stroke-width: 0px; fill: rgb(76, 114, 176); fill-opacity: 1;\"/><path class=\"point\" transform=\"translate(293.78,138.84)\" d=\"M1,0A1,1 0 1,1 0,-1A1,1 0 0,1 1,0Z\" style=\"opacity: 1; stroke-width: 0px; fill: rgb(76, 114, 176); fill-opacity: 1;\"/><path class=\"point\" transform=\"translate(294.26,134)\" d=\"M1,0A1,1 0 1,1 0,-1A1,1 0 0,1 1,0Z\" style=\"opacity: 1; stroke-width: 0px; fill: rgb(76, 114, 176); fill-opacity: 1;\"/><path class=\"point\" transform=\"translate(294.74,129.49)\" d=\"M1,0A1,1 0 1,1 0,-1A1,1 0 0,1 1,0Z\" style=\"opacity: 1; stroke-width: 0px; fill: rgb(76, 114, 176); fill-opacity: 1;\"/><path class=\"point\" transform=\"translate(295.23,165.92)\" d=\"M1,0A1,1 0 1,1 0,-1A1,1 0 0,1 1,0Z\" style=\"opacity: 1; stroke-width: 0px; fill: rgb(76, 114, 176); fill-opacity: 1;\"/><path class=\"point\" transform=\"translate(295.71,131.3)\" d=\"M1,0A1,1 0 1,1 0,-1A1,1 0 0,1 1,0Z\" style=\"opacity: 1; stroke-width: 0px; fill: rgb(76, 114, 176); fill-opacity: 1;\"/><path class=\"point\" transform=\"translate(296.19,133.44)\" d=\"M1,0A1,1 0 1,1 0,-1A1,1 0 0,1 1,0Z\" style=\"opacity: 1; stroke-width: 0px; fill: rgb(76, 114, 176); fill-opacity: 1;\"/><path class=\"point\" transform=\"translate(296.67,137.02)\" d=\"M1,0A1,1 0 1,1 0,-1A1,1 0 0,1 1,0Z\" style=\"opacity: 1; stroke-width: 0px; fill: rgb(76, 114, 176); fill-opacity: 1;\"/><path class=\"point\" transform=\"translate(297.15,164.09)\" d=\"M1,0A1,1 0 1,1 0,-1A1,1 0 0,1 1,0Z\" style=\"opacity: 1; stroke-width: 0px; fill: rgb(76, 114, 176); fill-opacity: 1;\"/><path class=\"point\" transform=\"translate(297.63,159.26)\" d=\"M1,0A1,1 0 1,1 0,-1A1,1 0 0,1 1,0Z\" style=\"opacity: 1; stroke-width: 0px; fill: rgb(76, 114, 176); fill-opacity: 1;\"/><path class=\"point\" transform=\"translate(298.11,161.14)\" d=\"M1,0A1,1 0 1,1 0,-1A1,1 0 0,1 1,0Z\" style=\"opacity: 1; stroke-width: 0px; fill: rgb(76, 114, 176); fill-opacity: 1;\"/><path class=\"point\" transform=\"translate(298.59,159.84)\" d=\"M1,0A1,1 0 1,1 0,-1A1,1 0 0,1 1,0Z\" style=\"opacity: 1; stroke-width: 0px; fill: rgb(76, 114, 176); fill-opacity: 1;\"/><path class=\"point\" transform=\"translate(299.07,137.38)\" d=\"M1,0A1,1 0 1,1 0,-1A1,1 0 0,1 1,0Z\" style=\"opacity: 1; stroke-width: 0px; fill: rgb(76, 114, 176); fill-opacity: 1;\"/><path class=\"point\" transform=\"translate(299.55,138.5)\" d=\"M1,0A1,1 0 1,1 0,-1A1,1 0 0,1 1,0Z\" style=\"opacity: 1; stroke-width: 0px; fill: rgb(76, 114, 176); fill-opacity: 1;\"/><path class=\"point\" transform=\"translate(300.03,165.58)\" d=\"M1,0A1,1 0 1,1 0,-1A1,1 0 0,1 1,0Z\" style=\"opacity: 1; stroke-width: 0px; fill: rgb(76, 114, 176); fill-opacity: 1;\"/><path class=\"point\" transform=\"translate(300.51,140.02)\" d=\"M1,0A1,1 0 1,1 0,-1A1,1 0 0,1 1,0Z\" style=\"opacity: 1; stroke-width: 0px; fill: rgb(76, 114, 176); fill-opacity: 1;\"/><path class=\"point\" transform=\"translate(300.99,130.37)\" d=\"M1,0A1,1 0 1,1 0,-1A1,1 0 0,1 1,0Z\" style=\"opacity: 1; stroke-width: 0px; fill: rgb(76, 114, 176); fill-opacity: 1;\"/><path class=\"point\" transform=\"translate(301.47,124.55)\" d=\"M1,0A1,1 0 1,1 0,-1A1,1 0 0,1 1,0Z\" style=\"opacity: 1; stroke-width: 0px; fill: rgb(76, 114, 176); fill-opacity: 1;\"/><path class=\"point\" transform=\"translate(301.95,133.71)\" d=\"M1,0A1,1 0 1,1 0,-1A1,1 0 0,1 1,0Z\" style=\"opacity: 1; stroke-width: 0px; fill: rgb(76, 114, 176); fill-opacity: 1;\"/><path class=\"point\" transform=\"translate(302.43,162.66)\" d=\"M1,0A1,1 0 1,1 0,-1A1,1 0 0,1 1,0Z\" style=\"opacity: 1; stroke-width: 0px; fill: rgb(76, 114, 176); fill-opacity: 1;\"/><path class=\"point\" transform=\"translate(302.91,136.98)\" d=\"M1,0A1,1 0 1,1 0,-1A1,1 0 0,1 1,0Z\" style=\"opacity: 1; stroke-width: 0px; fill: rgb(76, 114, 176); fill-opacity: 1;\"/><path class=\"point\" transform=\"translate(303.39,148.92)\" d=\"M1,0A1,1 0 1,1 0,-1A1,1 0 0,1 1,0Z\" style=\"opacity: 1; stroke-width: 0px; fill: rgb(76, 114, 176); fill-opacity: 1;\"/><path class=\"point\" transform=\"translate(303.87,125.75)\" d=\"M1,0A1,1 0 1,1 0,-1A1,1 0 0,1 1,0Z\" style=\"opacity: 1; stroke-width: 0px; fill: rgb(76, 114, 176); fill-opacity: 1;\"/><path class=\"point\" transform=\"translate(304.35,157.43)\" d=\"M1,0A1,1 0 1,1 0,-1A1,1 0 0,1 1,0Z\" style=\"opacity: 1; stroke-width: 0px; fill: rgb(76, 114, 176); fill-opacity: 1;\"/><path class=\"point\" transform=\"translate(304.83,146.68)\" d=\"M1,0A1,1 0 1,1 0,-1A1,1 0 0,1 1,0Z\" style=\"opacity: 1; stroke-width: 0px; fill: rgb(76, 114, 176); fill-opacity: 1;\"/><path class=\"point\" transform=\"translate(305.32,140.14)\" d=\"M1,0A1,1 0 1,1 0,-1A1,1 0 0,1 1,0Z\" style=\"opacity: 1; stroke-width: 0px; fill: rgb(76, 114, 176); fill-opacity: 1;\"/><path class=\"point\" transform=\"translate(305.8,153.51)\" d=\"M1,0A1,1 0 1,1 0,-1A1,1 0 0,1 1,0Z\" style=\"opacity: 1; stroke-width: 0px; fill: rgb(76, 114, 176); fill-opacity: 1;\"/><path class=\"point\" transform=\"translate(306.28,141.72)\" d=\"M1,0A1,1 0 1,1 0,-1A1,1 0 0,1 1,0Z\" style=\"opacity: 1; stroke-width: 0px; fill: rgb(76, 114, 176); fill-opacity: 1;\"/><path class=\"point\" transform=\"translate(306.76,154.54)\" d=\"M1,0A1,1 0 1,1 0,-1A1,1 0 0,1 1,0Z\" style=\"opacity: 1; stroke-width: 0px; fill: rgb(76, 114, 176); fill-opacity: 1;\"/><path class=\"point\" transform=\"translate(307.24,134.21)\" d=\"M1,0A1,1 0 1,1 0,-1A1,1 0 0,1 1,0Z\" style=\"opacity: 1; stroke-width: 0px; fill: rgb(76, 114, 176); fill-opacity: 1;\"/><path class=\"point\" transform=\"translate(307.72,145.15)\" d=\"M1,0A1,1 0 1,1 0,-1A1,1 0 0,1 1,0Z\" style=\"opacity: 1; stroke-width: 0px; fill: rgb(76, 114, 176); fill-opacity: 1;\"/><path class=\"point\" transform=\"translate(308.2,156.54)\" d=\"M1,0A1,1 0 1,1 0,-1A1,1 0 0,1 1,0Z\" style=\"opacity: 1; stroke-width: 0px; fill: rgb(76, 114, 176); fill-opacity: 1;\"/><path class=\"point\" transform=\"translate(308.68,152.28)\" d=\"M1,0A1,1 0 1,1 0,-1A1,1 0 0,1 1,0Z\" style=\"opacity: 1; stroke-width: 0px; fill: rgb(76, 114, 176); fill-opacity: 1;\"/><path class=\"point\" transform=\"translate(309.16,158.49)\" d=\"M1,0A1,1 0 1,1 0,-1A1,1 0 0,1 1,0Z\" style=\"opacity: 1; stroke-width: 0px; fill: rgb(76, 114, 176); fill-opacity: 1;\"/><path class=\"point\" transform=\"translate(309.64,140.67)\" d=\"M1,0A1,1 0 1,1 0,-1A1,1 0 0,1 1,0Z\" style=\"opacity: 1; stroke-width: 0px; fill: rgb(76, 114, 176); fill-opacity: 1;\"/><path class=\"point\" transform=\"translate(310.12,154.99)\" d=\"M1,0A1,1 0 1,1 0,-1A1,1 0 0,1 1,0Z\" style=\"opacity: 1; stroke-width: 0px; fill: rgb(76, 114, 176); fill-opacity: 1;\"/><path class=\"point\" transform=\"translate(310.6,149.05)\" d=\"M1,0A1,1 0 1,1 0,-1A1,1 0 0,1 1,0Z\" style=\"opacity: 1; stroke-width: 0px; fill: rgb(76, 114, 176); fill-opacity: 1;\"/><path class=\"point\" transform=\"translate(311.08,137.42)\" d=\"M1,0A1,1 0 1,1 0,-1A1,1 0 0,1 1,0Z\" style=\"opacity: 1; stroke-width: 0px; fill: rgb(76, 114, 176); fill-opacity: 1;\"/><path class=\"point\" transform=\"translate(311.56,151.9)\" d=\"M1,0A1,1 0 1,1 0,-1A1,1 0 0,1 1,0Z\" style=\"opacity: 1; stroke-width: 0px; fill: rgb(76, 114, 176); fill-opacity: 1;\"/><path class=\"point\" transform=\"translate(312.04,120.42)\" d=\"M1,0A1,1 0 1,1 0,-1A1,1 0 0,1 1,0Z\" style=\"opacity: 1; stroke-width: 0px; fill: rgb(76, 114, 176); fill-opacity: 1;\"/><path class=\"point\" transform=\"translate(312.52,131.7)\" d=\"M1,0A1,1 0 1,1 0,-1A1,1 0 0,1 1,0Z\" style=\"opacity: 1; stroke-width: 0px; fill: rgb(76, 114, 176); fill-opacity: 1;\"/><path class=\"point\" transform=\"translate(313,145.32)\" d=\"M1,0A1,1 0 1,1 0,-1A1,1 0 0,1 1,0Z\" style=\"opacity: 1; stroke-width: 0px; fill: rgb(76, 114, 176); fill-opacity: 1;\"/><path class=\"point\" transform=\"translate(313.48,132.75)\" d=\"M1,0A1,1 0 1,1 0,-1A1,1 0 0,1 1,0Z\" style=\"opacity: 1; stroke-width: 0px; fill: rgb(76, 114, 176); fill-opacity: 1;\"/><path class=\"point\" transform=\"translate(313.96,126.01)\" d=\"M1,0A1,1 0 1,1 0,-1A1,1 0 0,1 1,0Z\" style=\"opacity: 1; stroke-width: 0px; fill: rgb(76, 114, 176); fill-opacity: 1;\"/><path class=\"point\" transform=\"translate(314.44,126.72)\" d=\"M1,0A1,1 0 1,1 0,-1A1,1 0 0,1 1,0Z\" style=\"opacity: 1; stroke-width: 0px; fill: rgb(76, 114, 176); fill-opacity: 1;\"/><path class=\"point\" transform=\"translate(314.92,141.29)\" d=\"M1,0A1,1 0 1,1 0,-1A1,1 0 0,1 1,0Z\" style=\"opacity: 1; stroke-width: 0px; fill: rgb(76, 114, 176); fill-opacity: 1;\"/><path class=\"point\" transform=\"translate(315.41,155.04)\" d=\"M1,0A1,1 0 1,1 0,-1A1,1 0 0,1 1,0Z\" style=\"opacity: 1; stroke-width: 0px; fill: rgb(76, 114, 176); fill-opacity: 1;\"/><path class=\"point\" transform=\"translate(315.89,145.39)\" d=\"M1,0A1,1 0 1,1 0,-1A1,1 0 0,1 1,0Z\" style=\"opacity: 1; stroke-width: 0px; fill: rgb(76, 114, 176); fill-opacity: 1;\"/><path class=\"point\" transform=\"translate(316.37,129.66)\" d=\"M1,0A1,1 0 1,1 0,-1A1,1 0 0,1 1,0Z\" style=\"opacity: 1; stroke-width: 0px; fill: rgb(76, 114, 176); fill-opacity: 1;\"/><path class=\"point\" transform=\"translate(316.85,137.15)\" d=\"M1,0A1,1 0 1,1 0,-1A1,1 0 0,1 1,0Z\" style=\"opacity: 1; stroke-width: 0px; fill: rgb(76, 114, 176); fill-opacity: 1;\"/><path class=\"point\" transform=\"translate(317.33,131.26)\" d=\"M1,0A1,1 0 1,1 0,-1A1,1 0 0,1 1,0Z\" style=\"opacity: 1; stroke-width: 0px; fill: rgb(76, 114, 176); fill-opacity: 1;\"/><path class=\"point\" transform=\"translate(317.81,146.11)\" d=\"M1,0A1,1 0 1,1 0,-1A1,1 0 0,1 1,0Z\" style=\"opacity: 1; stroke-width: 0px; fill: rgb(76, 114, 176); fill-opacity: 1;\"/><path class=\"point\" transform=\"translate(318.29,128.98)\" d=\"M1,0A1,1 0 1,1 0,-1A1,1 0 0,1 1,0Z\" style=\"opacity: 1; stroke-width: 0px; fill: rgb(76, 114, 176); fill-opacity: 1;\"/><path class=\"point\" transform=\"translate(318.77,141.09)\" d=\"M1,0A1,1 0 1,1 0,-1A1,1 0 0,1 1,0Z\" style=\"opacity: 1; stroke-width: 0px; fill: rgb(76, 114, 176); fill-opacity: 1;\"/><path class=\"point\" transform=\"translate(319.25,115.42)\" d=\"M1,0A1,1 0 1,1 0,-1A1,1 0 0,1 1,0Z\" style=\"opacity: 1; stroke-width: 0px; fill: rgb(76, 114, 176); fill-opacity: 1;\"/><path class=\"point\" transform=\"translate(319.73,132.99)\" d=\"M1,0A1,1 0 1,1 0,-1A1,1 0 0,1 1,0Z\" style=\"opacity: 1; stroke-width: 0px; fill: rgb(76, 114, 176); fill-opacity: 1;\"/><path class=\"point\" transform=\"translate(320.21,116.44)\" d=\"M1,0A1,1 0 1,1 0,-1A1,1 0 0,1 1,0Z\" style=\"opacity: 1; stroke-width: 0px; fill: rgb(76, 114, 176); fill-opacity: 1;\"/><path class=\"point\" transform=\"translate(320.69,152.77)\" d=\"M1,0A1,1 0 1,1 0,-1A1,1 0 0,1 1,0Z\" style=\"opacity: 1; stroke-width: 0px; fill: rgb(76, 114, 176); fill-opacity: 1;\"/><path class=\"point\" transform=\"translate(321.17,134.55)\" d=\"M1,0A1,1 0 1,1 0,-1A1,1 0 0,1 1,0Z\" style=\"opacity: 1; stroke-width: 0px; fill: rgb(76, 114, 176); fill-opacity: 1;\"/><path class=\"point\" transform=\"translate(321.65,118.4)\" d=\"M1,0A1,1 0 1,1 0,-1A1,1 0 0,1 1,0Z\" style=\"opacity: 1; stroke-width: 0px; fill: rgb(76, 114, 176); fill-opacity: 1;\"/><path class=\"point\" transform=\"translate(322.13,153.39)\" d=\"M1,0A1,1 0 1,1 0,-1A1,1 0 0,1 1,0Z\" style=\"opacity: 1; stroke-width: 0px; fill: rgb(76, 114, 176); fill-opacity: 1;\"/><path class=\"point\" transform=\"translate(322.61,154.54)\" d=\"M1,0A1,1 0 1,1 0,-1A1,1 0 0,1 1,0Z\" style=\"opacity: 1; stroke-width: 0px; fill: rgb(76, 114, 176); fill-opacity: 1;\"/><path class=\"point\" transform=\"translate(323.09,142.9)\" d=\"M1,0A1,1 0 1,1 0,-1A1,1 0 0,1 1,0Z\" style=\"opacity: 1; stroke-width: 0px; fill: rgb(76, 114, 176); fill-opacity: 1;\"/><path class=\"point\" transform=\"translate(323.57,150.99)\" d=\"M1,0A1,1 0 1,1 0,-1A1,1 0 0,1 1,0Z\" style=\"opacity: 1; stroke-width: 0px; fill: rgb(76, 114, 176); fill-opacity: 1;\"/><path class=\"point\" transform=\"translate(324.05,120.97)\" d=\"M1,0A1,1 0 1,1 0,-1A1,1 0 0,1 1,0Z\" style=\"opacity: 1; stroke-width: 0px; fill: rgb(76, 114, 176); fill-opacity: 1;\"/><path class=\"point\" transform=\"translate(324.53,148.48)\" d=\"M1,0A1,1 0 1,1 0,-1A1,1 0 0,1 1,0Z\" style=\"opacity: 1; stroke-width: 0px; fill: rgb(76, 114, 176); fill-opacity: 1;\"/><path class=\"point\" transform=\"translate(325.02,126.83)\" d=\"M1,0A1,1 0 1,1 0,-1A1,1 0 0,1 1,0Z\" style=\"opacity: 1; stroke-width: 0px; fill: rgb(76, 114, 176); fill-opacity: 1;\"/><path class=\"point\" transform=\"translate(325.5,126.82)\" d=\"M1,0A1,1 0 1,1 0,-1A1,1 0 0,1 1,0Z\" style=\"opacity: 1; stroke-width: 0px; fill: rgb(76, 114, 176); fill-opacity: 1;\"/><path class=\"point\" transform=\"translate(325.98,152.17)\" d=\"M1,0A1,1 0 1,1 0,-1A1,1 0 0,1 1,0Z\" style=\"opacity: 1; stroke-width: 0px; fill: rgb(76, 114, 176); fill-opacity: 1;\"/><path class=\"point\" transform=\"translate(326.46,114.19)\" d=\"M1,0A1,1 0 1,1 0,-1A1,1 0 0,1 1,0Z\" style=\"opacity: 1; stroke-width: 0px; fill: rgb(76, 114, 176); fill-opacity: 1;\"/><path class=\"point\" transform=\"translate(326.94,114.43)\" d=\"M1,0A1,1 0 1,1 0,-1A1,1 0 0,1 1,0Z\" style=\"opacity: 1; stroke-width: 0px; fill: rgb(76, 114, 176); fill-opacity: 1;\"/><path class=\"point\" transform=\"translate(327.42,116.61)\" d=\"M1,0A1,1 0 1,1 0,-1A1,1 0 0,1 1,0Z\" style=\"opacity: 1; stroke-width: 0px; fill: rgb(76, 114, 176); fill-opacity: 1;\"/><path class=\"point\" transform=\"translate(327.9,117.22)\" d=\"M1,0A1,1 0 1,1 0,-1A1,1 0 0,1 1,0Z\" style=\"opacity: 1; stroke-width: 0px; fill: rgb(76, 114, 176); fill-opacity: 1;\"/><path class=\"point\" transform=\"translate(328.38,123.87)\" d=\"M1,0A1,1 0 1,1 0,-1A1,1 0 0,1 1,0Z\" style=\"opacity: 1; stroke-width: 0px; fill: rgb(76, 114, 176); fill-opacity: 1;\"/><path class=\"point\" transform=\"translate(328.86,146.26)\" d=\"M1,0A1,1 0 1,1 0,-1A1,1 0 0,1 1,0Z\" style=\"opacity: 1; stroke-width: 0px; fill: rgb(76, 114, 176); fill-opacity: 1;\"/><path class=\"point\" transform=\"translate(329.34,117.57)\" d=\"M1,0A1,1 0 1,1 0,-1A1,1 0 0,1 1,0Z\" style=\"opacity: 1; stroke-width: 0px; fill: rgb(76, 114, 176); fill-opacity: 1;\"/><path class=\"point\" transform=\"translate(329.82,123.06)\" d=\"M1,0A1,1 0 1,1 0,-1A1,1 0 0,1 1,0Z\" style=\"opacity: 1; stroke-width: 0px; fill: rgb(76, 114, 176); fill-opacity: 1;\"/><path class=\"point\" transform=\"translate(330.3,126.74)\" d=\"M1,0A1,1 0 1,1 0,-1A1,1 0 0,1 1,0Z\" style=\"opacity: 1; stroke-width: 0px; fill: rgb(76, 114, 176); fill-opacity: 1;\"/><path class=\"point\" transform=\"translate(330.78,138.93)\" d=\"M1,0A1,1 0 1,1 0,-1A1,1 0 0,1 1,0Z\" style=\"opacity: 1; stroke-width: 0px; fill: rgb(76, 114, 176); fill-opacity: 1;\"/><path class=\"point\" transform=\"translate(331.26,112.72)\" d=\"M1,0A1,1 0 1,1 0,-1A1,1 0 0,1 1,0Z\" style=\"opacity: 1; stroke-width: 0px; fill: rgb(76, 114, 176); fill-opacity: 1;\"/><path class=\"point\" transform=\"translate(331.74,123.08)\" d=\"M1,0A1,1 0 1,1 0,-1A1,1 0 0,1 1,0Z\" style=\"opacity: 1; stroke-width: 0px; fill: rgb(76, 114, 176); fill-opacity: 1;\"/><path class=\"point\" transform=\"translate(332.22,136.88)\" d=\"M1,0A1,1 0 1,1 0,-1A1,1 0 0,1 1,0Z\" style=\"opacity: 1; stroke-width: 0px; fill: rgb(76, 114, 176); fill-opacity: 1;\"/><path class=\"point\" transform=\"translate(332.7,116.09)\" d=\"M1,0A1,1 0 1,1 0,-1A1,1 0 0,1 1,0Z\" style=\"opacity: 1; stroke-width: 0px; fill: rgb(76, 114, 176); fill-opacity: 1;\"/><path class=\"point\" transform=\"translate(333.18,120.94)\" d=\"M1,0A1,1 0 1,1 0,-1A1,1 0 0,1 1,0Z\" style=\"opacity: 1; stroke-width: 0px; fill: rgb(76, 114, 176); fill-opacity: 1;\"/><path class=\"point\" transform=\"translate(333.66,139.1)\" d=\"M1,0A1,1 0 1,1 0,-1A1,1 0 0,1 1,0Z\" style=\"opacity: 1; stroke-width: 0px; fill: rgb(76, 114, 176); fill-opacity: 1;\"/><path class=\"point\" transform=\"translate(334.14,137.51)\" d=\"M1,0A1,1 0 1,1 0,-1A1,1 0 0,1 1,0Z\" style=\"opacity: 1; stroke-width: 0px; fill: rgb(76, 114, 176); fill-opacity: 1;\"/><path class=\"point\" transform=\"translate(334.62,125.18)\" d=\"M1,0A1,1 0 1,1 0,-1A1,1 0 0,1 1,0Z\" style=\"opacity: 1; stroke-width: 0px; fill: rgb(76, 114, 176); fill-opacity: 1;\"/><path class=\"point\" transform=\"translate(335.11,123.42)\" d=\"M1,0A1,1 0 1,1 0,-1A1,1 0 0,1 1,0Z\" style=\"opacity: 1; stroke-width: 0px; fill: rgb(76, 114, 176); fill-opacity: 1;\"/><path class=\"point\" transform=\"translate(335.59,137.74)\" d=\"M1,0A1,1 0 1,1 0,-1A1,1 0 0,1 1,0Z\" style=\"opacity: 1; stroke-width: 0px; fill: rgb(76, 114, 176); fill-opacity: 1;\"/><path class=\"point\" transform=\"translate(336.07,140.38)\" d=\"M1,0A1,1 0 1,1 0,-1A1,1 0 0,1 1,0Z\" style=\"opacity: 1; stroke-width: 0px; fill: rgb(76, 114, 176); fill-opacity: 1;\"/><path class=\"point\" transform=\"translate(336.55,138.18)\" d=\"M1,0A1,1 0 1,1 0,-1A1,1 0 0,1 1,0Z\" style=\"opacity: 1; stroke-width: 0px; fill: rgb(76, 114, 176); fill-opacity: 1;\"/><path class=\"point\" transform=\"translate(337.03,126.13)\" d=\"M1,0A1,1 0 1,1 0,-1A1,1 0 0,1 1,0Z\" style=\"opacity: 1; stroke-width: 0px; fill: rgb(76, 114, 176); fill-opacity: 1;\"/><path class=\"point\" transform=\"translate(337.51,138.64)\" d=\"M1,0A1,1 0 1,1 0,-1A1,1 0 0,1 1,0Z\" style=\"opacity: 1; stroke-width: 0px; fill: rgb(76, 114, 176); fill-opacity: 1;\"/><path class=\"point\" transform=\"translate(337.99,128.46)\" d=\"M1,0A1,1 0 1,1 0,-1A1,1 0 0,1 1,0Z\" style=\"opacity: 1; stroke-width: 0px; fill: rgb(76, 114, 176); fill-opacity: 1;\"/><path class=\"point\" transform=\"translate(338.47,131.39)\" d=\"M1,0A1,1 0 1,1 0,-1A1,1 0 0,1 1,0Z\" style=\"opacity: 1; stroke-width: 0px; fill: rgb(76, 114, 176); fill-opacity: 1;\"/><path class=\"point\" transform=\"translate(338.95,119.7)\" d=\"M1,0A1,1 0 1,1 0,-1A1,1 0 0,1 1,0Z\" style=\"opacity: 1; stroke-width: 0px; fill: rgb(76, 114, 176); fill-opacity: 1;\"/><path class=\"point\" transform=\"translate(339.43,104.91)\" d=\"M1,0A1,1 0 1,1 0,-1A1,1 0 0,1 1,0Z\" style=\"opacity: 1; stroke-width: 0px; fill: rgb(76, 114, 176); fill-opacity: 1;\"/><path class=\"point\" transform=\"translate(339.91,125.95)\" d=\"M1,0A1,1 0 1,1 0,-1A1,1 0 0,1 1,0Z\" style=\"opacity: 1; stroke-width: 0px; fill: rgb(76, 114, 176); fill-opacity: 1;\"/><path class=\"point\" transform=\"translate(340.39,127.26)\" d=\"M1,0A1,1 0 1,1 0,-1A1,1 0 0,1 1,0Z\" style=\"opacity: 1; stroke-width: 0px; fill: rgb(76, 114, 176); fill-opacity: 1;\"/><path class=\"point\" transform=\"translate(340.87,103.67)\" d=\"M1,0A1,1 0 1,1 0,-1A1,1 0 0,1 1,0Z\" style=\"opacity: 1; stroke-width: 0px; fill: rgb(76, 114, 176); fill-opacity: 1;\"/><path class=\"point\" transform=\"translate(341.35,128.1)\" d=\"M1,0A1,1 0 1,1 0,-1A1,1 0 0,1 1,0Z\" style=\"opacity: 1; stroke-width: 0px; fill: rgb(76, 114, 176); fill-opacity: 1;\"/><path class=\"point\" transform=\"translate(341.83,105.53)\" d=\"M1,0A1,1 0 1,1 0,-1A1,1 0 0,1 1,0Z\" style=\"opacity: 1; stroke-width: 0px; fill: rgb(76, 114, 176); fill-opacity: 1;\"/><path class=\"point\" transform=\"translate(342.31,134.33)\" d=\"M1,0A1,1 0 1,1 0,-1A1,1 0 0,1 1,0Z\" style=\"opacity: 1; stroke-width: 0px; fill: rgb(76, 114, 176); fill-opacity: 1;\"/><path class=\"point\" transform=\"translate(342.79,142.67)\" d=\"M1,0A1,1 0 1,1 0,-1A1,1 0 0,1 1,0Z\" style=\"opacity: 1; stroke-width: 0px; fill: rgb(76, 114, 176); fill-opacity: 1;\"/><path class=\"point\" transform=\"translate(343.27,125.94)\" d=\"M1,0A1,1 0 1,1 0,-1A1,1 0 0,1 1,0Z\" style=\"opacity: 1; stroke-width: 0px; fill: rgb(76, 114, 176); fill-opacity: 1;\"/><path class=\"point\" transform=\"translate(343.75,104.74)\" d=\"M1,0A1,1 0 1,1 0,-1A1,1 0 0,1 1,0Z\" style=\"opacity: 1; stroke-width: 0px; fill: rgb(76, 114, 176); fill-opacity: 1;\"/><path class=\"point\" transform=\"translate(344.23,142.92)\" d=\"M1,0A1,1 0 1,1 0,-1A1,1 0 0,1 1,0Z\" style=\"opacity: 1; stroke-width: 0px; fill: rgb(76, 114, 176); fill-opacity: 1;\"/><path class=\"point\" transform=\"translate(344.71,127.01)\" d=\"M1,0A1,1 0 1,1 0,-1A1,1 0 0,1 1,0Z\" style=\"opacity: 1; stroke-width: 0px; fill: rgb(76, 114, 176); fill-opacity: 1;\"/><path class=\"point\" transform=\"translate(345.2,101.12)\" d=\"M1,0A1,1 0 1,1 0,-1A1,1 0 0,1 1,0Z\" style=\"opacity: 1; stroke-width: 0px; fill: rgb(76, 114, 176); fill-opacity: 1;\"/><path class=\"point\" transform=\"translate(345.68,124.37)\" d=\"M1,0A1,1 0 1,1 0,-1A1,1 0 0,1 1,0Z\" style=\"opacity: 1; stroke-width: 0px; fill: rgb(76, 114, 176); fill-opacity: 1;\"/><path class=\"point\" transform=\"translate(346.16,141.41)\" d=\"M1,0A1,1 0 1,1 0,-1A1,1 0 0,1 1,0Z\" style=\"opacity: 1; stroke-width: 0px; fill: rgb(76, 114, 176); fill-opacity: 1;\"/><path class=\"point\" transform=\"translate(346.64,124.93)\" d=\"M1,0A1,1 0 1,1 0,-1A1,1 0 0,1 1,0Z\" style=\"opacity: 1; stroke-width: 0px; fill: rgb(76, 114, 176); fill-opacity: 1;\"/><path class=\"point\" transform=\"translate(347.12,129.53)\" d=\"M1,0A1,1 0 1,1 0,-1A1,1 0 0,1 1,0Z\" style=\"opacity: 1; stroke-width: 0px; fill: rgb(76, 114, 176); fill-opacity: 1;\"/><path class=\"point\" transform=\"translate(347.6,126.46)\" d=\"M1,0A1,1 0 1,1 0,-1A1,1 0 0,1 1,0Z\" style=\"opacity: 1; stroke-width: 0px; fill: rgb(76, 114, 176); fill-opacity: 1;\"/><path class=\"point\" transform=\"translate(348.08,124.99)\" d=\"M1,0A1,1 0 1,1 0,-1A1,1 0 0,1 1,0Z\" style=\"opacity: 1; stroke-width: 0px; fill: rgb(76, 114, 176); fill-opacity: 1;\"/><path class=\"point\" transform=\"translate(348.56,118.6)\" d=\"M1,0A1,1 0 1,1 0,-1A1,1 0 0,1 1,0Z\" style=\"opacity: 1; stroke-width: 0px; fill: rgb(76, 114, 176); fill-opacity: 1;\"/><path class=\"point\" transform=\"translate(349.04,101)\" d=\"M1,0A1,1 0 1,1 0,-1A1,1 0 0,1 1,0Z\" style=\"opacity: 1; stroke-width: 0px; fill: rgb(76, 114, 176); fill-opacity: 1;\"/><path class=\"point\" transform=\"translate(349.52,123.46)\" d=\"M1,0A1,1 0 1,1 0,-1A1,1 0 0,1 1,0Z\" style=\"opacity: 1; stroke-width: 0px; fill: rgb(76, 114, 176); fill-opacity: 1;\"/><path class=\"point\" transform=\"translate(350,111.72)\" d=\"M1,0A1,1 0 1,1 0,-1A1,1 0 0,1 1,0Z\" style=\"opacity: 1; stroke-width: 0px; fill: rgb(76, 114, 176); fill-opacity: 1;\"/><path class=\"point\" transform=\"translate(350.48,106.48)\" d=\"M1,0A1,1 0 1,1 0,-1A1,1 0 0,1 1,0Z\" style=\"opacity: 1; stroke-width: 0px; fill: rgb(76, 114, 176); fill-opacity: 1;\"/><path class=\"point\" transform=\"translate(350.96,130.7)\" d=\"M1,0A1,1 0 1,1 0,-1A1,1 0 0,1 1,0Z\" style=\"opacity: 1; stroke-width: 0px; fill: rgb(76, 114, 176); fill-opacity: 1;\"/><path class=\"point\" transform=\"translate(351.44,123.53)\" d=\"M1,0A1,1 0 1,1 0,-1A1,1 0 0,1 1,0Z\" style=\"opacity: 1; stroke-width: 0px; fill: rgb(76, 114, 176); fill-opacity: 1;\"/><path class=\"point\" transform=\"translate(351.92,105.41)\" d=\"M1,0A1,1 0 1,1 0,-1A1,1 0 0,1 1,0Z\" style=\"opacity: 1; stroke-width: 0px; fill: rgb(76, 114, 176); fill-opacity: 1;\"/><path class=\"point\" transform=\"translate(352.4,105.72)\" d=\"M1,0A1,1 0 1,1 0,-1A1,1 0 0,1 1,0Z\" style=\"opacity: 1; stroke-width: 0px; fill: rgb(76, 114, 176); fill-opacity: 1;\"/><path class=\"point\" transform=\"translate(352.88,122.15)\" d=\"M1,0A1,1 0 1,1 0,-1A1,1 0 0,1 1,0Z\" style=\"opacity: 1; stroke-width: 0px; fill: rgb(76, 114, 176); fill-opacity: 1;\"/><path class=\"point\" transform=\"translate(353.36,131.5)\" d=\"M1,0A1,1 0 1,1 0,-1A1,1 0 0,1 1,0Z\" style=\"opacity: 1; stroke-width: 0px; fill: rgb(76, 114, 176); fill-opacity: 1;\"/><path class=\"point\" transform=\"translate(353.84,102.56)\" d=\"M1,0A1,1 0 1,1 0,-1A1,1 0 0,1 1,0Z\" style=\"opacity: 1; stroke-width: 0px; fill: rgb(76, 114, 176); fill-opacity: 1;\"/><path class=\"point\" transform=\"translate(354.32,101.08)\" d=\"M1,0A1,1 0 1,1 0,-1A1,1 0 0,1 1,0Z\" style=\"opacity: 1; stroke-width: 0px; fill: rgb(76, 114, 176); fill-opacity: 1;\"/><path class=\"point\" transform=\"translate(354.8,122.44)\" d=\"M1,0A1,1 0 1,1 0,-1A1,1 0 0,1 1,0Z\" style=\"opacity: 1; stroke-width: 0px; fill: rgb(76, 114, 176); fill-opacity: 1;\"/><path class=\"point\" transform=\"translate(355.29,120.6)\" d=\"M1,0A1,1 0 1,1 0,-1A1,1 0 0,1 1,0Z\" style=\"opacity: 1; stroke-width: 0px; fill: rgb(76, 114, 176); fill-opacity: 1;\"/><path class=\"point\" transform=\"translate(355.77,113.33)\" d=\"M1,0A1,1 0 1,1 0,-1A1,1 0 0,1 1,0Z\" style=\"opacity: 1; stroke-width: 0px; fill: rgb(76, 114, 176); fill-opacity: 1;\"/><path class=\"point\" transform=\"translate(356.25,103.01)\" d=\"M1,0A1,1 0 1,1 0,-1A1,1 0 0,1 1,0Z\" style=\"opacity: 1; stroke-width: 0px; fill: rgb(76, 114, 176); fill-opacity: 1;\"/><path class=\"point\" transform=\"translate(356.73,112.79)\" d=\"M1,0A1,1 0 1,1 0,-1A1,1 0 0,1 1,0Z\" style=\"opacity: 1; stroke-width: 0px; fill: rgb(76, 114, 176); fill-opacity: 1;\"/><path class=\"point\" transform=\"translate(357.21,96.38)\" d=\"M1,0A1,1 0 1,1 0,-1A1,1 0 0,1 1,0Z\" style=\"opacity: 1; stroke-width: 0px; fill: rgb(76, 114, 176); fill-opacity: 1;\"/><path class=\"point\" transform=\"translate(357.69,115.76)\" d=\"M1,0A1,1 0 1,1 0,-1A1,1 0 0,1 1,0Z\" style=\"opacity: 1; stroke-width: 0px; fill: rgb(76, 114, 176); fill-opacity: 1;\"/><path class=\"point\" transform=\"translate(358.17,111.09)\" d=\"M1,0A1,1 0 1,1 0,-1A1,1 0 0,1 1,0Z\" style=\"opacity: 1; stroke-width: 0px; fill: rgb(76, 114, 176); fill-opacity: 1;\"/><path class=\"point\" transform=\"translate(358.65,127.75)\" d=\"M1,0A1,1 0 1,1 0,-1A1,1 0 0,1 1,0Z\" style=\"opacity: 1; stroke-width: 0px; fill: rgb(76, 114, 176); fill-opacity: 1;\"/><path class=\"point\" transform=\"translate(359.13,97.51)\" d=\"M1,0A1,1 0 1,1 0,-1A1,1 0 0,1 1,0Z\" style=\"opacity: 1; stroke-width: 0px; fill: rgb(76, 114, 176); fill-opacity: 1;\"/><path class=\"point\" transform=\"translate(359.61,103.72)\" d=\"M1,0A1,1 0 1,1 0,-1A1,1 0 0,1 1,0Z\" style=\"opacity: 1; stroke-width: 0px; fill: rgb(76, 114, 176); fill-opacity: 1;\"/><path class=\"point\" transform=\"translate(360.09,97.63)\" d=\"M1,0A1,1 0 1,1 0,-1A1,1 0 0,1 1,0Z\" style=\"opacity: 1; stroke-width: 0px; fill: rgb(76, 114, 176); fill-opacity: 1;\"/><path class=\"point\" transform=\"translate(360.57,121.44)\" d=\"M1,0A1,1 0 1,1 0,-1A1,1 0 0,1 1,0Z\" style=\"opacity: 1; stroke-width: 0px; fill: rgb(76, 114, 176); fill-opacity: 1;\"/><path class=\"point\" transform=\"translate(361.05,110.87)\" d=\"M1,0A1,1 0 1,1 0,-1A1,1 0 0,1 1,0Z\" style=\"opacity: 1; stroke-width: 0px; fill: rgb(76, 114, 176); fill-opacity: 1;\"/><path class=\"point\" transform=\"translate(361.53,94.53)\" d=\"M1,0A1,1 0 1,1 0,-1A1,1 0 0,1 1,0Z\" style=\"opacity: 1; stroke-width: 0px; fill: rgb(76, 114, 176); fill-opacity: 1;\"/><path class=\"point\" transform=\"translate(362.01,115.06)\" d=\"M1,0A1,1 0 1,1 0,-1A1,1 0 0,1 1,0Z\" style=\"opacity: 1; stroke-width: 0px; fill: rgb(76, 114, 176); fill-opacity: 1;\"/><path class=\"point\" transform=\"translate(362.49,130.35)\" d=\"M1,0A1,1 0 1,1 0,-1A1,1 0 0,1 1,0Z\" style=\"opacity: 1; stroke-width: 0px; fill: rgb(76, 114, 176); fill-opacity: 1;\"/><path class=\"point\" transform=\"translate(362.97,94.32)\" d=\"M1,0A1,1 0 1,1 0,-1A1,1 0 0,1 1,0Z\" style=\"opacity: 1; stroke-width: 0px; fill: rgb(76, 114, 176); fill-opacity: 1;\"/><path class=\"point\" transform=\"translate(363.45,119.69)\" d=\"M1,0A1,1 0 1,1 0,-1A1,1 0 0,1 1,0Z\" style=\"opacity: 1; stroke-width: 0px; fill: rgb(76, 114, 176); fill-opacity: 1;\"/><path class=\"point\" transform=\"translate(363.93,97.67)\" d=\"M1,0A1,1 0 1,1 0,-1A1,1 0 0,1 1,0Z\" style=\"opacity: 1; stroke-width: 0px; fill: rgb(76, 114, 176); fill-opacity: 1;\"/><path class=\"point\" transform=\"translate(364.41,115.72)\" d=\"M1,0A1,1 0 1,1 0,-1A1,1 0 0,1 1,0Z\" style=\"opacity: 1; stroke-width: 0px; fill: rgb(76, 114, 176); fill-opacity: 1;\"/><path class=\"point\" transform=\"translate(364.89,118.05)\" d=\"M1,0A1,1 0 1,1 0,-1A1,1 0 0,1 1,0Z\" style=\"opacity: 1; stroke-width: 0px; fill: rgb(76, 114, 176); fill-opacity: 1;\"/><path class=\"point\" transform=\"translate(365.38,92.72)\" d=\"M1,0A1,1 0 1,1 0,-1A1,1 0 0,1 1,0Z\" style=\"opacity: 1; stroke-width: 0px; fill: rgb(76, 114, 176); fill-opacity: 1;\"/><path class=\"point\" transform=\"translate(365.86,93.87)\" d=\"M1,0A1,1 0 1,1 0,-1A1,1 0 0,1 1,0Z\" style=\"opacity: 1; stroke-width: 0px; fill: rgb(76, 114, 176); fill-opacity: 1;\"/><path class=\"point\" transform=\"translate(366.34,91)\" d=\"M1,0A1,1 0 1,1 0,-1A1,1 0 0,1 1,0Z\" style=\"opacity: 1; stroke-width: 0px; fill: rgb(76, 114, 176); fill-opacity: 1;\"/><path class=\"point\" transform=\"translate(366.82,96.84)\" d=\"M1,0A1,1 0 1,1 0,-1A1,1 0 0,1 1,0Z\" style=\"opacity: 1; stroke-width: 0px; fill: rgb(76, 114, 176); fill-opacity: 1;\"/><path class=\"point\" transform=\"translate(367.3,97.76)\" d=\"M1,0A1,1 0 1,1 0,-1A1,1 0 0,1 1,0Z\" style=\"opacity: 1; stroke-width: 0px; fill: rgb(76, 114, 176); fill-opacity: 1;\"/><path class=\"point\" transform=\"translate(367.78,97.2)\" d=\"M1,0A1,1 0 1,1 0,-1A1,1 0 0,1 1,0Z\" style=\"opacity: 1; stroke-width: 0px; fill: rgb(76, 114, 176); fill-opacity: 1;\"/><path class=\"point\" transform=\"translate(368.26,108.52)\" d=\"M1,0A1,1 0 1,1 0,-1A1,1 0 0,1 1,0Z\" style=\"opacity: 1; stroke-width: 0px; fill: rgb(76, 114, 176); fill-opacity: 1;\"/><path class=\"point\" transform=\"translate(368.74,126.25)\" d=\"M1,0A1,1 0 1,1 0,-1A1,1 0 0,1 1,0Z\" style=\"opacity: 1; stroke-width: 0px; fill: rgb(76, 114, 176); fill-opacity: 1;\"/><path class=\"point\" transform=\"translate(369.22,118.49)\" d=\"M1,0A1,1 0 1,1 0,-1A1,1 0 0,1 1,0Z\" style=\"opacity: 1; stroke-width: 0px; fill: rgb(76, 114, 176); fill-opacity: 1;\"/><path class=\"point\" transform=\"translate(369.7,120.33)\" d=\"M1,0A1,1 0 1,1 0,-1A1,1 0 0,1 1,0Z\" style=\"opacity: 1; stroke-width: 0px; fill: rgb(76, 114, 176); fill-opacity: 1;\"/><path class=\"point\" transform=\"translate(370.18,120.9)\" d=\"M1,0A1,1 0 1,1 0,-1A1,1 0 0,1 1,0Z\" style=\"opacity: 1; stroke-width: 0px; fill: rgb(76, 114, 176); fill-opacity: 1;\"/><path class=\"point\" transform=\"translate(370.66,107.53)\" d=\"M1,0A1,1 0 1,1 0,-1A1,1 0 0,1 1,0Z\" style=\"opacity: 1; stroke-width: 0px; fill: rgb(76, 114, 176); fill-opacity: 1;\"/><path class=\"point\" transform=\"translate(371.14,116.82)\" d=\"M1,0A1,1 0 1,1 0,-1A1,1 0 0,1 1,0Z\" style=\"opacity: 1; stroke-width: 0px; fill: rgb(76, 114, 176); fill-opacity: 1;\"/><path class=\"point\" transform=\"translate(371.62,110.05)\" d=\"M1,0A1,1 0 1,1 0,-1A1,1 0 0,1 1,0Z\" style=\"opacity: 1; stroke-width: 0px; fill: rgb(76, 114, 176); fill-opacity: 1;\"/><path class=\"point\" transform=\"translate(372.1,115.72)\" d=\"M1,0A1,1 0 1,1 0,-1A1,1 0 0,1 1,0Z\" style=\"opacity: 1; stroke-width: 0px; fill: rgb(76, 114, 176); fill-opacity: 1;\"/><path class=\"point\" transform=\"translate(372.58,104.04)\" d=\"M1,0A1,1 0 1,1 0,-1A1,1 0 0,1 1,0Z\" style=\"opacity: 1; stroke-width: 0px; fill: rgb(76, 114, 176); fill-opacity: 1;\"/><path class=\"point\" transform=\"translate(373.06,91.82)\" d=\"M1,0A1,1 0 1,1 0,-1A1,1 0 0,1 1,0Z\" style=\"opacity: 1; stroke-width: 0px; fill: rgb(76, 114, 176); fill-opacity: 1;\"/><path class=\"point\" transform=\"translate(373.54,95.21)\" d=\"M1,0A1,1 0 1,1 0,-1A1,1 0 0,1 1,0Z\" style=\"opacity: 1; stroke-width: 0px; fill: rgb(76, 114, 176); fill-opacity: 1;\"/><path class=\"point\" transform=\"translate(374.02,113.65)\" d=\"M1,0A1,1 0 1,1 0,-1A1,1 0 0,1 1,0Z\" style=\"opacity: 1; stroke-width: 0px; fill: rgb(76, 114, 176); fill-opacity: 1;\"/><path class=\"point\" transform=\"translate(374.5,115.81)\" d=\"M1,0A1,1 0 1,1 0,-1A1,1 0 0,1 1,0Z\" style=\"opacity: 1; stroke-width: 0px; fill: rgb(76, 114, 176); fill-opacity: 1;\"/><path class=\"point\" transform=\"translate(374.98,86.68)\" d=\"M1,0A1,1 0 1,1 0,-1A1,1 0 0,1 1,0Z\" style=\"opacity: 1; stroke-width: 0px; fill: rgb(76, 114, 176); fill-opacity: 1;\"/><path class=\"point\" transform=\"translate(375.47,112.5)\" d=\"M1,0A1,1 0 1,1 0,-1A1,1 0 0,1 1,0Z\" style=\"opacity: 1; stroke-width: 0px; fill: rgb(76, 114, 176); fill-opacity: 1;\"/><path class=\"point\" transform=\"translate(375.95,126.02)\" d=\"M1,0A1,1 0 1,1 0,-1A1,1 0 0,1 1,0Z\" style=\"opacity: 1; stroke-width: 0px; fill: rgb(76, 114, 176); fill-opacity: 1;\"/><path class=\"point\" transform=\"translate(376.43,111.83)\" d=\"M1,0A1,1 0 1,1 0,-1A1,1 0 0,1 1,0Z\" style=\"opacity: 1; stroke-width: 0px; fill: rgb(76, 114, 176); fill-opacity: 1;\"/><path class=\"point\" transform=\"translate(376.91,105.8)\" d=\"M1,0A1,1 0 1,1 0,-1A1,1 0 0,1 1,0Z\" style=\"opacity: 1; stroke-width: 0px; fill: rgb(76, 114, 176); fill-opacity: 1;\"/><path class=\"point\" transform=\"translate(377.39,97.69)\" d=\"M1,0A1,1 0 1,1 0,-1A1,1 0 0,1 1,0Z\" style=\"opacity: 1; stroke-width: 0px; fill: rgb(76, 114, 176); fill-opacity: 1;\"/><path class=\"point\" transform=\"translate(377.87,122.37)\" d=\"M1,0A1,1 0 1,1 0,-1A1,1 0 0,1 1,0Z\" style=\"opacity: 1; stroke-width: 0px; fill: rgb(76, 114, 176); fill-opacity: 1;\"/><path class=\"point\" transform=\"translate(378.35,88.62)\" d=\"M1,0A1,1 0 1,1 0,-1A1,1 0 0,1 1,0Z\" style=\"opacity: 1; stroke-width: 0px; fill: rgb(76, 114, 176); fill-opacity: 1;\"/><path class=\"point\" transform=\"translate(378.83,110.1)\" d=\"M1,0A1,1 0 1,1 0,-1A1,1 0 0,1 1,0Z\" style=\"opacity: 1; stroke-width: 0px; fill: rgb(76, 114, 176); fill-opacity: 1;\"/><path class=\"point\" transform=\"translate(379.31,108.24)\" d=\"M1,0A1,1 0 1,1 0,-1A1,1 0 0,1 1,0Z\" style=\"opacity: 1; stroke-width: 0px; fill: rgb(76, 114, 176); fill-opacity: 1;\"/><path class=\"point\" transform=\"translate(379.79,85.38)\" d=\"M1,0A1,1 0 1,1 0,-1A1,1 0 0,1 1,0Z\" style=\"opacity: 1; stroke-width: 0px; fill: rgb(76, 114, 176); fill-opacity: 1;\"/><path class=\"point\" transform=\"translate(380.27,118.51)\" d=\"M1,0A1,1 0 1,1 0,-1A1,1 0 0,1 1,0Z\" style=\"opacity: 1; stroke-width: 0px; fill: rgb(76, 114, 176); fill-opacity: 1;\"/><path class=\"point\" transform=\"translate(380.75,89.19)\" d=\"M1,0A1,1 0 1,1 0,-1A1,1 0 0,1 1,0Z\" style=\"opacity: 1; stroke-width: 0px; fill: rgb(76, 114, 176); fill-opacity: 1;\"/><path class=\"point\" transform=\"translate(381.23,110.89)\" d=\"M1,0A1,1 0 1,1 0,-1A1,1 0 0,1 1,0Z\" style=\"opacity: 1; stroke-width: 0px; fill: rgb(76, 114, 176); fill-opacity: 1;\"/><path class=\"point\" transform=\"translate(381.71,106.01)\" d=\"M1,0A1,1 0 1,1 0,-1A1,1 0 0,1 1,0Z\" style=\"opacity: 1; stroke-width: 0px; fill: rgb(76, 114, 176); fill-opacity: 1;\"/><path class=\"point\" transform=\"translate(382.19,86.34)\" d=\"M1,0A1,1 0 1,1 0,-1A1,1 0 0,1 1,0Z\" style=\"opacity: 1; stroke-width: 0px; fill: rgb(76, 114, 176); fill-opacity: 1;\"/><path class=\"point\" transform=\"translate(382.67,118)\" d=\"M1,0A1,1 0 1,1 0,-1A1,1 0 0,1 1,0Z\" style=\"opacity: 1; stroke-width: 0px; fill: rgb(76, 114, 176); fill-opacity: 1;\"/><path class=\"point\" transform=\"translate(383.15,120)\" d=\"M1,0A1,1 0 1,1 0,-1A1,1 0 0,1 1,0Z\" style=\"opacity: 1; stroke-width: 0px; fill: rgb(76, 114, 176); fill-opacity: 1;\"/><path class=\"point\" transform=\"translate(383.63,103.44)\" d=\"M1,0A1,1 0 1,1 0,-1A1,1 0 0,1 1,0Z\" style=\"opacity: 1; stroke-width: 0px; fill: rgb(76, 114, 176); fill-opacity: 1;\"/><path class=\"point\" transform=\"translate(384.11,100.44)\" d=\"M1,0A1,1 0 1,1 0,-1A1,1 0 0,1 1,0Z\" style=\"opacity: 1; stroke-width: 0px; fill: rgb(76, 114, 176); fill-opacity: 1;\"/><path class=\"point\" transform=\"translate(384.59,110.62)\" d=\"M1,0A1,1 0 1,1 0,-1A1,1 0 0,1 1,0Z\" style=\"opacity: 1; stroke-width: 0px; fill: rgb(76, 114, 176); fill-opacity: 1;\"/><path class=\"point\" transform=\"translate(385.08,103.68)\" d=\"M1,0A1,1 0 1,1 0,-1A1,1 0 0,1 1,0Z\" style=\"opacity: 1; stroke-width: 0px; fill: rgb(76, 114, 176); fill-opacity: 1;\"/><path class=\"point\" transform=\"translate(385.56,91.4)\" d=\"M1,0A1,1 0 1,1 0,-1A1,1 0 0,1 1,0Z\" style=\"opacity: 1; stroke-width: 0px; fill: rgb(76, 114, 176); fill-opacity: 1;\"/><path class=\"point\" transform=\"translate(386.04,109.16)\" d=\"M1,0A1,1 0 1,1 0,-1A1,1 0 0,1 1,0Z\" style=\"opacity: 1; stroke-width: 0px; fill: rgb(76, 114, 176); fill-opacity: 1;\"/><path class=\"point\" transform=\"translate(386.52,79.62)\" d=\"M1,0A1,1 0 1,1 0,-1A1,1 0 0,1 1,0Z\" style=\"opacity: 1; stroke-width: 0px; fill: rgb(76, 114, 176); fill-opacity: 1;\"/><path class=\"point\" transform=\"translate(387,91.27)\" d=\"M1,0A1,1 0 1,1 0,-1A1,1 0 0,1 1,0Z\" style=\"opacity: 1; stroke-width: 0px; fill: rgb(76, 114, 176); fill-opacity: 1;\"/><path class=\"point\" transform=\"translate(387.48,90.07)\" d=\"M1,0A1,1 0 1,1 0,-1A1,1 0 0,1 1,0Z\" style=\"opacity: 1; stroke-width: 0px; fill: rgb(76, 114, 176); fill-opacity: 1;\"/><path class=\"point\" transform=\"translate(387.96,100.97)\" d=\"M1,0A1,1 0 1,1 0,-1A1,1 0 0,1 1,0Z\" style=\"opacity: 1; stroke-width: 0px; fill: rgb(76, 114, 176); fill-opacity: 1;\"/><path class=\"point\" transform=\"translate(388.44,109.98)\" d=\"M1,0A1,1 0 1,1 0,-1A1,1 0 0,1 1,0Z\" style=\"opacity: 1; stroke-width: 0px; fill: rgb(76, 114, 176); fill-opacity: 1;\"/><path class=\"point\" transform=\"translate(388.92,87.32)\" d=\"M1,0A1,1 0 1,1 0,-1A1,1 0 0,1 1,0Z\" style=\"opacity: 1; stroke-width: 0px; fill: rgb(76, 114, 176); fill-opacity: 1;\"/><path class=\"point\" transform=\"translate(389.4,107.01)\" d=\"M1,0A1,1 0 1,1 0,-1A1,1 0 0,1 1,0Z\" style=\"opacity: 1; stroke-width: 0px; fill: rgb(76, 114, 176); fill-opacity: 1;\"/><path class=\"point\" transform=\"translate(389.88,116.45)\" d=\"M1,0A1,1 0 1,1 0,-1A1,1 0 0,1 1,0Z\" style=\"opacity: 1; stroke-width: 0px; fill: rgb(76, 114, 176); fill-opacity: 1;\"/><path class=\"point\" transform=\"translate(390.36,95.45)\" d=\"M1,0A1,1 0 1,1 0,-1A1,1 0 0,1 1,0Z\" style=\"opacity: 1; stroke-width: 0px; fill: rgb(76, 114, 176); fill-opacity: 1;\"/><path class=\"point\" transform=\"translate(390.84,101.92)\" d=\"M1,0A1,1 0 1,1 0,-1A1,1 0 0,1 1,0Z\" style=\"opacity: 1; stroke-width: 0px; fill: rgb(76, 114, 176); fill-opacity: 1;\"/><path class=\"point\" transform=\"translate(391.32,100.16)\" d=\"M1,0A1,1 0 1,1 0,-1A1,1 0 0,1 1,0Z\" style=\"opacity: 1; stroke-width: 0px; fill: rgb(76, 114, 176); fill-opacity: 1;\"/><path class=\"point\" transform=\"translate(391.8,83.88)\" d=\"M1,0A1,1 0 1,1 0,-1A1,1 0 0,1 1,0Z\" style=\"opacity: 1; stroke-width: 0px; fill: rgb(76, 114, 176); fill-opacity: 1;\"/><path class=\"point\" transform=\"translate(392.28,87.14)\" d=\"M1,0A1,1 0 1,1 0,-1A1,1 0 0,1 1,0Z\" style=\"opacity: 1; stroke-width: 0px; fill: rgb(76, 114, 176); fill-opacity: 1;\"/><path class=\"point\" transform=\"translate(392.76,97.37)\" d=\"M1,0A1,1 0 1,1 0,-1A1,1 0 0,1 1,0Z\" style=\"opacity: 1; stroke-width: 0px; fill: rgb(76, 114, 176); fill-opacity: 1;\"/><path class=\"point\" transform=\"translate(393.24,104.87)\" d=\"M1,0A1,1 0 1,1 0,-1A1,1 0 0,1 1,0Z\" style=\"opacity: 1; stroke-width: 0px; fill: rgb(76, 114, 176); fill-opacity: 1;\"/><path class=\"point\" transform=\"translate(393.72,116.91)\" d=\"M1,0A1,1 0 1,1 0,-1A1,1 0 0,1 1,0Z\" style=\"opacity: 1; stroke-width: 0px; fill: rgb(76, 114, 176); fill-opacity: 1;\"/><path class=\"point\" transform=\"translate(394.2,93.17)\" d=\"M1,0A1,1 0 1,1 0,-1A1,1 0 0,1 1,0Z\" style=\"opacity: 1; stroke-width: 0px; fill: rgb(76, 114, 176); fill-opacity: 1;\"/><path class=\"point\" transform=\"translate(394.68,81.91)\" d=\"M1,0A1,1 0 1,1 0,-1A1,1 0 0,1 1,0Z\" style=\"opacity: 1; stroke-width: 0px; fill: rgb(76, 114, 176); fill-opacity: 1;\"/><path class=\"point\" transform=\"translate(395.17,115.44)\" d=\"M1,0A1,1 0 1,1 0,-1A1,1 0 0,1 1,0Z\" style=\"opacity: 1; stroke-width: 0px; fill: rgb(76, 114, 176); fill-opacity: 1;\"/><path class=\"point\" transform=\"translate(395.65,112.19)\" d=\"M1,0A1,1 0 1,1 0,-1A1,1 0 0,1 1,0Z\" style=\"opacity: 1; stroke-width: 0px; fill: rgb(76, 114, 176); fill-opacity: 1;\"/><path class=\"point\" transform=\"translate(396.13,114.41)\" d=\"M1,0A1,1 0 1,1 0,-1A1,1 0 0,1 1,0Z\" style=\"opacity: 1; stroke-width: 0px; fill: rgb(76, 114, 176); fill-opacity: 1;\"/><path class=\"point\" transform=\"translate(396.61,90.03)\" d=\"M1,0A1,1 0 1,1 0,-1A1,1 0 0,1 1,0Z\" style=\"opacity: 1; stroke-width: 0px; fill: rgb(76, 114, 176); fill-opacity: 1;\"/><path class=\"point\" transform=\"translate(397.09,93.22)\" d=\"M1,0A1,1 0 1,1 0,-1A1,1 0 0,1 1,0Z\" style=\"opacity: 1; stroke-width: 0px; fill: rgb(76, 114, 176); fill-opacity: 1;\"/><path class=\"point\" transform=\"translate(397.57,77.26)\" d=\"M1,0A1,1 0 1,1 0,-1A1,1 0 0,1 1,0Z\" style=\"opacity: 1; stroke-width: 0px; fill: rgb(76, 114, 176); fill-opacity: 1;\"/><path class=\"point\" transform=\"translate(398.05,90.94)\" d=\"M1,0A1,1 0 1,1 0,-1A1,1 0 0,1 1,0Z\" style=\"opacity: 1; stroke-width: 0px; fill: rgb(76, 114, 176); fill-opacity: 1;\"/><path class=\"point\" transform=\"translate(398.53,81.7)\" d=\"M1,0A1,1 0 1,1 0,-1A1,1 0 0,1 1,0Z\" style=\"opacity: 1; stroke-width: 0px; fill: rgb(76, 114, 176); fill-opacity: 1;\"/><path class=\"point\" transform=\"translate(399.01,83.2)\" d=\"M1,0A1,1 0 1,1 0,-1A1,1 0 0,1 1,0Z\" style=\"opacity: 1; stroke-width: 0px; fill: rgb(76, 114, 176); fill-opacity: 1;\"/><path class=\"point\" transform=\"translate(399.49,100.5)\" d=\"M1,0A1,1 0 1,1 0,-1A1,1 0 0,1 1,0Z\" style=\"opacity: 1; stroke-width: 0px; fill: rgb(76, 114, 176); fill-opacity: 1;\"/><path class=\"point\" transform=\"translate(399.97,105.95)\" d=\"M1,0A1,1 0 1,1 0,-1A1,1 0 0,1 1,0Z\" style=\"opacity: 1; stroke-width: 0px; fill: rgb(76, 114, 176); fill-opacity: 1;\"/><path class=\"point\" transform=\"translate(400.45,111.03)\" d=\"M1,0A1,1 0 1,1 0,-1A1,1 0 0,1 1,0Z\" style=\"opacity: 1; stroke-width: 0px; fill: rgb(76, 114, 176); fill-opacity: 1;\"/><path class=\"point\" transform=\"translate(400.93,97.9)\" d=\"M1,0A1,1 0 1,1 0,-1A1,1 0 0,1 1,0Z\" style=\"opacity: 1; stroke-width: 0px; fill: rgb(76, 114, 176); fill-opacity: 1;\"/><path class=\"point\" transform=\"translate(401.41,92.5)\" d=\"M1,0A1,1 0 1,1 0,-1A1,1 0 0,1 1,0Z\" style=\"opacity: 1; stroke-width: 0px; fill: rgb(76, 114, 176); fill-opacity: 1;\"/><path class=\"point\" transform=\"translate(401.89,105.54)\" d=\"M1,0A1,1 0 1,1 0,-1A1,1 0 0,1 1,0Z\" style=\"opacity: 1; stroke-width: 0px; fill: rgb(76, 114, 176); fill-opacity: 1;\"/><path class=\"point\" transform=\"translate(402.37,111.87)\" d=\"M1,0A1,1 0 1,1 0,-1A1,1 0 0,1 1,0Z\" style=\"opacity: 1; stroke-width: 0px; fill: rgb(76, 114, 176); fill-opacity: 1;\"/><path class=\"point\" transform=\"translate(402.85,85.41)\" d=\"M1,0A1,1 0 1,1 0,-1A1,1 0 0,1 1,0Z\" style=\"opacity: 1; stroke-width: 0px; fill: rgb(76, 114, 176); fill-opacity: 1;\"/><path class=\"point\" transform=\"translate(403.33,74.33)\" d=\"M1,0A1,1 0 1,1 0,-1A1,1 0 0,1 1,0Z\" style=\"opacity: 1; stroke-width: 0px; fill: rgb(76, 114, 176); fill-opacity: 1;\"/><path class=\"point\" transform=\"translate(403.81,83.26)\" d=\"M1,0A1,1 0 1,1 0,-1A1,1 0 0,1 1,0Z\" style=\"opacity: 1; stroke-width: 0px; fill: rgb(76, 114, 176); fill-opacity: 1;\"/><path class=\"point\" transform=\"translate(404.29,84.77)\" d=\"M1,0A1,1 0 1,1 0,-1A1,1 0 0,1 1,0Z\" style=\"opacity: 1; stroke-width: 0px; fill: rgb(76, 114, 176); fill-opacity: 1;\"/><path class=\"point\" transform=\"translate(404.77,105.06)\" d=\"M1,0A1,1 0 1,1 0,-1A1,1 0 0,1 1,0Z\" style=\"opacity: 1; stroke-width: 0px; fill: rgb(76, 114, 176); fill-opacity: 1;\"/><path class=\"point\" transform=\"translate(405.26,98.89)\" d=\"M1,0A1,1 0 1,1 0,-1A1,1 0 0,1 1,0Z\" style=\"opacity: 1; stroke-width: 0px; fill: rgb(76, 114, 176); fill-opacity: 1;\"/><path class=\"point\" transform=\"translate(405.74,77.3)\" d=\"M1,0A1,1 0 1,1 0,-1A1,1 0 0,1 1,0Z\" style=\"opacity: 1; stroke-width: 0px; fill: rgb(76, 114, 176); fill-opacity: 1;\"/><path class=\"point\" transform=\"translate(406.22,110.63)\" d=\"M1,0A1,1 0 1,1 0,-1A1,1 0 0,1 1,0Z\" style=\"opacity: 1; stroke-width: 0px; fill: rgb(76, 114, 176); fill-opacity: 1;\"/><path class=\"point\" transform=\"translate(406.7,91.38)\" d=\"M1,0A1,1 0 1,1 0,-1A1,1 0 0,1 1,0Z\" style=\"opacity: 1; stroke-width: 0px; fill: rgb(76, 114, 176); fill-opacity: 1;\"/><path class=\"point\" transform=\"translate(407.18,83.05)\" d=\"M1,0A1,1 0 1,1 0,-1A1,1 0 0,1 1,0Z\" style=\"opacity: 1; stroke-width: 0px; fill: rgb(76, 114, 176); fill-opacity: 1;\"/><path class=\"point\" transform=\"translate(407.66,106.56)\" d=\"M1,0A1,1 0 1,1 0,-1A1,1 0 0,1 1,0Z\" style=\"opacity: 1; stroke-width: 0px; fill: rgb(76, 114, 176); fill-opacity: 1;\"/><path class=\"point\" transform=\"translate(408.14,94.64)\" d=\"M1,0A1,1 0 1,1 0,-1A1,1 0 0,1 1,0Z\" style=\"opacity: 1; stroke-width: 0px; fill: rgb(76, 114, 176); fill-opacity: 1;\"/><path class=\"point\" transform=\"translate(408.62,102.78)\" d=\"M1,0A1,1 0 1,1 0,-1A1,1 0 0,1 1,0Z\" style=\"opacity: 1; stroke-width: 0px; fill: rgb(76, 114, 176); fill-opacity: 1;\"/><path class=\"point\" transform=\"translate(409.1,99.68)\" d=\"M1,0A1,1 0 1,1 0,-1A1,1 0 0,1 1,0Z\" style=\"opacity: 1; stroke-width: 0px; fill: rgb(76, 114, 176); fill-opacity: 1;\"/><path class=\"point\" transform=\"translate(409.58,91.65)\" d=\"M1,0A1,1 0 1,1 0,-1A1,1 0 0,1 1,0Z\" style=\"opacity: 1; stroke-width: 0px; fill: rgb(76, 114, 176); fill-opacity: 1;\"/><path class=\"point\" transform=\"translate(410.06,74.27)\" d=\"M1,0A1,1 0 1,1 0,-1A1,1 0 0,1 1,0Z\" style=\"opacity: 1; stroke-width: 0px; fill: rgb(76, 114, 176); fill-opacity: 1;\"/><path class=\"point\" transform=\"translate(410.54,80.92)\" d=\"M1,0A1,1 0 1,1 0,-1A1,1 0 0,1 1,0Z\" style=\"opacity: 1; stroke-width: 0px; fill: rgb(76, 114, 176); fill-opacity: 1;\"/><path class=\"point\" transform=\"translate(411.02,105)\" d=\"M1,0A1,1 0 1,1 0,-1A1,1 0 0,1 1,0Z\" style=\"opacity: 1; stroke-width: 0px; fill: rgb(76, 114, 176); fill-opacity: 1;\"/><path class=\"point\" transform=\"translate(411.5,87.12)\" d=\"M1,0A1,1 0 1,1 0,-1A1,1 0 0,1 1,0Z\" style=\"opacity: 1; stroke-width: 0px; fill: rgb(76, 114, 176); fill-opacity: 1;\"/><path class=\"point\" transform=\"translate(411.98,92.1)\" d=\"M1,0A1,1 0 1,1 0,-1A1,1 0 0,1 1,0Z\" style=\"opacity: 1; stroke-width: 0px; fill: rgb(76, 114, 176); fill-opacity: 1;\"/><path class=\"point\" transform=\"translate(412.46,98.43)\" d=\"M1,0A1,1 0 1,1 0,-1A1,1 0 0,1 1,0Z\" style=\"opacity: 1; stroke-width: 0px; fill: rgb(76, 114, 176); fill-opacity: 1;\"/><path class=\"point\" transform=\"translate(412.94,78.35)\" d=\"M1,0A1,1 0 1,1 0,-1A1,1 0 0,1 1,0Z\" style=\"opacity: 1; stroke-width: 0px; fill: rgb(76, 114, 176); fill-opacity: 1;\"/><path class=\"point\" transform=\"translate(413.42,101.24)\" d=\"M1,0A1,1 0 1,1 0,-1A1,1 0 0,1 1,0Z\" style=\"opacity: 1; stroke-width: 0px; fill: rgb(76, 114, 176); fill-opacity: 1;\"/><path class=\"point\" transform=\"translate(413.9,94.71)\" d=\"M1,0A1,1 0 1,1 0,-1A1,1 0 0,1 1,0Z\" style=\"opacity: 1; stroke-width: 0px; fill: rgb(76, 114, 176); fill-opacity: 1;\"/><path class=\"point\" transform=\"translate(414.38,98.19)\" d=\"M1,0A1,1 0 1,1 0,-1A1,1 0 0,1 1,0Z\" style=\"opacity: 1; stroke-width: 0px; fill: rgb(76, 114, 176); fill-opacity: 1;\"/><path class=\"point\" transform=\"translate(414.86,76.2)\" d=\"M1,0A1,1 0 1,1 0,-1A1,1 0 0,1 1,0Z\" style=\"opacity: 1; stroke-width: 0px; fill: rgb(76, 114, 176); fill-opacity: 1;\"/><path class=\"point\" transform=\"translate(415.35,87.1)\" d=\"M1,0A1,1 0 1,1 0,-1A1,1 0 0,1 1,0Z\" style=\"opacity: 1; stroke-width: 0px; fill: rgb(76, 114, 176); fill-opacity: 1;\"/><path class=\"point\" transform=\"translate(415.83,65.95)\" d=\"M1,0A1,1 0 1,1 0,-1A1,1 0 0,1 1,0Z\" style=\"opacity: 1; stroke-width: 0px; fill: rgb(76, 114, 176); fill-opacity: 1;\"/><path class=\"point\" transform=\"translate(416.31,92.64)\" d=\"M1,0A1,1 0 1,1 0,-1A1,1 0 0,1 1,0Z\" style=\"opacity: 1; stroke-width: 0px; fill: rgb(76, 114, 176); fill-opacity: 1;\"/><path class=\"point\" transform=\"translate(416.79,71.22)\" d=\"M1,0A1,1 0 1,1 0,-1A1,1 0 0,1 1,0Z\" style=\"opacity: 1; stroke-width: 0px; fill: rgb(76, 114, 176); fill-opacity: 1;\"/><path class=\"point\" transform=\"translate(417.27,99.25)\" d=\"M1,0A1,1 0 1,1 0,-1A1,1 0 0,1 1,0Z\" style=\"opacity: 1; stroke-width: 0px; fill: rgb(76, 114, 176); fill-opacity: 1;\"/><path class=\"point\" transform=\"translate(417.75,87.47)\" d=\"M1,0A1,1 0 1,1 0,-1A1,1 0 0,1 1,0Z\" style=\"opacity: 1; stroke-width: 0px; fill: rgb(76, 114, 176); fill-opacity: 1;\"/><path class=\"point\" transform=\"translate(418.23,70.63)\" d=\"M1,0A1,1 0 1,1 0,-1A1,1 0 0,1 1,0Z\" style=\"opacity: 1; stroke-width: 0px; fill: rgb(76, 114, 176); fill-opacity: 1;\"/><path class=\"point\" transform=\"translate(418.71,82.24)\" d=\"M1,0A1,1 0 1,1 0,-1A1,1 0 0,1 1,0Z\" style=\"opacity: 1; stroke-width: 0px; fill: rgb(76, 114, 176); fill-opacity: 1;\"/><path class=\"point\" transform=\"translate(419.19,102.53)\" d=\"M1,0A1,1 0 1,1 0,-1A1,1 0 0,1 1,0Z\" style=\"opacity: 1; stroke-width: 0px; fill: rgb(76, 114, 176); fill-opacity: 1;\"/><path class=\"point\" transform=\"translate(419.67,88.11)\" d=\"M1,0A1,1 0 1,1 0,-1A1,1 0 0,1 1,0Z\" style=\"opacity: 1; stroke-width: 0px; fill: rgb(76, 114, 176); fill-opacity: 1;\"/><path class=\"point\" transform=\"translate(420.15,61.81)\" d=\"M1,0A1,1 0 1,1 0,-1A1,1 0 0,1 1,0Z\" style=\"opacity: 1; stroke-width: 0px; fill: rgb(76, 114, 176); fill-opacity: 1;\"/><path class=\"point\" transform=\"translate(420.63,87.95)\" d=\"M1,0A1,1 0 1,1 0,-1A1,1 0 0,1 1,0Z\" style=\"opacity: 1; stroke-width: 0px; fill: rgb(76, 114, 176); fill-opacity: 1;\"/><path class=\"point\" transform=\"translate(421.11,91.65)\" d=\"M1,0A1,1 0 1,1 0,-1A1,1 0 0,1 1,0Z\" style=\"opacity: 1; stroke-width: 0px; fill: rgb(76, 114, 176); fill-opacity: 1;\"/><path class=\"point\" transform=\"translate(421.59,67.55)\" d=\"M1,0A1,1 0 1,1 0,-1A1,1 0 0,1 1,0Z\" style=\"opacity: 1; stroke-width: 0px; fill: rgb(76, 114, 176); fill-opacity: 1;\"/><path class=\"point\" transform=\"translate(422.07,73.27)\" d=\"M1,0A1,1 0 1,1 0,-1A1,1 0 0,1 1,0Z\" style=\"opacity: 1; stroke-width: 0px; fill: rgb(76, 114, 176); fill-opacity: 1;\"/><path class=\"point\" transform=\"translate(422.55,90.08)\" d=\"M1,0A1,1 0 1,1 0,-1A1,1 0 0,1 1,0Z\" style=\"opacity: 1; stroke-width: 0px; fill: rgb(76, 114, 176); fill-opacity: 1;\"/><path class=\"point\" transform=\"translate(423.03,89.86)\" d=\"M1,0A1,1 0 1,1 0,-1A1,1 0 0,1 1,0Z\" style=\"opacity: 1; stroke-width: 0px; fill: rgb(76, 114, 176); fill-opacity: 1;\"/><path class=\"point\" transform=\"translate(423.51,87.88)\" d=\"M1,0A1,1 0 1,1 0,-1A1,1 0 0,1 1,0Z\" style=\"opacity: 1; stroke-width: 0px; fill: rgb(76, 114, 176); fill-opacity: 1;\"/><path class=\"point\" transform=\"translate(423.99,80.85)\" d=\"M1,0A1,1 0 1,1 0,-1A1,1 0 0,1 1,0Z\" style=\"opacity: 1; stroke-width: 0px; fill: rgb(76, 114, 176); fill-opacity: 1;\"/><path class=\"point\" transform=\"translate(424.47,85.1)\" d=\"M1,0A1,1 0 1,1 0,-1A1,1 0 0,1 1,0Z\" style=\"opacity: 1; stroke-width: 0px; fill: rgb(76, 114, 176); fill-opacity: 1;\"/><path class=\"point\" transform=\"translate(424.95,97.4)\" d=\"M1,0A1,1 0 1,1 0,-1A1,1 0 0,1 1,0Z\" style=\"opacity: 1; stroke-width: 0px; fill: rgb(76, 114, 176); fill-opacity: 1;\"/><path class=\"point\" transform=\"translate(425.44,68.28)\" d=\"M1,0A1,1 0 1,1 0,-1A1,1 0 0,1 1,0Z\" style=\"opacity: 1; stroke-width: 0px; fill: rgb(76, 114, 176); fill-opacity: 1;\"/><path class=\"point\" transform=\"translate(425.92,88.44)\" d=\"M1,0A1,1 0 1,1 0,-1A1,1 0 0,1 1,0Z\" style=\"opacity: 1; stroke-width: 0px; fill: rgb(76, 114, 176); fill-opacity: 1;\"/><path class=\"point\" transform=\"translate(426.4,92.47)\" d=\"M1,0A1,1 0 1,1 0,-1A1,1 0 0,1 1,0Z\" style=\"opacity: 1; stroke-width: 0px; fill: rgb(76, 114, 176); fill-opacity: 1;\"/><path class=\"point\" transform=\"translate(426.88,70.2)\" d=\"M1,0A1,1 0 1,1 0,-1A1,1 0 0,1 1,0Z\" style=\"opacity: 1; stroke-width: 0px; fill: rgb(76, 114, 176); fill-opacity: 1;\"/><path class=\"point\" transform=\"translate(427.36,70.64)\" d=\"M1,0A1,1 0 1,1 0,-1A1,1 0 0,1 1,0Z\" style=\"opacity: 1; stroke-width: 0px; fill: rgb(76, 114, 176); fill-opacity: 1;\"/><path class=\"point\" transform=\"translate(427.84,58.62)\" d=\"M1,0A1,1 0 1,1 0,-1A1,1 0 0,1 1,0Z\" style=\"opacity: 1; stroke-width: 0px; fill: rgb(76, 114, 176); fill-opacity: 1;\"/><path class=\"point\" transform=\"translate(428.32,66.63)\" d=\"M1,0A1,1 0 1,1 0,-1A1,1 0 0,1 1,0Z\" style=\"opacity: 1; stroke-width: 0px; fill: rgb(76, 114, 176); fill-opacity: 1;\"/><path class=\"point\" transform=\"translate(428.8,81.23)\" d=\"M1,0A1,1 0 1,1 0,-1A1,1 0 0,1 1,0Z\" style=\"opacity: 1; stroke-width: 0px; fill: rgb(76, 114, 176); fill-opacity: 1;\"/><path class=\"point\" transform=\"translate(429.28,74.39)\" d=\"M1,0A1,1 0 1,1 0,-1A1,1 0 0,1 1,0Z\" style=\"opacity: 1; stroke-width: 0px; fill: rgb(76, 114, 176); fill-opacity: 1;\"/><path class=\"point\" transform=\"translate(429.76,69.05)\" d=\"M1,0A1,1 0 1,1 0,-1A1,1 0 0,1 1,0Z\" style=\"opacity: 1; stroke-width: 0px; fill: rgb(76, 114, 176); fill-opacity: 1;\"/><path class=\"point\" transform=\"translate(430.24,70.2)\" d=\"M1,0A1,1 0 1,1 0,-1A1,1 0 0,1 1,0Z\" style=\"opacity: 1; stroke-width: 0px; fill: rgb(76, 114, 176); fill-opacity: 1;\"/><path class=\"point\" transform=\"translate(430.72,69.94)\" d=\"M1,0A1,1 0 1,1 0,-1A1,1 0 0,1 1,0Z\" style=\"opacity: 1; stroke-width: 0px; fill: rgb(76, 114, 176); fill-opacity: 1;\"/><path class=\"point\" transform=\"translate(431.2,61.15)\" d=\"M1,0A1,1 0 1,1 0,-1A1,1 0 0,1 1,0Z\" style=\"opacity: 1; stroke-width: 0px; fill: rgb(76, 114, 176); fill-opacity: 1;\"/><path class=\"point\" transform=\"translate(431.68,68.6)\" d=\"M1,0A1,1 0 1,1 0,-1A1,1 0 0,1 1,0Z\" style=\"opacity: 1; stroke-width: 0px; fill: rgb(76, 114, 176); fill-opacity: 1;\"/><path class=\"point\" transform=\"translate(432.16,92.56)\" d=\"M1,0A1,1 0 1,1 0,-1A1,1 0 0,1 1,0Z\" style=\"opacity: 1; stroke-width: 0px; fill: rgb(76, 114, 176); fill-opacity: 1;\"/><path class=\"point\" transform=\"translate(432.64,84.55)\" d=\"M1,0A1,1 0 1,1 0,-1A1,1 0 0,1 1,0Z\" style=\"opacity: 1; stroke-width: 0px; fill: rgb(76, 114, 176); fill-opacity: 1;\"/><path class=\"point\" transform=\"translate(433.12,96.78)\" d=\"M1,0A1,1 0 1,1 0,-1A1,1 0 0,1 1,0Z\" style=\"opacity: 1; stroke-width: 0px; fill: rgb(76, 114, 176); fill-opacity: 1;\"/><path class=\"point\" transform=\"translate(433.6,59.59)\" d=\"M1,0A1,1 0 1,1 0,-1A1,1 0 0,1 1,0Z\" style=\"opacity: 1; stroke-width: 0px; fill: rgb(76, 114, 176); fill-opacity: 1;\"/><path class=\"point\" transform=\"translate(434.08,57.83)\" d=\"M1,0A1,1 0 1,1 0,-1A1,1 0 0,1 1,0Z\" style=\"opacity: 1; stroke-width: 0px; fill: rgb(76, 114, 176); fill-opacity: 1;\"/><path class=\"point\" transform=\"translate(434.56,89.07)\" d=\"M1,0A1,1 0 1,1 0,-1A1,1 0 0,1 1,0Z\" style=\"opacity: 1; stroke-width: 0px; fill: rgb(76, 114, 176); fill-opacity: 1;\"/><path class=\"point\" transform=\"translate(435.05,85.12)\" d=\"M1,0A1,1 0 1,1 0,-1A1,1 0 0,1 1,0Z\" style=\"opacity: 1; stroke-width: 0px; fill: rgb(76, 114, 176); fill-opacity: 1;\"/><path class=\"point\" transform=\"translate(435.53,57.29)\" d=\"M1,0A1,1 0 1,1 0,-1A1,1 0 0,1 1,0Z\" style=\"opacity: 1; stroke-width: 0px; fill: rgb(76, 114, 176); fill-opacity: 1;\"/><path class=\"point\" transform=\"translate(436.01,88.81)\" d=\"M1,0A1,1 0 1,1 0,-1A1,1 0 0,1 1,0Z\" style=\"opacity: 1; stroke-width: 0px; fill: rgb(76, 114, 176); fill-opacity: 1;\"/><path class=\"point\" transform=\"translate(436.49,74.06)\" d=\"M1,0A1,1 0 1,1 0,-1A1,1 0 0,1 1,0Z\" style=\"opacity: 1; stroke-width: 0px; fill: rgb(76, 114, 176); fill-opacity: 1;\"/><path class=\"point\" transform=\"translate(436.97,63.83)\" d=\"M1,0A1,1 0 1,1 0,-1A1,1 0 0,1 1,0Z\" style=\"opacity: 1; stroke-width: 0px; fill: rgb(76, 114, 176); fill-opacity: 1;\"/><path class=\"point\" transform=\"translate(437.45,54.92)\" d=\"M1,0A1,1 0 1,1 0,-1A1,1 0 0,1 1,0Z\" style=\"opacity: 1; stroke-width: 0px; fill: rgb(76, 114, 176); fill-opacity: 1;\"/><path class=\"point\" transform=\"translate(437.93,66.07)\" d=\"M1,0A1,1 0 1,1 0,-1A1,1 0 0,1 1,0Z\" style=\"opacity: 1; stroke-width: 0px; fill: rgb(76, 114, 176); fill-opacity: 1;\"/><path class=\"point\" transform=\"translate(438.41,90.9)\" d=\"M1,0A1,1 0 1,1 0,-1A1,1 0 0,1 1,0Z\" style=\"opacity: 1; stroke-width: 0px; fill: rgb(76, 114, 176); fill-opacity: 1;\"/><path class=\"point\" transform=\"translate(438.89,59.85)\" d=\"M1,0A1,1 0 1,1 0,-1A1,1 0 0,1 1,0Z\" style=\"opacity: 1; stroke-width: 0px; fill: rgb(76, 114, 176); fill-opacity: 1;\"/><path class=\"point\" transform=\"translate(439.37,86.35)\" d=\"M1,0A1,1 0 1,1 0,-1A1,1 0 0,1 1,0Z\" style=\"opacity: 1; stroke-width: 0px; fill: rgb(76, 114, 176); fill-opacity: 1;\"/><path class=\"point\" transform=\"translate(439.85,83.87)\" d=\"M1,0A1,1 0 1,1 0,-1A1,1 0 0,1 1,0Z\" style=\"opacity: 1; stroke-width: 0px; fill: rgb(76, 114, 176); fill-opacity: 1;\"/><path class=\"point\" transform=\"translate(440.33,73.63)\" d=\"M1,0A1,1 0 1,1 0,-1A1,1 0 0,1 1,0Z\" style=\"opacity: 1; stroke-width: 0px; fill: rgb(76, 114, 176); fill-opacity: 1;\"/><path class=\"point\" transform=\"translate(440.81,77.69)\" d=\"M1,0A1,1 0 1,1 0,-1A1,1 0 0,1 1,0Z\" style=\"opacity: 1; stroke-width: 0px; fill: rgb(76, 114, 176); fill-opacity: 1;\"/><path class=\"point\" transform=\"translate(441.29,51.11)\" d=\"M1,0A1,1 0 1,1 0,-1A1,1 0 0,1 1,0Z\" style=\"opacity: 1; stroke-width: 0px; fill: rgb(76, 114, 176); fill-opacity: 1;\"/><path class=\"point\" transform=\"translate(441.77,72.41)\" d=\"M1,0A1,1 0 1,1 0,-1A1,1 0 0,1 1,0Z\" style=\"opacity: 1; stroke-width: 0px; fill: rgb(76, 114, 176); fill-opacity: 1;\"/><path class=\"point\" transform=\"translate(442.25,82.13)\" d=\"M1,0A1,1 0 1,1 0,-1A1,1 0 0,1 1,0Z\" style=\"opacity: 1; stroke-width: 0px; fill: rgb(76, 114, 176); fill-opacity: 1;\"/><path class=\"point\" transform=\"translate(442.73,80.39)\" d=\"M1,0A1,1 0 1,1 0,-1A1,1 0 0,1 1,0Z\" style=\"opacity: 1; stroke-width: 0px; fill: rgb(76, 114, 176); fill-opacity: 1;\"/><path class=\"point\" transform=\"translate(443.21,82.73)\" d=\"M1,0A1,1 0 1,1 0,-1A1,1 0 0,1 1,0Z\" style=\"opacity: 1; stroke-width: 0px; fill: rgb(76, 114, 176); fill-opacity: 1;\"/><path class=\"point\" transform=\"translate(443.69,73.4)\" d=\"M1,0A1,1 0 1,1 0,-1A1,1 0 0,1 1,0Z\" style=\"opacity: 1; stroke-width: 0px; fill: rgb(76, 114, 176); fill-opacity: 1;\"/><path class=\"point\" transform=\"translate(444.17,81.06)\" d=\"M1,0A1,1 0 1,1 0,-1A1,1 0 0,1 1,0Z\" style=\"opacity: 1; stroke-width: 0px; fill: rgb(76, 114, 176); fill-opacity: 1;\"/><path class=\"point\" transform=\"translate(444.65,70.43)\" d=\"M1,0A1,1 0 1,1 0,-1A1,1 0 0,1 1,0Z\" style=\"opacity: 1; stroke-width: 0px; fill: rgb(76, 114, 176); fill-opacity: 1;\"/><path class=\"point\" transform=\"translate(445.14,53.71)\" d=\"M1,0A1,1 0 1,1 0,-1A1,1 0 0,1 1,0Z\" style=\"opacity: 1; stroke-width: 0px; fill: rgb(76, 114, 176); fill-opacity: 1;\"/><path class=\"point\" transform=\"translate(445.62,76.1)\" d=\"M1,0A1,1 0 1,1 0,-1A1,1 0 0,1 1,0Z\" style=\"opacity: 1; stroke-width: 0px; fill: rgb(76, 114, 176); fill-opacity: 1;\"/><path class=\"point\" transform=\"translate(446.1,78.01)\" d=\"M1,0A1,1 0 1,1 0,-1A1,1 0 0,1 1,0Z\" style=\"opacity: 1; stroke-width: 0px; fill: rgb(76, 114, 176); fill-opacity: 1;\"/><path class=\"point\" transform=\"translate(446.58,74.75)\" d=\"M1,0A1,1 0 1,1 0,-1A1,1 0 0,1 1,0Z\" style=\"opacity: 1; stroke-width: 0px; fill: rgb(76, 114, 176); fill-opacity: 1;\"/><path class=\"point\" transform=\"translate(447.06,48.74)\" d=\"M1,0A1,1 0 1,1 0,-1A1,1 0 0,1 1,0Z\" style=\"opacity: 1; stroke-width: 0px; fill: rgb(76, 114, 176); fill-opacity: 1;\"/><path class=\"point\" transform=\"translate(447.54,56.02)\" d=\"M1,0A1,1 0 1,1 0,-1A1,1 0 0,1 1,0Z\" style=\"opacity: 1; stroke-width: 0px; fill: rgb(76, 114, 176); fill-opacity: 1;\"/><path class=\"point\" transform=\"translate(448.02,58.91)\" d=\"M1,0A1,1 0 1,1 0,-1A1,1 0 0,1 1,0Z\" style=\"opacity: 1; stroke-width: 0px; fill: rgb(76, 114, 176); fill-opacity: 1;\"/><path class=\"point\" transform=\"translate(448.5,67.58)\" d=\"M1,0A1,1 0 1,1 0,-1A1,1 0 0,1 1,0Z\" style=\"opacity: 1; stroke-width: 0px; fill: rgb(76, 114, 176); fill-opacity: 1;\"/><path class=\"point\" transform=\"translate(448.98,87.22)\" d=\"M1,0A1,1 0 1,1 0,-1A1,1 0 0,1 1,0Z\" style=\"opacity: 1; stroke-width: 0px; fill: rgb(76, 114, 176); fill-opacity: 1;\"/><path class=\"point\" transform=\"translate(449.46,84.97)\" d=\"M1,0A1,1 0 1,1 0,-1A1,1 0 0,1 1,0Z\" style=\"opacity: 1; stroke-width: 0px; fill: rgb(76, 114, 176); fill-opacity: 1;\"/><path class=\"point\" transform=\"translate(449.94,68.16)\" d=\"M1,0A1,1 0 1,1 0,-1A1,1 0 0,1 1,0Z\" style=\"opacity: 1; stroke-width: 0px; fill: rgb(76, 114, 176); fill-opacity: 1;\"/><path class=\"point\" transform=\"translate(450.42,51.29)\" d=\"M1,0A1,1 0 1,1 0,-1A1,1 0 0,1 1,0Z\" style=\"opacity: 1; stroke-width: 0px; fill: rgb(76, 114, 176); fill-opacity: 1;\"/><path class=\"point\" transform=\"translate(450.9,80.6)\" d=\"M1,0A1,1 0 1,1 0,-1A1,1 0 0,1 1,0Z\" style=\"opacity: 1; stroke-width: 0px; fill: rgb(76, 114, 176); fill-opacity: 1;\"/><path class=\"point\" transform=\"translate(451.38,56.1)\" d=\"M1,0A1,1 0 1,1 0,-1A1,1 0 0,1 1,0Z\" style=\"opacity: 1; stroke-width: 0px; fill: rgb(76, 114, 176); fill-opacity: 1;\"/><path class=\"point\" transform=\"translate(451.86,49.74)\" d=\"M1,0A1,1 0 1,1 0,-1A1,1 0 0,1 1,0Z\" style=\"opacity: 1; stroke-width: 0px; fill: rgb(76, 114, 176); fill-opacity: 1;\"/><path class=\"point\" transform=\"translate(452.34,72.03)\" d=\"M1,0A1,1 0 1,1 0,-1A1,1 0 0,1 1,0Z\" style=\"opacity: 1; stroke-width: 0px; fill: rgb(76, 114, 176); fill-opacity: 1;\"/><path class=\"point\" transform=\"translate(452.82,60.96)\" d=\"M1,0A1,1 0 1,1 0,-1A1,1 0 0,1 1,0Z\" style=\"opacity: 1; stroke-width: 0px; fill: rgb(76, 114, 176); fill-opacity: 1;\"/><path class=\"point\" transform=\"translate(453.3,82.43)\" d=\"M1,0A1,1 0 1,1 0,-1A1,1 0 0,1 1,0Z\" style=\"opacity: 1; stroke-width: 0px; fill: rgb(76, 114, 176); fill-opacity: 1;\"/><path class=\"point\" transform=\"translate(453.78,63.9)\" d=\"M1,0A1,1 0 1,1 0,-1A1,1 0 0,1 1,0Z\" style=\"opacity: 1; stroke-width: 0px; fill: rgb(76, 114, 176); fill-opacity: 1;\"/><path class=\"point\" transform=\"translate(454.26,68.04)\" d=\"M1,0A1,1 0 1,1 0,-1A1,1 0 0,1 1,0Z\" style=\"opacity: 1; stroke-width: 0px; fill: rgb(76, 114, 176); fill-opacity: 1;\"/><path class=\"point\" transform=\"translate(454.74,75.03)\" d=\"M1,0A1,1 0 1,1 0,-1A1,1 0 0,1 1,0Z\" style=\"opacity: 1; stroke-width: 0px; fill: rgb(76, 114, 176); fill-opacity: 1;\"/><path class=\"point\" transform=\"translate(455.23,46.83)\" d=\"M1,0A1,1 0 1,1 0,-1A1,1 0 0,1 1,0Z\" style=\"opacity: 1; stroke-width: 0px; fill: rgb(76, 114, 176); fill-opacity: 1;\"/><path class=\"point\" transform=\"translate(455.71,64.58)\" d=\"M1,0A1,1 0 1,1 0,-1A1,1 0 0,1 1,0Z\" style=\"opacity: 1; stroke-width: 0px; fill: rgb(76, 114, 176); fill-opacity: 1;\"/><path class=\"point\" transform=\"translate(456.19,64.76)\" d=\"M1,0A1,1 0 1,1 0,-1A1,1 0 0,1 1,0Z\" style=\"opacity: 1; stroke-width: 0px; fill: rgb(76, 114, 176); fill-opacity: 1;\"/><path class=\"point\" transform=\"translate(456.67,82.92)\" d=\"M1,0A1,1 0 1,1 0,-1A1,1 0 0,1 1,0Z\" style=\"opacity: 1; stroke-width: 0px; fill: rgb(76, 114, 176); fill-opacity: 1;\"/><path class=\"point\" transform=\"translate(457.15,48.57)\" d=\"M1,0A1,1 0 1,1 0,-1A1,1 0 0,1 1,0Z\" style=\"opacity: 1; stroke-width: 0px; fill: rgb(76, 114, 176); fill-opacity: 1;\"/><path class=\"point\" transform=\"translate(457.63,62.42)\" d=\"M1,0A1,1 0 1,1 0,-1A1,1 0 0,1 1,0Z\" style=\"opacity: 1; stroke-width: 0px; fill: rgb(76, 114, 176); fill-opacity: 1;\"/><path class=\"point\" transform=\"translate(458.11,77.86)\" d=\"M1,0A1,1 0 1,1 0,-1A1,1 0 0,1 1,0Z\" style=\"opacity: 1; stroke-width: 0px; fill: rgb(76, 114, 176); fill-opacity: 1;\"/><path class=\"point\" transform=\"translate(458.59,57.35)\" d=\"M1,0A1,1 0 1,1 0,-1A1,1 0 0,1 1,0Z\" style=\"opacity: 1; stroke-width: 0px; fill: rgb(76, 114, 176); fill-opacity: 1;\"/><path class=\"point\" transform=\"translate(459.07,70.36)\" d=\"M1,0A1,1 0 1,1 0,-1A1,1 0 0,1 1,0Z\" style=\"opacity: 1; stroke-width: 0px; fill: rgb(76, 114, 176); fill-opacity: 1;\"/><path class=\"point\" transform=\"translate(459.55,50.72)\" d=\"M1,0A1,1 0 1,1 0,-1A1,1 0 0,1 1,0Z\" style=\"opacity: 1; stroke-width: 0px; fill: rgb(76, 114, 176); fill-opacity: 1;\"/><path class=\"point\" transform=\"translate(460.03,51.88)\" d=\"M1,0A1,1 0 1,1 0,-1A1,1 0 0,1 1,0Z\" style=\"opacity: 1; stroke-width: 0px; fill: rgb(76, 114, 176); fill-opacity: 1;\"/><path class=\"point\" transform=\"translate(460.51,75.12)\" d=\"M1,0A1,1 0 1,1 0,-1A1,1 0 0,1 1,0Z\" style=\"opacity: 1; stroke-width: 0px; fill: rgb(76, 114, 176); fill-opacity: 1;\"/><path class=\"point\" transform=\"translate(460.99,75.81)\" d=\"M1,0A1,1 0 1,1 0,-1A1,1 0 0,1 1,0Z\" style=\"opacity: 1; stroke-width: 0px; fill: rgb(76, 114, 176); fill-opacity: 1;\"/><path class=\"point\" transform=\"translate(461.47,67.12)\" d=\"M1,0A1,1 0 1,1 0,-1A1,1 0 0,1 1,0Z\" style=\"opacity: 1; stroke-width: 0px; fill: rgb(76, 114, 176); fill-opacity: 1;\"/><path class=\"point\" transform=\"translate(461.95,44.03)\" d=\"M1,0A1,1 0 1,1 0,-1A1,1 0 0,1 1,0Z\" style=\"opacity: 1; stroke-width: 0px; fill: rgb(76, 114, 176); fill-opacity: 1;\"/><path class=\"point\" transform=\"translate(462.43,47.45)\" d=\"M1,0A1,1 0 1,1 0,-1A1,1 0 0,1 1,0Z\" style=\"opacity: 1; stroke-width: 0px; fill: rgb(76, 114, 176); fill-opacity: 1;\"/><path class=\"point\" transform=\"translate(462.91,75.42)\" d=\"M1,0A1,1 0 1,1 0,-1A1,1 0 0,1 1,0Z\" style=\"opacity: 1; stroke-width: 0px; fill: rgb(76, 114, 176); fill-opacity: 1;\"/><path class=\"point\" transform=\"translate(463.39,46.2)\" d=\"M1,0A1,1 0 1,1 0,-1A1,1 0 0,1 1,0Z\" style=\"opacity: 1; stroke-width: 0px; fill: rgb(76, 114, 176); fill-opacity: 1;\"/><path class=\"point\" transform=\"translate(463.87,52.52)\" d=\"M1,0A1,1 0 1,1 0,-1A1,1 0 0,1 1,0Z\" style=\"opacity: 1; stroke-width: 0px; fill: rgb(76, 114, 176); fill-opacity: 1;\"/><path class=\"point\" transform=\"translate(464.35,47.22)\" d=\"M1,0A1,1 0 1,1 0,-1A1,1 0 0,1 1,0Z\" style=\"opacity: 1; stroke-width: 0px; fill: rgb(76, 114, 176); fill-opacity: 1;\"/><path class=\"point\" transform=\"translate(464.83,57.11)\" d=\"M1,0A1,1 0 1,1 0,-1A1,1 0 0,1 1,0Z\" style=\"opacity: 1; stroke-width: 0px; fill: rgb(76, 114, 176); fill-opacity: 1;\"/><path class=\"point\" transform=\"translate(465.32,74.46)\" d=\"M1,0A1,1 0 1,1 0,-1A1,1 0 0,1 1,0Z\" style=\"opacity: 1; stroke-width: 0px; fill: rgb(76, 114, 176); fill-opacity: 1;\"/><path class=\"point\" transform=\"translate(465.8,40.76)\" d=\"M1,0A1,1 0 1,1 0,-1A1,1 0 0,1 1,0Z\" style=\"opacity: 1; stroke-width: 0px; fill: rgb(76, 114, 176); fill-opacity: 1;\"/><path class=\"point\" transform=\"translate(466.28,37.9)\" d=\"M1,0A1,1 0 1,1 0,-1A1,1 0 0,1 1,0Z\" style=\"opacity: 1; stroke-width: 0px; fill: rgb(76, 114, 176); fill-opacity: 1;\"/><path class=\"point\" transform=\"translate(466.76,73.78)\" d=\"M1,0A1,1 0 1,1 0,-1A1,1 0 0,1 1,0Z\" style=\"opacity: 1; stroke-width: 0px; fill: rgb(76, 114, 176); fill-opacity: 1;\"/><path class=\"point\" transform=\"translate(467.24,70.57)\" d=\"M1,0A1,1 0 1,1 0,-1A1,1 0 0,1 1,0Z\" style=\"opacity: 1; stroke-width: 0px; fill: rgb(76, 114, 176); fill-opacity: 1;\"/><path class=\"point\" transform=\"translate(467.72,56.93)\" d=\"M1,0A1,1 0 1,1 0,-1A1,1 0 0,1 1,0Z\" style=\"opacity: 1; stroke-width: 0px; fill: rgb(76, 114, 176); fill-opacity: 1;\"/><path class=\"point\" transform=\"translate(468.2,63.14)\" d=\"M1,0A1,1 0 1,1 0,-1A1,1 0 0,1 1,0Z\" style=\"opacity: 1; stroke-width: 0px; fill: rgb(76, 114, 176); fill-opacity: 1;\"/><path class=\"point\" transform=\"translate(468.68,40.22)\" d=\"M1,0A1,1 0 1,1 0,-1A1,1 0 0,1 1,0Z\" style=\"opacity: 1; stroke-width: 0px; fill: rgb(76, 114, 176); fill-opacity: 1;\"/><path class=\"point\" transform=\"translate(469.16,56.8)\" d=\"M1,0A1,1 0 1,1 0,-1A1,1 0 0,1 1,0Z\" style=\"opacity: 1; stroke-width: 0px; fill: rgb(76, 114, 176); fill-opacity: 1;\"/><path class=\"point\" transform=\"translate(469.64,55.93)\" d=\"M1,0A1,1 0 1,1 0,-1A1,1 0 0,1 1,0Z\" style=\"opacity: 1; stroke-width: 0px; fill: rgb(76, 114, 176); fill-opacity: 1;\"/><path class=\"point\" transform=\"translate(470.12,57.82)\" d=\"M1,0A1,1 0 1,1 0,-1A1,1 0 0,1 1,0Z\" style=\"opacity: 1; stroke-width: 0px; fill: rgb(76, 114, 176); fill-opacity: 1;\"/><path class=\"point\" transform=\"translate(470.6,48.85)\" d=\"M1,0A1,1 0 1,1 0,-1A1,1 0 0,1 1,0Z\" style=\"opacity: 1; stroke-width: 0px; fill: rgb(76, 114, 176); fill-opacity: 1;\"/><path class=\"point\" transform=\"translate(471.08,57.16)\" d=\"M1,0A1,1 0 1,1 0,-1A1,1 0 0,1 1,0Z\" style=\"opacity: 1; stroke-width: 0px; fill: rgb(76, 114, 176); fill-opacity: 1;\"/><path class=\"point\" transform=\"translate(471.56,50.79)\" d=\"M1,0A1,1 0 1,1 0,-1A1,1 0 0,1 1,0Z\" style=\"opacity: 1; stroke-width: 0px; fill: rgb(76, 114, 176); fill-opacity: 1;\"/><path class=\"point\" transform=\"translate(472.04,42.51)\" d=\"M1,0A1,1 0 1,1 0,-1A1,1 0 0,1 1,0Z\" style=\"opacity: 1; stroke-width: 0px; fill: rgb(76, 114, 176); fill-opacity: 1;\"/><path class=\"point\" transform=\"translate(472.52,54.96)\" d=\"M1,0A1,1 0 1,1 0,-1A1,1 0 0,1 1,0Z\" style=\"opacity: 1; stroke-width: 0px; fill: rgb(76, 114, 176); fill-opacity: 1;\"/><path class=\"point\" transform=\"translate(473,62.28)\" d=\"M1,0A1,1 0 1,1 0,-1A1,1 0 0,1 1,0Z\" style=\"opacity: 1; stroke-width: 0px; fill: rgb(76, 114, 176); fill-opacity: 1;\"/><path class=\"point\" transform=\"translate(473.48,40.84)\" d=\"M1,0A1,1 0 1,1 0,-1A1,1 0 0,1 1,0Z\" style=\"opacity: 1; stroke-width: 0px; fill: rgb(76, 114, 176); fill-opacity: 1;\"/><path class=\"point\" transform=\"translate(473.96,61.07)\" d=\"M1,0A1,1 0 1,1 0,-1A1,1 0 0,1 1,0Z\" style=\"opacity: 1; stroke-width: 0px; fill: rgb(76, 114, 176); fill-opacity: 1;\"/><path class=\"point\" transform=\"translate(474.44,69.97)\" d=\"M1,0A1,1 0 1,1 0,-1A1,1 0 0,1 1,0Z\" style=\"opacity: 1; stroke-width: 0px; fill: rgb(76, 114, 176); fill-opacity: 1;\"/><path class=\"point\" transform=\"translate(474.92,69.14)\" d=\"M1,0A1,1 0 1,1 0,-1A1,1 0 0,1 1,0Z\" style=\"opacity: 1; stroke-width: 0px; fill: rgb(76, 114, 176); fill-opacity: 1;\"/><path class=\"point\" transform=\"translate(475.41,57.06)\" d=\"M1,0A1,1 0 1,1 0,-1A1,1 0 0,1 1,0Z\" style=\"opacity: 1; stroke-width: 0px; fill: rgb(76, 114, 176); fill-opacity: 1;\"/><path class=\"point\" transform=\"translate(475.89,34.65)\" d=\"M1,0A1,1 0 1,1 0,-1A1,1 0 0,1 1,0Z\" style=\"opacity: 1; stroke-width: 0px; fill: rgb(76, 114, 176); fill-opacity: 1;\"/><path class=\"point\" transform=\"translate(476.37,69.65)\" d=\"M1,0A1,1 0 1,1 0,-1A1,1 0 0,1 1,0Z\" style=\"opacity: 1; stroke-width: 0px; fill: rgb(76, 114, 176); fill-opacity: 1;\"/><path class=\"point\" transform=\"translate(476.85,44.05)\" d=\"M1,0A1,1 0 1,1 0,-1A1,1 0 0,1 1,0Z\" style=\"opacity: 1; stroke-width: 0px; fill: rgb(76, 114, 176); fill-opacity: 1;\"/><path class=\"point\" transform=\"translate(477.33,47.73)\" d=\"M1,0A1,1 0 1,1 0,-1A1,1 0 0,1 1,0Z\" style=\"opacity: 1; stroke-width: 0px; fill: rgb(76, 114, 176); fill-opacity: 1;\"/><path class=\"point\" transform=\"translate(477.81,33.78)\" d=\"M1,0A1,1 0 1,1 0,-1A1,1 0 0,1 1,0Z\" style=\"opacity: 1; stroke-width: 0px; fill: rgb(76, 114, 176); fill-opacity: 1;\"/><path class=\"point\" transform=\"translate(478.29,43.82)\" d=\"M1,0A1,1 0 1,1 0,-1A1,1 0 0,1 1,0Z\" style=\"opacity: 1; stroke-width: 0px; fill: rgb(76, 114, 176); fill-opacity: 1;\"/><path class=\"point\" transform=\"translate(478.77,44.47)\" d=\"M1,0A1,1 0 1,1 0,-1A1,1 0 0,1 1,0Z\" style=\"opacity: 1; stroke-width: 0px; fill: rgb(76, 114, 176); fill-opacity: 1;\"/><path class=\"point\" transform=\"translate(479.25,57.72)\" d=\"M1,0A1,1 0 1,1 0,-1A1,1 0 0,1 1,0Z\" style=\"opacity: 1; stroke-width: 0px; fill: rgb(76, 114, 176); fill-opacity: 1;\"/><path class=\"point\" transform=\"translate(479.73,51.47)\" d=\"M1,0A1,1 0 1,1 0,-1A1,1 0 0,1 1,0Z\" style=\"opacity: 1; stroke-width: 0px; fill: rgb(76, 114, 176); fill-opacity: 1;\"/><path class=\"point\" transform=\"translate(480.21,43.69)\" d=\"M1,0A1,1 0 1,1 0,-1A1,1 0 0,1 1,0Z\" style=\"opacity: 1; stroke-width: 0px; fill: rgb(76, 114, 176); fill-opacity: 1;\"/><path class=\"point\" transform=\"translate(480.69,35.57)\" d=\"M1,0A1,1 0 1,1 0,-1A1,1 0 0,1 1,0Z\" style=\"opacity: 1; stroke-width: 0px; fill: rgb(76, 114, 176); fill-opacity: 1;\"/><path class=\"point\" transform=\"translate(481.17,62.68)\" d=\"M1,0A1,1 0 1,1 0,-1A1,1 0 0,1 1,0Z\" style=\"opacity: 1; stroke-width: 0px; fill: rgb(76, 114, 176); fill-opacity: 1;\"/><path class=\"point\" transform=\"translate(481.65,29.81)\" d=\"M1,0A1,1 0 1,1 0,-1A1,1 0 0,1 1,0Z\" style=\"opacity: 1; stroke-width: 0px; fill: rgb(76, 114, 176); fill-opacity: 1;\"/><path class=\"point\" transform=\"translate(482.13,67.37)\" d=\"M1,0A1,1 0 1,1 0,-1A1,1 0 0,1 1,0Z\" style=\"opacity: 1; stroke-width: 0px; fill: rgb(76, 114, 176); fill-opacity: 1;\"/><path class=\"point\" transform=\"translate(482.61,47.17)\" d=\"M1,0A1,1 0 1,1 0,-1A1,1 0 0,1 1,0Z\" style=\"opacity: 1; stroke-width: 0px; fill: rgb(76, 114, 176); fill-opacity: 1;\"/><path class=\"point\" transform=\"translate(483.09,58.09)\" d=\"M1,0A1,1 0 1,1 0,-1A1,1 0 0,1 1,0Z\" style=\"opacity: 1; stroke-width: 0px; fill: rgb(76, 114, 176); fill-opacity: 1;\"/><path class=\"point\" transform=\"translate(483.57,37.53)\" d=\"M1,0A1,1 0 1,1 0,-1A1,1 0 0,1 1,0Z\" style=\"opacity: 1; stroke-width: 0px; fill: rgb(76, 114, 176); fill-opacity: 1;\"/><path class=\"point\" transform=\"translate(484.05,54.27)\" d=\"M1,0A1,1 0 1,1 0,-1A1,1 0 0,1 1,0Z\" style=\"opacity: 1; stroke-width: 0px; fill: rgb(76, 114, 176); fill-opacity: 1;\"/><path class=\"point\" transform=\"translate(484.53,35.96)\" d=\"M1,0A1,1 0 1,1 0,-1A1,1 0 0,1 1,0Z\" style=\"opacity: 1; stroke-width: 0px; fill: rgb(76, 114, 176); fill-opacity: 1;\"/><path class=\"point\" transform=\"translate(485.02,33.52)\" d=\"M1,0A1,1 0 1,1 0,-1A1,1 0 0,1 1,0Z\" style=\"opacity: 1; stroke-width: 0px; fill: rgb(76, 114, 176); fill-opacity: 1;\"/><path class=\"point\" transform=\"translate(485.5,46.77)\" d=\"M1,0A1,1 0 1,1 0,-1A1,1 0 0,1 1,0Z\" style=\"opacity: 1; stroke-width: 0px; fill: rgb(76, 114, 176); fill-opacity: 1;\"/><path class=\"point\" transform=\"translate(485.98,56.07)\" d=\"M1,0A1,1 0 1,1 0,-1A1,1 0 0,1 1,0Z\" style=\"opacity: 1; stroke-width: 0px; fill: rgb(76, 114, 176); fill-opacity: 1;\"/><path class=\"point\" transform=\"translate(486.46,31.96)\" d=\"M1,0A1,1 0 1,1 0,-1A1,1 0 0,1 1,0Z\" style=\"opacity: 1; stroke-width: 0px; fill: rgb(76, 114, 176); fill-opacity: 1;\"/><path class=\"point\" transform=\"translate(486.94,42.59)\" d=\"M1,0A1,1 0 1,1 0,-1A1,1 0 0,1 1,0Z\" style=\"opacity: 1; stroke-width: 0px; fill: rgb(76, 114, 176); fill-opacity: 1;\"/><path class=\"point\" transform=\"translate(487.42,29.65)\" d=\"M1,0A1,1 0 1,1 0,-1A1,1 0 0,1 1,0Z\" style=\"opacity: 1; stroke-width: 0px; fill: rgb(76, 114, 176); fill-opacity: 1;\"/><path class=\"point\" transform=\"translate(487.9,26.84)\" d=\"M1,0A1,1 0 1,1 0,-1A1,1 0 0,1 1,0Z\" style=\"opacity: 1; stroke-width: 0px; fill: rgb(76, 114, 176); fill-opacity: 1;\"/><path class=\"point\" transform=\"translate(488.38,44.73)\" d=\"M1,0A1,1 0 1,1 0,-1A1,1 0 0,1 1,0Z\" style=\"opacity: 1; stroke-width: 0px; fill: rgb(76, 114, 176); fill-opacity: 1;\"/><path class=\"point\" transform=\"translate(488.86,44.17)\" d=\"M1,0A1,1 0 1,1 0,-1A1,1 0 0,1 1,0Z\" style=\"opacity: 1; stroke-width: 0px; fill: rgb(76, 114, 176); fill-opacity: 1;\"/><path class=\"point\" transform=\"translate(489.34,30.34)\" d=\"M1,0A1,1 0 1,1 0,-1A1,1 0 0,1 1,0Z\" style=\"opacity: 1; stroke-width: 0px; fill: rgb(76, 114, 176); fill-opacity: 1;\"/><path class=\"point\" transform=\"translate(489.82,60.56)\" d=\"M1,0A1,1 0 1,1 0,-1A1,1 0 0,1 1,0Z\" style=\"opacity: 1; stroke-width: 0px; fill: rgb(76, 114, 176); fill-opacity: 1;\"/><path class=\"point\" transform=\"translate(490.3,54.17)\" d=\"M1,0A1,1 0 1,1 0,-1A1,1 0 0,1 1,0Z\" style=\"opacity: 1; stroke-width: 0px; fill: rgb(76, 114, 176); fill-opacity: 1;\"/><path class=\"point\" transform=\"translate(490.78,58.45)\" d=\"M1,0A1,1 0 1,1 0,-1A1,1 0 0,1 1,0Z\" style=\"opacity: 1; stroke-width: 0px; fill: rgb(76, 114, 176); fill-opacity: 1;\"/><path class=\"point\" transform=\"translate(491.26,31.54)\" d=\"M1,0A1,1 0 1,1 0,-1A1,1 0 0,1 1,0Z\" style=\"opacity: 1; stroke-width: 0px; fill: rgb(76, 114, 176); fill-opacity: 1;\"/><path class=\"point\" transform=\"translate(491.74,38.03)\" d=\"M1,0A1,1 0 1,1 0,-1A1,1 0 0,1 1,0Z\" style=\"opacity: 1; stroke-width: 0px; fill: rgb(76, 114, 176); fill-opacity: 1;\"/><path class=\"point\" transform=\"translate(492.22,41.71)\" d=\"M1,0A1,1 0 1,1 0,-1A1,1 0 0,1 1,0Z\" style=\"opacity: 1; stroke-width: 0px; fill: rgb(76, 114, 176); fill-opacity: 1;\"/><path class=\"point\" transform=\"translate(492.7,52.91)\" d=\"M1,0A1,1 0 1,1 0,-1A1,1 0 0,1 1,0Z\" style=\"opacity: 1; stroke-width: 0px; fill: rgb(76, 114, 176); fill-opacity: 1;\"/><path class=\"point\" transform=\"translate(493.18,31.31)\" d=\"M1,0A1,1 0 1,1 0,-1A1,1 0 0,1 1,0Z\" style=\"opacity: 1; stroke-width: 0px; fill: rgb(76, 114, 176); fill-opacity: 1;\"/><path class=\"point\" transform=\"translate(493.66,25.76)\" d=\"M1,0A1,1 0 1,1 0,-1A1,1 0 0,1 1,0Z\" style=\"opacity: 1; stroke-width: 0px; fill: rgb(76, 114, 176); fill-opacity: 1;\"/><path class=\"point\" transform=\"translate(494.14,49.35)\" d=\"M1,0A1,1 0 1,1 0,-1A1,1 0 0,1 1,0Z\" style=\"opacity: 1; stroke-width: 0px; fill: rgb(76, 114, 176); fill-opacity: 1;\"/><path class=\"point\" transform=\"translate(494.62,62.43)\" d=\"M1,0A1,1 0 1,1 0,-1A1,1 0 0,1 1,0Z\" style=\"opacity: 1; stroke-width: 0px; fill: rgb(76, 114, 176); fill-opacity: 1;\"/><path class=\"point\" transform=\"translate(495.11,31.53)\" d=\"M1,0A1,1 0 1,1 0,-1A1,1 0 0,1 1,0Z\" style=\"opacity: 1; stroke-width: 0px; fill: rgb(76, 114, 176); fill-opacity: 1;\"/><path class=\"point\" transform=\"translate(495.59,55.18)\" d=\"M1,0A1,1 0 1,1 0,-1A1,1 0 0,1 1,0Z\" style=\"opacity: 1; stroke-width: 0px; fill: rgb(76, 114, 176); fill-opacity: 1;\"/><path class=\"point\" transform=\"translate(496.07,63.11)\" d=\"M1,0A1,1 0 1,1 0,-1A1,1 0 0,1 1,0Z\" style=\"opacity: 1; stroke-width: 0px; fill: rgb(76, 114, 176); fill-opacity: 1;\"/><path class=\"point\" transform=\"translate(496.55,27.05)\" d=\"M1,0A1,1 0 1,1 0,-1A1,1 0 0,1 1,0Z\" style=\"opacity: 1; stroke-width: 0px; fill: rgb(76, 114, 176); fill-opacity: 1;\"/><path class=\"point\" transform=\"translate(497.03,48.27)\" d=\"M1,0A1,1 0 1,1 0,-1A1,1 0 0,1 1,0Z\" style=\"opacity: 1; stroke-width: 0px; fill: rgb(76, 114, 176); fill-opacity: 1;\"/><path class=\"point\" transform=\"translate(497.51,35.26)\" d=\"M1,0A1,1 0 1,1 0,-1A1,1 0 0,1 1,0Z\" style=\"opacity: 1; stroke-width: 0px; fill: rgb(76, 114, 176); fill-opacity: 1;\"/><path class=\"point\" transform=\"translate(497.99,30.19)\" d=\"M1,0A1,1 0 1,1 0,-1A1,1 0 0,1 1,0Z\" style=\"opacity: 1; stroke-width: 0px; fill: rgb(76, 114, 176); fill-opacity: 1;\"/><path class=\"point\" transform=\"translate(498.47,59.11)\" d=\"M1,0A1,1 0 1,1 0,-1A1,1 0 0,1 1,0Z\" style=\"opacity: 1; stroke-width: 0px; fill: rgb(76, 114, 176); fill-opacity: 1;\"/><path class=\"point\" transform=\"translate(498.95,28.18)\" d=\"M1,0A1,1 0 1,1 0,-1A1,1 0 0,1 1,0Z\" style=\"opacity: 1; stroke-width: 0px; fill: rgb(76, 114, 176); fill-opacity: 1;\"/><path class=\"point\" transform=\"translate(499.43,53.65)\" d=\"M1,0A1,1 0 1,1 0,-1A1,1 0 0,1 1,0Z\" style=\"opacity: 1; stroke-width: 0px; fill: rgb(76, 114, 176); fill-opacity: 1;\"/><path class=\"point\" transform=\"translate(499.91,22.39)\" d=\"M1,0A1,1 0 1,1 0,-1A1,1 0 0,1 1,0Z\" style=\"opacity: 1; stroke-width: 0px; fill: rgb(76, 114, 176); fill-opacity: 1;\"/><path class=\"point\" transform=\"translate(500.39,38.26)\" d=\"M1,0A1,1 0 1,1 0,-1A1,1 0 0,1 1,0Z\" style=\"opacity: 1; stroke-width: 0px; fill: rgb(76, 114, 176); fill-opacity: 1;\"/><path class=\"point\" transform=\"translate(500.87,22.58)\" d=\"M1,0A1,1 0 1,1 0,-1A1,1 0 0,1 1,0Z\" style=\"opacity: 1; stroke-width: 0px; fill: rgb(76, 114, 176); fill-opacity: 1;\"/><path class=\"point\" transform=\"translate(501.35,38.31)\" d=\"M1,0A1,1 0 1,1 0,-1A1,1 0 0,1 1,0Z\" style=\"opacity: 1; stroke-width: 0px; fill: rgb(76, 114, 176); fill-opacity: 1;\"/><path class=\"point\" transform=\"translate(501.83,52.49)\" d=\"M1,0A1,1 0 1,1 0,-1A1,1 0 0,1 1,0Z\" style=\"opacity: 1; stroke-width: 0px; fill: rgb(76, 114, 176); fill-opacity: 1;\"/><path class=\"point\" transform=\"translate(502.31,20.34)\" d=\"M1,0A1,1 0 1,1 0,-1A1,1 0 0,1 1,0Z\" style=\"opacity: 1; stroke-width: 0px; fill: rgb(76, 114, 176); fill-opacity: 1;\"/><path class=\"point\" transform=\"translate(502.79,32.81)\" d=\"M1,0A1,1 0 1,1 0,-1A1,1 0 0,1 1,0Z\" style=\"opacity: 1; stroke-width: 0px; fill: rgb(76, 114, 176); fill-opacity: 1;\"/><path class=\"point\" transform=\"translate(503.27,19.05)\" d=\"M1,0A1,1 0 1,1 0,-1A1,1 0 0,1 1,0Z\" style=\"opacity: 1; stroke-width: 0px; fill: rgb(76, 114, 176); fill-opacity: 1;\"/><path class=\"point\" transform=\"translate(503.75,21.28)\" d=\"M1,0A1,1 0 1,1 0,-1A1,1 0 0,1 1,0Z\" style=\"opacity: 1; stroke-width: 0px; fill: rgb(76, 114, 176); fill-opacity: 1;\"/><path class=\"point\" transform=\"translate(504.23,45)\" d=\"M1,0A1,1 0 1,1 0,-1A1,1 0 0,1 1,0Z\" style=\"opacity: 1; stroke-width: 0px; fill: rgb(76, 114, 176); fill-opacity: 1;\"/><path class=\"point\" transform=\"translate(504.71,20.89)\" d=\"M1,0A1,1 0 1,1 0,-1A1,1 0 0,1 1,0Z\" style=\"opacity: 1; stroke-width: 0px; fill: rgb(76, 114, 176); fill-opacity: 1;\"/><path class=\"point\" transform=\"translate(505.2,31.5)\" d=\"M1,0A1,1 0 1,1 0,-1A1,1 0 0,1 1,0Z\" style=\"opacity: 1; stroke-width: 0px; fill: rgb(76, 114, 176); fill-opacity: 1;\"/><path class=\"point\" transform=\"translate(505.68,33.51)\" d=\"M1,0A1,1 0 1,1 0,-1A1,1 0 0,1 1,0Z\" style=\"opacity: 1; stroke-width: 0px; fill: rgb(76, 114, 176); fill-opacity: 1;\"/><path class=\"point\" transform=\"translate(506.16,19)\" d=\"M1,0A1,1 0 1,1 0,-1A1,1 0 0,1 1,0Z\" style=\"opacity: 1; stroke-width: 0px; fill: rgb(76, 114, 176); fill-opacity: 1;\"/><path class=\"point\" transform=\"translate(506.64,34.13)\" d=\"M1,0A1,1 0 1,1 0,-1A1,1 0 0,1 1,0Z\" style=\"opacity: 1; stroke-width: 0px; fill: rgb(76, 114, 176); fill-opacity: 1;\"/><path class=\"point\" transform=\"translate(507.12,57.46)\" d=\"M1,0A1,1 0 1,1 0,-1A1,1 0 0,1 1,0Z\" style=\"opacity: 1; stroke-width: 0px; fill: rgb(76, 114, 176); fill-opacity: 1;\"/><path class=\"point\" transform=\"translate(507.6,37.13)\" d=\"M1,0A1,1 0 1,1 0,-1A1,1 0 0,1 1,0Z\" style=\"opacity: 1; stroke-width: 0px; fill: rgb(76, 114, 176); fill-opacity: 1;\"/><path class=\"point\" transform=\"translate(508.08,44.75)\" d=\"M1,0A1,1 0 1,1 0,-1A1,1 0 0,1 1,0Z\" style=\"opacity: 1; stroke-width: 0px; fill: rgb(76, 114, 176); fill-opacity: 1;\"/><path class=\"point\" transform=\"translate(508.56,26.21)\" d=\"M1,0A1,1 0 1,1 0,-1A1,1 0 0,1 1,0Z\" style=\"opacity: 1; stroke-width: 0px; fill: rgb(76, 114, 176); fill-opacity: 1;\"/><path class=\"point\" transform=\"translate(509.04,30.27)\" d=\"M1,0A1,1 0 1,1 0,-1A1,1 0 0,1 1,0Z\" style=\"opacity: 1; stroke-width: 0px; fill: rgb(76, 114, 176); fill-opacity: 1;\"/><path class=\"point\" transform=\"translate(509.52,47.57)\" d=\"M1,0A1,1 0 1,1 0,-1A1,1 0 0,1 1,0Z\" style=\"opacity: 1; stroke-width: 0px; fill: rgb(76, 114, 176); fill-opacity: 1;\"/><path class=\"point\" transform=\"translate(510,33.93)\" d=\"M1,0A1,1 0 1,1 0,-1A1,1 0 0,1 1,0Z\" style=\"opacity: 1; stroke-width: 0px; fill: rgb(76, 114, 176); fill-opacity: 1;\"/></g><g class=\"text\"/></g><g class=\"trace scatter trace180dca\" style=\"stroke-miterlimit: 2; opacity: 1;\"><g class=\"fills\"/><g class=\"errorbars\"/><g class=\"lines\"><path class=\"js-line\" d=\"M30,287.39L167.9,214.73L168.38,214.47L306.76,141.56L307.24,141.3L445.62,68.39L446.1,68.13L510,34.46\" style=\"vector-effect: non-scaling-stroke; fill: none; stroke: rgb(255, 0, 0); stroke-opacity: 1; stroke-width: 2px; opacity: 1;\"/></g><g class=\"points\"/><g class=\"text\"/></g></g></g><g class=\"overplot\"/><path class=\"xlines-above crisp\" d=\"M0,0\" style=\"fill: none;\"/><path class=\"ylines-above crisp\" d=\"M0,0\" style=\"fill: none;\"/><g class=\"overlines-above\"/><g class=\"xaxislayer-above\"><g class=\"xtick\"><text text-anchor=\"middle\" x=\"0\" y=\"433\" transform=\"translate(110,0)\" style=\"font-family: 'Open Sans', verdana, arial, sans-serif; font-size: 12px; fill: rgb(36, 36, 36); fill-opacity: 1; white-space: pre; opacity: 1;\">0</text></g><g class=\"xtick\"><text text-anchor=\"middle\" x=\"0\" y=\"433\" style=\"font-family: 'Open Sans', verdana, arial, sans-serif; font-size: 12px; fill: rgb(36, 36, 36); fill-opacity: 1; white-space: pre; opacity: 1;\" transform=\"translate(206.1,0)\">20</text></g><g class=\"xtick\"><text text-anchor=\"middle\" x=\"0\" y=\"433\" style=\"font-family: 'Open Sans', verdana, arial, sans-serif; font-size: 12px; fill: rgb(36, 36, 36); fill-opacity: 1; white-space: pre; opacity: 1;\" transform=\"translate(302.19,0)\">40</text></g><g class=\"xtick\"><text text-anchor=\"middle\" x=\"0\" y=\"433\" style=\"font-family: 'Open Sans', verdana, arial, sans-serif; font-size: 12px; fill: rgb(36, 36, 36); fill-opacity: 1; white-space: pre; opacity: 1;\" transform=\"translate(398.29,0)\">60</text></g><g class=\"xtick\"><text text-anchor=\"middle\" x=\"0\" y=\"433\" style=\"font-family: 'Open Sans', verdana, arial, sans-serif; font-size: 12px; fill: rgb(36, 36, 36); fill-opacity: 1; white-space: pre; opacity: 1;\" transform=\"translate(494.38,0)\">80</text></g><g class=\"xtick\"><text text-anchor=\"middle\" x=\"0\" y=\"433\" style=\"font-family: 'Open Sans', verdana, arial, sans-serif; font-size: 12px; fill: rgb(36, 36, 36); fill-opacity: 1; white-space: pre; opacity: 1;\" transform=\"translate(590.48,0)\">100</text></g></g><g class=\"yaxislayer-above\"><g class=\"ytick\"><text text-anchor=\"end\" x=\"79\" y=\"4.199999999999999\" transform=\"translate(0,402.77)\" style=\"font-family: 'Open Sans', verdana, arial, sans-serif; font-size: 12px; fill: rgb(36, 36, 36); fill-opacity: 1; white-space: pre; opacity: 1;\">100</text></g><g class=\"ytick\"><text text-anchor=\"end\" x=\"79\" y=\"4.199999999999999\" style=\"font-family: 'Open Sans', verdana, arial, sans-serif; font-size: 12px; fill: rgb(36, 36, 36); fill-opacity: 1; white-space: pre; opacity: 1;\" transform=\"translate(0,360.86)\">200</text></g><g class=\"ytick\"><text text-anchor=\"end\" x=\"79\" y=\"4.199999999999999\" style=\"font-family: 'Open Sans', verdana, arial, sans-serif; font-size: 12px; fill: rgb(36, 36, 36); fill-opacity: 1; white-space: pre; opacity: 1;\" transform=\"translate(0,318.95)\">300</text></g><g class=\"ytick\"><text text-anchor=\"end\" x=\"79\" y=\"4.199999999999999\" style=\"font-family: 'Open Sans', verdana, arial, sans-serif; font-size: 12px; fill: rgb(36, 36, 36); fill-opacity: 1; white-space: pre; opacity: 1;\" transform=\"translate(0,277.03)\">400</text></g><g class=\"ytick\"><text text-anchor=\"end\" x=\"79\" y=\"4.199999999999999\" style=\"font-family: 'Open Sans', verdana, arial, sans-serif; font-size: 12px; fill: rgb(36, 36, 36); fill-opacity: 1; white-space: pre; opacity: 1;\" transform=\"translate(0,235.12)\">500</text></g><g class=\"ytick\"><text text-anchor=\"end\" x=\"79\" y=\"4.199999999999999\" style=\"font-family: 'Open Sans', verdana, arial, sans-serif; font-size: 12px; fill: rgb(36, 36, 36); fill-opacity: 1; white-space: pre; opacity: 1;\" transform=\"translate(0,193.20999999999998)\">600</text></g><g class=\"ytick\"><text text-anchor=\"end\" x=\"79\" y=\"4.199999999999999\" style=\"font-family: 'Open Sans', verdana, arial, sans-serif; font-size: 12px; fill: rgb(36, 36, 36); fill-opacity: 1; white-space: pre; opacity: 1;\" transform=\"translate(0,151.3)\">700</text></g><g class=\"ytick\"><text text-anchor=\"end\" x=\"79\" y=\"4.199999999999999\" style=\"font-family: 'Open Sans', verdana, arial, sans-serif; font-size: 12px; fill: rgb(36, 36, 36); fill-opacity: 1; white-space: pre; opacity: 1;\" transform=\"translate(0,109.39)\">800</text></g></g><g class=\"overaxes-above\"/></g></g><g class=\"polarlayer\"/><g class=\"smithlayer\"/><g class=\"ternarylayer\"/><g class=\"geolayer\"/><g class=\"funnelarealayer\"/><g class=\"pielayer\"/><g class=\"iciclelayer\"/><g class=\"treemaplayer\"/><g class=\"sunburstlayer\"/><g class=\"glimages\"/><defs id=\"topdefs-9169e7\"><g class=\"clips\"/></defs><g class=\"layer-above\"><g class=\"imagelayer\"/><g class=\"shapelayer\"/></g><g class=\"infolayer\"><g class=\"g-gtitle\"><text class=\"gtitle\" x=\"350\" y=\"50\" text-anchor=\"middle\" dy=\"0em\" style=\"font-family: 'Open Sans', verdana, arial, sans-serif; font-size: 17px; fill: rgb(36, 36, 36); opacity: 1; font-weight: normal; white-space: pre;\">Simple Linear Regression (Y = 6X + 88)</text></g><g class=\"g-xtitle\"><text class=\"xtitle\" x=\"350\" y=\"460.8\" text-anchor=\"middle\" style=\"font-family: 'Open Sans', verdana, arial, sans-serif; font-size: 14px; fill: rgb(36, 36, 36); opacity: 1; font-weight: normal; white-space: pre;\">x</text></g><g class=\"g-ytitle\"><text class=\"ytitle\" transform=\"rotate(-90,31.309375000000003,260)\" x=\"31.309375000000003\" y=\"260\" text-anchor=\"middle\" style=\"font-family: 'Open Sans', verdana, arial, sans-serif; font-size: 14px; fill: rgb(36, 36, 36); opacity: 1; font-weight: normal; white-space: pre;\">y</text></g></g></svg>"
     },
     "metadata": {},
     "output_type": "display_data"
    }
   ],
   "source": [
    "# Apply Simple Linear Regression using same old random data\n",
    "gda_m, gda_b = gda(x_rand, y_rand)\n",
    "print(f\"SLR Fit: Y = {gda_m}X + {gda_b}\")\n",
    "print(f\"Slope Error: {(abs(y_slope - gda_m)) /y_slope *100:.2f}%\")\n",
    "print(f\"Intercept Error: {(abs(y_int - gda_b)) /y_int *100:.2f}%\")\n",
    "\n",
    "# Add the Scatter Plot of Random Points\n",
    "fig = px.scatter(\n",
    "    x=x_rand,\n",
    "    y=y_rand,\n",
    "    title=f\"Simple Linear Regression (Y = {y_slope}X + {y_int})\",\n",
    ")\n",
    "\n",
    "# Update markers size\n",
    "fig.update_traces(marker=dict(size=2))\n",
    "\n",
    "# Plot the Best Fit Line from OLS\n",
    "fig.add_traces(\n",
    "    px.line(\n",
    "        x=x_rand,\n",
    "        y=get_line(x_rand, gda_m, gda_b),\n",
    "        color_discrete_sequence=[\"red\"],\n",
    "    ).data\n",
    ")\n",
    "\n",
    "fig.show(\"svg\")"
   ],
   "metadata": {
    "collapsed": false,
    "pycharm": {
     "name": "#%%\n"
    }
   }
  },
  {
   "cell_type": "markdown",
   "source": [
    "### Gradient Descent in Action"
   ],
   "metadata": {
    "collapsed": false,
    "pycharm": {
     "name": "#%% md\n"
    }
   }
  },
  {
   "cell_type": "code",
   "execution_count": 20,
   "outputs": [],
   "source": [
    "def gda_demo(X, Y, rate=0.0001, n=1000):\n",
    "    \"\"\"\n",
    "    Gradient Descent Algorithm Demo\n",
    "    \"\"\"\n",
    "\n",
    "    # Initialize\n",
    "    slope = 1\n",
    "    intercept = 0\n",
    "\n",
    "    slopes = [slope]\n",
    "    intercepts = [intercept]\n",
    "\n",
    "    # Iterate\n",
    "    for _ in range(n):\n",
    "        mg, bg = get_gradients(X, Y, slope, intercept)\n",
    "\n",
    "        # Next step\n",
    "        slope -= mg * rate\n",
    "        intercept -= bg * rate * 100\n",
    "\n",
    "        slopes.append(slope)\n",
    "        intercepts.append(intercept)\n",
    "\n",
    "    fig1 = px.line(\n",
    "        y=slopes,\n",
    "        title=\"Gradient Descent: Slope\",\n",
    "        labels={\n",
    "            'x':'Iterations',\n",
    "            'y':'Slope'\n",
    "        }\n",
    "    )\n",
    "\n",
    "    fig2 = px.line(\n",
    "        y=intercepts,\n",
    "        title=\"Gradient Descent: Intercept\",\n",
    "        labels={\n",
    "            'x':'Iterations',\n",
    "            'y':'Intercept'\n",
    "        }\n",
    "    )\n",
    "\n",
    "    return fig1, fig2"
   ],
   "metadata": {
    "collapsed": false,
    "pycharm": {
     "name": "#%%\n"
    }
   }
  },
  {
   "cell_type": "code",
   "execution_count": 21,
   "outputs": [
    {
     "data": {
      "application/vnd.plotly.v1+json": {
       "data": [
        {
         "hovertemplate": "Iterations=%{x}<br>Slope=%{y}<extra></extra>",
         "legendgroup": "",
         "line": {
          "color": "rgb(76,114,176)",
          "dash": "solid"
         },
         "marker": {
          "symbol": "circle"
         },
         "mode": "lines",
         "name": "",
         "showlegend": false,
         "x": [
          0,
          1,
          2,
          3,
          4,
          5,
          6,
          7,
          8,
          9,
          10,
          11,
          12,
          13,
          14,
          15,
          16,
          17,
          18,
          19,
          20,
          21,
          22,
          23,
          24,
          25,
          26,
          27,
          28,
          29,
          30,
          31,
          32,
          33,
          34,
          35,
          36,
          37,
          38,
          39,
          40,
          41,
          42,
          43,
          44,
          45,
          46,
          47,
          48,
          49,
          50,
          51,
          52,
          53,
          54,
          55,
          56,
          57,
          58,
          59,
          60,
          61,
          62,
          63,
          64,
          65,
          66,
          67,
          68,
          69,
          70,
          71,
          72,
          73,
          74,
          75,
          76,
          77,
          78,
          79,
          80,
          81,
          82,
          83,
          84,
          85,
          86,
          87,
          88,
          89,
          90,
          91,
          92,
          93,
          94,
          95,
          96,
          97,
          98,
          99,
          100,
          101,
          102,
          103,
          104,
          105,
          106,
          107,
          108,
          109,
          110,
          111,
          112,
          113,
          114,
          115,
          116,
          117,
          118,
          119,
          120,
          121,
          122,
          123,
          124,
          125,
          126,
          127,
          128,
          129,
          130,
          131,
          132,
          133,
          134,
          135,
          136,
          137,
          138,
          139,
          140,
          141,
          142,
          143,
          144,
          145,
          146,
          147,
          148,
          149,
          150,
          151,
          152,
          153,
          154,
          155,
          156,
          157,
          158,
          159,
          160,
          161,
          162,
          163,
          164,
          165,
          166,
          167,
          168,
          169,
          170,
          171,
          172,
          173,
          174,
          175,
          176,
          177,
          178,
          179,
          180,
          181,
          182,
          183,
          184,
          185,
          186,
          187,
          188,
          189,
          190,
          191,
          192,
          193,
          194,
          195,
          196,
          197,
          198,
          199,
          200,
          201,
          202,
          203,
          204,
          205,
          206,
          207,
          208,
          209,
          210,
          211,
          212,
          213,
          214,
          215,
          216,
          217,
          218,
          219,
          220,
          221,
          222,
          223,
          224,
          225,
          226,
          227,
          228,
          229,
          230,
          231,
          232,
          233,
          234,
          235,
          236,
          237,
          238,
          239,
          240,
          241,
          242,
          243,
          244,
          245,
          246,
          247,
          248,
          249,
          250,
          251,
          252,
          253,
          254,
          255,
          256,
          257,
          258,
          259,
          260,
          261,
          262,
          263,
          264,
          265,
          266,
          267,
          268,
          269,
          270,
          271,
          272,
          273,
          274,
          275,
          276,
          277,
          278,
          279,
          280,
          281,
          282,
          283,
          284,
          285,
          286,
          287,
          288,
          289,
          290,
          291,
          292,
          293,
          294,
          295,
          296,
          297,
          298,
          299,
          300,
          301,
          302,
          303,
          304,
          305,
          306,
          307,
          308,
          309,
          310,
          311,
          312,
          313,
          314,
          315,
          316,
          317,
          318,
          319,
          320,
          321,
          322,
          323,
          324,
          325,
          326,
          327,
          328,
          329,
          330,
          331,
          332,
          333,
          334,
          335,
          336,
          337,
          338,
          339,
          340,
          341,
          342,
          343,
          344,
          345,
          346,
          347,
          348,
          349,
          350,
          351,
          352,
          353,
          354,
          355,
          356,
          357,
          358,
          359,
          360,
          361,
          362,
          363,
          364,
          365,
          366,
          367,
          368,
          369,
          370,
          371,
          372,
          373,
          374,
          375,
          376,
          377,
          378,
          379,
          380,
          381,
          382,
          383,
          384,
          385,
          386,
          387,
          388,
          389,
          390,
          391,
          392,
          393,
          394,
          395,
          396,
          397,
          398,
          399,
          400,
          401,
          402,
          403,
          404,
          405,
          406,
          407,
          408,
          409,
          410,
          411,
          412,
          413,
          414,
          415,
          416,
          417,
          418,
          419,
          420,
          421,
          422,
          423,
          424,
          425,
          426,
          427,
          428,
          429,
          430,
          431,
          432,
          433,
          434,
          435,
          436,
          437,
          438,
          439,
          440,
          441,
          442,
          443,
          444,
          445,
          446,
          447,
          448,
          449,
          450,
          451,
          452,
          453,
          454,
          455,
          456,
          457,
          458,
          459,
          460,
          461,
          462,
          463,
          464,
          465,
          466,
          467,
          468,
          469,
          470,
          471,
          472,
          473,
          474,
          475,
          476,
          477,
          478,
          479,
          480,
          481,
          482,
          483,
          484,
          485,
          486,
          487,
          488,
          489,
          490,
          491,
          492,
          493,
          494,
          495,
          496,
          497,
          498,
          499,
          500,
          501,
          502,
          503,
          504,
          505,
          506,
          507,
          508,
          509,
          510,
          511,
          512,
          513,
          514,
          515,
          516,
          517,
          518,
          519,
          520,
          521,
          522,
          523,
          524,
          525,
          526,
          527,
          528,
          529,
          530,
          531,
          532,
          533,
          534,
          535,
          536,
          537,
          538,
          539,
          540,
          541,
          542,
          543,
          544,
          545,
          546,
          547,
          548,
          549,
          550,
          551,
          552,
          553,
          554,
          555,
          556,
          557,
          558,
          559,
          560,
          561,
          562,
          563,
          564,
          565,
          566,
          567,
          568,
          569,
          570,
          571,
          572,
          573,
          574,
          575,
          576,
          577,
          578,
          579,
          580,
          581,
          582,
          583,
          584,
          585,
          586,
          587,
          588,
          589,
          590,
          591,
          592,
          593,
          594,
          595,
          596,
          597,
          598,
          599,
          600,
          601,
          602,
          603,
          604,
          605,
          606,
          607,
          608,
          609,
          610,
          611,
          612,
          613,
          614,
          615,
          616,
          617,
          618,
          619,
          620,
          621,
          622,
          623,
          624,
          625,
          626,
          627,
          628,
          629,
          630,
          631,
          632,
          633,
          634,
          635,
          636,
          637,
          638,
          639,
          640,
          641,
          642,
          643,
          644,
          645,
          646,
          647,
          648,
          649,
          650,
          651,
          652,
          653,
          654,
          655,
          656,
          657,
          658,
          659,
          660,
          661,
          662,
          663,
          664,
          665,
          666,
          667,
          668,
          669,
          670,
          671,
          672,
          673,
          674,
          675,
          676,
          677,
          678,
          679,
          680,
          681,
          682,
          683,
          684,
          685,
          686,
          687,
          688,
          689,
          690,
          691,
          692,
          693,
          694,
          695,
          696,
          697,
          698,
          699,
          700,
          701,
          702,
          703,
          704,
          705,
          706,
          707,
          708,
          709,
          710,
          711,
          712,
          713,
          714,
          715,
          716,
          717,
          718,
          719,
          720,
          721,
          722,
          723,
          724,
          725,
          726,
          727,
          728,
          729,
          730,
          731,
          732,
          733,
          734,
          735,
          736,
          737,
          738,
          739,
          740,
          741,
          742,
          743,
          744,
          745,
          746,
          747,
          748,
          749,
          750,
          751,
          752,
          753,
          754,
          755,
          756,
          757,
          758,
          759,
          760,
          761,
          762,
          763,
          764,
          765,
          766,
          767,
          768,
          769,
          770,
          771,
          772,
          773,
          774,
          775,
          776,
          777,
          778,
          779,
          780,
          781,
          782,
          783,
          784,
          785,
          786,
          787,
          788,
          789,
          790,
          791,
          792,
          793,
          794,
          795,
          796,
          797,
          798,
          799,
          800,
          801,
          802,
          803,
          804,
          805,
          806,
          807,
          808,
          809,
          810,
          811,
          812,
          813,
          814,
          815,
          816,
          817,
          818,
          819,
          820,
          821,
          822,
          823,
          824,
          825,
          826,
          827,
          828,
          829,
          830,
          831,
          832,
          833,
          834,
          835,
          836,
          837,
          838,
          839,
          840,
          841,
          842,
          843,
          844,
          845,
          846,
          847,
          848,
          849,
          850,
          851,
          852,
          853,
          854,
          855,
          856,
          857,
          858,
          859,
          860,
          861,
          862,
          863,
          864,
          865,
          866,
          867,
          868,
          869,
          870,
          871,
          872,
          873,
          874,
          875,
          876,
          877,
          878,
          879,
          880,
          881,
          882,
          883,
          884,
          885,
          886,
          887,
          888,
          889,
          890,
          891,
          892,
          893,
          894,
          895,
          896,
          897,
          898,
          899,
          900,
          901,
          902,
          903,
          904,
          905,
          906,
          907,
          908,
          909,
          910,
          911,
          912,
          913,
          914,
          915,
          916,
          917,
          918,
          919,
          920,
          921,
          922,
          923,
          924,
          925,
          926,
          927,
          928,
          929,
          930,
          931,
          932,
          933,
          934,
          935,
          936,
          937,
          938,
          939,
          940,
          941,
          942,
          943,
          944,
          945,
          946,
          947,
          948,
          949,
          950,
          951,
          952,
          953,
          954,
          955,
          956,
          957,
          958,
          959,
          960,
          961,
          962,
          963,
          964,
          965,
          966,
          967,
          968,
          969,
          970,
          971,
          972,
          973,
          974,
          975,
          976,
          977,
          978,
          979,
          980,
          981,
          982,
          983,
          984,
          985,
          986,
          987,
          988,
          989,
          990,
          991,
          992,
          993,
          994,
          995,
          996,
          997,
          998,
          999,
          1000
         ],
         "xaxis": "x",
         "y": [
          1.0,
          5.7213982274066195,
          7.222246909393522,
          7.695032612766648,
          7.839661371946042,
          7.879563623617564,
          7.886064782622777,
          7.8819338685943485,
          7.874439272644689,
          7.865901130165342,
          7.857059948536194,
          7.848151972148444,
          7.839252470539797,
          7.830385326058822,
          7.821558017466558,
          7.812772787727414,
          7.804030209092955,
          7.7953303211780325,
          7.786672994264694,
          7.778058045276049,
          7.7694852747951275,
          7.760954478878986,
          7.752465452826743,
          7.74401799237908,
          7.735611894097812,
          7.727246955483728,
          7.718922975010892,
          7.7106397521343,
          7.702397087289037,
          7.694194781886748,
          7.686032638311255,
          7.677910459913932,
          7.669828051009001,
          7.661785216868841,
          7.653781763719291,
          7.645817498734987,
          7.637892230034716,
          7.630005766676793,
          7.622157918654463,
          7.614348496891322,
          7.606577313236759,
          7.598844180461424,
          7.591148912252722,
          7.583491323210317,
          7.575871228841669,
          7.568288445557591,
          7.56074279066782,
          7.553234082376622,
          7.545762139778406,
          7.53832678285337,
          7.530927832463164,
          7.523565110346569,
          7.516238439115207,
          7.508947642249266,
          7.501692544093247,
          7.4944729698517305,
          7.487288745585168,
          7.480139698205689,
          7.473025655472932,
          7.4659464459898945,
          7.458901899198803,
          7.451891845377006,
          7.444916115632881,
          7.437974541901769,
          7.431066956941923,
          7.424193194330481,
          7.417353088459453,
          7.410546474531737,
          7.403773188557139,
          7.397033067348433,
          7.390325948517423,
          7.383651670471028,
          7.377010072407398,
          7.370400994312029,
          7.363824276953919,
          7.35727976188172,
          7.350767291419929,
          7.344286708665089,
          7.3378378574820005,
          7.331420582499971,
          7.3250347291090625,
          7.318680143456372,
          7.312356672442322,
          7.306064163716973,
          7.299802465676355,
          7.293571427458808,
          7.287370898941358,
          7.281200730736089,
          7.275060774186552,
          7.26895088136418,
          7.262870905064725,
          7.256820698804709,
          7.250800116817898,
          7.24480901405179,
          7.238847246164116,
          7.232914669519368,
          7.227011141185337,
          7.221136518929666,
          7.215290661216425,
          7.2094734272027035,
          7.203684676735214,
          7.197924270346917,
          7.192192069253661,
          7.186487935350837,
          7.180811731210054,
          7.175163320075825,
          7.169542565862273,
          7.163949333149855,
          7.158383487182094,
          7.15284489386234,
          7.147333419750532,
          7.141848932059985,
          7.1363912986541935,
          7.130960388043645,
          7.125556069382656,
          7.120178212466211,
          7.114826687726838,
          7.109501366231474,
          7.10420211967837,
          7.098928820393992,
          7.093681341329945,
          7.088459556059921,
          7.083263338776641,
          7.078092564288833,
          7.072947108018211,
          7.067826845996475,
          7.062731654862325,
          7.057661411858486,
          7.0526159948287575,
          7.04759528221506,
          7.042599153054513,
          7.037627486976524,
          7.032680164199878,
          7.027757065529862,
          7.022858072355385,
          7.017983066646128,
          7.013131930949694,
          7.008304548388781,
          7.003500802658368,
          6.998720578022907,
          6.993963759313543,
          6.989230231925329,
          6.984519881814475,
          6.979832595495595,
          6.975168260038972,
          6.9705267630678405,
          6.965907992755676,
          6.961311837823504,
          6.956738187537216,
          6.952186931704902,
          6.9476579606741975,
          6.943151165329642,
          6.938666437090046,
          6.934203667905879,
          6.929762750256665,
          6.925343577148392,
          6.920946042110935,
          6.916570039195488,
          6.912215462972015,
          6.9078822085267095,
          6.903570171459463,
          6.8992792478813545,
          6.895009334412144,
          6.890760328177785,
          6.886532126807942,
          6.882324628433528,
          6.87813773168425,
          6.873971335686161,
          6.869825340059236,
          6.865699644914954,
          6.861594150853885,
          6.8575087589633,
          6.85344337081479,
          6.849397888461888,
          6.845372214437713,
          6.841366251752624,
          6.837379903891878,
          6.83341307481331,
          6.829465668945015,
          6.825537591183047,
          6.821628746889129,
          6.817739041888368,
          6.813868382466994,
          6.810016675370097,
          6.8061838277993765,
          6.802369747410916,
          6.79857434231295,
          6.794797521063653,
          6.791039192668933,
          6.787299266580247,
          6.783577652692411,
          6.779874261341434,
          6.776189003302357,
          6.772521789787101,
          6.76887253244233,
          6.765241143347324,
          6.761627535011855,
          6.758031620374087,
          6.7544533127984705,
          6.7508925260736605,
          6.747349174410439,
          6.743823172439645,
          6.74031443521012,
          6.736822878186661,
          6.733348417247987,
          6.729890968684702,
          6.7264504491972925,
          6.723026775894109,
          6.719619866289374,
          6.716229638301197,
          6.712856010249589,
          6.709498900854503,
          6.70615822923387,
          6.702833914901655,
          6.699525877765913,
          6.696234038126863,
          6.692958316674966,
          6.689698634489016,
          6.686454913034236,
          6.683227074160388,
          6.680015040099888,
          6.676818733465937,
          6.673638077250649,
          6.670472994823203,
          6.6673234099279926,
          6.664189246682791,
          6.66107042957692,
          6.657966883469434,
          6.654878533587306,
          6.65180530552363,
          6.648747125235826,
          6.645703919043857,
          6.642675613628453,
          6.639662136029345,
          6.6366634136435065,
          6.633679374223406,
          6.630709945875266,
          6.627755057057328,
          6.624814636578133,
          6.621888613594804,
          6.618976917611338,
          6.6160794784769115,
          6.613196226384187,
          6.610327091867632,
          6.607472005801844,
          6.60463089939989,
          6.601803704211643,
          6.598990352122137,
          6.596190775349926,
          6.593404906445445,
          6.590632678289394,
          6.587874024091114,
          6.585128877386983,
          6.5823971720388075,
          6.579678842232237,
          6.576973822475175,
          6.574282047596198,
          6.571603452742992,
          6.568937973380784,
          6.566285545290789,
          6.563646104568666,
          6.561019587622973,
          6.558405931173639,
          6.555805072250437,
          6.55321694819147,
          6.550641496641656,
          6.548078655551232,
          6.545528363174253,
          6.54299055806711,
          6.540465179087046,
          6.537952165390681,
          6.535451456432554,
          6.532962991963656,
          6.530486712029981,
          6.528022556971086,
          6.525570467418645,
          6.523130384295028,
          6.52070224881187,
          6.518286002468658,
          6.515881587051323,
          6.513488944630836,
          6.51110801756181,
          6.508738748481114,
          6.50638108030649,
          6.50403495623518,
          6.501700319742553,
          6.499377114580747,
          6.497065284777312,
          6.494764774633861,
          6.492475528724731,
          6.490197491895645,
          6.487930609262382,
          6.485674826209459,
          6.483430088388809,
          6.481196341718481,
          6.478973532381326,
          6.4767616068237075,
          6.474560511754211,
          6.472370194142355,
          6.47019060121732,
          6.468021680466673,
          6.465863379635103,
          6.463715646723161,
          6.461578429986011,
          6.4594516779321784,
          6.457335339322314,
          6.455229363167956,
          6.453133698730304,
          6.4510482955189925,
          6.448973103290881,
          6.4469080720488385,
          6.444853152040539,
          6.442808293757266,
          6.440773447932717,
          6.438748565541817,
          6.436733597799539,
          6.434728496159726,
          6.4327332123139245,
          6.430747698190216,
          6.428771905952065,
          6.42680578799716,
          6.424849296956271,
          6.422902385692109,
          6.420965007298187,
          6.419037115097689,
          6.417118662642351,
          6.415209603711337,
          6.413309892310127,
          6.41141948266941,
          6.409538329243978,
          6.407666386711634,
          6.405803609972095,
          6.403949954145905,
          6.402105374573362,
          6.400269826813431,
          6.398443266642681,
          6.396625650054214,
          6.394816933256612,
          6.393017072672874,
          6.391226024939372,
          6.389443746904803,
          6.38767019562915,
          6.385905328382648,
          6.384149102644756,
          6.3824014761031265,
          6.380662406652596,
          6.378931852394162,
          6.377209771633977,
          6.375496122882343,
          6.3737908648527135,
          6.372093956460696,
          6.370405356823067,
          6.368725025256782,
          6.367052921277995,
          6.365389004601091,
          6.363733235137704,
          6.362085572995761,
          6.360445978478514,
          6.358814412083588,
          6.357190834502029,
          6.3555752066173525,
          6.353967489504606,
          6.352367644429429,
          6.350775632847122,
          6.3491914164017125,
          6.347614956925038,
          6.346046216435821,
          6.344485157138755,
          6.342931741423596,
          6.341385931864257,
          6.3398476912179,
          6.338316982424045,
          6.336793768603678,
          6.335278013058354,
          6.333769679269325,
          6.332268730896649,
          6.33077513177832,
          6.329288845929397,
          6.3278098375411345,
          6.326338070980124,
          6.3248735107874285,
          6.323416121677736,
          6.321965868538505,
          6.320522716429117,
          6.319086630580039,
          6.317657576391985,
          6.316235519435079,
          6.314820425448027,
          6.313412260337294,
          6.312010990176282,
          6.310616581204509,
          6.309228999826798,
          6.307848212612471,
          6.306474186294535,
          6.30510688776889,
          6.303746284093526,
          6.302392342487729,
          6.301045030331295,
          6.29970431516374,
          6.298370164683521,
          6.297042546747256,
          6.29572142936895,
          6.294406780719224,
          6.293098569124549,
          6.2917967630664835,
          6.290501331180913,
          6.289212242257292,
          6.287929465237895,
          6.286652969217073,
          6.285382723440496,
          6.284118697304425,
          6.282860860354968,
          6.281609182287347,
          6.280363632945169,
          6.279124182319698,
          6.277890800549136,
          6.276663457917896,
          6.2754421248558945,
          6.274226771937833,
          6.273017369882492,
          6.271813889552026,
          6.270616301951257,
          6.269424578226983,
          6.2682386896672755,
          6.267058607700793,
          6.265884303896093,
          6.264715749960941,
          6.263552917741635,
          6.2623957792223255,
          6.261244306524338,
          6.260098471905504,
          6.258958247759494,
          6.257823606615148,
          6.256694521135816,
          6.255570964118701,
          6.254452908494201,
          6.253340327325257,
          6.252233193806707,
          6.251131481264636,
          6.250035163155736,
          6.2489442130666655,
          6.247858604713414,
          6.246778311940668,
          6.245703308721182,
          6.244633569155148,
          6.2435690674695765,
          6.242509778017672,
          6.241455675278217,
          6.240406733854954,
          6.239362928475979,
          6.238324233993127,
          6.23729062538137,
          6.236262077738212,
          6.235238566283092,
          6.234220066356781,
          6.233206553420794,
          6.232198003056795,
          6.231194390966013,
          6.23019569296865,
          6.229201885003304,
          6.228212943126389,
          6.227228843511552,
          6.226249562449109,
          6.225275076345463,
          6.2243053617225454,
          6.223340395217244,
          6.222380153580841,
          6.221424613678454,
          6.22047375248848,
          6.219527547102037,
          6.218585974722416,
          6.21764901266453,
          6.216716638354365,
          6.215788829328441,
          6.214865563233268,
          6.213946817824806,
          6.213032570967934,
          6.212122800635911,
          6.21121748490985,
          6.210316601978184,
          6.209420130136149,
          6.2085280477852525,
          6.20764033343276,
          6.206756965691173,
          6.205877923277713,
          6.205003185013814,
          6.2041327298246065,
          6.203266536738413,
          6.202404584886243,
          6.201546853501287,
          6.200693321918419,
          6.199843969573698,
          6.198998776003873,
          6.198157720845888,
          6.197320783836394,
          6.196487944811261,
          6.195659183705086,
          6.194834480550719,
          6.194013815478777,
          6.193197168717162,
          6.192384520590592,
          6.1915758515201205,
          6.19077114202267,
          6.189970372710559,
          6.189173524291035,
          6.188380577565812,
          6.187591513430606,
          6.186806312874674,
          6.186024956980361,
          6.185247426922639,
          6.184473703968652,
          6.18370376947727,
          6.182937604898639,
          6.18217519177373,
          6.1814165117339,
          6.180661546500444,
          6.179910277884156,
          6.179162687784895,
          6.178418758191142,
          6.177678471179573,
          6.176941808914623,
          6.176208753648055,
          6.175479287718538,
          6.1747533935512156,
          6.174031053657287,
          6.173312250633581,
          6.172596967162141,
          6.171885186009806,
          6.171176890027797,
          6.170472062151301,
          6.16977068539906,
          6.169072742872966,
          6.168378217757648,
          6.1676870933200725,
          6.166999352909136,
          6.166314979955267,
          6.165633957970024,
          6.164956270545701,
          6.164281901354928,
          6.163610834150286,
          6.162943052763904,
          6.162278541107078,
          6.161617283169882,
          6.1609592630207795,
          6.1603044648062415,
          6.159652872750364,
          6.159004471154489,
          6.158359244396826,
          6.157717176932075,
          6.157078253291051,
          6.156442458080312,
          6.15580977598179,
          6.155180191752421,
          6.154553690223775,
          6.153930256301696,
          6.153309874965932,
          6.152692531269777,
          6.152078210339711,
          6.151466897375042,
          6.150858577647545,
          6.150253236501113,
          6.1496508593514,
          6.149051431685471,
          6.148454939061454,
          6.147861367108186,
          6.147270701524876,
          6.146682928080754,
          6.146098032614726,
          6.145516001035043,
          6.144936819318949,
          6.144360473512352,
          6.143786949729485,
          6.14321623415257,
          6.142648313031488,
          6.142083172683446,
          6.141520799492646,
          6.14096117990996,
          6.140404300452601,
          6.139850147703799,
          6.139298708312481,
          6.138749968992943,
          6.1382039165245335,
          6.137660537751335,
          6.13711981958185,
          6.136581748988677,
          6.136046313008205,
          6.135513498740297,
          6.134983293347981,
          6.13445568405714,
          6.133930658156205,
          6.133408202995847,
          6.132888305988672,
          6.1323709546089225,
          6.131856136392169,
          6.131343838935013,
          6.1308340498947915,
          6.130326756989272,
          6.129821947996365,
          6.129319610753821,
          6.128819733158943,
          6.1283223031682965,
          6.127827308797414,
          6.127334738120511,
          6.126844579270192,
          6.126356820437174,
          6.125871449869994,
          6.125388455874731,
          6.124907826814721,
          6.124429551110278,
          6.123953617238416,
          6.123480013732568,
          6.123008729182313,
          6.1225397522331,
          6.122073071585977,
          6.121608675997312,
          6.121146554278528,
          6.120686695295834,
          6.120229087969952,
          6.119773721275854,
          6.119320584242493,
          6.118869665952543,
          6.118420955542134,
          6.1179744422005875,
          6.11753011517016,
          6.1170879637457825,
          6.116647977274802,
          6.116210145156725,
          6.115774456842962,
          6.115340901836575,
          6.114909469692022,
          6.1144801500149075,
          6.114052932461731,
          6.113627806739638,
          6.113204762606171,
          6.112783789869024,
          6.112364878385799,
          6.111948018063757,
          6.1115331988595765,
          6.111120410779114,
          6.110709643877162,
          6.110300888257207,
          6.109894134071193,
          6.109489371519285,
          6.10908659084963,
          6.108685782358128,
          6.10828693638819,
          6.107890043330512,
          6.10749509362284,
          6.107102077749742,
          6.106710986242376,
          6.106321809678264,
          6.105934538681064,
          6.105549163920345,
          6.10516567611136,
          6.104784066014826,
          6.104404324436699,
          6.1040264422279495,
          6.1036504102843505,
          6.10327621954625,
          6.102903860998356,
          6.102533325669518,
          6.102164604632516,
          6.101797689003836,
          6.101432569943465,
          6.101069238654672,
          6.1007076863838,
          6.100347904420055,
          6.099989884095288,
          6.099633616783802,
          6.099279093902127,
          6.098926306908826,
          6.098575247304282,
          6.098225906630497,
          6.097878276470886,
          6.097532348450074,
          6.097188114233698,
          6.096845565528201,
          6.096504694080636,
          6.096165491678464,
          6.095827950149361,
          6.095492061361015,
          6.095157817220935,
          6.0948252096762525,
          6.094494230713531,
          6.09416487235857,
          6.093837126676215,
          6.093510985770163,
          6.093186441782775,
          6.092863486894888,
          6.092542113325624,
          6.092222313332204,
          6.091904079209759,
          6.091587403291147,
          6.091272277946768,
          6.090958695584379,
          6.090646648648912,
          6.090336129622292,
          6.090027131023255,
          6.089719645407168,
          6.089413665365852,
          6.089109183527397,
          6.088806192555995,
          6.088504685151753,
          6.088204654050521,
          6.087906092023718,
          6.087608991878159,
          6.087313346455878,
          6.087019148633957,
          6.086726391324356,
          6.086435067473739,
          6.0861451700633085,
          6.0858566921086314,
          6.085569626659475,
          6.085283966799637,
          6.084999705646781,
          6.084716836352266,
          6.084435352100988,
          6.084155246111211,
          6.083876511634406,
          6.083599141955087,
          6.083323130390649,
          6.08304847029121,
          6.082775155039446,
          6.082503178050437,
          6.082232532771501,
          6.081963212682044,
          6.0816952112934,
          6.081428522148673,
          6.08116313882258,
          6.0808990549213044,
          6.080636264082331,
          6.080374759974302,
          6.080114536296858,
          6.079855586780488,
          6.079597905186383,
          6.079341485306279,
          6.079086320962309,
          6.078832406006859,
          6.078579734322412,
          6.0783282998214085,
          6.078078096446094,
          6.077829118168376,
          6.077581358989677,
          6.077334812940793,
          6.077089474081747,
          6.076845336501645,
          6.076602394318536,
          6.076360641679271,
          6.076120072759357,
          6.075880681762823,
          6.075642462922077,
          6.075405410497766,
          6.075169518778642,
          6.074934782081418,
          6.074701194750638,
          6.074468751158534,
          6.074237445704898,
          6.074007272816939,
          6.0737782269491545,
          6.073550302583196,
          6.073323494227733,
          6.073097796418324,
          6.0728732037172835,
          6.07264971071355,
          6.072427312022559,
          6.0722060022861095,
          6.071985776172236,
          6.071766628375082,
          6.071548553614769,
          6.071331546637272,
          6.0711156022142925,
          6.07090071514313,
          6.0706868802465594,
          6.070474092372706,
          6.0702623463949195,
          6.070051637211654,
          6.06984195974634,
          6.069633308947268,
          6.06942567978746,
          6.069219067264555,
          6.069013466400685,
          6.068808872242356,
          6.068605279860327,
          6.068402684349493,
          6.068201080828768,
          6.0680004644409635,
          6.067800830352675,
          6.067602173754164,
          6.067404489859243,
          6.067207773905159,
          6.06701202115248,
          6.06681722688498,
          6.066623386409523,
          6.0664304950559576,
          6.066238548176995,
          6.066047541148103,
          6.065857469367394,
          6.065668328255512,
          6.065480113255522,
          6.065292819832805,
          6.065106443474942,
          6.064920979691611,
          6.064736424014476,
          6.064552771997078,
          6.0643700192147305,
          6.064188161264415,
          6.064007193764667,
          6.063827112355479,
          6.063647912698192,
          6.063469590475389,
          6.063292141390792,
          6.0631155611691625,
          6.062939845556193,
          6.062764990318408,
          6.062590991243059,
          6.062417844138029,
          6.062245544831721,
          6.0620740891729685,
          6.061903473030931,
          6.0617336922949905,
          6.061564742874661,
          6.061396620699481,
          6.061229321718922,
          6.061062841902288,
          6.060897177238619,
          6.060732323736594,
          6.060568277424435,
          6.060405034349813,
          6.060242590579749,
          6.060080942200522,
          6.059920085317576,
          6.059760016055422,
          6.059600730557547,
          6.0594422249863245,
          6.059284495522914,
          6.059127538367177,
          6.05897134973758,
          6.058815925871105,
          6.058661263023162,
          6.058507357467494,
          6.05835420549609,
          6.058201803419093,
          6.058050147564717,
          6.057899234279151,
          6.057749059926475,
          6.057599620888574,
          6.057450913565047,
          6.057302934373122,
          6.057155679747571,
          6.057009146140622,
          6.056863330021875,
          6.056718227878213,
          6.056573836213727,
          6.056430151549619,
          6.0562871704241275,
          6.056144889392442,
          6.056003305026618,
          6.055862413915495,
          6.055722212664617,
          6.055582697896146,
          6.055443866248785,
          6.055305714377695,
          6.0551682389544155,
          6.0550314366667815,
          6.054895304218847,
          6.054759838330804,
          6.054625035738904,
          6.054490893195379,
          6.054357407468364,
          6.054224575341818,
          6.054092393615446,
          6.053960859104625,
          6.053829968640323,
          6.053699719069026,
          6.0535701072526615,
          6.0534411300685225,
          6.05331278440919,
          6.053185067182462,
          6.053057975311277,
          6.052931505733639,
          6.052805655402545,
          6.052680421285912,
          6.0525558003665045,
          6.052431789641857,
          6.052308386124209,
          6.052185586840428,
          6.052063388831939,
          6.051941789154651,
          6.051820784878894,
          6.0517003730893375,
          6.051580550884929,
          6.051461315378819,
          6.051342663698294,
          6.051224592984706,
          6.051107100393405,
          6.050990183093668,
          6.050873838268633,
          6.050758063115232,
          6.050642854844121,
          6.050528210679611,
          6.05041412785961,
          6.050300603635544,
          6.050187635272301,
          6.050075220048159,
          6.049963355254724,
          6.049852038196866,
          6.049741266192644,
          6.049631036573257,
          6.049521346682966,
          6.049412193879039,
          6.049303575531682,
          6.049195489023978,
          6.0490879317518225,
          6.048980901123865,
          6.048874394561438,
          6.048768409498507,
          6.048662943381595,
          6.048557993669732,
          6.04845355783439,
          6.048349633359418,
          6.0482462177409895,
          6.048143308487534,
          6.048040903119683,
          6.047938999170208,
          6.04783759418396,
          6.047736685717812,
          6.0476362713406,
          6.047536348633062,
          6.047436915187784,
          6.047337968609138,
          6.047239506513228,
          6.047141526527829,
          6.0470440262923315,
          6.046947003457683,
          6.046850455686338,
          6.04675438065219,
          6.046658776040526,
          6.0465636395479665,
          6.046468968882411,
          6.046374761762978,
          6.046281015919959,
          6.046187729094756,
          6.046094899039831,
          6.046002523518651,
          6.045910600305634,
          6.045819127186094,
          6.045728101956192,
          6.045637522422877,
          6.045547386403835,
          6.045457691727442,
          6.045368436232705,
          6.04527961776921,
          6.045191234197075,
          6.0451032833868945,
          6.04501576321969,
          6.044928671586859,
          6.044842006390121,
          6.044755765541473,
          6.044669946963133,
          6.044584548587493,
          6.044499568357071,
          6.044415004224457,
          6.044330854152267,
          6.044247116113092,
          6.044163788089451,
          6.044080868073741,
          6.043998354068188,
          6.043916244084803,
          6.043834536145328,
          6.043753228281192,
          6.0436723185334635,
          6.043591804952802,
          6.043511685599413,
          6.043431958543,
          6.043352621862716,
          6.0432736736471195,
          6.043195111994131,
          6.043116935010983,
          6.043039140814174,
          6.042961727529426,
          6.04288469329164,
          6.042808036244847,
          6.0427317545421655,
          6.042655846345759,
          6.042580309826788,
          6.04250514316537,
          6.042430344550529,
          6.042355912180161,
          6.042281844260984,
          6.042208139008496,
          6.042134794646933,
          6.042061809409227,
          6.0419891815369615,
          6.041916909280329,
          6.04184499089809,
          6.041773424657533,
          6.041702208834428,
          6.041631341712988,
          6.041560821585829,
          6.041490646753925,
          6.041420815526569
         ],
         "yaxis": "y",
         "type": "scattergl"
        }
       ],
       "layout": {
        "template": {
         "data": {
          "histogram2dcontour": [
           {
            "type": "histogram2dcontour",
            "colorbar": {
             "outlinewidth": 0,
             "tickcolor": "rgb(36,36,36)",
             "ticklen": 8,
             "ticks": "outside",
             "tickwidth": 2
            },
            "colorscale": [
             [
              0.0,
              "rgb(2,4,25)"
             ],
             [
              0.06274509803921569,
              "rgb(24,15,41)"
             ],
             [
              0.12549019607843137,
              "rgb(47,23,57)"
             ],
             [
              0.18823529411764706,
              "rgb(71,28,72)"
             ],
             [
              0.25098039215686274,
              "rgb(97,30,82)"
             ],
             [
              0.3137254901960784,
              "rgb(123,30,89)"
             ],
             [
              0.3764705882352941,
              "rgb(150,27,91)"
             ],
             [
              0.4392156862745098,
              "rgb(177,22,88)"
             ],
             [
              0.5019607843137255,
              "rgb(203,26,79)"
             ],
             [
              0.5647058823529412,
              "rgb(223,47,67)"
             ],
             [
              0.6274509803921569,
              "rgb(236,76,61)"
             ],
             [
              0.6901960784313725,
              "rgb(242,107,73)"
             ],
             [
              0.7529411764705882,
              "rgb(244,135,95)"
             ],
             [
              0.8156862745098039,
              "rgb(245,162,122)"
             ],
             [
              0.8784313725490196,
              "rgb(246,188,153)"
             ],
             [
              0.9411764705882353,
              "rgb(247,212,187)"
             ],
             [
              1.0,
              "rgb(250,234,220)"
             ]
            ]
           }
          ],
          "choropleth": [
           {
            "type": "choropleth",
            "colorbar": {
             "outlinewidth": 0,
             "tickcolor": "rgb(36,36,36)",
             "ticklen": 8,
             "ticks": "outside",
             "tickwidth": 2
            }
           }
          ],
          "histogram2d": [
           {
            "type": "histogram2d",
            "colorbar": {
             "outlinewidth": 0,
             "tickcolor": "rgb(36,36,36)",
             "ticklen": 8,
             "ticks": "outside",
             "tickwidth": 2
            },
            "colorscale": [
             [
              0.0,
              "rgb(2,4,25)"
             ],
             [
              0.06274509803921569,
              "rgb(24,15,41)"
             ],
             [
              0.12549019607843137,
              "rgb(47,23,57)"
             ],
             [
              0.18823529411764706,
              "rgb(71,28,72)"
             ],
             [
              0.25098039215686274,
              "rgb(97,30,82)"
             ],
             [
              0.3137254901960784,
              "rgb(123,30,89)"
             ],
             [
              0.3764705882352941,
              "rgb(150,27,91)"
             ],
             [
              0.4392156862745098,
              "rgb(177,22,88)"
             ],
             [
              0.5019607843137255,
              "rgb(203,26,79)"
             ],
             [
              0.5647058823529412,
              "rgb(223,47,67)"
             ],
             [
              0.6274509803921569,
              "rgb(236,76,61)"
             ],
             [
              0.6901960784313725,
              "rgb(242,107,73)"
             ],
             [
              0.7529411764705882,
              "rgb(244,135,95)"
             ],
             [
              0.8156862745098039,
              "rgb(245,162,122)"
             ],
             [
              0.8784313725490196,
              "rgb(246,188,153)"
             ],
             [
              0.9411764705882353,
              "rgb(247,212,187)"
             ],
             [
              1.0,
              "rgb(250,234,220)"
             ]
            ]
           }
          ],
          "heatmap": [
           {
            "type": "heatmap",
            "colorbar": {
             "outlinewidth": 0,
             "tickcolor": "rgb(36,36,36)",
             "ticklen": 8,
             "ticks": "outside",
             "tickwidth": 2
            },
            "colorscale": [
             [
              0.0,
              "rgb(2,4,25)"
             ],
             [
              0.06274509803921569,
              "rgb(24,15,41)"
             ],
             [
              0.12549019607843137,
              "rgb(47,23,57)"
             ],
             [
              0.18823529411764706,
              "rgb(71,28,72)"
             ],
             [
              0.25098039215686274,
              "rgb(97,30,82)"
             ],
             [
              0.3137254901960784,
              "rgb(123,30,89)"
             ],
             [
              0.3764705882352941,
              "rgb(150,27,91)"
             ],
             [
              0.4392156862745098,
              "rgb(177,22,88)"
             ],
             [
              0.5019607843137255,
              "rgb(203,26,79)"
             ],
             [
              0.5647058823529412,
              "rgb(223,47,67)"
             ],
             [
              0.6274509803921569,
              "rgb(236,76,61)"
             ],
             [
              0.6901960784313725,
              "rgb(242,107,73)"
             ],
             [
              0.7529411764705882,
              "rgb(244,135,95)"
             ],
             [
              0.8156862745098039,
              "rgb(245,162,122)"
             ],
             [
              0.8784313725490196,
              "rgb(246,188,153)"
             ],
             [
              0.9411764705882353,
              "rgb(247,212,187)"
             ],
             [
              1.0,
              "rgb(250,234,220)"
             ]
            ]
           }
          ],
          "heatmapgl": [
           {
            "type": "heatmapgl",
            "colorbar": {
             "outlinewidth": 0,
             "tickcolor": "rgb(36,36,36)",
             "ticklen": 8,
             "ticks": "outside",
             "tickwidth": 2
            },
            "colorscale": [
             [
              0.0,
              "rgb(2,4,25)"
             ],
             [
              0.06274509803921569,
              "rgb(24,15,41)"
             ],
             [
              0.12549019607843137,
              "rgb(47,23,57)"
             ],
             [
              0.18823529411764706,
              "rgb(71,28,72)"
             ],
             [
              0.25098039215686274,
              "rgb(97,30,82)"
             ],
             [
              0.3137254901960784,
              "rgb(123,30,89)"
             ],
             [
              0.3764705882352941,
              "rgb(150,27,91)"
             ],
             [
              0.4392156862745098,
              "rgb(177,22,88)"
             ],
             [
              0.5019607843137255,
              "rgb(203,26,79)"
             ],
             [
              0.5647058823529412,
              "rgb(223,47,67)"
             ],
             [
              0.6274509803921569,
              "rgb(236,76,61)"
             ],
             [
              0.6901960784313725,
              "rgb(242,107,73)"
             ],
             [
              0.7529411764705882,
              "rgb(244,135,95)"
             ],
             [
              0.8156862745098039,
              "rgb(245,162,122)"
             ],
             [
              0.8784313725490196,
              "rgb(246,188,153)"
             ],
             [
              0.9411764705882353,
              "rgb(247,212,187)"
             ],
             [
              1.0,
              "rgb(250,234,220)"
             ]
            ]
           }
          ],
          "contourcarpet": [
           {
            "type": "contourcarpet",
            "colorbar": {
             "outlinewidth": 0,
             "tickcolor": "rgb(36,36,36)",
             "ticklen": 8,
             "ticks": "outside",
             "tickwidth": 2
            }
           }
          ],
          "contour": [
           {
            "type": "contour",
            "colorbar": {
             "outlinewidth": 0,
             "tickcolor": "rgb(36,36,36)",
             "ticklen": 8,
             "ticks": "outside",
             "tickwidth": 2
            },
            "colorscale": [
             [
              0.0,
              "rgb(2,4,25)"
             ],
             [
              0.06274509803921569,
              "rgb(24,15,41)"
             ],
             [
              0.12549019607843137,
              "rgb(47,23,57)"
             ],
             [
              0.18823529411764706,
              "rgb(71,28,72)"
             ],
             [
              0.25098039215686274,
              "rgb(97,30,82)"
             ],
             [
              0.3137254901960784,
              "rgb(123,30,89)"
             ],
             [
              0.3764705882352941,
              "rgb(150,27,91)"
             ],
             [
              0.4392156862745098,
              "rgb(177,22,88)"
             ],
             [
              0.5019607843137255,
              "rgb(203,26,79)"
             ],
             [
              0.5647058823529412,
              "rgb(223,47,67)"
             ],
             [
              0.6274509803921569,
              "rgb(236,76,61)"
             ],
             [
              0.6901960784313725,
              "rgb(242,107,73)"
             ],
             [
              0.7529411764705882,
              "rgb(244,135,95)"
             ],
             [
              0.8156862745098039,
              "rgb(245,162,122)"
             ],
             [
              0.8784313725490196,
              "rgb(246,188,153)"
             ],
             [
              0.9411764705882353,
              "rgb(247,212,187)"
             ],
             [
              1.0,
              "rgb(250,234,220)"
             ]
            ]
           }
          ],
          "surface": [
           {
            "type": "surface",
            "colorbar": {
             "outlinewidth": 0,
             "tickcolor": "rgb(36,36,36)",
             "ticklen": 8,
             "ticks": "outside",
             "tickwidth": 2
            },
            "colorscale": [
             [
              0.0,
              "rgb(2,4,25)"
             ],
             [
              0.06274509803921569,
              "rgb(24,15,41)"
             ],
             [
              0.12549019607843137,
              "rgb(47,23,57)"
             ],
             [
              0.18823529411764706,
              "rgb(71,28,72)"
             ],
             [
              0.25098039215686274,
              "rgb(97,30,82)"
             ],
             [
              0.3137254901960784,
              "rgb(123,30,89)"
             ],
             [
              0.3764705882352941,
              "rgb(150,27,91)"
             ],
             [
              0.4392156862745098,
              "rgb(177,22,88)"
             ],
             [
              0.5019607843137255,
              "rgb(203,26,79)"
             ],
             [
              0.5647058823529412,
              "rgb(223,47,67)"
             ],
             [
              0.6274509803921569,
              "rgb(236,76,61)"
             ],
             [
              0.6901960784313725,
              "rgb(242,107,73)"
             ],
             [
              0.7529411764705882,
              "rgb(244,135,95)"
             ],
             [
              0.8156862745098039,
              "rgb(245,162,122)"
             ],
             [
              0.8784313725490196,
              "rgb(246,188,153)"
             ],
             [
              0.9411764705882353,
              "rgb(247,212,187)"
             ],
             [
              1.0,
              "rgb(250,234,220)"
             ]
            ]
           }
          ],
          "mesh3d": [
           {
            "type": "mesh3d",
            "colorbar": {
             "outlinewidth": 0,
             "tickcolor": "rgb(36,36,36)",
             "ticklen": 8,
             "ticks": "outside",
             "tickwidth": 2
            }
           }
          ],
          "scatter": [
           {
            "fillpattern": {
             "fillmode": "overlay",
             "size": 10,
             "solidity": 0.2
            },
            "type": "scatter"
           }
          ],
          "parcoords": [
           {
            "type": "parcoords",
            "line": {
             "colorbar": {
              "outlinewidth": 0,
              "tickcolor": "rgb(36,36,36)",
              "ticklen": 8,
              "ticks": "outside",
              "tickwidth": 2
             }
            }
           }
          ],
          "scatterpolargl": [
           {
            "type": "scatterpolargl",
            "marker": {
             "colorbar": {
              "outlinewidth": 0,
              "tickcolor": "rgb(36,36,36)",
              "ticklen": 8,
              "ticks": "outside",
              "tickwidth": 2
             }
            }
           }
          ],
          "bar": [
           {
            "error_x": {
             "color": "rgb(36,36,36)"
            },
            "error_y": {
             "color": "rgb(36,36,36)"
            },
            "marker": {
             "line": {
              "color": "rgb(234,234,242)",
              "width": 0.5
             },
             "pattern": {
              "fillmode": "overlay",
              "size": 10,
              "solidity": 0.2
             }
            },
            "type": "bar"
           }
          ],
          "scattergeo": [
           {
            "type": "scattergeo",
            "marker": {
             "colorbar": {
              "outlinewidth": 0,
              "tickcolor": "rgb(36,36,36)",
              "ticklen": 8,
              "ticks": "outside",
              "tickwidth": 2
             }
            }
           }
          ],
          "scatterpolar": [
           {
            "type": "scatterpolar",
            "marker": {
             "colorbar": {
              "outlinewidth": 0,
              "tickcolor": "rgb(36,36,36)",
              "ticklen": 8,
              "ticks": "outside",
              "tickwidth": 2
             }
            }
           }
          ],
          "histogram": [
           {
            "marker": {
             "pattern": {
              "fillmode": "overlay",
              "size": 10,
              "solidity": 0.2
             }
            },
            "type": "histogram"
           }
          ],
          "scattergl": [
           {
            "type": "scattergl",
            "marker": {
             "colorbar": {
              "outlinewidth": 0,
              "tickcolor": "rgb(36,36,36)",
              "ticklen": 8,
              "ticks": "outside",
              "tickwidth": 2
             }
            }
           }
          ],
          "scatter3d": [
           {
            "type": "scatter3d",
            "line": {
             "colorbar": {
              "outlinewidth": 0,
              "tickcolor": "rgb(36,36,36)",
              "ticklen": 8,
              "ticks": "outside",
              "tickwidth": 2
             }
            },
            "marker": {
             "colorbar": {
              "outlinewidth": 0,
              "tickcolor": "rgb(36,36,36)",
              "ticklen": 8,
              "ticks": "outside",
              "tickwidth": 2
             }
            }
           }
          ],
          "scattermapbox": [
           {
            "type": "scattermapbox",
            "marker": {
             "colorbar": {
              "outlinewidth": 0,
              "tickcolor": "rgb(36,36,36)",
              "ticklen": 8,
              "ticks": "outside",
              "tickwidth": 2
             }
            }
           }
          ],
          "scatterternary": [
           {
            "type": "scatterternary",
            "marker": {
             "colorbar": {
              "outlinewidth": 0,
              "tickcolor": "rgb(36,36,36)",
              "ticklen": 8,
              "ticks": "outside",
              "tickwidth": 2
             }
            }
           }
          ],
          "scattercarpet": [
           {
            "type": "scattercarpet",
            "marker": {
             "colorbar": {
              "outlinewidth": 0,
              "tickcolor": "rgb(36,36,36)",
              "ticklen": 8,
              "ticks": "outside",
              "tickwidth": 2
             }
            }
           }
          ],
          "carpet": [
           {
            "aaxis": {
             "endlinecolor": "rgb(36,36,36)",
             "gridcolor": "white",
             "linecolor": "white",
             "minorgridcolor": "white",
             "startlinecolor": "rgb(36,36,36)"
            },
            "baxis": {
             "endlinecolor": "rgb(36,36,36)",
             "gridcolor": "white",
             "linecolor": "white",
             "minorgridcolor": "white",
             "startlinecolor": "rgb(36,36,36)"
            },
            "type": "carpet"
           }
          ],
          "table": [
           {
            "cells": {
             "fill": {
              "color": "rgb(231,231,240)"
             },
             "line": {
              "color": "white"
             }
            },
            "header": {
             "fill": {
              "color": "rgb(183,183,191)"
             },
             "line": {
              "color": "white"
             }
            },
            "type": "table"
           }
          ],
          "barpolar": [
           {
            "marker": {
             "line": {
              "color": "rgb(234,234,242)",
              "width": 0.5
             },
             "pattern": {
              "fillmode": "overlay",
              "size": 10,
              "solidity": 0.2
             }
            },
            "type": "barpolar"
           }
          ],
          "pie": [
           {
            "automargin": true,
            "type": "pie"
           }
          ]
         },
         "layout": {
          "autotypenumbers": "strict",
          "colorway": [
           "rgb(76,114,176)",
           "rgb(221,132,82)",
           "rgb(85,168,104)",
           "rgb(196,78,82)",
           "rgb(129,114,179)",
           "rgb(147,120,96)",
           "rgb(218,139,195)",
           "rgb(140,140,140)",
           "rgb(204,185,116)",
           "rgb(100,181,205)"
          ],
          "font": {
           "color": "rgb(36,36,36)"
          },
          "hovermode": "closest",
          "hoverlabel": {
           "align": "left"
          },
          "paper_bgcolor": "white",
          "plot_bgcolor": "rgb(234,234,242)",
          "polar": {
           "bgcolor": "rgb(234,234,242)",
           "angularaxis": {
            "gridcolor": "white",
            "linecolor": "white",
            "showgrid": true,
            "ticks": ""
           },
           "radialaxis": {
            "gridcolor": "white",
            "linecolor": "white",
            "showgrid": true,
            "ticks": ""
           }
          },
          "ternary": {
           "bgcolor": "rgb(234,234,242)",
           "aaxis": {
            "gridcolor": "white",
            "linecolor": "white",
            "showgrid": true,
            "ticks": ""
           },
           "baxis": {
            "gridcolor": "white",
            "linecolor": "white",
            "showgrid": true,
            "ticks": ""
           },
           "caxis": {
            "gridcolor": "white",
            "linecolor": "white",
            "showgrid": true,
            "ticks": ""
           }
          },
          "coloraxis": {
           "colorbar": {
            "outlinewidth": 0,
            "tickcolor": "rgb(36,36,36)",
            "ticklen": 8,
            "ticks": "outside",
            "tickwidth": 2
           }
          },
          "colorscale": {
           "sequential": [
            [
             0.0,
             "rgb(2,4,25)"
            ],
            [
             0.06274509803921569,
             "rgb(24,15,41)"
            ],
            [
             0.12549019607843137,
             "rgb(47,23,57)"
            ],
            [
             0.18823529411764706,
             "rgb(71,28,72)"
            ],
            [
             0.25098039215686274,
             "rgb(97,30,82)"
            ],
            [
             0.3137254901960784,
             "rgb(123,30,89)"
            ],
            [
             0.3764705882352941,
             "rgb(150,27,91)"
            ],
            [
             0.4392156862745098,
             "rgb(177,22,88)"
            ],
            [
             0.5019607843137255,
             "rgb(203,26,79)"
            ],
            [
             0.5647058823529412,
             "rgb(223,47,67)"
            ],
            [
             0.6274509803921569,
             "rgb(236,76,61)"
            ],
            [
             0.6901960784313725,
             "rgb(242,107,73)"
            ],
            [
             0.7529411764705882,
             "rgb(244,135,95)"
            ],
            [
             0.8156862745098039,
             "rgb(245,162,122)"
            ],
            [
             0.8784313725490196,
             "rgb(246,188,153)"
            ],
            [
             0.9411764705882353,
             "rgb(247,212,187)"
            ],
            [
             1.0,
             "rgb(250,234,220)"
            ]
           ],
           "sequentialminus": [
            [
             0.0,
             "rgb(2,4,25)"
            ],
            [
             0.06274509803921569,
             "rgb(24,15,41)"
            ],
            [
             0.12549019607843137,
             "rgb(47,23,57)"
            ],
            [
             0.18823529411764706,
             "rgb(71,28,72)"
            ],
            [
             0.25098039215686274,
             "rgb(97,30,82)"
            ],
            [
             0.3137254901960784,
             "rgb(123,30,89)"
            ],
            [
             0.3764705882352941,
             "rgb(150,27,91)"
            ],
            [
             0.4392156862745098,
             "rgb(177,22,88)"
            ],
            [
             0.5019607843137255,
             "rgb(203,26,79)"
            ],
            [
             0.5647058823529412,
             "rgb(223,47,67)"
            ],
            [
             0.6274509803921569,
             "rgb(236,76,61)"
            ],
            [
             0.6901960784313725,
             "rgb(242,107,73)"
            ],
            [
             0.7529411764705882,
             "rgb(244,135,95)"
            ],
            [
             0.8156862745098039,
             "rgb(245,162,122)"
            ],
            [
             0.8784313725490196,
             "rgb(246,188,153)"
            ],
            [
             0.9411764705882353,
             "rgb(247,212,187)"
            ],
            [
             1.0,
             "rgb(250,234,220)"
            ]
           ]
          },
          "xaxis": {
           "gridcolor": "white",
           "linecolor": "white",
           "showgrid": true,
           "ticks": "",
           "title": {
            "standoff": 15
           },
           "zerolinecolor": "white",
           "automargin": true
          },
          "yaxis": {
           "gridcolor": "white",
           "linecolor": "white",
           "showgrid": true,
           "ticks": "",
           "title": {
            "standoff": 15
           },
           "zerolinecolor": "white",
           "automargin": true
          },
          "scene": {
           "xaxis": {
            "backgroundcolor": "rgb(234,234,242)",
            "gridcolor": "white",
            "linecolor": "white",
            "showbackground": true,
            "showgrid": true,
            "ticks": "",
            "zerolinecolor": "white",
            "gridwidth": 2
           },
           "yaxis": {
            "backgroundcolor": "rgb(234,234,242)",
            "gridcolor": "white",
            "linecolor": "white",
            "showbackground": true,
            "showgrid": true,
            "ticks": "",
            "zerolinecolor": "white",
            "gridwidth": 2
           },
           "zaxis": {
            "backgroundcolor": "rgb(234,234,242)",
            "gridcolor": "white",
            "linecolor": "white",
            "showbackground": true,
            "showgrid": true,
            "ticks": "",
            "zerolinecolor": "white",
            "gridwidth": 2
           }
          },
          "shapedefaults": {
           "fillcolor": "rgb(67,103,167)",
           "line": {
            "width": 0
           },
           "opacity": 0.5
          },
          "annotationdefaults": {
           "arrowcolor": "rgb(67,103,167)"
          },
          "geo": {
           "bgcolor": "white",
           "landcolor": "rgb(234,234,242)",
           "subunitcolor": "white",
           "showland": true,
           "showlakes": true,
           "lakecolor": "white"
          }
         }
        },
        "xaxis": {
         "anchor": "y",
         "domain": [
          0.0,
          1.0
         ],
         "title": {
          "text": "Iterations"
         }
        },
        "yaxis": {
         "anchor": "x",
         "domain": [
          0.0,
          1.0
         ],
         "title": {
          "text": "Slope"
         }
        },
        "legend": {
         "tracegroupgap": 0
        },
        "title": {
         "text": "Gradient Descent: Slope"
        }
       },
       "config": {
        "plotlyServerURL": "https://plot.ly"
       }
      }
     },
     "metadata": {},
     "output_type": "display_data"
    },
    {
     "data": {
      "application/vnd.plotly.v1+json": {
       "data": [
        {
         "hovertemplate": "Iterations=%{x}<br>Intercept=%{y}<extra></extra>",
         "legendgroup": "",
         "line": {
          "color": "rgb(76,114,176)",
          "dash": "solid"
         },
         "marker": {
          "symbol": "circle"
         },
         "mode": "lines",
         "name": "",
         "showlegend": false,
         "x": [
          0,
          1,
          2,
          3,
          4,
          5,
          6,
          7,
          8,
          9,
          10,
          11,
          12,
          13,
          14,
          15,
          16,
          17,
          18,
          19,
          20,
          21,
          22,
          23,
          24,
          25,
          26,
          27,
          28,
          29,
          30,
          31,
          32,
          33,
          34,
          35,
          36,
          37,
          38,
          39,
          40,
          41,
          42,
          43,
          44,
          45,
          46,
          47,
          48,
          49,
          50,
          51,
          52,
          53,
          54,
          55,
          56,
          57,
          58,
          59,
          60,
          61,
          62,
          63,
          64,
          65,
          66,
          67,
          68,
          69,
          70,
          71,
          72,
          73,
          74,
          75,
          76,
          77,
          78,
          79,
          80,
          81,
          82,
          83,
          84,
          85,
          86,
          87,
          88,
          89,
          90,
          91,
          92,
          93,
          94,
          95,
          96,
          97,
          98,
          99,
          100,
          101,
          102,
          103,
          104,
          105,
          106,
          107,
          108,
          109,
          110,
          111,
          112,
          113,
          114,
          115,
          116,
          117,
          118,
          119,
          120,
          121,
          122,
          123,
          124,
          125,
          126,
          127,
          128,
          129,
          130,
          131,
          132,
          133,
          134,
          135,
          136,
          137,
          138,
          139,
          140,
          141,
          142,
          143,
          144,
          145,
          146,
          147,
          148,
          149,
          150,
          151,
          152,
          153,
          154,
          155,
          156,
          157,
          158,
          159,
          160,
          161,
          162,
          163,
          164,
          165,
          166,
          167,
          168,
          169,
          170,
          171,
          172,
          173,
          174,
          175,
          176,
          177,
          178,
          179,
          180,
          181,
          182,
          183,
          184,
          185,
          186,
          187,
          188,
          189,
          190,
          191,
          192,
          193,
          194,
          195,
          196,
          197,
          198,
          199,
          200,
          201,
          202,
          203,
          204,
          205,
          206,
          207,
          208,
          209,
          210,
          211,
          212,
          213,
          214,
          215,
          216,
          217,
          218,
          219,
          220,
          221,
          222,
          223,
          224,
          225,
          226,
          227,
          228,
          229,
          230,
          231,
          232,
          233,
          234,
          235,
          236,
          237,
          238,
          239,
          240,
          241,
          242,
          243,
          244,
          245,
          246,
          247,
          248,
          249,
          250,
          251,
          252,
          253,
          254,
          255,
          256,
          257,
          258,
          259,
          260,
          261,
          262,
          263,
          264,
          265,
          266,
          267,
          268,
          269,
          270,
          271,
          272,
          273,
          274,
          275,
          276,
          277,
          278,
          279,
          280,
          281,
          282,
          283,
          284,
          285,
          286,
          287,
          288,
          289,
          290,
          291,
          292,
          293,
          294,
          295,
          296,
          297,
          298,
          299,
          300,
          301,
          302,
          303,
          304,
          305,
          306,
          307,
          308,
          309,
          310,
          311,
          312,
          313,
          314,
          315,
          316,
          317,
          318,
          319,
          320,
          321,
          322,
          323,
          324,
          325,
          326,
          327,
          328,
          329,
          330,
          331,
          332,
          333,
          334,
          335,
          336,
          337,
          338,
          339,
          340,
          341,
          342,
          343,
          344,
          345,
          346,
          347,
          348,
          349,
          350,
          351,
          352,
          353,
          354,
          355,
          356,
          357,
          358,
          359,
          360,
          361,
          362,
          363,
          364,
          365,
          366,
          367,
          368,
          369,
          370,
          371,
          372,
          373,
          374,
          375,
          376,
          377,
          378,
          379,
          380,
          381,
          382,
          383,
          384,
          385,
          386,
          387,
          388,
          389,
          390,
          391,
          392,
          393,
          394,
          395,
          396,
          397,
          398,
          399,
          400,
          401,
          402,
          403,
          404,
          405,
          406,
          407,
          408,
          409,
          410,
          411,
          412,
          413,
          414,
          415,
          416,
          417,
          418,
          419,
          420,
          421,
          422,
          423,
          424,
          425,
          426,
          427,
          428,
          429,
          430,
          431,
          432,
          433,
          434,
          435,
          436,
          437,
          438,
          439,
          440,
          441,
          442,
          443,
          444,
          445,
          446,
          447,
          448,
          449,
          450,
          451,
          452,
          453,
          454,
          455,
          456,
          457,
          458,
          459,
          460,
          461,
          462,
          463,
          464,
          465,
          466,
          467,
          468,
          469,
          470,
          471,
          472,
          473,
          474,
          475,
          476,
          477,
          478,
          479,
          480,
          481,
          482,
          483,
          484,
          485,
          486,
          487,
          488,
          489,
          490,
          491,
          492,
          493,
          494,
          495,
          496,
          497,
          498,
          499,
          500,
          501,
          502,
          503,
          504,
          505,
          506,
          507,
          508,
          509,
          510,
          511,
          512,
          513,
          514,
          515,
          516,
          517,
          518,
          519,
          520,
          521,
          522,
          523,
          524,
          525,
          526,
          527,
          528,
          529,
          530,
          531,
          532,
          533,
          534,
          535,
          536,
          537,
          538,
          539,
          540,
          541,
          542,
          543,
          544,
          545,
          546,
          547,
          548,
          549,
          550,
          551,
          552,
          553,
          554,
          555,
          556,
          557,
          558,
          559,
          560,
          561,
          562,
          563,
          564,
          565,
          566,
          567,
          568,
          569,
          570,
          571,
          572,
          573,
          574,
          575,
          576,
          577,
          578,
          579,
          580,
          581,
          582,
          583,
          584,
          585,
          586,
          587,
          588,
          589,
          590,
          591,
          592,
          593,
          594,
          595,
          596,
          597,
          598,
          599,
          600,
          601,
          602,
          603,
          604,
          605,
          606,
          607,
          608,
          609,
          610,
          611,
          612,
          613,
          614,
          615,
          616,
          617,
          618,
          619,
          620,
          621,
          622,
          623,
          624,
          625,
          626,
          627,
          628,
          629,
          630,
          631,
          632,
          633,
          634,
          635,
          636,
          637,
          638,
          639,
          640,
          641,
          642,
          643,
          644,
          645,
          646,
          647,
          648,
          649,
          650,
          651,
          652,
          653,
          654,
          655,
          656,
          657,
          658,
          659,
          660,
          661,
          662,
          663,
          664,
          665,
          666,
          667,
          668,
          669,
          670,
          671,
          672,
          673,
          674,
          675,
          676,
          677,
          678,
          679,
          680,
          681,
          682,
          683,
          684,
          685,
          686,
          687,
          688,
          689,
          690,
          691,
          692,
          693,
          694,
          695,
          696,
          697,
          698,
          699,
          700,
          701,
          702,
          703,
          704,
          705,
          706,
          707,
          708,
          709,
          710,
          711,
          712,
          713,
          714,
          715,
          716,
          717,
          718,
          719,
          720,
          721,
          722,
          723,
          724,
          725,
          726,
          727,
          728,
          729,
          730,
          731,
          732,
          733,
          734,
          735,
          736,
          737,
          738,
          739,
          740,
          741,
          742,
          743,
          744,
          745,
          746,
          747,
          748,
          749,
          750,
          751,
          752,
          753,
          754,
          755,
          756,
          757,
          758,
          759,
          760,
          761,
          762,
          763,
          764,
          765,
          766,
          767,
          768,
          769,
          770,
          771,
          772,
          773,
          774,
          775,
          776,
          777,
          778,
          779,
          780,
          781,
          782,
          783,
          784,
          785,
          786,
          787,
          788,
          789,
          790,
          791,
          792,
          793,
          794,
          795,
          796,
          797,
          798,
          799,
          800,
          801,
          802,
          803,
          804,
          805,
          806,
          807,
          808,
          809,
          810,
          811,
          812,
          813,
          814,
          815,
          816,
          817,
          818,
          819,
          820,
          821,
          822,
          823,
          824,
          825,
          826,
          827,
          828,
          829,
          830,
          831,
          832,
          833,
          834,
          835,
          836,
          837,
          838,
          839,
          840,
          841,
          842,
          843,
          844,
          845,
          846,
          847,
          848,
          849,
          850,
          851,
          852,
          853,
          854,
          855,
          856,
          857,
          858,
          859,
          860,
          861,
          862,
          863,
          864,
          865,
          866,
          867,
          868,
          869,
          870,
          871,
          872,
          873,
          874,
          875,
          876,
          877,
          878,
          879,
          880,
          881,
          882,
          883,
          884,
          885,
          886,
          887,
          888,
          889,
          890,
          891,
          892,
          893,
          894,
          895,
          896,
          897,
          898,
          899,
          900,
          901,
          902,
          903,
          904,
          905,
          906,
          907,
          908,
          909,
          910,
          911,
          912,
          913,
          914,
          915,
          916,
          917,
          918,
          919,
          920,
          921,
          922,
          923,
          924,
          925,
          926,
          927,
          928,
          929,
          930,
          931,
          932,
          933,
          934,
          935,
          936,
          937,
          938,
          939,
          940,
          941,
          942,
          943,
          944,
          945,
          946,
          947,
          948,
          949,
          950,
          951,
          952,
          953,
          954,
          955,
          956,
          957,
          958,
          959,
          960,
          961,
          962,
          963,
          964,
          965,
          966,
          967,
          968,
          969,
          970,
          971,
          972,
          973,
          974,
          975,
          976,
          977,
          978,
          979,
          980,
          981,
          982,
          983,
          984,
          985,
          986,
          987,
          988,
          989,
          990,
          991,
          992,
          993,
          994,
          995,
          996,
          997,
          998,
          999,
          1000
         ],
         "xaxis": "x",
         "y": [
          0.0,
          7.774829987651061,
          10.677486546369886,
          12.02274214060942,
          12.86877970529441,
          13.553412388265485,
          14.184490068157288,
          14.796451536605048,
          15.400300558798252,
          15.999559701901301,
          16.595363266479158,
          17.188083100212975,
          17.77784760568348,
          18.364707423151614,
          18.948688321606877,
          19.529808083376707,
          20.108081894420547,
          20.683524065299334,
          21.256148580787553,
          21.82596927555243,
          22.39299989046167,
          22.957254090783163,
          23.518745472218452,
          24.077487563051225,
          24.633493825054558,
          25.18677765400081,
          25.73735238004361,
          26.285231268057917,
          26.830427517965653,
          27.37295426505565,
          27.912824580300736,
          28.450051470672836,
          28.98464787945642,
          29.51662668656036,
          30.04600070882824,
          30.572782700347165,
          31.09698535275503,
          31.61862129554631,
          32.13770309637633,
          32.65424326136405,
          33.1682542353934,
          33.67974840241307,
          34.188738085734904,
          34.6952355483308,
          35.199252993128134,
          35.7008025633038,
          36.19989634257675,
          36.69654635549912,
          37.19076456774596,
          37.682562886403474,
          38.171953160255946,
          38.65894718007119,
          39.1435566788846,
          39.62579333228187,
          40.10566875868028,
          40.58319451960858,
          41.058382119985595,
          41.53124300839736,
          42.00178857737299,
          42.47003016365913,
          42.9359790484931,
          43.399646457874695,
          43.861043562836635,
          44.32018147971371,
          44.77707127041063,
          45.231723942668495,
          45.68415045033004,
          46.1343616936035,
          46.582368519325286,
          47.02818172122126,
          47.47181204016681,
          47.91327016444563,
          48.35256673000722,
          48.78971232072314,
          49.22471746864202,
          49.657592654243274,
          50.08834830668963,
          50.51699480407839,
          50.94354247369145,
          51.36800159224416,
          51.79038238613287,
          52.21069503168132,
          52.62894965538584,
          53.0451563341593,
          53.45932509557392,
          53.87146591810282,
          54.28158873136047,
          54.68970341634191,
          55.095819805660774,
          55.49994768378625,
          55.90209678727877,
          56.3022768050246,
          56.70049737846926,
          57.096768101849854,
          57.49109852242618,
          57.88349814071076,
          58.273976410697756,
          58.66254274009071,
          59.049206490529215,
          59.43397697781448,
          59.81686347213375,
          60.197875198283654,
          60.57702133589247,
          60.95431101964127,
          61.329753339484014,
          61.70335734086655,
          62.07513202494453,
          62.44508634880029,
          62.81322922565864,
          63.17956952510161,
          63.54411607328216,
          63.906877653136796,
          64.26786300459719,
          64.62708082480077,
          64.98453976830021,
          65.34024844727199,
          65.69421543172386,
          66.04644924970134,
          66.39695838749313,
          66.74575128983564,
          67.0928363601164,
          67.43822196057651,
          67.78191641251217,
          68.12392799647513,
          68.46426495247215,
          68.80293548016357,
          69.13994773906087,
          69.47530984872326,
          69.80902988895322,
          70.14111589999129,
          70.47157588270969,
          70.8004177988051,
          71.12764957099051,
          71.45327908318609,
          71.7773141807091,
          72.09976267046295,
          72.42063232112527,
          72.73993086333508,
          73.05766598987904,
          73.37384535587681,
          73.68847657896545,
          74.00156723948297,
          74.31312488065096,
          74.62315700875634,
          74.93167109333217,
          75.23867456733765,
          75.54417482733719,
          75.84817923367858,
          76.15069511067038,
          76.45172974675836,
          76.75129039470106,
          77.04938427174457,
          77.34601855979643,
          77.64120040559861,
          77.93493692089973,
          78.22723518262639,
          78.51810223305368,
          78.80754507997484,
          79.09557069687011,
          79.38218602307472,
          79.6673979639461,
          79.95121339103024,
          80.23363914222722,
          80.514682021956,
          80.79434880131834,
          81.0726462182619,
          81.34958097774262,
          81.62515975188626,
          81.89938918014911,
          82.17227586947801,
          82.44382639446947,
          82.71404729752811,
          82.98294508902427,
          83.25052624745086,
          83.51679721957947,
          83.78176442061567,
          84.04543423435355,
          84.30781301332955,
          84.56890707897553,
          84.828722721771,
          85.08726620139478,
          85.3445437468757,
          85.60056155674276,
          85.85532579917444,
          86.10884261214728,
          86.36111810358382,
          86.6121583514997,
          86.86196940415013,
          87.1105572801756,
          87.35792796874688,
          87.60408742970934,
          87.8490415937265,
          88.09279636242293,
          88.33535760852648,
          88.5767311760097,
          88.81692288023068,
          89.05593850807314,
          89.2937838180859,
          89.53046454062152,
          89.76598637797449,
          90.00035500451847,
          90.23357606684313,
          90.46565518389012,
          90.69659794708846,
          90.92640992048928,
          91.15509664089981,
          91.38266361801686,
          91.60911633455949,
          91.83446024640114,
          92.05870078270108,
          92.28184334603522,
          92.50389331252623,
          92.72485603197312,
          92.94473682798008,
          93.16354099808478,
          93.381273813886,
          93.5979405211706,
          93.81354634003995,
          94.02809646503569,
          94.24159606526483,
          94.45405028452437,
          94.66546424142516,
          94.87584302951524,
          95.0851917174026,
          95.29351534887722,
          95.50081894303267,
          95.70710749438697,
          95.91238597300296,
          96.116659324608,
          96.31993247071317,
          96.52221030873186,
          96.72349771209768,
          96.92379953038197,
          97.12312058941056,
          97.3214656913801,
          97.51883961497369,
          97.71524711547609,
          97.91069292488824,
          98.10518175204126,
          98.29871828270994,
          98.4913071797256,
          98.68295308308842,
          98.87366061007928,
          99.06343435537096,
          99.25227889113883,
          99.44019876717107,
          99.62719851097822,
          99.81328262790228,
          99.99845560122527,
          100.18272189227726,
          100.36608594054377,
          100.54855216377285,
          100.73012495808143,
          100.91080869806127,
          101.09060773688434,
          101.2695264064077,
          101.44756901727791,
          101.62473985903482,
          101.80104320021493,
          101.97648328845429,
          102.15106435059076,
          102.32479059276591,
          102.4976662005263,
          102.66969533892437,
          102.84088215261876,
          103.01123076597416,
          103.18074528316072,
          103.34942978825288,
          103.5172883453278,
          103.68432499856326,
          103.85054377233509,
          104.01594867131415,
          104.1805436805628,
          104.34433276563092,
          104.50731987265141,
          104.66950892843532,
          104.83090384056645,
          104.99150849749545,
          105.15132676863354,
          105.31036250444573,
          105.46861953654361,
          105.6261016777776,
          105.78281272232886,
          105.9387564458007,
          106.09393660530957,
          106.24835693957549,
          106.40202116901223,
          106.55493299581688,
          106.70709610405908,
          106.85851415976973,
          107.00919081102938,
          107.15912968805611,
          107.30833440329293,
          107.45680855149489,
          107.60455570981563,
          107.75157943789361,
          107.89788327793785,
          108.04347075481327,
          108.18834537612561,
          108.33251063230594,
          108.47596999669477,
          108.61872692562574,
          108.76078485850881,
          108.90214721791325,
          109.04281740965003,
          109.18279882285384,
          109.32209483006483,
          109.4607087873098,
          109.59864403418308,
          109.735903893927,
          109.87249167351193,
          110.00841066371596,
          110.1436641392042,
          110.27825535860767,
          110.4121875646018,
          110.54546398398455,
          110.67808782775418,
          110.8100622911866,
          110.94139055391231,
          111.0720757799931,
          111.20212111799819,
          111.33152970108013,
          111.46030464705026,
          111.5884490584539,
          111.71596602264499,
          111.84285861186056,
          111.9691298832947,
          112.09478287917224,
          112.21982062682204,
          112.34424613874992,
          112.46806241271125,
          112.59127243178315,
          112.71387916443642,
          112.835885564607,
          112.95729457176712,
          113.07810911099622,
          113.19833209305132,
          113.3179664144372,
          113.43701495747615,
          113.55548059037748,
          113.67336616730657,
          113.7906745284536,
          113.90740850010206,
          114.02357089469682,
          114.13916451091183,
          114.25419213371762,
          114.36865653444839,
          114.48256047086872,
          114.59590668724006,
          114.70869791438686,
          114.82093686976232,
          114.9326262575139,
          115.04376876854845,
          115.15436708059701,
          115.26442385827941,
          115.3739417531684,
          115.48292340385352,
          115.59137143600475,
          115.69928846243567,
          115.80667708316652,
          115.91353988548673,
          116.01987944401732,
          116.12569832077293,
          116.23099906522353,
          116.33578421435584,
          116.44005629273447,
          116.54381781256272,
          116.64707127374314,
          116.74981916393772,
          116.85206395862785,
          116.95380812117396,
          117.05505410287486,
          117.1558043430268,
          117.25606126898225,
          117.35582729620837,
          117.45510482834521,
          117.55389625726362,
          117.65220396312286,
          117.75003031442799,
          117.84737766808689,
          117.94424836946708,
          118.04064475245215,
          118.1365691394981,
          118.23202384168924,
          118.32701115879382,
          118.42153337931954,
          118.51559278056861,
          118.60919162869266,
          118.70233217874728,
          118.79501667474644,
          118.88724734971646,
          118.9790264257499,
          119.07035611405898,
          119.161238615029,
          119.25167611827125,
          119.34167080267576,
          119.43122483646388,
          119.52034037724043,
          119.60901957204571,
          119.69726455740728,
          119.78507745939136,
          119.87246039365408,
          119.95941546549248,
          120.04594476989519,
          120.13205039159291,
          120.2177344051087,
          120.30299887480786,
          120.38784585494773,
          120.47227738972717,
          120.55629551333583,
          120.63990225000312,
          120.723099614047,
          120.8058896099225,
          120.88827423227005,
          120.97025546596349,
          121.0518352861579,
          121.13301565833721,
          121.21379853836156,
          121.29418587251435,
          121.37417959754923,
          121.4537816407367,
          121.53299391991054,
          121.61181834351409,
          121.6902568106461,
          121.76831121110664,
          121.84598342544247,
          121.92327532499249,
          122.00018877193271,
          122.07672561932122,
          122.15288771114275,
          122.22867688235314,
          122.30409495892354,
          122.37914375788439,
          122.45382508736922,
          122.52814074665822,
          122.60209252622154,
          122.67568220776246,
          122.74891156426034,
          122.82178236001329,
          122.8942963506807,
          122.96645528332557,
          123.03826089645652,
          123.10971492006975,
          123.18081907569069,
          123.25157507641548,
          123.32198462695223,
          123.39204942366214,
          123.4617711546003,
          123.53115149955642,
          123.60019213009525,
          123.6688947095969,
          123.73726089329689,
          123.80529232832602,
          123.87299065375008,
          123.94035750060932,
          124.00739449195777,
          124.0741032429023,
          124.14048536064158,
          124.20654244450476,
          124.27227608599004,
          124.337687868803,
          124.40277936889474,
          124.46755215449987,
          124.53200778617428,
          124.59614781683273,
          124.65997379178631,
          124.72348724877962,
          124.78668971802783,
          124.84958272225356,
          124.91216777672355,
          124.9744463892852,
          125.03642006040286,
          125.098090283194,
          125.15945854346516,
          125.2205263197478,
          125.28129508333387,
          125.34176629831127,
          125.40194142159913,
          125.46182190298293,
          125.5214091851494,
          125.58070470372127,
          125.63970988729189,
          125.69842615745964,
          125.75685492886218,
          125.81499760921052,
          125.87285559932293,
          125.93043029315874,
          125.98772307785184,
          126.04473533374419,
          126.101468434419,
          126.1579237467339,
          126.21410263085379,
          126.27000644028365,
          126.32563652190117,
          126.38099421598916,
          126.43608085626788,
          126.49089776992713,
          126.54544627765827,
          126.59972769368599,
          126.65374332580004,
          126.70749447538665,
          126.76098243745997,
          126.81420850069323,
          126.86717394744977,
          126.91988005381398,
          126.97232808962202,
          127.0245193184924,
          127.07645499785643,
          127.12813637898856,
          127.17956470703646,
          127.23074122105108,
          127.28166715401643,
          127.33234373287937,
          127.3827721785791,
          127.43295370607662,
          127.48288952438398,
          127.53258083659341,
          127.58202883990633,
          127.63123472566215,
          127.68019967936702,
          127.72892488072235,
          127.77741150365325,
          127.82566071633684,
          127.87367368123034,
          127.92145155509913,
          127.96899548904457,
          128.0163066285318,
          128.06338611341724,
          128.11023507797614,
          128.15685465092992,
          128.20324595547322,
          128.24941010930115,
          128.2953482246361,
          128.34106140825455,
          128.38655076151377,
          128.43181738037833,
          128.4768623554465,
          128.5216867719766,
          128.56629170991297,
          128.6106782439122,
          128.65484744336888,
          128.6988003724414,
          128.74253809007766,
          128.78606165004047,
          128.82937210093297,
          128.87247048622393,
          128.9153578442729,
          128.95803520835517,
          129.0005036066867,
          129.04276406244887,
          129.0848175938132,
          129.12666521396577,
          129.1683079311317,
          129.20974674859946,
          129.25098266474498,
          129.29201667305574,
          129.33284976215472,
          129.37348291582418,
          129.41391711302938,
          129.45415332794218,
          129.4941925299645,
          129.53403568375165,
          129.57368374923564,
          129.6131376816482,
          129.6523984315439,
          129.691466944823,
          129.73034416275425,
          129.76903102199756,
          129.80752845462655,
          129.84583738815107,
          129.88395874553947,
          129.9218934452409,
          129.9596424012074,
          129.9972065229159,
          130.03458671539016,
          130.07178387922266,
          130.1087989105961,
          130.1456327013052,
          130.182286138778,
          130.21876010609742,
          130.25505548202236,
          130.291173141009,
          130.32711395323187,
          130.3628787846047,
          130.3984684968014,
          130.43388394727674,
          130.46912598928708,
          130.50419547191083,
          130.53909324006904,
          130.57382013454563,
          130.60837699200772,
          130.64276464502578,
          130.67698392209363,
          130.7110356476485,
          130.7449206420908,
          130.77863972180396,
          130.81219369917403,
          130.84558338260933,
          130.87880957655983,
          130.91187308153664,
          130.94477469413118,
          130.9775152070345,
          131.01009540905625,
          131.0425160851438,
          131.07477801640107,
          131.10688198010737,
          131.13882874973615,
          131.17061909497363,
          131.2022537817373,
          131.23373357219447,
          131.26505922478046,
          131.29623149421707,
          131.32725113153066,
          131.35811888407025,
          131.3888354955255,
          131.41940170594475,
          131.44981825175267,
          131.48008586576813,
          131.51020527722184,
          131.54017721177388,
          131.5700023915312,
          131.59968153506506,
          131.62921535742822,
          131.65860457017234,
          131.68784988136497,
          131.71695199560668,
          131.74591161404808,
          131.77472943440662,
          131.80340615098342,
          131.83194245468007,
          131.8603390330152,
          131.88859657014106,
          131.91671574686004,
          131.944697240641,
          131.9725417256357,
          132.0002498726949,
          132.02782234938465,
          132.05525982000233,
          132.08256294559263,
          132.1097323839635,
          132.136768789702,
          132.16367281419005,
          132.1904451056202,
          132.21708630901108,
          132.24359706622315,
          132.26997801597398,
          132.29622979385374,
          132.32235303234054,
          132.34834836081558,
          132.37421640557832,
          132.39995778986167,
          132.4255731338469,
          132.45106305467866,
          132.4764281664797,
          132.50166908036593,
          132.52678640446086,
          132.55178074391046,
          132.5766527008976,
          132.60140287465663,
          132.62603186148786,
          132.6505402547718,
          132.6749286449836,
          132.6991976197071,
          132.72334776364917,
          132.74737965865373,
          132.77129388371569,
          132.79509101499502,
          132.81877162583055,
          132.8423362867538,
          132.86578556550276,
          132.88912002703555,
          132.91234023354397,
          132.93544674446719,
          132.95844011650505,
          132.9813209036316,
          133.0040896571084,
          133.02674692549783,
          133.04929325467626,
          133.07172918784724,
          133.09405526555457,
          133.11627202569534,
          133.13838000353283,
          133.16037973170953,
          133.1822717402598,
          133.20405655662285,
          133.22573470565524,
          133.24730670964365,
          133.26877308831746,
          133.29013435886117,
          133.31139103592702,
          133.33254363164724,
          133.35359265564648,
          133.37453861505406,
          133.39538201451617,
          133.4161233562081,
          133.4367631398462,
          133.45730186270006,
          133.47774001960445,
          133.4980781029712,
          133.51831660280106,
          133.5384560066956,
          133.5584967998689,
          133.57843946515914,
          133.5982844830404,
          133.6180323316342,
          133.63768348672087,
          133.65723842175123,
          133.67669760785785,
          133.69606151386643,
          133.71533060630713,
          133.73450534942577,
          133.75358620519506,
          133.7725736333257,
          133.7914680912774,
          133.81027003427008,
          133.8289799152946,
          133.84759818512387,
          133.86612529232357,
          133.88456168326306,
          133.9029078021261,
          133.9211640909215,
          133.93933098949387,
          133.95740893553412,
          133.9753983645901,
          133.99329971007697,
          134.01111340328777,
          134.0288398734037,
          134.0464795475046,
          134.06403285057903,
          134.08150020553475,
          134.09888203320872,
          134.11617875237735,
          134.13339077976653,
          134.1505185300617,
          134.1675624159178,
          134.18452284796933,
          134.20140023484004,
          134.21819498315296,
          134.2349074975401,
          134.25153818065226,
          134.2680874331687,
          134.28455565380673,
          134.30094323933145,
          134.3172505845652,
          134.33347808239708,
          134.34962612379252,
          134.3656950978026,
          134.38168539157337,
          134.39759739035537,
          134.41343147751272,
          134.42918803453247,
          134.44486744103372,
          134.46047007477685,
          134.4759963116725,
          134.49144652579076,
          134.5068210893701,
          134.52212037282638,
          134.53734474476173,
          134.55249457197343,
          134.56757021946282,
          134.582572050444,
          134.5975004263527,
          134.6123557068548,
          134.6271382498552,
          134.64184841150632,
          134.6564865462167,
          134.6710530066596,
          134.6855481437814,
          134.69997230681014,
          134.71432584326385,
          134.728609098959,
          134.7428224180188,
          134.75696614288148,
          134.7710406143086,
          134.78504617139313,
          134.7989831515678,
          134.81285189061305,
          134.82665272266524,
          134.84038598022468,
          134.85405199416357,
          134.86765109373405,
          134.88118360657614,
          134.89464985872556,
          134.90805017462165,
          134.92138487711514,
          134.93465428747595,
          134.94785872540098,
          134.9609985090217,
          134.97407395491192,
          134.98708537809534,
          135.00003309205323,
          135.0129174087319,
          135.02573863855022,
          135.03849709040716,
          135.05119307168917,
          135.06382688827762,
          135.07639884455617,
          135.08890924341807,
          135.10135838627352,
          135.11374657305683,
          135.1260741022338,
          135.1383412708087,
          135.15054837433166,
          135.16269570690562,
          135.1747835611935,
          135.18681222842517,
          135.19878199840457,
          135.21069315951664,
          135.22254599873423,
          135.2343408016251,
          135.24607785235875,
          135.25775743371324,
          135.26937982708205,
          135.28094531248084,
          135.2924541685542,
          135.30390667258237,
          135.31530310048788,
          135.3266437268423,
          135.3379288248727,
          135.3491586664684,
          135.3603335221874,
          135.37145366126293,
          135.38251935160994,
          135.3935308598316,
          135.40448845122563,
          135.4153923897908,
          135.4262429382332,
          135.4370403579726,
          135.44778490914874,
          135.45847685062765,
          135.46911644000784,
          135.4797039336265,
          135.49023958656565,
          135.5007236526584,
          135.51115638449494,
          135.5215380334287,
          135.53186884958237,
          135.54214908185395,
          135.5523789779227,
          135.56255878425517,
          135.5726887461111,
          135.58276910754935,
          135.59280011143375,
          135.60278199943897,
          135.61271501205638,
          135.62259938859978,
          135.63243536721117,
          135.64222318486654,
          135.6519630773815,
          135.66165527941712,
          135.67130002448536,
          135.68089754495486,
          135.69044807205648,
          135.6999518358889,
          135.7094090654241,
          135.71881998851296,
          135.7281848318907,
          135.73750382118234,
          135.74677718090817,
          135.7560051344891,
          135.76518790425212,
          135.7743257114356,
          135.78341877619465,
          135.79246731760637,
          135.80147155367519,
          135.8104317013381,
          135.81934797646994,
          135.82822059388843,
          135.83704976735953,
          135.8458357096025,
          135.85457863229504,
          135.86327874607838,
          135.87193626056236,
          135.8805513843305,
          135.889124324945,
          135.89765528895174,
          135.90614448188532,
          135.9145921082739,
          135.92299837164418,
          135.9313634745264,
          135.93968761845903,
          135.94797100399376,
          135.9562138307003,
          135.96441629717123,
          135.97257860102664,
          135.98070093891909,
          135.98878350653817,
          135.99682649861535,
          136.00483010892862,
          136.01279453030708,
          136.02071995463575,
          136.02860657286004,
          136.03645457499047,
          136.04426415010713,
          136.05203548636433,
          136.0597687709951,
          136.0674641903157,
          136.07512192973007,
          136.0827421737344,
          136.0903251059215,
          136.0978709089852,
          136.1053797647248,
          136.11285185404947,
          136.12028735698252,
          136.1276864526658,
          136.1350493193641,
          136.1423761344692,
          136.14966707450444,
          136.15692231512872,
          136.16414203114093,
          136.171326396484,
          136.17847558424924,
          136.18558976668035,
          136.19266911517772,
          136.19971380030248,
          136.20672399178062,
          136.21369985850706,
          136.22064156854975,
          136.22754928915376,
          136.23442318674518,
          136.24126342693526,
          136.24807017452437,
          136.2548435935059,
          136.26158384707028,
          136.2682910976089,
          136.27496550671802,
          136.2816072352026,
          136.28821644308036,
          136.29479328958539,
          136.30133793317214,
          136.30785053151922,
          136.31433124153318,
          136.3207802193523,
          136.32719762035026,
          136.3335835991401,
          136.33993830957772,
          136.3462619047657,
          136.35255453705696,
          136.35881635805848,
          136.36504751863484,
          136.371248168912,
          136.37741845828077,
          136.38355853540057,
          136.38966854820282,
          136.39574864389468,
          136.4017989689625,
          136.4078196691754,
          136.41381088958872,
          136.41977277454754,
          136.42570546769022,
          136.43160911195176,
          136.43748384956731,
          136.44332982207558,
          136.44914717032225,
          136.45493603446334,
          136.46069655396866,
          136.46642886762507,
          136.47213311353988,
          136.4778094291442,
          136.48345795119621,
          136.48907881578444,
          136.4946721583311,
          136.50023811359532,
          136.50577681567634,
          136.5112883980169,
          136.51677299340625,
          136.52223073398352,
          136.5276617512408,
          136.53306617602632,
          136.53844413854767,
          136.54379576837488,
          136.5491211944435,
          136.55442054505784,
          136.55969394789392,
          136.56494153000264,
          136.5701634178128,
          136.57535973713414,
          136.58053061316036,
          136.58567617047225,
          136.5907965330405,
          136.59589182422886,
          136.600962166797,
          136.6060076829035,
          136.61102849410887,
          136.61602472137832,
          136.62099648508485,
          136.625943905012,
          136.63086710035685,
          136.6357661897328,
          136.6406412911725,
          136.6454925221306,
          136.65031999948678,
          136.65512383954828,
          136.65990415805294,
          136.6646610701719,
          136.66939469051232,
          136.67410513312026,
          136.67879251148332,
          136.68345693853345,
          136.6880985266496,
          136.6927173876605
         ],
         "yaxis": "y",
         "type": "scattergl"
        }
       ],
       "layout": {
        "template": {
         "data": {
          "histogram2dcontour": [
           {
            "type": "histogram2dcontour",
            "colorbar": {
             "outlinewidth": 0,
             "tickcolor": "rgb(36,36,36)",
             "ticklen": 8,
             "ticks": "outside",
             "tickwidth": 2
            },
            "colorscale": [
             [
              0.0,
              "rgb(2,4,25)"
             ],
             [
              0.06274509803921569,
              "rgb(24,15,41)"
             ],
             [
              0.12549019607843137,
              "rgb(47,23,57)"
             ],
             [
              0.18823529411764706,
              "rgb(71,28,72)"
             ],
             [
              0.25098039215686274,
              "rgb(97,30,82)"
             ],
             [
              0.3137254901960784,
              "rgb(123,30,89)"
             ],
             [
              0.3764705882352941,
              "rgb(150,27,91)"
             ],
             [
              0.4392156862745098,
              "rgb(177,22,88)"
             ],
             [
              0.5019607843137255,
              "rgb(203,26,79)"
             ],
             [
              0.5647058823529412,
              "rgb(223,47,67)"
             ],
             [
              0.6274509803921569,
              "rgb(236,76,61)"
             ],
             [
              0.6901960784313725,
              "rgb(242,107,73)"
             ],
             [
              0.7529411764705882,
              "rgb(244,135,95)"
             ],
             [
              0.8156862745098039,
              "rgb(245,162,122)"
             ],
             [
              0.8784313725490196,
              "rgb(246,188,153)"
             ],
             [
              0.9411764705882353,
              "rgb(247,212,187)"
             ],
             [
              1.0,
              "rgb(250,234,220)"
             ]
            ]
           }
          ],
          "choropleth": [
           {
            "type": "choropleth",
            "colorbar": {
             "outlinewidth": 0,
             "tickcolor": "rgb(36,36,36)",
             "ticklen": 8,
             "ticks": "outside",
             "tickwidth": 2
            }
           }
          ],
          "histogram2d": [
           {
            "type": "histogram2d",
            "colorbar": {
             "outlinewidth": 0,
             "tickcolor": "rgb(36,36,36)",
             "ticklen": 8,
             "ticks": "outside",
             "tickwidth": 2
            },
            "colorscale": [
             [
              0.0,
              "rgb(2,4,25)"
             ],
             [
              0.06274509803921569,
              "rgb(24,15,41)"
             ],
             [
              0.12549019607843137,
              "rgb(47,23,57)"
             ],
             [
              0.18823529411764706,
              "rgb(71,28,72)"
             ],
             [
              0.25098039215686274,
              "rgb(97,30,82)"
             ],
             [
              0.3137254901960784,
              "rgb(123,30,89)"
             ],
             [
              0.3764705882352941,
              "rgb(150,27,91)"
             ],
             [
              0.4392156862745098,
              "rgb(177,22,88)"
             ],
             [
              0.5019607843137255,
              "rgb(203,26,79)"
             ],
             [
              0.5647058823529412,
              "rgb(223,47,67)"
             ],
             [
              0.6274509803921569,
              "rgb(236,76,61)"
             ],
             [
              0.6901960784313725,
              "rgb(242,107,73)"
             ],
             [
              0.7529411764705882,
              "rgb(244,135,95)"
             ],
             [
              0.8156862745098039,
              "rgb(245,162,122)"
             ],
             [
              0.8784313725490196,
              "rgb(246,188,153)"
             ],
             [
              0.9411764705882353,
              "rgb(247,212,187)"
             ],
             [
              1.0,
              "rgb(250,234,220)"
             ]
            ]
           }
          ],
          "heatmap": [
           {
            "type": "heatmap",
            "colorbar": {
             "outlinewidth": 0,
             "tickcolor": "rgb(36,36,36)",
             "ticklen": 8,
             "ticks": "outside",
             "tickwidth": 2
            },
            "colorscale": [
             [
              0.0,
              "rgb(2,4,25)"
             ],
             [
              0.06274509803921569,
              "rgb(24,15,41)"
             ],
             [
              0.12549019607843137,
              "rgb(47,23,57)"
             ],
             [
              0.18823529411764706,
              "rgb(71,28,72)"
             ],
             [
              0.25098039215686274,
              "rgb(97,30,82)"
             ],
             [
              0.3137254901960784,
              "rgb(123,30,89)"
             ],
             [
              0.3764705882352941,
              "rgb(150,27,91)"
             ],
             [
              0.4392156862745098,
              "rgb(177,22,88)"
             ],
             [
              0.5019607843137255,
              "rgb(203,26,79)"
             ],
             [
              0.5647058823529412,
              "rgb(223,47,67)"
             ],
             [
              0.6274509803921569,
              "rgb(236,76,61)"
             ],
             [
              0.6901960784313725,
              "rgb(242,107,73)"
             ],
             [
              0.7529411764705882,
              "rgb(244,135,95)"
             ],
             [
              0.8156862745098039,
              "rgb(245,162,122)"
             ],
             [
              0.8784313725490196,
              "rgb(246,188,153)"
             ],
             [
              0.9411764705882353,
              "rgb(247,212,187)"
             ],
             [
              1.0,
              "rgb(250,234,220)"
             ]
            ]
           }
          ],
          "heatmapgl": [
           {
            "type": "heatmapgl",
            "colorbar": {
             "outlinewidth": 0,
             "tickcolor": "rgb(36,36,36)",
             "ticklen": 8,
             "ticks": "outside",
             "tickwidth": 2
            },
            "colorscale": [
             [
              0.0,
              "rgb(2,4,25)"
             ],
             [
              0.06274509803921569,
              "rgb(24,15,41)"
             ],
             [
              0.12549019607843137,
              "rgb(47,23,57)"
             ],
             [
              0.18823529411764706,
              "rgb(71,28,72)"
             ],
             [
              0.25098039215686274,
              "rgb(97,30,82)"
             ],
             [
              0.3137254901960784,
              "rgb(123,30,89)"
             ],
             [
              0.3764705882352941,
              "rgb(150,27,91)"
             ],
             [
              0.4392156862745098,
              "rgb(177,22,88)"
             ],
             [
              0.5019607843137255,
              "rgb(203,26,79)"
             ],
             [
              0.5647058823529412,
              "rgb(223,47,67)"
             ],
             [
              0.6274509803921569,
              "rgb(236,76,61)"
             ],
             [
              0.6901960784313725,
              "rgb(242,107,73)"
             ],
             [
              0.7529411764705882,
              "rgb(244,135,95)"
             ],
             [
              0.8156862745098039,
              "rgb(245,162,122)"
             ],
             [
              0.8784313725490196,
              "rgb(246,188,153)"
             ],
             [
              0.9411764705882353,
              "rgb(247,212,187)"
             ],
             [
              1.0,
              "rgb(250,234,220)"
             ]
            ]
           }
          ],
          "contourcarpet": [
           {
            "type": "contourcarpet",
            "colorbar": {
             "outlinewidth": 0,
             "tickcolor": "rgb(36,36,36)",
             "ticklen": 8,
             "ticks": "outside",
             "tickwidth": 2
            }
           }
          ],
          "contour": [
           {
            "type": "contour",
            "colorbar": {
             "outlinewidth": 0,
             "tickcolor": "rgb(36,36,36)",
             "ticklen": 8,
             "ticks": "outside",
             "tickwidth": 2
            },
            "colorscale": [
             [
              0.0,
              "rgb(2,4,25)"
             ],
             [
              0.06274509803921569,
              "rgb(24,15,41)"
             ],
             [
              0.12549019607843137,
              "rgb(47,23,57)"
             ],
             [
              0.18823529411764706,
              "rgb(71,28,72)"
             ],
             [
              0.25098039215686274,
              "rgb(97,30,82)"
             ],
             [
              0.3137254901960784,
              "rgb(123,30,89)"
             ],
             [
              0.3764705882352941,
              "rgb(150,27,91)"
             ],
             [
              0.4392156862745098,
              "rgb(177,22,88)"
             ],
             [
              0.5019607843137255,
              "rgb(203,26,79)"
             ],
             [
              0.5647058823529412,
              "rgb(223,47,67)"
             ],
             [
              0.6274509803921569,
              "rgb(236,76,61)"
             ],
             [
              0.6901960784313725,
              "rgb(242,107,73)"
             ],
             [
              0.7529411764705882,
              "rgb(244,135,95)"
             ],
             [
              0.8156862745098039,
              "rgb(245,162,122)"
             ],
             [
              0.8784313725490196,
              "rgb(246,188,153)"
             ],
             [
              0.9411764705882353,
              "rgb(247,212,187)"
             ],
             [
              1.0,
              "rgb(250,234,220)"
             ]
            ]
           }
          ],
          "surface": [
           {
            "type": "surface",
            "colorbar": {
             "outlinewidth": 0,
             "tickcolor": "rgb(36,36,36)",
             "ticklen": 8,
             "ticks": "outside",
             "tickwidth": 2
            },
            "colorscale": [
             [
              0.0,
              "rgb(2,4,25)"
             ],
             [
              0.06274509803921569,
              "rgb(24,15,41)"
             ],
             [
              0.12549019607843137,
              "rgb(47,23,57)"
             ],
             [
              0.18823529411764706,
              "rgb(71,28,72)"
             ],
             [
              0.25098039215686274,
              "rgb(97,30,82)"
             ],
             [
              0.3137254901960784,
              "rgb(123,30,89)"
             ],
             [
              0.3764705882352941,
              "rgb(150,27,91)"
             ],
             [
              0.4392156862745098,
              "rgb(177,22,88)"
             ],
             [
              0.5019607843137255,
              "rgb(203,26,79)"
             ],
             [
              0.5647058823529412,
              "rgb(223,47,67)"
             ],
             [
              0.6274509803921569,
              "rgb(236,76,61)"
             ],
             [
              0.6901960784313725,
              "rgb(242,107,73)"
             ],
             [
              0.7529411764705882,
              "rgb(244,135,95)"
             ],
             [
              0.8156862745098039,
              "rgb(245,162,122)"
             ],
             [
              0.8784313725490196,
              "rgb(246,188,153)"
             ],
             [
              0.9411764705882353,
              "rgb(247,212,187)"
             ],
             [
              1.0,
              "rgb(250,234,220)"
             ]
            ]
           }
          ],
          "mesh3d": [
           {
            "type": "mesh3d",
            "colorbar": {
             "outlinewidth": 0,
             "tickcolor": "rgb(36,36,36)",
             "ticklen": 8,
             "ticks": "outside",
             "tickwidth": 2
            }
           }
          ],
          "scatter": [
           {
            "fillpattern": {
             "fillmode": "overlay",
             "size": 10,
             "solidity": 0.2
            },
            "type": "scatter"
           }
          ],
          "parcoords": [
           {
            "type": "parcoords",
            "line": {
             "colorbar": {
              "outlinewidth": 0,
              "tickcolor": "rgb(36,36,36)",
              "ticklen": 8,
              "ticks": "outside",
              "tickwidth": 2
             }
            }
           }
          ],
          "scatterpolargl": [
           {
            "type": "scatterpolargl",
            "marker": {
             "colorbar": {
              "outlinewidth": 0,
              "tickcolor": "rgb(36,36,36)",
              "ticklen": 8,
              "ticks": "outside",
              "tickwidth": 2
             }
            }
           }
          ],
          "bar": [
           {
            "error_x": {
             "color": "rgb(36,36,36)"
            },
            "error_y": {
             "color": "rgb(36,36,36)"
            },
            "marker": {
             "line": {
              "color": "rgb(234,234,242)",
              "width": 0.5
             },
             "pattern": {
              "fillmode": "overlay",
              "size": 10,
              "solidity": 0.2
             }
            },
            "type": "bar"
           }
          ],
          "scattergeo": [
           {
            "type": "scattergeo",
            "marker": {
             "colorbar": {
              "outlinewidth": 0,
              "tickcolor": "rgb(36,36,36)",
              "ticklen": 8,
              "ticks": "outside",
              "tickwidth": 2
             }
            }
           }
          ],
          "scatterpolar": [
           {
            "type": "scatterpolar",
            "marker": {
             "colorbar": {
              "outlinewidth": 0,
              "tickcolor": "rgb(36,36,36)",
              "ticklen": 8,
              "ticks": "outside",
              "tickwidth": 2
             }
            }
           }
          ],
          "histogram": [
           {
            "marker": {
             "pattern": {
              "fillmode": "overlay",
              "size": 10,
              "solidity": 0.2
             }
            },
            "type": "histogram"
           }
          ],
          "scattergl": [
           {
            "type": "scattergl",
            "marker": {
             "colorbar": {
              "outlinewidth": 0,
              "tickcolor": "rgb(36,36,36)",
              "ticklen": 8,
              "ticks": "outside",
              "tickwidth": 2
             }
            }
           }
          ],
          "scatter3d": [
           {
            "type": "scatter3d",
            "line": {
             "colorbar": {
              "outlinewidth": 0,
              "tickcolor": "rgb(36,36,36)",
              "ticklen": 8,
              "ticks": "outside",
              "tickwidth": 2
             }
            },
            "marker": {
             "colorbar": {
              "outlinewidth": 0,
              "tickcolor": "rgb(36,36,36)",
              "ticklen": 8,
              "ticks": "outside",
              "tickwidth": 2
             }
            }
           }
          ],
          "scattermapbox": [
           {
            "type": "scattermapbox",
            "marker": {
             "colorbar": {
              "outlinewidth": 0,
              "tickcolor": "rgb(36,36,36)",
              "ticklen": 8,
              "ticks": "outside",
              "tickwidth": 2
             }
            }
           }
          ],
          "scatterternary": [
           {
            "type": "scatterternary",
            "marker": {
             "colorbar": {
              "outlinewidth": 0,
              "tickcolor": "rgb(36,36,36)",
              "ticklen": 8,
              "ticks": "outside",
              "tickwidth": 2
             }
            }
           }
          ],
          "scattercarpet": [
           {
            "type": "scattercarpet",
            "marker": {
             "colorbar": {
              "outlinewidth": 0,
              "tickcolor": "rgb(36,36,36)",
              "ticklen": 8,
              "ticks": "outside",
              "tickwidth": 2
             }
            }
           }
          ],
          "carpet": [
           {
            "aaxis": {
             "endlinecolor": "rgb(36,36,36)",
             "gridcolor": "white",
             "linecolor": "white",
             "minorgridcolor": "white",
             "startlinecolor": "rgb(36,36,36)"
            },
            "baxis": {
             "endlinecolor": "rgb(36,36,36)",
             "gridcolor": "white",
             "linecolor": "white",
             "minorgridcolor": "white",
             "startlinecolor": "rgb(36,36,36)"
            },
            "type": "carpet"
           }
          ],
          "table": [
           {
            "cells": {
             "fill": {
              "color": "rgb(231,231,240)"
             },
             "line": {
              "color": "white"
             }
            },
            "header": {
             "fill": {
              "color": "rgb(183,183,191)"
             },
             "line": {
              "color": "white"
             }
            },
            "type": "table"
           }
          ],
          "barpolar": [
           {
            "marker": {
             "line": {
              "color": "rgb(234,234,242)",
              "width": 0.5
             },
             "pattern": {
              "fillmode": "overlay",
              "size": 10,
              "solidity": 0.2
             }
            },
            "type": "barpolar"
           }
          ],
          "pie": [
           {
            "automargin": true,
            "type": "pie"
           }
          ]
         },
         "layout": {
          "autotypenumbers": "strict",
          "colorway": [
           "rgb(76,114,176)",
           "rgb(221,132,82)",
           "rgb(85,168,104)",
           "rgb(196,78,82)",
           "rgb(129,114,179)",
           "rgb(147,120,96)",
           "rgb(218,139,195)",
           "rgb(140,140,140)",
           "rgb(204,185,116)",
           "rgb(100,181,205)"
          ],
          "font": {
           "color": "rgb(36,36,36)"
          },
          "hovermode": "closest",
          "hoverlabel": {
           "align": "left"
          },
          "paper_bgcolor": "white",
          "plot_bgcolor": "rgb(234,234,242)",
          "polar": {
           "bgcolor": "rgb(234,234,242)",
           "angularaxis": {
            "gridcolor": "white",
            "linecolor": "white",
            "showgrid": true,
            "ticks": ""
           },
           "radialaxis": {
            "gridcolor": "white",
            "linecolor": "white",
            "showgrid": true,
            "ticks": ""
           }
          },
          "ternary": {
           "bgcolor": "rgb(234,234,242)",
           "aaxis": {
            "gridcolor": "white",
            "linecolor": "white",
            "showgrid": true,
            "ticks": ""
           },
           "baxis": {
            "gridcolor": "white",
            "linecolor": "white",
            "showgrid": true,
            "ticks": ""
           },
           "caxis": {
            "gridcolor": "white",
            "linecolor": "white",
            "showgrid": true,
            "ticks": ""
           }
          },
          "coloraxis": {
           "colorbar": {
            "outlinewidth": 0,
            "tickcolor": "rgb(36,36,36)",
            "ticklen": 8,
            "ticks": "outside",
            "tickwidth": 2
           }
          },
          "colorscale": {
           "sequential": [
            [
             0.0,
             "rgb(2,4,25)"
            ],
            [
             0.06274509803921569,
             "rgb(24,15,41)"
            ],
            [
             0.12549019607843137,
             "rgb(47,23,57)"
            ],
            [
             0.18823529411764706,
             "rgb(71,28,72)"
            ],
            [
             0.25098039215686274,
             "rgb(97,30,82)"
            ],
            [
             0.3137254901960784,
             "rgb(123,30,89)"
            ],
            [
             0.3764705882352941,
             "rgb(150,27,91)"
            ],
            [
             0.4392156862745098,
             "rgb(177,22,88)"
            ],
            [
             0.5019607843137255,
             "rgb(203,26,79)"
            ],
            [
             0.5647058823529412,
             "rgb(223,47,67)"
            ],
            [
             0.6274509803921569,
             "rgb(236,76,61)"
            ],
            [
             0.6901960784313725,
             "rgb(242,107,73)"
            ],
            [
             0.7529411764705882,
             "rgb(244,135,95)"
            ],
            [
             0.8156862745098039,
             "rgb(245,162,122)"
            ],
            [
             0.8784313725490196,
             "rgb(246,188,153)"
            ],
            [
             0.9411764705882353,
             "rgb(247,212,187)"
            ],
            [
             1.0,
             "rgb(250,234,220)"
            ]
           ],
           "sequentialminus": [
            [
             0.0,
             "rgb(2,4,25)"
            ],
            [
             0.06274509803921569,
             "rgb(24,15,41)"
            ],
            [
             0.12549019607843137,
             "rgb(47,23,57)"
            ],
            [
             0.18823529411764706,
             "rgb(71,28,72)"
            ],
            [
             0.25098039215686274,
             "rgb(97,30,82)"
            ],
            [
             0.3137254901960784,
             "rgb(123,30,89)"
            ],
            [
             0.3764705882352941,
             "rgb(150,27,91)"
            ],
            [
             0.4392156862745098,
             "rgb(177,22,88)"
            ],
            [
             0.5019607843137255,
             "rgb(203,26,79)"
            ],
            [
             0.5647058823529412,
             "rgb(223,47,67)"
            ],
            [
             0.6274509803921569,
             "rgb(236,76,61)"
            ],
            [
             0.6901960784313725,
             "rgb(242,107,73)"
            ],
            [
             0.7529411764705882,
             "rgb(244,135,95)"
            ],
            [
             0.8156862745098039,
             "rgb(245,162,122)"
            ],
            [
             0.8784313725490196,
             "rgb(246,188,153)"
            ],
            [
             0.9411764705882353,
             "rgb(247,212,187)"
            ],
            [
             1.0,
             "rgb(250,234,220)"
            ]
           ]
          },
          "xaxis": {
           "gridcolor": "white",
           "linecolor": "white",
           "showgrid": true,
           "ticks": "",
           "title": {
            "standoff": 15
           },
           "zerolinecolor": "white",
           "automargin": true
          },
          "yaxis": {
           "gridcolor": "white",
           "linecolor": "white",
           "showgrid": true,
           "ticks": "",
           "title": {
            "standoff": 15
           },
           "zerolinecolor": "white",
           "automargin": true
          },
          "scene": {
           "xaxis": {
            "backgroundcolor": "rgb(234,234,242)",
            "gridcolor": "white",
            "linecolor": "white",
            "showbackground": true,
            "showgrid": true,
            "ticks": "",
            "zerolinecolor": "white",
            "gridwidth": 2
           },
           "yaxis": {
            "backgroundcolor": "rgb(234,234,242)",
            "gridcolor": "white",
            "linecolor": "white",
            "showbackground": true,
            "showgrid": true,
            "ticks": "",
            "zerolinecolor": "white",
            "gridwidth": 2
           },
           "zaxis": {
            "backgroundcolor": "rgb(234,234,242)",
            "gridcolor": "white",
            "linecolor": "white",
            "showbackground": true,
            "showgrid": true,
            "ticks": "",
            "zerolinecolor": "white",
            "gridwidth": 2
           }
          },
          "shapedefaults": {
           "fillcolor": "rgb(67,103,167)",
           "line": {
            "width": 0
           },
           "opacity": 0.5
          },
          "annotationdefaults": {
           "arrowcolor": "rgb(67,103,167)"
          },
          "geo": {
           "bgcolor": "white",
           "landcolor": "rgb(234,234,242)",
           "subunitcolor": "white",
           "showland": true,
           "showlakes": true,
           "lakecolor": "white"
          }
         }
        },
        "xaxis": {
         "anchor": "y",
         "domain": [
          0.0,
          1.0
         ],
         "title": {
          "text": "Iterations"
         }
        },
        "yaxis": {
         "anchor": "x",
         "domain": [
          0.0,
          1.0
         ],
         "title": {
          "text": "Intercept"
         }
        },
        "legend": {
         "tracegroupgap": 0
        },
        "title": {
         "text": "Gradient Descent: Intercept"
        }
       },
       "config": {
        "plotlyServerURL": "https://plot.ly"
       }
      }
     },
     "metadata": {},
     "output_type": "display_data"
    }
   ],
   "source": [
    "figs = gda_demo(x_rand, y_rand)\n",
    "for fig in figs:\n",
    "    fig.show(\"jupyterlab\")"
   ],
   "metadata": {
    "collapsed": false,
    "pycharm": {
     "name": "#%%\n"
    }
   }
  },
  {
   "cell_type": "markdown",
   "source": [
    "### Regression Performance Test"
   ],
   "metadata": {
    "collapsed": false,
    "pycharm": {
     "name": "#%% md\n"
    }
   }
  },
  {
   "cell_type": "markdown",
   "source": [
    "#### Ordinary Least Squares Performance"
   ],
   "metadata": {
    "collapsed": false,
    "pycharm": {
     "name": "#%% md\n"
    }
   }
  },
  {
   "cell_type": "code",
   "execution_count": 22,
   "outputs": [
    {
     "name": "stdout",
     "output_type": "stream",
     "text": [
      "181 µs ± 31.7 µs per loop (mean ± std. dev. of 7 runs, 100 loops each)\n"
     ]
    }
   ],
   "source": [
    "%%timeit -n 100\n",
    "ols(x_rand, y_rand)"
   ],
   "metadata": {
    "collapsed": false,
    "pycharm": {
     "name": "#%%\n"
    }
   }
  },
  {
   "cell_type": "markdown",
   "source": [
    "#### Simple Linear Regression Performance"
   ],
   "metadata": {
    "collapsed": false,
    "pycharm": {
     "name": "#%% md\n"
    }
   }
  },
  {
   "cell_type": "code",
   "execution_count": 23,
   "outputs": [
    {
     "name": "stdout",
     "output_type": "stream",
     "text": [
      "78.7 µs ± 11.3 µs per loop (mean ± std. dev. of 7 runs, 100 loops each)\n"
     ]
    }
   ],
   "source": [
    "%%timeit -n 100\n",
    "slr(x_rand, y_rand)"
   ],
   "metadata": {
    "collapsed": false,
    "pycharm": {
     "name": "#%%\n"
    }
   }
  },
  {
   "cell_type": "markdown",
   "source": [
    "#### Gradient Descent Algorithm Performance"
   ],
   "metadata": {
    "collapsed": false,
    "pycharm": {
     "name": "#%% md\n"
    }
   }
  },
  {
   "cell_type": "code",
   "execution_count": 24,
   "outputs": [
    {
     "name": "stdout",
     "output_type": "stream",
     "text": [
      "15.3 ms ± 581 µs per loop (mean ± std. dev. of 7 runs, 100 loops each)\n"
     ]
    }
   ],
   "source": [
    "%%timeit -n 100\n",
    "gda(x_rand, y_rand)"
   ],
   "metadata": {
    "collapsed": false,
    "pycharm": {
     "name": "#%%\n"
    }
   }
  },
  {
   "cell_type": "markdown",
   "source": [
    "**Simple Linear Regression is around 2 times faster than Ordinary Least Squares**\n",
    "**Simple Linear Regression is around 200 times faster than Gradient Descent**\n",
    "Furthermore, SLR and OLS had similar accuracy, both of which were better than GDA."
   ],
   "metadata": {
    "collapsed": false,
    "pycharm": {
     "name": "#%% md\n"
    }
   }
  }
 ],
 "metadata": {
  "kernelspec": {
   "display_name": "Python 3",
   "language": "python",
   "name": "python3"
  },
  "language_info": {
   "codemirror_mode": {
    "name": "ipython",
    "version": 2
   },
   "file_extension": ".py",
   "mimetype": "text/x-python",
   "name": "python",
   "nbconvert_exporter": "python",
   "pygments_lexer": "ipython2",
   "version": "2.7.6"
  }
 },
 "nbformat": 4,
 "nbformat_minor": 0
}