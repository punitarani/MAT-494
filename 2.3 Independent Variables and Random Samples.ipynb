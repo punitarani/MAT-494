{
 "cells": [
  {
   "cell_type": "markdown",
   "metadata": {},
   "source": [
    "# 2.3 Independent Variables and Random Samples"
   ]
  },
  {
   "cell_type": "code",
   "execution_count": 1,
   "metadata": {},
   "outputs": [],
   "source": [
    "import matplotlib.pyplot as plt\n",
    "import pandas as pd\n",
    "from sklearn import datasets"
   ]
  },
  {
   "cell_type": "code",
   "execution_count": 2,
   "metadata": {},
   "outputs": [],
   "source": [
    "plt.style.use(\"seaborn-notebook\")"
   ]
  },
  {
   "cell_type": "markdown",
   "metadata": {},
   "source": [
    "## Load Linnerrud Dataset\n",
    "\n",
    "The Linnerud dataset is a multi-output regression dataset. It consists of three exercise (data) and three physiological (target) variables collected from twenty middle-aged men in a fitness club:\n",
    "* **Physiological** - CSV containing 20 observations on 3 physiological variables:\n",
    "    1. Weight\n",
    "    2. Waist\n",
    "    3. Pulse\n",
    "\n",
    "* **Exercise** - CSV containing 20 observations on 3 exercise variables:\n",
    "    1. Chins\n",
    "    2. Situps\n",
    "    3. Jumps"
   ]
  },
  {
   "cell_type": "code",
   "execution_count": 3,
   "metadata": {},
   "outputs": [
    {
     "name": "stdout",
     "output_type": "stream",
     "text": [
      "Physiological DataFrame Info\n",
      "Size:  (20, 3)\n",
      "\n",
      "Columns and Data Types:\n",
      "Weight    float64\n",
      "Waist     float64\n",
      "Pulse     float64\n",
      "dtype: object\n",
      "\n",
      "\n",
      "Exercise DataFrame Info\n",
      "Size:  (20, 3)\n",
      "\n",
      "Columns and Data Types:\n",
      "Chins     float64\n",
      "Situps    float64\n",
      "Jumps     float64\n",
      "dtype: object\n"
     ]
    }
   ],
   "source": [
    "# Linnerud Dataset\n",
    "ldata = datasets.load_linnerud(as_frame=True)\n",
    "\n",
    "# Physiological DataFrame\n",
    "pdf: pd.DataFrame = ldata.target\n",
    "# Exercise DataFrame\n",
    "edf: pd.DataFrame = ldata.data\n",
    "\n",
    "# Print DataFrame Shape, Columns and DataTypes\n",
    "print(\"Physiological DataFrame Info\")\n",
    "print(\"Size: \", pdf.shape)\n",
    "print(\"\\nColumns and Data Types:\")\n",
    "print(pdf.dtypes)\n",
    "\n",
    "print(\"\\n\\nExercise DataFrame Info\")\n",
    "print(\"Size: \", edf.shape)\n",
    "print(\"\\nColumns and Data Types:\")\n",
    "print(edf.dtypes)"
   ]
  }
 ],
 "metadata": {
  "kernelspec": {
   "display_name": "Python 3 (ipykernel)",
   "language": "python",
   "name": "python3"
  },
  "language_info": {
   "codemirror_mode": {
    "name": "ipython",
    "version": 3
   },
   "file_extension": ".py",
   "mimetype": "text/x-python",
   "name": "python",
   "nbconvert_exporter": "python",
   "pygments_lexer": "ipython3",
   "version": "3.10.5"
  }
 },
 "nbformat": 4,
 "nbformat_minor": 1
}
