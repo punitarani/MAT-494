{
 "cells": [
  {
   "cell_type": "markdown",
   "source": [
    "<a href=\"https://colab.research.google.com/github/punitarani/MAT-494/blob/master/3.4%20Logistic%20Regression.ipynb\" target=\"_parent\"><img src=\"https://colab.research.google.com/assets/colab-badge.svg\" alt=\"Open In Colab\"/></a>"
   ],
   "metadata": {
    "collapsed": false
   }
  },
  {
   "cell_type": "markdown",
   "source": [
    "# 3.4 Logistic Regression"
   ],
   "metadata": {
    "collapsed": false
   }
  },
  {
   "cell_type": "markdown",
   "source": [
    "## Logit Function\n",
    "\n",
    "The logit function is used to transform the probability of an event into a linear combination of the features.\n",
    "The logit function is defined as:\n",
    "\n",
    "$\\text{logit}(p) = \\log \\left( \\frac{p}{1-p} \\right) = \\alpha^T x$\n",
    "\n",
    "where:\n",
    "- $p$ is the probability\n",
    "- $\\alpha$ is the vector of parameters\n",
    "- $x$ is the vector of features\n",
    "\n",
    "The regression model is defined as:\n",
    "\n",
    "$\\hat{p} = \\sigma(\\alpha^T x)$\n",
    "\n",
    "where:\n",
    "- $\\hat{p}$ is the predicted probability\n",
    "- $\\sigma$ is the sigmoid function"
   ],
   "metadata": {
    "collapsed": false
   }
  },
  {
   "cell_type": "markdown",
   "source": [
    "## Sigmoid Function\n",
    "\n",
    "The sigmoid function maps the real line to the interval $[0, 1]$.\n",
    "It is defined as:\n",
    "\n",
    "$\\sigma(x) = \\frac{1}{1 + e^{-x}}$\n"
   ],
   "metadata": {
    "collapsed": false
   }
  },
  {
   "cell_type": "markdown",
   "source": [
    "## Cross-Entropy Loss\n",
    "\n",
    "The cross-entropy loss is defined as:\n",
    "\n",
    "$L(\\alpha) = - \\frac{1}{n} \\sum_{i=1}^n \\left[ y_i \\log \\hat{p}_i + (1 - y_i) \\log (1 - \\hat{p}_i) \\right]$\n",
    "\n",
    "where:\n",
    "- $y_i$ is the true label of the $i$-th sample\n",
    "- $\\hat{p}_i$ is the predicted probability for the $i$-th sample\n",
    "- $n$ is the number of samples"
   ],
   "metadata": {
    "collapsed": false
   }
  }
 ],
 "metadata": {
  "kernelspec": {
   "display_name": "Python 3",
   "language": "python",
   "name": "python3"
  },
  "language_info": {
   "codemirror_mode": {
    "name": "ipython",
    "version": 2
   },
   "file_extension": ".py",
   "mimetype": "text/x-python",
   "name": "python",
   "nbconvert_exporter": "python",
   "pygments_lexer": "ipython2",
   "version": "2.7.6"
  }
 },
 "nbformat": 4,
 "nbformat_minor": 0
}
