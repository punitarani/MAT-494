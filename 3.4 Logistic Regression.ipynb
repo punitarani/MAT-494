{
 "cells": [
  {
   "cell_type": "markdown",
   "metadata": {},
   "source": [
    "<a href=\"https://colab.research.google.com/github/punitarani/MAT-494/blob/master/3.4%20Logistic%20Regression.ipynb\" target=\"_parent\"><img src=\"https://colab.research.google.com/assets/colab-badge.svg\" alt=\"Open In Colab\"/></a>"
   ]
  },
  {
   "cell_type": "markdown",
   "metadata": {},
   "source": [
    "# 3.4 Logistic Regression"
   ]
  },
  {
   "cell_type": "code",
   "execution_count": 1,
   "metadata": {},
   "outputs": [],
   "source": [
    "import matplotlib.pyplot as plt\n",
    "import numpy as np"
   ]
  },
  {
   "cell_type": "markdown",
   "metadata": {},
   "source": [
    "## Logit Function\n",
    "\n",
    "The logit function is used to transform the probability of an event into a linear combination of the features.\n",
    "The logit function is defined as:\n",
    "\n",
    "$\\text{logit}(p) = \\log \\left( \\frac{p}{1-p} \\right) = \\alpha^T x$\n",
    "\n",
    "where:\n",
    "- $p$ is the probability\n",
    "- $\\alpha$ is the vector of parameters\n",
    "- $x$ is the vector of features\n",
    "\n",
    "The regression model is defined as:\n",
    "\n",
    "$\\hat{p} = \\sigma(\\alpha^T x)$\n",
    "\n",
    "where:\n",
    "- $\\hat{p}$ is the predicted probability\n",
    "- $\\sigma$ is the sigmoid function"
   ]
  },
  {
   "cell_type": "code",
   "execution_count": 2,
   "metadata": {},
   "outputs": [],
   "source": [
    "def logit(p):\n",
    "    \"\"\"Logit Function\"\"\"\n",
    "    return np.log(p / (1 - p))"
   ]
  },
  {
   "cell_type": "markdown",
   "metadata": {},
   "source": [
    "## Sigmoid Function\n",
    "\n",
    "The sigmoid function maps the real line to the interval $[0, 1]$.\n",
    "It is defined as:\n",
    "\n",
    "$\\sigma(x) = \\frac{1}{1 + e^{-x}}$\n"
   ]
  },
  {
   "cell_type": "code",
   "execution_count": 3,
   "metadata": {},
   "outputs": [],
   "source": [
    "def sigmoid(x):\n",
    "    \"\"\"Sigmoid Function\"\"\"\n",
    "    return 1 / (1 + np.exp(-x))"
   ]
  },
  {
   "cell_type": "code",
   "execution_count": 4,
   "metadata": {},
   "outputs": [
    {
     "data": {
      "text/plain": "<Figure size 640x480 with 1 Axes>",
      "image/png": "[encoded data removed]"
     },
     "metadata": {},
     "output_type": "display_data"
    }
   ],
   "source": [
    "X = np.arange(-10, 10, 0.001)\n",
    "Y = sigmoid(X)\n",
    "\n",
    "plt.figure()\n",
    "plt.plot(X, Y)\n",
    "plt.title('Sigmoid Function')\n",
    "plt.show()"
   ]
  },
  {
   "cell_type": "markdown",
   "metadata": {},
   "source": [
    "## Cross-Entropy Loss\n",
    "\n",
    "Cross-entropy loss is a measure of the difference between two probability distributions.\n",
    "It is used to measure the performance of a classification model.\n",
    "\n",
    "The cross-entropy loss is defined as:\n",
    "\n",
    "$L(\\alpha) = - \\frac{1}{n} \\sum_{i=1}^n \\left[ y_i \\log \\hat{p}_i + (1 - y_i) \\log (1 - \\hat{p}_i) \\right]$\n",
    "\n",
    "where:\n",
    "- $y_i$ is the true label of the $i$-th sample\n",
    "- $\\hat{p}_i$ is the predicted probability for the $i$-th sample\n",
    "- $n$ is the number of samples\n",
    "\n",
    "Gradient of Cross-Entropy Loss\n",
    "\n",
    "$\\nabla L = -\\frac{1}{n} \\sum_{i=1}^n (y_i - \\hat{p}_i) x_i$\n"
   ]
  },
  {
   "cell_type": "code",
   "execution_count": 5,
   "outputs": [],
   "source": [
    "def cross_entropy_loss(y, p):\n",
    "    \"\"\"Cross-Entropy Loss\"\"\"\n",
    "    return -np.mean(y * np.log(p) + (1 - y) * np.log(1 - p))"
   ],
   "metadata": {
    "collapsed": false
   }
  },
  {
   "cell_type": "code",
   "execution_count": 6,
   "outputs": [
    {
     "name": "stdout",
     "output_type": "stream",
     "text": [
      "0.23617255159896325\n"
     ]
    }
   ],
   "source": [
    "y = np.array([0, 1, 1, 0])\n",
    "p = np.array([0.1, 0.9, 0.8, 0.4])\n",
    "\n",
    "cel_y_p = cross_entropy_loss(y, p)\n",
    "print(cel_y_p)"
   ],
   "metadata": {
    "collapsed": false
   }
  },
  {
   "cell_type": "markdown",
   "source": [
    "## Gradient Descent\n",
    "\n",
    "The gradient descent algorithm is used to minimize the loss function.\n",
    "The gradient descent algorithm is defined as:\n",
    "\n",
    "$\\alpha^{(t+1)} = \\alpha^{(t)} - \\eta \\nabla L(\\alpha^{(t)})$\n",
    "\n",
    "where:\n",
    "- $\\alpha^{(t)}$ is the vector of parameters at iteration $t$\n",
    "- $\\eta$ is the learning rate\n",
    "- $\\nabla L(\\alpha)$ is the gradient of the loss function with respect to the parameters"
   ],
   "metadata": {
    "collapsed": false
   }
  }
 ],
 "metadata": {
  "kernelspec": {
   "display_name": "Python 3 (ipykernel)",
   "language": "python",
   "name": "python3"
  },
  "language_info": {
   "codemirror_mode": {
    "name": "ipython",
    "version": 3
   },
   "file_extension": ".py",
   "mimetype": "text/x-python",
   "name": "python",
   "nbconvert_exporter": "python",
   "pygments_lexer": "ipython3",
   "version": "3.10.5"
  }
 },
 "nbformat": 4,
 "nbformat_minor": 1
}
