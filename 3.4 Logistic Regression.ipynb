{
 "cells": [
  {
   "cell_type": "markdown",
   "source": [
    "<a href=\"https://colab.research.google.com/github/punitarani/MAT-494/blob/master/3.4%20Logistic%20Regression.ipynb\" target=\"_parent\"><img src=\"https://colab.research.google.com/assets/colab-badge.svg\" alt=\"Open In Colab\"/></a>"
   ],
   "metadata": {
    "collapsed": false
   }
  },
  {
   "cell_type": "markdown",
   "source": [
    "# 3.4 Logistic Regression"
   ],
   "metadata": {
    "collapsed": false
   }
  },
  {
   "cell_type": "markdown",
   "source": [
    "## Logit Function\n",
    "\n",
    "The logit function is used to transform the probability of an event into a linear combination of the features.\n",
    "The logit function is defined as:\n",
    "\n",
    "$\\text{logit}(p) = \\log \\left( \\frac{p}{1-p} \\right) = \\alpha^T x$\n",
    "\n",
    "where:\n",
    "- $p$ is the probability\n",
    "- $\\alpha$ is the vector of parameters\n",
    "- $x$ is the vector of features\n",
    "\n",
    "The regression model is defined as:\n",
    "\n",
    "$\\hat{p} = \\sigma(\\alpha^T x)$\n",
    "\n",
    "where:\n",
    "- $\\hat{p}$ is the predicted probability\n",
    "- $\\sigma$ is the sigmoid function\n"
   ],
   "metadata": {
    "collapsed": false
   }
  }
 ],
 "metadata": {
  "kernelspec": {
   "display_name": "Python 3",
   "language": "python",
   "name": "python3"
  },
  "language_info": {
   "codemirror_mode": {
    "name": "ipython",
    "version": 2
   },
   "file_extension": ".py",
   "mimetype": "text/x-python",
   "name": "python",
   "nbconvert_exporter": "python",
   "pygments_lexer": "ipython2",
   "version": "2.7.6"
  }
 },
 "nbformat": 4,
 "nbformat_minor": 0
}
