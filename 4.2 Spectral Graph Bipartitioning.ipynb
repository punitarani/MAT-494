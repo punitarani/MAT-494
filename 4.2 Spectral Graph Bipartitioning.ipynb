{
 "cells": [
  {
   "cell_type": "markdown",
   "source": [
    "<a href=\"https://colab.research.google.com/github/punitarani/MAT-494/blob/master/4.2%20Spectral%20Graph%20Bipartitioning.ipynb\" target=\"_parent\"><img src=\"https://colab.research.google.com/assets/colab-badge.svg\" alt=\"Open In Colab\"/></a>"
   ],
   "metadata": {
    "collapsed": false
   }
  },
  {
   "cell_type": "markdown",
   "source": [
    "# 4.2 Spectral Graph Bipartitioning\n",
    "\n",
    "Key Concepts:\n",
    "\n",
    "- Graph Partitioning\n",
    "- Raleigh Quotient\n",
    "- Balancing the Cut\n"
   ],
   "metadata": {
    "collapsed": false
   }
  },
  {
   "cell_type": "markdown",
   "source": [
    "## Graph Partitioning\n",
    "\n",
    "A **Graph Partitioning** is a way to divide a graph into two disjoint sets of nodes such that the number of edges between the two sets is minimized.\n",
    "\n",
    "$ \\text{cut}(V_1, V_2) = \\sum_{i \\in V_1, j \\in V_2} M_{ij} $\n",
    "\n",
    "### Raleigh Quotient\n",
    "\n",
    "The **Raleigh Quotient** is a measure of how well a graph can be bipartitioned.\n",
    "\n",
    "Given a graph $G = (V, E)$ with Laplacian matrix $L$ and partition vector $p$, the Raleigh Quotient is defined as:\n",
    "\n",
    "$R(p) = \\frac{p^TLp}{p^Tp} = \\frac{1}{n} \\cdot 4 \\text{cut}(V_1, V_2)$\n"
   ],
   "metadata": {
    "collapsed": false
   }
  },
  {
   "cell_type": "markdown",
   "source": [
    "## Balancing the Cut\n",
    "\n",
    "The **Balanced Cut** is a special case of graph partitioning where the two sets are of equal size and the number of edges between the two sets is minimized.\n",
    "\n",
    "In order to find the balanced cut, we can minimize the Raleigh Quotient $R(p)$.\n",
    "First, we need to define a diagonal matrix $W$. For a matrix, $w_{ii}$ is the weight for vertex $v_i$. For a subset of vertices, $w_{ii}$ is the sum of the weights of the vertices in the subset $\\sum_{i \\in V_i} w_{ii}$.\n",
    "\n",
    "Now, we can minimize the function as follows:\n",
    "\n",
    "$Q(V_1, V_2) = \\frac{\\text{cut}(V_1, V_2)}{W_{V_1}} + \\frac{\\text{cut}(V_1, V_2)}{W_{V_2}}$\n",
    "\n",
    "Favor partitions that have small cut values but are balanced.\n",
    "\n",
    "### Serialized Partition Vector\n",
    "\n",
    "$ q_i = \\begin{cases} {+ \\sqrt{\\frac{v_2}{v_1}}} & \\text{if } i \\in V_1, \\\\ {- \\sqrt{\\frac{v_1}{v_2}}} & \\text{if } i \\in V_2, \\end{cases} $\n"
   ],
   "metadata": {
    "collapsed": false
   }
  },
  {
   "cell_type": "markdown",
   "source": [
    "### Ratio and Normalized Cut\n",
    "\n",
    "One commonly used $W = diag(w_{ii})$ is to choose $w_{ii} = \\sum_k E_{ik}$, which is the sum of the weights of the edges incident to node $v_i$.\n",
    "This is called the **Degree Matrix**.\n",
    "\n",
    "#### Ratio Cut\n",
    "\n",
    "The ratio-cut objective function in defined as:\n",
    "\n",
    "$\\text{Ratio-cut}(V_1, V_2) = \\rho(S) = \\frac{\\text{cut}(V_1, V_2)}{|V_1|} + \\frac{\\text{cut}(V_1, V_2)}{|V_2|}$\n",
    "\n",
    "#### Normalized Cut\n",
    "\n",
    "The normalized-cut objective function is defined as:\n",
    "\n",
    "$\\text{Normalized-cut}(V_1, V_2) = \\eta(S) = \\frac{\\text{cut}(V_1, V_2)}{\\sum_{i \\in V_1} w_{ii}} + \\frac{\\text{cut}(V_1, V_2)}{\\sum_{i \\in V_2} w_{ii}} = 2 - S(V_1, V_2)$\n",
    "\n",
    "where $S(V_1, V_2) = \\frac{\\text{within}(V_1)}{\\sum_{i \\in V_1} w_{ii}} + \\frac{\\text{within}(V_2)}{\\sum_{i \\in V_2} w_{ii}}$\n",
    "\n",
    "where $\\text{within} (V_i) = \\sum_{j \\in V_i} w_{ij}$\n",
    "\n",
    "$S$ describes the strengths of associations within each partition.\n"
   ],
   "metadata": {
    "collapsed": false
   }
  }
 ],
 "metadata": {
  "kernelspec": {
   "display_name": "Python 3",
   "language": "python",
   "name": "python3"
  },
  "language_info": {
   "codemirror_mode": {
    "name": "ipython",
    "version": 2
   },
   "file_extension": ".py",
   "mimetype": "text/x-python",
   "name": "python",
   "nbconvert_exporter": "python",
   "pygments_lexer": "ipython2",
   "version": "2.7.6"
  }
 },
 "nbformat": 4,
 "nbformat_minor": 0
}
