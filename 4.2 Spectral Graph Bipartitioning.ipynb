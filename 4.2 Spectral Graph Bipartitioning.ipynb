{
 "cells": [
  {
   "cell_type": "markdown",
   "source": [
    "# 4.2 Spectral Graph Bipartitioning\n",
    "\n",
    "Key Concepts:\n",
    "\n",
    "- Graph Partitioning\n"
   ],
   "metadata": {
    "collapsed": false
   }
  },
  {
   "cell_type": "markdown",
   "source": [
    "## Graph Partitioning\n",
    "\n",
    "A **Graph Partitioning** is a way to divide a graph into two disjoint sets of nodes such that the number of edges between the two sets is minimized.\n",
    "\n",
    "$ \\text{cut}(V_1, V_2) = \\sum_{i \\in V_1, j \\in V_2} M_{ij} $"
   ],
   "metadata": {
    "collapsed": false
   }
  }
 ],
 "metadata": {
  "kernelspec": {
   "display_name": "Python 3",
   "language": "python",
   "name": "python3"
  },
  "language_info": {
   "codemirror_mode": {
    "name": "ipython",
    "version": 2
   },
   "file_extension": ".py",
   "mimetype": "text/x-python",
   "name": "python",
   "nbconvert_exporter": "python",
   "pygments_lexer": "ipython2",
   "version": "2.7.6"
  }
 },
 "nbformat": 4,
 "nbformat_minor": 0
}
