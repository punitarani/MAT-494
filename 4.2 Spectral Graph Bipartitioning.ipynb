{
 "cells": [
  {
   "cell_type": "markdown",
   "source": [
    "# 4.2 Spectral Graph Bipartitioning\n",
    "\n",
    "Key Concepts:\n",
    "\n",
    "- Graph Partitioning\n",
    "- Raleigh Quotient\n"
   ],
   "metadata": {
    "collapsed": false
   }
  },
  {
   "cell_type": "markdown",
   "source": [
    "## Graph Partitioning\n",
    "\n",
    "A **Graph Partitioning** is a way to divide a graph into two disjoint sets of nodes such that the number of edges between the two sets is minimized.\n",
    "\n",
    "$ \\text{cut}(V_1, V_2) = \\sum_{i \\in V_1, j \\in V_2} M_{ij} $\n",
    "\n",
    "### Raleigh Quotient\n",
    "\n",
    "The **Raleigh Quotient** is a measure of how well a graph can be bipartitioned.\n",
    "\n",
    "Given a graph $G = (V, E)$ with Laplacian matrix $L$ and partition vector $p$, the Raleigh Quotient is defined as:\n",
    "\n",
    "$R(p) = \\frac{p^TLp}{p^Tp} = \\frac{1}{n} \\cdot 4 \\text{cut}(V_1, V_2)$\n"
   ],
   "metadata": {
    "collapsed": false
   }
  },
  {
   "cell_type": "markdown",
   "source": [
    "## Balancing the Cut\n",
    "\n",
    "The **Balanced Cut** is a special case of graph partitioning where the two sets are of equal size and the number of edges between the two sets is minimized.\n",
    "\n",
    "In order to find the balanced cut, we can minimize the Raleigh Quotient $R(p)$.\n",
    "First, we need to define a diagonal matrix $W$. For a matrix, $w_{ii}$ is the weight for vertex $v_i$. For a subset of vertices, $w_{ii}$ is the sum of the weights of the vertices in the subset $\\sum_{i \\in V_i} w_{ii}$.\n",
    "\n",
    "Now, we can minimize the function as follows:\n",
    "\n",
    "$Q(V_1, V_2) = \\frac{\\text{cut}(V_1, V_2)}{W_V_1} + \\frac{\\text{cut}(V_1, V_2)}{W_V_2}$\n",
    "\n",
    "Favor partitions that have small cut values but are balanced.\n"
   ],
   "metadata": {
    "collapsed": false
   }
  }
 ],
 "metadata": {
  "kernelspec": {
   "display_name": "Python 3",
   "language": "python",
   "name": "python3"
  },
  "language_info": {
   "codemirror_mode": {
    "name": "ipython",
    "version": 2
   },
   "file_extension": ".py",
   "mimetype": "text/x-python",
   "name": "python",
   "nbconvert_exporter": "python",
   "pygments_lexer": "ipython2",
   "version": "2.7.6"
  }
 },
 "nbformat": 4,
 "nbformat_minor": 0
}
