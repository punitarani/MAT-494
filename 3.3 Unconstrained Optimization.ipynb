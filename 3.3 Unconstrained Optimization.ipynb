{
 "cells": [
  {
   "cell_type": "markdown",
   "source": [
    "<a href=\"https://colab.research.google.com/github/punitarani/MAT-494/blob/master/3.3%20Unconstrained%20Optimization.ipynb\" target=\"_parent\"><img src=\"https://colab.research.google.com/assets/colab-badge.svg\" alt=\"Open In Colab\"/></a>\n"
   ],
   "metadata": {
    "collapsed": false
   }
  },
  {
   "cell_type": "markdown",
   "source": [
    "# 3.3 Unconstrained Optimization\n",
    "\n",
    "Key Concepts\n",
    "\n",
    "- Local and Global Minimizers\n",
    "- Convexity\n",
    "- Gradient Descent"
   ],
   "metadata": {
    "collapsed": false
   }
  },
  {
   "cell_type": "markdown",
   "source": [
    "## Minimizers\n",
    "\n",
    "### Global Minimizer\n",
    "\n",
    "$f(x*) \\le f(x), \\forall x \\in R^d$\n",
    "\n",
    "Finding the global minimizer involves comparing $f(x*)$ with ever f(x) value in the input space.\n",
    "This can be a complicated process for a large input space.\n",
    "Consequently, only in limited and special cases can a $f(x*)$ be proven as the global minimizer.\n",
    "\n",
    "### Local Minimizer\n",
    "\n",
    "$f(x*) \\le f(x), \\forall x \\in B_{\\delta}(x*) \\backslash \\{x*\\}$\n",
    "\n",
    "A local minimizer finds $f(x*)$ such that it is the global minimizer in a neighborhood $N$ surrounding $x*$.\n"
   ],
   "metadata": {
    "collapsed": false
   }
  }
 ],
 "metadata": {
  "kernelspec": {
   "display_name": "Python 3",
   "language": "python",
   "name": "python3"
  },
  "language_info": {
   "codemirror_mode": {
    "name": "ipython",
    "version": 2
   },
   "file_extension": ".py",
   "mimetype": "text/x-python",
   "name": "python",
   "nbconvert_exporter": "python",
   "pygments_lexer": "ipython2",
   "version": "2.7.6"
  }
 },
 "nbformat": 4,
 "nbformat_minor": 0
}
